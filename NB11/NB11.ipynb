{
  "cells": [
    {
      "cell_type": "markdown",
      "metadata": {
        "id": "Vbd3TH8pjAhC"
      },
      "source": [
        "# Control Systems 1, NB11:  Time delays and Cascaded Control\n",
        "\n",
        "© 2024 ETH Zurich, Mark Benazet Castells, Jonas Holinger, Felix Muller, Matteo Penlington; Institute for Dynamic Systems and Control; Prof. Emilio Frazzoli\n",
        "\n",
        "This interactive notebook is designed to introduce the fundamental concepts of control systems engineering. It covers time delays, how to approximate them, and their influence on system performance. Additionally, the notebook provides a brief overview of cascaded control.\n",
        "\n",
        "Authors:\n",
        "- Jonas Holinger; jholinger@ethz.ch\n",
        "- Shubham Gupta; shugupta@ethz.ch"
      ]
    },
    {
      "cell_type": "markdown",
      "metadata": {
        "id": "TJZdQPcejXiq"
      },
      "source": [
        "# Learning Objectives\n"
      ]
    },
    {
      "cell_type": "markdown",
      "metadata": {
        "id": "uZoZ2lJAjZ4B"
      },
      "source": [
        "After completing this notebook, you should be able to:\n",
        "\n",
        "1. Understand the effects of time delays on frequency response and stability.\n",
        "2. Approximate time delays as a proper rational transfer function.\n",
        "3. Understand the effects of compensators on a system and how to implement them.\n",
        "4. Grasp the fundamentals of cascaded control.\n"
      ]
    },
    {
      "cell_type": "markdown",
      "metadata": {
        "id": "OJ3oU5vJHFnY"
      },
      "source": [
        "## Import Libraries"
      ]
    },
    {
      "cell_type": "code",
      "execution_count": 15,
      "metadata": {
        "colab": {
          "base_uri": "https://localhost:8080/"
        },
        "id": "dDEsMSKBjcn-",
        "outputId": "192ebbd3-f6c7-4d94-fd58-f31055f55a1c"
      },
      "outputs": [
        {
          "output_type": "stream",
          "name": "stdout",
          "text": [
            "Requirement already satisfied: numpy in /usr/local/lib/python3.10/dist-packages (1.26.4)\n",
            "Requirement already satisfied: matplotlib in /usr/local/lib/python3.10/dist-packages (3.8.0)\n",
            "Requirement already satisfied: scipy in /usr/local/lib/python3.10/dist-packages (1.13.1)\n",
            "Requirement already satisfied: ipywidgets in /usr/local/lib/python3.10/dist-packages (7.7.1)\n",
            "Requirement already satisfied: control in /usr/local/lib/python3.10/dist-packages (0.10.1)\n",
            "Requirement already satisfied: IPython in /usr/local/lib/python3.10/dist-packages (7.34.0)\n",
            "Requirement already satisfied: sympy in /usr/local/lib/python3.10/dist-packages (1.13.1)\n",
            "Requirement already satisfied: contourpy>=1.0.1 in /usr/local/lib/python3.10/dist-packages (from matplotlib) (1.3.1)\n",
            "Requirement already satisfied: cycler>=0.10 in /usr/local/lib/python3.10/dist-packages (from matplotlib) (0.12.1)\n",
            "Requirement already satisfied: fonttools>=4.22.0 in /usr/local/lib/python3.10/dist-packages (from matplotlib) (4.55.0)\n",
            "Requirement already satisfied: kiwisolver>=1.0.1 in /usr/local/lib/python3.10/dist-packages (from matplotlib) (1.4.7)\n",
            "Requirement already satisfied: packaging>=20.0 in /usr/local/lib/python3.10/dist-packages (from matplotlib) (24.2)\n",
            "Requirement already satisfied: pillow>=6.2.0 in /usr/local/lib/python3.10/dist-packages (from matplotlib) (11.0.0)\n",
            "Requirement already satisfied: pyparsing>=2.3.1 in /usr/local/lib/python3.10/dist-packages (from matplotlib) (3.2.0)\n",
            "Requirement already satisfied: python-dateutil>=2.7 in /usr/local/lib/python3.10/dist-packages (from matplotlib) (2.8.2)\n",
            "Requirement already satisfied: ipykernel>=4.5.1 in /usr/local/lib/python3.10/dist-packages (from ipywidgets) (5.5.6)\n",
            "Requirement already satisfied: ipython-genutils~=0.2.0 in /usr/local/lib/python3.10/dist-packages (from ipywidgets) (0.2.0)\n",
            "Requirement already satisfied: traitlets>=4.3.1 in /usr/local/lib/python3.10/dist-packages (from ipywidgets) (5.7.1)\n",
            "Requirement already satisfied: widgetsnbextension~=3.6.0 in /usr/local/lib/python3.10/dist-packages (from ipywidgets) (3.6.10)\n",
            "Requirement already satisfied: jupyterlab-widgets>=1.0.0 in /usr/local/lib/python3.10/dist-packages (from ipywidgets) (3.0.13)\n",
            "Requirement already satisfied: setuptools>=18.5 in /usr/local/lib/python3.10/dist-packages (from IPython) (75.1.0)\n",
            "Requirement already satisfied: jedi>=0.16 in /usr/local/lib/python3.10/dist-packages (from IPython) (0.19.2)\n",
            "Requirement already satisfied: decorator in /usr/local/lib/python3.10/dist-packages (from IPython) (4.4.2)\n",
            "Requirement already satisfied: pickleshare in /usr/local/lib/python3.10/dist-packages (from IPython) (0.7.5)\n",
            "Requirement already satisfied: prompt-toolkit!=3.0.0,!=3.0.1,<3.1.0,>=2.0.0 in /usr/local/lib/python3.10/dist-packages (from IPython) (3.0.48)\n",
            "Requirement already satisfied: pygments in /usr/local/lib/python3.10/dist-packages (from IPython) (2.18.0)\n",
            "Requirement already satisfied: backcall in /usr/local/lib/python3.10/dist-packages (from IPython) (0.2.0)\n",
            "Requirement already satisfied: matplotlib-inline in /usr/local/lib/python3.10/dist-packages (from IPython) (0.1.7)\n",
            "Requirement already satisfied: pexpect>4.3 in /usr/local/lib/python3.10/dist-packages (from IPython) (4.9.0)\n",
            "Requirement already satisfied: mpmath<1.4,>=1.1.0 in /usr/local/lib/python3.10/dist-packages (from sympy) (1.3.0)\n",
            "Requirement already satisfied: jupyter-client in /usr/local/lib/python3.10/dist-packages (from ipykernel>=4.5.1->ipywidgets) (6.1.12)\n",
            "Requirement already satisfied: tornado>=4.2 in /usr/local/lib/python3.10/dist-packages (from ipykernel>=4.5.1->ipywidgets) (6.3.3)\n",
            "Requirement already satisfied: parso<0.9.0,>=0.8.4 in /usr/local/lib/python3.10/dist-packages (from jedi>=0.16->IPython) (0.8.4)\n",
            "Requirement already satisfied: ptyprocess>=0.5 in /usr/local/lib/python3.10/dist-packages (from pexpect>4.3->IPython) (0.7.0)\n",
            "Requirement already satisfied: wcwidth in /usr/local/lib/python3.10/dist-packages (from prompt-toolkit!=3.0.0,!=3.0.1,<3.1.0,>=2.0.0->IPython) (0.2.13)\n",
            "Requirement already satisfied: six>=1.5 in /usr/local/lib/python3.10/dist-packages (from python-dateutil>=2.7->matplotlib) (1.16.0)\n",
            "Requirement already satisfied: notebook>=4.4.1 in /usr/local/lib/python3.10/dist-packages (from widgetsnbextension~=3.6.0->ipywidgets) (6.5.5)\n",
            "Requirement already satisfied: jinja2 in /usr/local/lib/python3.10/dist-packages (from notebook>=4.4.1->widgetsnbextension~=3.6.0->ipywidgets) (3.1.4)\n",
            "Requirement already satisfied: pyzmq<25,>=17 in /usr/local/lib/python3.10/dist-packages (from notebook>=4.4.1->widgetsnbextension~=3.6.0->ipywidgets) (24.0.1)\n",
            "Requirement already satisfied: argon2-cffi in /usr/local/lib/python3.10/dist-packages (from notebook>=4.4.1->widgetsnbextension~=3.6.0->ipywidgets) (23.1.0)\n",
            "Requirement already satisfied: jupyter-core>=4.6.1 in /usr/local/lib/python3.10/dist-packages (from notebook>=4.4.1->widgetsnbextension~=3.6.0->ipywidgets) (5.7.2)\n",
            "Requirement already satisfied: nbformat in /usr/local/lib/python3.10/dist-packages (from notebook>=4.4.1->widgetsnbextension~=3.6.0->ipywidgets) (5.10.4)\n",
            "Requirement already satisfied: nbconvert>=5 in /usr/local/lib/python3.10/dist-packages (from notebook>=4.4.1->widgetsnbextension~=3.6.0->ipywidgets) (7.16.4)\n",
            "Requirement already satisfied: nest-asyncio>=1.5 in /usr/local/lib/python3.10/dist-packages (from notebook>=4.4.1->widgetsnbextension~=3.6.0->ipywidgets) (1.6.0)\n",
            "Requirement already satisfied: Send2Trash>=1.8.0 in /usr/local/lib/python3.10/dist-packages (from notebook>=4.4.1->widgetsnbextension~=3.6.0->ipywidgets) (1.8.3)\n",
            "Requirement already satisfied: terminado>=0.8.3 in /usr/local/lib/python3.10/dist-packages (from notebook>=4.4.1->widgetsnbextension~=3.6.0->ipywidgets) (0.18.1)\n",
            "Requirement already satisfied: prometheus-client in /usr/local/lib/python3.10/dist-packages (from notebook>=4.4.1->widgetsnbextension~=3.6.0->ipywidgets) (0.21.0)\n",
            "Requirement already satisfied: nbclassic>=0.4.7 in /usr/local/lib/python3.10/dist-packages (from notebook>=4.4.1->widgetsnbextension~=3.6.0->ipywidgets) (1.1.0)\n",
            "Requirement already satisfied: platformdirs>=2.5 in /usr/local/lib/python3.10/dist-packages (from jupyter-core>=4.6.1->notebook>=4.4.1->widgetsnbextension~=3.6.0->ipywidgets) (4.3.6)\n",
            "Requirement already satisfied: notebook-shim>=0.2.3 in /usr/local/lib/python3.10/dist-packages (from nbclassic>=0.4.7->notebook>=4.4.1->widgetsnbextension~=3.6.0->ipywidgets) (0.2.4)\n",
            "Requirement already satisfied: beautifulsoup4 in /usr/local/lib/python3.10/dist-packages (from nbconvert>=5->notebook>=4.4.1->widgetsnbextension~=3.6.0->ipywidgets) (4.12.3)\n",
            "Requirement already satisfied: bleach!=5.0.0 in /usr/local/lib/python3.10/dist-packages (from nbconvert>=5->notebook>=4.4.1->widgetsnbextension~=3.6.0->ipywidgets) (6.2.0)\n",
            "Requirement already satisfied: defusedxml in /usr/local/lib/python3.10/dist-packages (from nbconvert>=5->notebook>=4.4.1->widgetsnbextension~=3.6.0->ipywidgets) (0.7.1)\n",
            "Requirement already satisfied: jupyterlab-pygments in /usr/local/lib/python3.10/dist-packages (from nbconvert>=5->notebook>=4.4.1->widgetsnbextension~=3.6.0->ipywidgets) (0.3.0)\n",
            "Requirement already satisfied: markupsafe>=2.0 in /usr/local/lib/python3.10/dist-packages (from nbconvert>=5->notebook>=4.4.1->widgetsnbextension~=3.6.0->ipywidgets) (3.0.2)\n",
            "Requirement already satisfied: mistune<4,>=2.0.3 in /usr/local/lib/python3.10/dist-packages (from nbconvert>=5->notebook>=4.4.1->widgetsnbextension~=3.6.0->ipywidgets) (3.0.2)\n",
            "Requirement already satisfied: nbclient>=0.5.0 in /usr/local/lib/python3.10/dist-packages (from nbconvert>=5->notebook>=4.4.1->widgetsnbextension~=3.6.0->ipywidgets) (0.10.0)\n",
            "Requirement already satisfied: pandocfilters>=1.4.1 in /usr/local/lib/python3.10/dist-packages (from nbconvert>=5->notebook>=4.4.1->widgetsnbextension~=3.6.0->ipywidgets) (1.5.1)\n",
            "Requirement already satisfied: tinycss2 in /usr/local/lib/python3.10/dist-packages (from nbconvert>=5->notebook>=4.4.1->widgetsnbextension~=3.6.0->ipywidgets) (1.4.0)\n",
            "Requirement already satisfied: fastjsonschema>=2.15 in /usr/local/lib/python3.10/dist-packages (from nbformat->notebook>=4.4.1->widgetsnbextension~=3.6.0->ipywidgets) (2.20.0)\n",
            "Requirement already satisfied: jsonschema>=2.6 in /usr/local/lib/python3.10/dist-packages (from nbformat->notebook>=4.4.1->widgetsnbextension~=3.6.0->ipywidgets) (4.23.0)\n",
            "Requirement already satisfied: argon2-cffi-bindings in /usr/local/lib/python3.10/dist-packages (from argon2-cffi->notebook>=4.4.1->widgetsnbextension~=3.6.0->ipywidgets) (21.2.0)\n",
            "Requirement already satisfied: webencodings in /usr/local/lib/python3.10/dist-packages (from bleach!=5.0.0->nbconvert>=5->notebook>=4.4.1->widgetsnbextension~=3.6.0->ipywidgets) (0.5.1)\n",
            "Requirement already satisfied: attrs>=22.2.0 in /usr/local/lib/python3.10/dist-packages (from jsonschema>=2.6->nbformat->notebook>=4.4.1->widgetsnbextension~=3.6.0->ipywidgets) (24.2.0)\n",
            "Requirement already satisfied: jsonschema-specifications>=2023.03.6 in /usr/local/lib/python3.10/dist-packages (from jsonschema>=2.6->nbformat->notebook>=4.4.1->widgetsnbextension~=3.6.0->ipywidgets) (2024.10.1)\n",
            "Requirement already satisfied: referencing>=0.28.4 in /usr/local/lib/python3.10/dist-packages (from jsonschema>=2.6->nbformat->notebook>=4.4.1->widgetsnbextension~=3.6.0->ipywidgets) (0.35.1)\n",
            "Requirement already satisfied: rpds-py>=0.7.1 in /usr/local/lib/python3.10/dist-packages (from jsonschema>=2.6->nbformat->notebook>=4.4.1->widgetsnbextension~=3.6.0->ipywidgets) (0.21.0)\n",
            "Requirement already satisfied: jupyter-server<3,>=1.8 in /usr/local/lib/python3.10/dist-packages (from notebook-shim>=0.2.3->nbclassic>=0.4.7->notebook>=4.4.1->widgetsnbextension~=3.6.0->ipywidgets) (1.24.0)\n",
            "Requirement already satisfied: cffi>=1.0.1 in /usr/local/lib/python3.10/dist-packages (from argon2-cffi-bindings->argon2-cffi->notebook>=4.4.1->widgetsnbextension~=3.6.0->ipywidgets) (1.17.1)\n",
            "Requirement already satisfied: soupsieve>1.2 in /usr/local/lib/python3.10/dist-packages (from beautifulsoup4->nbconvert>=5->notebook>=4.4.1->widgetsnbextension~=3.6.0->ipywidgets) (2.6)\n",
            "Requirement already satisfied: pycparser in /usr/local/lib/python3.10/dist-packages (from cffi>=1.0.1->argon2-cffi-bindings->argon2-cffi->notebook>=4.4.1->widgetsnbextension~=3.6.0->ipywidgets) (2.22)\n",
            "Requirement already satisfied: anyio<4,>=3.1.0 in /usr/local/lib/python3.10/dist-packages (from jupyter-server<3,>=1.8->notebook-shim>=0.2.3->nbclassic>=0.4.7->notebook>=4.4.1->widgetsnbextension~=3.6.0->ipywidgets) (3.7.1)\n",
            "Requirement already satisfied: websocket-client in /usr/local/lib/python3.10/dist-packages (from jupyter-server<3,>=1.8->notebook-shim>=0.2.3->nbclassic>=0.4.7->notebook>=4.4.1->widgetsnbextension~=3.6.0->ipywidgets) (1.8.0)\n",
            "Requirement already satisfied: idna>=2.8 in /usr/local/lib/python3.10/dist-packages (from anyio<4,>=3.1.0->jupyter-server<3,>=1.8->notebook-shim>=0.2.3->nbclassic>=0.4.7->notebook>=4.4.1->widgetsnbextension~=3.6.0->ipywidgets) (3.10)\n",
            "Requirement already satisfied: sniffio>=1.1 in /usr/local/lib/python3.10/dist-packages (from anyio<4,>=3.1.0->jupyter-server<3,>=1.8->notebook-shim>=0.2.3->nbclassic>=0.4.7->notebook>=4.4.1->widgetsnbextension~=3.6.0->ipywidgets) (1.3.1)\n",
            "Requirement already satisfied: exceptiongroup in /usr/local/lib/python3.10/dist-packages (from anyio<4,>=3.1.0->jupyter-server<3,>=1.8->notebook-shim>=0.2.3->nbclassic>=0.4.7->notebook>=4.4.1->widgetsnbextension~=3.6.0->ipywidgets) (1.2.2)\n"
          ]
        }
      ],
      "source": [
        "%pip install numpy matplotlib scipy ipywidgets control IPython sympy\n",
        "\n",
        "#@title Import Libraries\n",
        "\n",
        "import control as ct\n",
        "import matplotlib.pyplot as plt\n",
        "import numpy as np\n",
        "import math\n",
        "import ipywidgets as widgets\n",
        "from scipy.integrate import odeint\n",
        "from IPython.display import display, clear_output, Math\n",
        "from ipywidgets import interactive, FloatSlider, VBox, ToggleButton, FloatSlider\n",
        "from scipy import signal\n",
        "import warnings\n",
        "warnings.filterwarnings(\"ignore\")"
      ]
    },
    {
      "cell_type": "markdown",
      "metadata": {
        "id": "7ontFK4K_VZQ"
      },
      "source": [
        "# Motivation"
      ]
    },
    {
      "cell_type": "markdown",
      "metadata": {
        "id": "VDbh70n53Kja"
      },
      "source": [
        "So far in the course we have analyzed ideal models, i.e., models that are linear and time-invariant (LTI). However, most *real* systems deviate from these idealizations. As a result, it becomes crucial to understand and account for these phenomena. Two such phenomena are time delays and nonlinearities. In this notebook time delays are introduced, along with their effects, and how they can be adapted (approximated) to use the tools that have been previously introduced (e.g,. Root locus). Nonlinearities will be introduced in the following week.\n",
        "\n",
        "Furthermore, typically, systems consist of a system of systems. Consider that adaptive cruise control aims to control the position of the vehicle with respect to the vehicle in front. As a consequence, it must determine a) the desired speed of the vehicle to maintain the distance, and then correspondingly control the throttle to achieve the appropriate speed. This form of system architecture is referred to as cascaded control, and is briefly touched upon in this notebook."
      ]
    },
    {
      "cell_type": "markdown",
      "metadata": {
        "id": "BVpsPzF4_eQf"
      },
      "source": [
        "# 1. Time Delays\n"
      ]
    },
    {
      "cell_type": "markdown",
      "metadata": {
        "id": "x5txC9G4HFna"
      },
      "source": [
        "A time delay refers to the phenomenon where there is a delay between the input to the system and its corresponding output response. This delay can occur due to various reasons, such as sensor response time, communication latency in a controller implemented within a computer, or physical delays, like water traveling inside a pipe when the shower is turned on.\n",
        "\n",
        "Time delays can (negatively) influence system performance, and even introduce instabilities. This can be explained intuitively, by considering that in a closed-loop, the input to the controller is the error between a reference and output. In the presence of time delays, the produced output, may be different from what was expected. Thus, the tuned controller may result in the system exhibiting unstable output behavior.\n",
        "\n",
        "Consequentially, we want to account for the effects of time delays. The time delay operator, which transforms an input signal $ u(t) $ into a delayed output $ y(t) = u(t-T) $ with a delay of $ T $ seconds, is represented in the Laplace domain as:\n",
        "$$e^{-sT}$$\n",
        "\n",
        "The time delay operator is a linear operator, but the resulting transfer function is not rational, which means we cannot apply the root-locus method. To see why this is the case, consider that the root locus relies on the characteristic equation $1+kL(s)=0$ to define the closed-loop poles. However, in the case where we have a non-rational transfer function, then the poles no longer exist in the polynomial form we have previously seen.\n",
        "\n",
        "Before we provide a brief example to contextualize how accounting for a time-delay may result in a non-rational transfer function."
      ]
    },
    {
      "cell_type": "markdown",
      "metadata": {
        "id": "Fxrl4sGkHFna"
      },
      "source": [
        "### Example"
      ]
    },
    {
      "cell_type": "markdown",
      "metadata": {
        "id": "Wp9OJ-O5HFna"
      },
      "source": [
        "Suppose we have a first-order system of the form $ G(s) = \\frac{5}{s+3} $, and through experiments have determined that a time delay of 4 seconds is present. It is then possible to account for the time delay by defining the new transfer function, $\\tilde{G}(s)$ as:\n",
        "$$\\tilde{G}(s) = \\frac{5}{s+3}e^{-4s}$$"
      ]
    },
    {
      "cell_type": "markdown",
      "metadata": {
        "id": "jPPLqRyhHFnb"
      },
      "source": [
        "### Visualization"
      ]
    },
    {
      "cell_type": "markdown",
      "metadata": {
        "id": "ll9A4jsWHFnb"
      },
      "source": [
        "Below we plot the step response of a 2nd order system $G(s) = \\frac{\\omega_n^2}{s^2+2\\zeta\\omega_n s + \\omega_n^2}$.\n",
        "\n",
        "Try varying the time delay, how does the output vary? Is this was you expected?"
      ]
    },
    {
      "cell_type": "code",
      "execution_count": null,
      "metadata": {
        "id": "QSCtSU3b_iEC"
      },
      "outputs": [],
      "source": [
        "def plot_step_response_delay(wn, zeta, delay):\n",
        "\n",
        "    num = [wn**2]\n",
        "    den = [1, 2*zeta*wn, wn**2]\n",
        "    sys = ct.TransferFunction(num, den)\n",
        "\n",
        "    delay_approx = ct.pade(delay, 5)\n",
        "    delay_tf = ct.TransferFunction(*delay_approx)\n",
        "    sys_delayed = sys * delay_tf\n",
        "\n",
        "    time = np.linspace(0, 20, 500)\n",
        "\n",
        "    t, y_no_delay = ct.step_response(sys, T=time)  # Without delay\n",
        "    t, y_with_delay = ct.step_response(sys_delayed, T=time)  # With delay\n",
        "\n",
        "    plt.figure(figsize=(10, 6))\n",
        "    plt.plot(t, y_no_delay, label=f'No Delay')\n",
        "    plt.plot(t, y_with_delay, label=f'With Delay={delay}s', linestyle='--')\n",
        "    plt.xlabel('Time [s]')\n",
        "    plt.ylabel('Amplitude')\n",
        "    plt.title('Second Order System Step Response with and without Time Delay')\n",
        "    plt.grid(True)\n",
        "    plt.legend()\n",
        "    plt.show()\n",
        "\n",
        "wn_slider = widgets.FloatSlider(value=1.0, min=0.1, max=5.0, step=0.1, description='ωn')\n",
        "zeta_slider = widgets.FloatSlider(value=0.5, min=0.0, max=1.0, step=0.01, description='ζ')\n",
        "delay_slider = widgets.FloatSlider(value=0.0, min=0.0, max=2.0, step=0.01, description='Delay')\n",
        "\n",
        "interactive_plot = widgets.interactive(plot_step_response_delay, wn=wn_slider, zeta=zeta_slider, delay=delay_slider)\n",
        "display(interactive_plot)\n"
      ]
    },
    {
      "cell_type": "markdown",
      "metadata": {
        "id": "oGTWjGLy_fh5"
      },
      "source": [
        "## 1.1 Time Delay in Frequency Response\n"
      ]
    },
    {
      "cell_type": "markdown",
      "metadata": {
        "id": "d9_MySrzHFnb"
      },
      "source": [
        "Above we saw how the time delay influences the time-domain output response. However, since time delays may also influence the systems capabilities to accurately track commands or reject disturbances, it is also useful to understand its influence on the frequency response.  \n",
        "\n",
        "> First, note that the magnitude of the time delay is $ \\left| e^{-j\\omega T} \\right| = 1 $ and the phase is $ \\angle(e^{-j\\omega T}) = -\\omega T $. Hence, the time delay only influences the phase in the frequency domain.\n",
        "\n",
        "To see why the above is the case:\n",
        "- $ \\left| e^{-j\\omega T} \\right| = 1 $: $e^{-j\\omega T} = \\cos{\\omega T} - j \\sin{\\omega T}$. Then the magnitude is described by: $| e^{-j\\omega T} | = \\sqrt{\\cos^2{\\omega T} + \\sin^2{\\omega T}} = 1$.\n",
        "- $ \\angle(e^{-j\\omega T}) = -\\omega T $: $\\angle{e^{-j\\omega T}} = \\arctan{\\frac{-\\sin{\\omega T}}{\\cos{\\omega T}}} = -\\omega T$.\n",
        "\n",
        "\n",
        "\n",
        "For the open-loop Transfer function, $\\tilde{L}(s)=e^{-sT}L(s)$, this means:\n",
        "$$\\left| \\tilde{L}(jw) \\right|=\\left|L(jw) \\right|$$\n",
        "\n",
        "$$\\angle \\tilde{L}(jw)=\\angle L(jw)-wT$$\n",
        "\n",
        "Thus, the time delay:\n",
        "- Rotates the polar plot clockwise by $\\omega T$.\n",
        "- Changes the phase margin of the system such that:\n",
        "$$ \\phi_{m,t} = \\phi_{0} - \\omega_c T $$\n",
        "Where:\n",
        "-  $\\phi_{m,t}$ is the new phase margin after the time delay.\n",
        "-  $\\phi_{0}$ is the phase margin without a time delay.\n",
        "-  $\\omega_c$ is the crossover frequency (does not depend on time delay).\n",
        "\n",
        "Hence:\n",
        "> Time delays reduce the phase margins.\n",
        "\n",
        "\n"
      ]
    },
    {
      "cell_type": "markdown",
      "metadata": {
        "id": "niJfLVFKHFnc"
      },
      "source": [
        "### Effect on the Bode plot"
      ]
    },
    {
      "cell_type": "markdown",
      "metadata": {
        "id": "kvuqGHRYHFnc"
      },
      "source": [
        "Below we plot a rational transfer function of form $\\tilde{L}(s) = \\frac{N(s)}{G(s)}e^{-sT}$ in blue, and in orange the time delay Bode plot.\n",
        "- Note that due to python limitations, we have to approximate the time delay as a high-order transfer function. Later on we introduce how to do this.\n",
        "\n",
        "Try adjusting the time delay and observe how the margins change.\n",
        "Are you able to find a time delay that makes the system unstable? And one for which the system is stable?"
      ]
    },
    {
      "cell_type": "code",
      "execution_count": null,
      "metadata": {
        "id": "1D--GC5W_y90"
      },
      "outputs": [],
      "source": [
        "def bode_plot_with_margins_delay(num, den, delay_num=None, delay_den=None):\n",
        "    if delay_num is not None and delay_den is not None:\n",
        "        delay_sys = ct.TransferFunction(delay_num, delay_den)\n",
        "        sys = ct.series(ct.TransferFunction(num, den), delay_sys)\n",
        "    else:\n",
        "        sys = ct.TransferFunction(num, den)\n",
        "\n",
        "    gm, pm, wcg, wcp = ct.margin(sys)\n",
        "\n",
        "    w = np.logspace(-2, 2, 1000)\n",
        "\n",
        "    if delay_num is not None and delay_den is not None:\n",
        "        mag_d, phase_d, omega_d = ct.bode_plot(delay_sys,omega=w, dB=True, deg=True, plot=False)\n",
        "        mag_d = 20 * np.log10(mag_d)\n",
        "        phase_d = np.degrees(phase_d)\n",
        "        phase_d = phase_d%(-360)\n",
        "    else:\n",
        "        mag_d, phase_d, omega_d = None, None, None\n",
        "\n",
        "    mag, phase, omega = ct.bode_plot(sys, omega=w, dB=True, deg=True, plot=False)\n",
        "    mag = 20 * np.log10(mag)\n",
        "    phase = np.degrees(phase)\n",
        "    phase = phase%(-360)\n",
        "\n",
        "    plt.figure(figsize=(10, 8))\n",
        "    plt.subplot(2, 1, 1)\n",
        "    plt.semilogx(omega, mag, label='System Magnitude (dB)')\n",
        "    if mag_d is not None:\n",
        "        plt.semilogx(omega_d, mag_d, label='Time Delay Magnitude (dB)', linestyle='--')\n",
        "\n",
        "    plt.axhline(0, color='black', linewidth=0.5, linestyle='--')\n",
        "\n",
        "    if not np.isnan(wcp):\n",
        "        plt.plot(wcp, 0, 'ro', label=f'Gain Crossover @ {wcp:.2f} rad/s')\n",
        "    if gm != float('inf'):\n",
        "        plt.vlines(wcg, 0, -20 * np.log10(gm), color='red', linestyle=':', label=f'Gain Margin = {20 * np.log10(gm):.2f} dB')\n",
        "\n",
        "    plt.ylabel('Magnitude (dB)')\n",
        "    plt.legend(loc='best')\n",
        "    plt.grid(True, which=\"both\")\n",
        "\n",
        "    plt.subplot(2, 1, 2)\n",
        "    plt.semilogx(omega, phase, label='System Phase (degrees)')\n",
        "    if phase_d is not None:\n",
        "        plt.semilogx(omega_d, phase_d, label='Time Delay Phase (degrees)', linestyle='--')\n",
        "\n",
        "    plt.axhline(-180, color='black', linewidth=0.5, linestyle='--')\n",
        "\n",
        "    if not np.isnan(wcg):\n",
        "        plt.plot(wcg, -180, 'bo', label=f'Phase Crossover @ {wcg:.2f} rad/s')\n",
        "    if pm != float('inf'):\n",
        "        plt.vlines(wcp, -180, -180 + pm, color='red', linestyle=':', label=f'Phase Margin = {pm:.2f} degrees')\n",
        "\n",
        "    plt.ylabel('Phase (degrees)')\n",
        "    plt.xlabel('Frequency (rad/s)')\n",
        "    plt.legend(loc='best')\n",
        "    plt.grid(True, which=\"both\")\n",
        "\n",
        "    plt.tight_layout()\n",
        "    plt.show()\n",
        "\n",
        "def update_bode_plot(b):\n",
        "    clear_output(wait=True)\n",
        "    display(widgets.VBox([numerator_text, denominator_text, delay_slider, plot_button]))\n",
        "\n",
        "    try:\n",
        "        num = [float(x) for x in numerator_text.value.split(',')]\n",
        "        den = [float(x) for x in denominator_text.value.split(',')]\n",
        "        delay = delay_slider.value\n",
        "\n",
        "        delay_num, delay_den = ct.pade(delay, n=10)\n",
        "        bode_plot_with_margins_delay(num, den, delay_num, delay_den)\n",
        "    except ValueError:\n",
        "        print(\"Please enter valid coefficients separated by commas.\")\n",
        "\n",
        "numerator_text = widgets.Text(value='100', description='Numerator:', placeholder='e.g., 10,4')\n",
        "denominator_text = widgets.Text(value='1,10,100', description='Denominator:', placeholder='e.g., 12,30,50')\n",
        "\n",
        "delay_slider = widgets.FloatSlider(\n",
        "    value=0.0,\n",
        "    min=0.0,\n",
        "    max=2.0,\n",
        "    step=0.01,\n",
        "    description='Time Delay (s):',\n",
        "    continuous_update=False\n",
        ")\n",
        "\n",
        "plot_button = widgets.Button(description=\"Plot Bode\")\n",
        "plot_button.on_click(update_bode_plot)\n",
        "\n",
        "display(widgets.VBox([numerator_text, denominator_text, delay_slider, plot_button]))\n"
      ]
    },
    {
      "cell_type": "markdown",
      "metadata": {
        "id": "jrw5XDx6mhes"
      },
      "source": [
        "### Effect on the Nyquist Plot\n"
      ]
    },
    {
      "cell_type": "markdown",
      "metadata": {
        "id": "6xvnSh9gHFnc"
      },
      "source": [
        "\n",
        "The Nyquist plot of a time delay operator is simply a unit circle.\n",
        "\n",
        "To verify this, consider a transfer function, $L(s)=1$, then apply a time delay.\n",
        "\n",
        "In a system, the time delay introduces a counterclockwise rotation of the Nyquist plot. This rotation becomes more pronounced as the frequency increases. As the delay increases, the system's Nyquist plot may begin to encircle the critical point (-1, 0), potentially leading to instability."
      ]
    },
    {
      "cell_type": "code",
      "execution_count": 16,
      "metadata": {
        "colab": {
          "base_uri": "https://localhost:8080/",
          "height": 734,
          "referenced_widgets": [
            "1bce2560b0d5480991e5ac198b35c3c5",
            "f5bda4c9b3b7421c810d1cf8ba5ed75e",
            "d59b17c5d50e4bcbb05a2d2c25b7f2a0",
            "c926af6937cc408ab783c98bafff4cef",
            "ff9de159ff6a42dd98f3d1a691d8bdd5",
            "5f221f4881684b80afbf1969a59d9c82",
            "3fc23870131b49d1a0243b9a140c0140",
            "492eac3607084ddabf708018607b99c0",
            "bd97e6dec9a24a1dac1e49d7dc376055",
            "5f1bbac6190044ed825ba3545a84bc4e",
            "b5aa2d5cf902425baae530589ccdec6f",
            "1cba4c0f45d34019add519071132bdbe",
            "c61d968e79f34a7880289805a73586b6",
            "a9c2a96c3f39497e89ea3477207733e4"
          ]
        },
        "id": "UZTWOaNUkHKt",
        "outputId": "09a1f3eb-bb53-4b6a-b0e2-5858c1d24831"
      },
      "outputs": [
        {
          "output_type": "display_data",
          "data": {
            "text/plain": [
              "Text(value='1, 1', description='Numerator:', placeholder='Enter coefficients separated by commas')"
            ],
            "application/vnd.jupyter.widget-view+json": {
              "version_major": 2,
              "version_minor": 0,
              "model_id": "1bce2560b0d5480991e5ac198b35c3c5"
            }
          },
          "metadata": {}
        },
        {
          "output_type": "display_data",
          "data": {
            "text/plain": [
              "Text(value='1, 2, 1', description='Denominator:', placeholder='Enter coefficients separated by commas')"
            ],
            "application/vnd.jupyter.widget-view+json": {
              "version_major": 2,
              "version_minor": 0,
              "model_id": "c926af6937cc408ab783c98bafff4cef"
            }
          },
          "metadata": {}
        },
        {
          "output_type": "display_data",
          "data": {
            "text/plain": [
              "FloatSlider(value=0.1, continuous_update=False, description='Time Delay (s):', max=5.0, step=0.01)"
            ],
            "application/vnd.jupyter.widget-view+json": {
              "version_major": 2,
              "version_minor": 0,
              "model_id": "3fc23870131b49d1a0243b9a140c0140"
            }
          },
          "metadata": {}
        },
        {
          "output_type": "display_data",
          "data": {
            "text/plain": [
              "Button(button_style='success', description='Generate Nyquist Plots', style=ButtonStyle(), tooltip='Click to ge…"
            ],
            "application/vnd.jupyter.widget-view+json": {
              "version_major": 2,
              "version_minor": 0,
              "model_id": "5f1bbac6190044ed825ba3545a84bc4e"
            }
          },
          "metadata": {}
        },
        {
          "output_type": "display_data",
          "data": {
            "text/plain": [
              "Output()"
            ],
            "application/vnd.jupyter.widget-view+json": {
              "version_major": 2,
              "version_minor": 0,
              "model_id": "c61d968e79f34a7880289805a73586b6"
            }
          },
          "metadata": {}
        }
      ],
      "source": [
        "\n",
        "\n",
        "def parse_coefficients(coeff_str):\n",
        "    \"\"\"\n",
        "    Parse a string of coefficients separated by commas into a list of floats.\n",
        "    \"\"\"\n",
        "    try:\n",
        "        coeffs = [float(c.strip()) for c in coeff_str.split(',') if c.strip()]\n",
        "        if not coeffs:\n",
        "            raise ValueError(\"Coefficient list cannot be empty.\")\n",
        "        return coeffs\n",
        "    except ValueError as e:\n",
        "        raise ValueError(f\"Invalid input: {e}\")\n",
        "\n",
        "def transfer_function_with_delay(num, den, delay):\n",
        "\n",
        "    G = control.TransferFunction(num, den)\n",
        "    delay_num, delay_den = control.pade(delay, n=10)\n",
        "    G_delay = control.TransferFunction(delay_num, delay_den)\n",
        "    return G * G_delay\n",
        "\n",
        "def plot_nyquist_and_poles(num, den, delay):\n",
        "    \"\"\"\n",
        "    Generate a single Nyquist plot showing the system with and without time delay and display system poles.\n",
        "    \"\"\"\n",
        "    with output:\n",
        "        clear_output(wait=True)\n",
        "        try:\n",
        "            # Create transfer functions\n",
        "            G = control.TransferFunction(num, den)\n",
        "            G_delay = transfer_function_with_delay(num, den, delay)\n",
        "\n",
        "            # Create a single plot\n",
        "            plt.figure(figsize=(10, 6))\n",
        "\n",
        "            # Nyquist plot with delay\n",
        "            control.nyquist_plot(G_delay, label=f\"With Time Delay = {delay} s\", color='blue')\n",
        "\n",
        "            # Nyquist plot without delay\n",
        "            control.nyquist_plot(G, label=\"Without Time Delay\", color='orange')\n",
        "\n",
        "            plt.title(\"Nyquist Plot with and without Time Delay\")\n",
        "            plt.legend()\n",
        "            plt.grid(True)\n",
        "            plt.tight_layout()\n",
        "            plt.show()\n",
        "\n",
        "\n",
        "        except ValueError as ve:\n",
        "            display(Markdown(f\"**Error:** {ve}\"))\n",
        "        except Exception as e:\n",
        "            display(Markdown(f\"**An unexpected error occurred:** {e}\"))\n",
        "\n",
        "\n",
        "numerator_input = widgets.Text(\n",
        "    value='1, 1',\n",
        "    placeholder='Enter coefficients separated by commas',\n",
        "    description='Numerator:',\n",
        "    disabled=False\n",
        ")\n",
        "\n",
        "denominator_input = widgets.Text(\n",
        "    value='1, 2, 1',\n",
        "    placeholder='Enter coefficients separated by commas',\n",
        "    description='Denominator:',\n",
        "    disabled=False\n",
        ")\n",
        "\n",
        "time_delay_slider = widgets.FloatSlider(\n",
        "    value=0.1,\n",
        "    min=0.0,\n",
        "    max=5.0,\n",
        "    step=0.01,\n",
        "    description='Time Delay (s):',\n",
        "    continuous_update=False\n",
        ")\n",
        "\n",
        "generate_button = widgets.Button(\n",
        "    description='Generate Nyquist Plots',\n",
        "    button_style='success',\n",
        "    tooltip='Click to generate Nyquist plots for the system',\n",
        ")\n",
        "\n",
        "# Output area\n",
        "output = widgets.Output()\n",
        "\n",
        "# Event handler for button click\n",
        "def on_button_click(b):\n",
        "    try:\n",
        "        num = parse_coefficients(numerator_input.value)\n",
        "        den = parse_coefficients(denominator_input.value)\n",
        "        delay = time_delay_slider.value\n",
        "        plot_nyquist_and_poles(num, den, delay)\n",
        "    except ValueError as e:\n",
        "        with output:\n",
        "            clear_output(wait=True)\n",
        "            display(Markdown(f\"**Error:** {e}\"))\n",
        "\n",
        "generate_button.on_click(on_button_click)\n",
        "\n",
        "# Display widgets\n",
        "display(numerator_input, denominator_input, time_delay_slider, generate_button, output)\n"
      ]
    },
    {
      "cell_type": "markdown",
      "metadata": {
        "id": "J2KBvHArC28A"
      },
      "source": [
        "## 1.2 Approximation of Time Delays\n"
      ]
    },
    {
      "cell_type": "markdown",
      "metadata": {
        "id": "b4Z3rKQfHFnd"
      },
      "source": [
        "Since the term which corresponds to our time delay $e^{-sT}$ is not rational, it is not possible to use the root locus method (and depending on the software, non-rational transfer functions may not be supported). Thus, there is a need to approximate the time delay. Below we introduce 2 approaches to doing so.\n"
      ]
    },
    {
      "cell_type": "markdown",
      "metadata": {
        "id": "bzqgbP41HFnd"
      },
      "source": [
        "\n",
        "### 1.2.1 Taylor Approximation\n"
      ]
    },
    {
      "cell_type": "markdown",
      "metadata": {
        "id": "4xsWENKEHFnd"
      },
      "source": [
        "One approach is to approximate the time delay through a $n^{th}$ order Taylor series expansion:\n",
        "$$\n",
        "e^{-sT} \\approx 1 - sT + \\frac{1}{2}\\left(sT\\right)^2 + \\dots + (-1)^n \\frac{1}{n!}\\left(sT\\right)^n\n",
        "$$\n",
        "\n",
        "A Taylor series expansion with $n=3$ would be:\n",
        "$$e^{-sT}\\approx 1-sT+\\frac{1}{2}(sT)^2-\\frac{1}{6}(sT)^3 = \\frac{-\\left(sT\\right)^3 +3(sT)^2 -6(sT)+ 6}{6}$$\n",
        "We can see that the above is a non-proper (rational) transfer function since the numerator polynomial has a higher degree than the denominator. Thus, when $|sT|>1$, the non-proper transfer function grows without bound, which implies infinite gain at high frequencies -- which is not true as $|e^{-j\\omega T}|=1, \\forall \\omega$.\n",
        "\n",
        "This makes the Taylor series expansion an unsuitable approximation unless $|sT|<<1$."
      ]
    },
    {
      "cell_type": "markdown",
      "metadata": {
        "id": "v-i8fqk7HFnd"
      },
      "source": [
        "\n",
        "### 1.2.2 Padé Approximation\n"
      ]
    },
    {
      "cell_type": "markdown",
      "metadata": {
        "id": "7-mjhoPmHFnd"
      },
      "source": [
        "Another approach, is to approximate the time delay with a ratio of polynomials. For calculating the Padé approximation by hand, we limit ourselves to the first-order Padé approximation, which consists of the ratio of two first-order polynomials:\n",
        "$$e^{-sT} \\approx k\\frac{s+p}{s+q}$$\n",
        "\n",
        "For finding the coefficients $k$, $p$, and $q$, we set the approximation equal to the Taylor series expansion:\n",
        "$$k\\frac{s+p}{s+q} = 1 - sT + \\frac{1}{2}(sT)^2-\\frac{1}{6}(sT)^3...$$\n",
        "\n",
        "Reordering and comparing the coefficients, we get:\n",
        "\n",
        "$ks + kp = s + q - s^2T - qsT + \\frac{1}{2}s^3T^2 + \\frac{1}{2}q(sT)^2...$\n",
        "\n",
        "Order 0: $kp = q$\n",
        "\n",
        "Order 1: $k = 1 - qT$\n",
        "\n",
        "Order 2: $0 = -T + \\frac{1}{2}qT^2$\n",
        "\n",
        "For the first-order approximation, we calculate that:\n",
        "$$q = \\frac{2}{T}$$\n",
        "$$k = -1$$\n",
        "$$p = -\\frac{2}{T}$$\n",
        "\n",
        "Inserting this into our formula, we get:\n",
        "$$e^{-sT}\\approx \\frac{\\frac{2}{T}-s}{\\frac{2}{T}+s}$$\n",
        "\n",
        "This approximation has the advantage that the magnitude is always equal to 1.\n"
      ]
    },
    {
      "cell_type": "code",
      "execution_count": 25,
      "metadata": {
        "colab": {
          "base_uri": "https://localhost:8080/",
          "height": 1000,
          "referenced_widgets": [
            "838a899ff0364ce39f08ef2bde65a1d3",
            "494f71eb7410447bbb5e08e08a235945",
            "0c95968978204a3b91d6d1d219e448e8",
            "a96645dd2e344c8c86307491225cc89d",
            "239e9fd97c31409e88c8941a70c12b85",
            "f18876cfe11d4d698119186fd69f0cdd",
            "33017c50c81343259c39d6e148e449ee",
            "e9055eb56f224405814b32063f993ae0",
            "c7c59ee906ab4c828b06ad40702617da",
            "0821b305d89646b4ba7d6587b65fa896",
            "264a450b3fc1405d9973dd1b05e8fdbb",
            "ea3962b53bdf421ca69d6bb37eb754f2",
            "7e27dd5fff22448abeebf838d8099616",
            "25f70486f0a54b92abb2ed640e3e3dae",
            "3fe14ebe00824d859f4e6c23d9f22ea4",
            "d5315ff3dd84406d93f08c00583bbf95",
            "79861d8328ab49109aaf3d990c4fe45c",
            "6f5264fa6a3944d1bb638099e7a5e0b3",
            "25ac44a2c08346b2903e8efa5ac5f44e",
            "e5d74f80a8bf4372b132be16921b227d"
          ]
        },
        "id": "5KuD7ZXAG7k1",
        "outputId": "c7203c0b-2851-4f98-af91-f77680f46b2a"
      },
      "outputs": [
        {
          "output_type": "display_data",
          "data": {
            "text/plain": [
              "VBox(children=(FloatSlider(value=1.0, continuous_update=False, description='Time Delay (s):', max=2.0, min=0.0…"
            ],
            "application/vnd.jupyter.widget-view+json": {
              "version_major": 2,
              "version_minor": 0,
              "model_id": "25ac44a2c08346b2903e8efa5ac5f44e"
            }
          },
          "metadata": {}
        },
        {
          "output_type": "display_data",
          "data": {
            "text/plain": [
              "<Figure size 1800x1000 with 6 Axes>"
            ],
            "image/png": "[encoded data removed]"
          },
          "metadata": {}
        }
      ],
      "source": [
        "\n",
        "def taylor_series_expansion(T, degree):\n",
        "    numerator_coeffs = []\n",
        "    denominator_coeffs = [1]\n",
        "\n",
        "    for n in range(degree):\n",
        "        coeff = ((-1)**n * (T**n)) / math.factorial(n)\n",
        "        numerator_coeffs.append(coeff)\n",
        "\n",
        "    return numerator_coeffs, denominator_coeffs\n",
        "def bode_plot_with_pade(T, degree, ax1, ax2):\n",
        "    # Nth-order Pade approximation (user-selected degree)\n",
        "    nth_order_num_pade, nth_order_den_pade = ct.pade(T, n=degree)\n",
        "    nth_order_sys_pade = ct.TransferFunction(nth_order_num_pade, nth_order_den_pade)\n",
        "\n",
        "    mag_nth, phase_nth, omega_nth = ct.bode_plot(nth_order_sys_pade, dB=True, deg=True, plot=False)\n",
        "    mag_nth = 20 * np.log10(mag_nth)\n",
        "    phase_nth = np.degrees(phase_nth)\n",
        "\n",
        "    ax1.semilogx(omega_nth, mag_nth, label=f'Pade Approximation (Order {degree}, Magnitude)', linestyle='-')\n",
        "    ax1.set_ylim(-3, 3)\n",
        "    ax1.axhline(0, color='black', linewidth=0.5, linestyle='--')\n",
        "    ax1.set_ylabel('Magnitude (dB)')\n",
        "    ax1.legend(loc='best')\n",
        "    ax1.grid(True, which=\"both\")\n",
        "\n",
        "    ax2.semilogx(omega_nth, phase_nth, label=f'Pade Approximation (Order {degree}, Phase)', linestyle='-')\n",
        "    ax2.axhline(-180, color='black', linewidth=0.5, linestyle='--')\n",
        "    ax2.set_ylabel('Phase (degrees)')\n",
        "    ax2.set_xlabel('Frequency (rad/s)')\n",
        "    ax2.legend(loc='best')\n",
        "    ax2.grid(True, which=\"both\")\n",
        "\n",
        "def bode_plot_first_order_pade(T, ax1, ax2):\n",
        "    # First-order Pade approximation\n",
        "    first_order_num_pade, first_order_den_pade = ct.pade(T, n=1)\n",
        "    first_order_sys_pade = ct.TransferFunction(first_order_num_pade, first_order_den_pade)\n",
        "\n",
        "    mag_first, phase_first, omega_first = ct.bode_plot(first_order_sys_pade, dB=True, deg=True, plot=False)\n",
        "    mag_first = 20 * np.log10(mag_first)\n",
        "    phase_first = np.degrees(phase_first)\n",
        "\n",
        "    ax1.semilogx(omega_first, mag_first, label='Pade Approximation (Order 1, Magnitude)', linestyle='--')\n",
        "    ax1.set_ylim(-3, 3)\n",
        "    ax1.axhline(0, color='black', linewidth=0.5, linestyle='--')\n",
        "    ax1.set_ylabel('Magnitude (dB)')\n",
        "    ax1.legend(loc='best')\n",
        "    ax1.grid(True, which=\"both\")\n",
        "\n",
        "    ax2.semilogx(omega_first, phase_first, label='Pade Approximation (Order 1, Phase)', linestyle='--')\n",
        "    ax2.axhline(-180, color='black', linewidth=0.5, linestyle='--')\n",
        "    ax2.set_ylabel('Phase (degrees)')\n",
        "    ax2.set_xlabel('Frequency (rad/s)')\n",
        "    ax2.legend(loc='best')\n",
        "    ax2.grid(True, which=\"both\")\n",
        "\n",
        "def update_bode_plot(b):\n",
        "    clear_output(wait=True)\n",
        "    display(widgets.VBox([timedelay_slider, degree_slider_pade, degree_slider_taylor, plot_button]))\n",
        "\n",
        "    try:\n",
        "        T_pade = timedelay_slider.value\n",
        "        degree_pade = int(degree_slider_pade.value)\n",
        "        T_taylor = timedelay_slider.value\n",
        "        degree_taylor = int(degree_slider_taylor.value)\n",
        "\n",
        "        fig, axs = plt.subplots(2, 3, figsize=(18, 10))\n",
        "\n",
        "        # First-order Pade approximation (Column 1)\n",
        "        bode_plot_first_order_pade(T_pade, axs[0, 0], axs[1, 0])\n",
        "\n",
        "        # Nth-order Pade approximation (Column 2)\n",
        "        bode_plot_with_pade(T_pade, degree_pade, axs[0, 1], axs[1, 1])\n",
        "\n",
        "        # Taylor series approximation (Column 3)\n",
        "        bode_plot_with_taylor(T_taylor, degree_taylor, axs[0, 2], axs[1, 2])\n",
        "\n",
        "        # Adjust layout for better readability\n",
        "        plt.tight_layout()\n",
        "        plt.show()\n",
        "\n",
        "    except ValueError:\n",
        "        print(\"Please enter valid coefficients separated by commas.\")\n",
        "\n",
        "timedelay_slider = widgets.FloatSlider(\n",
        "    value=1.0,\n",
        "    min=0.01,\n",
        "    max=2.0,\n",
        "    step=0.01,\n",
        "    description='Time Delay (s):',\n",
        "    continuous_update=False\n",
        ")\n",
        "\n",
        "degree_slider_pade = widgets.IntSlider(\n",
        "    value=10,\n",
        "    min=1,\n",
        "    max=20,\n",
        "    step=1,\n",
        "    description='Pade Degree:'\n",
        ")\n",
        "\n",
        "\n",
        "degree_slider_taylor = widgets.IntSlider(\n",
        "    value=10,\n",
        "    min=1,\n",
        "    max=20,\n",
        "    step=1,\n",
        "    description='Taylor Degree:'\n",
        ")\n",
        "\n",
        "plot_button = widgets.Button(description=\"Plot Bode\")\n",
        "plot_button.on_click(update_bode_plot)\n",
        "\n",
        "# Display widgets for interaction\n",
        "display(widgets.VBox([timedelay_slider, degree_slider_pade, degree_slider_taylor, plot_button]))\n"
      ]
    },
    {
      "cell_type": "markdown",
      "metadata": {
        "id": "nGsiflUeODKM"
      },
      "source": [
        "### Example\n"
      ]
    },
    {
      "cell_type": "markdown",
      "metadata": {
        "id": "L8UsKaU1HFne"
      },
      "source": [
        "\n",
        "We want to use the root locus method to design a controller for our simple $\\frac{1}{s+1}$ system, but we have a delay of 0.5 seconds inside our system. How do we approximate the time delay as a rational function which we can use for the root locus method?\n",
        "\n",
        "First, we calculate the Padeé approximation using the formula we derived before:\n",
        "\n",
        "$$e^{-0.5s} \\approx \\frac{1-0.25s}{1+0.25s}$$\n",
        "\n",
        "Now we modify our plant transfer function to:\n",
        "$$P(s) = \\frac{1-0.25s}{1+0.25s} \\cdot \\frac{1}{s+1}$$\n",
        "\n",
        "and use a proportional controller $C(s) = K_p$.\n",
        "\n",
        "Since the transfer function of the Padeé approximation has a non-minimum phase zero, as we increase our gain, the system can become unstable. Note that this is an approximation.\n"
      ]
    },
    {
      "cell_type": "code",
      "execution_count": null,
      "metadata": {
        "id": "mkGRVLz0SGnj"
      },
      "outputs": [],
      "source": [
        "\n",
        "def plot_root_locus(num, den, time_delay, pade_order):\n",
        "    num = [float(n) for n in num.split(',')]\n",
        "    den = [float(d) for d in den.split(',')]\n",
        "\n",
        "    pade_order = int(pade_order)\n",
        "\n",
        "    plant = ct.TransferFunction(num, den)\n",
        "\n",
        "    pade_num, pade_den = ct.pade(time_delay, pade_order)\n",
        "\n",
        "    pade_transfer_function = ct.TransferFunction(pade_num, pade_den)\n",
        "\n",
        "    system_with_delay = plant * pade_transfer_function\n",
        "\n",
        "    plt.figure(figsize=(8, 6))\n",
        "    ct.root_locus(system_with_delay)\n",
        "    plt.title(f\"Root Locus with Time Delay {time_delay}s and Pade Order {pade_order}\")\n",
        "    plt.show()\n",
        "\n",
        "time_delay_slider = FloatSlider(value=0.5, min=0, max=5, step=0.1, description='Time Delay (s):')\n",
        "pade_order_slider = FloatSlider(value=1, min=1, max=10, step=1, description='Pade Approx Order:')\n",
        "\n",
        "num_input = widgets.Text(value='1', description='Numerator:')\n",
        "den_input = widgets.Text(value='1,1', description='Denominator:')\n",
        "\n",
        "interactive_plot = interactive(plot_root_locus,\n",
        "                               num=num_input,\n",
        "                               den=den_input,\n",
        "                               time_delay=time_delay_slider,\n",
        "                               pade_order=pade_order_slider)\n",
        "\n",
        "display(interactive_plot)\n"
      ]
    },
    {
      "cell_type": "markdown",
      "metadata": {
        "id": "ven_tjHaHFnf"
      },
      "source": [
        "# 2. Cascaded Control: A Deeper Dive\n"
      ]
    },
    {
      "cell_type": "markdown",
      "metadata": {
        "id": "HSZvYjjsHFnf"
      },
      "source": [
        "\n",
        "Cascaded control is a hierarchical control strategy often used in complex systems to achieve better performance and robustness. Instead of using a single control loop to manage all dynamics, cascaded control divides the system into multiple interconnected control loops, typically organized as an **inner loop** and an **outer loop**. Each loop has its specific role, and they work together to maintain system stability and meet performance objectives. This structure allows engineers to address different dynamic behaviors in a controlled and systematic way.\n",
        "\n",
        "In a cascaded control system, the **inner loop** is responsible for controlling faster dynamic processes that are closer to the physical system, such as stabilizing motor speed or force. The **outer loop** operates on slower dynamics and focuses on achieving broader system goals, such as maintaining a desired position or trajectory. This separation of tasks makes cascaded control particularly effective for systems where different parts have distinct time scales of operation. For example, in robotics, the inner loop might control motor torque, while the outer loop adjusts the robot's arm position based on a task requirement.\n",
        "\n"
      ]
    },
    {
      "cell_type": "markdown",
      "metadata": {
        "id": "wdSgtjqVHFnf"
      },
      "source": [
        "\n",
        "## What is Cascaded Control?\n"
      ]
    },
    {
      "cell_type": "markdown",
      "metadata": {
        "id": "lXXknbsuHFnf"
      },
      "source": [
        "\n",
        "At its core, cascaded control organizes control tasks into layers, with each layer addressing specific aspects of the system's dynamics. The inner loop works on stabilizing the plant and reacting to disturbances quickly. For instance, in a speed control system, the inner loop ensures that the motor achieves the desired speed regardless of load variations. The outer loop, on the other hand, determines the reference for the inner loop based on the higher-level goal, such as reaching a specific position or maintaining a desired spacing in adaptive cruise control.\n",
        "\n",
        "One of the defining features of cascaded control is **feedback interconnection**. The outer loop provides a dynamic reference signal to the inner loop, and the inner loop refines its behavior to match this reference. This hierarchical feedback allows the outer loop to operate as if the inner loop is perfectly handling fast dynamics, simplifying its design and improving overall system performance.\n",
        "\n"
      ]
    },
    {
      "cell_type": "markdown",
      "metadata": {
        "id": "SHKaddreHFng"
      },
      "source": [
        "\n",
        "## How Does Cascaded Control Work?\n"
      ]
    },
    {
      "cell_type": "markdown",
      "metadata": {
        "id": "JY7NPo3VHFng"
      },
      "source": [
        "\n",
        "Imagine you are driving a car equipped with adaptive cruise control (ACC). The system's goal is to maintain a safe distance from the car ahead while ensuring your car stays at a comfortable speed. This control problem is naturally divided into two tasks:\n",
        "\n",
        "1. **Inner Loop (Speed Control):** The inner loop adjusts the car's throttle to maintain the desired speed. If the car encounters a hill or additional load, the inner loop quickly increases the throttle to compensate. This loop operates on fast dynamics and directly controls the engine's output.\n",
        "\n",
        "2. **Outer Loop (Distance Control):** The outer loop monitors the distance to the car ahead and adjusts the speed reference for the inner loop to ensure safety. If the car ahead slows down, the outer loop instructs the inner loop to reduce speed accordingly. This loop handles slower dynamics and provides the overarching control objective.\n",
        "\n",
        "This example highlights how cascaded control allows each loop to focus on specific tasks while working in harmony to achieve the overall goal. The inner loop acts as the \"executor,\" rapidly handling disturbances and local dynamics, while the outer loop is the \"strategist,\" setting the direction based on broader objectives.\n",
        "\n"
      ]
    },
    {
      "cell_type": "markdown",
      "metadata": {
        "id": "3_7DrSekHFng"
      },
      "source": [
        "\n",
        "## Design Principles in Cascaded Control\n"
      ]
    },
    {
      "cell_type": "markdown",
      "metadata": {
        "id": "FGOzimrYHFnk"
      },
      "source": [
        "\n",
        "The key to designing a successful cascaded control system lies in **bandwidth separation**. The inner loop must operate much faster than the outer loop, ensuring that it can stabilize fast dynamics before the outer loop intervenes. This separation prevents interference between the loops and allows the system to behave predictably. A general rule of thumb is that the bandwidth of the inner loop should be at least five to ten times greater than the outer loop.\n",
        "\n",
        "To illustrate this, consider a robotic arm with cascaded control. The inner loop might control the torque applied to the motor, ensuring rapid and precise adjustments to stabilize the arm. The outer loop, operating on a slower timescale, focuses on positioning the arm at a desired location. If the inner loop is slow, it might not stabilize the torque quickly enough, leading to delays and inaccuracies in the outer loop's positioning.\n",
        "\n",
        "Another critical aspect of cascaded control is how disturbances are handled. The inner loop is designed to reject disturbances near the plant, such as load changes or unexpected forces, ensuring that the system's fundamental dynamics remain stable. Meanwhile, the outer loop deals with higher-level disturbances, such as changes in the setpoint or external influences that affect the overall control objective."
      ]
    },
    {
      "cell_type": "markdown",
      "metadata": {
        "id": "wmi9pP8kHFnk"
      },
      "source": [
        "\n",
        "## Advantages of Cascaded Control\n"
      ]
    },
    {
      "cell_type": "markdown",
      "metadata": {
        "id": "_ILSDE7NHFnk"
      },
      "source": [
        "\n",
        "Cascaded control offers several advantages that make it a popular choice in engineering systems. First, it improves system performance by dividing responsibilities between the loops. Each loop is optimized for its specific task, allowing for more precise and efficient control. The inner loop's responsiveness ensures that fast disturbances are dealt with quickly, while the outer loop focuses on achieving steady-state accuracy and tracking performance.\n",
        "\n",
        "Second, cascaded control enhances the system's ability to reject disturbances. By having the inner loop directly manage disturbances near the plant, the system can remain stable even under challenging conditions. This layered approach simplifies the design of the outer loop, as it can assume the inner loop is handling these disturbances effectively.\n",
        "\n",
        "Lastly, cascaded control provides a modular design approach. Engineers can design, test, and optimize each loop independently, reducing complexity and making it easier to maintain and upgrade the system. This modularity is especially valuable in systems with changing requirements, as individual loops can be adjusted without overhauling the entire control architecture.\n",
        "\n"
      ]
    },
    {
      "cell_type": "markdown",
      "metadata": {
        "id": "2IL5TW4iHFnk"
      },
      "source": [
        "\n",
        "## Practical Example: Motor Speed and Position Control\n"
      ]
    },
    {
      "cell_type": "markdown",
      "metadata": {
        "id": "wRpD3BdoHFnl"
      },
      "source": [
        "\n",
        "Let’s consider a system where we need to control both the speed and position of a motor. In such a system:\n",
        "\n",
        "- **Inner Loop (Speed Control):** This loop ensures that the motor maintains the desired speed regardless of changes in load or external disturbances. For instance, if the motor is operating under varying torque conditions, the inner loop adjusts the control input to keep the speed stable.\n",
        "  \n",
        "- **Outer Loop (Position Control):** The outer loop provides a higher-level reference to the inner loop, ensuring that the motor reaches the desired position. It adjusts the speed reference to account for overshoot, steady-state error, and trajectory requirements.\n",
        "\n",
        "This layered approach enables the system to respond quickly to disturbances while achieving precise positional control over time."
      ]
    },
    {
      "cell_type": "markdown",
      "metadata": {
        "id": "xR-RdJwVHFnl"
      },
      "source": [
        "\n",
        "## Summary of Cascaded Control\n"
      ]
    },
    {
      "cell_type": "markdown",
      "metadata": {
        "id": "GicUIRccHFnl"
      },
      "source": [
        "\n",
        "Cascaded control is an effective way to manage complex systems with multiple dynamic requirements. By separating the control problem into hierarchical loops, it allows each loop to focus on specific dynamics, leading to better performance and robustness. The inner loop addresses fast, local dynamics, while the outer loop ensures the system meets broader objectives. This structure is widely used in applications like robotics, automotive systems, and industrial processes.\n",
        "\n",
        "In the accompanying interactive notebook, you’ll have the opportunity to design a cascaded control system for a sample plant. By adjusting controller gains and observing the system's response, you’ll gain a deeper understanding of how bandwidth separation and hierarchical feedback influence system performance.\n",
        "\n",
        "---\n"
      ]
    },
    {
      "cell_type": "code",
      "execution_count": null,
      "metadata": {
        "id": "wa8RMeCxHFnl"
      },
      "outputs": [],
      "source": [
        "import numpy as np\n",
        "import ipywidgets as widgets\n",
        "from IPython.display import display, clear_output\n",
        "from control import TransferFunction, feedback, step_response, impulse_response, forced_response, bode\n",
        "\n",
        "import matplotlib.pyplot as plt\n",
        "\n",
        "# Define helper functions\n",
        "def create_pid_controller(kp, ki, kd):\n",
        "    \"\"\"Create a PID controller transfer function.\"\"\"\n",
        "    num = [kd, kp, ki]\n",
        "    den = [1, 0]\n",
        "    return TransferFunction(num, den)\n",
        "\n",
        "def parse_transfer_function(num_str, den_str):\n",
        "    \"\"\"Parse numerator and denominator strings into TransferFunction.\"\"\"\n",
        "    try:\n",
        "        num = [float(x.strip()) for x in num_str.split(',')]\n",
        "        den = [float(x.strip()) for x in den_str.split(',')]\n",
        "        return TransferFunction(num, den)\n",
        "    except Exception as e:\n",
        "        raise ValueError(\"Invalid input. Please provide comma-separated numbers.\")\n",
        "\n",
        "def plot_response(system, response_type, duration=10):\n",
        "    \"\"\"Plot the system response (step, impulse, or ramp).\"\"\"\n",
        "    time = np.linspace(0, duration, 500)\n",
        "    if response_type == 'Step':\n",
        "        t, y = step_response(system, time)\n",
        "    elif response_type == 'Impulse':\n",
        "        t, y = impulse_response(system, time)\n",
        "    elif response_type == 'Ramp':\n",
        "        ramp_input = time\n",
        "        t, y, _ = forced_response(system, time, ramp_input)\n",
        "    else:\n",
        "        raise ValueError(\"Unsupported response type.\")\n",
        "\n",
        "    plt.figure(figsize=(8, 5))\n",
        "    plt.plot(t, y, label=f\"{response_type} Response\")\n",
        "    plt.xlabel(\"Time (s)\")\n",
        "    plt.ylabel(\"Output\")\n",
        "    plt.title(f\"{response_type} Response\")\n",
        "    plt.grid(True)\n",
        "    plt.legend()\n",
        "    plt.show()\n",
        "\n",
        "def plot_bode(system):\n",
        "    \"\"\"Plot the Bode plot of the system.\"\"\"\n",
        "    mag, phase, omega = bode(system, dB=True, plot=False)\n",
        "\n",
        "    plt.figure(figsize=(8, 5))\n",
        "    plt.semilogx(omega, 20 * np.log10(mag), label=\"Magnitude (dB)\")\n",
        "    plt.xlabel(\"Frequency (rad/s)\")\n",
        "    plt.ylabel(\"Magnitude (dB)\")\n",
        "    plt.title(\"Bode Plot: Magnitude\")\n",
        "    plt.grid(True, which=\"both\")\n",
        "    plt.legend()\n",
        "    plt.show()\n",
        "\n",
        "    plt.figure(figsize=(8, 5))\n",
        "    plt.semilogx(omega, phase * 180 / np.pi, label=\"Phase (deg)\")\n",
        "    plt.xlabel(\"Frequency (rad/s)\")\n",
        "    plt.ylabel(\"Phase (degrees)\")\n",
        "    plt.title(\"Bode Plot: Phase\")\n",
        "    plt.grid(True, which=\"both\")\n",
        "    plt.legend()\n",
        "    plt.show()\n",
        "\n",
        "# Interactive tool widgets\n",
        "numerator_input = widgets.Text(\n",
        "    value='1',\n",
        "    placeholder='e.g., 1, 5, 10',\n",
        "    description='Numerator:',\n",
        "    style={'description_width': 'initial'}\n",
        ")\n",
        "\n",
        "denominator_input = widgets.Text(\n",
        "    value='1,2',\n",
        "    placeholder='e.g., 1, 3, 2',\n",
        "    description='Denominator:',\n",
        "    style={'description_width': 'initial'}\n",
        ")\n",
        "\n",
        "kp_outer = widgets.FloatSlider(value=1.0, min=0.0, max=10.0, step=0.1, description='Outer Kp:')\n",
        "ki_outer = widgets.FloatSlider(value=0.0, min=0.0, max=10.0, step=0.1, description='Outer Ki:')\n",
        "kd_outer = widgets.FloatSlider(value=0.0, min=0.0, max=10.0, step=0.1, description='Outer Kd:')\n",
        "\n",
        "kp_inner = widgets.FloatSlider(value=1.0, min=0.0, max=10.0, step=0.1, description='Inner Kp:')\n",
        "ki_inner = widgets.FloatSlider(value=0.0, min=0.0, max=10.0, step=0.1, description='Inner Ki:')\n",
        "kd_inner = widgets.FloatSlider(value=0.0, min=0.0, max=10.0, step=0.1, description='Inner Kd:')\n",
        "\n",
        "response_type = widgets.Dropdown(\n",
        "    options=['Step', 'Impulse', 'Ramp'],\n",
        "    value='Step',\n",
        "    description='Response Type:',\n",
        "    style={'description_width': 'initial'}\n",
        ")\n",
        "\n",
        "duration_input = widgets.FloatText(value=10.0, description='Duration (s):')\n",
        "\n",
        "bode_plot_button = widgets.Checkbox(\n",
        "    value=True,\n",
        "    description='Show Bode Plot',\n",
        "    style={'description_width': 'initial'}\n",
        ")\n",
        "\n",
        "output_area = widgets.Output()\n",
        "\n",
        "# Simulation handler\n",
        "def update_plot(change):\n",
        "    with output_area:\n",
        "        clear_output(wait=True)\n",
        "        try:\n",
        "            # Parse plant transfer function\n",
        "            plant = parse_transfer_function(numerator_input.value, denominator_input.value)\n",
        "\n",
        "            # Create PID controllers\n",
        "            outer_pid = create_pid_controller(kp_outer.value, ki_outer.value, kd_outer.value)\n",
        "            inner_pid = create_pid_controller(kp_inner.value, ki_inner.value, kd_inner.value)\n",
        "\n",
        "            # Inner loop\n",
        "            inner_loop = feedback(inner_pid * plant, 1)\n",
        "\n",
        "            # Outer loop\n",
        "            cascaded_system = feedback(outer_pid * inner_loop, 1)\n",
        "\n",
        "            # Plot chosen response\n",
        "            plot_response(cascaded_system, response_type.value, duration=duration_input.value)\n",
        "\n",
        "            # Optionally show Bode plot\n",
        "            if bode_plot_button.value:\n",
        "                plot_bode(cascaded_system)\n",
        "\n",
        "        except ValueError as ve:\n",
        "            print(f\"Error: {ve}\")\n",
        "        except Exception as e:\n",
        "            print(f\"Unexpected error: {e}\")\n",
        "\n",
        "# Attach update function to sliders\n",
        "kp_outer.observe(update_plot, names='value')\n",
        "ki_outer.observe(update_plot, names='value')\n",
        "kd_outer.observe(update_plot, names='value')\n",
        "kp_inner.observe(update_plot, names='value')\n",
        "ki_inner.observe(update_plot, names='value')\n",
        "kd_inner.observe(update_plot, names='value')\n",
        "response_type.observe(update_plot, names='value')\n",
        "duration_input.observe(update_plot, names='value')\n",
        "bode_plot_button.observe(update_plot, names='value')\n",
        "\n",
        "# Display widgets\n",
        "display(widgets.VBox([\n",
        "    widgets.Label(value=\"Cascaded Control System with PID Controllers\"),\n",
        "    numerator_input,\n",
        "    denominator_input,\n",
        "    widgets.Label(value=\"Outer Loop PID Controller Parameters\"),\n",
        "    kp_outer, ki_outer, kd_outer,\n",
        "    widgets.Label(value=\"Inner Loop PID Controller Parameters\"),\n",
        "    kp_inner, ki_inner, kd_inner,\n",
        "    response_type, duration_input, bode_plot_button,\n",
        "    output_area\n",
        "]))\n",
        "\n",
        "# Initial plot\n",
        "update_plot(None)"
      ]
    }
  ],
  "metadata": {
    "colab": {
      "provenance": []
    },
    "kernelspec": {
      "display_name": "venv",
      "language": "python",
      "name": "python3"
    },
    "language_info": {
      "codemirror_mode": {
        "name": "ipython",
        "version": 3
      },
      "file_extension": ".py",
      "mimetype": "text/x-python",
      "name": "python",
      "nbconvert_exporter": "python",
      "pygments_lexer": "ipython3",
      "version": "3.12.7"
    },
    "widgets": {
      "application/vnd.jupyter.widget-state+json": {
        "1bce2560b0d5480991e5ac198b35c3c5": {
          "model_module": "@jupyter-widgets/controls",
          "model_name": "TextModel",
          "model_module_version": "1.5.0",
          "state": {
            "_dom_classes": [],
            "_model_module": "@jupyter-widgets/controls",
            "_model_module_version": "1.5.0",
            "_model_name": "TextModel",
            "_view_count": null,
            "_view_module": "@jupyter-widgets/controls",
            "_view_module_version": "1.5.0",
            "_view_name": "TextView",
            "continuous_update": true,
            "description": "Numerator:",
            "description_tooltip": null,
            "disabled": false,
            "layout": "IPY_MODEL_f5bda4c9b3b7421c810d1cf8ba5ed75e",
            "placeholder": "Enter coefficients separated by commas",
            "style": "IPY_MODEL_d59b17c5d50e4bcbb05a2d2c25b7f2a0",
            "value": "1, 6"
          }
        },
        "f5bda4c9b3b7421c810d1cf8ba5ed75e": {
          "model_module": "@jupyter-widgets/base",
          "model_name": "LayoutModel",
          "model_module_version": "1.2.0",
          "state": {
            "_model_module": "@jupyter-widgets/base",
            "_model_module_version": "1.2.0",
            "_model_name": "LayoutModel",
            "_view_count": null,
            "_view_module": "@jupyter-widgets/base",
            "_view_module_version": "1.2.0",
            "_view_name": "LayoutView",
            "align_content": null,
            "align_items": null,
            "align_self": null,
            "border": null,
            "bottom": null,
            "display": null,
            "flex": null,
            "flex_flow": null,
            "grid_area": null,
            "grid_auto_columns": null,
            "grid_auto_flow": null,
            "grid_auto_rows": null,
            "grid_column": null,
            "grid_gap": null,
            "grid_row": null,
            "grid_template_areas": null,
            "grid_template_columns": null,
            "grid_template_rows": null,
            "height": null,
            "justify_content": null,
            "justify_items": null,
            "left": null,
            "margin": null,
            "max_height": null,
            "max_width": null,
            "min_height": null,
            "min_width": null,
            "object_fit": null,
            "object_position": null,
            "order": null,
            "overflow": null,
            "overflow_x": null,
            "overflow_y": null,
            "padding": null,
            "right": null,
            "top": null,
            "visibility": null,
            "width": null
          }
        },
        "d59b17c5d50e4bcbb05a2d2c25b7f2a0": {
          "model_module": "@jupyter-widgets/controls",
          "model_name": "DescriptionStyleModel",
          "model_module_version": "1.5.0",
          "state": {
            "_model_module": "@jupyter-widgets/controls",
            "_model_module_version": "1.5.0",
            "_model_name": "DescriptionStyleModel",
            "_view_count": null,
            "_view_module": "@jupyter-widgets/base",
            "_view_module_version": "1.2.0",
            "_view_name": "StyleView",
            "description_width": ""
          }
        },
        "c926af6937cc408ab783c98bafff4cef": {
          "model_module": "@jupyter-widgets/controls",
          "model_name": "TextModel",
          "model_module_version": "1.5.0",
          "state": {
            "_dom_classes": [],
            "_model_module": "@jupyter-widgets/controls",
            "_model_module_version": "1.5.0",
            "_model_name": "TextModel",
            "_view_count": null,
            "_view_module": "@jupyter-widgets/controls",
            "_view_module_version": "1.5.0",
            "_view_name": "TextView",
            "continuous_update": true,
            "description": "Denominator:",
            "description_tooltip": null,
            "disabled": false,
            "layout": "IPY_MODEL_ff9de159ff6a42dd98f3d1a691d8bdd5",
            "placeholder": "Enter coefficients separated by commas",
            "style": "IPY_MODEL_5f221f4881684b80afbf1969a59d9c82",
            "value": "1, 6, 1"
          }
        },
        "ff9de159ff6a42dd98f3d1a691d8bdd5": {
          "model_module": "@jupyter-widgets/base",
          "model_name": "LayoutModel",
          "model_module_version": "1.2.0",
          "state": {
            "_model_module": "@jupyter-widgets/base",
            "_model_module_version": "1.2.0",
            "_model_name": "LayoutModel",
            "_view_count": null,
            "_view_module": "@jupyter-widgets/base",
            "_view_module_version": "1.2.0",
            "_view_name": "LayoutView",
            "align_content": null,
            "align_items": null,
            "align_self": null,
            "border": null,
            "bottom": null,
            "display": null,
            "flex": null,
            "flex_flow": null,
            "grid_area": null,
            "grid_auto_columns": null,
            "grid_auto_flow": null,
            "grid_auto_rows": null,
            "grid_column": null,
            "grid_gap": null,
            "grid_row": null,
            "grid_template_areas": null,
            "grid_template_columns": null,
            "grid_template_rows": null,
            "height": null,
            "justify_content": null,
            "justify_items": null,
            "left": null,
            "margin": null,
            "max_height": null,
            "max_width": null,
            "min_height": null,
            "min_width": null,
            "object_fit": null,
            "object_position": null,
            "order": null,
            "overflow": null,
            "overflow_x": null,
            "overflow_y": null,
            "padding": null,
            "right": null,
            "top": null,
            "visibility": null,
            "width": null
          }
        },
        "5f221f4881684b80afbf1969a59d9c82": {
          "model_module": "@jupyter-widgets/controls",
          "model_name": "DescriptionStyleModel",
          "model_module_version": "1.5.0",
          "state": {
            "_model_module": "@jupyter-widgets/controls",
            "_model_module_version": "1.5.0",
            "_model_name": "DescriptionStyleModel",
            "_view_count": null,
            "_view_module": "@jupyter-widgets/base",
            "_view_module_version": "1.2.0",
            "_view_name": "StyleView",
            "description_width": ""
          }
        },
        "3fc23870131b49d1a0243b9a140c0140": {
          "model_module": "@jupyter-widgets/controls",
          "model_name": "FloatSliderModel",
          "model_module_version": "1.5.0",
          "state": {
            "_dom_classes": [],
            "_model_module": "@jupyter-widgets/controls",
            "_model_module_version": "1.5.0",
            "_model_name": "FloatSliderModel",
            "_view_count": null,
            "_view_module": "@jupyter-widgets/controls",
            "_view_module_version": "1.5.0",
            "_view_name": "FloatSliderView",
            "continuous_update": false,
            "description": "Time Delay (s):",
            "description_tooltip": null,
            "disabled": false,
            "layout": "IPY_MODEL_492eac3607084ddabf708018607b99c0",
            "max": 5,
            "min": 0,
            "orientation": "horizontal",
            "readout": true,
            "readout_format": ".2f",
            "step": 0.01,
            "style": "IPY_MODEL_bd97e6dec9a24a1dac1e49d7dc376055",
            "value": 5
          }
        },
        "492eac3607084ddabf708018607b99c0": {
          "model_module": "@jupyter-widgets/base",
          "model_name": "LayoutModel",
          "model_module_version": "1.2.0",
          "state": {
            "_model_module": "@jupyter-widgets/base",
            "_model_module_version": "1.2.0",
            "_model_name": "LayoutModel",
            "_view_count": null,
            "_view_module": "@jupyter-widgets/base",
            "_view_module_version": "1.2.0",
            "_view_name": "LayoutView",
            "align_content": null,
            "align_items": null,
            "align_self": null,
            "border": null,
            "bottom": null,
            "display": null,
            "flex": null,
            "flex_flow": null,
            "grid_area": null,
            "grid_auto_columns": null,
            "grid_auto_flow": null,
            "grid_auto_rows": null,
            "grid_column": null,
            "grid_gap": null,
            "grid_row": null,
            "grid_template_areas": null,
            "grid_template_columns": null,
            "grid_template_rows": null,
            "height": null,
            "justify_content": null,
            "justify_items": null,
            "left": null,
            "margin": null,
            "max_height": null,
            "max_width": null,
            "min_height": null,
            "min_width": null,
            "object_fit": null,
            "object_position": null,
            "order": null,
            "overflow": null,
            "overflow_x": null,
            "overflow_y": null,
            "padding": null,
            "right": null,
            "top": null,
            "visibility": null,
            "width": null
          }
        },
        "bd97e6dec9a24a1dac1e49d7dc376055": {
          "model_module": "@jupyter-widgets/controls",
          "model_name": "SliderStyleModel",
          "model_module_version": "1.5.0",
          "state": {
            "_model_module": "@jupyter-widgets/controls",
            "_model_module_version": "1.5.0",
            "_model_name": "SliderStyleModel",
            "_view_count": null,
            "_view_module": "@jupyter-widgets/base",
            "_view_module_version": "1.2.0",
            "_view_name": "StyleView",
            "description_width": "",
            "handle_color": null
          }
        },
        "5f1bbac6190044ed825ba3545a84bc4e": {
          "model_module": "@jupyter-widgets/controls",
          "model_name": "ButtonModel",
          "model_module_version": "1.5.0",
          "state": {
            "_dom_classes": [],
            "_model_module": "@jupyter-widgets/controls",
            "_model_module_version": "1.5.0",
            "_model_name": "ButtonModel",
            "_view_count": null,
            "_view_module": "@jupyter-widgets/controls",
            "_view_module_version": "1.5.0",
            "_view_name": "ButtonView",
            "button_style": "success",
            "description": "Generate Nyquist Plots",
            "disabled": false,
            "icon": "",
            "layout": "IPY_MODEL_b5aa2d5cf902425baae530589ccdec6f",
            "style": "IPY_MODEL_1cba4c0f45d34019add519071132bdbe",
            "tooltip": "Click to generate Nyquist plots for the system"
          }
        },
        "b5aa2d5cf902425baae530589ccdec6f": {
          "model_module": "@jupyter-widgets/base",
          "model_name": "LayoutModel",
          "model_module_version": "1.2.0",
          "state": {
            "_model_module": "@jupyter-widgets/base",
            "_model_module_version": "1.2.0",
            "_model_name": "LayoutModel",
            "_view_count": null,
            "_view_module": "@jupyter-widgets/base",
            "_view_module_version": "1.2.0",
            "_view_name": "LayoutView",
            "align_content": null,
            "align_items": null,
            "align_self": null,
            "border": null,
            "bottom": null,
            "display": null,
            "flex": null,
            "flex_flow": null,
            "grid_area": null,
            "grid_auto_columns": null,
            "grid_auto_flow": null,
            "grid_auto_rows": null,
            "grid_column": null,
            "grid_gap": null,
            "grid_row": null,
            "grid_template_areas": null,
            "grid_template_columns": null,
            "grid_template_rows": null,
            "height": null,
            "justify_content": null,
            "justify_items": null,
            "left": null,
            "margin": null,
            "max_height": null,
            "max_width": null,
            "min_height": null,
            "min_width": null,
            "object_fit": null,
            "object_position": null,
            "order": null,
            "overflow": null,
            "overflow_x": null,
            "overflow_y": null,
            "padding": null,
            "right": null,
            "top": null,
            "visibility": null,
            "width": null
          }
        },
        "1cba4c0f45d34019add519071132bdbe": {
          "model_module": "@jupyter-widgets/controls",
          "model_name": "ButtonStyleModel",
          "model_module_version": "1.5.0",
          "state": {
            "_model_module": "@jupyter-widgets/controls",
            "_model_module_version": "1.5.0",
            "_model_name": "ButtonStyleModel",
            "_view_count": null,
            "_view_module": "@jupyter-widgets/base",
            "_view_module_version": "1.2.0",
            "_view_name": "StyleView",
            "button_color": null,
            "font_weight": ""
          }
        },
        "c61d968e79f34a7880289805a73586b6": {
          "model_module": "@jupyter-widgets/output",
          "model_name": "OutputModel",
          "model_module_version": "1.0.0",
          "state": {
            "_dom_classes": [],
            "_model_module": "@jupyter-widgets/output",
            "_model_module_version": "1.0.0",
            "_model_name": "OutputModel",
            "_view_count": null,
            "_view_module": "@jupyter-widgets/output",
            "_view_module_version": "1.0.0",
            "_view_name": "OutputView",
            "layout": "IPY_MODEL_a9c2a96c3f39497e89ea3477207733e4",
            "msg_id": "",
            "outputs": [
              {
                "output_type": "display_data",
                "data": {
                  "text/plain": "<Figure size 1000x600 with 1 Axes>",
                  "image/png": "iVBORw0KGgoAAAANSUhEUgAAA90AAAJRCAYAAABYy9SRAAAAOXRFWHRTb2Z0d2FyZQBNYXRwbG90bGliIHZlcnNpb24zLjguMCwgaHR0cHM6Ly9tYXRwbG90bGliLm9yZy81sbWrAAAACXBIWXMAAA9hAAAPYQGoP6dpAAEAAElEQVR4nOzdd3hT1RvA8W+694KWFiilLavsJVNoy95LBBSZskUFRQUHAi5QGU4E/FkUxA2IysZW9kY2ZYNAgTJLS2d6f38ckjS0hQJt0/F+nuc+Se69ufdNSEree855j07TNA0hhBBCCCGEEELkOitLByCEEEIIIYQQQhRVknQLIYQQQgghhBB5RJJuIYQQQgghhBAij0jSLYQQQgghhBBC5BFJuoUQQgghhBBCiDwiSbcQQgghhBBCCJFHJOkWQgghhBBCCCHyiCTdQgghhBBCCCFEHpGkWwghhBBCCCGEyCOSdAshhCj0Jk2aRO3atfP9vGFhYYwZMyZPjj137lz8/f2xsrJi1qxZeXKO3DZ//nx0Oh06nS7P3peCfP6shIWFGWP6999/i935hRBCSNIthBDiIQwcOBCdTsfUqVPN1i9duhSdTpfv8YwbN45169blaF9LJeigkkIPD4/77hcXF8fo0aN57bXXOH/+PMOGDcv74HKJm5sbMTExvPPOO8Z1kyZNokqVKjg7O+Pp6UmrVq3Ytm2b2fPKly9vTA4Ny92fr59//pnatWvj5OREQEAAH330kdn23r17ExMTQ+PGjfPuBT6EoUOHEhMTQ/Xq1QG4evUq7dq1o3Tp0tjb2+Pv78/o0aOJi4szPicqKirT+6HT6bh48aLZsc+fP88zzzxDiRIlcHR0pEaNGuzcudO4ffHixWzfvj1/XqgQQogs2Vg6ACGEEIWTg4MD06ZNY/jw4Xh6elo0FhcXF1xcXCwaQ246e/YsqampdOzYET8/v4c+TmpqKra2trkY2f3pdDp8fX3N1lWqVInPP/+coKAgEhMTmTlzJm3atOH48eN4e3sb95syZQpDhw41PnZ1dTXeX7FiBX379uWzzz6jTZs2HD58mKFDh+Lo6Mjo0aMBcHR0xNHRETs7uzx+lQ/GycnJ7D2xsrKia9euvPvuu3h7e3P8+HGee+45rl27xqJFi8yeGx0djZubm/Gxj4+P8f7169dp2rQp4eHhrFixAm9vb44dO2b2ffTy8jJL5oUQQuQ/aekWQgjxUFq1aoWvry8ffPBBltsTEhJwc3Pj119/NVu/dOlSnJ2duXXrFgDbt2+nTp06ODg4UL9+fZYsWWLWFTar1uG7W9Tvbr2OioqiQYMGODs74+HhQdOmTTlz5gzz589n8uTJ7N2719hyOH/+/CzjHzhwIN26dWPy5Ml4e3vj5ubGiBEjSElJyfY9uX79Ov3798fT0xMnJyfat2/PsWPHjDENGjSImzdvGs89adKkTMeYP38+NWrUACAoKAidTsfp06cBmD17NsHBwdjZ2VG5cmUWLFhg9lydTsfs2bPp0qULzs7OvPfee1nG+eWXX1KxYkUcHBwoVaoUPXv2BOC7776jRIkSJCcnm+3frVs3+vXrB8DevXsJDw/H1dUVNzc36tWrZ9aympWnn36aVq1aERQURLVq1ZgxYwZxcXHs27fPbD9XV1d8fX2Ni7Ozs3HbggUL6NatGyNGjCAoKIiOHTsyYcIEpk2bhqZp9zz//Vy/fp2+ffvi7e2No6MjFStWJCIiAoAWLVoYk3qD2NhY7OzsjL0rsns/s+Pp6cnIkSOpX78+AQEBtGzZklGjRrFhw4ZM+/r4+Ji9J1ZWpp9u06ZNw9/fn4iICBo0aEBgYCBt2rQhODj4kd4PIYQQuUuSbiGEEA/F2tqa999/n88++4xz585l2u7s7EyfPn2MyYtBREQEPXv2xNXVlfj4eDp16kTVqlXZtWsXkyZNYty4cY8UV1paGt26dSM0NJR9+/axZcsWhg0bhk6no3fv3rz88stUq1aNmJgYYmJi6N27d7bHWrduHYcPHyYqKooffviBxYsXM3ny5Gz3HzhwIDt37mTZsmVs2bIFTdPo0KEDqampNGnShFmzZhm7X8fExGT5Wnv37s3atWsBdUEiJiYGf39/lixZwosvvsjLL7/MgQMHGD58OIMGDSIyMtLs+ZMmTaJ79+7s37+fwYMHZzr+zp07eeGFF5gyZQrR0dGsXLmS5s2bA/Dkk0+i1+tZtmyZcf/Lly/z119/GY/Vt29fypYty44dO9i1axfjx49/oNb0lJQU5s6di7u7O7Vq1TLbNnXqVEqUKEGdOnX46KOPSEtLM25LTk7GwcHBbH9HR0fOnTvHmTNncnz+rLz11lscOnSIFStWcPjwYWbPnk3JkiUBGDJkCIsWLTK7ELFw4ULKlClDixYt7vl+5tSFCxdYvHgxoaGhmbbVrl0bPz8/WrduzaZNm8y2LVu2jPr16/Pkk0/i4+NDnTp1mDdv3kO8A0IIIfKUJoQQQjygAQMGaF27dtU0TdMaNWqkDR48WNM0TVuyZImW8b+Wbdu2adbW1tqFCxc0TdO0S5cuaTY2NlpUVJSmaZo2Z84crUSJElpiYqLxObNnz9YAbc+ePZqmaVpERITm7u5udv67z/P2229rtWrV0jRN065evaoBxnPcLeO+93uNXl5eWkJCgllsLi4uml6v1zRN00JDQ7UXX3xR0zRNO3r0qAZomzZtMu5/5coVzdHRUfv555+zfS1Z2bNnjwZop06dMq5r0qSJNnToULP9nnzySa1Dhw7Gx4A2ZsyYex77t99+09zc3LS4uLgst48cOVJr37698fH06dO1oKAgLT09XdM0TXN1ddXmz5+f5XPv9fr++OMPzdnZWdPpdFrp0qW17du3m22fPn26FhkZqe3du1ebPXu25uHhoY0dO9a4fc6cOZqTk5O2du1aTa/Xa9HR0VqVKlU0QNu8ebPZsTL+u+RE586dtUGDBmW5LTExUfP09NR++ukn47qaNWtqkyZN0jTt/u/nvWLp06eP5ujoqAFa586dzb4HR44c0b766itt586d2qZNm7RBgwZpNjY22q5du4z72Nvba/b29tqECRO03bt3a3PmzNEcHBwy/fucOnXK7DslhBAif0lLtxBCiEcybdo0vv32Ww4fPpxpW4MGDahWrRrffvstoFoIAwICjC2Bhw8fpmbNmmYtmI9aBMvLy4uBAwfStm1bOnfuzCeffEJMTMxDHatWrVo4OTmZxRYfH89///2Xad/Dhw9jY2NDw4YNjetKlChB5cqVs3xvHtThw4dp2rSp2bqmTZtmOnb9+vXveZzWrVsTEBBAUFAQ/fr14/vvv+f27dvG7UOHDmX16tWcP38eUN3dDYXzAF566SWGDBlCq1atmDp1KidOnMhR/OHh4fz7779s3ryZdu3a0atXLy5fvmzc/tJLLxEWFkbNmjUZMWIE06dP57PPPjO2MA8dOpTRo0fTqVMn7OzsaNSoEX369AEw63L9MEaOHMmPP/5I7dq1efXVV9m8ebNxm4ODA/369eObb74BYPfu3Rw4cICBAwcC938/72XmzJns3r2b33//nRMnTvDSSy8Zt1WuXJnhw4dTr149mjRpwjfffEOTJk2YOXOmcZ/09HTq1q3L+++/T506dRg2bBhDhw7lq6++eqT3QwghRO6SpFsIIcQjad68OW3btmXChAlZbh8yZIhx3HRERASDBg16oArnVlZWmcbspqam3vM5ERERbNmyhSZNmvDTTz9RqVIltm7dmuNzFmYZx0FnxdXVld27d/PDDz/g5+fHxIkTqVWrFjdu3ACgTp061KpVi++++45du3Zx8OBBY4IJqvv6wYMH6dixI3///TdVq1ZlyZIlOYqrQoUKNGrUiP/973/Y2Njwv//9L9v9GzZsSFpamnE8u06nY9q0acTHx3PmzBkuXrxIgwYNADX2/VG0b9+eM2fOMHbsWC5cuEDLli3Nuv4PGTKENWvWcO7cOSIiImjRogUBAQHA/d/Pe/H19aVKlSp06dKFOXPmMHv27HteIGrQoAHHjx83Pvbz86Nq1apm+4SEhHD27NkHfAeEEELkJUm6hRBCPLKpU6fyxx9/sGXLlkzbnnnmGc6cOcOnn37KoUOHGDBggHFbSEgI+/btIykpybju7uTY29ubW7dukZCQYFyXk/mG69Spw4QJE9i8eTPVq1c3VoW2s7NDr9fn6HXt3buXxMREs9hcXFzw9/fPtG9ISAhpaWlmU2FdvXqV6OhoY2L0IOfO6vh3j+ndtGlTpqQrJ2xsbGjVqhUffvgh+/bt4/Tp0/z999/G7YYLJREREbRq1SrT661UqRJjx45l9erV9OjRI9O4/ZxIT0/PVLAto3///RcrKyuzat2gagmUKVMGOzs7fvjhBxo3bmxWAf1heXt7M2DAABYuXMisWbOYO3eucVuNGjWoX78+8+bNY9GiRZnGyt/v/cyJ9PR0gPu+Jxmr2Tdt2pTo6GizfY4ePWq8ICCEEKJgkCnDhBBCPLIaNWrQt29fPv3000zbPD096dGjB6+88gpt2rShbNmyxm1PP/00b7zxBkOHDmXChAmcPn2ajz/+2Oz5DRs2xMnJiddff50XXniBbdu2ZVtxHODUqVPMnTuXLl26ULp0aaKjozl27Bj9+/cH1HzQp06d4t9//6Vs2bK4urpib2+f5bFSUlJ49tlnefPNNzl9+jRvv/02o0ePzrI7c8WKFenatStDhw5lzpw5uLq6Mn78eMqUKUPXrl2N546Pj2fdunXGrusZu6/fyyuvvEKvXr2oU6cOrVq14o8//mDx4sXGoms59eeff3Ly5EmaN2+Op6cny5cvJz09ncqVKxv3efrppxk3bhzz5s3ju+++M65PTEzklVdeoWfPngQGBnLu3Dl27NjBE088ke35EhISeO+99+jSpQt+fn5cuXKFL774gvPnz/Pkk08CsGXLFrZt22asir5lyxbGjh3LM888Y5z+6sqVK/z666+EhYWRlJREREQEv/zyC//8888Dvf6sTJw4kXr16lGtWjWSk5P5888/CQkJMdtnyJAhjB49GmdnZ7p37/5A7+fdli9fzqVLl3jsscdwcXHh4MGDvPLKKzRt2pTy5csDMGvWLAIDA6lWrRpJSUl8/fXX/P3336xevdp4nLFjx9KkSRPef/99evXqxfbt25k7d67ZBQMhhBAFgKUHlQshhCh8MhZSMzh16pRmZ2enZfVfy7p16zTAWFAsoy1btmi1atXS7OzstNq1a2u//fZbpqJPS5Ys0SpUqKA5OjpqnTp10ubOnZttIbWLFy9q3bp10/z8/DQ7OzstICBAmzhxorH4WVJSkvbEE09oHh4eGqBFRETc8zVOnDhRK1GihObi4qINHTpUS0pKMu5zd5Gsa9euaf369dPc3d01R0dHrW3bttrRo0fNjjtixAitRIkSGqC9/fbbWZ47q0JqmqZpX375pRYUFKTZ2tpqlSpV0r777juz7YC2ZMmSLI9psGHDBi00NFTz9PTUHB0dtZo1a5oVCTPo16+f5uXlZfZ6k5OTtT59+mj+/v6anZ2dVrp0aW306NHGAmBZFVJLTEzUunfvrpUuXVqzs7PT/Pz8tC5dupgVUtu1a5fWsGFDzd3dXXNwcNBCQkK0999/3+zcsbGxWqNGjTRnZ2fNyclJa9mypbZ169YsX+Pd/y4DBgzQQkNDs31P3nnnHS0kJERzdHTUvLy8tK5du2onT5402+fWrVuak5OTNmrUqAd6P7MqpPb3339rjRs3Nr7eihUraq+99pp2/fp14z7Tpk3TgoODNQcHB83Ly0sLCwvT/v7770yx//HHH1r16tU1e3t7rUqVKtrcuXMz7SOF1IQQwrJ0mvaIk1sKIYQQ97FgwQLjeFk7O7t77nv69GkCAwPZs2eP2dzb+W3gwIHcuHGDpUuXWiwGS2rZsiXVqlXLsvdCdubPn8+YMWNyNJ45L4WFhVG7dm1mzZoFQGhoKOHh4VnOi55Tp0+fJjg4mB07dlC3bt2HjsUSCsp3SgghiisZ0y2EECLP3L59mxMnTjB16lSGDx9+34RbWN7169dZsmQJUVFRPPfccw/8/Js3b+Li4sJrr72WB9Hd2/fff4+LiwsbNmwwi+fEiRMPPf97amoqFy9e5M0336RRo0YPlHAbfPnll7i4uLB///6HiuFRtG/fnmrVquX7eYUQQpjImG4hhBB55sMPP+S9996jefPm2VY3FwVLnTp1uH79OtOmTbvnuOSsPPHEEzz++OMAeHh45EF099alSxfjlG2G87u7u3Pu3LmHPuamTZsIDw+nUqVK/Prrrw/8/O+//95YjK9cuXIPHcfD+vrrry16fiGEECDdy4UQQgghhBBCiDwi3cuFEEIIIYQQQog8Ikm3EEIIIYQQQgiRRyTpFkIIIYQQQggh8ogk3UIIIYQQQgghRB6RpFsIIYQQQgghhMgjknQLIYQQQgghhBB5RJJuIYQQQgghhBAij0jSLYQQQgghhBBC5BFJuoUQQgghhBBCiDwiSbcQQgghhBBCCJFHJOkWQgghhBBCCCHyiCTdQgghhBBCCCFEHpGkWwghhBBCCCGEyCOSdAshhBBCCCGEEHlEkm4hhBBCCCGEECKPSNIthBBCCCGEEELkEUm6hRBCCCGEEEKIPCJJtxBCiEx0Oh2TJk2ydBgAhIWFERYWZukwsjVw4EDKly+f431dXFzyNqBcEBUVhU6nIyoqKk+O/yD/pmFhYVSvXj1P4rCUgvT9ymuTJk1Cp9NZOgwhhLAoSbqFECIfzJ8/H51Oh4ODA+fPn8+0vSgkFosWLWLWrFk53r98+fLodDrj4uPjQ7NmzViyZEmuxHP79m0mTZqUZ4ljQTtvYXbhwgUmTZrEv//+a+lQzCxfvjxHybHh+32/JacXZ/LbwIEDzeJ0cXEhKCiInj178ttvv5Genm7pEIUQolCzsXQAQghRnCQnJzN16lQ+++wzS4dyT4mJidjYPNh/EYsWLeLAgQOMGTMmx8+pXbs2L7/8MqASrzlz5tCjRw9mz57NiBEjHuj8d7t9+zaTJ08GyNOW8nnz5pklJfl13sJs9erVZo8vXLjA5MmTKV++PLVr17ZMUFlYvnw5X3zxxX0T7+bNm7NgwQKzdUOGDKFBgwYMGzbMuM7Qy+Fhvl95zd7enq+//hpQ8Z05c4Y//viDnj17EhYWxu+//46bm5uFoxRCiMKpYP3FF0KIIq527drMmzePCRMmULp0aUuHky0HB4d8OU+ZMmV45plnjI/79+9PhQoVmDlz5iMn3fnF1tbW0iEUOnZ2dpYOIVcFBQURFBRktm7EiBEEBQWZfb4N8uv79SBsbGwyxfruu+8ydepUJkyYwNChQ/npp58sFJ0QQhRu0r1cCCHy0euvv45er2fq1Kn33C80NJRatWplua1y5cq0bdvW+PjGjRsMHDgQd3d3PDw8GDBgAP/++y86nY758+cb98tuHG1WY5LvHnN669YtxowZQ/ny5bG3t8fHx4fWrVuze/du47H/+usvzpw580hdaX19fQkJCeHUqVP33O/y5cs8++yzlCpVCgcHB2rVqsW3335r3H769Gm8vb0BmDx5sjGm7Fosb9y4gbW1NZ9++qlx3ZUrV7CysqJEiRJommZcP3LkSHx9fY2PM75/OT3v+fPn6datGy4uLnh7ezNu3Dj0ev1935/ff/+djh07Urp0aezt7QkODuadd97J9FzDcIVDhw4RHh6Ok5MTZcqU4cMPP8x0zHPnztGtWzecnZ3x8fFh7NixJCcn3zeWffv2odPpWLZsmXHdrl270Ol01K1b12zf9u3b07BhQ7P4DJ/FqKgoHnvsMQAGDRpkfM8yfnaBHL2W+30uDOfLarz66dOnzc47cOBAvvjiCwCzrte54e7PhGHc89GjR3nmmWdwd3fH29ubt956C03T+O+//+jatStubm74+voyffr0TMdMTk7m7bffpkKFCtjb2+Pv78+rr76ao3/Lexk/fjxt2rThl19+4ejRo2bbVqxYQbNmzXB2dsbV1ZWOHTty8ODB+x4zIiKCFi1a4OPjg729PVWrVmX27Nlm+wwYMICSJUuSmpqa6flt2rShcuXKj/S6hBAiP0nSLYQQ+SgwMJD+/fszb948Lly4kO1+/fr1Y9++fRw4cMBs/Y4dO4w/zAE0TaNr164sWLCAZ555hnfffZdz584xYMCAXI17xIgRzJ49myeeeIIvv/yScePG4ejoyOHDhwF44403qF27NiVLlmTBggUsWLDggcZ3G6SmpvLff/9RokSJbPdJTEwkLCyMBQsW0LdvXz766CPc3d0ZOHAgn3zyCQDe3t7GH/Hdu3c3xtSjR48sj+nh4UH16tVZv369cd3GjRvR6XRcu3aNQ4cOGddv2LCBZs2aZXmcnJxXr9fTtm1bSpQowccff0xoaCjTp09n7ty5931/5s+fj4uLCy+99BKffPIJ9erVY+LEiYwfPz7TvtevX6ddu3bUqlWL6dOnU6VKFV577TVWrFhh9l62bNmSVatWMXr0aN544w02bNjAq6++et9YqlevjoeHh9l7tmHDBqysrNi7dy9xcXEApKens3nzZpo3b57lcUJCQpgyZQoAw4YNM75nGffP6Wu53+fiQQwfPpzWrVsDGGO6uwt5buvduzfp6elMnTqVhg0b8u677zJr1ixat25NmTJlmDZtGhUqVGDcuHFm73t6ejpdunTh448/pnPnznz22Wd069aNmTNn0rt370eOq1+/fmiaxpo1a4zrFixYQMeOHXFxcWHatGm89dZbHDp0iMcff5zTp0/f83izZ88mICCA119/nenTp+Pv78+oUaOMFzkM57x69SqrVq0ye+7Fixf5+++/s+xBIIQQBZYmhBAiz0VERGiAtmPHDu3EiROajY2N9sILLxi3h4aGatWqVTM+vnHjhubg4KC99tprZsd54YUXNGdnZy0+Pl7TNE1bunSpBmgffvihcZ+0tDStWbNmGqBFRESYnSM0NDRTbAMGDNACAgLM1gHa22+/bXzs7u6uPffcc/d8jR07dsx0nHsJCAjQ2rRpo8XGxmqxsbHa3r17tT59+miA9vzzz2cb96xZszRAW7hwoXFdSkqK1rhxY83FxUWLi4vTNE3TYmNjM72Oe3nuuee0UqVKGR+/9NJLWvPmzTUfHx9t9uzZmqZp2tWrVzWdTqd98sknxv3ufv/udd4BAwZogDZlyhSz9XXq1NHq1at33xhv376dad3w4cM1JycnLSkpybguNDRUA7TvvvvOuC45OVnz9fXVnnjiCeM6w3v5888/G9clJCRoFSpU0AAtMjLynvF07NhRa9CggfFxjx49tB49emjW1tbaihUrNE3TtN27d2uA9vvvv5vFl/HfdMeOHZk+rw/7Wu73uYiMjMzytZ06dSpTDM8995z2sD+VnJ2dtQEDBmS57e7Px9tvv60B2rBhw4zr0tLStLJly2o6nU6bOnWqcf3169c1R0dHs2MvWLBAs7Ky0jZs2GB2nq+++koDtE2bNt0z1gEDBmjOzs7Zbt+zZ48GaGPHjtU0TdNu3bqleXh4aEOHDjXb7+LFi5q7u7vZesNryyirz3Hbtm21oKAg42O9Xq+VLVtW6927t9l+M2bM0HQ6nXby5Ml7viYhhChIpKVbCCHyWVBQEP369WPu3LnExMRkuY+7uztdu3blhx9+MHZt1uv1/PTTT8auwKAKPdnY2DBy5Ejjc62trXn++edzNWYPDw+2bdt2z9b5h7F69Wq8vb3x9vamVq1a/PLLL/Tr149p06Zl+5zly5fj6+vLU089ZVxna2vLCy+8QHx8PP/8889DxdKsWTMuXbpEdHQ0oFptmzdvTrNmzdiwYQOgWr81Tcu2pTun7h6v3qxZM06ePHnf5zk6Ohrv37p1iytXrtCsWTNu377NkSNHzPZ1cXExaw20s7OjQYMGZudZvnw5fn5+9OzZ07jOycnJrPjXvTRr1ozdu3eTkJAAqPenQ4cO1K5d2/iebdiwAZ1Ox+OPP56jY2Ylp68lLz4X+WnIkCHG+9bW1tSvXx9N03j22WeN6z08PKhcubLZa//ll18ICQmhSpUqXLlyxbi0aNECgMjIyEeKy1AA7tatWwCsWbOGGzdu8NRTT5mdz9ramoYNG973fBk/xzdv3uTKlSuEhoZy8uRJbt68CYCVlRV9+/Zl2bJlxvMCfP/99zRp0oTAwMBHek1CCJGfJOkWQggLePPNN0lLS7vn2O7+/ftz9uxZY/Kydu1aLl26RL9+/Yz7nDlzBj8/v0xzP+f2eMcPP/yQAwcO4O/vT4MGDZg0aVKOksT7adiwIWvWrGHt2rVs3ryZK1eu8N1335n9KL/bmTNnqFixIlZW5v+FhYSEGLc/DEMivWHDBhISEtizZw/NmjWjefPmZgmkm5tbtuPtc8LBwcE47tvA09OT69ev3/e5Bw8epHv37ri7u+Pm5oa3t7cxGTUkKwZly5bNNAb57vOcOXOGChUqZNovp5+fZs2akZaWxpYtW4iOjuby5ctZvmdVq1bFy8srR8fMSk5fS158LvJTuXLlzB67u7vj4OBAyZIlM63P+NqPHTvGwYMHjRewDEulSpUANdb9UcTHxwPg6upqPB9AixYtMp1z9erV9z3fpk2baNWqFc7Oznh4eODt7c3rr78OmH+O+/fvT2JionEawejoaHbt2mX2N1AIIQoDqV4uhBAWYKhqPHfu3CzH4wK0bduWUqVKsXDhQpo3b87ChQvx9fWlVatWD3VOnU5nVhDMICcFvHr16mWcQ3v16tV89NFHTJs2jcWLF9O+ffuHigegZMmSD/16clvp0qUJDAxk/fr1lC9fHk3TaNy4Md7e3rz44oucOXOGDRs20KRJk0yJ3YOwtrZ+qOfduHGD0NBQ3NzcmDJlCsHBwTg4OLB7925ee+21THMpZ3eerD4DD6t+/fo4ODiwfv16ypUrh4+PD5UqVaJZs2Z8+eWXJCcns2HDBrp37/5I58nN15JdMbScfA/yWlavMyevPT09nRo1ajBjxows9/X393+kuAy1JSpUqGA8H6hx3RmLChrcazq0EydO0LJlS6pUqcKMGTPw9/fHzs6O5cuXM3PmTLPPcdWqValXrx4LFy6kf//+LFy4EDs7O3r16vVIr0cIIfKbJN1CCGEhb775JgsXLsy2K7W1tTVPP/008+fPZ9q0aSxdupShQ4ea/QgPCAhg3bp1xMfHm7V2G7pIZ+Tp6Zll63ROWwD9/PwYNWoUo0aN4vLly9StW5f33nvPmHTnVmXn+wkICGDfvn2kp6ebJb+G7tUBAQEPHU+zZs1Yv349gYGB1K5dG1dXV2rVqoW7uzsrV65k9+7dxjm4s5NX70NUVBRXr15l8eLFZkXG7lfp/V4CAgI4cOAAmqaZxZ3V5ycrhm7eGzZsoFy5csbeAs2aNSM5OZnvv/+eS5cuZVtEzSA33rOcfi48PT0BdREjo6y+B/n1mX5UwcHB7N27l5YtW+ZJzAsWLECn0xkLywUHBwPg4+PzwBfN/vjjD5KTk1m2bJlZy352XdL79+/PSy+9RExMDIsWLaJjx47Gf0MhhCgspHu5EEJYSHBwMM888wxz5szh4sWLWe7Tr18/rl+/zvDhw4mPj89UsbdDhw6kpaWZTbej1+v57LPPsjzfkSNHiI2NNa7bu3cvmzZtumecer0+U9dlHx8fSpcubTYdkbOzc6b98kKHDh24ePGi2ZzBaWlpfPbZZ7i4uBAaGgqoscmQObm6l2bNmnH69Gl++uknYwJpZWVFkyZNmDFjBqmpqfcdz/0w580Jw8WWjC2cKSkpfPnllw99zA4dOnDhwgV+/fVX47rbt2/nqJK6QbNmzdi2bRuRkZHG96ZkyZKEhIQYLyjd7z0z1Ch4lPcsp5+LgIAArK2tzap/A1m+j7kRV37o1asX58+fZ968eZm2JSYmGsfcP4ypU6eyevVqevfuTcWKFQHVC8fNzY33338/yym9Mv6NuVtWn+ObN28SERGR5f5PPfUUOp2OF198kZMnT0rVciFEoSQt3UIIYUFvvPEGCxYsIDo6mmrVqmXaXqdOHapXr24slHT3/MedO3emadOmjB8/ntOnT1O1alUWL16cZfI7ePBgZsyYQdu2bXn22We5fPkyX331FdWqVTNO75SVW7duUbZsWXr27EmtWrVwcXFh7dq17Nixw2y+4Hr16vHTTz/x0ksv8dhjj+Hi4kLnzp0f4d3J2rBhw5gzZw4DBw5k165dlC9fnl9//ZVNmzYxa9Ys47hTR0dHqlatyk8//USlSpXw8vKievXqVK9ePdtjG5LD6Oho3n//feP65s2bs2LFCuzt7Y1zSmfnYc6bE02aNMHT05MBAwbwwgsvoNPpWLBgwSN1Fx86dCiff/45/fv3Z9euXfj5+bFgwQLjhYOcaNasGe+99x7//fefWXLdvHlz5syZQ/ny5Slbtuw9jxEcHIyHhwdfffUVrq6uODs707BhwwcqlpXTz4W7uztPPvkkn332GTqdjuDgYP78888sxyHXq1cPgBdeeIG2bdtibW1Nnz59chxTfunXrx8///wzI0aMIDIykqZNm6LX6zly5Ag///wzq1aton79+vc8RlpaGgsXLgQgKSmJM2fOsGzZMvbt20d4eLjZhRg3Nzdmz55Nv379qFu3Ln369MHb25uzZ8/y119/0bRpUz7//PMsz9OmTRvs7Ozo3Lmz8WLivHnz8PHxybKwpLe3N+3ateOXX37Bw8ODjh07PsI7JYQQFmKZoulCCFG8ZJwy7G6GaaQyThmW0YcffqgB2vvvv5/l9qtXr2r9+vXT3NzcNHd3d61fv37GKX7unoJp4cKFWlBQkGZnZ6fVrl1bW7Vq1X2nDEtOTtZeeeUVrVatWpqrq6vm7Oys1apVS/vyyy/NnhMfH689/fTTmoeHhwbcd/qwgIAArWPHjvfcR9Oynurs0qVL2qBBg7SSJUtqdnZ2Wo0aNbKcbmrz5s1avXr1NDs7uxxPH+bj46MB2qVLl4zrNm7cqAFas2bNMu2f1fuX3Xmzm5opq2mVsrJp0yatUaNGmqOjo1a6dGnt1Vdf1VatWpVpCqy7p6C7V6xnzpzRunTpojk5OWklS5bUXnzxRW3lypU5mjJM0zQtLi5Os7a21lxdXbW0tDTj+oULF2qA1q9fv0zPyerf9Pfff9eqVq2q2djYmH12H+S15PRzERsbqz3xxBOak5OT5unpqQ0fPlw7cOBApu9MWlqa9vzzz2ve3t6aTqd7oOnDHmbKsNjY2EyvMavPS1bvSUpKijZt2jStWrVqmr29vebp6anVq1dPmzx5snbz5s17xmr4G2RYnJyctPLly2tPPPGE9uuvv2p6vT7L50VGRmpt27bV3N3dNQcHBy04OFgbOHCgtnPnzkyvLaNly5ZpNWvW1BwcHLTy5ctr06ZN07755hsN0E6dOpXpPD///HOmKdWEEKIw0WlaLlZUEUIIkes++eQTxo4dy+nTpzNVN87O6dOnCQwMJCIigoEDB+ZtgEIIkYd+//13unXrxvr16x95uj4hhLAEGdMthBAFmKZp/O9//yM0NDTHCbcQQhQl8+bNIygo6JHmehdCCEuSMd1CCFEAJSQksGzZMiIjI9m/fz+///67pUMSQoh89eOPP7Jv3z7++usvPvnkk0JTTV4IIe4mSbcQQhRAsbGxPP3003h4ePD666/TpUsXS4ckhBD56qmnnsLFxYVnn32WUaNGWTocIYR4aDKmWwghhBBCCCGEyCMyplsIIYQQQgghhMgjknQLIYQQQgghhBB5pMiO6U5PT+fChQu4urpK4Q0hhBBCCCGEELlK0zRu3bpF6dKlsbLKvj27yCbdFy5cwN/f39JhCCGEEEIIIYQowv777z/Kli2b7fYim3S7uroC6g1wc3OzcDTFk16vJzo6msqVK2NtbW3pcISwKPk+CGFOvhNCmMj3QQhzheU7ERcXh7+/vzH3zE6RTboNXcrd3Nwk6bYQvV6Pi4sLbm5uBfrLIkR+kO+DEObkOyGEiXwfhDBX2L4T9xvOLIXUhBBCCCGEEEKIPCJJtxBCCCGEEEIIkUck6RZCCCGEEEIIIfJIkR3TLYQQQgghRHGh1+tJTU21dBhC5Aq9Xk96ejpJSUkWHdNta2ubK+eXpFsIIYQQQohCStM0Ll68yI0bNywdihC5RtM0NE3jzJkz9y1Sltc8PDzw9fV9pDgk6RZCCCGEEKKQMiTcPj4+ODk5WTxBESI3aJpGcnIy9vb2FvtMa5rG7du3uXz5MgB+fn4PfSxJuoUQQgghhCiE9Hq9MeEuUaKEpcMRItdomgaAg4ODRS8kOTo6AnD58mV8fHweuqu5FFITQgghhBCiEDKM4XZycrJwJEIUXYbv16PUTJCkWwghhBBCiEJMupQLkXdy4/slSbcQQgghhBBCCJFHJOkWQgghhBBCFGhRUVHodLr7VmkvX748s2bNytVzDxw4kG7duuXqMfPb6dOn0el0/Pvvv5YOpViSpFsIIYQQQgiRL7766itcXV1JS0szrouPj8fW1pawsDCzfQ2J9okTJ2jSpAkxMTG4u7sDMH/+fDw8PB45Hp1Od89l0qRJfPLJJ8yfP/+Rz/WgDK9fp9NhZWWFu7s7derU4dVXXyUmJibf48kPYWFhxtfr5OSElZUVI0aMuOdzNE1j4sSJ+Pn54ejoSKtWrTh27Fg+RZwzknQLIYQQQggh8kV4eDjx8fHs3LnTuG7Dhg34+vqybds2kpKSjOsjIyMpV64cwcHB2NnZPfJcyVmJiYkxLrNmzcLNzc1s3bhx43B3d8+VBP9hRUdHc+HCBXbs2MFrr73G2rVrqV69Ovv377dYTHlp6NChXLhwgZMnT3LhwgU+/PDDe+7/4Ycf8umnn/LVV1+xbds2nJ2dadu2rdlnydIk6RZCCCGEEELki8qVK+Pn50dUVJRxXVRUFF27diUwMJCtW7earQ8PDzfeN3Qvj4qKYtCgQdy8edOsRdrg9u3bDB48GFdXV8qVK8fcuXOzjcfX19e4uLu7o9PpzNa5uLhk6l4eFhbG888/z5gxY/D09KRUqVLMmzePhIQEBg0ahKurKxUqVGDFihVm5zpw4ADt27fHxcWFUqVK0a9fP65cuXLf98zHxwdfX18qVapEnz592LRpE97e3owcOdJsv6+//pqQkBAcHByoUqUKX375ZbbH1Ov1PPvsswQGBuLo6EjlypX55JNPjNvXr1+Pra0tFy9eNHvemDFjaNas2X1jfhROTk5m/wZubm7Z7qtpGrNmzeLNN9+ka9eu1KxZk++++44LFy6wdOnSbJ/366+/UqNGDRwdHSlRogStWrUiISEhD16NIkm3EEIIIYQQRYCmQUKCZZY70yrnSHh4OJGRkcbHkZGRhIWFERoaalyfmJjItm3bjEl3Rk2aNMnUKj1u3Djj9unTp1O/fn327NnDqFGjGDlyJNHR0Q//xmbh22+/pWTJkmzfvp3nn3+ekSNH8uSTT9KkSRN2795NmzZt6NevH7dv3wbgxo0btGjRgjp16rBz505WrlzJpUuX6NWr1wOf29HRkREjRrBp0yYuX74MwPfff8/EiRN57733OHz4MO+//z5vvfUW3377bZbHSE9Pp2zZsvzyyy8cOnSIiRMn8vrrr/Pzzz8D0Lx5c4KCgliwYIHxOampqXz//fcMHjw429gMFxWyW6pVq3bf1/f999/j7e1N/fr1mTBhgvE9zMqpU6e4ePEirVq1Mq5zd3enYcOGbNmyJcvnxMTE8NRTTzF48GAOHz5MVFQUPXr0MM4Nnhds8uzIQgghhBBCiHxz+za4uFjm3PHx4Oycs33Dw8MZM2YMaWlpJCYmsmfPHkJDQ0lNTeWrr74CYMuWLSQnJ2eZdNvZ2Zm1St+tQ4cOjBo1CoDXXnuNmTNnEhkZSeXKlR/+Bd6lVq1avPnmmwBMmDCBqVOnUrJkSYYOHQrAxIkTmT17Nvv27aNRo0Z8/vnn1KlTh/fff994jG+++QZ/f3+OHj1KpUqVHuj8VapUAVSBNB8fH95++22mT59Ojx49AAgMDOTQoUPMmTOHAQMGZHq+ra0tkydPNj4ODAxky5Yt/Pzzz8YLAc8++ywRERG88sorAPzxxx8kJSXd80LB119/TWJiYrbbbW1t7/m6nn76aQICAvDz82PXrl289dZbHD16lMWLF2e5v6ElvlSpUmbrS5UqlamV3iAmJoa0tDR69OhBQEAAADVq1LhnXI9Kkm4hhBBCCCFEvgkLCyMhIYEdO3Zw/fp1KlWqhLe3N6GhoQwaNIikpCSioqIICgqiXLlyD3z8mjVrGu8bEnNDi3BuyXgOa2trSpQoYZa4GZJAw3n37t1LZGQkLllcFTlx4sQDJ92GVlmdTkdCQgInTpzg2WefNSb9AGlpacbCc1n54osv+Oabbzh79iyJiYmkpKRQu3Zt4/aBAwfy5ptvsnXrVho1asT8+fPp1asXzve4ulKmTJkHeh13GzZsmPH1VaxYkXLlytGqVStOnDhBcHDwIx3boFatWrRs2ZIaNWrQtm1b2rRpQ8+ePfH09MyV42dFkm4hhBCiEDt0CPz9wdXV0pEIISzNyUm1OFvq3DlVoUIFypYtS2RkJNevXyc0NBSA0qVL4+/vz+bNm4mMjKRFixYPFcvdrak6nY709PSHOtaDnCPjOkPBN8N54+Pj6dy5M9OmTct0LD8/vwc+/+HDhwE1RVr8nX/0efPm0bBhQ7P9rK2ts3z+jz/+yLhx45g+fTqNGzfG1dWVjz76iG3bthn38fHxoXPnzkRERBAYGMiKFSvMxuJnpX379mzYsCHb7QEBARw8eDAnLxHA+HqOHz+eZdJt6Olw6dIls/fx0qVLZhcQMrK2tmbNmjVs3ryZ1atX89lnn/HGG2+wbds2AgMDcxzbg5CkWwghhCjEli6FmTPh9ddh5EhwcLB0REIIS9Hpct7F29LCw8OJiori+vXrxu7LoMYSr1ixgu3bt2cqFJaRnZ0der0+P0LNFXXr1uW3336jfPny2Ng8WgqWmJjI3Llzad68Od7e3oC6YHHy5En69u2bo2Ns2rSJJk2aGLvhg2pxv9uQIUN46qmnKFu2LMHBwTRt2vSex33U7uV3M8wrnt2FicDAQHx9fVm3bp0xyY6Li2Pbtm33/PzodDqaNm1K06ZNmThxIgEBASxZsoSXXnrpgeLLKUm6hRBCiEIsNRWuXIGXXoIZM2DiRBg4EB7wd40QQuSr8PBwnnvuOVJTU40t3QChoaGMHj2alJSULMdzGxhaeNetW0etWrVwcnLC6UGa2/PZc889x7x583jqqad49dVX8fLy4vjx4/z44498/fXX2bZIg+qinpSUxK1bt9i1axcffvghV65cMRvnPHnyZF544QXc3d1p164dycnJ7Ny5k+vXr2eZSFasWJHvvvuOVatWERgYyIIFC9ixY0emlt62bdvi5ubGu+++y5QpU+77Oh+le/mJEydYtGgRHTp0wMvLi507dzJ+/HiaN29u1p2/SpUqfPDBB3Tv3h2dTseYMWN49913qVixIoGBgbz11luULl3arOJ8Rtu2bWPdunW0adMGHx8ftm3bRmxsLCEhIQ8d+/1I9XIhhBCiEEtNNd0/dw6GDYOQEFi0CHK5N6UQQuSa8PBwEhMTqVChglkRrNDQUG7dumWcWiw7TZo0YcSIEfTu3Rtvb+/7zuVsaaVLl2bTpk3o9XratGlDjRo1GDNmDB4eHlhZ3Tslq1y5MqVLl6ZevXpMnTqVVq1aceDAAapWrWrcZ8iQIXz99ddERERQo0YNQkNDmT9/frbdpYcPH06PHj3o3bs3DRs25OrVq2at3gZWVlYMHDgQvV5P//79H+1NuA87OzvWrl1LmzZtCAkJYcKECfTo0YM//vjDbL/o6Ghu3rxpfPzqq6/y/PPPM2zYMB577DHi4+NZuXIlDtl0/XJzc2P9+vV06NCBSpUq8eabbzJ9+nTat2+fZ69Np+VlbXQLiouLw93dnZs3b95zbjeRd/R6PYcPHyYkJOSeV++EKA7k+yDyyvjxkMUQQQBq1ID33oNOnVS304JEvhNCmDzs9yEpKYlTp04RGBiYbYIhxKN69tlniY2NZdmyZfl2Tk3TSEpKwsHBwTg+3lLu9T3Lac4p3cuFEEIUe3o9ZPyde/w4xMSouWfj4yEpCZKTTcuLL4KhYeK772DbNvPtGZc//zSNsXzvPfjlF3W+9HR1m/H+li1gaNh5802YPVslyzqdOl/G26goqFjRvKX7bvv3Q5cuULMmzJoF4eGweDEsWKC6n9vZmRbD41GjwFCr5sABFZOTU9ZLuXKFZ/yoEEKIB3Pz5k3279/PokWL8jXhLook6RZCCFFoJSbCjRtZL8nJMGaMad+33oJNm1QSbUimDbd6vXny+sorqkBZdkaMAEdHdX/tWpXEZuf2bVNi+t9/sHdv9vumpJi/tmvXst/XUD/oXkm3wb596jV9/z0cOXLv19atmynp/vtvdYEhO8uXg6E33vz5qpCbk5OqpO7uDm5upmXsWGjQQO174gT884+OuDg3zp8HT0+1j7s7eHmBvf39X5MQQoi81bVrV7Zv386IESNo3bq1pcMp1CTpFkIIUaBs2wanT0NsrCoQFhsLV6+qRFqngxUrTPu2bw///JP1cezsVMJo6JW2bx9ERmZ/3pQU9RxQLbiVKqlk2dlZJdj29qYl48Csbt0gMNB8e8Yl45Sszz8PPXqoVnVra9VqnfH+nZlPAHj1VRgyRN1PT1fnzHhbvrzalpZ27/ezenWYMkXFqdNBhw5QsqR6vXcvqalq+jGDgADVUn77dtZLxteWkKB6BCQlZX2xIGNB3U2b4NlnrYCs599duNC0/9atMH26SsYzLiVKqNuqVdXrEUIIkbvuNz2YyDlJuoUQQuQ6TTMfQ/z776rLdmyseTIdGws2NnBnulFAtchmN8WnnZ35sd3d1X0PD/PF01Pd6vXq+KBavZ96SiXRLi6ZbzNW+/7kk5y/1h491JIT1aqpJSdKlVLL/WTX0t2xI0yYAHfP7lK7tlpyomtXteTEwIFq7HhCAty6BXFx5kuNGqZ9S5WCdu00Ll26TVqaE3FxOuLi4OZNdUHBw8O079Gj8Ouv2Z93wQJ45hl1f906GD0afHzUOXx8TEupUvDYY1C2bM5ejxBCCJFbJOkWQgjxUDZtgmPH1NjnCxfMb62sVBdig+nTs0+kbW3NE+l69dR9b2/Vgmm4NSTSGf30k0rE71P4FVDjmYuijEm3Tge9eqniajlNrHOLoVdATrRtC61apXP48CmzwlHp6SpBN3TdB9Ul/fPPVW+Ha9dMi+Fxxt4B//2nus8fOZL1eb/7Dvr1U/dXr1Y9CUqXhjJl1K1hKVMGatVSnz0hhBDiUUnSLYQQwujmTThzBs6ezXyr16uu3wavvw7r12d9HGtr8+Jk7dqpLtuGJPruhDqjmTNzHq8U61Xdy21toX9/1SW9UiVLR/TwrKwyX1ipUkUtOdGxoxpCcOkSXL5sWgyPDV3yAc6fV0n6f/9lfayMCfr69aomgCE5L1tWfZ4Ni7d3wasOL4QQouCQpFsIIYqJtDTVCp0xkb55Ez74wLRPp06wcWPWz7eyMk+kGzVSLZJ+fioR8fMzv5+x9fn11/PudRV3PXqof8OMY7GLK29vCAvL2b7du6vx4BcuqOX8efP7AQGmfY8dy/4CE6gicgMGqPsHDqgK8QEBKiEPCFBJuqFegBBCiOJHkm4hhChCEhJUy13GlsExY2DZMlNrdUZWVqrIlmE8c0CA6pprSBYMt/7+mcfCZjc3tMhfOR1PLsx5eEDDhjnbt2VL+OEHU2J+7pzp4lVMjPqeGGzZAm+/bf58nU51gw8MhPffh9BQtT4uThWkK1VKWsqFEKIok6RbCCEKoUOH1NRTJ06o5fhxdRsTo1qiExNNifSVK3DqlLpvY6MSaEO32IAAVbXasO+335rPVy2EUN3SM3ZNzyg52bxXR4UK8Oyz5j1KkpLUdzMmxrzy/S+/qHHlTk4QFKSW4GDTbaNGqpaBEEKIwk2SbiGEKIBSUlQifeSIqux99Ch8840pIX73XdXylhU3NzWG1dAyPW4cDB+ufsj7+t47qZaEW4gHc/ec4uHh5kX7NE1d+DpzBk6eVAXaDGJjVcJ++7bqln7ggPmx1q2DFi1M9//4AypXVkulSmqMubSQi+IiKiqK8PBwrl+/jsfdxR8yKF++PGPGjGHMmDH5FtujKGzxZmX+/PmMGTOGGzduWDqUAisH9V6FEELkh0WL1FzKVaqolq9q1eCJJ+DNN1VRp7NnTfvWrw/NmqlpmgwJ+PbtporOGbuC166t9i1TRpJqIfKboRJ//fqqsnzGluvx41WvlKNHYeVK+OILePll9XegZk3Vam7w999qKrtRo1R3d39/cHWFOnWgTx91kc4gY2u6EAXNV199haurK2lpacZ18fHx2NraEnZXUYaoqCh0Oh0nTpygSZMmxMTE4O7uDqhE717Jd14rX748s2bNyna7IfZ7LVFRUezYsYNhw4blX+B3TJo0yRiHjY0NJUuWpHnz5syaNYvk5OR8j6eok5ZuIYTIB1evwvbtzkRG6jh6VLVeHz6sqoEbEuRDh9R81gaurioBDwkxJeIGL72kFiFE4WZnBxUrquVewsJUN/WjRyE6WrWaJyTAv/+qJWNBxHfeUT1jqlZVF+8MtyEh6u+KEJYUHh5OfHw8O3fupFGjRgBs2LABX19ftm3bRlJSEg53pqaIjIykXLlyBAcHA+CbcY7AAs5wkcDgxRdfJC4ujoiICOM6Ly8v7CxYZbFatWqsXbuW9PR0rl69SlRUFO+++y4LFiwgKioKV/mDkWukpVsIIXJRaqqqEm4wd65qYS5Vyppnnw3khRes+Pxz1VX0wgWVeBt06QKffgpr1qhCTTdvqtbrb7+FCRNUsSUhRPHUurWa7/6PP1TinZiohp8sWwYff2xezO3gQdWdfcUKtW3wYFU0zs1N1XE4d86078WLcOtW/r8eUXxVrlwZPz8/oqKijOuioqLo2rUrgYGBbN261Wx9+J3xGoaW4xs3bhAVFcWgQYO4efOmsbV20qRJxufdvn2bwYMH4+rqSrly5Zg7d65ZDPv376dFixY4OjpSokQJhg0bRnx8vHF7WFhYpu7e3bp1Y+DAgcbtZ86cYezYscbz383Ozg5fX1/j4ujoiL29vdk6Ozu7TC3mOp2OOXPm0KlTJ5ycnAgJCWHLli0cP36csLAwnJ2dadKkCSdOnDA73++//07dunVxcHAgKCiIyZMnm/UmyIqNjQ2+vr6ULl2aGjVq8Pzzz/PPP/9w4MABpmWolpqcnMy4ceMoU6YMzs7ONGzY0Ozf724nTpyga9eulCpVChcXFx577DHWrl1r3D5lyhSqV6+e6Xm1a9fmrbfeumfMhZUk3UII8RA0Tf1YXb1a/ajt319143Z2VtWLDezsVHINUKZMCp06abzyimqF2rIFmjQx7dugATz/PLRqJWM1hRD3ZmurxnZ37qy6pGccOjJ7tpri7Kuv1N+Uli1VPQdQxdwyNha+8opKxoOD1TRqkybBkiWqMGN6er6+JJEbNA3SEiyzPMC4hvDwcCIjI42PIyMjCQsLIzQ01Lg+MTGRbdu2GZPujJo0acKsWbNwc3MjJiaGmJgYxo0bZ9w+ffp06tevz549exg1ahQjR44kOjoagISEBNq2bYunpyc7duzgl19+Ye3atYwePTrH8S9evJiyZcsyZcoU4/lz0zvvvEP//v35999/qVKlCk8//TTDhw9nwoQJ7Ny5E03TzOLdsGED/fv358UXX+TQoUPMmTOH+fPn89577z3wuatUqUL79u1ZvHixcd3o0aPZsmULP/74I/v27ePJJ5+kXbt2HDt2LMtjxMfH06FDB9atW8eePXto164dnTt35uydcXKDBw/m8OHD7Nixw/icPXv2sG/fPgYNGvTAMRcG0r1cCCHuQ69Xi6EH2O+/w9ChqghSVvbvV2OoATp0gM2bISREz7lzRwkJCcFaBlYLIfKQl5f6G2T4O2Rw7ZqaycAmw6+/S5fU7cmTalm61LTN3R0uXzb97Tt1CkqWlC7qBZr+NvzsYplz94oHG+cc7RoeHs6YMWNIS0sjMTGRPXv2EBoaSmpqKl999RUAW7ZsITk5Ocuk287ODnd3d3Q6XZZdzjt06MCoUaMAeO2115g5cyaRkZFUrlyZRYsWkZSUxHfffYezs4r3888/p3PnzkybNo1SOehW5uXlhbW1Na6urnnS5X3QoEH06tXLGH/jxo156623aNu2LaC6qmdMTidPnsz48eMZMGAAAEFBQbzzzju8+uqrvH33HIY5UKVKFVavXg3A2bNniYiI4OzZs5QuXRqAcePGsXLlSiIiInj//fczPb9WrVrUylA18p133mHJkiUsW7aM0aNHU7ZsWdq2bUtERASPPfYYABEREYSGhhIUFPTA8RYGknQLIUQG6emqINHOnbBrl7rdvRs+/xzu/F9GiRKmqsMVK6qCRxmXgADT8Xx81HL3/NhCCJHfvLzUktHq1aq6+r59ahpCw+3Bg6pFPONw02eeURcRg4Ohbl2oV08tdetmPq4Q9xIWFkZCQgI7duzg+vXrVKpUCW9vb0JDQxk0aBBJSUlERUURFBREuYxjJ3KoZs2axvuGxPzy5csAHD58mFq1ahkTboCmTZuSnp5OdHR0jpLuvJYxfkM8NWrUMFuXlJREXFwcbm5u7N27l02bNpm1bOv1epKSkrh9+zZOGYvC5ICmacYu8/v370ev11OpUiWzfZKTkylRokSWz4+Pj2fSpEn89ddfxMTEGC+unM1QEXbo0KEMHjyYGTNmYGVlxaJFi5g5c+YDxVmYSNIthBCosZGjRqlEOy4u8/bdu01Jd926aqx1tWrmxc2EEKIwKllSTU1mmJ4MVH2KOzkKoHoOX7um7p84oZZffjFtb9xYJeQG8fHgYqEG12LN2km1OFvq3DlUoUIFypYtS2RkJNevXyc0NBSA0qVL4+/vz+bNm4mMjKRFxg/lA7C1tTV7rNPpSH+A8RJWVlZod3WXT01NfahYHkbG+A3Jb1brDK8pPj6eyZMn06NHj0zHMhSlexCHDx8mMDDQeGxra2t27dqVqaeeSzZf8nHjxrFmzRo+/vhjKlSogKOjIz179iQlJcW4T+fOnbG3t2fJkiXY2dmRmppKz549HzjWwkKSbiFEsRETo8ZR79ihWrBbt4ZXX1XbPDzAMLzMwUGNz65fXy316qnq4QZOTnCnN5QQQhRJtraqtoSBTqcKP8bGqmrpu3eri5S7d6sEPGODl6ap6c7s7U2t4Q0bqr+bd2Z7EnlFp8txF29LCw8PJyoqiuvXr/PKK68Y1zdv3pwVK1awfft2Ro4cme3z7ezs0D9EN7KQkBDmz59PQkKCsbV706ZNWFlZUblyZQC8vb3Nxmnr9XoOHDhg1tX9Yc+fF+rWrUt0dDQVMs4z+JCOHDnCypUrmTBhAgB16tRBr9dz+fJlmt09ZiUbmzZtYuDAgXTv3h1Qifvp06fN9rGxsWHAgAFERERgZ2dHnz59cHR0fOT4CypJuoUQRVZSEvzvf6r1ZcsWNR4xIxsbU9Lt6wsLF0L16mp6nbsukgshhEDNOd66tVoMbtxQi8Hly6ax4mfPqsJsoPLBKlWgXz81I4Mo3sLDw3nuuedITU01tnQDhIaGMnr0aFJSUrIcz21Qvnx54uPjWbduHbVq1cLJySlH3aj79u3L22+/zYABA5g0aRKxsbE8//zz9OvXz9iVu0WLFrz00kv89ddfBAcHM2PGDG5k/JDfOf/69evp06cP9vb2lCxZ8uHeiFwwceJEOnXqRLly5ejZsydWVlbs3buXAwcO8O6772b7vLS0NC5evJhpyrDatWsbL4RUqlSJvn370r9/f6ZPn06dOnWIjY1l3bp11KxZk44dO2Y6bsWKFVm8eDGdO3dGp9Px1ltvZdnTYMiQIYSEhAAqUS/KJOkWQhQJ167B1q1w+zYYeifZ2qofdobpcHQ6qFHD1OJyZ3pQo7598zdmIYQoCjw81GJQqpRKwv/9V7WG79gB27apC5+HD5t3W4+Ph3bt1OwNDRuqJSBAZm8oDsLDw0lMTKRKlSpm46hDQ0O5deuWcWqx7DRp0oQRI0bQu3dvrl69yttvv202bVh2nJycWLVqFS+++CKPPfYYTk5OPPHEE8yYMcO4z+DBg9m7dy/9+/fHxsaGsWPHZroAMGXKFIYPH05wcDDJycmZuqPnp7Zt2/Lnn38yZcoUpk2bhq2tLVWqVGHIkCH3fN7Bgwfx8/PD2toad3d3qlatyoQJExg5ciT29vbG/SIiInj33Xd5+eWXOX/+PCVLlqRRo0Z06tQpy+POmDGDwYMH06RJE0qWLMlrr71GXBZj9ypWrEiTJk24du0aDRs2fLQ3oYDTaZb8hOShuLg43N3duXnzJm5ubpYOp1jS6/UcPnxYqjWLXJeersZgb9miWrE3b1aPQXVpzDiDxeuvq+7ijRub5qm1BPk+CGFOvhPFz+XLKgH391dFJwGiouDuxkw/P2jaVC0dOsBd9ZuKpIf9PiQlJXHq1CkCAwMfauyuEJakaRoVK1Zk1KhRvPTSS5m2JSUl4eDgkOU86PnpXt+znOac0tIthCjwNM281ePxx83nwjaoVEnNe52WZpoSJ4uZLIQQQliAjw/c3RO1WjX49ltVnHLbNlU5PSYGfv1VLdbWpqT74kU1hrxxY/D0zP/4hRC5JzY2lh9//JGLFy8W2bm5M5KkWwhR4KSnq7muo6LUsmuXmsbLMHVNrVqq22KDBirJbtJEdRW34HAqIYQQD8HbG/r3VwtAYqJqDd+0SS0Zhvry118wZIi6CFu1qmoJb95c7VO2rGXiF0I8HB8fH0qWLMncuXPxLAZX0STpFkIUCMeOwfLlKslev940NY3Bzp0quQbVev3pp1LsTAghihpHR5VIN2+e9fYKFdRF2IMH1TJ3rlofFKRaxuvUyb9YhRAPr4iOcM6WJN1CiHynaXDgAJQrZ5o+5rffzKvZOjtDs2YQFqaWunVN24rBBVEhhBB3efZZtVy+rGp5bNwI//yjupyfOqUKsBl8+qm6WBsaqpbgYCnOJoSwnEKTdG/ZsoWmTZsyZcoU3nzzTUuHI4R4QLGxsGYNrF6tlpgY+OEH6NNHbW/VSv14yphkS0u2EEKIu/n4QLduagGIi1NDjry8TPv89pvqNbVggXpcpgy0aKH+r2nZ0nwOciGEyGuFIulOT09n7NixPPbYY5YORQjxAGJi4LPPVJK9e7dq4TZwdDTN4wpQvz6sWJH/MQohhCjc3Nwyd0efNAnWrVMXc7dtg/PnVQK+YIHqYXX1qirSBpCSYqoZUlhlNQeyECJ35Mb3q1Ak3XPnzqVhw4bcvHnT0qEIIbKhaWqc3e3bqtAZgF4PH3xg2qdmTWjbVi1Nm6qpvIQQQojcFh5umors9m3VHX3dOrX4+5sSblBF2by8VAt4q1aF6/8nOzs7rKysuHDhAt7e3tjZ2Vl8eiUhcoOmaSQnJwNY7DOtaRopKSnExsZiZWWF3SNcnSvwSffVq1eZNWsWW7duZcyYMdnul5ycbPyHAYwTsOv1evR6fV6HKbJgeN/l/S+64uPVD5jVq3WsXq3j1Ckdbdtq/PWXuiLo5wcvvaSjRg1o1UrDz8/8+cXpoyHfByHMyXdC5Bd7e1MS/u676v8ew8fu7Fk4ccKaEydU1fSpU8HRUaN5c2jbVqNDB40KFfI+xkf5PpQrV45Lly5x/vz53A5LCItKTU3FtgCMNXRycqJMmTJompbpO5rT72yBT7rfeOMNxowZg4eHxz33++CDD5g8eXKm9dHR0bi4uORRdCInjh49aukQRC779VdP1q51Y/t2Z1JTrYzrbWzSuX07gUOHzhgL1himXrxxQy3FnXwfhDAn3wlhaWvX2rBtmwvbtjmzdasLly/bsmoVrFqlY9u2q7z5ZgwAaWmQmGiFq2vedeV+2O+DoRJ0casILYo2nU5HWlqaxWO4desW8fHxWW7Pbv3dCnTSvWfPHnbs2MEXX3xx330nTJjASy+9ZHwcFxeHv78/lStXxs3NLS/DFNnQ6/UcPXqUSpUqYZ2xH5coVDQNDh9W3e8M1q+3YtMmlVUHB2u0a6fRurVGaCi4ujoBIZYJtgCT74MQ5uQ7IQqKkBBVwBPU/3kHD+pZvVrHqlU6+vb1ICTEA1DV0lu2tKJxY2jTRqN9e43atXOnKrp8H4QwV1i+E4be1fdToJPuf/75h+joaMrcKTF58+ZNbGxsOHHiBBEREWb72tvbY29vn+kY1tbWBfofqjiQf4PCJykJ/v4bli2DP/9UBWhiYsDXV20fNQratYPOnaFKFZ2MH3sA8n0Qwpx8J0RBU6uWWl55BcD02dyxQ3VL37gRNm7UMXEilC4NHTtCp05qPLiT06OdW74PQpgr6N+JnMZWoJPuYcOG0ccwnxDw4osvEhgYyPjx4y0YlRBF05Ur8McfKtFevVoVnjFwdob9+01Jd8+elolRCCGEsJRx4+CJJ2DVKli5EtauhQsXYN48tWzZAo0aqX1TU2XaSyGESYFOup2cnHDKcMnQ0dERFxeX+47vFkLkjKaZusUtXw6DB5u2lSkDXbqo1uzw8MJTyVUIIYTIK4GBMGKEWpKS1JRkf/6ppiXLOLPtqFGwdatqBe/aFRo2BCur7I8rhCjaCnTSfbf58+dbOgQhCr3z5+G33+CXX9QVe8OkAB06qB8MHTuqZDu3xqkJIYQQRZGDg2kazIw0TbWG//cfHDgA06apnmJdu0K3bupCdhYjIoUQRVihSrqFEA/n/Hn49VeVaG/aZFqv15uS7pIlYft2i4QnhBBCFBk6Hfz7r+qCvmyZ6kl28SLMmaOWOnVg925LRymEyE+SdAtRhGkatGmjxp1l1KQJ9OqlWrqFEEIIkbu8vODpp9WSnAxRUbB0Kfz+O7RsadovJQV694a2bXVUrVpwi0UJIR6NJN1CFCEXLqgEu39/9VinA8M09U2bwpNPqkS7bFnLxSiEEEIUJ/b2pm7oX3wBiYmmbX//rZLxpUutsLKqQmiouijevTuUKmWxkIUQuUxKOghRyMXHw4IFqkXb3x8GDIDjx03bP/hAjSvbuBFefFESbiGEEMJSrKzUjCAG1aqp/6fr1dNIT9cRGalj5Eg1FVl4uCrQJoQo/KSlW4hCSK9XV8cXLIDFiyEhwbStSRO4ccP0uEqVfA9PCCGEEDng7w/jx8Mrr6SzZs1x9u6tyOLFVmzfrrqkZ5z3+9QplbD7+FgsXCHEQ5KkW4hCaOlS87myg4OhXz945hl1XwghhBCFS9myqbRurfHaa3DmjKqAXr26afubb8JPP0GrVmqseLdu4OZmsXCFEA9Akm4hCriLF2HRIvD0hEGD1LoOHdRcoW3bqvHbjRrJ9F5CCCFEUREQAMOGmR5rmqrboterZHzVKjVlWefO0LcvtGsn05AJUZBJ0i1EAZSUBEuWwHffwerVkJ4OlSrBwIEquXZ0VOO2raQqgxBCCFHk6XQQGQnHjsEPP8D338PRo2oq0F9+UcVSN260dJRCiOzIT3YhCpDDh+Gll6BMGdV1bOVKlXA3bqzm09brTftKwi2EEEIULxUrwsSJcOQI7NoFL7+siq517GjaJyEBXnlFbdc0y8UqhDCRlm4hCpB331VdyUEVVxk0SI3TrljRsnEJIYQQouDQ6aBuXbVMm6bm+zZYtgw+/lgtISGql1y/fuDnZ7FwhSj2pK1MCAs5eFC1Xh86ZFo3fDh07Qp//aWqlE6eLAm3EEIIIbJnba2GnRkEBkLv3mrd4cPw2mvqQn6nTvDbb+YJuhAif0hLtxD5KDFRjb2aOxc2bTKtnzVL3TZvrhYhhBBCiIfRqBH8+CPcvKl+c0REwObN6oL+X3+pceEVKlg6SiGKF0m6hcgHBw6oRHvBAtMc2tbW0KWLWoQQQgghcpO7OwwZopboaPj2Wzh50jzhfvVVNSa8b1/w9rZcrEIUdZJ0C5HHUlIgLAyuXlWPAwNh6FA1xkrGVwkhhBAir1WuDO+/b77u8mWYORPS0lTy3akTPPusmn7M2toycQpRVMmYbiFyWVwcfP21qjoOYGcHo0bBE0+o6b+OH4cJEyThFkIIIYTlODqq4W316kFqqpqqtFMnCAqC996DmBhLRyhE0SFJtxC55PhxePFFNd3X0KGwZo1p2+TJ8Ouv0Lq1TPUlhBBCCMtzdYXnnoOdO2HfPhg7Fry84OxZePNN+PlnS0coRNEhP/+FeASaBuvWqXHZlSrBp59CfLyaosPQ0g1qag8hhBBCiIKoRg2YMQPOn1f1Z8LDoX9/0/bff1dTkF25YrkYhSjMJOkW4iFdugQ1a0KrVvDHHyoB79ABVq1S04G1b2/pCIUQQgghcs7BAZ55Bv7+Gzw9TeunToVXXlG9+fr2hQ0b1O8eIUTOSNItxANITTXd9/FRt87OqnvWkSNqKo42baRlWwghhBBFg6apCuj166visIsWqelNq1eH2bMhIcHSEQpR8EnSLUQOnDoFo0er4iKG/1x0OvUfz7lz8PnnqjKoEEIIIURRotOpquY7dqhlyBBwcoJDh1Sh2KeesnSEQhR8knQLcQ9796puVBUrwhdfqAR78WLT9ho1wMPDYuEJIYQQQuSb+vVh3jy4cAE++QSCg2HwYNP22Fj45x/pei7E3STpFiILW7ZAx45Qu7ZqzdbrVeXxtWvVWCchhBBCiOLK3R1eeAGio1UxWYOvvoKwMKhTByIiICnJYiEKUaBI0i3EXU6fhqZNYflyNb1X796wa5eaY7tlSxmvLYQQQggBYG1tPhVqSoqa/3vvXtUCXq4cvPWWahkXojiTpFsUe5qmqo0blC8Pffqo/yyio+HHH6FuXYuFJ4QQQghRKLzzjhqKN3Uq+Pur7ubvvqt+W40cKd3ORfElSbcotjQN1qyBJk2gVi04edK07fvv4X//gwoVLBefEEIIIURh4+UFr72mflf98ovqPZiaCsnJ0ltQFF+SdItiKSoKQkPV9F5bt4KdHezcadou/ykIIYQQQjw8Gxvo2RM2boTNm+GNN0zb9u1Tyfjvv0N6uuViFCK/SNItipWNG6FFCwgPhw0bwN4exoxRV2N79bJ0dEIIIYQQRU/jxqrSucH06SoR79YNqlWDb75RLeFCFFWSdItiIy4OOnSAyEiwtYXnnoMTJ2DmTPD1tXR0QgghhBDFw9SpMH68qoJ+5IiaBzwwED78EG7dsnR0QuQ+SbpFkXb+vOm+mxu8/joMGwbHj8Pnn0OZMpaLTQghhBCiOPLzgw8+gLNn4eOP1e+xmBg1FrxhQym4JooeSbpFkXTpEoweraplrl1rWj9+PMyZo6awEEIIIYQQluPmBi+/rIb5RURApUowcKCptk56Oly/btEQhcgVknSLIiUhAaZMUeOGvvgC0tLUfNtCCCGEEKJgsrNTyfahQ/Dii6b1S5dCQIAqwnbliqWiE+LRSdItigS9HubPV1dI335bJd8NGsDff8OMGZaOTgghhBBC3I+1tSpya/Dbb2qM9/vvq96Lr76qejMKUdhI0i2KhF69YNAguHBB/VH+8Uc1FVh4uKUjE0IIIYQQD2PBAliyBOrWVQ0qH32kCq698oq0fIvCRZJuUST06aMqYH70ERw+DL17y1zbQgghhBCFmZWVmlZs5074809VZC0xURVf69HD0tEJkXOSdItCJz5eVSGPiDCt69lTFeEYNw4cHCwXmxBCCCGEyF06HXTsCFu2qFo9deqoSucGiYlw+7bl4hPifiTpFoWGpsGiRVC5sppm4pVX1NzboP4Ye3lZNj4hhBBCCJF3dDpo3161fHfoYFo/a5Yqovv555CcbLHwhMiWJN2iUNi/H5o3h7591bjtwED43//A1dXSkQkhhBBCiPxkZWUaRqhpquDaxYvw/POqcSYiQhXZFaKgkKRbFGjx8arLeJ06sHEjODnBe++pKSW6dpVx20IIIYQQxZlOB5s3w5dfgp8fnDkDgwdDrVqqK7qmWTpCISTpFgXcwYNqyi+9XhXMOHJEjeeWcdtCCCGEEALUPN8jR8KJE6qorpeX+g3ZsSNMnmzp6IQAG0sHIMTdEhPB0VHdb9hQzbtdv776wymEEEIUa5oG6amgTzQt6amgpUF6Gtg4g2uwaf9LUaBPVtsN+3Cn6c/eG0qFmva9sBLSkwGdWnSGW2uw84SSDU373jquYrG2A6u7F1vQSbuOyH+OjqqH5LPPqrm9Z8+Gp56ydFRCSNItChC9XnUNeucd2LQJKlZU699+27JxCSGEEA8tLRFS4yD15p3bO4ujnymJTbsNu19W69NuqcfGpPo2+LaG+p/dOaAGP9lnfz6/9hC+3PQ4qqM6Rla8m0Hr9abHWwdA0uWs9/WsA+13mx5HtoP4E1nv6xIMXY6bHm94EhJOqwsCGRdrZ3D0hepvmvaN3QJaKth6gN2dxcZVxpOJB+LpqVq833gDPDxM60ePBhcXmDBBTTUrRH6RpFsUCIcOwZAhaioIUFcmZ8ywbExCCCGEmfQ0SDgDyVcg+SqkXFW3yVfVupINIWig2jcpFn4vB/qkrI9Vvq8p6dbZwPGvsj+vayXTfZ2Vak1OTwF0YO14p3XZRh3HzsP8uR41IT1JbbOyVa3W6ABNbcvIsx6kXFPbNA1ji7iWBm6Vzfe1cQFbNxWHPtm0L4CNk/m+N/bBraNZvzbn8uZJ964X4NpO8310VmDrDs4B0H6Paf3RL9VFAgdv1WpvuLX3BvsS6j0RxVrGhPv4cdW4o2nw9dcwaRKMGAE28jER+UA+ZsKiUlJg6lRVHC0lRVUjnzYNhg+3dGRCCCGKBS1dJchJMZB4EZIuQqLhfgz4hEKl59S+ybHwR4Xsj5V2y5R027qbJ9y2bqbFxg1cgkzbrO2gxuQ7iazrnVZgR9PiUMr8PD0umZLt+7UAt92S47fCrIX8fjr8a/44Xa8S8PQUIN18W6MIlcynJWRebO+ahsS5vHofU25AynV1PC1d3be9q2nyZETmBN3A1h2evGF6fOgj9e/qVBoc71psXXL+ukWhFRwMy5bBq6/C4cOq0vmcOfDppxAebunoRFEnSbewmH37YMAA+Pdf9bhTJ3UF0t/fomEJIYQoKjRNJWu3z0LCWbj9n7r1rAXln1b7JF2GJX7ZH0NnY0q67b1VYmznpVpS7UuAXQmwL6nue9U1Pc/aDrqcUmOhbV3vP8a5xsScv667W7MLAitrsHIEHDNv826S8+M0+8X8sT7pTgJ+405Cn0H5p8GrnroYkhSrbpNjIfma+vfI6OxPcG1X1ud0LA3dz5sen1oIafGqZd2w2Djn/DWIAkmnU78127WDuXPhrbfgwAFo0QJ69oTPPgNfX0tHKYoqSbqFxSxZohLuEiXg88+hd28ZsiWEEOIBpdxUY4ut7MCjulqXfA3WNFUJdlbjmcv1NiXd9t4qsbYvAQ6+aoyxo5+67+CrEnQDKxvodSvnsbmUf+iXJe6wdrjzb5JFNlRlbNbPSU9TreUZVRwJcdGQeEEtt89D4nnV2m5zV0v3kZlwfbf5OvuSKvl2C4EmC0zrE86oizB3t9iLAsvGBkaNgj59YOJENaQxMlJVQBcir0jSLfJVejpY3bnY//rrpnm4S5W69/OEEEIUc/pkOP29SrBvnYD4k+p+yjW1PaAPNP1B3bd1v1NdO009dvABJ39wKqduSzY2HdfKGnonqVtRNFjZqB4GGQU/m/W+qXe6smdUuj04lVXF3xJOqwJ3yVfUkhZvvu/6HipBd/AF1wrgWjHDbSXzizaiQPHyUo0+w4apub29vNR6TYO//1Yt4NIYJHKLJN0iX2ia+sP2ww8QFaWuJtraqsqSQgghBPpkuHVMtUbGHVGLawWocWcKC501bB9uSqQzcvAx7/5rZQ2totRYaKeyqrX0XiThLr5sXTO3Utd61/xxyg3Vop1wRo0vz8iQhCfdqQcQu9G0zbUidM5QQG7/O6qYnXtVtTgHymevAKhZUy0GS5bAE09Ay5Zq2GOlStk/V4ickqRb5LlLl1Rl8hUr1ONFi2DgQIuGJIQQwlLS9aZEQ9Ow2tAd4g5BwqnMCY3XY6ak28oGAp9RBcRcglUhMsNtVoWwvJvm7esQxYdh6rKsWq07R6uk/NbxO8sxiL9zm7FYHkD0LFPPDAAre1UV3r0quhKNgRZ59hJEzl28CA4OsG4d1KihphcbP16tE+JhSdIt8tT69S5MmmRFbCzY28PHH6viaUIIIYq49DSVhNzcDzcMyz7V8tzqH7WPTqcSbsN8z7ZuasysW2VwqwIedyU5jSLy9zUIkRN2HlCivlqyk66HymPu9OI4pG71Seo7cWMfuuSr4JMh6V4bpnpqeNZS3wPPWuBYRvo754NRo6BtW3juOVi1CiZPhu+/hy++gDZtLB2dKKwk6RZ5IikJxo3T8cUX5QF1pXDRIqhe3bJxCSGEyAP6FFWt2yCqI1xcB+nJmfdNvnpnDmglvc5MrO1cVZLtUEqSClE0WVlDjbdMj9P1cPsM3DwENw+hOZQGQ82/lOtw+c6FqbM/m55jX0LNre7/hKmivsgTwcGqh+avv8KLL6o5vtu2VdONTZtm6ehEYSRJt8gTo0ZBRISqmPbii+lMnWol3XKEEKIoSLkJ1/eo6Zeu7VJFpNJuQ7ezpn00vUq4rZ3AvRp41FDJgkcNtWRMrEt3AGsZ1yqKGSvrO0MkgqBMJzS9Xk0eDWoIRdgK1Qp+fS/c2KtaxpOvwqVI1RvEIC0B1jwOnnVVS7vXY+o7Zm1vmddVhOh08OSTKtmeOFFNKdaqlaWjEoWVJN0iT7zxBqxfr/Hyy2cYNsxffk8JIURht3+ymr84/njW25Muq4JmAHU+hvqfS6EoIR6GtQOUbqcWA30S3DyoknC3Kqb1Nw7A9X/VcvIbtc7KTl3k8qoPAb2hVFg+Bl/0uLnBrFmqxTsw0LR+2TIICYGKFS0WmihEJOkWuSIpCdauhU6d1OPgYDh4MJ1jx+Lv/UQhhBAFg6apMdhXt8KVrXB1uxp7beOktidfNSXczgHgVU8tnnXBq64p4QbTfNlCiNxh7WD6zmXkVgWaL4WrO+HaDri6QxVru7ZTLa4VTUl3wlmI/gRKNgHvJmo+epFjGRPu//6DZ56B1FSYMgXGjlXzfwuRHfl4iEf2339qaoWdO1XBidat1Xr54yOEEAXc9b1wbpkp0c5YWRlU93GfZup+haFQprNKsO1L5H+sQojM7NyhbFe1gLp4lnBaJd/XdoJvS9O+l/+BIzOAGeqxc3lV5d+QhLtXV7MEiBxp1AjWrFHjvH/+Gf73P/Opx4TISL5Z4pFERUGvXhAbC15eZrVxhBBCFCTJV9UcwiUagWMpte5SJOyfaNrHyl61pJVspBb3aqZthvHYQoiCS6cDl0C1BPQy3+ZaCSqOhNjNalaBhNNqOf292t5sCfh3U/dTbqg5xW2c8y/2QsTfXzU0ffutauXeuRPq1VPTi73xhpqxR4iMJOkWD0XTYOZMdXVPr4fatWHxYvOuN0IIISzo9nm4vAFi18Pl9Wo8KECj+RB0Z+7GUmEQ8LQpyfaoZV6FXAhRdJRsqBaA1Dg1hCR2k0rCr26Fko1N+0Z/BgemQInHwCdM/a0o2QRsXSwReYGk08HAgabpxZYsgXfegT//hK1bwU7+lIoMJOkWDywxEYYMUVOAAfTrB199BU5Olo1LCCEEqkv4xj5ZFzxzCwEyVA73rA1Nv8+vyIQQBYWtG/i2UguAlg46K9P2mwdBS4MrW9Ry6APQ2ajibKXCoNrrYOtqkdALGj8/+O03Nb3YqFFqmKUk3OJuknSLB7Z0qUq4bWxUa/dzz8m0qkIIke/SElRL9sW1qht48CC13qmcSrh1VuBRG3yaq3HZ3o+bFzsTQgiDjAk3QNMfoPYHcClKjQW/FAm3z6oW8ZsHoeY7pn3PLwd7L5WQF9Mx4YbpxUJDwd3dtP7ECUhPlwrnQpJu8RD69IF9+1R3mrAwS0cjhBDFRLpeFUaKWaUS7atbIT1VbfMJMyXdDt7Q8m9VVdzOPdvDCSFEtjKODTf8bYk/rRLw5KvmyfWuFyD+BNh6gG8L8G0Dfq3VHOTFjE+G65ppadC3L+zfDx99BCNHSiNVcSZJt8iR5cuhcWPw9FR/MD74wNIRCSFEMaKlwx8VVNGjjJwDVPdQv3bm60uF51toQohiwqW8WjJKS1TDVJKvQuoN+G+xWgBcgiGwH9R4O3/jLCDi4sDZGW7fVr1C//gD5s+HUqUsHZmwBKv77yKKu5kz1fzbvXurq3ZCCCHyiJYOV7bD/smw6SnTep2Vqhxu6wb+T0CDOdD5OHQ5BQ2/hnI9LRezEKL4snGEZr/CE7HQZivUmALezdT47/gTkHTJtG96GhybDfGnLBdvPvLyUlOKffIJODjAypVqSrGVKy0dmbAEaekW2UpPh5dfhlmz1GMZjyKEEHkgLQFiVsP5ZXD+T0i+YtpW6wNTy1KDeWrcpJWtRcIUQohsWdmYqqPXeAtSb6nx4M4Bpn2ubIUdo9R996pQuiOU6aSqohfRseBWVvDCC9CiBTz1FBw4AO3bq2nGPvhAphYrTormJ1w8sqQk6N8ffvlFPf7wQxg3TsaiCCFErjoyC/ZOAH2SaZ2tG/i2htIdwM7TtN5R+iQKIQoJW1co2/mulemqsGPsJrh5SC2HP1Jjwct0hqqvqB49RVD16rB9u5pq9/PPYf16+U1d3EjSLTK5eRM6d4YNG8DWFr79Vl2dE0II8QjijsG5paplxz1ErXMOUAm3c3ko21Ut3o9La7YQoujxaQ6t/oGU63BhFVz4C2JWqPHgpxdApVGmfW+fBxsn8wuPhZyjI3z2GbRpA5Urm6YV0zRJwIsDSbpFJk8/rRJud3dYsgTCpR6PEEI8nLijcPYXtdzYq9alxUPNyeq+X1tov1e17sivLiFEcWDnCeX7qCVdD1c2q1kZSjQw7bN/Epycr+YEL9sd/HuAo6+FAs5dne/qADBpEsTEwKefqrHfomiSpFtkMnUqnDwJP/4ItWpZOhohhChkUuMh+hPzRBtAZw2lWph3n7RxAs+a+R+jEEIUBFbW4NNMLRnFnwItTU2PeHEt7HoefEIhoA+U7QEOJS0Tby47dQreew/0etixA379FYKDLR2VyAtSvVwAkJJiul+jhir0IAm3EELkUGq86b6VHRz+WCXcOhvVmt3wa+hxCVqslkrjQghxPy3XQudjUPtDKNFQzexwKRK2D4e1j1s6ulwTGKiqmZcsCf/+C/XqwdKllo5K5AVJugVHjkBIiCrqYGBtbbl4hBCiUEi6Ake/hNVNYUVtNTAPwNpOzUvb8H/Q4yKEr4TgZ8G+hEXDFUKIQsW1giqu1narmh6x9jTwrKtaug30KbCxD5z5Sc0ZXgi1agV79kCTJqquUvfuqnhxaqqlIxO5SbqXF3NHjqgx2xcvwhtvSDVFIYS4p7TbcG4ZnP4eYlaq7o+g5tGOO6ymwQGoMsZiIQohRJHjUh6qvqqWdL1p/cXVcPYntdi6QbknIbC/KkipKzxti2XLQlQUTJgA06erZe9eWL1afpcXFYXn0yhy3ZEjEBamEu6aNVXRNPliCyFENo5/DYtLwean4MKfKuH2rAt1Z0C3c6aEWwghRN6xytAd0706VHtDzQSRGgcn/gdrQ2FZEOx9E25fsFycD8jWFj7+GH77DdzcVGFj+V1edEhLdzFlSLgvXVJjt9euVeNJhBBC3HH7HKADpzLqsWsFVXncORDK91WLexWLhiiEEMWaS3mo9S7UnAKxG+HUd6qIZcIZOPieKrzmVNrSUT6QHj2gaVMoVcq07uZNNauQKLwk6S6GTp9W40ck4RZCiLvok+Hc73DyG4hZDZWeh/qfqG0+zaHNFlXUR5ofhBCi4NBZqb/RPs2h3mdwfhnEbgaP6qZ9to+E9GQIHgIlGxfov+MZE+7YWHjsMejZU80wZCPZW6Ek/2zF0IcfwvnzULWqJNxCCAFA3DE4/pWaFzblmml94jnTfZ0VlGyU76EJIYR4ADaOENBbLQYpN+DUfNAnwckIcAtRyXdgP3Dwvv8xd42BWh+oY+ezP/+EM2fUOO8DB+CHH8DTM9/DEI9IxnQXQ7NmwdixqjiDJNxCiGJv09PwZyU4MkMl3E5lodqb0Pk4NPvN0tEJIYR4VLbu0GItBA0Ea0dV+HLPy7C0jKp+fmV79s+9vBGiP4Gdo0yzVOSjQYPgp5/A0RFWrYKGDdUwUVG4SNJdTKSmmv5O2NnBjBlQpoxlYxJCCItIjFFzvho4lQV0ULoDhP4JXU5DrXfANdhSEQohhMhNOh14N4VGEdA9Bh77CrzqQ3qqqnx+aW32zz00Vd2enA/H5+RLuHfr1Qs2b4Zy5eDYMWjUCCIjLRKKeEiSdBcDej08+SS8+KK6L4QQxY6mwcW/YUNPWOoPFzP8wKryEnQ5AWF/QZmO5pVxhRBCFC127lBxOLTbAe12Q/BQCHrWtP3cH7DzBbh5BK7vgwt/mbbtegFit+R/zEDt2rBjhyqydvMmtG0Ly5dbJBTxEGRMdxGnaSrZ/v13sLeHYcOgevX7P08IIYoEfRKcXqS6jt88aFp/+R/wa6PuO/paJjYhhBCW5VUHGs41X3dkBlyOgqOfgYOf+bb0VNjYE9rtssj/HT4+qh7TgAFqHu9GUmak0JCku4ibPh2++EL1qlm4UBJuIUQxoU+GQx/Csc8h6bJaZ+OiiuZUHAkeNSwbnxBCiIKp2uuqNfzcH5AUk3l74gXY2AtargMr23wPz8FBFVO7ehW8vEzr9Xqwlo5aBZZ0Ly/CliyBV15R96dPV1MNCCFEsWBlC2d+UAm3U1mo8xF0OwePfSkJtxBCiOz5tYbmS6H809nvE7sB9ryabyHdzcoKvDMUXZ89G9q1U93ORcEkLd1F1P790K+fuv/cczBmjEXDEUKIvKNpqivg8bnQ8H9g46Sm96o9FdISoFxPi7RGCCGEKKQSL8F/v957n+hZ4FQGQsblS0jZuXYNxo+HuDgIDVUVzjPO8y0KBkm6i6DkZOjeHRISoEULmDlTdS8XQohC48IquLIJrOxMi7V9hsf2oLOFG3vh7M9q+hcAnzBVIAegbBeLhS+EEKIQi/5E1QS5nz2vQMwa1ZvKs2bex5UFLy9VybxDBzXO+/HHYc0aKF/eIuGIbEjSXQTZ28PHH8OkSfDzz2ArDTxCiMLGqTQceCfn+1vZQ/Cz4Nsy72ISQghR9KXchGNfmK+zslc9pjJe/E25DqlxcHE1rFgNZbpAtTegZIN8D7luXdi4EVq3huPHVeK9ejVUrZrvoYhsSNJdRHXrBl26qDEfQghR6HjUgNKd4MKf99/Xrw00+g4cpT+dEEKIR2TtCF1Pm5JrnU32XUav74OD76seV+eXqcW3NVR/E3ya52vYFSqoxLtNGzh0CJo1gxUroEH+XwMQWSjQKVlycjKDBw+mXLlyuLm50ahRI7ZssczceIXBhg1w7pzpsSTcQohCrdr4++9Tvi+ErZSEWwghRO6wtgM7T7BxVq3b9xqj6VkTHv8ROh2GwAGgs4aLa+DoF9k/Jw+VKQPr16tE+9o1iIqySBgiCwU6LUtLS6N8+fJs3LiRGzduMGbMGDp37kx8fLylQytwzpyBrl2hTh04cMDS0QghRC4o0QhcK2W/3as+NPxailYIIYSwLLfK0Hg+dD4GFUaoaccMbp+D2E35FkqJErBuHcyda5rFSFhegU66nZ2dmThxIuXKlcPKyoo+ffpgZ2dHdHS0pUMrUFJToU8fuH4dgoKg0j1+owohRIGnafDfElhRC24dzXof+5LQ7Dewdsjf2IQQQojsuARCg9ngWcu0bv8kWPM4RHWEa3vyJwwXGDrUdE06IUF1PReWU6jGdB87doxr165RoUKFTNuSk5NJTk42Po6LiwNAr9ej1+vzLUZLmDJFx9atVnh4aCxalI61NRSEl2x434v6+y9ETsj3IQc0DS6twWr/RHTXdqpVth5o1i5oyddMvx50VtD4Z3AoUzD+2ImHIt8JIUzk+1BEaRo6nR06nTW6C8vhwnLS/XuiVZ8EblXyJYTEROjc2YpNm+Dnn9Pp3DlfTvvICst3Iqfx6TRN0/I4llyRmJhIWFgYHTp04O233860fdKkSUyePDnT+i1btuDi4pIfIVrE3r2ODBgQhF6v46OPztKuXZylQxJCiAenpRNwahSu8aoLnt7Kkasln+GK90DSrd0sHJwQQgjx8OySz+Jz6Qvcb6xAh4aGFTc8O3O51GhS7Xzz9NypqTB+vD+rV7tjY5PO9On/0aLFrTw9Z3ESHx9P48aNuXnzJm5u2f9eKRRJd2pqKt27d8fd3Z2FCxeiy2L8XlYt3f7+/ly7du2eb0BhFh8P9epZceKEjqefTue77wrWP6Ver+fo0aNUqlQJa2trS4cjhEXJ9+H+dHvHozv6GVqF4Wgh48HBR21IT4MVdeD2WSjbDRrNl3HcRYB8J4Qwke9DMXFjP1YH3kZ3fhkA6VXGodWamuenTUuD/v11/PyzFTY2Gj/+mE63bnl+2kdSWL4TcXFxeHl53TfpLvDdy9PT0+nXrx86nY5vv/02y4QbwN7eHnt7+0zrra2tC/Q/1KOYOhVOnAB/f/jiCysK6sssyv8GQjwo+T7ckRoHBz+Ast1Nc5rWeAsqv4DO2d98X2trqDJazZva8CuwKfD/dYkHIN8JIUzk+1DElagNob/DlW1w6AOsqr+B8Qd80mWwKwFWuf/vb20N33+v/vtctEjHU09Zs3QpdOiQ66fKdQX9O5HT2Ar8L5fhw4cTExPDqlWrsJEfWmZefx1u31ZVyz08LB2NEELkQHoanPgf7HsLkmMhdgO02qBarm3d1JKVoEFqPm7bojtcSAghRDFRsiE0X2p6rGmwoSek3oS6M8C3Za6f0sYGvvtOlUL56Sd44gk1j3dYWK6fSmShQGexZ86c4euvv8bBwYGSJUsa169YsYJmzZpZMLKCwdUVPvnE0lEIIUQOXfwbdr0ANw+qx66VIOS1nD3XxhFcMxfRFEIIIQq9hFNwYz+k3oC/W0HpTlBvFrgG5+pprK1hwQLVaLdpk6pyLvJHgU66AwICKARDzvPdrl1Qt64MaRRCFBK3z8OecXDmR/XYzgtqTIKKI8DK1qKhCSGEEBbnEgRdjsP+KXDsS7jwJ1xcA1XHQ9XX1IXnXGJrCz//DGfPyjTD+alAz9MtMjtyBBo3hvBwVUhNCCEKvPN/qoRbZwWVRqsfFpWfl4RbCCGEMLAvAfU/gY4HwLc1pCfDgcmwvDrcOpGrp3JwME+4d+9WdaJE3inQLd3CnKbBmDGq9L+rKzg7WzoiIYTIRspNsHNX94OHwPXdUGE4eNW1bFxCCCFEQeZWGcJXwX+/we6xYOMMzgF5drqNG6F9eyhVCjZvBh+fPDtVsSYt3YXI8uWwapXqFjJzpnQvF0IUQCnXYetgWFEb0m6rdVbW0GCOJNxCCCFETuh0UK4ndDwMj/8GVnfaSfUpcHyuKkqaSypUAG9v1dLdsaP0pM0rknQXEikpMHasuj92rPqCCCFEgaFpcPZX+DMETkZAwhk1Hk0IIYQQD8fWBdwqmh4fmgrbh8OqhnD931w5ha8vrFwJJUvCzp3w5JOqV63IXZJ0FxKzZ8OxY6rrxxtvWDoaIYTI4PYF2NADNj4JSZfALQRab4SyXS0dmRBCCFF0uASBnacasrWyPux9A/RJj3zYSpXgzz/ByUkl4MOGqWvpIvdI0l0IxMfDe++p+1OmgFs209gKIUS+0jQ15/ZfVeHcUtDZQPW3oP0e8G5i6eiEEEKIoiXwGeh4CPx7gqaHg++r4VyXNz7yoRs2VFXNra1h/nyYNu2RDykykKS7EDh/Hvz8IDgYBg2ydDRCCJHBf4sh9SZ4PQbtdkHNKWBtb+mohBBCiKLJ0Rea/QLNFoODL8RFw9rmcOyrRz50x47w6afqfmQk6PWPfEhxh1QvLwQqV4Y9e+DcOVVETQghLCo9TRV10emg4ddw5mc1FZiVtaUjE0IIIYoH/+5QKgx2vwxnfoJSLXPlsKNGqfHdPXqoVm+RO6Slu5CwsoJy5SwdhRCiWEu5AZv7wbYhpnWOflDlRUm4hRBCiPxm5wmNvoFOR8wLrl2KgvSHb6bu1Qts7jTNahrcvv1oYQpJugu0hAT4/HN1K4QQFnV5PSyvCacXwukFcPOwpSMSQgghBICzv+n+5fWwrgWsC1MziTyC1FR47jlo0QKSHr1eW7EmSXcB9s038PzzEB5u6UiEEMVWuh72T4F14XD7P3CpAK02gnuIpSMTQgghxN2SLoONC8RuhOW14b+lD32oCxfgxx9h2zZ44YVci7BYkqS7gEpLg+nT1X0pniaEsIjbFyCyNex/G7R0CBxwpzJ5Y0tHJoQQQoislOsJHf6FEg0g9QZs6A47n3+oqcUCAuCnn1QJl3nzICIi16MtNiTpLqCWLYMzZ1Qhg4EDLR2NEKLY0dIhsg1cigQbZ2j8HTSeD7Yulo5MCCGEEPfiEgStNkDIOPX46OewugnEHXvgQ7VuraYsBlVkbc+eXIyzGJGku4D66k7V/6FDwdHRsrEIIYohnRXU+Rg866ipwAL7WToiIYQQQuSUtR3U+QhC/wL7EnB9D1xa91CHev11NZ1YUhI88QRcv57LsRYDknQXQMePw5o1qivH0KGWjkYIUWyk3IQr20yPS7eDtjvArbLlYhJCCCHEwyvTAdrvhdofQoXhD3UIKytYsADKl4dTp6B/f1XVXOSczNNdAM2dq27btYPAQMvGIkRuMEw3ce2aujoaFwfx8Wq5dcv8fkKCupKanJx5SUlR9Q7S002Lppnft7ZW01zY2Jjft7FR89w7OqrFycl03/DY1RXc3MDd3XxxcwMXF3UhrMi6eQjWd1cFWNrtANcKar1MBSaEEEIUbk5loOorpscp1+Hf16H2B2DnkaNDeHrC4sXQqRMMHlzEfxPlAUm6C6CYGHVFadgwS0ciRNb0erh6FS5dgsuX1a1huXwZYmNVgm1Isq9dU9NOFGY2NlCiBHh7q1oLd9/6+UGZMlC6tLpvZ2fpiB/A2d9g60BIiwcnf3UrhBBCiKJp21D47ze4uBaaLwWPajl6Wp06cPIk2NvnbXhFkSTdBdCCBfDRR+DlZelIRHGkaXDxIpw+DefOZb1cuKBanB+Ura26UururlqOXV3VbcbF2RkcHNQf9KwWQwu2TqcuThlure4MlklPV7Hp9erWsOj1qrU8MTHzcvu2Wm7dgps3VUv8zZumxXAsw4WFnPD2Vgl4mTLg7w/lyumws3MjLg4qVFDbLX6VWNPgwBTYP0k9LhUOTX8CB2+LhiWEEEKIPFTtdbi6A+KPw+qG0OQHKNs5R0/NmHBfuAAeHqq3oLg3SboLKF9fS0cgirLERDh2DE6cUGNzTp403Z4+rbp350SJElCqlFp8fEz3vb3VNi8vlWQbbp2dC0Ci+YA0Tb1f167BlStqiY01v3/5suqhcuGCWlJS1PrYWNi713AkK6Cc8bhOTmpsVFAQVKoElSubbn198+F90ierK92nF6jHlcdCnQ/BSv5bEEIIIYo0r7qqSOqm3nDpb9jQDerOgsrP5/gQK1fCM89Az56mAtAie/LrqgBJSVE/4kuXtnQkoijQNNUqfeQIREfD0aPqNjoazp69dwEMKysoW1a10JYta774+6vW21KlVMt1UafTqQTZyUm9/vvRNNX1/sIFOH9eLWfPwqlT6Rw6lMjly06cP6/j9m04dEgtd3N1VQl4lSpQo4ZpKVs2F5PxIzNVwq2zhsdmQwWp2iiEEEIUGw4lIXwl7BgFJ76GXS9A/AmoMz1H9VxsbFSDxJw5qrJ555w1lBdbknQXIFFRqnhanz6waJGloxGFyZUrcOCAWvbvN92Pi8v+OR4eULGiamkNDDTdBgZCuXLFI6HOCzqdGuNdsiTUrGlar9drHD58ipCQEPR6a86eVb0Kjh83vyhy6pTq5r5rl1oy8vAwJeA1a0L9+ur+Q40frzIWYjepq9p+bR7hFQshhBCiULKyhQZzwSUY9k6A/xZDtTdyNMysVSt4+WX4+GMYPhwef1z1ahRZk6S7APnrL9VK5uxs6UhEQaVpKinbswd271bLnj3ZjzO2sYHgYNVl+e6lZMnC19W7qLCzU+O6K1RQ/2lllJysuvlHR6tW8P371RIdDTduwIYNasl4rFq1VAJevz489hiEhKh/+0xunQCXQDUHt7U9hP2Rly9TCCGEEAWdTgfVxoNrMLhVeaC6LlOmwB9/qN8oY8fC/Pl5F2ZhJ0l3AaFpKukG6NDBsrGIgkHT4MwZ2LYNduwwJdg3bmS9f1AQVK9uWmrUUF2UC1UVbYG9vUqaQ0KgWzfT+uRkNVTAkITv2QM7d6rq8Dt2qMXA2RkaNlRXnR9/HBo1AtfbkfBPFwgeCnWnyxUXIYQQQpiUe9L88YWV4F4NnP2zfYqjI0REqN8a334LTz6pupqLzCTpLiAMRa1sbTO3fIni4dYtlTht3aoS7W3bsm7BtrNTCXXdumqpUweqVVOVv0XRZW+vWrRr1TKtM/R82LlTfXZ27lRd0m/dgr//VgtAt/q/8+PzvbG3Seby0b1Yl0uhhLfM9yGEEEKILFyKhPVdwcEXWqwBt0rZ7tq4Mbz0kupmPmyYGt4o3cwzk6S7gIiMVLdNm6oiSqLou3hRdRNev17d7tuXubiZjQ3Urq1aLevVU0l21aoy3looOp3q4RAUBL16qXXp6apb+saNsGkT+MR/x7Qeg7Gx1rNkRzee+uIHUtLsqVMHWrZUF/kef1ym+xBCCCHEHS7B4Fwebh2FNY9D+CrwqpPt7oZu5qGh2QxvE5J0FxQbN6rb5s0tG4fIO2fOqIsrhiT7+PHM+wQEqK7ADRuqpU4d1XVHiJyysjINMRjRai5sHw7AKd0AotK+JriiDYcOmWoCfPSR6j3RpIka2tKpk6qaLr3PhRBCiGLKuRy03gCR7eD6HlgXBuFroGSDLHd3dFS97aTXZfYk6S4gDEn3449bNg6Re65cUUn22rWwbp0aPpCRTqcqUDdrZlr8/CwTqyiCjs8zJtxUeoHAejP55CkrQM0p/vffps/mf/+p2ROiouDVV1XLeceOKgEPDVVd24UQQghRjDj4QMtI+KczxG6AyDaqq3mJx7LcPWPCrWlqsbLKp1gLAUm6C4D0dBg/XiXejRpZOhrxsFJSVAv2ypUqmfn3X/Pt1taqsnRoqEqwmzZVU0AJkSdsnFWV8kovQN0ZZk3Xfn7Qt69aNE31uli5UhVzjIxU1dM/+0wtzs6qBfzJJ9WtzK4ghBBCFBN27hC2HKI6qMT779bQdge4Vcz2KcePw+jR0KaNGustFEm6CwArKzW/3fDhlo5EPKizZ2HFCrWsWwfx8ebbq1dX42ZbtlTJtpubZeIUxVD5p8GtMnjWvWdfcZ1OzddesSI8/7z6DK9bB3/+qZLwmBj45Re1ODqqFvCePdWtdCMTQgghijhblzuJd3twCVLLPfzzD6xaperK9OoFZcvmU5wFnCTdQjyA9HTYvh2WLlVJycGD5ttLlYJ27dTVvRYtwNfXImGK4urCCpVkO5ZSj73qPfAhXFyga1e1pKeraui//qqS7lOn1P1ff1UJeOfOMGCA+rxL4RQhhBCiiLJ1gfCVYOUAVtb33HXQIPjf/2DLFjVkbdGifIqxgJOfSQXAhg2qYnlIiIydLIiSk9X416VLYdkyVXXcwMpKDQlo314tderI+BVhITFr1PQeTuWg9SZT4v0IrKzUkIjHHoOpU1XhNUOr98mT8PPPavH1VV3V+/dXdQqEEEIIUcTYZBhflp4G+96CiiNV0bUMrKzgiy/UrDs//ABjxkCDrOuvFSuSHhQAI0eqZM0wp66wvIQElVj07g0lS6qxrHPnqoTbzQ369FFX7mJjVfeZN99Uf1wk4RYWcXUHbOgO6amqddu+ZK6fQqdTn/GpU9V4rR074IUX1Pfj4kWYPl3NIV6nDnz5JcTF5XoIQgghhCgI/h0Ph6ZCZFtIupJpc5066kI8wLhxmafELY4kRbAwTTNVta6U/bzzIh8kJsLixSqh9vFR41B+/lmNcS1dWl0cWbVKJdo//ABPPQVeXpaOWhR7N4+ocVZpCeDbChp/d9+uX49Kp4P69eGTT+D8edULpEcPNX/8v//Cc89BmTIwahTs35+noQghhBAiv1V+EZzKQtwR+KcjpMZn2uXdd8HBQfXo/f13C8RYwEjSbWGxsZCUpH7E+vtbOpriJzUV/vgDnn4avL3hiSfgp5/g9m0IDITXXlNjuP/7T7XetWmj5jQWokBIugxR7SD5KnjVh2aLwTp/x6jY2anx37/9poquzZoFlSuri1WzZ5umxfvxR0hLy9fQhBBCCJEXnP0hfDXYecHV7bCpN6TrzXYpWxZeflndnz3bAjEWMJJ0W9jZs+rWz0+Sufyiaapr7PPPqxbsLl1Uy3VCApQrp7rB7NiheiBMnarGs0q3cVHg6JNgfXdIOAMuFVRlUVtXi4ZUogS8+CIcPqyGy/TsqabK27hR9QypUEG1jt9d5V8IIYQQhYx7iPrtYe0IF5bDnlcy7fLaa+r//WXLLBBfASOphIUZku5y5e69n3h0Z8/Ce++pgnUNGsDnn8OVK6or+YsvwtatcPo0fPSR6jp7j1mWhLC8pFhIjgVbdwj7Exy8LR2RkU4H4eGqLsLZszBpkupJcuaMKqhSrpyqg3DpkqUjFUIIIcRDK9kQGn+r7kfPhOPzzDa7uqr6L1IoWpJui7typ/ZAqUcvNCyykJKiur22bw/ly6sf+tHRaozJU0/B8uVqTOqsWdCwoSTaohBx9oe22yB8lZqPu4AqXRreflsl3F99pVq7r19XF8ACAlQSnnFGACGEEEIUIuWehBpTwNoJ7LNvAEhLg6NH8zGuAkaSbgu7cUPdenhYMoqiJzpazQ3o76+6uK5cqbqVh4XBN9+oFrZFi1QyLvMLi0IlLcF0385TXWUuBBwdYfhwOHJEXQhr2FBNx/fJJxAUpLqgXclcAFUIIYQQBV31N6HjfvDvluXmY8egWjXVCy4pKX9DKygk6bawFi3UVDu9elk6ksIvNRV+/VV9oatUUd3EL19WcwhPmKC+8JGRMGiQmvZLiEIn4QwsqwDRnxXa+TesrVWl8y1bYPVqlXwnJsKHH6rihW+9JdONCSGEEIWKTgcuQabHiRdBn2J8GBCg/q+/cEFNwVscSdJtYfXrw0svqXmgxcO5dElNSxAYCE8+CVFRqvBZp05qKqOzZ+H991W3ViEKLX0ybOwFSRfh1AI1J3chptNB69Yq+f7zTzWnZ3y8+i5XrAhffw16/f2PI4QQQogC5NI/sKI27BlnXGVnB2+8oe5Pm6aGfxY3knSLQmvHDnjmGdWF/K231NhsHx81bvv0aTUVWNeuau5gIQq9PePUtBx2ntDsF7AuGtMd6HTQsSPs2qW6nVeqpHqoDB2qZg5Yv97SEQohhBAix9LiIekSHP0MzvxkXD1woOp9euGCmp63uJGk28KOH4fNm1XCKO4vPV0l082bqwrk33+vupU3agQLF6pW7XfekTnPRRFz7g84+rm633gBOAdYNp48oNOpbuf798OMGeDuDnv2QGioGn4TE2PpCIUQQghxX2U6QrXX1f3tw9TQOFQF8xdeUKunTy+0o+QemiTdFvbBB9C0KXz3naUjKdiSkmDePKhaVc2rvWGDasHu10+1eG/ZAn37ypQEoghKugzbh6j7VV5W/5kVYXZ2MHasqsEwfLgaKvLLL2qqv6+/Ln7/SQshhBCFTo3JULIJpMbBlgGQrsaLDR8OTk6wdy+sW2fhGPOZJN0FhPyQzFpcHEydqgowDBumqpK7u6tKx6dOqYsV9etbOkoh8oimqavESZfBowbUes/SEeUbb281xdiuXeo7fvOm6nLesqXqISSEEEKIAsrKBhp/BzbOcPkfNYc34OUFzz6rdvnzTwvGZwGPnHSvX7+eTZs25UYsxZKzs7pNSLj3fsXNtWswaZJKtidMUGM8y5WDmTPhv/9UIl6mjKWjFCKvaVCiEdi4QOOFYF38unLUrq16snz8sZp2LDISataEL76Qi5VCCCFEgeUaDHVnqft734Dr+wAYN07Va5k503KhWcIDJ92hoaHGJHvq1Kn07t2bp556ivfffz/XgysODFNXyRQ5SmysSrLLl4fJk9U85pUrqxbt48dhzBhwdbVwkELkF50VVBsPXc+AZ01LR2MxNjbw8stqvHfLlmrakdGjoXt3uHrV0tEJIYQQIkvBz0KZLhDwFDiWBlQjWrNmqpZLcfLASffBgwdp3LgxAHPmzOGff/5h69atzJ49O9eDKw4k6VauX1dTCQQGqlbsW7egRg1V3fDgQTV2W6qQi2IlPcN8WfZeloujAAkOhjVr4JNP1Njv339XLeH//GPpyIQQQgiRiU4HzX6DxvPBoWSmzfHxxWf6sAdOujVNIy0tjUOHDmFnZ0elSpXw8/Pj5s2beRFfkefurm5v3LBoGBYTH6/m0A4KUrcJCVCvnvox/e+/qmqxtbWloxQin51fDivrwpWtlo6kwNHpVPXTbdtUL5hz56BFCzXvp3Q3F0IIIQoYKxvTfU2DtNuAGkZaurSaLrQ4sLn/Lubatm1Lr169uHr1Kk899RQAhw8fxtfXN9eDKw78/NRtcZsyLCUFZs9Wifbly2pdtWpquq9u3YpflxNRfGiaWgyf8fPn1VR3ycmqSn9qYgItEkfhzBmOrv2Vkm0a4XWnofv0aTh6VI1tdnU1LW5uqnJ/cfre1K6tiqw9/zxERMD48XDggJrlwMHB0tEJIYQQwkzCf7BjlBo6F/o7oHq2zpkDd1LKIu2Bk+5vvvmGb7/9FltbW/r16wfA5cuXmTx5cq4HVxzUrAlvvQVVqlg6kvyhabB4sao+fuKEWhcUBFOmQJ//s3fX0VFdXxvHvzNxIgR31+BFCqVYS6GlpUVaKlD3lir91agX6i4vVKlTd0cKpUhxJ7g7BEggIZBM7vvHZjoJBEggk5kkz2etu8ZuZk7kTmbfs8/el2pWW4qHiRPhr79sFjYpybu52b69MSkpbpYutVRpsH82w4b5vvbJi57l/H7rWLezJq3ve5y/JllPerDWWffdl/trhobCn3/arC9YkZIvvoDKlW2rVAmqV7fjrUwZv33rhSo6GkaNsurmd9wBn35qrcZ++MG+ZxEREQkSmXthyx/gZMKWsVx/fQ+GDbMlYmvW2BLT4izfQXdkZCQ33XRTjvu6detWUOMpcWrXtoCzJJgxw4ohTZ5stytXttSSa6/Vem0pGjIyrKDfkiW+bdkyWLcO5syxavtgwe+zzx7+1S68b7m7dvmC7vLl7R9NZCTULL+Re3u/BMD7c1+h9akx/9V9AGuj1bIlpKXZ2eG9e32dDzIzrfel18yZlk2Sm/h4+OYbK0oG9s9u/Xqro1C2CC4fv/VWSzUfMMDSzk891dZ+N2oU6JGJiIgIAKWbQMPBsOw1mDOE6r3mcsYZoYwfb5MEDz4Y6AH6V56C7j59+vDjj5YG0KNHD1xHyWEcM2ZMwY1Mio2NG2HoUBg92m5HRVm7gPvug5iYwI5N5GhSUy1lO/TQu+Szz1pWSmZm7vtv2OALujt3tjoN1atboFyuHJQu7SE5eTVt29alWjVfSscdd9gGwL+PwOr9UKETT47qZ3F6NldfbVt2Ho+Nde9eC+C9TjvNxrt1K2zbBlu22Bi3brWxZd/322/h3nvterVqFnx7txYtoEmT4D8x1r27Bdznn28nQrp0scC7Rckt+i4iIhJcmj0Kaz6G5EWwehSXXXYj48dbjKCgG7jkkkv+u3755Zf7bTAl1Y4dMH++ldBv2DDQoyk4Bw/C+++X59133aSm2nrTK6+E4cMtGBEJFo5jM9h//20ZGdOn2/rgKVOgQwfbp0IFC7hjYiwITUjwXdapA/Xr+57v3HNty87jgcTEA1SvfpRlFLvnweqP7PopL+V5gXZIiK3pzj4jDtCxo22HS021me0GDXz3RUVZ1s3atbbGfNMm+OMP3+OTJ8Ppp9v1jRvtREQwpm83aAD//AM9e1ohxm7dLOugXbtAj0xERESIKAvNH4fZd8KCR+h/wUBuDY9h0SJrC9q8eaAH6D95CroHDhz43/WrrrrKb4Mpqe6/3woBPfaYpVsXB2PHwu23u1m2zD6Zd+wIb7wBrVsHeGAi2SxcaO2nxo619OrDzZ/vC7ovvNCCuerV/VSwbOV7gAO1LoXyp/rhBUx0NDRrlvO+wYNtS0nhv3983m3pUuso4PXMMzBihAXpp58OZ50FPXrYDHkwqFABJkyAXr3g339tBnzcON+6eBEREQmgBrfAsjdg30rKbH+Tc899gB9+gM8/V9Cdw2WXXcbIkSOJj4//776VK1dy9dVXM9m7WFfyxfsBeOHCwI6jIGzeDHfdZQWfwEXZspm89JKbq65yl6jKyuJ/X3wBbrfNbjZocPylCo4DCxbYft711Lt3w/vv2/WwMEvJPu00aN/egrTsgWR8vG1+0/Z1qHQGlGnlxxc5tri4I2fIs1daB9i5026vXWvbZ5/Z/QkJFnw//7yl5QdSfDyMGQMXXGBF7c47z7IWilMmkYiISJHkDoPmj8K0K2Hd5wy+9X5at3Zx4YWBHph/5TvorlKlCs2aNWPkyJGcf/75vPbaawwbNoyHH37YH+MrEVq2tMvZswM7jpORlWXBy733QnKyBUODB2dx6aXLad++kQJuKXDLl1t2iFflyhZUeYPwBg0s5Ts1FX7+2QqHrVgBt91mWRdgs9j33msVvzt3tlnggHG5oWbw/cc5/Nj98kt45x1Lw5840bIEZs2CxETYvx9efdW376RJFoxXqFCYIzaxsfZ779bN3lvPOQemTg3OtHgREZESpdZlkHUQag/irBAXZ/UI9ID8z+U4jpPfL/rnn3+46qqrcLvdVKpUiQ8++ICGQTaFkJKSQunSpUlOTibu8MWOQWbvXpuZycqyQkdFbb3z8uVw4422HhZs/eS770KzZh4SExNJSEggRL3ApIAlJtqa6vyIiLBCZG+95ZchHZPHc5TjYf9WCIuD0FJH/+Igt2uXtUhLTwdv2Y+MDGtTlpwMXbtC//7Qr1/hp6Fv22Zp8KtWwSmn2JrvgJ5ckf8c9ZgQKYF0PIjkVFSOibzGnO4TefJFixaxd+9eatasyZ49e0hJSTnhgYrNyLRqZdenTAnoUPLF47FU0hYtLOAuVQpefhmmTfPN3ov4S0ICNG2at307dbK1Qjt2BCbgPqZ598NPdWDjz4EeyQkrWxYuusgXcIMtNalTx04mTpgAt98ONWpYCvro0TYrXhgqVbKicBUqwNy5tnZdREREgoSTRdrOjXz1FTz1VKAH4z/5Drp79OjBBx98wKRJk/jrr7946KGHOO+883jkkUf8Mb4So1Mnu/znn8COI69WrbKWPPffDwcOWIGpRYvg7ruPUplZxA8uuujYj4eFwS+/2HF16aV2giuo7N8G676A9O0QWSnQoylQtWpZWvfq1fDSS7ZO3HGsqNmgQTBsWOGNpX59qzPhdsNHH8GHHxbea4uIiMhR7F4AvzQm9J8eXHppFo8+avV2iqN8B91du3Zl2rRpJCQkAFbZfN68ecybN6+gx1aidOlil2PHBnYcx+M48PbbNpM9daoFMaNG2UxSnTqBHp2UJLt2Werw0URFWbuo884rvDHl28p3bE1TufZ+rVgeSHXqwJAhlsWzerWtw69dG664wrfPnDn2PpKe7r9xdO0KTz5p12+9FRYv9t9riYiISB7E1Ib9Wwnfv5Rre40lK8vqwRRH+Q66H3744SPy6qtUqcLPPxfd1Mhg0KOHFSD69ddAj+Totm2D3r3h5putOFW3blZx/Zpr/NRCSSQXO3bAgw/aTOrRUsVLlYLffoMzziicMXk81m5r61brgb1hg11PSrKaDenptk8OWRmwcqRdb3RH4Qw0wOrUsbaIq1fb8gCvZ56B666z3+kTT8D27f55/QcftPfa/fttbf8RvxMREREpPGFxUO86AO7sZVVu//orkAPyn3xXLwf46aefmDx5MklJSWSvwzZq1KgCG1hJExcHd94Z6FEc3bhxtl5z2zYrRvXMMzZe9wlVBRDJv4wMeP11C9r27bP7Wra0iuXWos54A+6uXU/8tTwe69u9caOtTd60yS6929atNoa0NDsBdfBgXp41hJCQppQtCxUrwvlt/uSZs7ewN6MCr350ERUqWSuzhg1t7XNxPrYOP0nXsSNMn24nKx5/3N5fLr8chg6FunUL7nXdbvj4Y2jUyCquv/uunUQUERGRAGlwCyx7lWZlf6dK/GYmTKga6BH5Rb4/1j300EPccccdhIaG8sUXX1C5cmXGjRuXo2+3FB+ZmfDQQ7Zme9s26yk+e7at3S7OQYEEpw8+sGC3TRv46ScrjJW9nER+A+6sLKtP8NNPvkDvlFOsl3fdurbs49JL4Z57bF3y559b0cBlyywQ3707Z8Dtcllae3h47tkfHo+LHTtcLF4MrUp/AsB74wbx6OPh3HKLHWe1a1t17RYtYMAAO/4++8zGmf9eE0XD3Xfb7PcXX1iP9AMHrAVho0ZQ0N0oK1eG4cPt+tChljkhIiIiARLXEMp3xEUWV3T6hIULi+f/5ny3DKtevTp///039erVIz4+nj179rBo0SLuuusuxo0b569x5ltRahnm5Tjw6af2AfvDDwPfT3bDBrjsMl9F9ZtugldesaAiL4pKqX8JXtu2WTu9iAi7PXmy9dq+6irfSR/HsVTljRst4PbWR8jN/v3WX3ryZCuuNnWqpX/nJiLC2vdVqwZVq9rmvV65stUziI62QN97GRmZM9j2eCwoz8iA9HQPCxeuoGzZBiTvTKPzjgqEcIARa2azYENrNm+2723VKts/NxUrwmmn+ba2be11i5upU2399Z9/wmuvwR0FnH2fmWmtDefNs3aHb79dsM8veaP/ESI+Oh6kRFv5Hsy4gdU7G1PvziV8952LCy4oGsdEXmPOfKeXp6amUvdQvl9UVBSpqak0bdqUGTNmnPhoBbAP6yNGwL//2ozPXXcFbiwTJ8LFF9uZprg4S8O8+OLAjUdKnrFjbeb5rrtsLS5YlX9vpX8vlwuuvdaC0M6dcz7m8VgLu19+scIcs2YdGdBGRFjQ3qSJtSDzbnXqnHwl/pAQO0kVFWWBeaVKmSQkQEhILOyeAZt/49bLToFsgXpmJqxdC8uX24z68uU2oz9njq11/vFH2wBCQ+0kQ9++0KcP1Kx5cuMNFh07WnHGyZPtxILXn3/CggW2tCU8/MSfPzTUlip06WLZE48+Wvj9w0VEROSQWhfD7DuoW34pp9Sey+LFrbnggkAPqmDle6a7a9euDB8+nM6dO9O/f3/Kli1LbGwsf/31F/Pnz/fXOPOtKM50A/zf/8Ftt1n67KxZhf/6jmMfRu+5xwKWVq3gm29srWl+6aytnIjMTAuCnn3W/h7bt7fA+VjF+hzH93h6uhXh+P57Sxs/vChXlSoWnHfqZJfNmxdOm7uTPR7S0y3wnjbNtqlTYcuWnPu0amXBd9++tt69OBU4TE+35S2rVkHjxvDmm9C9+8k9Z5culvHwv//BCy8UzDgl7/Q/QsRHx4OUeCvfZVtafbLKdaZKtdAic0zkNebM96rcDz74gGqHpgTefPNNsrKy2LhxI59++umJj1b+c/HFNgsze3bht7RJS7M2PnfdZQH35ZdbavmJBNwiJ2LbNquK/8wzFkjfdBNMmHD84NFxbGb80kuhQgVrE/beexZwx8dbX+gPPoCVK20t9pdfwu23W5AaxO/jOURG2gzwPffYibBNm2wW/MUX7eSB223p0k88YevS27Sxn0FqaqBHXjDCw219d4UKsHQpnHUWXHLJkSce8uP+++3yrbeKb19QERGRIqH+DVRqcQZVqp1Qne+gl++Z7qKiqM50A/Tvb7N0t95qM9+FYcsWOP98C/ZDQuDlly0oOZmZsqJyhkqCw7p1FkitXGlLGt57zwqJHcuOHRZMv/OOzYB6Va1qs739+llRtbAwvw4dsBNVmzZZavjatfb9rF9vrcQqVoRXXz10PJTZwPj3v+TDCQOZvr4n0dHk2KpUydkKbdkyW7ddteqxTxDs2GFp9D/+aKnZBw7Y/aVLW3usW26xwmRF3Z49VjxvxAgrhFeunP3++/fP/3M5jmU6LF5sS2iuv77AhyvHoP8RIj46HkRyKirHRF5jTgXdQeivvyxtMjraPsSXLu3f11u40GYGN2ywD7DffGOzjSerqBwsEnj799u66nXrrFfz2LHQoMHR9581y04Mffutr3p4XBxceaVla7Rt69/q+rt22fHSsqXvvjp1LNjOTb16sGyZHQ9N9r6Ce80oXvvjDu765LUj9q1Rw4J1r9NPt1TysDBbs12vnn1/HTpY6n3Fike+XlKSnYx4662cJyMuuMCyCJo0ObHvO5jMm2dr+efOtduTJ9vPKr+eecaqmJ99tp2skMKj/xEiPjoeRICd/zL/5y/5Y1YHmva6iNq1g/+Y8FshNfG/M86wD8VLllhP2dtv999r/fmnzSbu3WuzYL/+qnRyKXxRUTZ7+fLLMGbM0YtaLVhg6729hcTAqlDffLOlGkdH+2d8mzfbLPLUqVbocNkyC7JXr/btU62anSSrWdPaftWubdfLlIHy5X37uXb8DcC5151Nu5st/Tv7lluBsNBQKwC3apVtY8bY/RUrWs9wb0bKzp124qxcOVunPGSIncAYMcLG/9NPdnn99dYPu0oVf/y0CkerVva7ePxx+z107Hhiz3PRRRZ0jx9vJ1PKli3IUYqIiEiebZtAy4hXWRPRhxkzBlC7dqAHVHAUdAchl8uKqX30kRUO8pf337c1sx6PzWx/950FCCKBcN11VkfA2x4su6VLLbj68ku77XbbOu277oLWrf03po8/tjT3yZOP7JEdGmo9w2Ni7PbPP9tsu/dkbGamHctut116PBCasQPXvlWAiwannU6DPFTgnjLFvnbzZptJT0yE6dNtq1/fF3A7jp2AiIiwVOv+/W1d99ln27ZsGTzwAPzwg6Vjf/qpBeYPPmjrxYui8HB4+mlLM/f+HFJS7ETDhRfm7TkaNLCMhfnzreXc5Zf7b7wiIiJyDJWsQmq3hIl8MS4zwIMpWPkOuv/99186dOjgj7FINjfcYLN3/qo+/Nxz9gEcrOfxO++cXAsekfw6eND+Bu+/HypVsvsOD7jT0qx41muvWWAFNqP9+ONWwdofY8p+HEybZtWtwVqSde9ul6ecYkXfvv7aUsG3bTtyy97/24JvNxe338bowbBwY0uubF+a6tXJsdWsaTO4h5/8CgmxtPMaNaxo2o032v0ej2+fNWssMD940FKmn3nG9u/f395Pmja1WhGTJ8O999os8ZNP2uz3l19Cw4YF//MsLN6lBB4PDBxoGTv33ms/g7xkpHXrZkH3rFkKukVERAKmbBsyXKWJj06G3fOAUoEeUYHJd9A9cOBAXC4Xl112GQMHDqRJcVgcGIRC/ZSD4DgW6Dz/vN1+4AGbKSpOrYWkaLj7bkt7HjPGAp7Dg6MJEywN2pvCfcEFMGwYtGhR8GPZt8/WP7/0kgVs3tnz666zYLRRI1vDPWcOPPaYpbl715LnheOAx+Pi1Lr/AjBhcWfmzbN1yblp3NiCe+9mvb2P3C/7fXXrWjG1336zrJXffrMxv/aabcOG2QmMTp0sTf6bb2DwYBtD69b2/Rf1gNPlspMWv/5qLcAWL4avvjr+sgPv79u7PlxEREQCwB1CRumOhO35nQrumWRmdg30iApMvkO71atXM23aND7//HO6d+9O5cqVGThwIJdddhnVq1f3xxhLtD174I03LP3xZJvEezw2e/7ee3b7hRcsvVSksE2caAG3y3XkbOTevXDffb4K3tWrWyZGr14FP449e6zf8yuv2HpegLfftq4BkyZZobbvv8+9LVXp0jbj3aCBzdQfvpUrZ99fVpYdexkZHiKnTIMsaH9OG15tbW2q9u2ztdibN9t67dWrLZ1+6VIrhuZ9rX79LCju1u3os7dxcdY27dJLrTjd2LG2TOWHH3IWR0xJserup59uafoTJ1oBugkT7OdeGNXe/cHthuHDbVnONdfYiYdzz7V17LGxR/+6U06xy7lz7fflzyJ8IiIicnSRVdvCnt9pXWsWO3d2D/RwCo5zEjwej/Pnn386zZo1c0JCQpwuXbo4H330kZOZmXkyT1sgkpOTHcBJTk4O9FBOyrBhjgOO07Ch4xw8eOLPk5npOFdeac/ldjvOe+8V3BiP/pqZzsKFC4Pi70GCR2am47RqZX+Lt96a87E1axynaVN7DBzn5psdx1+H8M8/O07Fir7XatDAce6913GuvtpxypXz3Q+OExvrOD17Os4DDzjO1187zqpVjpOV5XuurCy7b/Rox7n7bsfp29dx2rZ1nMqV7XXs+850tnzYwnE+wzml9uwcz+9y2Wt++KHjbN/uOD/95Dj/+5/jnHqq45QqlXMsVas6zj33OM7cuXn/XtevzzneO+5wnGbNHGfyZPt9PP64vS+A4wwcaPcVdVOnOk5cnH1PHTse++/owAHfz3fnzsIbY0mn/xEiPjoeRA7Z8KPjfIaz4NlmziefrAz6YyKvMecJB91z58517rvvPqdmzZpO69atnZdfftn55ptvnO7duzvnnXfeiT5tgSkuQXdysuNUqGAfBt9888SeIzPTca66yp4jJMRxvvqqQId4jNfVPxA50vvv299i6dKOs2OH7/6pU31BcJUqjvPXX/4bwz33+IKsRo18AW724LZcOce57jrH+fVXx0lPP/pz/fqr45Qvn/Nrs28jRth+mZmZzsiRa5z6tfY4NWtkODVrHhncf/ppzucFx4mMtBMR7dr5gkjv1r2748yZk7/vPTPTcWrX9j3HDTc4TlKSBfqhoXbf9dfnDNKLqhkzHCc+3r6n4/1bioqy/dasKZShiaP/ESLZ6XgQOSR1o+N8hrPjrXLOiDdXBP0xkdeYM9/p5U888QSff/45Bw8e5LLLLuOPP/4gISHhv8d79+5NuXLlCmwmvqSLi4MnnoBbb7XiUZdfnr++3R6PrUv96CNLSf3iC2uRIxIIHo+tiQZrEeZtpfXll1bQ78ABW5P788+WVu4vdevaZe/etu75xRftdlSU9fq+5BIrWHZ4bYWUFBg92oqSde5s91WpYunhYWG29rpuXV8V88hIWLHClnGEh7vYuzeKW++MpVo1N9WqWVuxihUttX379pyt0nbssMro+/bZ2mSvqlUtVXrVKmtz1aaNvS8MH26F2I4nJMQKht1/v3UwePddSz8fOdK+t0svtSUosbHWwq0oa9fOfkaXXGI/n2OJi7OU/OTkwhmbiIiI5CKqKmm9dhAfE0/nZUsDPZqCk99o/sYbb3QmTZp0zH3mzZuX36ctcMVlpttxLK28cWObhbnvvrx/XVaWzVgV9gy3l87ayuH+/tv+HuPjfbPH335r6dXgOBdc4Dh79/p/HOvWOU7Llr7Z3pgYO7a2bs19/+Rkxxk+3HHKlLH9L7nEcbZtc5yPPrJjrHFjxwkLO/ps97G2smUdp1s3xxk61Gb39+/3va7H4zjLlzvOO+84zrnnOk54uO/rvv3WcS67zHc7IsJxnnsufzPUkyY5TpMmvud47jnHGTXKd3vs2JP6MQeNjIzj71O3rn3PU6b4fzxi9D9CxEfHg0hOReWYyGvM6XKcw7vPHp3H46FBgwYkJiYSkVsz3SCSkpJC6dKlSU5OJi4uLtDDOWm//ALnn28zb3Pn5q1/99ChVqTK7YbPP4eLL/b/OLPzeDwkJiaSkJBASF769kixt369za6CZXBMnWptuNLTrVL5W2/lrcVTfm3caD2933rLXvPqq62IWWys3X/nnVb47HCOY0XVHnvMV2itQgWbEd+w4cje3ZGRNttco4YVU4uJgVKl7LhtHfc2zWI/ZeqmQXwy7WY2bbLnyN72C2xMF15oM+7duuXsLJCSAr//DkuW2M8PYOZMK4a2YoXdvu46m7XOazG0gwetcN1rr9n3tWSJzXC/8YZVbV+woHi1E5w50zIHrr465/3lytnveNEiy2QQ/9P/CBEfHQ8iORWVYyKvMWe+0stDQkKIjIxk7969QR90Fze9e0OfPvDjj5aq+scfx97/lVcs4AarxlzYAbdIbmrW9AWLy5dbRf70dDuhNHKkfwLu3bvhnHMs0Jo719eCrF07W27hTTU/3K5dVgH7p5/sdlwcpKZa2rdX69Zw1lnQtq1dr1s3Z5Ccnm5B6/LlUC9lAc3jJ7Nhf2caNbKK2S1b2tfNmWMVxMeNsx7fH35oW5s2FvD37m3PGxdnqdLZ1axpJxVcLjsJ8P77Fsx//bXtfzzh4fDqq/Y8DRpYyvuTT1rK/7Jl9l5y//15+lEHvSVLoEsXyMy0n723anlmZs6TKiIiIhI4i8b8Rtr8EWxIa07Cw8dZH1ZE5LsxyjXXXMMFF1zAV199xZQpU5g6dep/m/jXG2/Yest33z32fp9+CkOG2PWnn7YZRJFgkpFhtQWSkiz4/fxz//WmHzrUAu6oKF/Afc89MHny0QNusOD1p58sU8Tlsllmj8cC7Lfegk2bYPZseO45GDAA6tWz/TIzfc+xZQu0b2/tuJYtSgFg/ORyjBplrcrGj7eg+/rr4eOPrZ/0aadBhw42az57tp2Y6NsXtm7NfZwul/0svbPubrf1Pu/X78iZ+GMZMsROfgDEx9t7B9jJu4yMvD9PMEtIsNZzmZm+GgJga/LBfpYqSSIiIhJYWSmrObXar8RlFZ813fn+mDtixAgA7j9s6sPlcrHa+4lW/KJGDQtOjmXSJLj2Wrt+993wwAP+H5dIXuzcaam9tWpZ/+SFCy3A+flnCzb9Yft2X6/r/fttJv3rry0gPZ4zz7TU8LQ0u92nDzz0kJ0kyM2iRfDww/Y1o0fbfbVr2/6lSkHThnsBOKNHFOVOt/FkXyayaJGdFPC+jbrdUL8+rFljwf+cOfZza9485+tWrGgBe8+ecPPNNhvvcsFff9n9V12Vt59Vdv/+a8F26dJWWGz6dOjUKf/PE2xcLjth8s8/9vf35JPw1FN2Hez3FcQZbCIiIiVCWGwlSILSEdsDPZQCk++ge82aNf4Yh5yAf/6xD8LedNZVq6B/f5uVGjDAKjJnT3UVCaQZM+C88yzQ9L6NvPCCrX32lzff9M1mgqVK5yXg/u03O4bS0izlesQISyM/mldftXXRGRl2AmH9ektlXrPGXs/jgXLx+wA4rXMMvdsc+RxNm1pgPWGCVRP/5x9YudIei462FPKzz7afY26V3S+/3AL8Pn0sLRxsRr937/zP3r7/vr2fREXZ7bFji0fQDXaSYuRI+/0++6xlD02bZo+ddlpgxyYiIiIQHlcRkqBs1M5AD6XA5Du93CstLY0NGzawfv36/zZ/2LFjB+eddx7R0dE0atSI8ePH++V1iprbb7e1iYcSD0hOttTQpCRLf/3wQ5spE2HePKvINW9eQIexe7dd7thhs7GdOp3YLGxeOY7NanrdcAPcdtuxv2bVKiuqdtFFFnD37GlB7rEC7ldesaySjAxLX65WzWbze/WyVn9Dh1p7tA1r0gG48ZZoWrSwGfjs6d8hIbbGeMgQy1hZsgQGD7aCaKmptuZ6yxa4446jj6VRIyu66G0rmJRkJx7y69VX7bn277fbxe1t96KL7ARlVhY8+qiCbhERkWDijioLQOmo3QEeScHJd1i2cOFCTjnlFGJjY6lduzZ16tShbt26NG7c2B/jY/DgwVSuXJkdO3bwwgsvcPHFF7PLW/GmBGvY0C7vvdc+nF92GSQm2gf+n36ydFYRwBY0//13zmbPAeDtQb1tm12+/LJ/Twylp/uKnlWubMHn8TI/3n4bXn/dgs1u3eDXX21989Fs3gwPPmjXo6LsGFy+3G43bmzrsa+5xtZsVyifBYCDm4ULbRnIoEFHX3edkGBjXrDAMgJ+/91+Xt9/D2vXHn1M9evDJ5/Auefa7QULjv095yY6GoYN890ujr2rn3rKfp4//GBF7AA6dgzkiERERARgw+y/ASgfu4OVr7fm36+/C/CITl6+P/LefPPN9OnTh9TUVOLi4khNTWXIkCG88sorBT64ffv28cMPP/DEE09QqlQpLrjgApo3b86PP/5Y4K9V1AweDD16WHBw5pn2gTwqygLuKlUCPTqRI9Wu7bvetKllZPiTy+U7OXXFFXlrezV5sl1GReWtuNv48b709f37LVB+911bS56YaN0GRo2y++o1CCPDE8HpnVycfrp9zeef+17zaBo3to4FTZrAqafafcerW3n++ZYNA75U8/y64AJreQZHtjUrDho3tvT7K6+0EzT16vmqmYuIiEhg/Pv1d3SJsg8xLhc0qLCQDhkXFvnAO99ruhcvXsykSZP+65cWGRnJ8OHDqVu3LjfddFOBDm7FihXExMRQPdsCxubNm7M4lxm7AwcOcCDb4s2UFKsU7PF48BTHT4zYh/kWLdxs22bTd2++mUXLlk7QfED2/tyL688/qM2bZykQgGvsWNxA1p9/4mTZbCtNmkCrVoU6JDsZ5AZc9OqVRVZWPkprn4DUVFi92l7vyis9eTou1q+3/du3z6JCheMfS7t2ufCeu7zrriyefdb5L1DP/rVpabB+yX6aVj7AxIkhTJmbfZx5G5s9j41v3bosPJ5j//wqVgQIYf16B48nK28vkE1oKLRv72b8eBfJySf2HMHumWfg7LPtZ3r55f7/m5Sc9D9CxEfHg4gps/EJsiq4cLvtf7Lb7eDJclFm45N4PH0CPLoj5fWYzXfQHR8fT3JyMmXLlqVatWrMnTuX8uXLs2/fvnwP8nj27dt3RJPxuLg4kpKSjtj3mWee4QlvA+Bsli1bRox3uqaY2bYtlMzMBoCdANm4cQuJicG39mG5N99WCk2dm28metasHPe5P/nE8o6B1LZtWeMt611IrJVWUwB27kwiMXGbX19vy5YwMjMbERaWBSSSmHj8r8nMbAiEs29fGomJa4+7/7ZtZYGq1K2bzrXXrmTFitz3cxwIdVvQ6nLlDOzWrVtPYmLqcV9r8+YwFiywqfsdO7aTmHjs4iIfflgeqExWVhaJefnmc7F3by0glszMTBITT3DKPIitXx/OX381AKB9+xUkJhaT3mhFjP5HiPjoeJCSrn6ZZf8F3F4hbodaZZad8OcZf8prDJzvoPumm25i0qRJ9O3blzvvvJPOnTsTEhJS4LPcADExMf/NWHulpKTkGkQ/+OCDDPE2pz60X40aNWjUqNERgXtxkJUFd9zhZu9eF1WqOGzZ4uK556py442VqVAh0KMzHo+H5cuX07Bhw/8yI6SQvPUWnuwz3Z98QtYVV+D06AFAZJMmJCQkFOqQbB2yZWXMmlWehISyfn09m+mFjAw3CxY04ZJLjj+LWaeOm23bYNGiaEqXTqBq1WPv37ixfT+xsREkJCRw8CB89JGL3r2dI792QwjsgbN7eqjVMYt33nFx8KCLhISaHO9XsXcvXH+9zcgCtG1bkYSEYx/okya5D43NfUK/6/R0SEy057jmmpBC/3spDM8+68JxXDRp4vD++w354ossdXwoRPofIeKj40HErBzbiAYVFuYIvD1ZLtbubhSUn0UOj1WPJt9B94PeqkHADTfcQM+ePdm3bx9NmzbN71MdV4MGDdi3bx+bNm2i2qEqTIsWLeLKK688Yt+IiAgiIiKOuD8kJKRYvnm98Ya1FipVCiZMcPHEE3DppS4qVw6+77W4/g6CWps2toFVi/rkE9xnn22VuwJkwwa7LF8exoxx+f1vIjbWd33IEDcXXgi5vEXk0K2b9ahOT3cxaFAIEyceu9hbz54QGQnz57sYPjyERo2sYvmtt9oa4QYN7Pt1u+GBNiEklIebb3YIqeWmVSurUt65c8gxA73Fi2HgwJwF0Tp1ch+zn/T338P8+Xa9RYsT+1n/8osF+zVqwFNPHfv1iqLFi3391NeudbFkCcyfH/LfYSOFR/8jRHx0PEhJt7v6Y7gzLvzvtifLRYjbYU+Nx4Ly2MjrmE66dnCtWrX8EnCDzXT36dOHxx57jP379/PLL7+wYMEC+vQJvnz+wrRkCTzwgF1/6SVr7TN6tBU+EglWmzbZZbNmhVPsLzKS/7I+tm2DW245eqVwrxtu8F2vXv341dUrV4bnn7frTzxhVcabNLHCH6tWwR9/wKefwscfQ1LSoSdzbO3PdddZa7+jBdwLF8JNN0HLlhZwe9/TL7rI2ocdzfLlVhzM60T6a+/dCw8/bNevuopiF3ADPPSQ/T307w9du9p9U6YEdkwiIiIlXYcB/ZmU+jJg/6dX7mjBv+Hf0eGifgEe2cnJd9A9b948unXrRtmyZQkPDyc8PJywsDDC81Ia+ASMGDGCzZs3U65cOYYMGcKXX35J2bL+TUsNZhkZcPnlVjG5Vy/7UH64tWvhvvssBV2Epk0tqvDTybG8KlPGLr3tp7KyOOoa6ILgclmVf68PPrD+08dSt67NKgOMGwfr1tn13ccolXD77dbaKzwc5s61k2IdOli/7+HDLRB/7jmoVTfSxuXZn2OMXpmZMH06PPus9Ytu0QLeeccKskVH22W1avDaa0cfy+LF0Ls3eJcXVaiQ82eQV4MHw8qVUK6czf4Xt7o+X35pleVDQuDJJ339uf/9N7DjEhEREajWrDUAq7Y3pP4ds4t8wA0nkF5++eWX069fP0aOHEmpQmgGXaFCBX777Te/v05R8eqr9sG+bFl4//0jZ8nS06FzZ9i40VoYvf768XsTSzHXqpWvEXEAedc4b9pkM88XXmhttRYt8t/M9623WhCbnm63//c/C1wvvvjoX/P22xa8zp9v5ypGj7YZ8Fq1bPb3tNOOPKYGD4bu3eGRR+Dbb2HaNNvAAteGDeHMi2KoURl+/n4f81Ktonlqqh2rq1bZtt8XjxMaCv36WZuwe++11//tN3JdZ+44Nms+eHDO53j5ZXuvyA9vvT2Xy04EnHWWtTXztjkr6rZutb8LsNnupk1hyxa77f2diYiISOAcTLFiu0lpFagT4LEUlHwH3Rs2bODJJ5/EpUiu0K1bB48/btdffDH3QCUy0mbWBg602beKFS0QEAm0Q2UZ2L7dZm5TU2HXLpuZ/ftvX0/oglShAlx7LYwYYb239++HSy6BOXMsGM9NTAz8/LPN8K5eDV262P1LlsDvv9sM9A032HKO7GnejRvD11/b2vXRo23ff/+FpCQL5hJbxdK2MkyasJ+Xj3IeMT7egsCqVe2EWeXKdn9EhI3bWxwuu9Wr7WTA55/b7XLl7DV79Mj/Ev7Roy3tHaBPH/jhBxuTtz94Uec4lh20a5edi3roIbu/eXO7XLfOZvWLYzq9iIhIUZGxdzsAKQeDpDp0Ach3evmgQYP4+uuv/TEWOQbHgdtus9mxLl3g6quPvu+ll9oHdoBHH4WRIwtliCLHVL68L/CeMAG++caC4jlzYMAAWzrhD08/bYHy/v2+FPfGjY/9NTVqwOzZNhvv8dgWGwthYba++vbbbea5eXOYOvXIr73/fksu2LPHvr8vv4SEFqUB6Nl1JzfdBEOG2DKQe+6xGepevWx2e8oUC/qjonzPefvtRwbciYm2drthQwu43W546ilYutSe77vv8p7l4jiWAj9okP0e+vWz2W2wwDQsLG/PE+yGDYOffrLv56OPbEkA2IkKsJ9DLh0pRUREpBA5aVsB2JtRPsAjKTj5nuletmwZ77//Pk899RSVKlXK8diYMWMKbGCS008/WTXhsDB4663jf5i+7TbYscPWKw4eDHFxAS1cLYLLZUHs66/bjPDHH9vfdLduVnDshhvgvfcs8CxIpUvbrPNpp8H69TaTfM45vscnTLD7Dg9q4+NtnO+8Y9kiO3bY/eXK2Uz9xo2WGp+9nMXrr8Mrr1jgXbmy7VeqlB23oeWr0zYOepy+kbPvs2D2mWeOLO4WH2/p72lpNvbsdu+GX3+1cf38s+9ra9WywL59e7v95pt5//kcOGAnAEaMsNtDhtgJip07rSjcnXfm/bmC2ZdfwmOP2fX/+z87EeMVGmpp+Lt22fedW0aBiIiIFI6IjJUQCrsPHqNybBGT74+3V155Za4tu8R/MjJsTSfYmtS8tqh7/HELFEaOtBmx0qUtlVckUAYMsMD0xx9tnfWpp8IXX9jM6kcfWer5F1/YSaKCVLWqBfadOtl67ZYtrbBa164W4KamWtrxvffmXDPtctn9l19uQenzz1tQ5p0NrVXLguC0NOvQtmqVFTK0nuQ57ehYg/6DwbV/I2Bp7I5jwXmLFtCxo62fPvVU38xyZiYsW2bp999/b7PnmZk5v6/Nmy0tevv2/P9cJkyAm2+2iucul60Bj4nxVXF/883iMcs9fbovO2jIkJxV6r2WLrUTHsXh+xURESnKYrFKu8lZtQM7kALkcpzjNdEpmlJSUihdujTJycnEFfQn+EL25pu+9NKVK3P2Hz6erCwLGmbPtmrMhVn43ePxkJiYSEJCQlD21ZPCl5UFderYjPNzz1l6NVjxsSuusJnhGTNsH39YvNiWXyxaZLcHDbKgdtYsux0RYfddfDGccUbOWWywquBffWWzpuPH56zqHRJi7fvq17cTXKGhliIeHm5bozITuLbmmTjRdXH1WUVSkv08YmPt5NiOHRY4r1kD8+ZZwcSFC31F4Lxq1LDnXb3aAnC3G665xlqWedP3j2fHDktr/+QTu125shWQa9HCeotnZtoJCG87tKJs5kzrp75nj510/OEHrdkOFvofIeKj40HkEMdh/8eliQrby/OLJ3LPk52C+pjIa8yZp6D7xRdf5H//+x8ATz/99FH3Gzp06AkM1T+KS9CdnAz16tnM2siRNiuVX1lZFiwU9o9B/0AkNx99ZLOOcXHWMsybyjtrFhw8aDO+/pSebn3uva236tWzmfZp03L2aY6Pt6D0aNkhO3fauuk//rCZ1M2bj/6abjfUqriF1S9VJSvLRa37Usl0okhNtZ7YxxITA61bW1eCV1+1WXmvXr3s5IW3ENjx7NxpM/avvmqp6i6X9S9/+mlfKvsXX9g69ddeK/qdD6ZNs6UEKSlWff333/N30lL8S/8jRHx0PIgckrYRfqiBJ8vN61sTuePuekF9TOQ15sxTevmqVav+u77Cn4115QgvvWQBd+PGcP31J/YcbnfOgPvVV22mLLce3yL+dsUV8MYbln3x6KNWowCgbduc+338saVVv/SSBcAFJTLSjoFevSz4X7XKugHUqWPLN5KTrYbCtm05C6598YXNmrZubVvDhnDjjbaBrfGePt1m6teutSrmGzdaMO7xwJqtldmRUp4KcTupGLGEOWvb/PfcoaF28qFCBVszHh9vy0rKlbPWgG63paJ/952lsg8caDPyeW29vmyZrTX/6CPfzHnLlja73aaNpad7g+5LL7WtqPvnHzj3XDvh2KWLLQM4WoX8gwft7zIuzpY/ZC9iJyIiIoVo12wAFm9sSoXqwRts55fSy4NYcrKtGU1OtkrPF1548s85bZpvJvGpp+DBB/03m6WztnI0//zja8X13Xc205xdaqr97SclWWu8t96yFl0Fbe9eyyB56SXfmuhq1ayPc5Mm0Levb9+LL7YCZl7R0dZ2qn59qFTJKmN709G3bLEg2eWy4HnbNkhN9dBwQ2eqhkxjY/UP2Rl3FaVKWbrzggUWoK9ebcG6V0yMpUV7D59Nm+zn4c5D34nUVJuF/+gjK7rm1aaNpZYPGGDjHDjQThLMm+er4l3UffKJrds+cADOPNNOokRHH33/BQvsJERcnGUA5OXnKydP/yNEfHQ8iJiseY/gXjKcUROvoebF93HGGQ2C+pgo0Jnu7KYe3h/nkIiICKpVq0Zlb2NZOWlvvGEBd9OmRwYlJ6pDB6ua/NRTdpmUZLN8RT2NVIqWzp3hjjtsVvHKK62fdfZZ2+hoK7Z27bVW5KtPH5u1HDbMZpkLSmysrSu/7TarnP788xbYevs3t2ljwfaAAXDZZRZcz5ljAWpqqqWjT5lixbey9/2+7TY7mZBTCC9f3p67e02jeqlZVG91FWBf/9NPvr3cbksX79DBKq5n7xt9vDXbu3dbRXhv2rt3VtvlgvPPt2C7c2c7IfD55/Y72LXLgs1Fi6ywXFHm8diJxBdesNt9+tj3ebyZ67lz7fKUUxRwi4iIBFL65lmUAuaub0ubCpnH3b+oyHfQPWjQIDYfWrxYrlw5kg6V8a1UqRJbt26ldevWfPrpp9SvX79gR1rC7Ntn6aBgAUBBfRB0uWD4cJvRGjLEqhVv3WoprJGRBfMaInnx4otWKGzCBAuOZszIWejv9NMtuH3iCdv3t99s69fPguOCfIspVcoC0Jtugs8+g9GjbVyzZ9t2//0WgHfvbgXG2rWzE2Jz59rM9P79OU9cpafbbZfLjt2QEHC7HWav6wCAs/0fvLtffrl9rzVq2NayZd7XHScl2c9t+nTrq/333zmrm9etC/3729KURo3svgkT7HuYbdlbtG1rheHq1j25n2Gg7dljKfe//Wa3H3rIWibm5b1zzhy7POUUvw1PREREjicrk7A9NsG7I6tdsSp8mu+g+5prriE9PZ1HH32UyMhI0tPTGTZsGJGRkdxzzz3cd9993HzzzYwbN84f4y0xPvzQZqAaNLCZtoJ2990W4Fx/vQUY69dbS6LyxacHvQS5sDCrBN6una2r7t4d/vwzZ4/kqCibQb7+egugPv3U0rGffNI/Y4qIsNn1a6+1dPPvv7eU8uwBuFetWjYT3aGD9cdeswaqV7fv69dfj3xujyeLFQsqQSK49iyAg3sgPJ4BA44/roMHLbhfuxYSEy3Inj7dCtEdrlkzC7QvvNBmzL0nAzweu987qx4baycT7r33yCrtRc2ECZYxsXGjnTz84IP8rUufMMEu27Xzz/hEREQkD3bNIYwUdqfG48S3ApYFekQFJt9rusuXL8/WrVsJDfXF65mZmVSuXJmdO3eSlpZGtWrV2L17d4EPNj+K8ppux7Fe3MuWWbuwwYP991rjx9uH8+RkWwd5+eUF99xanyR5sWiRBdzbt1txsrFjoWbN3PddssT+Zm+/3Xff/fdbEbRBg/xXmXr7dgukp02zVPhFi+w4PZzbbSngtWvbVquWFUUrVQoiI7PYtWsjN1U9ixhnBYmVfmFbyHmkpnLElpJiQfaaNRZob9qU++uB/cy8gf9ZZ9ltr+yp6WAnLz76yLogPPJIzhMcRdGBAzaj/fLL9vOpX98K3rVpc/yv9Vq2zArmhYba77lMGf+NV3LS/wgRHx0PIsDiZ2D+UL6f2Zd5cd8yYMCSoD8m/Lamu0yZMkyYMIEePXr8d9/EiROJP1ReOCsrC7cWxZ2U8ePtg2BsrM3e+FP37tYe6OefCzbgFsmrZs0sNfqss2z9dqdOMGZMzsrhXk2a2Oa1aZMVQfN4bMZ24ECrQn3aaQXbi7liReuFfc01djslxVqc/fuvbcuXW3B84IAFyxs2WLG4nNxATWKv68aNZ65g3Md/cMfH5+V5DFFRFsjXrWszsh062GX2lHyvbdtsycjbb1sRRu8M7vDhtoY9e2BeVM2aZRkJCxfa7RtvtL+Fo1UoP5pvv7XLs85SwC0iIhJQWy1Tevzi7nS6NsBjKWD5DrpffvllLrzwQk499VSqV6/Oxo0bmTlzJp9++ilghdZuUi+qk/Lmm3Z51VWF01P28EBmxw5Lqb3lFhVYk8LRoIEF3j162Amndu2sYvmgQcf+uthYW+/99tuwdCm8845tFStatfMbb/RPynBcnFXFPvNM331ZWTZTunatbevW2bZ3r7X5Sk112LkzjWV7zwPepd+pPzNixutER7uIjibHFhNjqep16vhmzStWPPbxuGWLpY7/+COMG2dV0wFGjfL9DCpXtq0oS0qy2e133rHZ7QoV7ATD+eef2POVKWNbXtL8RURExE8O7sbZPgkX8OeCs7mluXPULL+i6IRahm3fvp3ff/+drVu3UrlyZXr16kXFIMtTLKrp5du3Q9WqNnO3ZImlmRcmj8dmfCZOhEsusQ+zx2q1c+znUqqU5M+OHRb8/P233b7mGqvif7y/QceBSZPs7/Xnn62oFtjtaw+dKd261e5v1CgwJ5P+Ox4a1CLkh4rgSYdzF0B885N63p07oXdvW+OdXfv21vpswIDi0Xc6K8t+nw88YPUuwLJzXnzRqsqfjL17bWnAib7XyYnR/wgRHx0PUuKt+QSmXcnCDc3o/MxCduzwsGxZ8B8TfksvB6hYsSJXXXXVCQ9Oju7LLy3wbdeu8ANusA+eAwbYrOOXX1rg/803xSMdVYJfhQq2vGLYMNs++MDStz/66Ngz1i6Xtbvq2tVmeP/+24qgZZ/9/PRTS0EvX95S2Dt3tstWrQq5kFhoKajUHTb/Cht/zHPQnZoKM2fauvLMTFuTDdaJYMsWu96+vVWC79MnZ/ZKUeY48Pvv9v16q4w3bw7/93/2OywIhZFRJCIiIsewwXqtfjezP+3aFb8WnvkOuvfs2cOTTz7J5MmTSUpKIvtE+erVqwt0cCXRZ5/ZZaDWV7tcNjvWogVcdJGtl2zTBkaO1JpvKRwhIfD449Ctm63RTky0YPL66+Hpp49fYT8szLI1zjor5/27d1tl6507rQL6Dz/Y/aGhdlLpzz8tpdu7b0yMPZdf1OhvQffa0dD0oVyn3seNs2rpy5db67T58+2EHNg67ocf9rUlGz3aUtGrVvXTeAPkr7/s+5w2zW7HxVnl+sGD7fd2MmbNslT1nj21jEZERCSgDibDlj8A+H5WP84dGODx+EG+zyHceOONLF26lOHDh7Njxw7eeust6tevz+3ZywnLCVm50lJEQ0IstTuQOnWyWaVu3axn+BVXWJpuampgxyUlR7duFmheeaXNdr77rqWGv/22L/jMj6eesvTyqVPhuedsFrxMGZs1Xr48ZyXve+6xiuM1a1pRtgsvtIrpzz4LH39sLby8tm+3meaUFF+PbMex6/v35xzDzp0hzJoFY5ddSKYTCSmJvP7EbK699shj/oUXLJV61Cg7Fj0eq4w+YIAFotnHcPrpxSfgdhxb3nLmmVbocdo0S4+/915rLXfnnScfcGdmwnXXwTnn2IkcERERCaD1X4InnZU7mjB/XUtOPTXQAyp4+f7o8tdff7FmzRpiY2Nxu9307NmT1q1b07VrV+6++25/jLHE8PbPPeOMk1+jWBCqVrXZtuHDbXZp6tSjty0S8YcKFSy1/IYbbHZzwQJrdzViBDz6KPTrl7/0o4gIC6JPO82qeDuO9XZesyZnivnq1RaYeSuRZ+dy2Qy81803Wyq7V0hIzpMCWVm+mdSnn67K2LEhQGlGD+7LZR2/wFn9CR980hawEwqHGkHQs6fN6jdsaKniHTpAjRp5/16LmoMHbUnLK6/A3Ll2X3g43HQTPPggVKlScK/15pv2t1S2rD2/iIiIBNCqDwB4e+zVgItOnQI6Gr/Id9AdEhJC2KGcy/j4eLZu3Urp0qXZcPgnU8m3X36xyxOtwusPISHw2GO2VrZMGV87Hm9QEcR1DaQY6dTJUq1HjrS1vQsW2PKHpk1t1nfAgBP7W3S5LJA9PJidMMHakW3aBJs3+y43b7ZK5NlnWh3HAv+sLLt9+Cx8RoYvoI+OzqJaNYeKFV0sTrsC+ILruo/mQMLzlKsYkeN7uOee/H8/RVFSkp1sePNN39r0qCi4+mqb6T9az/YTtXmznbABy1w43nIFERER8aPkpZD0L1mE8MnkK2jRwv43n0hWYzDLd9DdqVMnvvvuOwYOHEjfvn0599xziYyMpFNxPCVRiPbs8fX1PS/vrXsLTbduOW+/9JLNzH/0EdSrF5AhSQkTGmop3oMGwWuv2bZ4MVx2ma0Bv/deuPTSgqlA7XLZ+m7vGu9j+f57C7wPHLCAfP9+G2tYmG/zGjZsEwkJcVaFM6sn/FiNGDZx36VfQ52SUzTB44GxY61Q3g8/+FLlq1SB226z2edy5fzzuldcYdXK27e3FHMREREJoBUjAViUdC7bkitz6RkBHo+f5HtN97fffsvAQ7mVL730EnfeeSeDBg3iyy+/LPDBlSTjxlk6a+PGwR/E7ttn602nTIGWLW2WSmnnUljKloUnnrBe2MOGWQbGsmVWaK1qVQvaFi4s3DG5XFakrWxZW3ddqZJdj409RpEudyg0vNWuL3utRBxEy5fD0KFQqxb06gVffWUB9ymnwCef2O906FD/BNxgS2X++stOzHz4YfGrjCoiIlKkHEyG1aMAeOU3qw925pmBHJD/nNRHjpCQEK666ioGDx5MrHqunJRJk+zy8IrLwSgmxloXde1qhdVuvtkKHq1cGeiRSUkSH2+p5evW2UmgevWsmNn//Z9V3+/Y0QKr5ORAj/QY6t0A7gjYNQuSph9//yJo+XJL4z71VCuE98wzlq5ftqydIJk927bLL/dv67Z16yzoBnjrLTvBKSIiIgG0ehRk7uNgVBM+/OMsQkKgS5dAD8o/8p1evnv3bl5//XXmz5/Pvn37cjw2ZsyYAhtYSTN5sl0WVN9Zf6td22aMXnsNHnrI1sA2b25pvvfcc/LVhUXyKjYW/vc/GDLE/ibfegt+/NGqXk+bZqnKPXvauu8LLvAVKjsRu3fbzHqBiawAtS+D1R9C4kvQ+esCfPLAcBxbc//dd7YtWuR7zO2Gs8+Ga66x30VEROGNq1Yt6/c9dqzaH4qIiARcViYsex2ASdvvAlx07nxyn9OCWb5Do4suuojQ0FD69etHVFSUP8ZU4qSkWGsksNY/RYXbDXffDX36WGAzbpwVKOrfHxo0CPTopKRxu339ubdutVZbn35qfb5/+cW2sDALwPv3t8tjrdnes8dmYGfNssyOWbMsfX3q1AIeeON7LOje8C3sWQzxTQv4Bfxv+3Y7/seOtW3TJt9joaGWKnbhhfZeEcjODLn1bxcREZEAWPsZpK6FiPK8/JGdDb/ggsAOyZ/yHXTPmjWLpKQkQjWVWWBmzLDKx7Vr23rQoqZuXRgzxvoX79mTM+BOTz/aglYR/6lc2dYGDx1qxda+/tq2JUvg119tA0t37tHDqqPHxVmAPmuWbStWHPm8V13lh8HGN4Ma/WHDd7D4KTh9tB9epGAlJcH06ZbhMnas76ShV2Sk9cDu3x969y7g7IB8SEmxWfVnnrHWayIiIhIEsjJh0TAA9te5j7F/2URuMHVwKmj5jpx79uzJjBkz6Nixoz/GUyItWGCXbdoEdhwnw+U6MiCZNg369GnEM8+4uP56FS2SwGja1LbHH7eg+5tv4LffbPZ62TLb3nwzb8/lt1nSZo9Y0L3+S2j+GMQ18tML5Z/HYycuvOn606bZOu3DtWplJzC8JzECnQiVkmKdICZPtt/xggV6DxIREQkKaz+Ffasgojw/L72VzExISID69QM9MP/Jd9A9cuRIOnfuTKNGjahYsWKOx955550CG1hJ4q203Lx5YMdR0EaMcLFrVwg33QTvvWeBzamnBnpUUpI1aWJLIB591NZnT5xo67+/+MJafh1LZCRUqGBBaIH3py/TCqpdAJt+ggWPQKevCvgF8iYpyd6PDt9SU4/ct2FDWw7To4cVUjzs30FA7dpla8dnzYLSpa21oQJuERGRIOA5+N8sNwn38dmD1uu1X78AjqkQ5Dvovu666wgLC6Nx48Za011AvIWGmjUL7DgK2qhRDtWrb+Gttyozc6aL9u2tp/Izz1hRI5FAKlPG3uD79bMTQued5+sikJv0dDsLGxlpla8TEiyIT0iAOnWgZk1rdXXUFmHH02IYbPoZ1n8NO6ZBhdNO8ImOLTkZVq2C1at926pVlgWweXPuXxMTY32tTzvNtvbt/dfW62Rt22YnAhYuhPLlbenLKacEelQiIiICwIr/g32rIbISu8rfyu+/292DBgV2WP6W76D7r7/+YuvWrURHR/tjPCWO49g6UrAU2OIkLAyuvDKJO+6oyMMPh/Dxx/D551bRePhwqzgtEgxiYqwQ2E03wQcf5L5P1ao2E5yeDvPm2Xa4qCioUcMC8Jo17Xr58hagli4Ne/dG/jdjHhd3WIBepgXUvcbaZ8y9B3pMyVMEf+AA7N1rW0qKjXHbNism5730Xl+/3maBj6V2bWu51ry5b2vUyA+z+36wdKmtIV+1CqpUsd9pkyaBHpWIiIgAcCAJFj5p11sM57ufosnIsM8dxf3/db6D7nbt2rFhwwYaq8lpgdi1y5e6Wbt2QIfiN1WqWL/kO++0dmITJlggIhJMwsLg/fctUH7yySMfHzvWgs81a2xWODHRLpcutWB261bYv9/WO+e25hlCAN9ipZAQC9IjI22LiIAa5Yfx2y1fELVzGo9c/TVjl12Mx2Mp7VlZ/Hc9Lc0XaGdk5P97rVjR+prXrevbGjWybJvY2Pw/X7B4+GELuGvVsoC7OK8NExERKXIWPg4ZeyC+JdS9htE32t0DBwZyUIUj30F38+bN6d69OwMGDDhiTffQoUMLbGAlxYYNdlmxon3wLs5OOQXGj7ftjDN893/9tQUPV16p/t4SWC4XPPGEtRK7+WYLdMFmuRMS7PH69W07vK3FgQOwcaMd0+vX27Zxo808JyXBrl0OW7dmsndvKGlpLjwe2LfPNq9Vq6ryXLV7efzCJ7ip3RBe/aoX+9LzFgVHRdnseZkyVr29cmVrz5X9erVqFmDHxBTQDyzIvPsuREfDCy8E1xpzERGREm/PIlgx0q63fon1G0OYONFuXnppwEZVaPId4qSkpNCzZ0+Sk5NJTk72x5hKlPXr7bJGjcCOo7C4XDkrQKenw5AhFpw895zNMA4YoKJHElg33GAZGpdcYrPKZ511/EzviAibPa5XL/fHPZ4sEhOXkZCQwMGDIezebX//2bcDB+Dg/vvYl/wJ1cuuZt7Hj7K01Cu43TYz7r2MirIZ6bg4u4yJKZknrFJS4LPP7ASJy2UnHD76KNCjEhERkRycLJhxIzgeqN4XKnfnvUdtme2ZZ5aMWk/5/pj2wdEWPMoJ2bLFLotif+6C4HLBXXdZcbXly+1M19NPwyOPWI9fBd8SKL1721KI886zwlwFKSrqWC21SsHmETDxHOplvk69066Asq0LdgDFwMyZVphx1SrLErrmmkCPSERERHK18m3YOQ1CY6HtG2Rm2pI+gBtvDOzQCkueg+6pU6cedx/17s4/b7JAmTKBHUegRETYOu8bboBXX4UXX7R+ugMGWDrviBHQrVugRykl1amnWl/q0qUL+YWrng21LoN1n9uZ4Z7TwV0EKpkVgqwseOklGDoUMjOtYF3DhoEelYiIiOQqbTPMe8Cut3wKSlXn1x+tY0qFCsW/VZhXnoPuQcep4+5yuVi9evVJD6ikSUmxy7i4wI4j0OLirHfy4MHw+uvw2mtWqKpUqUCPTEq6gBXjav0ybP4Nds2GxOeh6YMBGkjwWL7cTtB5W7tddBG8807JPWkpIiIS1BwHZtwAGSlQ7lRocCtg/7sBrr4awsMDN7zClOege82aNf4cR4nlneku6UG3V7lyVshqyBD4+WebafR67DErknTjjRAfH7AhihSOqMrQ5jX492pY8ChUOQfKltyG06NGwa232rr36Gh4+WULwE+4L7qIiIj418q3bQLBHQHt3wd3CKtW8V9v7htuCOzwCpNWzAZYWppdakY3p9Kl4fLLfbd37IDnn4f777eic0OGwLp1gRufSKGocyXUuBCcTJh2OWTuD/SIAqZ+fQu4zz4bFi2yk28KuEVERIJUynKYc49db/UMxDcD4JVXbAK8Vy9o0CCA4ytkCrqlSIiLg5EjoWlTa7H0yitWJfqyy2zNreMEeoQifuByQbu3ILIyJC+B+SUnxXzrVvjxR9/tLl3sWP/9d6hdO2DDEhERkePJyoRpV4AnDSqdCY3uBKyF6qhRtsv//hfA8QWAgu4A887UKGg8togIW/excKF96O7eHTwe+OIL6NjRAnKRYimyPHQ49B9q2Wuw8afAjsfPDhyw9oENG1o3g+wZLR06aHZbREQk6M1/CJJmQFg8dPgQXBZyvvUW7N8PrVrBGWcEcoCFT0F3gOkDZP64XHDOOTBuHMyZY22CYmOtvZjXwoWgEgRSrFTtBY3usuvTroJ9xa9oZVaWnURr0gQeeAD27oXmzS2zRURERIqIjT9aAViA9u9BdA3ATqq/8Ybd/b//lbwYSEF3gHkr9h08GNhxFEWnnGIpKlu3QuXKvvvvvttSz88+G77+Wj9bKSZaPQflOkDGHvhnAHjSAz2iAuE48P330LKlLRdZvRqqVIGPPoJ//7UlJSIiIlIE7F1lkwMAje6Gmhf+99D778O2bVC9Olx8cYDGF0AKugPM2//XW8Vc8i97EboDByAkxD7IjxljB3W1anZGbenSwI1R5KSFhEOnryCiHOyeA7NuLxbrUnbsgEGDrDha6dLw5JPWGuzKK8Gt/1AiIiJFQ2YaTB4AGclQviOc8tx/Dx04AE8/bdcfeADCwgI0xgDSR5oA87a+2rMnkKMoPiIi4M8/YdUqeOghqFoVdu6El16ChAS4665Aj1DkJETXgNM+A1yw6j1Y/kagR5RvmZnwxx++2xUrwoMPwsMP27KQRx6BmJjAjU9ERETyycmyGe7dcyGiPHT6Ety+yPq992DTJpsIu+66AI4zgBR0B5iCbv+oWxeGD7ciTD/9BBdcYDPgrVr59tm+3aojK/1cipSqZ8Mph9ZKzbkbNv9x7P2DRGqqreVq0MDahEyZ4nvskUdg2DAoUyZw4xMREZETtPAJ2PCNBdqdv4NS1f97KD0dnnnGrg8dCpGRARpjgCnoDrDy5e1y27bAjqO4Cg2F88+34Hr9ehgwwPfYp59C3742Gz54MPzzjxVzEgl6je+ButfYmeUpl1g7sSC1fr1lndSsCXfcAWvX2vvepk2BHpmIiIictLWfw6In7fqp70DFzjkefvdd+59fo0bJneUGBd0BV7OmXWZviyP+UbUqREf7boeGWgG2pCQYMcL6ANeoAXfeabNwCsAlaHn7d1foDBkpMLE37A+uM3e7dkGfPlCnjq3j2rXLChyOGGHvdyWxiIqIiEixsmMq/HuNXU+4F+penePh5GSr1QI2yx0RUbjDCyYKugOsVi273LLFigxI4bnjDtiwwdaXXnWVFXHavBlef936gKemBnqEIscQEm4pXDF1IXUNTOxlAXgA7d/vux4fb8XRsrLgzDPhm29g2TK45ZacxQ9FRESkCNqzCCaeB1kHoNr50PKZI3Z57jmrrdS4ccme5QYIDfQASrry5W1tQ3o6bNxoM0FSeEJDrbXY2WfbSY+xY+HLL239d2ysb7+ePS0roW9fC8ijogI2ZBGfyPLQ7Q8Y18mKl0zqC91+g5DCWzCVng6//GItvmbMsHTyiAirPP7uu5Zh0rhxoQ1HRERE/G3fWphwtrUxLX8anP45uENy7LJ+Pbzyil1//vmSWbE8OwXdAeZyWaC9eLHNAinoDpyICOjd27bsVq+2YBysx2B0tAXpffrAOedY9WWRgIlrAN1+h3HdYNsEmDoITv/qiH9+BclxrIf2xx/DF1/kLAQ5aRL06GHXzzzTb0MQERGRQEjfDhN6wv7NULopdP0FQqOP2O3hh+3EfLduR362LomUXh4Emje3ywULAjsOyV2NGhZ033YbVK9uaefffWcp6ZUq+daqiARM2dbQ9Udwh8OG72DmzX7r4T12LNSuDR07wltvWcBdvbq1/UpM9AXcIiIiUswcTIaJ58LeFVCqJpzxJ0SUPWK32bPhk0/s+osv2iRjSaegOwh4g+6FCwM7DsldWBicdZa1O1q/HmbNsrN3p5xijzdp4tt33jwYOBA+/NDWi4sUmkpnWHqXy209vGcNPunA2+OBqVNh7lzffdWr23EQHQ2XX25B+Nq1VixNaeQiIiLFVEaKpZTvmm29uM8cA6WqHbFbVpZ1BQIYNAjatCnkcQYppZcHgRYt7FIz3cHP5bI3jzZtrK/wli1WgM3rp5/g889tA2jY0NaAd+8OZ5wBZY88GShScGr0h/ajrJLoipGAC9q+ma9TzMnJMGaMrdP+7TcrgDJgAHz1lT2ekGDFB7t0UW0DERGREiEjBf46G5KmQ3gZOGMMxDXKddf334fp06020vPPF/I4g5iC7iDQurVdLlkCKSkQFxfY8UjeVamS8/b551tBtnHjbEZ8+XLbRo60uGfOHGjVyvb1eKxgm0iBqnsV4MC/18KKEVjg/cZxA+/XX4cffrB+9ZmZvvvj4qBMmZz7nn12QQ9aREREglLGXphwDiT9awH3meOh7Cm57rpjB9x/v10fNsyKqYpRenkQqFrVetlmZVlxIim6TjkFnnrKzvAlJVkQc9ttNjsYEwNNm/r2veUWS02/+Wb47DNL2fXTMlwpaepeDe3fB1yw4v8OpZr7Gs9v2AA//5zzSz7/HCZMsIC7cWO45x67vXMnvP12oY5eREREgsHB3ZZSvnPaoYB73FEDbrCAe/duaNnSl2IuRjPdQaJTJ1izBiZPtvZUUvTFx1uF8z597PaePTnbJUyaZBXrExN9QU2VKtC+PZx2Gtx7rwpPyEmodw3g4Ey/HteKkaxZnsyLUz5k3Pgwli+3LItdu3yZNbfeCpdeCuedB/XrB3TkIiIiEmj7t1rAvWcBhMXDmWOtcOtR/PMPfPCBXR850tryio9muoNEp052OWlSYMch/hMfn/P25Mk2E37PPdCunQVBW7bYfR98kDPgfuEFC8xnzrT2CyJ58ebv13Lb6M/IyAyljms0vaL7sWFtGiEh9je3ZYtv3yuugDvvVMAtIiJS4u1bC2M7W8AdWRl6TIKyR6+IlpYG115r12+4wSaPJCedgwgSZ5xhl1Onal13SVG+fM6Z8LQ0W/P9779QqpRvv8xMePxxexwsOG/SxGoBtG5trZvati304UsQyMqymgGzZtk2cyaMGGFpXWBnmUf8ehnrt5Tm6zsvpPcpv7Lho3MIPetnSpcvfewnFxERkZIneQn81cP6cEfXsRnu2HrH/JKHHoKVK63DyQsvFNI4ixgF3UGiQQPbVqywIlz9+wd6RFLYSpWyjAdv1oPX/v1wxx3Wtmn2bFtju3ChbR99ZEH7Dz/Yvo5j7cwaNYJmzWwtuSpMFy+LFsF778H8+fb3sHdvzsdnzPAF3X362N9Au3bnErlvDPzdm3IZ/8CMrtDt11xbfYiIiEgJtf0fmNQXDu6C0k2tSnmpY1dDmzwZXnvNrr/7bs6uPuKjoDuInHuu/dH++quCbvGJjYVnnrHrjgObNtmM+Ny5dtm1q2/fzZutX7KX2w21a1sQ3qiRVZ0+55xCHb7kU1qanXzzrvdfsMBSts47zx7futX3zw3spMopp1i6eNu20K2b77EqVbJV2C/VGbpPhInnwJ758Gd7C7zLtCycb0xERESC19rR1nI06yCUO/QZIaLcMb/Em1buOHapz5hHp6A7iJx3ni/oVjspyY3LZak71avDBRcc+bjjWLX0RYtsJjwpCVavtu333y3d2PuGuH27BeF16thWt67veu3amiH3p7Q0yMjwnQ1OTLRshmXLrLL44Ro29AXdrVrBXXdBixYWZCck5KNYSdlToOd0+Ps8Sx8b2wlO/xKqnVsA35WIiIgUOY4Di4bDwkftdo0L4bSPIbTUsb8OSytfsQKqVYOXXvLzOIs4Bd1BpGtX64e7bZsVVPOu8xbJq+rV4Y037LrjWGC9dKkFc8uXQ48evn2XLoV582zLzZNPwiOP2PWkJBg1yhfwV68OlSsrMD+Wfftg/HjLPli3DtascZGYWJdt29xs327/qIYPt30jI21ZiVfZspaZ0LgxNG+ec/a6fHl45ZWTGFhMbegxBf65CLaNh0nnQ5s3oOGtJ/GkIiIiUuR4DsKMG2HNR3Y74X/Q6jlwHb/W9p9/wquv2vV33jmyYLDkpKA7iISHw4UX2nrN0aMVdMvJcbmgUiXbsqegezVrBr/8Yq3qVq/Oebl3rwV+XsuWwX33HfkcsbH2/PfdZ9Uqwdacf/WVfX3ZsnYiyXu9dGlLeS9KHMdXST4tDSZOhB077PvcudOu79hhwfVFF1mPSrATFX37Zn8mN+A7a5y9cnjNmnZSo1Ejm9UuX96/3xPh8dDtN5h5M6z+wPp4pyRC65fBHXbcLxcREZEibv82mHIxbJ8ErhBo+yY0uDlPX7p9O1x1lV0fPNiWyMqxKegOMgMHWtD97bfw5psQERHoEUlxVbasL2U5O8ex/s3ZU5ZjYuDyy2HjRt+Wnm7B+d69cOCAb9+lS+0NODcul61P9wamK1ZYf+iYmJxbRIRtZ5zhKyyXnAy//Wbjcrttc7l81+vXt5lhsDH9+adVfs/MtOUamZlw8KAFzq1b+05q7dhhPdHT0qxzQHKy7zI52U4mvPyy7ZuUlPvPzCshwXe9ShVbZ121KtSoAbVqZREWtoHTT69O/fohOc4Ih4TANdcc/Xn9IiQc2r8PsfVh/kOw/E3YPR86fQ1RlQp5MCIiIlJods6Af/rD/k0QGgudvoKqeVuQ7Thw9dWWmdusmaqV55WC7iDTpYt9WN+yRQXVJDBcLih3WN2MFi3gk098tx3HAtJt2+xsZ+3avseio6FfP9i924L3XbvsemqqfV10tG/f7dtzplUfbtgwX9C9dq2dlDqaBx/0FZHbsgUGDDj6vnfd5Qu6DxywKvBHs2eP73qFCla0rEIFm43Oflmlis1Ue4WHWyVxL4/HITFxLwkJQVSvweWCpkOhdDOYdgXs+Af+aA2dv4XyHQI9OhERESloq96HmbdawbS4xtD5eyjdOM9f/vrrVicoIgI+/1xLDfNKQXeQCQmBK6+E556z9REKuiUYuVy2dic+PmegCRaUfvfdkV9z8KAF39nfnBs0gE8/tfXP+/bZDPW+fRYIHzhgM9JeUVFw5pk2Y+041qM6K8t3vUYN377R0XYCKyTEZsa9l2Fh1pqtTRvfvmXL2vEWFQVxcbaVLm1bXJwF1F6RkVYxvtipfgGcPQMm9bM083FdLc2s/g2BHpmIiIgUBM9BmH0nrHzLblfvC6d9BGFxeX6KmTN9yw1feslmuiVvXI7jOIEehD+kpKRQunRpkpOTiYvL+x9TMFi9Guod6kG/apVVlS6KPB4PiYmJJCQkEBI0U3sigVEkjoeMvfDv1bDh0FmTetdDm9chVKexpeAViWNCpJDoeBC/Sl0PUy6FndMAF7R40jLd8lAwzSspySZD1q+3mjXffeereeMPReWYyGvMWcRKGpUMdetaKyew2W4RkUIRFgudvoGWTwMuWPUe/HmqtRcTERGRomfjj/B7Kwu4w0pD11+g2cP5Crg9Hhg0yALu+vXhww/9G3AXRwq6g9TNh4oHvveeFXgSESkULhc0fRDOHAuRlSB5EfzRFlaNslx+ERERCX6eAzDrDpjUFw7uhrLtoNccqJb/UuPDhlmB2qgoK/ZcunTBD7e4U9AdpHr3hjp1fP2RRUQKVeXu0Gs+VO4Jnv0w/TqYejlkpAR6ZCIiInIsKStgTEdY/obdbnwP9JgMMflfs/r77/Dkk3b97betuK7kn4LuIBUaCv/7n11/6SUrHiUiUqiiKsEZv0PLZ6yH57rR8Fsr2P5PoEcmIiIih3McWPG2pZPvngMR5SydvPWL1io0n5Yuhcsus6e95Ra44oqCH3JJoaA7iF19tbUjWrsWvvoq0KMRkRLJ5YamD8BZkyC6NqSusermc++31DUREREJvP1b4O/eMPNm8KRBxW7Qax5UO++Enm7XLjj/fGsR27EjvPJKgY62xFHQHcRKlYI77rDrw4dbEQMRkYCo0BHOnQ91rwUcSHzeiqztXhDokYmIiJRs67+B35rD5t/AHQGtX4bu46FU9RN6uowMuOgiWLkSatWC77+3vtxy4hR0B7nbb4cyZSAxEUaPDvRoRKREC4uDDu9Dlx8gogLsWQB/toXFz0BWRqBHJyIiUrIcSLJ6K5MH2PUyreCc2dD47nxVJ8/OceC222DCBIiJgZ9/hooVC3bYJZGC7iAXH+9rQv/YY3DwYECHIyIC1fvAeYvsMisD5g+FP9vDrjmBHpmIiEjx5ziw7kv4JQHWfnZoKdhD0HM6xDc9qad+4w1rWexyweefQ/PmBTTmEk5BdxFw++1QqRKsWQPvvx/o0YiIAJEVofP30OEjCC8Lu+dauvm8ByBzf6BHJyIiUjylbbI2YFMuhQM7oHRT6DEVWg4/oWJp2f30E9x9t11/4QXrpiQFQ0F3ERAdDQ8/bNcfe8wKGoiIBJzLBXWvhPOWQM1LwPHAkufg95aw7e9Aj05ERKT4cLJg5TvwaxPY9BO4w6D543DOHCjf/qSffupUuOQSyMqC66+HIUNOfsjio6C7iLjxRmjUCHbssAb1IiJBI6oSdPoCuvwIUVVh7woY3w3+vQ7SdwR6dCIiIkXbnoXWOWTGTZCRAuXawzlzofljJz27DdYa7PzzIT3dZrdHjrTz6lJwFHQXEeHh8Oqrdv2112DZsoAOR0TkSNUvsFnv+jfa7dWj4JdGsOItyFL7BRERkXzJSIHZd8Pvp8COyRBSClq/Aj2mnPTaba/Nm+Hss61FWPv28MUXEBpaIE8t2SjoLkLOOQfOOw8yM229heMEekQiIocJLw2nvm0fCMq0goO7YeYtMKY97JwR6NGJiIgEP8eBtaPh50aw7FVbvlXjIui9FBrfBe6QAnmZ3buhVy9Yvx4aNoRffrFlrVLwFHQXMS+/bLPev/8OX38d6NGIiBxFhY5w9kxo8waElYZds2FMB5h+I6TvDPToREREglPyEvirO0wdBOlbIbYBdPsDOn8N0TUK7GX27rWAe8ECqFwZ/vgDypcvsKeXwyjoLmIaNoShQ+367bdbKoiISFByh0Kj26D3MqhzJeDAqnfh5waQ+BJ4DgR6hCIiIsEhfTvMvBV+awHbJkBIFLR8Cs5dCFXPLtCXSkuzNdzTp0PZsjB2LNSpU6AvIYdR0F0EPfAAJCTA9u1w772BHo2IyHFEVYLTPoKzJkF8S8jYA3P/ZxVY13+rtTIiIlJ8bf/HKo8fjSfdOn/83ABWjDyUSt7faqQ0HQohEQU6nAMH4MIL4e+/ITYW/vwTmjUr0JeQXARt0L1s2TLOP/98KlSoQPny5enfvz+bN28O9LCCQkQEvPuuXR81ys5OiYgEvYqd4ZzZ0H4URFWBfath8kUwrgskzQz06ERERApWciJMPBc2/XzkY44D676EXxrDvAesaFrZNnDW39D5W4ipXeDDycyEQYMslTwqCn77Ddq2LfCXkVwEbdCdnJxM//79Wb58OZs2baJ69epcffXVgR5W0Dj9dBg82K5ffbXSzEWkiHCHQL1roPdyaPaopc/tmAx/ngpTL4d9awM9QhERkZOXsQ/+uRAy98Hip3NmdW2fDGM6wpRLIXUdRFWD0z6Gs2dAxS7+GU4GDBwI335r9aF+/BE6dfLLS0kugjboPvXUU7nmmmsoU6YMERER3HbbbUybNi3Qwwoqzz1na7w3b/YF4CIiRUJYDLR4As5fDnWusvvWfga/NISZt8H+LYEdn4iIyIlyHJh+PaQk2u2kGbBtPOyaAxPOhXGdIelfCI2G5k8e+l94Bbj8E5plZMBll1kR5rAw+OYb6NHDLy8lR1FkurBNmjSJpk2P3o/uwIEDHDjgK8qTkpICgMfjweMpnv1hIyPhww+hc2c3X3zhonfvLC69NHjWRnp/7sX15y+SHzoejiKiCpz6PtS/FfeCh3BtGwcr/g9n9SicBoNxGt8LEeUCPUrxAx0TIj46HoqZ5SNh4y/gPtR/y8nCPeVyXAe22U1XCE6da3CaPQpRVW0fP/3uDx6EgQPd/PCDi/Bwh6+/zuLcc/32cgWmqBwTeR2fy3GCv4LNypUr6dixI1988QVnnnlmrvs8/vjjPPHEE0fcP23aNGJiYvw9xIAaObICI0ZUIibGw1dfraRGjYxAD0lE5IRE75tJxa2vE502DwCPO4adFa4kqfwVZIUU7/dyEREpXsIObqTitpHE7/4FF1k4uEiOP5ftlW7lYERNv79+RoaLe+6pwYQJcYSHZ/Hqq+vp3Hmf31+3JNm3bx+nnXYaycnJxMXFHXW/gAXdnTp1YsqUKbk+9tBDDzF8+HAANm/eTKdOnbj//vu56aabjvp8uc1016hRg127dh3zB1AcZGbCmWe6mTrVRevWDpMmZREZGehR2Zmf5cuX07BhQ0JCQgI9HJGA0vGQD44DW37HvfBRXHvm2V3h5XAa/w+n/s0QFhvY8UmB0DEh4qPjoZhI326p42mbcTkZuMjEdeghhxCyKnaDM/4snKGkwyWXuPn1VxeRkQ7ffpvF2QXbecyvisoxkZKSQtmyZY8bdAcsvXzy5MnH3Wfnzp2cddZZ3HjjjccMuAEiIiKIiDiypH5ISEhQ/6IKQkgIfPkltGoFc+a4uO++EP7v/wI9Kp+S8DsQySsdD3lU43yofh5s+BYWPIIrZRmuBQ/C0ueh0V3Q6HYILxPoUUoB0DEh4qPjoQjLyoR/+kLqqlwfduEhZPt4SFkIZVr5dSgpKdCnD0ycaMtRf/rJRY8eRfPvKtiPibyOLWgLqaWkpHD22WfTu3dvHnjggUAPJ+hVrw6ffGLXR4yAL74I7HhERE6ayw01B8C5i6DDRxDXCA7uhoWPwQ+1YN5QSN8R6FGKiEhJt2cR/NYCds04/r6Ln/brUHbsgDPPtIA7Ntbag6loWuAFbdD9/fffM2fOHEaMGEFMTMx/mxxdr14wdKhdv+46mD8/sOMRESkQ7lCoeyWcuxhO/xLim0PmXljyDPxYC2bfDWmbAj1KEREpaXbNhkn94bfmvkrlx7P+G0he6pfhbNgAnTvD7NlQoYIF3l27+uWlJJ+Ctnr5VVddxVVXXRXoYRQ5TzwBM2fC2LGWVjJzph10IiJFnjsEal0MNS+CTb/AouGwayYsexVWjIA6V0LjIVA6IefXOVngST+07fddj60PIUcuSxIRETkqx4GtYyHxJdg65tCdLqh0BtS+HGLqgpNh6eZZGeB4fLedzEP3pxf4sJYtsxntDRugRg2LBRo1KvCXkRMUtEG3nJjQUEstP/VUWLUKBgywgy4sLNAjExEpIC43VL8Aqp1vH3wWPwXbJ8Gq92xzR0JI5KEPOAfsQ8/hYupDb//MNIiISDHkOQBrR8PSlyF5kd3nckOtgdD0QSjdJGBDmzEDeve21PLGjWHMGAu8JXgEbXq5nLiyZeGnn2wdx99/w+2320k5EZFixeWCKj3hrL+hx2So2MXuz0qHjD3g2Zd7wA2QcI/NnIuIiBzLgSRY9BT8WBumX2sBd2g0NLwDzl8BHT8JaMD944/QrZsF3G3awKRJCriDkYLuYqpJE/jsM/tM+vbb8OKLgR6RiIgfVTjdgu/mTx5/34gKUEfLl0RE5BhSlsPMW+GHGrDgYUjfClHVoNVz0HcDtH3NUskD6PXXoV8/2L/fajtNmKBlpcFKQXcxdv758PLLdv2++1TRXERKgGYPQ73rj71PjYsgNKpwxiMiIkVHlgc2/QoTzoVfGsOKkVYLpMwpcNqn0GcNNLkv4C0rPR64+264807LZr3pJl+WqwQnreku5u66C9atg1dfhauugqpVoUuXQI9KRMRPXC5o+6a1b0n6N/d9Vo6E3bOhwa1Q82IF4CIiJV36Tlg9Cla8BalrfPdXO98KdFbsav9fgkBaGlx+OXz/vd1+9lmbXAuS4clRKOguAV56ySoZfvutVTT/+29o0SLQoxIR8ZOQCOj8LfzRxtIBs4ttaB+okmbYNuduqHsN1L8Z4hoEZrwiIlL4HMf+D6wYAeu+hKwDdn94Gah7LTS4BWLrBXaMh9m6Ffr2henTITwcPvoILr000KOSvFDQXQK43fDJJ3agTpkCPXvCP/9AA32+FJHiqlRVC7zHd/MVU3OFwJljICQKVo2ClW9B6jqrRLv0Zajcwz5kVTvfeoOLiEjxc2AXrP3Mul3sWeC7v2wbaDAYal0CoaUCN76jmDXLAu5Nm6BMGfjhB2WvFiVa011CREXBL79Aq1awbRucdZbNfouIFFsVOlqquVetSyG6FkRWhKYPwPmroOsvUPVcwGXtx/7pb0Vz5t4PyWopJiJSLDhZsG0CTBkE31eF2XdYwO2OgNpXQM9/4eyZUO+aoAy4R4+Gzp0t4G7c2Ga6FXAXLTqVX4LEx8Off9pBu3y5Bd7//AMVKwZ6ZCIiflL/Rtg1G1a+Awn35nzMHQLVzrNt3xrbZ9X7lpKe+Lxt5U+zNMNaF0NYXGC+BxEROTFpm2DNx/bevm+V7/74FlDvBqg9ECLKBm58x+HxwNCh8Pzzdvu88ywAj9O/oyJHQXcJU7EijBsHnTpZ4N29O4wfr8BbRIqxNq9DVFUo0/Lo+8TUgVbPQPMnYPNvVlBn82+wc5pts++EmhfZ+u+KXcClRDERkaCUsQ82fg9rPoGt4wDH7g+NtSC73vWWSh7klceSk2HgQPjtN7v94IMwbBiEhAR2XHJiFHSXQDVqWODdrRssWgRnngl//aXAW0SKqZAIaP5YHvcNhxp9bdu/1T60rR4FKUtttmTNx1CqOtQaCLUHQRlVpRQRCbgsD2yfYO/ZG76FzFTfYxU6Qb3roOYACI0O3BjzYdkyK368bBlERsKoUXDZZYEelZwMBd0lVIMGMGECnHEGLF6swFtE5AhRlaHJvZDwP0iabsXX1n8FaRt96eelm0Gdy6HWZRBdM9AjFhEpORwH9syHtZ9bYbT9m3yPxdSHOlfa+3NMncCN8QR8+SVcfz3s2wfVq1vBtDZtAj0qOVkKukuwhg1h4kSb8V682ALwceOgSpVAj0xEJIi4XFC+g21tX7e087WfwaZfIHkRzHvAtopdbAa8Rn+IrBDoUYuIFE/JS2DdF9bma+9y3/3hZaxgZu0r7P06yNPHD3fgAPzvf/DmofqfXbvCF19A5cqBHZcUDAXdJVyDBhZ4n3EGLFliRdbGjYPatQM9MhGRIBQSaUF1jf5wcDes/xbWfgrb/4btk2ybdStU7GapjDX6W7V0ERE5cSkrYP2XFmgnL/LdHxIJVc+ztdpVz7PlREXQunVw8cUwY4bdfvBBePJJCFWkVmzoVyk0aACTJlk181WrrMja2LGQkBDokYmIBLHwMlD/ettSN8C6z2H917BrFmz7y7ZZgxWAi4jkl+NASiJs+N7WaO+e63vMHQZVzoGal0D1CyAsNnDjLAC//w6XXw67dln/7Y8/ht69Az0qKWgKugWAunVh8mTo0cNmvLt0sfZirVsHemQiIkVAdA1ocp9t+1bD+m9yD8ArdIHqfWwrYusMRUT8ysmCpJlWeXzD9zlTx10hUPksC7Rr9LWTnkWcxwOPPw7Dh9vttm3h66+VbVpcKeiW/1StajPe55wDs2bZWpLvvrNAXERE8iimbrYAfE22AHwmbJ9o25y7Ib45VDsUgBeB9jUiIgUuK8OW5Wz4Hjb+kLMYmjscKnWHGv2get9iVStjwwa44gr4+2+7feut8PLLEFE0s+MlDxR0Sw7lylnf7r59rbr5uefC++/DlVcGemQiIkVQTB2rgN7kXti3Fjb+aB8sd/wDexbatng4RFWzNMnqfaFi1yK7LlFE5LjSd8Dm32Hzr7DlT8hI9j0WGgNVz4Xq/aDauRAWF7hx+sl331l18t27IToa3nnH+nFL8aagW44QF2frS665Bj7/HK66ys7IDR2qiRgRkRMWUxsa32nbgV32gXPjj7DlD5vdWTHSttBom92p2su26FqBHrmIyIlzHNg9z97zNv1qLRhxfI9HlD+07KYfVO5uxdGKobQ0uPtuC7LB0sk//xzq1w/suKRwKOiWXEVEwKefQs2a8Nxz8PDDsH69tTEICwv06EREiriIslDnCts86bD1L9j0I2z6GfZvgU0/2QYQl+ALwCt01iy4iAS/g7vtfW3Ln9ZmMXvaOECZVlC1N1Q7D8q2A3dIQIZZWObNg8sug6VLbQLrvvusOnl4eKBHJoVFQbccldsNzz4LNWrA7bfbmbmVK63IQ9mygR6diEgxERJpaZTVzgXnLZsR2vK7pV/unGYVfFMSYenLh2bBz4TKPW1GKK6xUpBEJPCyMmDnv7BlDGwdazUsnCzf46HRVgit6nmWPl6qWuDGWog8HnjlFXjoITh4EKpUgU8+ge7dAz0yKWwKuuW4Bg+2Ge+BA+Gvv6BDB/j5Z2jUKNAjExEpZlwuKHuKbU2HwsE99gF286EgPH2rzYZv+tn2j6pqqeiVD22lqgd0+CJSQjgOpCyz96ctY6xAZOa+nPvEJUDlHhZkV+pabNPGj2b1arj6avjnH7t9/vkwahSULx/QYUmAKOiWPDn/fJgyxS5XrLDA+6uvVNlcRMSvwuOtx3fNAb51kVv+gK3jYcdk2L8Z1n5iG0BcI18QXrGbpbGLiJwsx4G9K2D737BtogXZ+zfn3CeivM1mV+4JVXqU2JOAjgPvvgtDhkBqKsTEWGXy669XYlJJpqBb8qxFC5g5E/r1g6lToVcveP55KwqhNxERET/LMQv+oK0F3zEVto6DbeOtJ3jKMttWjLCvKd0MKnaxrUJnKFU1sN+DiBQNjmN9srdNtEB7+0SrN5GdO9zeV6r0sEC7TEtwuQMx2qCxebMF17//bre7dIEPP4Q6dQI6LAkCCrolXypWtBTzm26Cjz6Ce+6xQPy996ztgYiIFJKQSKh8pm1gqejb/7YgfOt4WweevMg2bxAeUy9nEB5TV2dNRQSyMmHPfDuRt2OKvZekb825jzscynewLJqKXe16aKmADDfYOI5VIr/tNmsFFhEBTz8Nd91lNZJEFHRLvkVEwAcfWKuDu++GL76ARYvg++/V9kBEJGDC4w+13eljt9O3Wwr69km27ZkP+1bZtvoD2yeqKpTvaB+ey3eAMq0hNCpg34KIFJIDu6zw2c5DQXbSDPCk5dzHHeELsit1g3Lt9f6Qi40b4ZZb4Jdf7Hbr1lYsrUmTwI5LgouCbjkhLpedzWvVCgYMsKC7bVt7kzn//ECPTkREiKwINfrbBnAw2T5ge4PwXTNtTeaGb2wDcIdBfCtfEF6+A0TX0Wy4SFGWlQnJS+yY3znNZrNTEo/cLyweyp9mW8UuUL59iSt+lh9ZWZbpee+9kJJi7b8efhgeeEDtdeVICrrlpHTqBLNnw0UXwbRpcMEFlnL+zDNKpxERCSrhpX39vgEy02x2K2m6fRDf+S+kb7MP5rtmwvI3bL+IChZ8l20HZVtD2TYQVTlw34eIHJ2TZQXPkmZanYekmbB7Lnj2H7lvbEOo0PFQtktHKJ1Q4tdk59XKlXDDDTBxot3u0AHef1+z23J0CrrlpFWtam86998Pr74KL71klc4/+yzQIxMRkaMKLWUpo5W62W3HgdR1Fnwn/WuXu+fAgR0525QBRFWBMm0sAP8vEK+qGXGRwuRkwb7VFlQnzTp0wmw2ZKQcuW9orB2r5U/zLSmJrFD4Yy7iMjPhtdfgkUdg/34oVcrWbt92G4SEBHp0EswUdEuBCA+HV16Brl3hmmvg33+hbVs3TzwRS0JCoEcnIiLH5XJBTG3bal9q93nSrU3Zzn/tw/zuOZCy1KoY7/8FNv/i+/rISrYmvOwpEN8C4pvbTJpbHzVETlpmKuxZCLvnW32G3fPs9uG9scFSwsucAmXbQrl2lqUS11Cz2Cdpxgy4+WaYO9dud+8O77wDdesGdlxSNOg/oRSovn2hZUu45BKYOdPFHXfUYunSLF58EaJUe0NEpGgJifSt7fbKTLUP/Lvm+ALx5CWWmr7ld9u83OEQl2ABeHxzXzAepdZlIrnK8kDaWjum9sz3Bdl7VwLOkfu7IyC+mQXY3iC7dBOrzyAFYs8eGDoU3nrLEoLKlIEXXoBrr1Vyj+Sdgm4pcHXqwOTJcP/9Wbz6qpsRI9xMmACjR1vhNRERKcJCo6HC6bZ5ZabZrNuu2b4ZuORFNgu351DQkF14Gdylm1ElqyqukA4Q3wTiGkOp6pqNk5IhKwP2roKUJZC8BNeeJdTbPhf34rWWYZKbyMrWCzu+pe8yrpGySfzE2wZsyBDYts3uu/JKC7grVgzs2KTo0VEqfhEeDi++6JCQsJbHHqtFYqKL9u2twJp6FoqIFDOhpazScfn2vvucLFsjvmeBBeF7Ftr1vcvh4G5cO/6hHEDSl76vCSllQURc45xbbAO1KpKix3HgwE6bpd630gqcJSdaoL13hQXeh7iB//7CQyIhtpFlhWQPsiMV6RWW5cvh1lth/Hi73bgxjBwJ3boFdFhShCnoFr/q2HEfc+dmcdNNIfz0k1U2//VXGDUKatUK9OhERMRvXG6IqWObt3c42CxeciJZu+aTtGYy5cN34tq7zAITT5oVhdo99/Ang1I1IKYuxNazy5h6h7a6EFG2UL81kf84jhUb3Lvy0LbCF2DvXQkZyUf/2tBoiGsCpRPIim3MhpRYqjftSUhsPXCrKlcgpKbaBNELL8DBgxAZaUXT/vc/m1ASOVEKusXvKlSAH36wYhN33w1//QXNm1vhNa2HEREpYUIioewpOKVbsC29LWUTEggJCbFZv31rrFDb4dvB3ZC23rbtE498zrD4w4LxOlCqJkTXtGA9LLawv0spLrxBdeq6Q9vaI6/nVi08u1I1ILY+xNS3zI3STWzLtpzC8XjYm5hof78KuAudN5X8vvtg0ya7r1cvePNNFUqTgqGgWwqFywU33QRnnglXXw1Tp8L118N338G771rbMRERKcHcYVZhOa4hcIHv/uwziftWw75VthY2dbVdpm+FjD22nnzX7NyfO6y0LwAvVROiD12WqmH3R1WxkwFSsjgOHNwF+zdD2ma73L8Z0jbkDKpz63Gdg8sXWMc28F3G1LcTQVoaEdTmzoU77rB6RGC1iV5+Gfr00cSQFBwF3VKoGjSASZNslvvhh+G336BpU+t5eMUVenMTEZHDuFy2ljWyIlToeOTjmak2Q+4NxvethtQ1hwKn9Zbem5HsW1d+NGHxFnxHVbaCVVFVfJfZ7wsvq39Wwc5zwE7UpO84dLndF1D/F1gfusw6kIcndNnvPrrWoa12tuu1ILqOAusiaMcOeOgheO89O/9SqpTdHjLE0spFCpKCbil0ISG2Nubcc+Gqq2DWLLscPdraMdSuHegRiohIkREabS2T4pvl/nhGCqRusCDcG4inbbBUde/9WQdstjxjD6QkHvv1XKEQUR4iytkWXi7n7Yjyh+7L9nh4abVwOhFOllXAP7jHtoxDlwd3HxZUH7r0Xs/cm7/XiShvbey8W6lqOYPrUjUgJKLAvz0JjIMHrSjaY49B2Wv1WQAAJfxJREFU8qEl9wMHwnPPQfXqgR2bFF8KuiVgmjSBadOsWMUTT8Cff0KzZvDUU3DbbRaci4iInJSwOIhvaltuHMeCuPStsH8r7N9y6PoW333pW+zy4C5wMu3+9K35G0dIpKW5h8Xl3ELjcrmvFIRE+bbDb2e/LxjaRWV5IOtgtu2AZSBkph26TAVPqu969s2TdiiwTs4WVO85dBIk2QLvE+E9ORJZASIqHgqmq+YMrqOqHlpaoIC6JHAcW9b4wAOwcqXdd8op8Prr0KlTYMcmxV8QvFNLSRYaCg8+CBdeCDfcYKnnd91lxSzefdcKromIiPiNy2XVzyPKWnGrY/EcsFTlAzvhYBIc8G477fLw+w4m+YpsedJtS99WwOMPBXe4Bd+uUN9l9uv/XYbZJS7Asc1xjnGdQ9e9QXXGYcH1oe1EA+O8codDeBkIjz904iL+UEBd8VBQfWiLzHYZFq9lAPKfadMsy3LqVLtdsSIMGwbXXadJHikcCrolKDRsCBMmWKB9330wfbqdfRwyBB59FGJiAj1CEREp8UIirAhbdI28f01WpqU7H0y2ADz7lpnt+sFk3+3M/Va8y5Nml//d9t6X7nt+JxM8meAp+G/3hLlCLe3/8C3Ee73UYbejDwXU8XZ5+HUVuZMTtHKlTe58843djoqy4PveeyFWTQ2kECnolqDhdluF8969Lb38hx8s9fyLLyz1R1UkRUSkyHGHHpqlLVNwz+k4h2bODwXiWRkWfGdl2mX264c/lpWR7Ylch/6xuo5xHXCFHJpND4eQcN/1/7awnNcPtcESCZSdO20me+RIyMiwP+drroEnn4Rq1QI9OimJFHRL0KlWDb7/Hn75BW6/HdauhX79LBh//XVr5SAiIlJiuVxWLVsVs0Vy2LfPPis+/7yvSNo559htLVmUQNKpSAlavXvD4sWWFhQWZkF4kybw+OOQlhbo0YmIiIhIMEhPt/az9epZ26/kZGjVCsaOhd9/V8AtgaegW4JaqVLw9NMwfz6ccYa9qT7xBCQkwNdfZ6vzIiIiIiIlSkaG9dlu0MAK8W7fboH3p5/C7Nlw1lmBHqGIUdAtRUJCAowfb4F2zZqwfj1cfDGceSYsXBjo0YmIiIhIYcnKgtGjLQPyhhtg40ZbnvjOO5CYCIMGWa0gkWChP0cpMlwuuOgiezN97DGIjISJEy196KabYFsBd2ERERERkeDhOPDjj/bZb9Agq05eoQK88opdv+EGW5IoEmwUdEuRU6qUreteutSC8KwsO7NZvz489RTs3x/oEYqIiIhIQcnKsiK7bdpA376W5Vi6NAwfDqtXW2p5pDrLSRBT0C1FVq1alm4+aRK0a2cVKx9+2Hp+f/KJvUGLiIiISNHk8cBXX9nMdv/+MHcuREdbkd01a6xoWkxMoEcpcnwKuqXI69wZ/v0XPvvM1ntv3AhXXglt28KYMSq2JiIiIlKUeDy2Zrt5c7jkEpvZjouzIHvtWiuyW6ZMoEcpkncKuqVYcLth4EBLOX/mGYiNtbOhZ58N3bvDjBmBHqGIiIiIHEtGBnz0kRXQHTTI6vjEx9uywrVrLZ28fPkAD1LkBCjolmIlKgoeeABWrYK774bwcJgwAdq3t/XfS5cGeoQiIiIikl16utXnadQIrr4aVqyAsmWtVs/atVZAVzPbUpQp6JZiqUIFePllWL7c3rzdbvj2W2jaFK65xopuiIiIiEjg7N5tGYq1a1snmjVr7DPc88/DunUwdKgVTBMp6hR0S7FWqxZ88AEsWAB9+lhxtQ8/tDOpN95ob+giIiIiUng2bIB77rFaPEOHWtvXGjWs9dfatXDvvSqQJsWLgm4pEZo2hR9+sIJrZ58NmZnw7rvQoAEMHgybNgV6hCIiIiLF26JFcNVVULeuZSTu22fF0j75xJYG3nWXtYYVKW4UdEuJ0r49/PEHTJ5sBdYyMmDECKhXz4JvzXyLiIiIFBzHsfauvXtbgP3xxzb50a0b/PYbzJ8Pl18OYWGBHqmI/yjolhLp9NNh3DiYONFajh04YMF3/fpw/fV2tlVERERETszBg9b2q0MH6NoVfv0VXC4rbDt9uhW67dXL7hMp7hR0S4nWtSv8/be98Z95pp15ff99W/N95ZXWqkJERERE8mb7dhg2zIqjDRpkbVsjIuDmm2HZMvj6azj11ECPUqRwKeiWEs/lshSn8eNhyhQ76+rx2Pqipk2hf387IysiIiIiuZs3zzrE1KwJjz4KW7ZA5crw5JOwfj2MHGm1dERKIgXdItl07Gjri2bNgr59bR3S999balS3brYe3HECPUoRERGRwMvMhO++s8zBU06xDjEHDthM9mefWa2cRx6BihUDPVKRwFLQLZKLNm0s2F682Pp8h4ZaGnqvXvZPZfRoK8ImIiIiUtLs2gUvvmi1cC680AqlhYbCpZfCtGmWIThwIISHB3qkIsFBQbfIMTRpYn2+16yBIUMgOtqqbA4aBHXqwDPPQFJSoEcpIiIi4l+OYwH1VVdBtWrWS3vdOihXznptr10Ln39u2YEikpOCbpE8qF4dXnrJ1iQNGwaVKllv76FD7bEbb7TekyIiIiLFSUqKrcdu1cqW4X38MaSnQ8uW8N57sGEDPPWUBeIikjsF3SL5ULYsPPywndn9+GNo3dr+8bz7rvWePOss+OUXyMoK9EhFRERETtycOTapULUq3HorLFgAkZG27G7aNJg7F667DqKiAj1SkeCnoFvkBEREwBVXWMG1f/6x9Uxut1VAP/98azn2xhuwd2+gRyoiIiKSN6mp1jr11FOtvs2779p9CQnw6quwebMtu+vQQf21RfJDQbfISXC5oFMn+OYbWL0a/vc/iI+HlSvhjjss9XzIEHtMREREJNg4DsyeDbfdZrPa118PM2dCWBhcdpkVkl28GO68E8qUCfRoRYomBd0iBaRWLXjhBdi4EUaMsNnulBR45RWr7nnBBZZ67vEEeqQiIiJS0u3YYZ9RWraEtm3h//7PPrfUqwfPPWefZ0aPhi5dNKstcrIUdIsUsOhouOUWWLIEfv8dzj7bziL//LOlnteuDY8/boVHRERERApLRgb89BP062ez2kOGwMKFtmzukktgzBhYvhzuu0+9tUUKkoJuET9xu+Gcc+CPP2DpUrjnHmursXEjPPGEBd+9e9s/v8zMQI9WREREiqtFi+xzSPXq0KcP/PCDffZo186y87ZsgS++gB497POLiBQsHVYihaBRI3jxRWsz9vnncMYZVuH811/tn1+tWvDoo1YVXURERORk7dplAXW7dtZh5eWXYft2m8G+5x6b4Z4xw7LztFZbxL8UdIsUoogIuPRS+OsvWLYM7r0Xype3aqDDhkGdOnDuuXYGOiMj0KMVERGRomT/fivu2r8/VKkCgwdbp5XQUEsp/+kny7h78UVo1izQoxUpORR0iwRIw4bw/PP2z+/LL6F7d1v7/fvv9o+xVi148EFbGy4iIiKSm8xMW4t99dVQqRIMGADffw8HD0KLFlYsbfNm+O47qy0TFhboEYuUPKGBHoBISRcRARdfbNvKlfDee9YDc8sWePZZ29q0sb7gl12mwiYiIiIlnePA9OlWXfzLLy1t3KtmTRg40LbmzQM3RhHx0Uy3SBCpX9+C7A0bLD3sggssJWz2bLjrLqs02ru3/YPdvz/QoxUREZHCtGQJPPywtfU67TR44w0LuMuXh1tvhcmTYc0aeOYZBdwiwUQz3SJBKDwcLrzQth07LMj+5BMrePLrr7bFxcFFF9kMeJcuqjYqIiJSHK1eDV9/bYVY58/33R8dbcvRBg6Es85S2rhIMFPQLRLkKlSA226zbdkyC74//dQqnY8aZVvNmnD55RaAN24c6BGLiIjIyVi50gLtb76BOXN894eFQa9eFmj37m2Bt4gEP82NiRQhjRrB8OF21nviRLjuOpvxXr8enn4aEhKsNciLL8LatYEerYiIiOTVmjXhPP20i1atoEEDGDrUAm6324qtvv221Xv58Ue45BIF3CJFiWa6RYogtxu6drXtjTfg55/h44/hjz+sNcisWdaOrF07K9B20UVQu3agRy0iIiJejgOLFlml8W++cbNwYcP/HgsJsUD7oougb1/LehORoktBt0gRFxXlq36+fbulon39Nfz9N8ycaZs3AB8wwDYF4CIiIoXP44GpU+GHH2xbvdr7iIvQUIfu3eHii1306QPlygVunCJSsBR0ixQjFSta9dJbb4WtW60n59dfw6RJvgD8vvugbVtfAF6nTqBHLSIiUnzt3w/jxlmQ/dNPsHOn77HISOjZE/r0yaJRo6V06NCIkJCQgI1VRPxDQbdIMVW5si8A37bNF4D//bcvBf3++30B+EUXQd26gR61iIhI0bd9O/z2my3/+uMPSEvzPVamjBVB69fPAu7oaPB4HBITswI3YBHxKwXdIiVApUpwyy22HSsAb9bMeoNfcIGlo6sNmYiIyPE5jrXz+uUX22bMsPu8atSwtdl9+0LnzmrvJVLSKOgWKWEOD8C//94C8IkTraDLokVWCb1SJTsTf8EF1v+zVKlAj1xERCR4pKXB+PEWZP/6K2zalPPx1q3hvPOgTx+77nIFZpwiEnhFYh7r2WefxeVyMXny5EAPRaRYqVQJbr7ZPjRs3249wC++GGJjLSB//33+K+Zy/vnw7rvWrkRERKSkcRxYvhxefx3OPdf+N15wAbzzjgXcpUr5bm/cCLNnw5NPQps2CrhFSrqgn+netGkTn3/+OVWqVAn0UESKtXLl4PLLbTt40Iqv/fSTbevW+VLmwFLPvWnozZvrw4SIiBRPKSnw11/w55+2Nnvt2pyP16plWWG9e0O3blYYTUTkcEEfdN9zzz08/vjj3H333YEeikiJER5uKeVnnQWvvWYp5z/9ZAVhpk/3VUJ/5BGoWRPOOQfOPtt6ipYuHejRi4iInJisLJg3zxdkT50KmZm+x8PDbU322WdDr17QtKlOPIvI8QV10D1x4kR27txJv379jht0HzhwgAMHDvx3OyUlBQCPx4PH4/HrOCV33p+7fv5FX5Mmtj3wgKWX//abi19+cTFuHKxf7+KddyydLiTE4dRToWdPh549Hdq2BXU+MToeRHLSMSHBYu1a+OsvF+PHw4QJLrZvzxlFN2jg/Pd/rVs3qzbulVVABcd1PIjkVFSOibyOz+U42WsrBo/MzEzatWvHJ598QrNmzahduzaffvopnTp1ynX/xx9/nCeeeOKI+6dNm0ZMTIy/hytSIu3f72LmzGimTo1hypRY1q6NyPF4XFwmHTqk0rHjPk4/fR+VK2cEaKQiIiJm164QZsyI5t9/Y5g+PYaNG8NzPB4V5aF9+1ROP93+d9WocTBAIxWRYLdv3z5OO+00kpOTiYuLO+p+AQu6O3XqxJQpU3J97KGHHqJChQqsXLmSN954A+C4QXduM901atRg165dx/wBiP94PB6WL19Ow4YNCdF0Z4mwbh2MHetizBibMUhOzjlbkJDg0KOHbV27lqyK6DoeRHLSMSGFZe9emDzZZrP/+svF/Pk5/zd5s7TOPNOhe3eHDh0sjbww6XgQyamoHBMpKSmULVv2uEF3wNLLj1eJvG/fvkyaNImvv/4agB07dtCnTx+effZZbrjhhiP2j4iIICIi4oj7Q0JCgvoXVRLod1By1K0LN91kW2amrfv+808YM8bWgicmukhMdPH66/aB5vTT4YwzrPjMqadCLodwsaPjQSQnHRNS0JKTLcj++2/bZs+GwzNAmze3OiRnnQVduriIjQUI/OJsHQ8iOQX7MZHXsQXtmu4PP/yQ9PT0/263a9eO//u//+Oss84K4KhEJK9CQ+G002x7/HHYvdtak40ZY4H4+vUwYYJtYBVfO3a0ALwkBeEiInJydu2Cf/7xBdnz5h251rp2bV+QfcYZ1jJTRKSwBG3QHR8fn+N2SEgIZcuWpVRJykcVKUbKlIGLLrLNcWDZMgu4J060bft2a8vy11+2v4JwERHJzaZNMGWKbzZ74UL7v5Jd/frQtatvq1kzMGMVEYEgDroPt/bwxogiUmS5XNC4sW233GIflpYu9QXgCsJFRAQsLXzRIguyvdu6dUfu17hxziC7atXCH6uIyNEUmaBbRIovlwsSEmzLaxAeHg5t2lgg3rGjpbFXqRLAb0JERE7avn1WA8QbYP/7LxzqAvsftxtatrS6IF262KZ0cREJZgq6RSTo5DUInzbNtpdesq+rXTtnEN6iha0tFxGR4OPxwJIlMGOGBdrTp9us9uHrsWNj7T399NNta98e1A1WRIoSfRwVkaCXWxC+apUF3FOn2rZwIaxda9vo0fZ10dGWhu4Nwjt0gHLlAvmdiIiUXJs2WWDtDbJnzbKZ7cPVquULsE8/HZo1gyAuXiwiclwKukWkyHG5rEhO/fpwxRV2X0qKfZDzBuHTptl92Sukg63769DBUtPbtrUUxaiowHwfIiLFVVISzJlj7bpmzrQge9OmI/eLiYF27Wz2+tRT7VLrsUWkuFHQLSLFQlyctYLxdhXMyoLExJxB+LJllqa+dCl8+KHtFxJisyht29rWpo2lpatIm4hI3uzYYcG1N8iePTv3Ymdut/XHzh5gJyRoFltEij8F3SJSLLnd0LSpbTfcYPft3GlFeWbOtLTGmTPtw+L8+ba9/77tFxZmHwyzB+LNmlnxNhGRkspxYMsW64PtDa7nzIENG3Lfv359e/9s08YC7DZtbNmPiEhJo6BbREqM8uWhd2/bwD5AbtxoAfjs2XY5a5YvLXLOHHjnHds3PNxS0du0scsWLSwQj4sL3PcjIuIvBw5YkbP582HBAt/lzp2579+woS/AbtMGWrWC+PjCHLGISPBS0C0iJZbLBTVq2Navn93nOJYWeXggvmePzYzPnJnzOerUsQDcu7VsCXXrKl1SRIoGx4GtW30ZP94Ae+lSqy5+OLcbGjWC1q1zBtg6ASkicnQKukVEsnG5rPVY7dpw0UV2n+PA6tUWfM+ZY5XSFyywokBr1tj244++5yhVymbBswfjTZoE4rsRETGOY60WFy+2bckS32VSUu5fU6aML7OnZUvbmjRR8UkRkfxS0C0ichwuF9SrZ9sll/juT0ryBeDebdEiSEuzSuozZmR/lhAqVWpEy5bu/9qfJSRYNfUKFew1REROluPAtm2+oDp7gL1rV+5f43Zbenj24LpFC6heXe9NIiIFQUG3iMgJKlcOunWzzcvjgZUrcwbiCxZY//Bt28IYMwbGjMn5PGXL5gzCvddr1bIPwyIih0tPhxUrYPly68zgvVy2DHbvzv1rXC5b/uItMtmkiV02amQZOiIi4h8KukVEClBIiH2AbdQIBgzw3b9rl4dff11HWlptli93k5hoaybXrrXZpylTbMsuMtKexxuMN24MDRrYjHvp0oX6bYlIAGRlWWXw3ALr9ettVjs33uyc7IF1kyb2HqLUcBGRwqegW0SkEJQuDaeckkZCgpOjyFpamn2QXrrU+op7g/Hly20my1vc6HDlylk7nnr1fJfe6xUrKiVUpKjYv9/qQqxaZbUjsl+uWWNVxI+mdGnfSb6GDX2XDRsquBYRCSYKukVEAqhUKav826pVzvs9HvvA7Q3Gly61bdUqW6+ZlGTb9OlHPmdMjC8Izx6U161razTDwgrjOxMRsGN561brirB69ZGB9ZYtx/76sDA7hrMH1d5L1YMQESkaFHSLiAShkBD7oF2/vq+vuNfevb4P7CtX5rxcvx727Tv6DLnLBVWrQs2atmY8+6X3ulLXRfIuNdVSwNets+Nv/Xrf9XXrYONGyMw89nPExflOktWtm/OyRg0I1ac1EZEiTW/jIiJFTGysr8Lw4Q4csHXihwfkK1daAHDggLU627QJpk3L/fnj4nIPyqtXhypVbIuO9uu3KEFq927LpCgJ2RKOAykpdqxs3myb9/rGjb6g+mjttrILCbHjp06d3APrMmU0Yy0iUpwp6BYRKUYiInxrPA+XlQU7dhw5E5d9di4pyQKNRYtsO5q4OAu+q1Y99mVMjP++Vyk8aWnw+uvw3HN2AqdcuUCP6MQ5DiQnW8/qbduODKizX09Ly9tzxsbayanDs0a8l1WqkKOWg4iIlCwKukVESgi3GypVsq1du9z3OTxVNvulNyBJS7PAPCXFqigfS2ysb3a8YkVbg1q+vF1mv16+vG3h4QX/fcuJy8yEUaPgiSfsdw/HLuwVKBkZdkLJG0hv337s6wcP5v254+OhWjU7kVS1qu969qBaSzJERORYFHSLiMh/oqN97cly4zi2pnzLFgvCcrv0Xt+3z/bdu9eqsedF6dJHD8rLlLEA6PCtdOmSke5cmBwHvv0WHnroyN+dP4PujAxLYd+1y7akpNyvH347JSX/rxUbayeCsgfSh1+vWlX9q0VE5OQp6BYRkTxzuSy1PC4u9xT27LzBuTcI37nTZiN37Djy+s6dlv6enGzbqlX5G1d0dO4BeXy8BetxcbZPTMzRL2NiLMAq6WnA48fDAw/ArFm5P5496HYcmzVOS/Ntqan2u/dmQxxt27PHzfbtdcnIcP93X2rqiY/b7bYTNJUqWTBdseLRr1esqJZaIiJSeBR0i4iIX8TG2taw4fH3zcqyGc5jBebJybBnj227d9vlvn329amptm3adPLjjorKGZBHR9t9ERHH3yIjj7wvPNwCebfbLr3bsW5nv+449vM5/DIv92VkWFDsvcy+HX7f+vXw9992eSzdu1vauTfIzso60Z+0C8h9Gjk+3taNly3r2w6/ndt9bveJjkVERMR/FHSLiEjAud0WQJUrd/wZ9OwyM3MG40fbkpN9gfm+fUde7ttnQSrA/v227dxZsN9jceFd2324kBDfCQpvNkTp0r7rh28xMVmkpGygSZPqlCkT8t/9Zcoo20BERIoXBd0iIlJkhYb6gvWT4TiQnp57QJ6aao8dOJD7dqzHDhywWeSsLPB4fNuxbh/+mNttaf35vXS5bK17eHju2+GPJSVZSvnx1t+//Tacdpql4mff8ruu3uNxSEzcS0KCgmwRESneFHSLiEiJ53LZDG1UlK0LLsmWLoUXXoBPPrEU9MPVqwfNmxf+uERERIoqrX4SERGR/zRuDO+/D6tXwz33HNlrPRhbhomIiAQzBd0iIiJyhOrV4cUXrUf7sGHWtg0UdIuIiOSXgm4RERE5qrJl4eGHLfh+800rdCYiIiJ5pzXdIiIiclylSsHgwYEehYiISNGjmW4RERERERERP1HQLSIiIiIiIuInCrpFRERERERE/ERBt4iIiIiIiIifKOgWERERERER8RMF3SIiIiIiIiJ+oqBbRERERERExE8UdIuIiIiIiIj4iYJuERERERERET9R0C0iIiIiIiLiJwq6RURERERERPxEQbeIiIiIiIiInyjoFhEREREREfETBd0iIiIiIiIifqKgW0RERERERMRPFHSLiIiIiIiI+ImCbhERERERERE/CQ30APzFcRwAUlJSAjySksvj8bBv3z5SUlIICQkJ9HBEAkrHg0hOOiZEfHQ8iORUVI4Jb6zpjT2PptgG3Xv37gWgRo0aAR6JiIiIiIiIFFd79+6ldOnSR33c5RwvLC+isrKy2Lx5M7GxsbhcrkAPp0RKSUmhRo0abNiwgbi4uEAPRySgdDyI5KRjQsRHx4NITkXlmHAch71791K1alXc7qOv3C62M91ut5vq1asHehgCxMXFBfXBIlKYdDyI5KRjQsRHx4NITkXhmDjWDLeXCqmJiIiIiIiI+ImCbhERERERERE/UdAtfhMREcFjjz1GREREoIciEnA6HkRy0jEh4qPjQSSn4nZMFNtCaiIiIiIiIiKBppluERERERERET9R0C0iIiIiIiLiJwq6RUTk/9u7/5io6weO469TZIDnAeeRvw49BwaOwqVzZemysObm1O0mzs0EiczKmVfrD9MGK6w/zK1fai0Vx5YOt3Pq/IE/5paB4pRlOZnjKH+jmRzJ3SVlKN8/2vf2ZbZiwYc39+X52O4PPnef9+fF558Pr3u/9wYAAAAWoXTDUg0NDZo9e7bS0tLkcrnk9Xp1/fp107GAXnXr1i3NmjVLgwcPVlZWlo4ePWo6EmDM77//rhdffFGjR4+Ww+HQE088odraWtOxAONqa2s1YMAArVmzxnQUwLi1a9cqPT1dQ4YM0WOPPaZwOGw6UrdQumGp1tZWeb1eBQIBNTU1ye12a/HixaZjAb1q2bJlGj58uG7duqUPP/xQ8+fPV0tLi+lYgBHt7e3yeDyqqanR7du35fP5NHv2bEUiEdPRAGPu37+vN954Q5MnTzYdBTBuw4YNOnjwoI4fP65QKKSKigrFx8ebjtUt7F6OXhUIBDRp0qSY/7YK6KpIJCKn06kLFy7I7XZLkqZPn67CwkIVFRUZTgf0DSNHjtTevXs1adIk01EAI7744gudP39era2tyszM1DvvvGM6EmDEvXv3lJ6erurqamVkZJiO02OY6Uav+uabb5STk2M6BtBrGhsbZbfbo4Vbkh599FHV19cbTAX0HY2NjWppaVFmZqbpKIARwWBQH3/8sd59913TUQDjrl27pjt37sjv92vYsGHKysrSpk2bTMfqtjjTAdB//PDDD1q1apUqKytNRwF6TSQSkcPh6HTM4XAoGAwaSgT0HW1tbXrhhRf09ttvKzk52XQcwIjVq1fL5/MpJSXFdBTAuKamJrW2tioQCOjSpUtqbGxUXl6esrOzNW3aNNPx/jVmutEtU6dOlc1m+8vX/y6Nun79up5//nmVlZXp2WefNZgY6F12u12hUKjTsVAoJLvdbigR0Df88ccfys/PV2ZmpkpKSkzHAYw4c+aMTp8+rSVLlpiOAvQJiYmJkqSSkhIlJiYqNzdXCxYs0IEDBwwn6x5mutEtNTU1//iZ5uZmzZgxQy+//LKWLl3aC6mAvmPcuHGKRCJqamrSqFGjJEnnzp1TQUGB4WSAOffv39eiRYtks9lUUVEhm81mOhJgxLFjx9TQ0BB9PrS2tiouLk4//vijtm7dajgd0PsefvhhxcfHd3ou/D88I9hIDZYKhUJ65plnlJeXp7Vr15qOAxiRn5+v5ORkffbZZzp69KgKCwvV2Ngop9NpOhpgxJIlSxQIBHTo0CElJCSYjgMYc+fOnU6roVasWKGxY8dq5cqVLDdHv7Vw4ULZ7XZ9+umnunDhgqZPny6/3x/Ty8uZ6Yaldu3apW+//VYNDQ3auHFj9Dj/Ggb9ycaNG1VYWKihQ4fK7XZrx44dFG70W5cvX9bmzZuVkJAgl8sVPV5VVRXTf1AB/0ZSUpKSkpKiPycmJsput1O40a9t2LBBxcXFcrlccrlcKisri/nnAzPdAAAAAABYhI3UAAAAAACwCKUbAAAAAACLULoBAAAAALAIpRsAAAAAAItQugEAAAAAsAilGwAAAAAAi1C6AQAAAACwCKUbAAAAAACLULoBAOjnbDabrl271qNj5uTkqLa2tkfHBAAgFlG6AQCIER6PR0lJSbLb7Ro5cqRef/113bt3z3Ssv1RfX68pU6aYjgEAgHGUbgAAYsjhw4cViURUXV2tnTt3asuWLaYjAQCAv0HpBgAgBmVkZOipp57Sd999Fz3m9/uVk5Mjp9OpOXPm6Oeff46+5/V69dBDD8npdCo/P18tLS1dus4HH3ygMWPGyOFwaMqUKTp79qwkqbm5WSNGjNCxY8ckSVevXlVaWpq+//57SX/OytfU1EiS9u3bp6ysLA0ZMkQej0eVlZU9cQsAAIgJlG4AAGJQIBBQdXW1MjIyJEmnTp2Sz+dTZWWlbt68qezsbL322mvRz3u9Xl28eFEXL15UOBzWe++916XrZGdnq66uTsFgUM8995wKCgokSS6XS59//rmKiooUDodVXFysFStWaMKECQ+M8dJLL6m8vFzhcFgnT55Ubm5uD9wBAABig62jo6PDdAgAAPDPPB6PgsGgOjo69Ouvv8rr9Wrbtm1KSEjQK6+8otGjR2vVqlWSpHA4LKfTqba2NsXFxXUa59ChQ1q9erXq6uok/bmR2tWrV+V2u//2+r/99puSkpIUCoVkt9slSYsWLdKZM2eUmJio2tra6LU8Ho+++uorTZ06Venp6SotLdWCBQui5wEA0F8w0w0AQAypqqpSOBzW7t27VVdXp0gkIkm6cuWK3n//faWkpCglJUXp6emKi4vTTz/9pPb2dvl8vugy8Xnz5ikYDHbpeps2bVJOTo6Sk5M1fPhwdXR0dDq3uLhY9fX1WrZs2QPl/r/8fr927dolt9utmTNn6vz5892/EQAAxAhKNwAAMcZms2nu3LmaMWOG1qxZI0kaNWqUysrKdPv27eirra1Nbrdb27Zt09dff60TJ04oFArJ7/erKwvdLl26JJ/Pp4qKCv3yyy+6ceOGbDZb9Ny7d+9q+fLlWrx4sUpLSxUKhf5ynMcff1z79+/XzZs3NWHCBL366qs9dzMAAOjjKN0AAMSot956S5s3b1Zzc7OKioq0fv366EZmLS0t2rNnj6Q/l5onJCQoNTVVzc3NWrduXZfGj0QiGjBggNLS0tTe3q7S0tJO75eUlMjj8Wjr1q3Ky8vTm2+++cAYd+/e1fbt2xUKhTRo0CDZ7XYNHDiwm785AACxg9INAECMGj9+vJ5++ml98sknevLJJ7Vu3ToVFBTI4XBo4sSJOn78uCSpoKBAqampGjZsmKZNm6aZM2d2afxHHnlES5cuVW5urjwej8aOHav4+HhJ0smTJ1VeXq4vv/xSkvTRRx/p8OHDqqqqemCciooKjRkzRqmpqTpy5IjWr1/fQ3cAAIC+j43UAAAAAACwCDPdAAAAAABYhNINAAAAAIBFKN0AAAAAAFiE0g0AAAAAgEUo3QAAAAAAWITSDQAAAACARSjdAAAAAABYhNINAAAAAIBFKN0AAAAAAFiE0g0AAAAAgEUo3QAAAAAAWITSDQAAAACARf4DUkol1JBPIqMAAAAASUVORK5CYII=\n"
                },
                "metadata": {}
              }
            ]
          }
        },
        "a9c2a96c3f39497e89ea3477207733e4": {
          "model_module": "@jupyter-widgets/base",
          "model_name": "LayoutModel",
          "model_module_version": "1.2.0",
          "state": {
            "_model_module": "@jupyter-widgets/base",
            "_model_module_version": "1.2.0",
            "_model_name": "LayoutModel",
            "_view_count": null,
            "_view_module": "@jupyter-widgets/base",
            "_view_module_version": "1.2.0",
            "_view_name": "LayoutView",
            "align_content": null,
            "align_items": null,
            "align_self": null,
            "border": null,
            "bottom": null,
            "display": null,
            "flex": null,
            "flex_flow": null,
            "grid_area": null,
            "grid_auto_columns": null,
            "grid_auto_flow": null,
            "grid_auto_rows": null,
            "grid_column": null,
            "grid_gap": null,
            "grid_row": null,
            "grid_template_areas": null,
            "grid_template_columns": null,
            "grid_template_rows": null,
            "height": null,
            "justify_content": null,
            "justify_items": null,
            "left": null,
            "margin": null,
            "max_height": null,
            "max_width": null,
            "min_height": null,
            "min_width": null,
            "object_fit": null,
            "object_position": null,
            "order": null,
            "overflow": null,
            "overflow_x": null,
            "overflow_y": null,
            "padding": null,
            "right": null,
            "top": null,
            "visibility": null,
            "width": null
          }
        },
        "838a899ff0364ce39f08ef2bde65a1d3": {
          "model_module": "@jupyter-widgets/controls",
          "model_name": "VBoxModel",
          "model_module_version": "1.5.0",
          "state": {
            "_dom_classes": [],
            "_model_module": "@jupyter-widgets/controls",
            "_model_module_version": "1.5.0",
            "_model_name": "VBoxModel",
            "_view_count": null,
            "_view_module": "@jupyter-widgets/controls",
            "_view_module_version": "1.5.0",
            "_view_name": "VBoxView",
            "box_style": "",
            "children": [
              "IPY_MODEL_494f71eb7410447bbb5e08e08a235945",
              "IPY_MODEL_0c95968978204a3b91d6d1d219e448e8",
              "IPY_MODEL_a96645dd2e344c8c86307491225cc89d",
              "IPY_MODEL_239e9fd97c31409e88c8941a70c12b85"
            ],
            "layout": "IPY_MODEL_f18876cfe11d4d698119186fd69f0cdd"
          }
        },
        "494f71eb7410447bbb5e08e08a235945": {
          "model_module": "@jupyter-widgets/controls",
          "model_name": "FloatSliderModel",
          "model_module_version": "1.5.0",
          "state": {
            "_dom_classes": [],
            "_model_module": "@jupyter-widgets/controls",
            "_model_module_version": "1.5.0",
            "_model_name": "FloatSliderModel",
            "_view_count": null,
            "_view_module": "@jupyter-widgets/controls",
            "_view_module_version": "1.5.0",
            "_view_name": "FloatSliderView",
            "continuous_update": false,
            "description": "Time Delay (s):",
            "description_tooltip": null,
            "disabled": false,
            "layout": "IPY_MODEL_33017c50c81343259c39d6e148e449ee",
            "max": 2,
            "min": 0.01,
            "orientation": "horizontal",
            "readout": true,
            "readout_format": ".2f",
            "step": 0.01,
            "style": "IPY_MODEL_e9055eb56f224405814b32063f993ae0",
            "value": 1
          }
        },
        "0c95968978204a3b91d6d1d219e448e8": {
          "model_module": "@jupyter-widgets/controls",
          "model_name": "IntSliderModel",
          "model_module_version": "1.5.0",
          "state": {
            "_dom_classes": [],
            "_model_module": "@jupyter-widgets/controls",
            "_model_module_version": "1.5.0",
            "_model_name": "IntSliderModel",
            "_view_count": null,
            "_view_module": "@jupyter-widgets/controls",
            "_view_module_version": "1.5.0",
            "_view_name": "IntSliderView",
            "continuous_update": true,
            "description": "Pade Degree:",
            "description_tooltip": null,
            "disabled": false,
            "layout": "IPY_MODEL_c7c59ee906ab4c828b06ad40702617da",
            "max": 20,
            "min": 1,
            "orientation": "horizontal",
            "readout": true,
            "readout_format": "d",
            "step": 1,
            "style": "IPY_MODEL_0821b305d89646b4ba7d6587b65fa896",
            "value": 15
          }
        },
        "a96645dd2e344c8c86307491225cc89d": {
          "model_module": "@jupyter-widgets/controls",
          "model_name": "IntSliderModel",
          "model_module_version": "1.5.0",
          "state": {
            "_dom_classes": [],
            "_model_module": "@jupyter-widgets/controls",
            "_model_module_version": "1.5.0",
            "_model_name": "IntSliderModel",
            "_view_count": null,
            "_view_module": "@jupyter-widgets/controls",
            "_view_module_version": "1.5.0",
            "_view_name": "IntSliderView",
            "continuous_update": true,
            "description": "Taylor Degree:",
            "description_tooltip": null,
            "disabled": false,
            "layout": "IPY_MODEL_264a450b3fc1405d9973dd1b05e8fdbb",
            "max": 20,
            "min": 1,
            "orientation": "horizontal",
            "readout": true,
            "readout_format": "d",
            "step": 1,
            "style": "IPY_MODEL_ea3962b53bdf421ca69d6bb37eb754f2",
            "value": 10
          }
        },
        "239e9fd97c31409e88c8941a70c12b85": {
          "model_module": "@jupyter-widgets/controls",
          "model_name": "ButtonModel",
          "model_module_version": "1.5.0",
          "state": {
            "_dom_classes": [],
            "_model_module": "@jupyter-widgets/controls",
            "_model_module_version": "1.5.0",
            "_model_name": "ButtonModel",
            "_view_count": null,
            "_view_module": "@jupyter-widgets/controls",
            "_view_module_version": "1.5.0",
            "_view_name": "ButtonView",
            "button_style": "",
            "description": "Plot Bode",
            "disabled": false,
            "icon": "",
            "layout": "IPY_MODEL_7e27dd5fff22448abeebf838d8099616",
            "style": "IPY_MODEL_25f70486f0a54b92abb2ed640e3e3dae",
            "tooltip": ""
          }
        },
        "f18876cfe11d4d698119186fd69f0cdd": {
          "model_module": "@jupyter-widgets/base",
          "model_name": "LayoutModel",
          "model_module_version": "1.2.0",
          "state": {
            "_model_module": "@jupyter-widgets/base",
            "_model_module_version": "1.2.0",
            "_model_name": "LayoutModel",
            "_view_count": null,
            "_view_module": "@jupyter-widgets/base",
            "_view_module_version": "1.2.0",
            "_view_name": "LayoutView",
            "align_content": null,
            "align_items": null,
            "align_self": null,
            "border": null,
            "bottom": null,
            "display": null,
            "flex": null,
            "flex_flow": null,
            "grid_area": null,
            "grid_auto_columns": null,
            "grid_auto_flow": null,
            "grid_auto_rows": null,
            "grid_column": null,
            "grid_gap": null,
            "grid_row": null,
            "grid_template_areas": null,
            "grid_template_columns": null,
            "grid_template_rows": null,
            "height": null,
            "justify_content": null,
            "justify_items": null,
            "left": null,
            "margin": null,
            "max_height": null,
            "max_width": null,
            "min_height": null,
            "min_width": null,
            "object_fit": null,
            "object_position": null,
            "order": null,
            "overflow": null,
            "overflow_x": null,
            "overflow_y": null,
            "padding": null,
            "right": null,
            "top": null,
            "visibility": null,
            "width": null
          }
        },
        "33017c50c81343259c39d6e148e449ee": {
          "model_module": "@jupyter-widgets/base",
          "model_name": "LayoutModel",
          "model_module_version": "1.2.0",
          "state": {
            "_model_module": "@jupyter-widgets/base",
            "_model_module_version": "1.2.0",
            "_model_name": "LayoutModel",
            "_view_count": null,
            "_view_module": "@jupyter-widgets/base",
            "_view_module_version": "1.2.0",
            "_view_name": "LayoutView",
            "align_content": null,
            "align_items": null,
            "align_self": null,
            "border": null,
            "bottom": null,
            "display": null,
            "flex": null,
            "flex_flow": null,
            "grid_area": null,
            "grid_auto_columns": null,
            "grid_auto_flow": null,
            "grid_auto_rows": null,
            "grid_column": null,
            "grid_gap": null,
            "grid_row": null,
            "grid_template_areas": null,
            "grid_template_columns": null,
            "grid_template_rows": null,
            "height": null,
            "justify_content": null,
            "justify_items": null,
            "left": null,
            "margin": null,
            "max_height": null,
            "max_width": null,
            "min_height": null,
            "min_width": null,
            "object_fit": null,
            "object_position": null,
            "order": null,
            "overflow": null,
            "overflow_x": null,
            "overflow_y": null,
            "padding": null,
            "right": null,
            "top": null,
            "visibility": null,
            "width": null
          }
        },
        "e9055eb56f224405814b32063f993ae0": {
          "model_module": "@jupyter-widgets/controls",
          "model_name": "SliderStyleModel",
          "model_module_version": "1.5.0",
          "state": {
            "_model_module": "@jupyter-widgets/controls",
            "_model_module_version": "1.5.0",
            "_model_name": "SliderStyleModel",
            "_view_count": null,
            "_view_module": "@jupyter-widgets/base",
            "_view_module_version": "1.2.0",
            "_view_name": "StyleView",
            "description_width": "",
            "handle_color": null
          }
        },
        "c7c59ee906ab4c828b06ad40702617da": {
          "model_module": "@jupyter-widgets/base",
          "model_name": "LayoutModel",
          "model_module_version": "1.2.0",
          "state": {
            "_model_module": "@jupyter-widgets/base",
            "_model_module_version": "1.2.0",
            "_model_name": "LayoutModel",
            "_view_count": null,
            "_view_module": "@jupyter-widgets/base",
            "_view_module_version": "1.2.0",
            "_view_name": "LayoutView",
            "align_content": null,
            "align_items": null,
            "align_self": null,
            "border": null,
            "bottom": null,
            "display": null,
            "flex": null,
            "flex_flow": null,
            "grid_area": null,
            "grid_auto_columns": null,
            "grid_auto_flow": null,
            "grid_auto_rows": null,
            "grid_column": null,
            "grid_gap": null,
            "grid_row": null,
            "grid_template_areas": null,
            "grid_template_columns": null,
            "grid_template_rows": null,
            "height": null,
            "justify_content": null,
            "justify_items": null,
            "left": null,
            "margin": null,
            "max_height": null,
            "max_width": null,
            "min_height": null,
            "min_width": null,
            "object_fit": null,
            "object_position": null,
            "order": null,
            "overflow": null,
            "overflow_x": null,
            "overflow_y": null,
            "padding": null,
            "right": null,
            "top": null,
            "visibility": null,
            "width": null
          }
        },
        "0821b305d89646b4ba7d6587b65fa896": {
          "model_module": "@jupyter-widgets/controls",
          "model_name": "SliderStyleModel",
          "model_module_version": "1.5.0",
          "state": {
            "_model_module": "@jupyter-widgets/controls",
            "_model_module_version": "1.5.0",
            "_model_name": "SliderStyleModel",
            "_view_count": null,
            "_view_module": "@jupyter-widgets/base",
            "_view_module_version": "1.2.0",
            "_view_name": "StyleView",
            "description_width": "",
            "handle_color": null
          }
        },
        "264a450b3fc1405d9973dd1b05e8fdbb": {
          "model_module": "@jupyter-widgets/base",
          "model_name": "LayoutModel",
          "model_module_version": "1.2.0",
          "state": {
            "_model_module": "@jupyter-widgets/base",
            "_model_module_version": "1.2.0",
            "_model_name": "LayoutModel",
            "_view_count": null,
            "_view_module": "@jupyter-widgets/base",
            "_view_module_version": "1.2.0",
            "_view_name": "LayoutView",
            "align_content": null,
            "align_items": null,
            "align_self": null,
            "border": null,
            "bottom": null,
            "display": null,
            "flex": null,
            "flex_flow": null,
            "grid_area": null,
            "grid_auto_columns": null,
            "grid_auto_flow": null,
            "grid_auto_rows": null,
            "grid_column": null,
            "grid_gap": null,
            "grid_row": null,
            "grid_template_areas": null,
            "grid_template_columns": null,
            "grid_template_rows": null,
            "height": null,
            "justify_content": null,
            "justify_items": null,
            "left": null,
            "margin": null,
            "max_height": null,
            "max_width": null,
            "min_height": null,
            "min_width": null,
            "object_fit": null,
            "object_position": null,
            "order": null,
            "overflow": null,
            "overflow_x": null,
            "overflow_y": null,
            "padding": null,
            "right": null,
            "top": null,
            "visibility": null,
            "width": null
          }
        },
        "ea3962b53bdf421ca69d6bb37eb754f2": {
          "model_module": "@jupyter-widgets/controls",
          "model_name": "SliderStyleModel",
          "model_module_version": "1.5.0",
          "state": {
            "_model_module": "@jupyter-widgets/controls",
            "_model_module_version": "1.5.0",
            "_model_name": "SliderStyleModel",
            "_view_count": null,
            "_view_module": "@jupyter-widgets/base",
            "_view_module_version": "1.2.0",
            "_view_name": "StyleView",
            "description_width": "",
            "handle_color": null
          }
        },
        "7e27dd5fff22448abeebf838d8099616": {
          "model_module": "@jupyter-widgets/base",
          "model_name": "LayoutModel",
          "model_module_version": "1.2.0",
          "state": {
            "_model_module": "@jupyter-widgets/base",
            "_model_module_version": "1.2.0",
            "_model_name": "LayoutModel",
            "_view_count": null,
            "_view_module": "@jupyter-widgets/base",
            "_view_module_version": "1.2.0",
            "_view_name": "LayoutView",
            "align_content": null,
            "align_items": null,
            "align_self": null,
            "border": null,
            "bottom": null,
            "display": null,
            "flex": null,
            "flex_flow": null,
            "grid_area": null,
            "grid_auto_columns": null,
            "grid_auto_flow": null,
            "grid_auto_rows": null,
            "grid_column": null,
            "grid_gap": null,
            "grid_row": null,
            "grid_template_areas": null,
            "grid_template_columns": null,
            "grid_template_rows": null,
            "height": null,
            "justify_content": null,
            "justify_items": null,
            "left": null,
            "margin": null,
            "max_height": null,
            "max_width": null,
            "min_height": null,
            "min_width": null,
            "object_fit": null,
            "object_position": null,
            "order": null,
            "overflow": null,
            "overflow_x": null,
            "overflow_y": null,
            "padding": null,
            "right": null,
            "top": null,
            "visibility": null,
            "width": null
          }
        },
        "25f70486f0a54b92abb2ed640e3e3dae": {
          "model_module": "@jupyter-widgets/controls",
          "model_name": "ButtonStyleModel",
          "model_module_version": "1.5.0",
          "state": {
            "_model_module": "@jupyter-widgets/controls",
            "_model_module_version": "1.5.0",
            "_model_name": "ButtonStyleModel",
            "_view_count": null,
            "_view_module": "@jupyter-widgets/base",
            "_view_module_version": "1.2.0",
            "_view_name": "StyleView",
            "button_color": null,
            "font_weight": ""
          }
        },
        "3fe14ebe00824d859f4e6c23d9f22ea4": {
          "model_module": "@jupyter-widgets/controls",
          "model_name": "VBoxModel",
          "model_module_version": "1.5.0",
          "state": {
            "_dom_classes": [],
            "_model_module": "@jupyter-widgets/controls",
            "_model_module_version": "1.5.0",
            "_model_name": "VBoxModel",
            "_view_count": null,
            "_view_module": "@jupyter-widgets/controls",
            "_view_module_version": "1.5.0",
            "_view_name": "VBoxView",
            "box_style": "",
            "children": [
              "IPY_MODEL_494f71eb7410447bbb5e08e08a235945",
              "IPY_MODEL_0c95968978204a3b91d6d1d219e448e8",
              "IPY_MODEL_a96645dd2e344c8c86307491225cc89d",
              "IPY_MODEL_239e9fd97c31409e88c8941a70c12b85"
            ],
            "layout": "IPY_MODEL_d5315ff3dd84406d93f08c00583bbf95"
          }
        },
        "d5315ff3dd84406d93f08c00583bbf95": {
          "model_module": "@jupyter-widgets/base",
          "model_name": "LayoutModel",
          "model_module_version": "1.2.0",
          "state": {
            "_model_module": "@jupyter-widgets/base",
            "_model_module_version": "1.2.0",
            "_model_name": "LayoutModel",
            "_view_count": null,
            "_view_module": "@jupyter-widgets/base",
            "_view_module_version": "1.2.0",
            "_view_name": "LayoutView",
            "align_content": null,
            "align_items": null,
            "align_self": null,
            "border": null,
            "bottom": null,
            "display": null,
            "flex": null,
            "flex_flow": null,
            "grid_area": null,
            "grid_auto_columns": null,
            "grid_auto_flow": null,
            "grid_auto_rows": null,
            "grid_column": null,
            "grid_gap": null,
            "grid_row": null,
            "grid_template_areas": null,
            "grid_template_columns": null,
            "grid_template_rows": null,
            "height": null,
            "justify_content": null,
            "justify_items": null,
            "left": null,
            "margin": null,
            "max_height": null,
            "max_width": null,
            "min_height": null,
            "min_width": null,
            "object_fit": null,
            "object_position": null,
            "order": null,
            "overflow": null,
            "overflow_x": null,
            "overflow_y": null,
            "padding": null,
            "right": null,
            "top": null,
            "visibility": null,
            "width": null
          }
        },
        "79861d8328ab49109aaf3d990c4fe45c": {
          "model_module": "@jupyter-widgets/controls",
          "model_name": "VBoxModel",
          "model_module_version": "1.5.0",
          "state": {
            "_dom_classes": [],
            "_model_module": "@jupyter-widgets/controls",
            "_model_module_version": "1.5.0",
            "_model_name": "VBoxModel",
            "_view_count": null,
            "_view_module": "@jupyter-widgets/controls",
            "_view_module_version": "1.5.0",
            "_view_name": "VBoxView",
            "box_style": "",
            "children": [
              "IPY_MODEL_494f71eb7410447bbb5e08e08a235945",
              "IPY_MODEL_0c95968978204a3b91d6d1d219e448e8",
              "IPY_MODEL_a96645dd2e344c8c86307491225cc89d",
              "IPY_MODEL_239e9fd97c31409e88c8941a70c12b85"
            ],
            "layout": "IPY_MODEL_6f5264fa6a3944d1bb638099e7a5e0b3"
          }
        },
        "6f5264fa6a3944d1bb638099e7a5e0b3": {
          "model_module": "@jupyter-widgets/base",
          "model_name": "LayoutModel",
          "model_module_version": "1.2.0",
          "state": {
            "_model_module": "@jupyter-widgets/base",
            "_model_module_version": "1.2.0",
            "_model_name": "LayoutModel",
            "_view_count": null,
            "_view_module": "@jupyter-widgets/base",
            "_view_module_version": "1.2.0",
            "_view_name": "LayoutView",
            "align_content": null,
            "align_items": null,
            "align_self": null,
            "border": null,
            "bottom": null,
            "display": null,
            "flex": null,
            "flex_flow": null,
            "grid_area": null,
            "grid_auto_columns": null,
            "grid_auto_flow": null,
            "grid_auto_rows": null,
            "grid_column": null,
            "grid_gap": null,
            "grid_row": null,
            "grid_template_areas": null,
            "grid_template_columns": null,
            "grid_template_rows": null,
            "height": null,
            "justify_content": null,
            "justify_items": null,
            "left": null,
            "margin": null,
            "max_height": null,
            "max_width": null,
            "min_height": null,
            "min_width": null,
            "object_fit": null,
            "object_position": null,
            "order": null,
            "overflow": null,
            "overflow_x": null,
            "overflow_y": null,
            "padding": null,
            "right": null,
            "top": null,
            "visibility": null,
            "width": null
          }
        },
        "25ac44a2c08346b2903e8efa5ac5f44e": {
          "model_module": "@jupyter-widgets/controls",
          "model_name": "VBoxModel",
          "model_module_version": "1.5.0",
          "state": {
            "_dom_classes": [],
            "_model_module": "@jupyter-widgets/controls",
            "_model_module_version": "1.5.0",
            "_model_name": "VBoxModel",
            "_view_count": null,
            "_view_module": "@jupyter-widgets/controls",
            "_view_module_version": "1.5.0",
            "_view_name": "VBoxView",
            "box_style": "",
            "children": [
              "IPY_MODEL_494f71eb7410447bbb5e08e08a235945",
              "IPY_MODEL_0c95968978204a3b91d6d1d219e448e8",
              "IPY_MODEL_a96645dd2e344c8c86307491225cc89d",
              "IPY_MODEL_239e9fd97c31409e88c8941a70c12b85"
            ],
            "layout": "IPY_MODEL_e5d74f80a8bf4372b132be16921b227d"
          }
        },
        "e5d74f80a8bf4372b132be16921b227d": {
          "model_module": "@jupyter-widgets/base",
          "model_name": "LayoutModel",
          "model_module_version": "1.2.0",
          "state": {
            "_model_module": "@jupyter-widgets/base",
            "_model_module_version": "1.2.0",
            "_model_name": "LayoutModel",
            "_view_count": null,
            "_view_module": "@jupyter-widgets/base",
            "_view_module_version": "1.2.0",
            "_view_name": "LayoutView",
            "align_content": null,
            "align_items": null,
            "align_self": null,
            "border": null,
            "bottom": null,
            "display": null,
            "flex": null,
            "flex_flow": null,
            "grid_area": null,
            "grid_auto_columns": null,
            "grid_auto_flow": null,
            "grid_auto_rows": null,
            "grid_column": null,
            "grid_gap": null,
            "grid_row": null,
            "grid_template_areas": null,
            "grid_template_columns": null,
            "grid_template_rows": null,
            "height": null,
            "justify_content": null,
            "justify_items": null,
            "left": null,
            "margin": null,
            "max_height": null,
            "max_width": null,
            "min_height": null,
            "min_width": null,
            "object_fit": null,
            "object_position": null,
            "order": null,
            "overflow": null,
            "overflow_x": null,
            "overflow_y": null,
            "padding": null,
            "right": null,
            "top": null,
            "visibility": null,
            "width": null
          }
        }
      }
    }
  },
  "nbformat": 4,
  "nbformat_minor": 0
}