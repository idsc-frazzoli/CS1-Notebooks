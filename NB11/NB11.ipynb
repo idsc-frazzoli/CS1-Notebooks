{
  "cells": [
    {
      "cell_type": "markdown",
      "metadata": {
        "id": "Vbd3TH8pjAhC"
      },
      "source": [
        "# Control Systems 1, NB11:  Time delays and Cascaded Control\n",
        "\n",
        "© 2024 ETH Zurich, Mark Benazet Castells, Jonas Holinger, Felix Muller, Matteo Penlington; Institute for Dynamic Systems and Control; Prof. Emilio Frazzoli\n",
        "\n",
        "This interactive notebook is designed to introduce the fundamental concepts of control systems engineering. It covers time delays, how to approximate them, and their influence on system performance. Additionally, the notebook provides a brief overview of cascaded control.\n",
        "\n",
        "Authors:\n",
        "- Jonas Holinger; jholinger@ethz.ch\n",
        "- Shubham Gupta; shugupta@ethz.ch"
      ]
    },
    {
      "cell_type": "markdown",
      "metadata": {
        "id": "TJZdQPcejXiq"
      },
      "source": [
        "# Learning Objectives\n"
      ]
    },
    {
      "cell_type": "markdown",
      "metadata": {
        "id": "uZoZ2lJAjZ4B"
      },
      "source": [
        "After completing this notebook, you should be able to:\n",
        "\n",
        "1. Understand the effects of time delays on frequency response and stability.\n",
        "2. Approximate time delays as a proper rational transfer function.\n",
        "3. Understand the effects of compensators on a system and how to implement them.\n",
        "4. Grasp the fundamentals of cascaded control.\n"
      ]
    },
    {
      "cell_type": "markdown",
      "metadata": {
        "id": "OJ3oU5vJHFnY"
      },
      "source": [
        "## Import Libraries"
      ]
    },
    {
      "cell_type": "code",
      "execution_count": 1,
      "metadata": {
        "colab": {
          "base_uri": "https://localhost:8080/",
          "height": 0
        },
        "id": "dDEsMSKBjcn-",
        "outputId": "544fd29c-f34a-474e-c6a8-7e66d6dc22f2"
      },
      "outputs": [
        {
          "output_type": "stream",
          "name": "stdout",
          "text": [
            "Requirement already satisfied: numpy in /usr/local/lib/python3.10/dist-packages (1.26.4)\n",
            "Requirement already satisfied: matplotlib in /usr/local/lib/python3.10/dist-packages (3.8.0)\n",
            "Requirement already satisfied: scipy in /usr/local/lib/python3.10/dist-packages (1.13.1)\n",
            "Requirement already satisfied: ipywidgets in /usr/local/lib/python3.10/dist-packages (7.7.1)\n",
            "Collecting control\n",
            "  Downloading control-0.10.1-py3-none-any.whl.metadata (7.6 kB)\n",
            "Requirement already satisfied: IPython in /usr/local/lib/python3.10/dist-packages (7.34.0)\n",
            "Requirement already satisfied: sympy in /usr/local/lib/python3.10/dist-packages (1.13.1)\n",
            "Requirement already satisfied: contourpy>=1.0.1 in /usr/local/lib/python3.10/dist-packages (from matplotlib) (1.3.1)\n",
            "Requirement already satisfied: cycler>=0.10 in /usr/local/lib/python3.10/dist-packages (from matplotlib) (0.12.1)\n",
            "Requirement already satisfied: fonttools>=4.22.0 in /usr/local/lib/python3.10/dist-packages (from matplotlib) (4.55.0)\n",
            "Requirement already satisfied: kiwisolver>=1.0.1 in /usr/local/lib/python3.10/dist-packages (from matplotlib) (1.4.7)\n",
            "Requirement already satisfied: packaging>=20.0 in /usr/local/lib/python3.10/dist-packages (from matplotlib) (24.2)\n",
            "Requirement already satisfied: pillow>=6.2.0 in /usr/local/lib/python3.10/dist-packages (from matplotlib) (11.0.0)\n",
            "Requirement already satisfied: pyparsing>=2.3.1 in /usr/local/lib/python3.10/dist-packages (from matplotlib) (3.2.0)\n",
            "Requirement already satisfied: python-dateutil>=2.7 in /usr/local/lib/python3.10/dist-packages (from matplotlib) (2.8.2)\n",
            "Requirement already satisfied: ipykernel>=4.5.1 in /usr/local/lib/python3.10/dist-packages (from ipywidgets) (5.5.6)\n",
            "Requirement already satisfied: ipython-genutils~=0.2.0 in /usr/local/lib/python3.10/dist-packages (from ipywidgets) (0.2.0)\n",
            "Requirement already satisfied: traitlets>=4.3.1 in /usr/local/lib/python3.10/dist-packages (from ipywidgets) (5.7.1)\n",
            "Requirement already satisfied: widgetsnbextension~=3.6.0 in /usr/local/lib/python3.10/dist-packages (from ipywidgets) (3.6.10)\n",
            "Requirement already satisfied: jupyterlab-widgets>=1.0.0 in /usr/local/lib/python3.10/dist-packages (from ipywidgets) (3.0.13)\n",
            "Requirement already satisfied: setuptools>=18.5 in /usr/local/lib/python3.10/dist-packages (from IPython) (75.1.0)\n",
            "Collecting jedi>=0.16 (from IPython)\n",
            "  Downloading jedi-0.19.2-py2.py3-none-any.whl.metadata (22 kB)\n",
            "Requirement already satisfied: decorator in /usr/local/lib/python3.10/dist-packages (from IPython) (4.4.2)\n",
            "Requirement already satisfied: pickleshare in /usr/local/lib/python3.10/dist-packages (from IPython) (0.7.5)\n",
            "Requirement already satisfied: prompt-toolkit!=3.0.0,!=3.0.1,<3.1.0,>=2.0.0 in /usr/local/lib/python3.10/dist-packages (from IPython) (3.0.48)\n",
            "Requirement already satisfied: pygments in /usr/local/lib/python3.10/dist-packages (from IPython) (2.18.0)\n",
            "Requirement already satisfied: backcall in /usr/local/lib/python3.10/dist-packages (from IPython) (0.2.0)\n",
            "Requirement already satisfied: matplotlib-inline in /usr/local/lib/python3.10/dist-packages (from IPython) (0.1.7)\n",
            "Requirement already satisfied: pexpect>4.3 in /usr/local/lib/python3.10/dist-packages (from IPython) (4.9.0)\n",
            "Requirement already satisfied: mpmath<1.4,>=1.1.0 in /usr/local/lib/python3.10/dist-packages (from sympy) (1.3.0)\n",
            "Requirement already satisfied: jupyter-client in /usr/local/lib/python3.10/dist-packages (from ipykernel>=4.5.1->ipywidgets) (6.1.12)\n",
            "Requirement already satisfied: tornado>=4.2 in /usr/local/lib/python3.10/dist-packages (from ipykernel>=4.5.1->ipywidgets) (6.3.3)\n",
            "Requirement already satisfied: parso<0.9.0,>=0.8.4 in /usr/local/lib/python3.10/dist-packages (from jedi>=0.16->IPython) (0.8.4)\n",
            "Requirement already satisfied: ptyprocess>=0.5 in /usr/local/lib/python3.10/dist-packages (from pexpect>4.3->IPython) (0.7.0)\n",
            "Requirement already satisfied: wcwidth in /usr/local/lib/python3.10/dist-packages (from prompt-toolkit!=3.0.0,!=3.0.1,<3.1.0,>=2.0.0->IPython) (0.2.13)\n",
            "Requirement already satisfied: six>=1.5 in /usr/local/lib/python3.10/dist-packages (from python-dateutil>=2.7->matplotlib) (1.16.0)\n",
            "Requirement already satisfied: notebook>=4.4.1 in /usr/local/lib/python3.10/dist-packages (from widgetsnbextension~=3.6.0->ipywidgets) (6.5.5)\n",
            "Requirement already satisfied: jinja2 in /usr/local/lib/python3.10/dist-packages (from notebook>=4.4.1->widgetsnbextension~=3.6.0->ipywidgets) (3.1.4)\n",
            "Requirement already satisfied: pyzmq<25,>=17 in /usr/local/lib/python3.10/dist-packages (from notebook>=4.4.1->widgetsnbextension~=3.6.0->ipywidgets) (24.0.1)\n",
            "Requirement already satisfied: argon2-cffi in /usr/local/lib/python3.10/dist-packages (from notebook>=4.4.1->widgetsnbextension~=3.6.0->ipywidgets) (23.1.0)\n",
            "Requirement already satisfied: jupyter-core>=4.6.1 in /usr/local/lib/python3.10/dist-packages (from notebook>=4.4.1->widgetsnbextension~=3.6.0->ipywidgets) (5.7.2)\n",
            "Requirement already satisfied: nbformat in /usr/local/lib/python3.10/dist-packages (from notebook>=4.4.1->widgetsnbextension~=3.6.0->ipywidgets) (5.10.4)\n",
            "Requirement already satisfied: nbconvert>=5 in /usr/local/lib/python3.10/dist-packages (from notebook>=4.4.1->widgetsnbextension~=3.6.0->ipywidgets) (7.16.4)\n",
            "Requirement already satisfied: nest-asyncio>=1.5 in /usr/local/lib/python3.10/dist-packages (from notebook>=4.4.1->widgetsnbextension~=3.6.0->ipywidgets) (1.6.0)\n",
            "Requirement already satisfied: Send2Trash>=1.8.0 in /usr/local/lib/python3.10/dist-packages (from notebook>=4.4.1->widgetsnbextension~=3.6.0->ipywidgets) (1.8.3)\n",
            "Requirement already satisfied: terminado>=0.8.3 in /usr/local/lib/python3.10/dist-packages (from notebook>=4.4.1->widgetsnbextension~=3.6.0->ipywidgets) (0.18.1)\n",
            "Requirement already satisfied: prometheus-client in /usr/local/lib/python3.10/dist-packages (from notebook>=4.4.1->widgetsnbextension~=3.6.0->ipywidgets) (0.21.0)\n",
            "Requirement already satisfied: nbclassic>=0.4.7 in /usr/local/lib/python3.10/dist-packages (from notebook>=4.4.1->widgetsnbextension~=3.6.0->ipywidgets) (1.1.0)\n",
            "Requirement already satisfied: platformdirs>=2.5 in /usr/local/lib/python3.10/dist-packages (from jupyter-core>=4.6.1->notebook>=4.4.1->widgetsnbextension~=3.6.0->ipywidgets) (4.3.6)\n",
            "Requirement already satisfied: notebook-shim>=0.2.3 in /usr/local/lib/python3.10/dist-packages (from nbclassic>=0.4.7->notebook>=4.4.1->widgetsnbextension~=3.6.0->ipywidgets) (0.2.4)\n",
            "Requirement already satisfied: beautifulsoup4 in /usr/local/lib/python3.10/dist-packages (from nbconvert>=5->notebook>=4.4.1->widgetsnbextension~=3.6.0->ipywidgets) (4.12.3)\n",
            "Requirement already satisfied: bleach!=5.0.0 in /usr/local/lib/python3.10/dist-packages (from nbconvert>=5->notebook>=4.4.1->widgetsnbextension~=3.6.0->ipywidgets) (6.2.0)\n",
            "Requirement already satisfied: defusedxml in /usr/local/lib/python3.10/dist-packages (from nbconvert>=5->notebook>=4.4.1->widgetsnbextension~=3.6.0->ipywidgets) (0.7.1)\n",
            "Requirement already satisfied: jupyterlab-pygments in /usr/local/lib/python3.10/dist-packages (from nbconvert>=5->notebook>=4.4.1->widgetsnbextension~=3.6.0->ipywidgets) (0.3.0)\n",
            "Requirement already satisfied: markupsafe>=2.0 in /usr/local/lib/python3.10/dist-packages (from nbconvert>=5->notebook>=4.4.1->widgetsnbextension~=3.6.0->ipywidgets) (3.0.2)\n",
            "Requirement already satisfied: mistune<4,>=2.0.3 in /usr/local/lib/python3.10/dist-packages (from nbconvert>=5->notebook>=4.4.1->widgetsnbextension~=3.6.0->ipywidgets) (3.0.2)\n",
            "Requirement already satisfied: nbclient>=0.5.0 in /usr/local/lib/python3.10/dist-packages (from nbconvert>=5->notebook>=4.4.1->widgetsnbextension~=3.6.0->ipywidgets) (0.10.0)\n",
            "Requirement already satisfied: pandocfilters>=1.4.1 in /usr/local/lib/python3.10/dist-packages (from nbconvert>=5->notebook>=4.4.1->widgetsnbextension~=3.6.0->ipywidgets) (1.5.1)\n",
            "Requirement already satisfied: tinycss2 in /usr/local/lib/python3.10/dist-packages (from nbconvert>=5->notebook>=4.4.1->widgetsnbextension~=3.6.0->ipywidgets) (1.4.0)\n",
            "Requirement already satisfied: fastjsonschema>=2.15 in /usr/local/lib/python3.10/dist-packages (from nbformat->notebook>=4.4.1->widgetsnbextension~=3.6.0->ipywidgets) (2.20.0)\n",
            "Requirement already satisfied: jsonschema>=2.6 in /usr/local/lib/python3.10/dist-packages (from nbformat->notebook>=4.4.1->widgetsnbextension~=3.6.0->ipywidgets) (4.23.0)\n",
            "Requirement already satisfied: argon2-cffi-bindings in /usr/local/lib/python3.10/dist-packages (from argon2-cffi->notebook>=4.4.1->widgetsnbextension~=3.6.0->ipywidgets) (21.2.0)\n",
            "Requirement already satisfied: webencodings in /usr/local/lib/python3.10/dist-packages (from bleach!=5.0.0->nbconvert>=5->notebook>=4.4.1->widgetsnbextension~=3.6.0->ipywidgets) (0.5.1)\n",
            "Requirement already satisfied: attrs>=22.2.0 in /usr/local/lib/python3.10/dist-packages (from jsonschema>=2.6->nbformat->notebook>=4.4.1->widgetsnbextension~=3.6.0->ipywidgets) (24.2.0)\n",
            "Requirement already satisfied: jsonschema-specifications>=2023.03.6 in /usr/local/lib/python3.10/dist-packages (from jsonschema>=2.6->nbformat->notebook>=4.4.1->widgetsnbextension~=3.6.0->ipywidgets) (2024.10.1)\n",
            "Requirement already satisfied: referencing>=0.28.4 in /usr/local/lib/python3.10/dist-packages (from jsonschema>=2.6->nbformat->notebook>=4.4.1->widgetsnbextension~=3.6.0->ipywidgets) (0.35.1)\n",
            "Requirement already satisfied: rpds-py>=0.7.1 in /usr/local/lib/python3.10/dist-packages (from jsonschema>=2.6->nbformat->notebook>=4.4.1->widgetsnbextension~=3.6.0->ipywidgets) (0.21.0)\n",
            "Requirement already satisfied: jupyter-server<3,>=1.8 in /usr/local/lib/python3.10/dist-packages (from notebook-shim>=0.2.3->nbclassic>=0.4.7->notebook>=4.4.1->widgetsnbextension~=3.6.0->ipywidgets) (1.24.0)\n",
            "Requirement already satisfied: cffi>=1.0.1 in /usr/local/lib/python3.10/dist-packages (from argon2-cffi-bindings->argon2-cffi->notebook>=4.4.1->widgetsnbextension~=3.6.0->ipywidgets) (1.17.1)\n",
            "Requirement already satisfied: soupsieve>1.2 in /usr/local/lib/python3.10/dist-packages (from beautifulsoup4->nbconvert>=5->notebook>=4.4.1->widgetsnbextension~=3.6.0->ipywidgets) (2.6)\n",
            "Requirement already satisfied: pycparser in /usr/local/lib/python3.10/dist-packages (from cffi>=1.0.1->argon2-cffi-bindings->argon2-cffi->notebook>=4.4.1->widgetsnbextension~=3.6.0->ipywidgets) (2.22)\n",
            "Requirement already satisfied: anyio<4,>=3.1.0 in /usr/local/lib/python3.10/dist-packages (from jupyter-server<3,>=1.8->notebook-shim>=0.2.3->nbclassic>=0.4.7->notebook>=4.4.1->widgetsnbextension~=3.6.0->ipywidgets) (3.7.1)\n",
            "Requirement already satisfied: websocket-client in /usr/local/lib/python3.10/dist-packages (from jupyter-server<3,>=1.8->notebook-shim>=0.2.3->nbclassic>=0.4.7->notebook>=4.4.1->widgetsnbextension~=3.6.0->ipywidgets) (1.8.0)\n",
            "Requirement already satisfied: idna>=2.8 in /usr/local/lib/python3.10/dist-packages (from anyio<4,>=3.1.0->jupyter-server<3,>=1.8->notebook-shim>=0.2.3->nbclassic>=0.4.7->notebook>=4.4.1->widgetsnbextension~=3.6.0->ipywidgets) (3.10)\n",
            "Requirement already satisfied: sniffio>=1.1 in /usr/local/lib/python3.10/dist-packages (from anyio<4,>=3.1.0->jupyter-server<3,>=1.8->notebook-shim>=0.2.3->nbclassic>=0.4.7->notebook>=4.4.1->widgetsnbextension~=3.6.0->ipywidgets) (1.3.1)\n",
            "Requirement already satisfied: exceptiongroup in /usr/local/lib/python3.10/dist-packages (from anyio<4,>=3.1.0->jupyter-server<3,>=1.8->notebook-shim>=0.2.3->nbclassic>=0.4.7->notebook>=4.4.1->widgetsnbextension~=3.6.0->ipywidgets) (1.2.2)\n",
            "Downloading control-0.10.1-py3-none-any.whl (549 kB)\n",
            "\u001b[2K   \u001b[90m━━━━━━━━━━━━━━━━━━━━━━━━━━━━━━━━━━━━━━━━\u001b[0m \u001b[32m549.6/549.6 kB\u001b[0m \u001b[31m6.4 MB/s\u001b[0m eta \u001b[36m0:00:00\u001b[0m\n",
            "\u001b[?25hDownloading jedi-0.19.2-py2.py3-none-any.whl (1.6 MB)\n",
            "\u001b[2K   \u001b[90m━━━━━━━━━━━━━━━━━━━━━━━━━━━━━━━━━━━━━━━━\u001b[0m \u001b[32m1.6/1.6 MB\u001b[0m \u001b[31m35.2 MB/s\u001b[0m eta \u001b[36m0:00:00\u001b[0m\n",
            "\u001b[?25hInstalling collected packages: jedi, control\n",
            "Successfully installed control-0.10.1 jedi-0.19.2\n"
          ]
        }
      ],
      "source": [
        "%pip install numpy matplotlib scipy ipywidgets control IPython sympy\n",
        "\n",
        "#@title Import Libraries\n",
        "\n",
        "import control as ct\n",
        "import matplotlib.pyplot as plt\n",
        "import numpy as np\n",
        "import math\n",
        "import ipywidgets as widgets\n",
        "from scipy.integrate import odeint\n",
        "from IPython.display import display, clear_output, Math\n",
        "from ipywidgets import interactive, FloatSlider, VBox, ToggleButton, FloatSlider\n",
        "from scipy import signal\n",
        "import warnings\n",
        "warnings.filterwarnings(\"ignore\")"
      ]
    },
    {
      "cell_type": "markdown",
      "metadata": {
        "id": "7ontFK4K_VZQ"
      },
      "source": [
        "# Motivation"
      ]
    },
    {
      "cell_type": "markdown",
      "metadata": {
        "id": "VDbh70n53Kja"
      },
      "source": [
        "So far in the course we have analyzed ideal models, i.e., models that are linear and time-invariant (LTI). However, most *real* systems deviate from these idealizations. As a result, it becomes crucial to understand and account for these phenomena. Two such phenomena are time delays and nonlinearities. In this notebook time delays are introduced, along with their effects, and how they can be adapted (approximated) to use the tools that have been previously introduced (e.g,. Root locus). Nonlinearities will be introduced in the following week.\n",
        "\n",
        "Furthermore, typically, systems consist of a system of systems. Consider that adaptive cruise control aims to control the position of the vehicle with respect to the vehicle in front. As a consequence, it must determine a) the desired speed of the vehicle to maintain the distance, and then correspondingly control the throttle to achieve the appropriate speed. This form of system architecture is referred to as cascaded control, and is briefly touched upon in this notebook."
      ]
    },
    {
      "cell_type": "markdown",
      "metadata": {
        "id": "BVpsPzF4_eQf"
      },
      "source": [
        "# 1. Time Delays\n"
      ]
    },
    {
      "cell_type": "markdown",
      "metadata": {
        "id": "x5txC9G4HFna"
      },
      "source": [
        "A time delay refers to the phenomenon where there is a delay between the input to the system and its corresponding output response. This delay can occur due to various reasons, such as sensor response time, communication latency in a controller implemented within a computer, or physical delays, like water traveling inside a pipe when the shower is turned on.\n",
        "\n",
        "Time delays can (negatively) influence system performance, and even introduce instabilities. This can be explained intuitively, by considering that in a closed-loop, the input to the controller is the error between a reference and output. In the presence of time delays, the produced output, may be different from what was expected. Thus, the tuned controller may result in the system exhibiting unstable output behavior.\n",
        "\n",
        "Consequentially, we want to account for the effects of time delays. The time delay operator, which transforms an input signal $ u(t) $ into a delayed output $ y(t) = u(t-T) $ with a delay of $ T $ seconds, is represented in the Laplace domain as:\n",
        "$$e^{-sT}$$\n",
        "\n",
        "The time delay operator is a linear operator, but the resulting transfer function is not rational, which means we cannot apply the root-locus method. To see why this is the case, consider that the root locus relies on the characteristic equation $1+kL(s)=0$ to define the closed-loop poles. However, in the case where we have a non-rational transfer function, then the poles no longer exist in the polynomial form we have previously seen.\n",
        "\n",
        "Before we provide a brief example to contextualize how accounting for a time-delay may result in a non-rational transfer function."
      ]
    },
    {
      "cell_type": "markdown",
      "metadata": {
        "id": "Fxrl4sGkHFna"
      },
      "source": [
        "### Example"
      ]
    },
    {
      "cell_type": "markdown",
      "metadata": {
        "id": "Wp9OJ-O5HFna"
      },
      "source": [
        "Suppose we have a first-order system of the form $ G(s) = \\frac{5}{s+3} $, and through experiments have determined that a time delay of 4 seconds is present. It is then possible to account for the time delay by defining the new transfer function, $\\tilde{G}(s)$ as:\n",
        "$$\\tilde{G}(s) = \\frac{5}{s+3}e^{-4s}$$"
      ]
    },
    {
      "cell_type": "markdown",
      "metadata": {
        "id": "jPPLqRyhHFnb"
      },
      "source": [
        "### Visualization"
      ]
    },
    {
      "cell_type": "markdown",
      "metadata": {
        "id": "ll9A4jsWHFnb"
      },
      "source": [
        "Below we plot the step response of a 2nd order system $G(s) = \\frac{\\omega_n^2}{s^2+2\\zeta\\omega_n s + \\omega_n^2}$.\n",
        "\n",
        "Try varying the time delay, how does the output vary? Is this was you expected?"
      ]
    },
    {
      "cell_type": "code",
      "execution_count": null,
      "metadata": {
        "id": "QSCtSU3b_iEC"
      },
      "outputs": [],
      "source": [
        "def plot_step_response_delay(wn, zeta, delay):\n",
        "\n",
        "    num = [wn**2]\n",
        "    den = [1, 2*zeta*wn, wn**2]\n",
        "    sys = ct.TransferFunction(num, den)\n",
        "\n",
        "    delay_approx = ct.pade(delay, 5)\n",
        "    delay_tf = ct.TransferFunction(*delay_approx)\n",
        "    sys_delayed = sys * delay_tf\n",
        "\n",
        "    time = np.linspace(0, 20, 500)\n",
        "\n",
        "    t, y_no_delay = ct.step_response(sys, T=time)  # Without delay\n",
        "    t, y_with_delay = ct.step_response(sys_delayed, T=time)  # With delay\n",
        "\n",
        "    plt.figure(figsize=(10, 6))\n",
        "    plt.plot(t, y_no_delay, label=f'No Delay')\n",
        "    plt.plot(t, y_with_delay, label=f'With Delay={delay}s', linestyle='--')\n",
        "    plt.xlabel('Time [s]')\n",
        "    plt.ylabel('Amplitude')\n",
        "    plt.title('Second Order System Step Response with and without Time Delay')\n",
        "    plt.grid(True)\n",
        "    plt.legend()\n",
        "    plt.show()\n",
        "\n",
        "wn_slider = widgets.FloatSlider(value=1.0, min=0.1, max=5.0, step=0.1, description='ωn')\n",
        "zeta_slider = widgets.FloatSlider(value=0.5, min=0.0, max=1.0, step=0.01, description='ζ')\n",
        "delay_slider = widgets.FloatSlider(value=0.0, min=0.0, max=2.0, step=0.01, description='Delay')\n",
        "\n",
        "interactive_plot = widgets.interactive(plot_step_response_delay, wn=wn_slider, zeta=zeta_slider, delay=delay_slider)\n",
        "display(interactive_plot)\n"
      ]
    },
    {
      "cell_type": "markdown",
      "metadata": {
        "id": "oGTWjGLy_fh5"
      },
      "source": [
        "## 1.1 Time Delay in Frequency Response\n"
      ]
    },
    {
      "cell_type": "markdown",
      "metadata": {
        "id": "d9_MySrzHFnb"
      },
      "source": [
        "Above we saw how the time delay influences the time-domain output response. However, since time delays may also influence the systems capabilities to accurately track commands or reject disturbances, it is also useful to understand its influence on the frequency response.  \n",
        "\n",
        "> First, note that the magnitude of the time delay is $ \\left| e^{-j\\omega T} \\right| = 1 $ and the phase is $ \\angle(e^{-j\\omega T}) = -\\omega T $. Hence, the time delay only influences the phase in the frequency domain.\n",
        "\n",
        "To see why the above is the case:\n",
        "- $ \\left| e^{-j\\omega T} \\right| = 1 $: $e^{-j\\omega T} = \\cos{\\omega T} - j \\sin{\\omega T}$. Then the magnitude is described by: $| e^{-j\\omega T} | = \\sqrt{\\cos^2{\\omega T} + \\sin^2{\\omega T}} = 1$.\n",
        "- $ \\angle(e^{-j\\omega T}) = -\\omega T $: $\\angle{e^{-j\\omega T}} = \\arctan{\\frac{-\\sin{\\omega T}}{\\cos{\\omega T}}} = -\\omega T$.\n",
        "\n",
        "\n",
        "\n",
        "For the open-loop Transfer function, $\\tilde{L}(s)=e^{-sT}L(s)$, this means:\n",
        "$$\\left| \\tilde{L}(jw) \\right|=\\left|L(jw) \\right|$$\n",
        "\n",
        "$$\\angle \\tilde{L}(jw)=\\angle L(jw)-wT$$\n",
        "\n",
        "Thus, the time delay:\n",
        "- Rotates the polar plot clockwise by $\\omega T$.\n",
        "- Changes the phase margin of the system such that:\n",
        "$$ \\phi_{m,t} = \\phi_{0} - \\omega_c T $$\n",
        "Where:\n",
        "-  $\\phi_{m,t}$ is the new phase margin after the time delay.\n",
        "-  $\\phi_{0}$ is the phase margin without a time delay.\n",
        "-  $\\omega_c$ is the crossover frequency (does not depend on time delay).\n",
        "\n",
        "Hence:\n",
        "> Time delays reduce the phase margins.\n",
        "\n",
        "\n"
      ]
    },
    {
      "cell_type": "markdown",
      "metadata": {
        "id": "niJfLVFKHFnc"
      },
      "source": [
        "### Effect on the Bode plot"
      ]
    },
    {
      "cell_type": "markdown",
      "metadata": {
        "id": "kvuqGHRYHFnc"
      },
      "source": [
        "Below we plot a rational transfer function of form $\\tilde{L}(s) = \\frac{N(s)}{G(s)}e^{-sT}$ in blue, and in orange the time delay Bode plot.\n",
        "- Note that due to python limitations, we have to approximate the time delay as a high-order transfer function. Later on we introduce how to do this.\n",
        "\n",
        "Try adjusting the time delay and observe how the margins change.\n",
        "Are you able to find a time delay that makes the system unstable? And one for which the system is stable?"
      ]
    },
    {
      "cell_type": "code",
      "execution_count": null,
      "metadata": {
        "id": "1D--GC5W_y90"
      },
      "outputs": [],
      "source": [
        "def bode_plot_with_margins_delay(num, den, delay_num=None, delay_den=None):\n",
        "    if delay_num is not None and delay_den is not None:\n",
        "        delay_sys = ct.TransferFunction(delay_num, delay_den)\n",
        "        sys = ct.series(ct.TransferFunction(num, den), delay_sys)\n",
        "    else:\n",
        "        sys = ct.TransferFunction(num, den)\n",
        "\n",
        "    gm, pm, wcg, wcp = ct.margin(sys)\n",
        "\n",
        "    w = np.logspace(-2, 2, 1000)\n",
        "\n",
        "    if delay_num is not None and delay_den is not None:\n",
        "        mag_d, phase_d, omega_d = ct.bode_plot(delay_sys,omega=w, dB=True, deg=True, plot=False)\n",
        "        mag_d = 20 * np.log10(mag_d)\n",
        "        phase_d = np.degrees(phase_d)\n",
        "        phase_d = phase_d%(-360)\n",
        "    else:\n",
        "        mag_d, phase_d, omega_d = None, None, None\n",
        "\n",
        "    mag, phase, omega = ct.bode_plot(sys, omega=w, dB=True, deg=True, plot=False)\n",
        "    mag = 20 * np.log10(mag)\n",
        "    phase = np.degrees(phase)\n",
        "    phase = phase%(-360)\n",
        "\n",
        "    plt.figure(figsize=(10, 8))\n",
        "    plt.subplot(2, 1, 1)\n",
        "    plt.semilogx(omega, mag, label='System Magnitude (dB)')\n",
        "    if mag_d is not None:\n",
        "        plt.semilogx(omega_d, mag_d, label='Time Delay Magnitude (dB)', linestyle='--')\n",
        "\n",
        "    plt.axhline(0, color='black', linewidth=0.5, linestyle='--')\n",
        "\n",
        "    if not np.isnan(wcp):\n",
        "        plt.plot(wcp, 0, 'ro', label=f'Gain Crossover @ {wcp:.2f} rad/s')\n",
        "    if gm != float('inf'):\n",
        "        plt.vlines(wcg, 0, -20 * np.log10(gm), color='red', linestyle=':', label=f'Gain Margin = {20 * np.log10(gm):.2f} dB')\n",
        "\n",
        "    plt.ylabel('Magnitude (dB)')\n",
        "    plt.legend(loc='best')\n",
        "    plt.grid(True, which=\"both\")\n",
        "\n",
        "    plt.subplot(2, 1, 2)\n",
        "    plt.semilogx(omega, phase, label='System Phase (degrees)')\n",
        "    if phase_d is not None:\n",
        "        plt.semilogx(omega_d, phase_d, label='Time Delay Phase (degrees)', linestyle='--')\n",
        "\n",
        "    plt.axhline(-180, color='black', linewidth=0.5, linestyle='--')\n",
        "\n",
        "    if not np.isnan(wcg):\n",
        "        plt.plot(wcg, -180, 'bo', label=f'Phase Crossover @ {wcg:.2f} rad/s')\n",
        "    if pm != float('inf'):\n",
        "        plt.vlines(wcp, -180, -180 + pm, color='red', linestyle=':', label=f'Phase Margin = {pm:.2f} degrees')\n",
        "\n",
        "    plt.ylabel('Phase (degrees)')\n",
        "    plt.xlabel('Frequency (rad/s)')\n",
        "    plt.legend(loc='best')\n",
        "    plt.grid(True, which=\"both\")\n",
        "\n",
        "    plt.tight_layout()\n",
        "    plt.show()\n",
        "\n",
        "def update_bode_plot(b):\n",
        "    clear_output(wait=True)\n",
        "    display(widgets.VBox([numerator_text, denominator_text, delay_slider, plot_button]))\n",
        "\n",
        "    try:\n",
        "        num = [float(x) for x in numerator_text.value.split(',')]\n",
        "        den = [float(x) for x in denominator_text.value.split(',')]\n",
        "        delay = delay_slider.value\n",
        "\n",
        "        delay_num, delay_den = ct.pade(delay, n=10)\n",
        "        bode_plot_with_margins_delay(num, den, delay_num, delay_den)\n",
        "    except ValueError:\n",
        "        print(\"Please enter valid coefficients separated by commas.\")\n",
        "\n",
        "numerator_text = widgets.Text(value='100', description='Numerator:', placeholder='e.g., 10,4')\n",
        "denominator_text = widgets.Text(value='1,10,100', description='Denominator:', placeholder='e.g., 12,30,50')\n",
        "\n",
        "delay_slider = widgets.FloatSlider(\n",
        "    value=0.0,\n",
        "    min=0.0,\n",
        "    max=2.0,\n",
        "    step=0.01,\n",
        "    description='Time Delay (s):',\n",
        "    continuous_update=False\n",
        ")\n",
        "\n",
        "plot_button = widgets.Button(description=\"Plot Bode\")\n",
        "plot_button.on_click(update_bode_plot)\n",
        "\n",
        "display(widgets.VBox([numerator_text, denominator_text, delay_slider, plot_button]))\n"
      ]
    },
    {
      "cell_type": "markdown",
      "metadata": {
        "id": "jrw5XDx6mhes"
      },
      "source": [
        "### Effect on the Nyquist Plot\n"
      ]
    },
    {
      "cell_type": "markdown",
      "metadata": {
        "id": "6xvnSh9gHFnc"
      },
      "source": [
        "\n",
        "The Nyquist plot of a time delay operator is simply a unit circle.\n",
        "\n",
        "To verify this, consider a transfer function, $L(s)=1$, then apply a time delay.\n",
        "\n",
        "In a system, the time delay introduces a counterclockwise rotation of the Nyquist plot. This rotation becomes more pronounced as the frequency increases. As the delay increases, the system's Nyquist plot may begin to encircle the critical point (-1, 0), potentially leading to instability."
      ]
    },
    {
      "cell_type": "code",
      "execution_count": 13,
      "metadata": {
        "colab": {
          "base_uri": "https://localhost:8080/",
          "height": 734,
          "referenced_widgets": [
            "348bfbfd9ddf456488cc8a81f8e786d2",
            "bcb3da2f374c4f608e3e9e14d0f55c54",
            "214710459df346e5a491004cc523447d",
            "206b9c1ae89f47669780be5491fb845e",
            "cc203e7310d046eea8248ed4bcfcde89",
            "0326acee1f0043ea9cec2c83a70d7a02",
            "4d65307de33a4135b6b17b6c50a1dd8a",
            "82eabe644ed042d9b1fff3adf81a893e",
            "51f08c5e27f842dd972042fcf8e10c29",
            "84da7596016344d88e390bc4c016462b",
            "309bec1e484b4d04834a6c6c111343ab",
            "d35f67c7a1b54d21a95b31ab25081e42",
            "ce60e3321d554305ad958f425168c020",
            "e539f5937c40453aa1e0473b6060bc37"
          ]
        },
        "id": "UZTWOaNUkHKt",
        "outputId": "f863a5d4-9cf6-4789-9653-0a1fc1762050"
      },
      "outputs": [
        {
          "output_type": "display_data",
          "data": {
            "text/plain": [
              "Text(value='1, 1', description='Numerator:', placeholder='Enter coefficients separated by commas')"
            ],
            "application/vnd.jupyter.widget-view+json": {
              "version_major": 2,
              "version_minor": 0,
              "model_id": "348bfbfd9ddf456488cc8a81f8e786d2"
            }
          },
          "metadata": {}
        },
        {
          "output_type": "display_data",
          "data": {
            "text/plain": [
              "Text(value='1, 2, 1', description='Denominator:', placeholder='Enter coefficients separated by commas')"
            ],
            "application/vnd.jupyter.widget-view+json": {
              "version_major": 2,
              "version_minor": 0,
              "model_id": "206b9c1ae89f47669780be5491fb845e"
            }
          },
          "metadata": {}
        },
        {
          "output_type": "display_data",
          "data": {
            "text/plain": [
              "FloatSlider(value=0.1, continuous_update=False, description='Time Delay (s):', max=5.0, step=0.01)"
            ],
            "application/vnd.jupyter.widget-view+json": {
              "version_major": 2,
              "version_minor": 0,
              "model_id": "4d65307de33a4135b6b17b6c50a1dd8a"
            }
          },
          "metadata": {}
        },
        {
          "output_type": "display_data",
          "data": {
            "text/plain": [
              "Button(button_style='success', description='Generate Nyquist Plots', style=ButtonStyle(), tooltip='Click to ge…"
            ],
            "application/vnd.jupyter.widget-view+json": {
              "version_major": 2,
              "version_minor": 0,
              "model_id": "84da7596016344d88e390bc4c016462b"
            }
          },
          "metadata": {}
        },
        {
          "output_type": "display_data",
          "data": {
            "text/plain": [
              "Output()"
            ],
            "application/vnd.jupyter.widget-view+json": {
              "version_major": 2,
              "version_minor": 0,
              "model_id": "ce60e3321d554305ad958f425168c020"
            }
          },
          "metadata": {}
        }
      ],
      "source": [
        "\n",
        "\n",
        "def parse_coefficients(coeff_str):\n",
        "    \"\"\"\n",
        "    Parse a string of coefficients separated by commas into a list of floats.\n",
        "    \"\"\"\n",
        "    try:\n",
        "        coeffs = [float(c.strip()) for c in coeff_str.split(',') if c.strip()]\n",
        "        if not coeffs:\n",
        "            raise ValueError(\"Coefficient list cannot be empty.\")\n",
        "        return coeffs\n",
        "    except ValueError as e:\n",
        "        raise ValueError(f\"Invalid input: {e}\")\n",
        "\n",
        "def transfer_function_with_delay(num, den, delay):\n",
        "\n",
        "    G = control.TransferFunction(num, den)\n",
        "    delay_num, delay_den = control.pade(delay, n=10)\n",
        "    G_delay = control.TransferFunction(delay_num, delay_den)\n",
        "    return G * G_delay\n",
        "\n",
        "def plot_nyquist_and_poles(num, den, delay):\n",
        "    \"\"\"\n",
        "    Generate a single Nyquist plot showing the system with and without time delay and display system poles.\n",
        "    \"\"\"\n",
        "    with output:\n",
        "        clear_output(wait=True)\n",
        "        try:\n",
        "            # Create transfer functions\n",
        "            G = control.TransferFunction(num, den)\n",
        "            G_delay = transfer_function_with_delay(num, den, delay)\n",
        "\n",
        "            # Create a single plot\n",
        "            plt.figure(figsize=(10, 6))\n",
        "\n",
        "            # Nyquist plot with delay\n",
        "            control.nyquist_plot(G_delay, label=f\"With Time Delay = {delay} s\", color='blue')\n",
        "\n",
        "            # Nyquist plot without delay\n",
        "            control.nyquist_plot(G, label=\"Without Time Delay\", color='orange')\n",
        "\n",
        "            plt.title(\"Nyquist Plot with and without Time Delay\")\n",
        "            plt.legend()\n",
        "            plt.grid(True)\n",
        "            plt.tight_layout()\n",
        "            plt.show()\n",
        "\n",
        "\n",
        "        except ValueError as ve:\n",
        "            display(Markdown(f\"**Error:** {ve}\"))\n",
        "        except Exception as e:\n",
        "            display(Markdown(f\"**An unexpected error occurred:** {e}\"))\n",
        "\n",
        "\n",
        "numerator_input = widgets.Text(\n",
        "    value='1, 1',\n",
        "    placeholder='Enter coefficients separated by commas',\n",
        "    description='Numerator:',\n",
        "    disabled=False\n",
        ")\n",
        "\n",
        "denominator_input = widgets.Text(\n",
        "    value='1, 2, 1',\n",
        "    placeholder='Enter coefficients separated by commas',\n",
        "    description='Denominator:',\n",
        "    disabled=False\n",
        ")\n",
        "\n",
        "time_delay_slider = widgets.FloatSlider(\n",
        "    value=0.1,\n",
        "    min=0.0,\n",
        "    max=5.0,\n",
        "    step=0.01,\n",
        "    description='Time Delay (s):',\n",
        "    continuous_update=False\n",
        ")\n",
        "\n",
        "generate_button = widgets.Button(\n",
        "    description='Generate Nyquist Plots',\n",
        "    button_style='success',\n",
        "    tooltip='Click to generate Nyquist plots for the system',\n",
        ")\n",
        "\n",
        "# Output area\n",
        "output = widgets.Output()\n",
        "\n",
        "# Event handler for button click\n",
        "def on_button_click(b):\n",
        "    try:\n",
        "        num = parse_coefficients(numerator_input.value)\n",
        "        den = parse_coefficients(denominator_input.value)\n",
        "        delay = time_delay_slider.value\n",
        "        plot_nyquist_and_poles(num, den, delay)\n",
        "    except ValueError as e:\n",
        "        with output:\n",
        "            clear_output(wait=True)\n",
        "            display(Markdown(f\"**Error:** {e}\"))\n",
        "\n",
        "generate_button.on_click(on_button_click)\n",
        "\n",
        "# Display widgets\n",
        "display(numerator_input, denominator_input, time_delay_slider, generate_button, output)\n"
      ]
    },
    {
      "cell_type": "markdown",
      "metadata": {
        "id": "J2KBvHArC28A"
      },
      "source": [
        "## 1.2 Approximation of Time Delays\n"
      ]
    },
    {
      "cell_type": "markdown",
      "metadata": {
        "id": "b4Z3rKQfHFnd"
      },
      "source": [
        "Since the term which corresponds to our time delay $e^{-sT}$ is not rational, it is not possible to use the root locus method (and depending on the software, non-rational transfer functions may not be supported). Thus, there is a need to approximate the time delay. Below we introduce 2 approaches to doing so.\n"
      ]
    },
    {
      "cell_type": "markdown",
      "metadata": {
        "id": "bzqgbP41HFnd"
      },
      "source": [
        "\n",
        "### 1.2.1 Taylor Approximation\n"
      ]
    },
    {
      "cell_type": "markdown",
      "metadata": {
        "id": "4xsWENKEHFnd"
      },
      "source": [
        "One approach is to approximate the time delay through a $n^{th}$ order Taylor series expansion:\n",
        "$$\n",
        "e^{-sT} \\approx 1 - sT + \\frac{1}{2}\\left(sT\\right)^2 + \\dots + (-1)^n \\frac{1}{n!}\\left(sT\\right)^n\n",
        "$$\n",
        "\n",
        "A Taylor series expansion with $n=3$ would be:\n",
        "$$e^{-sT}\\approx 1-sT+\\frac{1}{2}(sT)^2-\\frac{1}{6}(sT)^3 = \\frac{-\\left(sT\\right)^3 +3(sT)^2 -6(sT)+ 6}{6}$$\n",
        "We can see that the above is a non-proper (rational) transfer function since the numerator polynomial has a higher degree than the denominator. Thus, when $|sT|>1$, the non-proper transfer function grows without bound, which implies infinite gain at high frequencies -- which is not true as $|e^{-j\\omega T}|=1, \\forall \\omega$.\n",
        "\n",
        "This makes the Taylor series expansion an unsuitable approximation unless $|sT|<<1$."
      ]
    },
    {
      "cell_type": "markdown",
      "metadata": {
        "id": "v-i8fqk7HFnd"
      },
      "source": [
        "\n",
        "### 1.2.2 Padé Approximation\n"
      ]
    },
    {
      "cell_type": "markdown",
      "metadata": {
        "id": "7-mjhoPmHFnd"
      },
      "source": [
        "Another approach, is to approximate the time delay with a ratio of polynomials. For calculating the Padé approximation by hand, we limit ourselves to the first-order Padé approximation, which consists of the ratio of two first-order polynomials:\n",
        "$$e^{-sT} \\approx k\\frac{s+p}{s+q}$$\n",
        "\n",
        "For finding the coefficients $k$, $p$, and $q$, we set the approximation equal to the Taylor series expansion:\n",
        "$$k\\frac{s+p}{s+q} = 1 - sT + \\frac{1}{2}(sT)^2-\\frac{1}{6}(sT)^3...$$\n",
        "\n",
        "Reordering and comparing the coefficients, we get:\n",
        "\n",
        "$ks + kp = s + q - s^2T - qsT + \\frac{1}{2}s^3T^2 + \\frac{1}{2}q(sT)^2...$\n",
        "\n",
        "Order 0: $kp = q$\n",
        "\n",
        "Order 1: $k = 1 - qT$\n",
        "\n",
        "Order 2: $0 = -T + \\frac{1}{2}qT^2$\n",
        "\n",
        "For the first-order approximation, we calculate that:\n",
        "$$q = \\frac{2}{T}$$\n",
        "$$k = -1$$\n",
        "$$p = -\\frac{2}{T}$$\n",
        "\n",
        "Inserting this into our formula, we get:\n",
        "$$e^{-sT}\\approx \\frac{\\frac{2}{T}-s}{\\frac{2}{T}+s}$$\n",
        "\n",
        "This approximation has the advantage that the magnitude is always equal to 1.\n"
      ]
    },
    {
      "cell_type": "code",
      "execution_count": 11,
      "metadata": {
        "colab": {
          "base_uri": "https://localhost:8080/",
          "height": 967,
          "referenced_widgets": [
            "fef0f325213842e1bfeb84772b5dd1fd",
            "814ff32e7e8f4f7db512a11c1a39dfce",
            "c0bc6fa2fc3f4b97b4a3d15341eccd74",
            "aada31b08bd8428383f2271734f23477",
            "fac268f1803b499e83d3e6eabbbe3743",
            "8f2eebf98ead4725b39a67649a74a4b7",
            "11767bd356a84f238952d17ede2a25a2",
            "9cba3a49c07e441f84cd49704ac5d985",
            "cba37c04ea2d4568b2b950c3de0ee3f7",
            "c540eb37219d4ababbdd4b97d77bc267",
            "232bd753609e44eda28bf5bc1ca767da",
            "997dc567c9874c2db8482f4d6bcbc53f",
            "8a63df2668494d4d9e567f5dcb33e695",
            "5ba2449b28de4a3898dca9d7f89db0c6",
            "1d96256e801e4218b2afb15d0a411643",
            "276469e1d4ea43d28a0aabc7ed3fdde1",
            "a04ce9abf04a43e39783e5b275704437",
            "5a873b6aebe949bbbda88f56cc08589c",
            "256af8b77d514471b14a4f9fc904c02f",
            "9ff58f07941b47d0a0b2daf5d7a988d5",
            "018cce24950142b083345acc6828e0c2"
          ]
        },
        "id": "5KuD7ZXAG7k1",
        "outputId": "5cf75f0e-6e8c-4fd4-8711-964e1b582ed6"
      },
      "outputs": [
        {
          "output_type": "display_data",
          "data": {
            "text/plain": [
              "VBox(children=(FloatSlider(value=1.0, continuous_update=False, description='Pade Time Delay (s):', max=2.0, mi…"
            ],
            "application/vnd.jupyter.widget-view+json": {
              "version_major": 2,
              "version_minor": 0,
              "model_id": "9ff58f07941b47d0a0b2daf5d7a988d5"
            }
          },
          "metadata": {}
        },
        {
          "output_type": "display_data",
          "data": {
            "text/plain": [
              "<Figure size 1500x800 with 4 Axes>"
            ],
            "image/png": "[encoded data removed]"
          },
          "metadata": {}
        }
      ],
      "source": [
        "\n",
        "def taylor_series_expansion(T, degree):\n",
        "    numerator_coeffs = []\n",
        "    denominator_coeffs = [1]\n",
        "\n",
        "    for n in range(degree):\n",
        "        coeff = ((-1)**n * (T**n)) / math.factorial(n)\n",
        "        numerator_coeffs.append(coeff)\n",
        "\n",
        "    return numerator_coeffs, denominator_coeffs\n",
        "\n",
        "def bode_plot_with_pade(T, degree, ax1, ax2):\n",
        "    delay_num_pade, delay_den_pade = ct.pade(T, n=degree)\n",
        "    delay_sys_pade = ct.TransferFunction(delay_num_pade, delay_den_pade)\n",
        "\n",
        "    mag_pade, phase_pade, omega_pade = ct.bode_plot(delay_sys_pade, dB=True, deg=True, plot=False)\n",
        "    mag_pade = 20 * np.log10(mag_pade)\n",
        "    phase_pade = np.degrees(phase_pade)\n",
        "\n",
        "    ax1.semilogx(omega_pade, mag_pade, label='Pade Approximation (Magnitude)', linestyle='-')\n",
        "    ax1.set_ylim(-3, 3)\n",
        "    ax1.axhline(0, color='black', linewidth=0.5, linestyle='--')\n",
        "    ax1.set_ylabel('Magnitude (dB)')\n",
        "    ax1.legend(loc='best')\n",
        "    ax1.grid(True, which=\"both\")\n",
        "\n",
        "    ax2.semilogx(omega_pade, phase_pade, label='Pade Approximation (Phase)', linestyle='-')\n",
        "    ax2.axhline(-180, color='black', linewidth=0.5, linestyle='--')\n",
        "    ax2.set_ylabel('Phase (degrees)')\n",
        "    ax2.set_xlabel('Frequency (rad/s)')\n",
        "    ax2.legend(loc='best')\n",
        "    ax2.grid(True, which=\"both\")\n",
        "\n",
        "def bode_plot_with_taylor(T, degree, ax1, ax2):\n",
        "    # Taylor series approximation\n",
        "    num_coeffs_taylor, den_coeffs_taylor = taylor_series_expansion(T, degree)\n",
        "    delay_sys_taylor = ct.TransferFunction(num_coeffs_taylor, den_coeffs_taylor)\n",
        "\n",
        "    mag_taylor, phase_taylor, omega_taylor = ct.bode_plot(delay_sys_taylor, dB=True, deg=True, plot=False)\n",
        "    mag_taylor = 20 * np.log10(mag_taylor)\n",
        "    phase_taylor = np.degrees(phase_taylor)\n",
        "\n",
        "    ax1.semilogx(omega_taylor, mag_taylor, label='Taylor Series Approximation (Magnitude)', linestyle='--')\n",
        "    ax1.axhline(0, color='black', linewidth=0.5, linestyle='--')\n",
        "    ax1.set_ylabel('Magnitude (dB)')\n",
        "    ax1.legend(loc='best')\n",
        "    ax1.grid(True, which=\"both\")\n",
        "\n",
        "    ax2.semilogx(omega_taylor, phase_taylor, label='Taylor Series Approximation (Phase)', linestyle='--')\n",
        "    ax2.axhline(-180, color='black', linewidth=0.5, linestyle='--')\n",
        "    ax2.set_ylabel('Phase (degrees)')\n",
        "    ax2.set_xlabel('Frequency (rad/s)')\n",
        "    ax2.legend(loc='best')\n",
        "    ax2.grid(True, which=\"both\")\n",
        "\n",
        "def update_bode_plot(b):\n",
        "    clear_output(wait=True)\n",
        "    display(widgets.VBox([delay_slider_pade, degree_slider_pade, delay_slider_taylor, degree_slider_taylor, plot_button]))\n",
        "\n",
        "    try:\n",
        "        T_pade = delay_slider_pade.value\n",
        "        degree_pade = int(degree_slider_pade.value)\n",
        "        T_taylor = delay_slider_taylor.value\n",
        "        degree_taylor = int(degree_slider_taylor.value)\n",
        "\n",
        "        fig, (ax1, ax2) = plt.subplots(2, 2, figsize=(15, 8))\n",
        "\n",
        "        bode_plot_with_pade(T_pade, degree_pade, ax1[0], ax2[0])\n",
        "\n",
        "        bode_plot_with_taylor(T_taylor, degree_taylor, ax1[1], ax2[1])\n",
        "\n",
        "        plt.tight_layout()\n",
        "        plt.show()\n",
        "\n",
        "    except ValueError:\n",
        "        print(\"Please enter valid coefficients separated by commas.\")\n",
        "\n",
        "delay_slider_pade = widgets.FloatSlider(\n",
        "    value=1.0,\n",
        "    min=0.01,\n",
        "    max=2.0,\n",
        "    step=0.01,\n",
        "    description='Pade Time Delay (s):',\n",
        "    continuous_update=False\n",
        ")\n",
        "\n",
        "degree_slider_pade = widgets.IntSlider(\n",
        "    value=10,\n",
        "    min=1,\n",
        "    max=20,\n",
        "    step=1,\n",
        "    description='Pade Degree:'\n",
        ")\n",
        "\n",
        "delay_slider_taylor = widgets.FloatSlider(\n",
        "    value=1.0,\n",
        "    min=0.01,\n",
        "    max=2.0,\n",
        "    step=0.01,\n",
        "    description='Taylor Time Delay (s):',\n",
        "    continuous_update=False\n",
        ")\n",
        "\n",
        "degree_slider_taylor = widgets.IntSlider(\n",
        "    value=10,\n",
        "    min=1,\n",
        "    max=20,\n",
        "    step=1,\n",
        "    description='Taylor Degree:'\n",
        ")\n",
        "\n",
        "plot_button = widgets.Button(description=\"Plot Bode\")\n",
        "plot_button.on_click(update_bode_plot)\n",
        "\n",
        "# Display widgets for interaction\n",
        "display(widgets.VBox([delay_slider_pade, degree_slider_pade, delay_slider_taylor, degree_slider_taylor, plot_button]))\n"
      ]
    },
    {
      "cell_type": "markdown",
      "metadata": {
        "id": "nGsiflUeODKM"
      },
      "source": [
        "### Example\n"
      ]
    },
    {
      "cell_type": "markdown",
      "metadata": {
        "id": "L8UsKaU1HFne"
      },
      "source": [
        "\n",
        "We want to use the root locus method to design a controller for our simple $\\frac{1}{s+1}$ system, but we have a delay of 0.5 seconds inside our system. How do we approximate the time delay as a rational function which we can use for the root locus method?\n",
        "\n",
        "First, we calculate the Padeé approximation using the formula we derived before:\n",
        "\n",
        "$$e^{-0.5s} \\approx \\frac{1-0.25s}{1+0.25s}$$\n",
        "\n",
        "Now we modify our plant transfer function to:\n",
        "$$P(s) = \\frac{1-0.25s}{1+0.25s} \\cdot \\frac{1}{s+1}$$\n",
        "\n",
        "and use a proportional controller $C(s) = K_p$.\n",
        "\n",
        "Since the transfer function of the Padeé approximation has a non-minimum phase zero, as we increase our gain, the system can become unstable. Note that this is an approximation.\n"
      ]
    },
    {
      "cell_type": "code",
      "execution_count": null,
      "metadata": {
        "id": "mkGRVLz0SGnj"
      },
      "outputs": [],
      "source": [
        "\n",
        "def plot_root_locus(num, den, time_delay, pade_order):\n",
        "    num = [float(n) for n in num.split(',')]\n",
        "    den = [float(d) for d in den.split(',')]\n",
        "\n",
        "    pade_order = int(pade_order)\n",
        "\n",
        "    plant = ct.TransferFunction(num, den)\n",
        "\n",
        "    pade_num, pade_den = ct.pade(time_delay, pade_order)\n",
        "\n",
        "    pade_transfer_function = ct.TransferFunction(pade_num, pade_den)\n",
        "\n",
        "    system_with_delay = plant * pade_transfer_function\n",
        "\n",
        "    plt.figure(figsize=(8, 6))\n",
        "    ct.root_locus(system_with_delay)\n",
        "    plt.title(f\"Root Locus with Time Delay {time_delay}s and Pade Order {pade_order}\")\n",
        "    plt.show()\n",
        "\n",
        "time_delay_slider = FloatSlider(value=0.5, min=0, max=5, step=0.1, description='Time Delay (s):')\n",
        "pade_order_slider = FloatSlider(value=1, min=1, max=10, step=1, description='Pade Approx Order:')\n",
        "\n",
        "num_input = widgets.Text(value='1', description='Numerator:')\n",
        "den_input = widgets.Text(value='1,1', description='Denominator:')\n",
        "\n",
        "interactive_plot = interactive(plot_root_locus,\n",
        "                               num=num_input,\n",
        "                               den=den_input,\n",
        "                               time_delay=time_delay_slider,\n",
        "                               pade_order=pade_order_slider)\n",
        "\n",
        "display(interactive_plot)\n"
      ]
    },
    {
      "cell_type": "markdown",
      "metadata": {
        "id": "ven_tjHaHFnf"
      },
      "source": [
        "# 2. Cascaded Control: A Deeper Dive\n"
      ]
    },
    {
      "cell_type": "markdown",
      "metadata": {
        "id": "HSZvYjjsHFnf"
      },
      "source": [
        "\n",
        "Cascaded control is a hierarchical control strategy often used in complex systems to achieve better performance and robustness. Instead of using a single control loop to manage all dynamics, cascaded control divides the system into multiple interconnected control loops, typically organized as an **inner loop** and an **outer loop**. Each loop has its specific role, and they work together to maintain system stability and meet performance objectives. This structure allows engineers to address different dynamic behaviors in a controlled and systematic way.\n",
        "\n",
        "In a cascaded control system, the **inner loop** is responsible for controlling faster dynamic processes that are closer to the physical system, such as stabilizing motor speed or force. The **outer loop** operates on slower dynamics and focuses on achieving broader system goals, such as maintaining a desired position or trajectory. This separation of tasks makes cascaded control particularly effective for systems where different parts have distinct time scales of operation. For example, in robotics, the inner loop might control motor torque, while the outer loop adjusts the robot's arm position based on a task requirement.\n",
        "\n"
      ]
    },
    {
      "cell_type": "markdown",
      "metadata": {
        "id": "wdSgtjqVHFnf"
      },
      "source": [
        "\n",
        "## What is Cascaded Control?\n"
      ]
    },
    {
      "cell_type": "markdown",
      "metadata": {
        "id": "lXXknbsuHFnf"
      },
      "source": [
        "\n",
        "At its core, cascaded control organizes control tasks into layers, with each layer addressing specific aspects of the system's dynamics. The inner loop works on stabilizing the plant and reacting to disturbances quickly. For instance, in a speed control system, the inner loop ensures that the motor achieves the desired speed regardless of load variations. The outer loop, on the other hand, determines the reference for the inner loop based on the higher-level goal, such as reaching a specific position or maintaining a desired spacing in adaptive cruise control.\n",
        "\n",
        "One of the defining features of cascaded control is **feedback interconnection**. The outer loop provides a dynamic reference signal to the inner loop, and the inner loop refines its behavior to match this reference. This hierarchical feedback allows the outer loop to operate as if the inner loop is perfectly handling fast dynamics, simplifying its design and improving overall system performance.\n",
        "\n"
      ]
    },
    {
      "cell_type": "markdown",
      "metadata": {
        "id": "SHKaddreHFng"
      },
      "source": [
        "\n",
        "## How Does Cascaded Control Work?\n"
      ]
    },
    {
      "cell_type": "markdown",
      "metadata": {
        "id": "JY7NPo3VHFng"
      },
      "source": [
        "\n",
        "Imagine you are driving a car equipped with adaptive cruise control (ACC). The system's goal is to maintain a safe distance from the car ahead while ensuring your car stays at a comfortable speed. This control problem is naturally divided into two tasks:\n",
        "\n",
        "1. **Inner Loop (Speed Control):** The inner loop adjusts the car's throttle to maintain the desired speed. If the car encounters a hill or additional load, the inner loop quickly increases the throttle to compensate. This loop operates on fast dynamics and directly controls the engine's output.\n",
        "\n",
        "2. **Outer Loop (Distance Control):** The outer loop monitors the distance to the car ahead and adjusts the speed reference for the inner loop to ensure safety. If the car ahead slows down, the outer loop instructs the inner loop to reduce speed accordingly. This loop handles slower dynamics and provides the overarching control objective.\n",
        "\n",
        "This example highlights how cascaded control allows each loop to focus on specific tasks while working in harmony to achieve the overall goal. The inner loop acts as the \"executor,\" rapidly handling disturbances and local dynamics, while the outer loop is the \"strategist,\" setting the direction based on broader objectives.\n",
        "\n"
      ]
    },
    {
      "cell_type": "markdown",
      "metadata": {
        "id": "3_7DrSekHFng"
      },
      "source": [
        "\n",
        "## Design Principles in Cascaded Control\n"
      ]
    },
    {
      "cell_type": "markdown",
      "metadata": {
        "id": "FGOzimrYHFnk"
      },
      "source": [
        "\n",
        "The key to designing a successful cascaded control system lies in **bandwidth separation**. The inner loop must operate much faster than the outer loop, ensuring that it can stabilize fast dynamics before the outer loop intervenes. This separation prevents interference between the loops and allows the system to behave predictably. A general rule of thumb is that the bandwidth of the inner loop should be at least five to ten times greater than the outer loop.\n",
        "\n",
        "To illustrate this, consider a robotic arm with cascaded control. The inner loop might control the torque applied to the motor, ensuring rapid and precise adjustments to stabilize the arm. The outer loop, operating on a slower timescale, focuses on positioning the arm at a desired location. If the inner loop is slow, it might not stabilize the torque quickly enough, leading to delays and inaccuracies in the outer loop's positioning.\n",
        "\n",
        "Another critical aspect of cascaded control is how disturbances are handled. The inner loop is designed to reject disturbances near the plant, such as load changes or unexpected forces, ensuring that the system's fundamental dynamics remain stable. Meanwhile, the outer loop deals with higher-level disturbances, such as changes in the setpoint or external influences that affect the overall control objective."
      ]
    },
    {
      "cell_type": "markdown",
      "metadata": {
        "id": "wmi9pP8kHFnk"
      },
      "source": [
        "\n",
        "## Advantages of Cascaded Control\n"
      ]
    },
    {
      "cell_type": "markdown",
      "metadata": {
        "id": "_ILSDE7NHFnk"
      },
      "source": [
        "\n",
        "Cascaded control offers several advantages that make it a popular choice in engineering systems. First, it improves system performance by dividing responsibilities between the loops. Each loop is optimized for its specific task, allowing for more precise and efficient control. The inner loop's responsiveness ensures that fast disturbances are dealt with quickly, while the outer loop focuses on achieving steady-state accuracy and tracking performance.\n",
        "\n",
        "Second, cascaded control enhances the system's ability to reject disturbances. By having the inner loop directly manage disturbances near the plant, the system can remain stable even under challenging conditions. This layered approach simplifies the design of the outer loop, as it can assume the inner loop is handling these disturbances effectively.\n",
        "\n",
        "Lastly, cascaded control provides a modular design approach. Engineers can design, test, and optimize each loop independently, reducing complexity and making it easier to maintain and upgrade the system. This modularity is especially valuable in systems with changing requirements, as individual loops can be adjusted without overhauling the entire control architecture.\n",
        "\n"
      ]
    },
    {
      "cell_type": "markdown",
      "metadata": {
        "id": "2IL5TW4iHFnk"
      },
      "source": [
        "\n",
        "## Practical Example: Motor Speed and Position Control\n"
      ]
    },
    {
      "cell_type": "markdown",
      "metadata": {
        "id": "wRpD3BdoHFnl"
      },
      "source": [
        "\n",
        "Let’s consider a system where we need to control both the speed and position of a motor. In such a system:\n",
        "\n",
        "- **Inner Loop (Speed Control):** This loop ensures that the motor maintains the desired speed regardless of changes in load or external disturbances. For instance, if the motor is operating under varying torque conditions, the inner loop adjusts the control input to keep the speed stable.\n",
        "  \n",
        "- **Outer Loop (Position Control):** The outer loop provides a higher-level reference to the inner loop, ensuring that the motor reaches the desired position. It adjusts the speed reference to account for overshoot, steady-state error, and trajectory requirements.\n",
        "\n",
        "This layered approach enables the system to respond quickly to disturbances while achieving precise positional control over time."
      ]
    },
    {
      "cell_type": "markdown",
      "metadata": {
        "id": "xR-RdJwVHFnl"
      },
      "source": [
        "\n",
        "## Summary of Cascaded Control\n"
      ]
    },
    {
      "cell_type": "markdown",
      "metadata": {
        "id": "GicUIRccHFnl"
      },
      "source": [
        "\n",
        "Cascaded control is an effective way to manage complex systems with multiple dynamic requirements. By separating the control problem into hierarchical loops, it allows each loop to focus on specific dynamics, leading to better performance and robustness. The inner loop addresses fast, local dynamics, while the outer loop ensures the system meets broader objectives. This structure is widely used in applications like robotics, automotive systems, and industrial processes.\n",
        "\n",
        "In the accompanying interactive notebook, you’ll have the opportunity to design a cascaded control system for a sample plant. By adjusting controller gains and observing the system's response, you’ll gain a deeper understanding of how bandwidth separation and hierarchical feedback influence system performance.\n",
        "\n",
        "---\n"
      ]
    },
    {
      "cell_type": "code",
      "execution_count": null,
      "metadata": {
        "id": "wa8RMeCxHFnl"
      },
      "outputs": [],
      "source": [
        "import numpy as np\n",
        "import ipywidgets as widgets\n",
        "from IPython.display import display, clear_output\n",
        "from control import TransferFunction, feedback, step_response, impulse_response, forced_response, bode\n",
        "\n",
        "import matplotlib.pyplot as plt\n",
        "\n",
        "# Define helper functions\n",
        "def create_pid_controller(kp, ki, kd):\n",
        "    \"\"\"Create a PID controller transfer function.\"\"\"\n",
        "    num = [kd, kp, ki]\n",
        "    den = [1, 0]\n",
        "    return TransferFunction(num, den)\n",
        "\n",
        "def parse_transfer_function(num_str, den_str):\n",
        "    \"\"\"Parse numerator and denominator strings into TransferFunction.\"\"\"\n",
        "    try:\n",
        "        num = [float(x.strip()) for x in num_str.split(',')]\n",
        "        den = [float(x.strip()) for x in den_str.split(',')]\n",
        "        return TransferFunction(num, den)\n",
        "    except Exception as e:\n",
        "        raise ValueError(\"Invalid input. Please provide comma-separated numbers.\")\n",
        "\n",
        "def plot_response(system, response_type, duration=10):\n",
        "    \"\"\"Plot the system response (step, impulse, or ramp).\"\"\"\n",
        "    time = np.linspace(0, duration, 500)\n",
        "    if response_type == 'Step':\n",
        "        t, y = step_response(system, time)\n",
        "    elif response_type == 'Impulse':\n",
        "        t, y = impulse_response(system, time)\n",
        "    elif response_type == 'Ramp':\n",
        "        ramp_input = time\n",
        "        t, y, _ = forced_response(system, time, ramp_input)\n",
        "    else:\n",
        "        raise ValueError(\"Unsupported response type.\")\n",
        "\n",
        "    plt.figure(figsize=(8, 5))\n",
        "    plt.plot(t, y, label=f\"{response_type} Response\")\n",
        "    plt.xlabel(\"Time (s)\")\n",
        "    plt.ylabel(\"Output\")\n",
        "    plt.title(f\"{response_type} Response\")\n",
        "    plt.grid(True)\n",
        "    plt.legend()\n",
        "    plt.show()\n",
        "\n",
        "def plot_bode(system):\n",
        "    \"\"\"Plot the Bode plot of the system.\"\"\"\n",
        "    mag, phase, omega = bode(system, dB=True, plot=False)\n",
        "\n",
        "    plt.figure(figsize=(8, 5))\n",
        "    plt.semilogx(omega, 20 * np.log10(mag), label=\"Magnitude (dB)\")\n",
        "    plt.xlabel(\"Frequency (rad/s)\")\n",
        "    plt.ylabel(\"Magnitude (dB)\")\n",
        "    plt.title(\"Bode Plot: Magnitude\")\n",
        "    plt.grid(True, which=\"both\")\n",
        "    plt.legend()\n",
        "    plt.show()\n",
        "\n",
        "    plt.figure(figsize=(8, 5))\n",
        "    plt.semilogx(omega, phase * 180 / np.pi, label=\"Phase (deg)\")\n",
        "    plt.xlabel(\"Frequency (rad/s)\")\n",
        "    plt.ylabel(\"Phase (degrees)\")\n",
        "    plt.title(\"Bode Plot: Phase\")\n",
        "    plt.grid(True, which=\"both\")\n",
        "    plt.legend()\n",
        "    plt.show()\n",
        "\n",
        "# Interactive tool widgets\n",
        "numerator_input = widgets.Text(\n",
        "    value='1',\n",
        "    placeholder='e.g., 1, 5, 10',\n",
        "    description='Numerator:',\n",
        "    style={'description_width': 'initial'}\n",
        ")\n",
        "\n",
        "denominator_input = widgets.Text(\n",
        "    value='1,2',\n",
        "    placeholder='e.g., 1, 3, 2',\n",
        "    description='Denominator:',\n",
        "    style={'description_width': 'initial'}\n",
        ")\n",
        "\n",
        "kp_outer = widgets.FloatSlider(value=1.0, min=0.0, max=10.0, step=0.1, description='Outer Kp:')\n",
        "ki_outer = widgets.FloatSlider(value=0.0, min=0.0, max=10.0, step=0.1, description='Outer Ki:')\n",
        "kd_outer = widgets.FloatSlider(value=0.0, min=0.0, max=10.0, step=0.1, description='Outer Kd:')\n",
        "\n",
        "kp_inner = widgets.FloatSlider(value=1.0, min=0.0, max=10.0, step=0.1, description='Inner Kp:')\n",
        "ki_inner = widgets.FloatSlider(value=0.0, min=0.0, max=10.0, step=0.1, description='Inner Ki:')\n",
        "kd_inner = widgets.FloatSlider(value=0.0, min=0.0, max=10.0, step=0.1, description='Inner Kd:')\n",
        "\n",
        "response_type = widgets.Dropdown(\n",
        "    options=['Step', 'Impulse', 'Ramp'],\n",
        "    value='Step',\n",
        "    description='Response Type:',\n",
        "    style={'description_width': 'initial'}\n",
        ")\n",
        "\n",
        "duration_input = widgets.FloatText(value=10.0, description='Duration (s):')\n",
        "\n",
        "bode_plot_button = widgets.Checkbox(\n",
        "    value=True,\n",
        "    description='Show Bode Plot',\n",
        "    style={'description_width': 'initial'}\n",
        ")\n",
        "\n",
        "output_area = widgets.Output()\n",
        "\n",
        "# Simulation handler\n",
        "def update_plot(change):\n",
        "    with output_area:\n",
        "        clear_output(wait=True)\n",
        "        try:\n",
        "            # Parse plant transfer function\n",
        "            plant = parse_transfer_function(numerator_input.value, denominator_input.value)\n",
        "\n",
        "            # Create PID controllers\n",
        "            outer_pid = create_pid_controller(kp_outer.value, ki_outer.value, kd_outer.value)\n",
        "            inner_pid = create_pid_controller(kp_inner.value, ki_inner.value, kd_inner.value)\n",
        "\n",
        "            # Inner loop\n",
        "            inner_loop = feedback(inner_pid * plant, 1)\n",
        "\n",
        "            # Outer loop\n",
        "            cascaded_system = feedback(outer_pid * inner_loop, 1)\n",
        "\n",
        "            # Plot chosen response\n",
        "            plot_response(cascaded_system, response_type.value, duration=duration_input.value)\n",
        "\n",
        "            # Optionally show Bode plot\n",
        "            if bode_plot_button.value:\n",
        "                plot_bode(cascaded_system)\n",
        "\n",
        "        except ValueError as ve:\n",
        "            print(f\"Error: {ve}\")\n",
        "        except Exception as e:\n",
        "            print(f\"Unexpected error: {e}\")\n",
        "\n",
        "# Attach update function to sliders\n",
        "kp_outer.observe(update_plot, names='value')\n",
        "ki_outer.observe(update_plot, names='value')\n",
        "kd_outer.observe(update_plot, names='value')\n",
        "kp_inner.observe(update_plot, names='value')\n",
        "ki_inner.observe(update_plot, names='value')\n",
        "kd_inner.observe(update_plot, names='value')\n",
        "response_type.observe(update_plot, names='value')\n",
        "duration_input.observe(update_plot, names='value')\n",
        "bode_plot_button.observe(update_plot, names='value')\n",
        "\n",
        "# Display widgets\n",
        "display(widgets.VBox([\n",
        "    widgets.Label(value=\"Cascaded Control System with PID Controllers\"),\n",
        "    numerator_input,\n",
        "    denominator_input,\n",
        "    widgets.Label(value=\"Outer Loop PID Controller Parameters\"),\n",
        "    kp_outer, ki_outer, kd_outer,\n",
        "    widgets.Label(value=\"Inner Loop PID Controller Parameters\"),\n",
        "    kp_inner, ki_inner, kd_inner,\n",
        "    response_type, duration_input, bode_plot_button,\n",
        "    output_area\n",
        "]))\n",
        "\n",
        "# Initial plot\n",
        "update_plot(None)"
      ]
    }
  ],
  "metadata": {
    "colab": {
      "provenance": []
    },
    "kernelspec": {
      "display_name": "venv",
      "language": "python",
      "name": "python3"
    },
    "language_info": {
      "codemirror_mode": {
        "name": "ipython",
        "version": 3
      },
      "file_extension": ".py",
      "mimetype": "text/x-python",
      "name": "python",
      "nbconvert_exporter": "python",
      "pygments_lexer": "ipython3",
      "version": "3.12.7"
    },
    "widgets": {
      "application/vnd.jupyter.widget-state+json": {
        "348bfbfd9ddf456488cc8a81f8e786d2": {
          "model_module": "@jupyter-widgets/controls",
          "model_name": "TextModel",
          "model_module_version": "1.5.0",
          "state": {
            "_dom_classes": [],
            "_model_module": "@jupyter-widgets/controls",
            "_model_module_version": "1.5.0",
            "_model_name": "TextModel",
            "_view_count": null,
            "_view_module": "@jupyter-widgets/controls",
            "_view_module_version": "1.5.0",
            "_view_name": "TextView",
            "continuous_update": true,
            "description": "Numerator:",
            "description_tooltip": null,
            "disabled": false,
            "layout": "IPY_MODEL_bcb3da2f374c4f608e3e9e14d0f55c54",
            "placeholder": "Enter coefficients separated by commas",
            "style": "IPY_MODEL_214710459df346e5a491004cc523447d",
            "value": "1, 1"
          }
        },
        "bcb3da2f374c4f608e3e9e14d0f55c54": {
          "model_module": "@jupyter-widgets/base",
          "model_name": "LayoutModel",
          "model_module_version": "1.2.0",
          "state": {
            "_model_module": "@jupyter-widgets/base",
            "_model_module_version": "1.2.0",
            "_model_name": "LayoutModel",
            "_view_count": null,
            "_view_module": "@jupyter-widgets/base",
            "_view_module_version": "1.2.0",
            "_view_name": "LayoutView",
            "align_content": null,
            "align_items": null,
            "align_self": null,
            "border": null,
            "bottom": null,
            "display": null,
            "flex": null,
            "flex_flow": null,
            "grid_area": null,
            "grid_auto_columns": null,
            "grid_auto_flow": null,
            "grid_auto_rows": null,
            "grid_column": null,
            "grid_gap": null,
            "grid_row": null,
            "grid_template_areas": null,
            "grid_template_columns": null,
            "grid_template_rows": null,
            "height": null,
            "justify_content": null,
            "justify_items": null,
            "left": null,
            "margin": null,
            "max_height": null,
            "max_width": null,
            "min_height": null,
            "min_width": null,
            "object_fit": null,
            "object_position": null,
            "order": null,
            "overflow": null,
            "overflow_x": null,
            "overflow_y": null,
            "padding": null,
            "right": null,
            "top": null,
            "visibility": null,
            "width": null
          }
        },
        "214710459df346e5a491004cc523447d": {
          "model_module": "@jupyter-widgets/controls",
          "model_name": "DescriptionStyleModel",
          "model_module_version": "1.5.0",
          "state": {
            "_model_module": "@jupyter-widgets/controls",
            "_model_module_version": "1.5.0",
            "_model_name": "DescriptionStyleModel",
            "_view_count": null,
            "_view_module": "@jupyter-widgets/base",
            "_view_module_version": "1.2.0",
            "_view_name": "StyleView",
            "description_width": ""
          }
        },
        "206b9c1ae89f47669780be5491fb845e": {
          "model_module": "@jupyter-widgets/controls",
          "model_name": "TextModel",
          "model_module_version": "1.5.0",
          "state": {
            "_dom_classes": [],
            "_model_module": "@jupyter-widgets/controls",
            "_model_module_version": "1.5.0",
            "_model_name": "TextModel",
            "_view_count": null,
            "_view_module": "@jupyter-widgets/controls",
            "_view_module_version": "1.5.0",
            "_view_name": "TextView",
            "continuous_update": true,
            "description": "Denominator:",
            "description_tooltip": null,
            "disabled": false,
            "layout": "IPY_MODEL_cc203e7310d046eea8248ed4bcfcde89",
            "placeholder": "Enter coefficients separated by commas",
            "style": "IPY_MODEL_0326acee1f0043ea9cec2c83a70d7a02",
            "value": "1, 2, 1"
          }
        },
        "cc203e7310d046eea8248ed4bcfcde89": {
          "model_module": "@jupyter-widgets/base",
          "model_name": "LayoutModel",
          "model_module_version": "1.2.0",
          "state": {
            "_model_module": "@jupyter-widgets/base",
            "_model_module_version": "1.2.0",
            "_model_name": "LayoutModel",
            "_view_count": null,
            "_view_module": "@jupyter-widgets/base",
            "_view_module_version": "1.2.0",
            "_view_name": "LayoutView",
            "align_content": null,
            "align_items": null,
            "align_self": null,
            "border": null,
            "bottom": null,
            "display": null,
            "flex": null,
            "flex_flow": null,
            "grid_area": null,
            "grid_auto_columns": null,
            "grid_auto_flow": null,
            "grid_auto_rows": null,
            "grid_column": null,
            "grid_gap": null,
            "grid_row": null,
            "grid_template_areas": null,
            "grid_template_columns": null,
            "grid_template_rows": null,
            "height": null,
            "justify_content": null,
            "justify_items": null,
            "left": null,
            "margin": null,
            "max_height": null,
            "max_width": null,
            "min_height": null,
            "min_width": null,
            "object_fit": null,
            "object_position": null,
            "order": null,
            "overflow": null,
            "overflow_x": null,
            "overflow_y": null,
            "padding": null,
            "right": null,
            "top": null,
            "visibility": null,
            "width": null
          }
        },
        "0326acee1f0043ea9cec2c83a70d7a02": {
          "model_module": "@jupyter-widgets/controls",
          "model_name": "DescriptionStyleModel",
          "model_module_version": "1.5.0",
          "state": {
            "_model_module": "@jupyter-widgets/controls",
            "_model_module_version": "1.5.0",
            "_model_name": "DescriptionStyleModel",
            "_view_count": null,
            "_view_module": "@jupyter-widgets/base",
            "_view_module_version": "1.2.0",
            "_view_name": "StyleView",
            "description_width": ""
          }
        },
        "4d65307de33a4135b6b17b6c50a1dd8a": {
          "model_module": "@jupyter-widgets/controls",
          "model_name": "FloatSliderModel",
          "model_module_version": "1.5.0",
          "state": {
            "_dom_classes": [],
            "_model_module": "@jupyter-widgets/controls",
            "_model_module_version": "1.5.0",
            "_model_name": "FloatSliderModel",
            "_view_count": null,
            "_view_module": "@jupyter-widgets/controls",
            "_view_module_version": "1.5.0",
            "_view_name": "FloatSliderView",
            "continuous_update": false,
            "description": "Time Delay (s):",
            "description_tooltip": null,
            "disabled": false,
            "layout": "IPY_MODEL_82eabe644ed042d9b1fff3adf81a893e",
            "max": 5,
            "min": 0,
            "orientation": "horizontal",
            "readout": true,
            "readout_format": ".2f",
            "step": 0.01,
            "style": "IPY_MODEL_51f08c5e27f842dd972042fcf8e10c29",
            "value": 0.1
          }
        },
        "82eabe644ed042d9b1fff3adf81a893e": {
          "model_module": "@jupyter-widgets/base",
          "model_name": "LayoutModel",
          "model_module_version": "1.2.0",
          "state": {
            "_model_module": "@jupyter-widgets/base",
            "_model_module_version": "1.2.0",
            "_model_name": "LayoutModel",
            "_view_count": null,
            "_view_module": "@jupyter-widgets/base",
            "_view_module_version": "1.2.0",
            "_view_name": "LayoutView",
            "align_content": null,
            "align_items": null,
            "align_self": null,
            "border": null,
            "bottom": null,
            "display": null,
            "flex": null,
            "flex_flow": null,
            "grid_area": null,
            "grid_auto_columns": null,
            "grid_auto_flow": null,
            "grid_auto_rows": null,
            "grid_column": null,
            "grid_gap": null,
            "grid_row": null,
            "grid_template_areas": null,
            "grid_template_columns": null,
            "grid_template_rows": null,
            "height": null,
            "justify_content": null,
            "justify_items": null,
            "left": null,
            "margin": null,
            "max_height": null,
            "max_width": null,
            "min_height": null,
            "min_width": null,
            "object_fit": null,
            "object_position": null,
            "order": null,
            "overflow": null,
            "overflow_x": null,
            "overflow_y": null,
            "padding": null,
            "right": null,
            "top": null,
            "visibility": null,
            "width": null
          }
        },
        "51f08c5e27f842dd972042fcf8e10c29": {
          "model_module": "@jupyter-widgets/controls",
          "model_name": "SliderStyleModel",
          "model_module_version": "1.5.0",
          "state": {
            "_model_module": "@jupyter-widgets/controls",
            "_model_module_version": "1.5.0",
            "_model_name": "SliderStyleModel",
            "_view_count": null,
            "_view_module": "@jupyter-widgets/base",
            "_view_module_version": "1.2.0",
            "_view_name": "StyleView",
            "description_width": "",
            "handle_color": null
          }
        },
        "84da7596016344d88e390bc4c016462b": {
          "model_module": "@jupyter-widgets/controls",
          "model_name": "ButtonModel",
          "model_module_version": "1.5.0",
          "state": {
            "_dom_classes": [],
            "_model_module": "@jupyter-widgets/controls",
            "_model_module_version": "1.5.0",
            "_model_name": "ButtonModel",
            "_view_count": null,
            "_view_module": "@jupyter-widgets/controls",
            "_view_module_version": "1.5.0",
            "_view_name": "ButtonView",
            "button_style": "success",
            "description": "Generate Nyquist Plots",
            "disabled": false,
            "icon": "",
            "layout": "IPY_MODEL_309bec1e484b4d04834a6c6c111343ab",
            "style": "IPY_MODEL_d35f67c7a1b54d21a95b31ab25081e42",
            "tooltip": "Click to generate Nyquist plots for the system"
          }
        },
        "309bec1e484b4d04834a6c6c111343ab": {
          "model_module": "@jupyter-widgets/base",
          "model_name": "LayoutModel",
          "model_module_version": "1.2.0",
          "state": {
            "_model_module": "@jupyter-widgets/base",
            "_model_module_version": "1.2.0",
            "_model_name": "LayoutModel",
            "_view_count": null,
            "_view_module": "@jupyter-widgets/base",
            "_view_module_version": "1.2.0",
            "_view_name": "LayoutView",
            "align_content": null,
            "align_items": null,
            "align_self": null,
            "border": null,
            "bottom": null,
            "display": null,
            "flex": null,
            "flex_flow": null,
            "grid_area": null,
            "grid_auto_columns": null,
            "grid_auto_flow": null,
            "grid_auto_rows": null,
            "grid_column": null,
            "grid_gap": null,
            "grid_row": null,
            "grid_template_areas": null,
            "grid_template_columns": null,
            "grid_template_rows": null,
            "height": null,
            "justify_content": null,
            "justify_items": null,
            "left": null,
            "margin": null,
            "max_height": null,
            "max_width": null,
            "min_height": null,
            "min_width": null,
            "object_fit": null,
            "object_position": null,
            "order": null,
            "overflow": null,
            "overflow_x": null,
            "overflow_y": null,
            "padding": null,
            "right": null,
            "top": null,
            "visibility": null,
            "width": null
          }
        },
        "d35f67c7a1b54d21a95b31ab25081e42": {
          "model_module": "@jupyter-widgets/controls",
          "model_name": "ButtonStyleModel",
          "model_module_version": "1.5.0",
          "state": {
            "_model_module": "@jupyter-widgets/controls",
            "_model_module_version": "1.5.0",
            "_model_name": "ButtonStyleModel",
            "_view_count": null,
            "_view_module": "@jupyter-widgets/base",
            "_view_module_version": "1.2.0",
            "_view_name": "StyleView",
            "button_color": null,
            "font_weight": ""
          }
        },
        "ce60e3321d554305ad958f425168c020": {
          "model_module": "@jupyter-widgets/output",
          "model_name": "OutputModel",
          "model_module_version": "1.0.0",
          "state": {
            "_dom_classes": [],
            "_model_module": "@jupyter-widgets/output",
            "_model_module_version": "1.0.0",
            "_model_name": "OutputModel",
            "_view_count": null,
            "_view_module": "@jupyter-widgets/output",
            "_view_module_version": "1.0.0",
            "_view_name": "OutputView",
            "layout": "IPY_MODEL_e539f5937c40453aa1e0473b6060bc37",
            "msg_id": "",
            "outputs": [
              {
                "output_type": "display_data",
                "data": {
                  "text/plain": "<Figure size 1000x600 with 1 Axes>",
                  "image/png": "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\n"
                },
                "metadata": {}
              }
            ]
          }
        },
        "e539f5937c40453aa1e0473b6060bc37": {
          "model_module": "@jupyter-widgets/base",
          "model_name": "LayoutModel",
          "model_module_version": "1.2.0",
          "state": {
            "_model_module": "@jupyter-widgets/base",
            "_model_module_version": "1.2.0",
            "_model_name": "LayoutModel",
            "_view_count": null,
            "_view_module": "@jupyter-widgets/base",
            "_view_module_version": "1.2.0",
            "_view_name": "LayoutView",
            "align_content": null,
            "align_items": null,
            "align_self": null,
            "border": null,
            "bottom": null,
            "display": null,
            "flex": null,
            "flex_flow": null,
            "grid_area": null,
            "grid_auto_columns": null,
            "grid_auto_flow": null,
            "grid_auto_rows": null,
            "grid_column": null,
            "grid_gap": null,
            "grid_row": null,
            "grid_template_areas": null,
            "grid_template_columns": null,
            "grid_template_rows": null,
            "height": null,
            "justify_content": null,
            "justify_items": null,
            "left": null,
            "margin": null,
            "max_height": null,
            "max_width": null,
            "min_height": null,
            "min_width": null,
            "object_fit": null,
            "object_position": null,
            "order": null,
            "overflow": null,
            "overflow_x": null,
            "overflow_y": null,
            "padding": null,
            "right": null,
            "top": null,
            "visibility": null,
            "width": null
          }
        },
        "fef0f325213842e1bfeb84772b5dd1fd": {
          "model_module": "@jupyter-widgets/controls",
          "model_name": "VBoxModel",
          "model_module_version": "1.5.0",
          "state": {
            "_dom_classes": [],
            "_model_module": "@jupyter-widgets/controls",
            "_model_module_version": "1.5.0",
            "_model_name": "VBoxModel",
            "_view_count": null,
            "_view_module": "@jupyter-widgets/controls",
            "_view_module_version": "1.5.0",
            "_view_name": "VBoxView",
            "box_style": "",
            "children": [
              "IPY_MODEL_814ff32e7e8f4f7db512a11c1a39dfce",
              "IPY_MODEL_c0bc6fa2fc3f4b97b4a3d15341eccd74",
              "IPY_MODEL_aada31b08bd8428383f2271734f23477",
              "IPY_MODEL_fac268f1803b499e83d3e6eabbbe3743",
              "IPY_MODEL_8f2eebf98ead4725b39a67649a74a4b7"
            ],
            "layout": "IPY_MODEL_11767bd356a84f238952d17ede2a25a2"
          }
        },
        "814ff32e7e8f4f7db512a11c1a39dfce": {
          "model_module": "@jupyter-widgets/controls",
          "model_name": "FloatSliderModel",
          "model_module_version": "1.5.0",
          "state": {
            "_dom_classes": [],
            "_model_module": "@jupyter-widgets/controls",
            "_model_module_version": "1.5.0",
            "_model_name": "FloatSliderModel",
            "_view_count": null,
            "_view_module": "@jupyter-widgets/controls",
            "_view_module_version": "1.5.0",
            "_view_name": "FloatSliderView",
            "continuous_update": false,
            "description": "Pade Time Delay (s):",
            "description_tooltip": null,
            "disabled": false,
            "layout": "IPY_MODEL_9cba3a49c07e441f84cd49704ac5d985",
            "max": 2,
            "min": 0.01,
            "orientation": "horizontal",
            "readout": true,
            "readout_format": ".2f",
            "step": 0.01,
            "style": "IPY_MODEL_cba37c04ea2d4568b2b950c3de0ee3f7",
            "value": 1
          }
        },
        "c0bc6fa2fc3f4b97b4a3d15341eccd74": {
          "model_module": "@jupyter-widgets/controls",
          "model_name": "IntSliderModel",
          "model_module_version": "1.5.0",
          "state": {
            "_dom_classes": [],
            "_model_module": "@jupyter-widgets/controls",
            "_model_module_version": "1.5.0",
            "_model_name": "IntSliderModel",
            "_view_count": null,
            "_view_module": "@jupyter-widgets/controls",
            "_view_module_version": "1.5.0",
            "_view_name": "IntSliderView",
            "continuous_update": true,
            "description": "Pade Degree:",
            "description_tooltip": null,
            "disabled": false,
            "layout": "IPY_MODEL_c540eb37219d4ababbdd4b97d77bc267",
            "max": 20,
            "min": 1,
            "orientation": "horizontal",
            "readout": true,
            "readout_format": "d",
            "step": 1,
            "style": "IPY_MODEL_232bd753609e44eda28bf5bc1ca767da",
            "value": 10
          }
        },
        "aada31b08bd8428383f2271734f23477": {
          "model_module": "@jupyter-widgets/controls",
          "model_name": "FloatSliderModel",
          "model_module_version": "1.5.0",
          "state": {
            "_dom_classes": [],
            "_model_module": "@jupyter-widgets/controls",
            "_model_module_version": "1.5.0",
            "_model_name": "FloatSliderModel",
            "_view_count": null,
            "_view_module": "@jupyter-widgets/controls",
            "_view_module_version": "1.5.0",
            "_view_name": "FloatSliderView",
            "continuous_update": false,
            "description": "Taylor Time Delay (s):",
            "description_tooltip": null,
            "disabled": false,
            "layout": "IPY_MODEL_997dc567c9874c2db8482f4d6bcbc53f",
            "max": 2,
            "min": 0.01,
            "orientation": "horizontal",
            "readout": true,
            "readout_format": ".2f",
            "step": 0.01,
            "style": "IPY_MODEL_8a63df2668494d4d9e567f5dcb33e695",
            "value": 1
          }
        },
        "fac268f1803b499e83d3e6eabbbe3743": {
          "model_module": "@jupyter-widgets/controls",
          "model_name": "IntSliderModel",
          "model_module_version": "1.5.0",
          "state": {
            "_dom_classes": [],
            "_model_module": "@jupyter-widgets/controls",
            "_model_module_version": "1.5.0",
            "_model_name": "IntSliderModel",
            "_view_count": null,
            "_view_module": "@jupyter-widgets/controls",
            "_view_module_version": "1.5.0",
            "_view_name": "IntSliderView",
            "continuous_update": true,
            "description": "Taylor Degree:",
            "description_tooltip": null,
            "disabled": false,
            "layout": "IPY_MODEL_5ba2449b28de4a3898dca9d7f89db0c6",
            "max": 20,
            "min": 1,
            "orientation": "horizontal",
            "readout": true,
            "readout_format": "d",
            "step": 1,
            "style": "IPY_MODEL_1d96256e801e4218b2afb15d0a411643",
            "value": 10
          }
        },
        "8f2eebf98ead4725b39a67649a74a4b7": {
          "model_module": "@jupyter-widgets/controls",
          "model_name": "ButtonModel",
          "model_module_version": "1.5.0",
          "state": {
            "_dom_classes": [],
            "_model_module": "@jupyter-widgets/controls",
            "_model_module_version": "1.5.0",
            "_model_name": "ButtonModel",
            "_view_count": null,
            "_view_module": "@jupyter-widgets/controls",
            "_view_module_version": "1.5.0",
            "_view_name": "ButtonView",
            "button_style": "",
            "description": "Plot Bode",
            "disabled": false,
            "icon": "",
            "layout": "IPY_MODEL_276469e1d4ea43d28a0aabc7ed3fdde1",
            "style": "IPY_MODEL_a04ce9abf04a43e39783e5b275704437",
            "tooltip": ""
          }
        },
        "11767bd356a84f238952d17ede2a25a2": {
          "model_module": "@jupyter-widgets/base",
          "model_name": "LayoutModel",
          "model_module_version": "1.2.0",
          "state": {
            "_model_module": "@jupyter-widgets/base",
            "_model_module_version": "1.2.0",
            "_model_name": "LayoutModel",
            "_view_count": null,
            "_view_module": "@jupyter-widgets/base",
            "_view_module_version": "1.2.0",
            "_view_name": "LayoutView",
            "align_content": null,
            "align_items": null,
            "align_self": null,
            "border": null,
            "bottom": null,
            "display": null,
            "flex": null,
            "flex_flow": null,
            "grid_area": null,
            "grid_auto_columns": null,
            "grid_auto_flow": null,
            "grid_auto_rows": null,
            "grid_column": null,
            "grid_gap": null,
            "grid_row": null,
            "grid_template_areas": null,
            "grid_template_columns": null,
            "grid_template_rows": null,
            "height": null,
            "justify_content": null,
            "justify_items": null,
            "left": null,
            "margin": null,
            "max_height": null,
            "max_width": null,
            "min_height": null,
            "min_width": null,
            "object_fit": null,
            "object_position": null,
            "order": null,
            "overflow": null,
            "overflow_x": null,
            "overflow_y": null,
            "padding": null,
            "right": null,
            "top": null,
            "visibility": null,
            "width": null
          }
        },
        "9cba3a49c07e441f84cd49704ac5d985": {
          "model_module": "@jupyter-widgets/base",
          "model_name": "LayoutModel",
          "model_module_version": "1.2.0",
          "state": {
            "_model_module": "@jupyter-widgets/base",
            "_model_module_version": "1.2.0",
            "_model_name": "LayoutModel",
            "_view_count": null,
            "_view_module": "@jupyter-widgets/base",
            "_view_module_version": "1.2.0",
            "_view_name": "LayoutView",
            "align_content": null,
            "align_items": null,
            "align_self": null,
            "border": null,
            "bottom": null,
            "display": null,
            "flex": null,
            "flex_flow": null,
            "grid_area": null,
            "grid_auto_columns": null,
            "grid_auto_flow": null,
            "grid_auto_rows": null,
            "grid_column": null,
            "grid_gap": null,
            "grid_row": null,
            "grid_template_areas": null,
            "grid_template_columns": null,
            "grid_template_rows": null,
            "height": null,
            "justify_content": null,
            "justify_items": null,
            "left": null,
            "margin": null,
            "max_height": null,
            "max_width": null,
            "min_height": null,
            "min_width": null,
            "object_fit": null,
            "object_position": null,
            "order": null,
            "overflow": null,
            "overflow_x": null,
            "overflow_y": null,
            "padding": null,
            "right": null,
            "top": null,
            "visibility": null,
            "width": null
          }
        },
        "cba37c04ea2d4568b2b950c3de0ee3f7": {
          "model_module": "@jupyter-widgets/controls",
          "model_name": "SliderStyleModel",
          "model_module_version": "1.5.0",
          "state": {
            "_model_module": "@jupyter-widgets/controls",
            "_model_module_version": "1.5.0",
            "_model_name": "SliderStyleModel",
            "_view_count": null,
            "_view_module": "@jupyter-widgets/base",
            "_view_module_version": "1.2.0",
            "_view_name": "StyleView",
            "description_width": "",
            "handle_color": null
          }
        },
        "c540eb37219d4ababbdd4b97d77bc267": {
          "model_module": "@jupyter-widgets/base",
          "model_name": "LayoutModel",
          "model_module_version": "1.2.0",
          "state": {
            "_model_module": "@jupyter-widgets/base",
            "_model_module_version": "1.2.0",
            "_model_name": "LayoutModel",
            "_view_count": null,
            "_view_module": "@jupyter-widgets/base",
            "_view_module_version": "1.2.0",
            "_view_name": "LayoutView",
            "align_content": null,
            "align_items": null,
            "align_self": null,
            "border": null,
            "bottom": null,
            "display": null,
            "flex": null,
            "flex_flow": null,
            "grid_area": null,
            "grid_auto_columns": null,
            "grid_auto_flow": null,
            "grid_auto_rows": null,
            "grid_column": null,
            "grid_gap": null,
            "grid_row": null,
            "grid_template_areas": null,
            "grid_template_columns": null,
            "grid_template_rows": null,
            "height": null,
            "justify_content": null,
            "justify_items": null,
            "left": null,
            "margin": null,
            "max_height": null,
            "max_width": null,
            "min_height": null,
            "min_width": null,
            "object_fit": null,
            "object_position": null,
            "order": null,
            "overflow": null,
            "overflow_x": null,
            "overflow_y": null,
            "padding": null,
            "right": null,
            "top": null,
            "visibility": null,
            "width": null
          }
        },
        "232bd753609e44eda28bf5bc1ca767da": {
          "model_module": "@jupyter-widgets/controls",
          "model_name": "SliderStyleModel",
          "model_module_version": "1.5.0",
          "state": {
            "_model_module": "@jupyter-widgets/controls",
            "_model_module_version": "1.5.0",
            "_model_name": "SliderStyleModel",
            "_view_count": null,
            "_view_module": "@jupyter-widgets/base",
            "_view_module_version": "1.2.0",
            "_view_name": "StyleView",
            "description_width": "",
            "handle_color": null
          }
        },
        "997dc567c9874c2db8482f4d6bcbc53f": {
          "model_module": "@jupyter-widgets/base",
          "model_name": "LayoutModel",
          "model_module_version": "1.2.0",
          "state": {
            "_model_module": "@jupyter-widgets/base",
            "_model_module_version": "1.2.0",
            "_model_name": "LayoutModel",
            "_view_count": null,
            "_view_module": "@jupyter-widgets/base",
            "_view_module_version": "1.2.0",
            "_view_name": "LayoutView",
            "align_content": null,
            "align_items": null,
            "align_self": null,
            "border": null,
            "bottom": null,
            "display": null,
            "flex": null,
            "flex_flow": null,
            "grid_area": null,
            "grid_auto_columns": null,
            "grid_auto_flow": null,
            "grid_auto_rows": null,
            "grid_column": null,
            "grid_gap": null,
            "grid_row": null,
            "grid_template_areas": null,
            "grid_template_columns": null,
            "grid_template_rows": null,
            "height": null,
            "justify_content": null,
            "justify_items": null,
            "left": null,
            "margin": null,
            "max_height": null,
            "max_width": null,
            "min_height": null,
            "min_width": null,
            "object_fit": null,
            "object_position": null,
            "order": null,
            "overflow": null,
            "overflow_x": null,
            "overflow_y": null,
            "padding": null,
            "right": null,
            "top": null,
            "visibility": null,
            "width": null
          }
        },
        "8a63df2668494d4d9e567f5dcb33e695": {
          "model_module": "@jupyter-widgets/controls",
          "model_name": "SliderStyleModel",
          "model_module_version": "1.5.0",
          "state": {
            "_model_module": "@jupyter-widgets/controls",
            "_model_module_version": "1.5.0",
            "_model_name": "SliderStyleModel",
            "_view_count": null,
            "_view_module": "@jupyter-widgets/base",
            "_view_module_version": "1.2.0",
            "_view_name": "StyleView",
            "description_width": "",
            "handle_color": null
          }
        },
        "5ba2449b28de4a3898dca9d7f89db0c6": {
          "model_module": "@jupyter-widgets/base",
          "model_name": "LayoutModel",
          "model_module_version": "1.2.0",
          "state": {
            "_model_module": "@jupyter-widgets/base",
            "_model_module_version": "1.2.0",
            "_model_name": "LayoutModel",
            "_view_count": null,
            "_view_module": "@jupyter-widgets/base",
            "_view_module_version": "1.2.0",
            "_view_name": "LayoutView",
            "align_content": null,
            "align_items": null,
            "align_self": null,
            "border": null,
            "bottom": null,
            "display": null,
            "flex": null,
            "flex_flow": null,
            "grid_area": null,
            "grid_auto_columns": null,
            "grid_auto_flow": null,
            "grid_auto_rows": null,
            "grid_column": null,
            "grid_gap": null,
            "grid_row": null,
            "grid_template_areas": null,
            "grid_template_columns": null,
            "grid_template_rows": null,
            "height": null,
            "justify_content": null,
            "justify_items": null,
            "left": null,
            "margin": null,
            "max_height": null,
            "max_width": null,
            "min_height": null,
            "min_width": null,
            "object_fit": null,
            "object_position": null,
            "order": null,
            "overflow": null,
            "overflow_x": null,
            "overflow_y": null,
            "padding": null,
            "right": null,
            "top": null,
            "visibility": null,
            "width": null
          }
        },
        "1d96256e801e4218b2afb15d0a411643": {
          "model_module": "@jupyter-widgets/controls",
          "model_name": "SliderStyleModel",
          "model_module_version": "1.5.0",
          "state": {
            "_model_module": "@jupyter-widgets/controls",
            "_model_module_version": "1.5.0",
            "_model_name": "SliderStyleModel",
            "_view_count": null,
            "_view_module": "@jupyter-widgets/base",
            "_view_module_version": "1.2.0",
            "_view_name": "StyleView",
            "description_width": "",
            "handle_color": null
          }
        },
        "276469e1d4ea43d28a0aabc7ed3fdde1": {
          "model_module": "@jupyter-widgets/base",
          "model_name": "LayoutModel",
          "model_module_version": "1.2.0",
          "state": {
            "_model_module": "@jupyter-widgets/base",
            "_model_module_version": "1.2.0",
            "_model_name": "LayoutModel",
            "_view_count": null,
            "_view_module": "@jupyter-widgets/base",
            "_view_module_version": "1.2.0",
            "_view_name": "LayoutView",
            "align_content": null,
            "align_items": null,
            "align_self": null,
            "border": null,
            "bottom": null,
            "display": null,
            "flex": null,
            "flex_flow": null,
            "grid_area": null,
            "grid_auto_columns": null,
            "grid_auto_flow": null,
            "grid_auto_rows": null,
            "grid_column": null,
            "grid_gap": null,
            "grid_row": null,
            "grid_template_areas": null,
            "grid_template_columns": null,
            "grid_template_rows": null,
            "height": null,
            "justify_content": null,
            "justify_items": null,
            "left": null,
            "margin": null,
            "max_height": null,
            "max_width": null,
            "min_height": null,
            "min_width": null,
            "object_fit": null,
            "object_position": null,
            "order": null,
            "overflow": null,
            "overflow_x": null,
            "overflow_y": null,
            "padding": null,
            "right": null,
            "top": null,
            "visibility": null,
            "width": null
          }
        },
        "a04ce9abf04a43e39783e5b275704437": {
          "model_module": "@jupyter-widgets/controls",
          "model_name": "ButtonStyleModel",
          "model_module_version": "1.5.0",
          "state": {
            "_model_module": "@jupyter-widgets/controls",
            "_model_module_version": "1.5.0",
            "_model_name": "ButtonStyleModel",
            "_view_count": null,
            "_view_module": "@jupyter-widgets/base",
            "_view_module_version": "1.2.0",
            "_view_name": "StyleView",
            "button_color": null,
            "font_weight": ""
          }
        },
        "5a873b6aebe949bbbda88f56cc08589c": {
          "model_module": "@jupyter-widgets/controls",
          "model_name": "VBoxModel",
          "model_module_version": "1.5.0",
          "state": {
            "_dom_classes": [],
            "_model_module": "@jupyter-widgets/controls",
            "_model_module_version": "1.5.0",
            "_model_name": "VBoxModel",
            "_view_count": null,
            "_view_module": "@jupyter-widgets/controls",
            "_view_module_version": "1.5.0",
            "_view_name": "VBoxView",
            "box_style": "",
            "children": [
              "IPY_MODEL_814ff32e7e8f4f7db512a11c1a39dfce",
              "IPY_MODEL_c0bc6fa2fc3f4b97b4a3d15341eccd74",
              "IPY_MODEL_aada31b08bd8428383f2271734f23477",
              "IPY_MODEL_fac268f1803b499e83d3e6eabbbe3743",
              "IPY_MODEL_8f2eebf98ead4725b39a67649a74a4b7"
            ],
            "layout": "IPY_MODEL_256af8b77d514471b14a4f9fc904c02f"
          }
        },
        "256af8b77d514471b14a4f9fc904c02f": {
          "model_module": "@jupyter-widgets/base",
          "model_name": "LayoutModel",
          "model_module_version": "1.2.0",
          "state": {
            "_model_module": "@jupyter-widgets/base",
            "_model_module_version": "1.2.0",
            "_model_name": "LayoutModel",
            "_view_count": null,
            "_view_module": "@jupyter-widgets/base",
            "_view_module_version": "1.2.0",
            "_view_name": "LayoutView",
            "align_content": null,
            "align_items": null,
            "align_self": null,
            "border": null,
            "bottom": null,
            "display": null,
            "flex": null,
            "flex_flow": null,
            "grid_area": null,
            "grid_auto_columns": null,
            "grid_auto_flow": null,
            "grid_auto_rows": null,
            "grid_column": null,
            "grid_gap": null,
            "grid_row": null,
            "grid_template_areas": null,
            "grid_template_columns": null,
            "grid_template_rows": null,
            "height": null,
            "justify_content": null,
            "justify_items": null,
            "left": null,
            "margin": null,
            "max_height": null,
            "max_width": null,
            "min_height": null,
            "min_width": null,
            "object_fit": null,
            "object_position": null,
            "order": null,
            "overflow": null,
            "overflow_x": null,
            "overflow_y": null,
            "padding": null,
            "right": null,
            "top": null,
            "visibility": null,
            "width": null
          }
        },
        "9ff58f07941b47d0a0b2daf5d7a988d5": {
          "model_module": "@jupyter-widgets/controls",
          "model_name": "VBoxModel",
          "model_module_version": "1.5.0",
          "state": {
            "_dom_classes": [],
            "_model_module": "@jupyter-widgets/controls",
            "_model_module_version": "1.5.0",
            "_model_name": "VBoxModel",
            "_view_count": null,
            "_view_module": "@jupyter-widgets/controls",
            "_view_module_version": "1.5.0",
            "_view_name": "VBoxView",
            "box_style": "",
            "children": [
              "IPY_MODEL_814ff32e7e8f4f7db512a11c1a39dfce",
              "IPY_MODEL_c0bc6fa2fc3f4b97b4a3d15341eccd74",
              "IPY_MODEL_aada31b08bd8428383f2271734f23477",
              "IPY_MODEL_fac268f1803b499e83d3e6eabbbe3743",
              "IPY_MODEL_8f2eebf98ead4725b39a67649a74a4b7"
            ],
            "layout": "IPY_MODEL_018cce24950142b083345acc6828e0c2"
          }
        },
        "018cce24950142b083345acc6828e0c2": {
          "model_module": "@jupyter-widgets/base",
          "model_name": "LayoutModel",
          "model_module_version": "1.2.0",
          "state": {
            "_model_module": "@jupyter-widgets/base",
            "_model_module_version": "1.2.0",
            "_model_name": "LayoutModel",
            "_view_count": null,
            "_view_module": "@jupyter-widgets/base",
            "_view_module_version": "1.2.0",
            "_view_name": "LayoutView",
            "align_content": null,
            "align_items": null,
            "align_self": null,
            "border": null,
            "bottom": null,
            "display": null,
            "flex": null,
            "flex_flow": null,
            "grid_area": null,
            "grid_auto_columns": null,
            "grid_auto_flow": null,
            "grid_auto_rows": null,
            "grid_column": null,
            "grid_gap": null,
            "grid_row": null,
            "grid_template_areas": null,
            "grid_template_columns": null,
            "grid_template_rows": null,
            "height": null,
            "justify_content": null,
            "justify_items": null,
            "left": null,
            "margin": null,
            "max_height": null,
            "max_width": null,
            "min_height": null,
            "min_width": null,
            "object_fit": null,
            "object_position": null,
            "order": null,
            "overflow": null,
            "overflow_x": null,
            "overflow_y": null,
            "padding": null,
            "right": null,
            "top": null,
            "visibility": null,
            "width": null
          }
        }
      }
    }
  },
  "nbformat": 4,
  "nbformat_minor": 0
}