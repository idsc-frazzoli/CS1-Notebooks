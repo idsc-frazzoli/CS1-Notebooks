{
  "cells": [
    {
      "cell_type": "markdown",
      "metadata": {
        "id": "Vbd3TH8pjAhC"
      },
      "source": [
        "# Control Systems 1, NB11:  Time delays and Cascaded Control\n",
        "\n",
        "© 2024 ETH Zurich, Mark Benazet Castells, Jonas Holinger, Felix Muller, Matteo Penlington; Institute for Dynamic Systems and Control; Prof. Emilio Frazzoli\n",
        "\n",
        "This interactive notebook is designed to introduce the fundamental concepts of control systems engineering. It covers time delays, how to approximate them, and their influence on system performance. Additionally, the notebook provides a brief overview of cascaded control.\n",
        "\n",
        "Authors:\n",
        "- Jonas Holinger; jholinger@ethz.ch\n",
        "- Shubham Gupta; shugupta@ethz.ch"
      ]
    },
    {
      "cell_type": "markdown",
      "metadata": {
        "id": "TJZdQPcejXiq"
      },
      "source": [
        "# Learning Objectives\n"
      ]
    },
    {
      "cell_type": "markdown",
      "metadata": {
        "id": "uZoZ2lJAjZ4B"
      },
      "source": [
        "After completing this notebook, you should be able to:\n",
        "\n",
        "1. Understand the effects of time delays on frequency response and stability.\n",
        "2. Approximate time delays as a proper rational transfer function.\n",
        "3. Understand the effects of compensators on a system and how to implement them.\n",
        "4. Grasp the fundamentals of cascaded control.\n"
      ]
    },
    {
      "cell_type": "markdown",
      "metadata": {
        "id": "OJ3oU5vJHFnY"
      },
      "source": [
        "## Import Libraries"
      ]
    },
    {
      "cell_type": "code",
      "execution_count": 1,
      "metadata": {
        "colab": {
          "base_uri": "https://localhost:8080/"
        },
        "id": "dDEsMSKBjcn-",
        "outputId": "bedf17dc-082d-458b-dcdc-6d7bebf24ebd"
      },
      "outputs": [
        {
          "output_type": "stream",
          "name": "stdout",
          "text": [
            "Requirement already satisfied: numpy in /usr/local/lib/python3.10/dist-packages (1.26.4)\n",
            "Requirement already satisfied: matplotlib in /usr/local/lib/python3.10/dist-packages (3.8.0)\n",
            "Requirement already satisfied: scipy in /usr/local/lib/python3.10/dist-packages (1.13.1)\n",
            "Requirement already satisfied: ipywidgets in /usr/local/lib/python3.10/dist-packages (7.7.1)\n",
            "Requirement already satisfied: control in /usr/local/lib/python3.10/dist-packages (0.10.1)\n",
            "Requirement already satisfied: IPython in /usr/local/lib/python3.10/dist-packages (7.34.0)\n",
            "Requirement already satisfied: sympy in /usr/local/lib/python3.10/dist-packages (1.13.1)\n",
            "Requirement already satisfied: contourpy>=1.0.1 in /usr/local/lib/python3.10/dist-packages (from matplotlib) (1.3.1)\n",
            "Requirement already satisfied: cycler>=0.10 in /usr/local/lib/python3.10/dist-packages (from matplotlib) (0.12.1)\n",
            "Requirement already satisfied: fonttools>=4.22.0 in /usr/local/lib/python3.10/dist-packages (from matplotlib) (4.55.0)\n",
            "Requirement already satisfied: kiwisolver>=1.0.1 in /usr/local/lib/python3.10/dist-packages (from matplotlib) (1.4.7)\n",
            "Requirement already satisfied: packaging>=20.0 in /usr/local/lib/python3.10/dist-packages (from matplotlib) (24.2)\n",
            "Requirement already satisfied: pillow>=6.2.0 in /usr/local/lib/python3.10/dist-packages (from matplotlib) (11.0.0)\n",
            "Requirement already satisfied: pyparsing>=2.3.1 in /usr/local/lib/python3.10/dist-packages (from matplotlib) (3.2.0)\n",
            "Requirement already satisfied: python-dateutil>=2.7 in /usr/local/lib/python3.10/dist-packages (from matplotlib) (2.8.2)\n",
            "Requirement already satisfied: ipykernel>=4.5.1 in /usr/local/lib/python3.10/dist-packages (from ipywidgets) (5.5.6)\n",
            "Requirement already satisfied: ipython-genutils~=0.2.0 in /usr/local/lib/python3.10/dist-packages (from ipywidgets) (0.2.0)\n",
            "Requirement already satisfied: traitlets>=4.3.1 in /usr/local/lib/python3.10/dist-packages (from ipywidgets) (5.7.1)\n",
            "Requirement already satisfied: widgetsnbextension~=3.6.0 in /usr/local/lib/python3.10/dist-packages (from ipywidgets) (3.6.10)\n",
            "Requirement already satisfied: jupyterlab-widgets>=1.0.0 in /usr/local/lib/python3.10/dist-packages (from ipywidgets) (3.0.13)\n",
            "Requirement already satisfied: setuptools>=18.5 in /usr/local/lib/python3.10/dist-packages (from IPython) (75.1.0)\n",
            "Requirement already satisfied: jedi>=0.16 in /usr/local/lib/python3.10/dist-packages (from IPython) (0.19.2)\n",
            "Requirement already satisfied: decorator in /usr/local/lib/python3.10/dist-packages (from IPython) (4.4.2)\n",
            "Requirement already satisfied: pickleshare in /usr/local/lib/python3.10/dist-packages (from IPython) (0.7.5)\n",
            "Requirement already satisfied: prompt-toolkit!=3.0.0,!=3.0.1,<3.1.0,>=2.0.0 in /usr/local/lib/python3.10/dist-packages (from IPython) (3.0.48)\n",
            "Requirement already satisfied: pygments in /usr/local/lib/python3.10/dist-packages (from IPython) (2.18.0)\n",
            "Requirement already satisfied: backcall in /usr/local/lib/python3.10/dist-packages (from IPython) (0.2.0)\n",
            "Requirement already satisfied: matplotlib-inline in /usr/local/lib/python3.10/dist-packages (from IPython) (0.1.7)\n",
            "Requirement already satisfied: pexpect>4.3 in /usr/local/lib/python3.10/dist-packages (from IPython) (4.9.0)\n",
            "Requirement already satisfied: mpmath<1.4,>=1.1.0 in /usr/local/lib/python3.10/dist-packages (from sympy) (1.3.0)\n",
            "Requirement already satisfied: jupyter-client in /usr/local/lib/python3.10/dist-packages (from ipykernel>=4.5.1->ipywidgets) (6.1.12)\n",
            "Requirement already satisfied: tornado>=4.2 in /usr/local/lib/python3.10/dist-packages (from ipykernel>=4.5.1->ipywidgets) (6.3.3)\n",
            "Requirement already satisfied: parso<0.9.0,>=0.8.4 in /usr/local/lib/python3.10/dist-packages (from jedi>=0.16->IPython) (0.8.4)\n",
            "Requirement already satisfied: ptyprocess>=0.5 in /usr/local/lib/python3.10/dist-packages (from pexpect>4.3->IPython) (0.7.0)\n",
            "Requirement already satisfied: wcwidth in /usr/local/lib/python3.10/dist-packages (from prompt-toolkit!=3.0.0,!=3.0.1,<3.1.0,>=2.0.0->IPython) (0.2.13)\n",
            "Requirement already satisfied: six>=1.5 in /usr/local/lib/python3.10/dist-packages (from python-dateutil>=2.7->matplotlib) (1.16.0)\n",
            "Requirement already satisfied: notebook>=4.4.1 in /usr/local/lib/python3.10/dist-packages (from widgetsnbextension~=3.6.0->ipywidgets) (6.5.5)\n",
            "Requirement already satisfied: jinja2 in /usr/local/lib/python3.10/dist-packages (from notebook>=4.4.1->widgetsnbextension~=3.6.0->ipywidgets) (3.1.4)\n",
            "Requirement already satisfied: pyzmq<25,>=17 in /usr/local/lib/python3.10/dist-packages (from notebook>=4.4.1->widgetsnbextension~=3.6.0->ipywidgets) (24.0.1)\n",
            "Requirement already satisfied: argon2-cffi in /usr/local/lib/python3.10/dist-packages (from notebook>=4.4.1->widgetsnbextension~=3.6.0->ipywidgets) (23.1.0)\n",
            "Requirement already satisfied: jupyter-core>=4.6.1 in /usr/local/lib/python3.10/dist-packages (from notebook>=4.4.1->widgetsnbextension~=3.6.0->ipywidgets) (5.7.2)\n",
            "Requirement already satisfied: nbformat in /usr/local/lib/python3.10/dist-packages (from notebook>=4.4.1->widgetsnbextension~=3.6.0->ipywidgets) (5.10.4)\n",
            "Requirement already satisfied: nbconvert>=5 in /usr/local/lib/python3.10/dist-packages (from notebook>=4.4.1->widgetsnbextension~=3.6.0->ipywidgets) (7.16.4)\n",
            "Requirement already satisfied: nest-asyncio>=1.5 in /usr/local/lib/python3.10/dist-packages (from notebook>=4.4.1->widgetsnbextension~=3.6.0->ipywidgets) (1.6.0)\n",
            "Requirement already satisfied: Send2Trash>=1.8.0 in /usr/local/lib/python3.10/dist-packages (from notebook>=4.4.1->widgetsnbextension~=3.6.0->ipywidgets) (1.8.3)\n",
            "Requirement already satisfied: terminado>=0.8.3 in /usr/local/lib/python3.10/dist-packages (from notebook>=4.4.1->widgetsnbextension~=3.6.0->ipywidgets) (0.18.1)\n",
            "Requirement already satisfied: prometheus-client in /usr/local/lib/python3.10/dist-packages (from notebook>=4.4.1->widgetsnbextension~=3.6.0->ipywidgets) (0.21.0)\n",
            "Requirement already satisfied: nbclassic>=0.4.7 in /usr/local/lib/python3.10/dist-packages (from notebook>=4.4.1->widgetsnbextension~=3.6.0->ipywidgets) (1.1.0)\n",
            "Requirement already satisfied: platformdirs>=2.5 in /usr/local/lib/python3.10/dist-packages (from jupyter-core>=4.6.1->notebook>=4.4.1->widgetsnbextension~=3.6.0->ipywidgets) (4.3.6)\n",
            "Requirement already satisfied: notebook-shim>=0.2.3 in /usr/local/lib/python3.10/dist-packages (from nbclassic>=0.4.7->notebook>=4.4.1->widgetsnbextension~=3.6.0->ipywidgets) (0.2.4)\n",
            "Requirement already satisfied: beautifulsoup4 in /usr/local/lib/python3.10/dist-packages (from nbconvert>=5->notebook>=4.4.1->widgetsnbextension~=3.6.0->ipywidgets) (4.12.3)\n",
            "Requirement already satisfied: bleach!=5.0.0 in /usr/local/lib/python3.10/dist-packages (from nbconvert>=5->notebook>=4.4.1->widgetsnbextension~=3.6.0->ipywidgets) (6.2.0)\n",
            "Requirement already satisfied: defusedxml in /usr/local/lib/python3.10/dist-packages (from nbconvert>=5->notebook>=4.4.1->widgetsnbextension~=3.6.0->ipywidgets) (0.7.1)\n",
            "Requirement already satisfied: jupyterlab-pygments in /usr/local/lib/python3.10/dist-packages (from nbconvert>=5->notebook>=4.4.1->widgetsnbextension~=3.6.0->ipywidgets) (0.3.0)\n",
            "Requirement already satisfied: markupsafe>=2.0 in /usr/local/lib/python3.10/dist-packages (from nbconvert>=5->notebook>=4.4.1->widgetsnbextension~=3.6.0->ipywidgets) (3.0.2)\n",
            "Requirement already satisfied: mistune<4,>=2.0.3 in /usr/local/lib/python3.10/dist-packages (from nbconvert>=5->notebook>=4.4.1->widgetsnbextension~=3.6.0->ipywidgets) (3.0.2)\n",
            "Requirement already satisfied: nbclient>=0.5.0 in /usr/local/lib/python3.10/dist-packages (from nbconvert>=5->notebook>=4.4.1->widgetsnbextension~=3.6.0->ipywidgets) (0.10.0)\n",
            "Requirement already satisfied: pandocfilters>=1.4.1 in /usr/local/lib/python3.10/dist-packages (from nbconvert>=5->notebook>=4.4.1->widgetsnbextension~=3.6.0->ipywidgets) (1.5.1)\n",
            "Requirement already satisfied: tinycss2 in /usr/local/lib/python3.10/dist-packages (from nbconvert>=5->notebook>=4.4.1->widgetsnbextension~=3.6.0->ipywidgets) (1.4.0)\n",
            "Requirement already satisfied: fastjsonschema>=2.15 in /usr/local/lib/python3.10/dist-packages (from nbformat->notebook>=4.4.1->widgetsnbextension~=3.6.0->ipywidgets) (2.20.0)\n",
            "Requirement already satisfied: jsonschema>=2.6 in /usr/local/lib/python3.10/dist-packages (from nbformat->notebook>=4.4.1->widgetsnbextension~=3.6.0->ipywidgets) (4.23.0)\n",
            "Requirement already satisfied: argon2-cffi-bindings in /usr/local/lib/python3.10/dist-packages (from argon2-cffi->notebook>=4.4.1->widgetsnbextension~=3.6.0->ipywidgets) (21.2.0)\n",
            "Requirement already satisfied: webencodings in /usr/local/lib/python3.10/dist-packages (from bleach!=5.0.0->nbconvert>=5->notebook>=4.4.1->widgetsnbextension~=3.6.0->ipywidgets) (0.5.1)\n",
            "Requirement already satisfied: attrs>=22.2.0 in /usr/local/lib/python3.10/dist-packages (from jsonschema>=2.6->nbformat->notebook>=4.4.1->widgetsnbextension~=3.6.0->ipywidgets) (24.2.0)\n",
            "Requirement already satisfied: jsonschema-specifications>=2023.03.6 in /usr/local/lib/python3.10/dist-packages (from jsonschema>=2.6->nbformat->notebook>=4.4.1->widgetsnbextension~=3.6.0->ipywidgets) (2024.10.1)\n",
            "Requirement already satisfied: referencing>=0.28.4 in /usr/local/lib/python3.10/dist-packages (from jsonschema>=2.6->nbformat->notebook>=4.4.1->widgetsnbextension~=3.6.0->ipywidgets) (0.35.1)\n",
            "Requirement already satisfied: rpds-py>=0.7.1 in /usr/local/lib/python3.10/dist-packages (from jsonschema>=2.6->nbformat->notebook>=4.4.1->widgetsnbextension~=3.6.0->ipywidgets) (0.21.0)\n",
            "Requirement already satisfied: jupyter-server<3,>=1.8 in /usr/local/lib/python3.10/dist-packages (from notebook-shim>=0.2.3->nbclassic>=0.4.7->notebook>=4.4.1->widgetsnbextension~=3.6.0->ipywidgets) (1.24.0)\n",
            "Requirement already satisfied: cffi>=1.0.1 in /usr/local/lib/python3.10/dist-packages (from argon2-cffi-bindings->argon2-cffi->notebook>=4.4.1->widgetsnbextension~=3.6.0->ipywidgets) (1.17.1)\n",
            "Requirement already satisfied: soupsieve>1.2 in /usr/local/lib/python3.10/dist-packages (from beautifulsoup4->nbconvert>=5->notebook>=4.4.1->widgetsnbextension~=3.6.0->ipywidgets) (2.6)\n",
            "Requirement already satisfied: pycparser in /usr/local/lib/python3.10/dist-packages (from cffi>=1.0.1->argon2-cffi-bindings->argon2-cffi->notebook>=4.4.1->widgetsnbextension~=3.6.0->ipywidgets) (2.22)\n",
            "Requirement already satisfied: anyio<4,>=3.1.0 in /usr/local/lib/python3.10/dist-packages (from jupyter-server<3,>=1.8->notebook-shim>=0.2.3->nbclassic>=0.4.7->notebook>=4.4.1->widgetsnbextension~=3.6.0->ipywidgets) (3.7.1)\n",
            "Requirement already satisfied: websocket-client in /usr/local/lib/python3.10/dist-packages (from jupyter-server<3,>=1.8->notebook-shim>=0.2.3->nbclassic>=0.4.7->notebook>=4.4.1->widgetsnbextension~=3.6.0->ipywidgets) (1.8.0)\n",
            "Requirement already satisfied: idna>=2.8 in /usr/local/lib/python3.10/dist-packages (from anyio<4,>=3.1.0->jupyter-server<3,>=1.8->notebook-shim>=0.2.3->nbclassic>=0.4.7->notebook>=4.4.1->widgetsnbextension~=3.6.0->ipywidgets) (3.10)\n",
            "Requirement already satisfied: sniffio>=1.1 in /usr/local/lib/python3.10/dist-packages (from anyio<4,>=3.1.0->jupyter-server<3,>=1.8->notebook-shim>=0.2.3->nbclassic>=0.4.7->notebook>=4.4.1->widgetsnbextension~=3.6.0->ipywidgets) (1.3.1)\n",
            "Requirement already satisfied: exceptiongroup in /usr/local/lib/python3.10/dist-packages (from anyio<4,>=3.1.0->jupyter-server<3,>=1.8->notebook-shim>=0.2.3->nbclassic>=0.4.7->notebook>=4.4.1->widgetsnbextension~=3.6.0->ipywidgets) (1.2.2)\n"
          ]
        }
      ],
      "source": [
        "%pip install numpy matplotlib scipy ipywidgets control IPython sympy\n",
        "\n",
        "#@title Import Libraries\n",
        "\n",
        "import control as ct\n",
        "import matplotlib.pyplot as plt\n",
        "import numpy as np\n",
        "import math\n",
        "import ipywidgets as widgets\n",
        "from scipy.integrate import odeint\n",
        "from IPython.display import display, clear_output, Math\n",
        "from ipywidgets import interactive, FloatSlider, VBox, ToggleButton, FloatSlider\n",
        "from scipy import signal\n",
        "import warnings\n",
        "warnings.filterwarnings(\"ignore\")"
      ]
    },
    {
      "cell_type": "markdown",
      "metadata": {
        "id": "7ontFK4K_VZQ"
      },
      "source": [
        "# Motivation"
      ]
    },
    {
      "cell_type": "markdown",
      "metadata": {
        "id": "VDbh70n53Kja"
      },
      "source": [
        "So far in the course we have analyzed ideal models, i.e., models that are linear and time-invariant (LTI). However, most *real* systems deviate from these idealizations. As a result, it becomes crucial to understand and account for these phenomena. Two such phenomena are time delays and nonlinearities. In this notebook time delays are introduced, along with their effects, and how they can be adapted (approximated) to use the tools that have been previously introduced (e.g,. Root locus). Nonlinearities will be introduced in the following week.\n",
        "\n",
        "Furthermore, typically, systems consist of a system of systems. Consider that adaptive cruise control aims to control the position of the vehicle with respect to the vehicle in front. As a consequence, it must determine a) the desired speed of the vehicle to maintain the distance, and then correspondingly control the throttle to achieve the appropriate speed. This form of system architecture is referred to as cascaded control, and is briefly touched upon in this notebook."
      ]
    },
    {
      "cell_type": "markdown",
      "metadata": {
        "id": "BVpsPzF4_eQf"
      },
      "source": [
        "# 1. Time Delays\n"
      ]
    },
    {
      "cell_type": "markdown",
      "metadata": {
        "id": "x5txC9G4HFna"
      },
      "source": [
        "A time delay refers to the phenomenon where there is a delay between the input to the system and its corresponding output response. This delay can occur due to various reasons, such as sensor response time, communication latency in a controller implemented within a computer, or physical delays, like water traveling inside a pipe when the shower is turned on.\n",
        "\n",
        "Time delays can (negatively) influence system performance, and even introduce instabilities. This can be explained intuitively, by considering that in a closed-loop, the input to the controller is the error between a reference and output. In the presence of time delays, the produced output, may be different from what was expected. Thus, the tuned controller may result in the system exhibiting unstable output behavior.\n",
        "\n",
        "Consequentially, we want to account for the effects of time delays. The time delay operator, which transforms an input signal $ u(t) $ into a delayed output $ y(t) = u(t-T) $ with a delay of $ T $ seconds, is represented in the Laplace domain as:\n",
        "$$e^{-sT}$$\n",
        "\n",
        "The time delay operator is a linear operator, but the resulting transfer function is not rational, which means we cannot apply the root-locus method. To see why this is the case, consider that the root locus relies on the characteristic equation $1+kL(s)=0$ to define the closed-loop poles. However, in the case where we have a non-rational transfer function, then the poles no longer exist in the polynomial form we have previously seen.\n",
        "\n",
        "Before we provide a brief example to contextualize how accounting for a time-delay may result in a non-rational transfer function."
      ]
    },
    {
      "cell_type": "markdown",
      "metadata": {
        "id": "Fxrl4sGkHFna"
      },
      "source": [
        "### Example"
      ]
    },
    {
      "cell_type": "markdown",
      "metadata": {
        "id": "Wp9OJ-O5HFna"
      },
      "source": [
        "Suppose we have a first-order system of the form $ G(s) = \\frac{5}{s+3} $, and through experiments have determined that a time delay of 4 seconds is present. It is then possible to account for the time delay by defining the new transfer function, $\\tilde{G}(s)$ as:\n",
        "$$\\tilde{G}(s) = \\frac{5}{s+3}e^{-4s}$$"
      ]
    },
    {
      "cell_type": "markdown",
      "metadata": {
        "id": "jPPLqRyhHFnb"
      },
      "source": [
        "### Visualization"
      ]
    },
    {
      "cell_type": "markdown",
      "metadata": {
        "id": "ll9A4jsWHFnb"
      },
      "source": [
        "Below we plot the step response of a 2nd order system $G(s) = \\frac{\\omega_n^2}{s^2+2\\zeta\\omega_n s + \\omega_n^2}$.\n",
        "\n",
        "Try varying the time delay, how does the output vary? Is this was you expected?"
      ]
    },
    {
      "cell_type": "code",
      "execution_count": null,
      "metadata": {
        "id": "QSCtSU3b_iEC"
      },
      "outputs": [],
      "source": [
        "def plot_step_response_delay(wn, zeta, delay):\n",
        "\n",
        "    num = [wn**2]\n",
        "    den = [1, 2*zeta*wn, wn**2]\n",
        "    sys = ct.TransferFunction(num, den)\n",
        "\n",
        "    delay_approx = ct.pade(delay, 5)\n",
        "    delay_tf = ct.TransferFunction(*delay_approx)\n",
        "    sys_delayed = sys * delay_tf\n",
        "\n",
        "    time = np.linspace(0, 20, 500)\n",
        "\n",
        "    t, y_no_delay = ct.step_response(sys, T=time)  # Without delay\n",
        "    t, y_with_delay = ct.step_response(sys_delayed, T=time)  # With delay\n",
        "\n",
        "    plt.figure(figsize=(10, 6))\n",
        "    plt.plot(t, y_no_delay, label=f'No Delay')\n",
        "    plt.plot(t, y_with_delay, label=f'With Delay={delay}s', linestyle='--')\n",
        "    plt.xlabel('Time [s]')\n",
        "    plt.ylabel('Amplitude')\n",
        "    plt.title('Second Order System Step Response with and without Time Delay')\n",
        "    plt.grid(True)\n",
        "    plt.legend()\n",
        "    plt.show()\n",
        "\n",
        "wn_slider = widgets.FloatSlider(value=1.0, min=0.1, max=5.0, step=0.1, description='ωn')\n",
        "zeta_slider = widgets.FloatSlider(value=0.5, min=0.0, max=1.0, step=0.01, description='ζ')\n",
        "delay_slider = widgets.FloatSlider(value=0.0, min=0.0, max=2.0, step=0.01, description='Delay')\n",
        "\n",
        "interactive_plot = widgets.interactive(plot_step_response_delay, wn=wn_slider, zeta=zeta_slider, delay=delay_slider)\n",
        "display(interactive_plot)\n"
      ]
    },
    {
      "cell_type": "markdown",
      "metadata": {
        "id": "oGTWjGLy_fh5"
      },
      "source": [
        "## 1.1 Time Delay in Frequency Response\n"
      ]
    },
    {
      "cell_type": "markdown",
      "metadata": {
        "id": "d9_MySrzHFnb"
      },
      "source": [
        "Above we saw how the time delay influences the time-domain output response. However, since time delays may also influence the systems capabilities to accurately track commands or reject disturbances, it is also useful to understand its influence on the frequency response.  \n",
        "\n",
        "> First, note that the magnitude of the time delay is $ \\left| e^{-j\\omega T} \\right| = 1 $ and the phase is $ \\angle(e^{-j\\omega T}) = -\\omega T $. Hence, the time delay only influences the phase in the frequency domain.\n",
        "\n",
        "To see why the above is the case:\n",
        "- $ \\left| e^{-j\\omega T} \\right| = 1 $: $e^{-j\\omega T} = \\cos{\\omega T} - j \\sin{\\omega T}$. Then the magnitude is described by: $| e^{-j\\omega T} | = \\sqrt{\\cos^2{\\omega T} + \\sin^2{\\omega T}} = 1$.\n",
        "- $ \\angle(e^{-j\\omega T}) = -\\omega T $: $\\angle{e^{-j\\omega T}} = \\arctan{\\frac{-\\sin{\\omega T}}{\\cos{\\omega T}}} = -\\omega T$.\n",
        "\n",
        "\n",
        "\n",
        "For the open-loop Transfer function, $\\tilde{L}(s)=e^{-sT}L(s)$, this means:\n",
        "$$\\left| \\tilde{L}(jw) \\right|=\\left|L(jw) \\right|$$\n",
        "\n",
        "$$\\angle \\tilde{L}(jw)=\\angle L(jw)-wT$$\n",
        "\n",
        "Thus, the time delay:\n",
        "- Rotates the polar plot clockwise by $\\omega T$.\n",
        "- Changes the phase margin of the system such that:\n",
        "$$ \\phi_{m,t} = \\phi_{0} - \\omega_c T $$\n",
        "Where:\n",
        "-  $\\phi_{m,t}$ is the new phase margin after the time delay.\n",
        "-  $\\phi_{0}$ is the phase margin without a time delay.\n",
        "-  $\\omega_c$ is the crossover frequency (does not depend on time delay).\n",
        "\n",
        "Hence:\n",
        "> Time delays reduce the phase margins.\n",
        "\n",
        "\n"
      ]
    },
    {
      "cell_type": "markdown",
      "metadata": {
        "id": "niJfLVFKHFnc"
      },
      "source": [
        "### Effect on the Bode plot"
      ]
    },
    {
      "cell_type": "markdown",
      "metadata": {
        "id": "kvuqGHRYHFnc"
      },
      "source": [
        "Below we plot a rational transfer function of form $\\tilde{L}(s) = \\frac{N(s)}{G(s)}e^{-sT}$ in blue, and in orange the time delay Bode plot.\n",
        "- Note that due to python limitations, we have to approximate the time delay as a high-order transfer function. Later on we introduce how to do this.\n",
        "\n",
        "Try adjusting the time delay and observe how the margins change.\n",
        "Are you able to find a time delay that makes the system unstable? And one for which the system is stable?"
      ]
    },
    {
      "cell_type": "code",
      "execution_count": null,
      "metadata": {
        "id": "1D--GC5W_y90"
      },
      "outputs": [],
      "source": [
        "def bode_plot_with_margins_delay(num, den, delay_num=None, delay_den=None):\n",
        "    if delay_num is not None and delay_den is not None:\n",
        "        delay_sys = ct.TransferFunction(delay_num, delay_den)\n",
        "        sys = ct.series(ct.TransferFunction(num, den), delay_sys)\n",
        "    else:\n",
        "        sys = ct.TransferFunction(num, den)\n",
        "\n",
        "    gm, pm, wcg, wcp = ct.margin(sys)\n",
        "\n",
        "    w = np.logspace(-2, 2, 1000)\n",
        "\n",
        "    if delay_num is not None and delay_den is not None:\n",
        "        mag_d, phase_d, omega_d = ct.bode_plot(delay_sys,omega=w, dB=True, deg=True, plot=False)\n",
        "        mag_d = 20 * np.log10(mag_d)\n",
        "        phase_d = np.degrees(phase_d)\n",
        "        phase_d = phase_d%(-360)\n",
        "    else:\n",
        "        mag_d, phase_d, omega_d = None, None, None\n",
        "\n",
        "    mag, phase, omega = ct.bode_plot(sys, omega=w, dB=True, deg=True, plot=False)\n",
        "    mag = 20 * np.log10(mag)\n",
        "    phase = np.degrees(phase)\n",
        "    phase = phase%(-360)\n",
        "\n",
        "    plt.figure(figsize=(10, 8))\n",
        "    plt.subplot(2, 1, 1)\n",
        "    plt.semilogx(omega, mag, label='System Magnitude (dB)')\n",
        "    if mag_d is not None:\n",
        "        plt.semilogx(omega_d, mag_d, label='Time Delay Magnitude (dB)', linestyle='--')\n",
        "\n",
        "    plt.axhline(0, color='black', linewidth=0.5, linestyle='--')\n",
        "\n",
        "    if not np.isnan(wcp):\n",
        "        plt.plot(wcp, 0, 'ro', label=f'Gain Crossover @ {wcp:.2f} rad/s')\n",
        "    if gm != float('inf'):\n",
        "        plt.vlines(wcg, 0, -20 * np.log10(gm), color='red', linestyle=':', label=f'Gain Margin = {20 * np.log10(gm):.2f} dB')\n",
        "\n",
        "    plt.ylabel('Magnitude (dB)')\n",
        "    plt.legend(loc='best')\n",
        "    plt.grid(True, which=\"both\")\n",
        "\n",
        "    plt.subplot(2, 1, 2)\n",
        "    plt.semilogx(omega, phase, label='System Phase (degrees)')\n",
        "    if phase_d is not None:\n",
        "        plt.semilogx(omega_d, phase_d, label='Time Delay Phase (degrees)', linestyle='--')\n",
        "\n",
        "    plt.axhline(-180, color='black', linewidth=0.5, linestyle='--')\n",
        "\n",
        "    if not np.isnan(wcg):\n",
        "        plt.plot(wcg, -180, 'bo', label=f'Phase Crossover @ {wcg:.2f} rad/s')\n",
        "    if pm != float('inf'):\n",
        "        plt.vlines(wcp, -180, -180 + pm, color='red', linestyle=':', label=f'Phase Margin = {pm:.2f} degrees')\n",
        "\n",
        "    plt.ylabel('Phase (degrees)')\n",
        "    plt.xlabel('Frequency (rad/s)')\n",
        "    plt.legend(loc='best')\n",
        "    plt.grid(True, which=\"both\")\n",
        "\n",
        "    plt.tight_layout()\n",
        "    plt.show()\n",
        "\n",
        "def update_bode_plot(b):\n",
        "    clear_output(wait=True)\n",
        "    display(widgets.VBox([numerator_text, denominator_text, delay_slider, plot_button]))\n",
        "\n",
        "    try:\n",
        "        num = [float(x) for x in numerator_text.value.split(',')]\n",
        "        den = [float(x) for x in denominator_text.value.split(',')]\n",
        "        delay = delay_slider.value\n",
        "\n",
        "        delay_num, delay_den = ct.pade(delay, n=10)\n",
        "        bode_plot_with_margins_delay(num, den, delay_num, delay_den)\n",
        "    except ValueError:\n",
        "        print(\"Please enter valid coefficients separated by commas.\")\n",
        "\n",
        "numerator_text = widgets.Text(value='100', description='Numerator:', placeholder='e.g., 10,4')\n",
        "denominator_text = widgets.Text(value='1,10,100', description='Denominator:', placeholder='e.g., 12,30,50')\n",
        "\n",
        "delay_slider = widgets.FloatSlider(\n",
        "    value=0.0,\n",
        "    min=0.0,\n",
        "    max=2.0,\n",
        "    step=0.01,\n",
        "    description='Time Delay (s):',\n",
        "    continuous_update=False\n",
        ")\n",
        "\n",
        "plot_button = widgets.Button(description=\"Plot Bode\")\n",
        "plot_button.on_click(update_bode_plot)\n",
        "\n",
        "display(widgets.VBox([numerator_text, denominator_text, delay_slider, plot_button]))\n"
      ]
    },
    {
      "cell_type": "markdown",
      "metadata": {
        "id": "jrw5XDx6mhes"
      },
      "source": [
        "### Effect on the Nyquist Plot\n"
      ]
    },
    {
      "cell_type": "markdown",
      "metadata": {
        "id": "6xvnSh9gHFnc"
      },
      "source": [
        "\n",
        "The Nyquist plot of a time delay operator is simply a unit circle.\n",
        "\n",
        "To verify this, consider a transfer function, $L(s)=1$, then apply a time delay.\n",
        "\n",
        "In a system, the time delay introduces a counterclockwise rotation of the Nyquist plot. This rotation becomes more pronounced as the frequency increases. As the delay increases, the system's Nyquist plot may begin to encircle the critical point (-1, 0), potentially leading to instability."
      ]
    },
    {
      "cell_type": "code",
      "execution_count": 2,
      "metadata": {
        "colab": {
          "base_uri": "https://localhost:8080/",
          "height": 158,
          "referenced_widgets": [
            "2e99d8b2a2f946f6931a08a539021a53",
            "59018ccc9ce74e32b5018ee9fd300937",
            "fdf5bdda965c43248380b5c84b6b7a7f",
            "2f2e6c9ca01a4d03b935b7dd4bb88f6c",
            "d01f386c93144269a448e5228748d9fe",
            "fee2105a25e245419d7eed48a377fe3a",
            "7bea6393ce5a431dabd46fe27a7ad1e4",
            "e196fc3dbfa34b808d8c087e13818927",
            "6a41c097b28c47ba8ce8962702f030d7",
            "da46a264783448b292c8b9c9e0764f0e",
            "1cd97bed64924f21846cb0f41ecd9547",
            "2ce0a86b1afd45139031d1884a0cf43b",
            "3e70cefd477045829320a5e440bec48d",
            "cbdfab6e377f40a8af32ffdf6e63d35a"
          ]
        },
        "id": "UZTWOaNUkHKt",
        "outputId": "3466c5eb-acc6-445d-a7e5-06854d192abe"
      },
      "outputs": [
        {
          "output_type": "display_data",
          "data": {
            "text/plain": [
              "Text(value='1, 1', description='Numerator:', placeholder='Enter coefficients separated by commas')"
            ],
            "application/vnd.jupyter.widget-view+json": {
              "version_major": 2,
              "version_minor": 0,
              "model_id": "2e99d8b2a2f946f6931a08a539021a53"
            }
          },
          "metadata": {}
        },
        {
          "output_type": "display_data",
          "data": {
            "text/plain": [
              "Text(value='1, 2, 1', description='Denominator:', placeholder='Enter coefficients separated by commas')"
            ],
            "application/vnd.jupyter.widget-view+json": {
              "version_major": 2,
              "version_minor": 0,
              "model_id": "2f2e6c9ca01a4d03b935b7dd4bb88f6c"
            }
          },
          "metadata": {}
        },
        {
          "output_type": "display_data",
          "data": {
            "text/plain": [
              "FloatSlider(value=0.1, continuous_update=False, description='Time Delay (s):', max=5.0, step=0.01)"
            ],
            "application/vnd.jupyter.widget-view+json": {
              "version_major": 2,
              "version_minor": 0,
              "model_id": "7bea6393ce5a431dabd46fe27a7ad1e4"
            }
          },
          "metadata": {}
        },
        {
          "output_type": "display_data",
          "data": {
            "text/plain": [
              "Button(button_style='success', description='Generate Nyquist Plots', style=ButtonStyle(), tooltip='Click to ge…"
            ],
            "application/vnd.jupyter.widget-view+json": {
              "version_major": 2,
              "version_minor": 0,
              "model_id": "da46a264783448b292c8b9c9e0764f0e"
            }
          },
          "metadata": {}
        },
        {
          "output_type": "display_data",
          "data": {
            "text/plain": [
              "Output()"
            ],
            "application/vnd.jupyter.widget-view+json": {
              "version_major": 2,
              "version_minor": 0,
              "model_id": "3e70cefd477045829320a5e440bec48d"
            }
          },
          "metadata": {}
        }
      ],
      "source": [
        "\n",
        "\n",
        "def parse_coefficients(coeff_str):\n",
        "    \"\"\"\n",
        "    Parse a string of coefficients separated by commas into a list of floats.\n",
        "    \"\"\"\n",
        "    try:\n",
        "        coeffs = [float(c.strip()) for c in coeff_str.split(',') if c.strip()]\n",
        "        if not coeffs:\n",
        "            raise ValueError(\"Coefficient list cannot be empty.\")\n",
        "        return coeffs\n",
        "    except ValueError as e:\n",
        "        raise ValueError(f\"Invalid input: {e}\")\n",
        "\n",
        "def transfer_function_with_delay(num, den, delay):\n",
        "\n",
        "    G = ct.TransferFunction(num, den)\n",
        "    delay_num, delay_den = ct.pade(delay, n=10)\n",
        "    G_delay = ct.TransferFunction(delay_num, delay_den)\n",
        "    return G * G_delay\n",
        "\n",
        "def plot_nyquist_and_poles(num, den, delay):\n",
        "    \"\"\"\n",
        "    Generate a single Nyquist plot showing the system with and without time delay and display system poles.\n",
        "    \"\"\"\n",
        "    with output:\n",
        "        clear_output(wait=True)\n",
        "        try:\n",
        "            # Create transfer functions\n",
        "            G = ct.TransferFunction(num, den)\n",
        "            G_delay = transfer_function_with_delay(num, den, delay)\n",
        "\n",
        "            # Create a single plot\n",
        "            plt.figure(figsize=(10, 6))\n",
        "\n",
        "            # Nyquist plot with delay\n",
        "            ct.nyquist_plot(G_delay, label=f\"With Time Delay = {delay} s\", color='blue')\n",
        "\n",
        "            # Nyquist plot without delay\n",
        "            ct.nyquist_plot(G, label=\"Without Time Delay\", color='orange')\n",
        "\n",
        "            plt.title(\"Nyquist Plot with and without Time Delay\")\n",
        "            plt.legend()\n",
        "            plt.grid(True)\n",
        "            plt.tight_layout()\n",
        "            plt.show()\n",
        "\n",
        "\n",
        "        except ValueError as ve:\n",
        "            display(ve)\n",
        "        except Exception as e:\n",
        "            display(e)\n",
        "\n",
        "\n",
        "numerator_input = widgets.Text(\n",
        "    value='1, 1',\n",
        "    placeholder='Enter coefficients separated by commas',\n",
        "    description='Numerator:',\n",
        "    disabled=False\n",
        ")\n",
        "\n",
        "denominator_input = widgets.Text(\n",
        "    value='1, 2, 1',\n",
        "    placeholder='Enter coefficients separated by commas',\n",
        "    description='Denominator:',\n",
        "    disabled=False\n",
        ")\n",
        "\n",
        "time_delay_slider = widgets.FloatSlider(\n",
        "    value=0.1,\n",
        "    min=0.0,\n",
        "    max=5.0,\n",
        "    step=0.01,\n",
        "    description='Time Delay (s):',\n",
        "    continuous_update=False\n",
        ")\n",
        "\n",
        "generate_button = widgets.Button(\n",
        "    description='Generate Nyquist Plots',\n",
        "    button_style='success',\n",
        "    tooltip='Click to generate Nyquist plots for the system',\n",
        ")\n",
        "\n",
        "# Output area\n",
        "output = widgets.Output()\n",
        "\n",
        "# Event handler for button click\n",
        "def on_button_click(b):\n",
        "    try:\n",
        "        num = parse_coefficients(numerator_input.value)\n",
        "        den = parse_coefficients(denominator_input.value)\n",
        "        delay = time_delay_slider.value\n",
        "        plot_nyquist_and_poles(num, den, delay)\n",
        "    except ValueError as e:\n",
        "        with output:\n",
        "            clear_output(wait=True)\n",
        "            display(e)\n",
        "\n",
        "generate_button.on_click(on_button_click)\n",
        "\n",
        "# Display widgets\n",
        "display(numerator_input, denominator_input, time_delay_slider, generate_button, output)\n"
      ]
    },
    {
      "cell_type": "markdown",
      "metadata": {
        "id": "J2KBvHArC28A"
      },
      "source": [
        "## 1.2 Approximation of Time Delays\n"
      ]
    },
    {
      "cell_type": "markdown",
      "metadata": {
        "id": "b4Z3rKQfHFnd"
      },
      "source": [
        "Since the term which corresponds to our time delay $e^{-sT}$ is not rational, it is not possible to use the root locus method (and depending on the software, non-rational transfer functions may not be supported). Thus, there is a need to approximate the time delay. Below we introduce 2 approaches to doing so.\n"
      ]
    },
    {
      "cell_type": "markdown",
      "metadata": {
        "id": "bzqgbP41HFnd"
      },
      "source": [
        "\n",
        "### 1.2.1 Taylor Approximation\n"
      ]
    },
    {
      "cell_type": "markdown",
      "metadata": {
        "id": "4xsWENKEHFnd"
      },
      "source": [
        "One approach is to approximate the time delay through a $n^{th}$ order Taylor series expansion:\n",
        "$$\n",
        "e^{-sT} \\approx 1 - sT + \\frac{1}{2}\\left(sT\\right)^2 + \\dots + (-1)^n \\frac{1}{n!}\\left(sT\\right)^n\n",
        "$$\n",
        "\n",
        "A Taylor series expansion with $n=3$ would be:\n",
        "$$e^{-sT}\\approx 1-sT+\\frac{1}{2}(sT)^2-\\frac{1}{6}(sT)^3 = \\frac{-\\left(sT\\right)^3 +3(sT)^2 -6(sT)+ 6}{6}$$\n",
        "We can see that the above is a non-proper (rational) transfer function since the numerator polynomial has a higher degree than the denominator. Thus, when $|sT|>1$, the non-proper transfer function grows without bound, which implies infinite gain at high frequencies -- which is not true as $|e^{-j\\omega T}|=1, \\forall \\omega$.\n",
        "\n",
        "This makes the Taylor series expansion an unsuitable approximation unless $|sT|<<1$."
      ]
    },
    {
      "cell_type": "markdown",
      "metadata": {
        "id": "v-i8fqk7HFnd"
      },
      "source": [
        "\n",
        "### 1.2.2 Padé Approximation\n"
      ]
    },
    {
      "cell_type": "markdown",
      "metadata": {
        "id": "7-mjhoPmHFnd"
      },
      "source": [
        "Another approach, is to approximate the time delay with a ratio of polynomials. For calculating the Padé approximation by hand, we limit ourselves to the first-order Padé approximation, which consists of the ratio of two first-order polynomials:\n",
        "$$e^{-sT} \\approx k\\frac{s+p}{s+q}$$\n",
        "\n",
        "For finding the coefficients $k$, $p$, and $q$, we set the approximation equal to the Taylor series expansion:\n",
        "$$k\\frac{s+p}{s+q} = 1 - sT + \\frac{1}{2}(sT)^2-\\frac{1}{6}(sT)^3...$$\n",
        "\n",
        "Reordering and comparing the coefficients, we get:\n",
        "\n",
        "$ks + kp = s + q - s^2T - qsT + \\frac{1}{2}s^3T^2 + \\frac{1}{2}q(sT)^2...$\n",
        "\n",
        "Order 0: $kp = q$\n",
        "\n",
        "Order 1: $k = 1 - qT$\n",
        "\n",
        "Order 2: $0 = -T + \\frac{1}{2}qT^2$\n",
        "\n",
        "For the first-order approximation, we calculate that:\n",
        "$$q = \\frac{2}{T}$$\n",
        "$$k = -1$$\n",
        "$$p = -\\frac{2}{T}$$\n",
        "\n",
        "Inserting this into our formula, we get:\n",
        "$$e^{-sT}\\approx \\frac{\\frac{2}{T}-s}{\\frac{2}{T}+s}$$\n",
        "\n",
        "This approximation has the advantage that the magnitude is always equal to 1.\n"
      ]
    },
    {
      "cell_type": "code",
      "execution_count": 3,
      "metadata": {
        "colab": {
          "base_uri": "https://localhost:8080/",
          "height": 1000,
          "referenced_widgets": [
            "f397c424a9e24df7aad6b074616d0259",
            "526bab291554426c8ff1604ac1c56f3e",
            "0b4b044473df46fd816f9dad3965d710",
            "c5e6c65132094ecfb3cbde0189004012",
            "1023214798784ba399e9c0c9b6ada493",
            "1581be03f29e4577b63a65e83cb5bb82",
            "921885326fca45bbb2e779b81d1e5fa0",
            "93d81d9fafa54ba79cf04c47423a296a",
            "5d426b695bb84561be148853f6549536",
            "90ae670edd9e4b8aba745e7bf1a6caa5",
            "1e3c0628b1ad436d93f0d9982f300a29",
            "dffe7ced532f4ee8a35ebf8f7a285830",
            "e5606f48e7954b4884c3442b99aa926d",
            "0212ac6fc1ec482482263ad88f8241e4",
            "8803f268fd8b45449a15966f9a4b65a6",
            "e5ea554071e7417dbc77f1b1738895b1",
            "e84f13671fde4b43a124c8234124308b",
            "e7fe19ba67584982829aac2533fc3dbe",
            "e373ad4113b842a98d5fb2b8f7eb71ae",
            "91388b456be34453a11d7f165f98145e"
          ]
        },
        "id": "5KuD7ZXAG7k1",
        "outputId": "476fdaec-a444-4109-8587-3b6ace73a625"
      },
      "outputs": [
        {
          "output_type": "display_data",
          "data": {
            "text/plain": [
              "VBox(children=(FloatSlider(value=1.0, continuous_update=False, description='Time Delay (s):', max=2.0, min=0.0…"
            ],
            "application/vnd.jupyter.widget-view+json": {
              "version_major": 2,
              "version_minor": 0,
              "model_id": "e373ad4113b842a98d5fb2b8f7eb71ae"
            }
          },
          "metadata": {}
        },
        {
          "output_type": "display_data",
          "data": {
            "text/plain": [
              "<Figure size 1800x1000 with 6 Axes>"
            ],
            "image/png": "[encoded data removed]"
          },
          "metadata": {}
        }
      ],
      "source": [
        "def bode_plot_with_taylor(T, degree, ax1, ax2):\n",
        "    # Taylor series approximation\n",
        "    num_coeffs_taylor, den_coeffs_taylor = taylor_series_expansion(T, degree)\n",
        "    delay_sys_taylor = ct.TransferFunction(num_coeffs_taylor, den_coeffs_taylor)\n",
        "\n",
        "    mag_taylor, phase_taylor, omega_taylor = ct.bode_plot(delay_sys_taylor, dB=True, deg=True, plot=False)\n",
        "    mag_taylor = 20 * np.log10(mag_taylor)\n",
        "    phase_taylor = np.degrees(phase_taylor)\n",
        "\n",
        "    ax1.semilogx(omega_taylor, mag_taylor, label='Taylor Series Approximation (Magnitude)', linestyle='--')\n",
        "    ax1.axhline(0, color='black', linewidth=0.5, linestyle='--')\n",
        "    ax1.set_ylabel('Magnitude (dB)')\n",
        "    ax1.legend(loc='best')\n",
        "    ax1.grid(True, which=\"both\")\n",
        "\n",
        "    ax2.semilogx(omega_taylor, phase_taylor, label='Taylor Series Approximation (Phase)', linestyle='--')\n",
        "    ax2.axhline(-180, color='black', linewidth=0.5, linestyle='--')\n",
        "    ax2.set_ylabel('Phase (degrees)')\n",
        "    ax2.set_xlabel('Frequency (rad/s)')\n",
        "    ax2.legend(loc='best')\n",
        "    ax2.grid(True, which=\"both\")\n",
        "\n",
        "def taylor_series_expansion(T, degree):\n",
        "    numerator_coeffs = []\n",
        "    denominator_coeffs = [1]\n",
        "\n",
        "    for n in range(degree):\n",
        "        coeff = ((-1)**n * (T**n)) / math.factorial(n)\n",
        "        numerator_coeffs.append(coeff)\n",
        "\n",
        "    return numerator_coeffs, denominator_coeffs\n",
        "\n",
        "def bode_plot_with_pade(T, degree, ax1, ax2):\n",
        "    # Nth-order Pade approximation (user-selected degree)\n",
        "    nth_order_num_pade, nth_order_den_pade = ct.pade(T, n=degree)\n",
        "    nth_order_sys_pade = ct.TransferFunction(nth_order_num_pade, nth_order_den_pade)\n",
        "\n",
        "    mag_nth, phase_nth, omega_nth = ct.bode_plot(nth_order_sys_pade, dB=True, deg=True, plot=False)\n",
        "    mag_nth = 20 * np.log10(mag_nth)\n",
        "    phase_nth = np.degrees(phase_nth)\n",
        "\n",
        "    ax1.semilogx(omega_nth, mag_nth, label=f'Pade Approximation (Order {degree}, Magnitude)', linestyle='-')\n",
        "    ax1.set_ylim(-3, 3)\n",
        "    ax1.axhline(0, color='black', linewidth=0.5, linestyle='--')\n",
        "    ax1.set_ylabel('Magnitude (dB)')\n",
        "    ax1.legend(loc='best')\n",
        "    ax1.grid(True, which=\"both\")\n",
        "\n",
        "    ax2.semilogx(omega_nth, phase_nth, label=f'Pade Approximation (Order {degree}, Phase)', linestyle='-')\n",
        "    ax2.axhline(-180, color='black', linewidth=0.5, linestyle='--')\n",
        "    ax2.set_ylabel('Phase (degrees)')\n",
        "    ax2.set_xlabel('Frequency (rad/s)')\n",
        "    ax2.legend(loc='best')\n",
        "    ax2.grid(True, which=\"both\")\n",
        "\n",
        "def bode_plot_first_order_pade(T, ax1, ax2):\n",
        "    # First-order Pade approximation\n",
        "    first_order_num_pade, first_order_den_pade = ct.pade(T, n=1)\n",
        "    first_order_sys_pade = ct.TransferFunction(first_order_num_pade, first_order_den_pade)\n",
        "\n",
        "    mag_first, phase_first, omega_first = ct.bode_plot(first_order_sys_pade, dB=True, deg=True, plot=False)\n",
        "    mag_first = 20 * np.log10(mag_first)\n",
        "    phase_first = np.degrees(phase_first)\n",
        "\n",
        "    ax1.semilogx(omega_first, mag_first, label='Pade Approximation (Order 1, Magnitude)', linestyle='--')\n",
        "    ax1.set_ylim(-3, 3)\n",
        "    ax1.axhline(0, color='black', linewidth=0.5, linestyle='--')\n",
        "    ax1.set_ylabel('Magnitude (dB)')\n",
        "    ax1.legend(loc='best')\n",
        "    ax1.grid(True, which=\"both\")\n",
        "\n",
        "    ax2.semilogx(omega_first, phase_first, label='Pade Approximation (Order 1, Phase)', linestyle='--')\n",
        "    ax2.axhline(-180, color='black', linewidth=0.5, linestyle='--')\n",
        "    ax2.set_ylabel('Phase (degrees)')\n",
        "    ax2.set_xlabel('Frequency (rad/s)')\n",
        "    ax2.legend(loc='best')\n",
        "    ax2.grid(True, which=\"both\")\n",
        "\n",
        "def update_bode_plot(b):\n",
        "    clear_output(wait=True)\n",
        "    display(widgets.VBox([timedelay_slider, degree_slider_pade, degree_slider_taylor, plot_button]))\n",
        "\n",
        "    try:\n",
        "        T_pade = timedelay_slider.value\n",
        "        degree_pade = int(degree_slider_pade.value)\n",
        "        T_taylor = timedelay_slider.value\n",
        "        degree_taylor = int(degree_slider_taylor.value)\n",
        "\n",
        "        fig, axs = plt.subplots(2, 3, figsize=(18, 10))\n",
        "\n",
        "        # First-order Pade approximation (Column 1)\n",
        "        bode_plot_first_order_pade(T_pade, axs[0, 0], axs[1, 0])\n",
        "\n",
        "        # Nth-order Pade approximation (Column 2)\n",
        "        bode_plot_with_pade(T_pade, degree_pade, axs[0, 1], axs[1, 1])\n",
        "\n",
        "        # Taylor series approximation (Column 3)\n",
        "        bode_plot_with_taylor(T_taylor, degree_taylor, axs[0, 2], axs[1, 2])\n",
        "\n",
        "        # Adjust layout for better readability\n",
        "        plt.tight_layout()\n",
        "        plt.show()\n",
        "\n",
        "    except ValueError:\n",
        "        print(\"Please enter valid coefficients separated by commas.\")\n",
        "\n",
        "timedelay_slider = widgets.FloatSlider(\n",
        "    value=1.0,\n",
        "    min=0.01,\n",
        "    max=2.0,\n",
        "    step=0.01,\n",
        "    description='Time Delay (s):',\n",
        "    continuous_update=False\n",
        ")\n",
        "\n",
        "degree_slider_pade = widgets.IntSlider(\n",
        "    value=10,\n",
        "    min=1,\n",
        "    max=20,\n",
        "    step=1,\n",
        "    description='Pade Degree:'\n",
        ")\n",
        "\n",
        "\n",
        "degree_slider_taylor = widgets.IntSlider(\n",
        "    value=10,\n",
        "    min=1,\n",
        "    max=20,\n",
        "    step=1,\n",
        "    description='Taylor Degree:'\n",
        ")\n",
        "\n",
        "plot_button = widgets.Button(description=\"Plot Bode\")\n",
        "plot_button.on_click(update_bode_plot)\n",
        "\n",
        "# Display widgets for interaction\n",
        "display(widgets.VBox([timedelay_slider, degree_slider_pade, degree_slider_taylor, plot_button]))\n"
      ]
    },
    {
      "cell_type": "markdown",
      "metadata": {
        "id": "nGsiflUeODKM"
      },
      "source": [
        "### Example\n"
      ]
    },
    {
      "cell_type": "markdown",
      "metadata": {
        "id": "L8UsKaU1HFne"
      },
      "source": [
        "\n",
        "We want to use the root locus method to design a controller for our simple $\\frac{1}{s+1}$ system, but we have a delay of 0.5 seconds inside our system. How do we approximate the time delay as a rational function which we can use for the root locus method?\n",
        "\n",
        "First, we calculate the Padeé approximation using the formula we derived before:\n",
        "\n",
        "$$e^{-0.5s} \\approx \\frac{1-0.25s}{1+0.25s}$$\n",
        "\n",
        "Now we modify our plant transfer function to:\n",
        "$$P(s) = \\frac{1-0.25s}{1+0.25s} \\cdot \\frac{1}{s+1}$$\n",
        "\n",
        "and use a proportional controller $C(s) = K_p$.\n",
        "\n",
        "Since the transfer function of the Padeé approximation has a non-minimum phase zero, as we increase our gain, the system can become unstable. Note that this is an approximation.\n"
      ]
    },
    {
      "cell_type": "code",
      "execution_count": null,
      "metadata": {
        "id": "mkGRVLz0SGnj"
      },
      "outputs": [],
      "source": [
        "\n",
        "def plot_root_locus(num, den, time_delay, pade_order):\n",
        "    num = [float(n) for n in num.split(',')]\n",
        "    den = [float(d) for d in den.split(',')]\n",
        "\n",
        "    pade_order = int(pade_order)\n",
        "\n",
        "    plant = ct.TransferFunction(num, den)\n",
        "\n",
        "    pade_num, pade_den = ct.pade(time_delay, pade_order)\n",
        "\n",
        "    pade_transfer_function = ct.TransferFunction(pade_num, pade_den)\n",
        "\n",
        "    system_with_delay = plant * pade_transfer_function\n",
        "\n",
        "    plt.figure(figsize=(8, 6))\n",
        "    ct.root_locus(system_with_delay)\n",
        "    plt.title(f\"Root Locus with Time Delay {time_delay}s and Pade Order {pade_order}\")\n",
        "    plt.show()\n",
        "\n",
        "time_delay_slider = FloatSlider(value=0.5, min=0, max=5, step=0.1, description='Time Delay (s):')\n",
        "pade_order_slider = FloatSlider(value=1, min=1, max=10, step=1, description='Pade Approx Order:')\n",
        "\n",
        "num_input = widgets.Text(value='1', description='Numerator:')\n",
        "den_input = widgets.Text(value='1,1', description='Denominator:')\n",
        "\n",
        "interactive_plot = interactive(plot_root_locus,\n",
        "                               num=num_input,\n",
        "                               den=den_input,\n",
        "                               time_delay=time_delay_slider,\n",
        "                               pade_order=pade_order_slider)\n",
        "\n",
        "display(interactive_plot)\n"
      ]
    },
    {
      "cell_type": "markdown",
      "metadata": {
        "id": "ven_tjHaHFnf"
      },
      "source": [
        "# 2. Cascaded Control: A Deeper Dive\n"
      ]
    },
    {
      "cell_type": "markdown",
      "metadata": {
        "id": "HSZvYjjsHFnf"
      },
      "source": [
        "\n",
        "Cascaded control is a hierarchical control strategy often used in complex systems to achieve better performance and robustness. Instead of using a single control loop to manage all dynamics, cascaded control divides the system into multiple interconnected control loops, typically organized as an **inner loop** and an **outer loop**. Each loop has its specific role, and they work together to maintain system stability and meet performance objectives. This structure allows engineers to address different dynamic behaviors in a controlled and systematic way.\n",
        "\n",
        "In a cascaded control system, the **inner loop** is responsible for controlling faster dynamic processes that are closer to the physical system, such as stabilizing motor speed or force. The **outer loop** operates on slower dynamics and focuses on achieving broader system goals, such as maintaining a desired position or trajectory. This separation of tasks makes cascaded control particularly effective for systems where different parts have distinct time scales of operation. For example, in robotics, the inner loop might control motor torque, while the outer loop adjusts the robot's arm position based on a task requirement.\n",
        "\n"
      ]
    },
    {
      "cell_type": "markdown",
      "metadata": {
        "id": "wdSgtjqVHFnf"
      },
      "source": [
        "\n",
        "## What is Cascaded Control?\n"
      ]
    },
    {
      "cell_type": "markdown",
      "metadata": {
        "id": "lXXknbsuHFnf"
      },
      "source": [
        "\n",
        "At its core, cascaded control organizes control tasks into layers, with each layer addressing specific aspects of the system's dynamics. The inner loop works on stabilizing the plant and reacting to disturbances quickly. For instance, in a speed control system, the inner loop ensures that the motor achieves the desired speed regardless of load variations. The outer loop, on the other hand, determines the reference for the inner loop based on the higher-level goal, such as reaching a specific position or maintaining a desired spacing in adaptive cruise control.\n",
        "\n",
        "One of the defining features of cascaded control is **feedback interconnection**. The outer loop provides a dynamic reference signal to the inner loop, and the inner loop refines its behavior to match this reference. This hierarchical feedback allows the outer loop to operate as if the inner loop is perfectly handling fast dynamics, simplifying its design and improving overall system performance.\n",
        "\n"
      ]
    },
    {
      "cell_type": "markdown",
      "metadata": {
        "id": "SHKaddreHFng"
      },
      "source": [
        "\n",
        "## How Does Cascaded Control Work?\n"
      ]
    },
    {
      "cell_type": "markdown",
      "metadata": {
        "id": "JY7NPo3VHFng"
      },
      "source": [
        "\n",
        "Imagine you are driving a car equipped with adaptive cruise control (ACC). The system's goal is to maintain a safe distance from the car ahead while ensuring your car stays at a comfortable speed. This control problem is naturally divided into two tasks:\n",
        "\n",
        "1. **Inner Loop (Speed Control):** The inner loop adjusts the car's throttle to maintain the desired speed. If the car encounters a hill or additional load, the inner loop quickly increases the throttle to compensate. This loop operates on fast dynamics and directly controls the engine's output.\n",
        "\n",
        "2. **Outer Loop (Distance Control):** The outer loop monitors the distance to the car ahead and adjusts the speed reference for the inner loop to ensure safety. If the car ahead slows down, the outer loop instructs the inner loop to reduce speed accordingly. This loop handles slower dynamics and provides the overarching control objective.\n",
        "\n",
        "This example highlights how cascaded control allows each loop to focus on specific tasks while working in harmony to achieve the overall goal. The inner loop acts as the \"executor,\" rapidly handling disturbances and local dynamics, while the outer loop is the \"strategist,\" setting the direction based on broader objectives.\n",
        "\n"
      ]
    },
    {
      "cell_type": "markdown",
      "metadata": {
        "id": "3_7DrSekHFng"
      },
      "source": [
        "\n",
        "## Design Principles in Cascaded Control\n"
      ]
    },
    {
      "cell_type": "markdown",
      "metadata": {
        "id": "FGOzimrYHFnk"
      },
      "source": [
        "\n",
        "The key to designing a successful cascaded control system lies in **bandwidth separation**. The inner loop must operate much faster than the outer loop, ensuring that it can stabilize fast dynamics before the outer loop intervenes. This separation prevents interference between the loops and allows the system to behave predictably. A general rule of thumb is that the bandwidth of the inner loop should be at least five to ten times greater than the outer loop.\n",
        "\n",
        "To illustrate this, consider a robotic arm with cascaded control. The inner loop might control the torque applied to the motor, ensuring rapid and precise adjustments to stabilize the arm. The outer loop, operating on a slower timescale, focuses on positioning the arm at a desired location. If the inner loop is slow, it might not stabilize the torque quickly enough, leading to delays and inaccuracies in the outer loop's positioning.\n",
        "\n",
        "Another critical aspect of cascaded control is how disturbances are handled. The inner loop is designed to reject disturbances near the plant, such as load changes or unexpected forces, ensuring that the system's fundamental dynamics remain stable. Meanwhile, the outer loop deals with higher-level disturbances, such as changes in the setpoint or external influences that affect the overall control objective."
      ]
    },
    {
      "cell_type": "markdown",
      "metadata": {
        "id": "wmi9pP8kHFnk"
      },
      "source": [
        "\n",
        "## Advantages of Cascaded Control\n"
      ]
    },
    {
      "cell_type": "markdown",
      "metadata": {
        "id": "_ILSDE7NHFnk"
      },
      "source": [
        "\n",
        "Cascaded control offers several advantages that make it a popular choice in engineering systems. First, it improves system performance by dividing responsibilities between the loops. Each loop is optimized for its specific task, allowing for more precise and efficient control. The inner loop's responsiveness ensures that fast disturbances are dealt with quickly, while the outer loop focuses on achieving steady-state accuracy and tracking performance.\n",
        "\n",
        "Second, cascaded control enhances the system's ability to reject disturbances. By having the inner loop directly manage disturbances near the plant, the system can remain stable even under challenging conditions. This layered approach simplifies the design of the outer loop, as it can assume the inner loop is handling these disturbances effectively.\n",
        "\n",
        "Lastly, cascaded control provides a modular design approach. Engineers can design, test, and optimize each loop independently, reducing complexity and making it easier to maintain and upgrade the system. This modularity is especially valuable in systems with changing requirements, as individual loops can be adjusted without overhauling the entire control architecture.\n",
        "\n"
      ]
    },
    {
      "cell_type": "markdown",
      "metadata": {
        "id": "2IL5TW4iHFnk"
      },
      "source": [
        "\n",
        "## Practical Example: Motor Speed and Position Control\n"
      ]
    },
    {
      "cell_type": "markdown",
      "metadata": {
        "id": "wRpD3BdoHFnl"
      },
      "source": [
        "\n",
        "Let’s consider a system where we need to control both the speed and position of a motor. In such a system:\n",
        "\n",
        "- **Inner Loop (Speed Control):** This loop ensures that the motor maintains the desired speed regardless of changes in load or external disturbances. For instance, if the motor is operating under varying torque conditions, the inner loop adjusts the control input to keep the speed stable.\n",
        "  \n",
        "- **Outer Loop (Position Control):** The outer loop provides a higher-level reference to the inner loop, ensuring that the motor reaches the desired position. It adjusts the speed reference to account for overshoot, steady-state error, and trajectory requirements.\n",
        "\n",
        "This layered approach enables the system to respond quickly to disturbances while achieving precise positional control over time."
      ]
    },
    {
      "cell_type": "markdown",
      "metadata": {
        "id": "xR-RdJwVHFnl"
      },
      "source": [
        "\n",
        "## Summary of Cascaded Control\n"
      ]
    },
    {
      "cell_type": "markdown",
      "metadata": {
        "id": "GicUIRccHFnl"
      },
      "source": [
        "\n",
        "Cascaded control is an effective way to manage complex systems with multiple dynamic requirements. By separating the control problem into hierarchical loops, it allows each loop to focus on specific dynamics, leading to better performance and robustness. The inner loop addresses fast, local dynamics, while the outer loop ensures the system meets broader objectives. This structure is widely used in applications like robotics, automotive systems, and industrial processes.\n",
        "\n",
        "In the accompanying interactive notebook, you’ll have the opportunity to design a cascaded control system for a sample plant. By adjusting controller gains and observing the system's response, you’ll gain a deeper understanding of how bandwidth separation and hierarchical feedback influence system performance.\n",
        "\n",
        "---\n"
      ]
    },
    {
      "cell_type": "code",
      "execution_count": null,
      "metadata": {
        "id": "wa8RMeCxHFnl"
      },
      "outputs": [],
      "source": [
        "import numpy as np\n",
        "import ipywidgets as widgets\n",
        "from IPython.display import display, clear_output\n",
        "from control import TransferFunction, feedback, step_response, impulse_response, forced_response, bode\n",
        "\n",
        "import matplotlib.pyplot as plt\n",
        "\n",
        "# Define helper functions\n",
        "def create_pid_controller(kp, ki, kd):\n",
        "    \"\"\"Create a PID controller transfer function.\"\"\"\n",
        "    num = [kd, kp, ki]\n",
        "    den = [1, 0]\n",
        "    return TransferFunction(num, den)\n",
        "\n",
        "def parse_transfer_function(num_str, den_str):\n",
        "    \"\"\"Parse numerator and denominator strings into TransferFunction.\"\"\"\n",
        "    try:\n",
        "        num = [float(x.strip()) for x in num_str.split(',')]\n",
        "        den = [float(x.strip()) for x in den_str.split(',')]\n",
        "        return TransferFunction(num, den)\n",
        "    except Exception as e:\n",
        "        raise ValueError(\"Invalid input. Please provide comma-separated numbers.\")\n",
        "\n",
        "def plot_response(system, response_type, duration=10):\n",
        "    \"\"\"Plot the system response (step, impulse, or ramp).\"\"\"\n",
        "    time = np.linspace(0, duration, 500)\n",
        "    if response_type == 'Step':\n",
        "        t, y = step_response(system, time)\n",
        "    elif response_type == 'Impulse':\n",
        "        t, y = impulse_response(system, time)\n",
        "    elif response_type == 'Ramp':\n",
        "        ramp_input = time\n",
        "        t, y, _ = forced_response(system, time, ramp_input)\n",
        "    else:\n",
        "        raise ValueError(\"Unsupported response type.\")\n",
        "\n",
        "    plt.figure(figsize=(8, 5))\n",
        "    plt.plot(t, y, label=f\"{response_type} Response\")\n",
        "    plt.xlabel(\"Time (s)\")\n",
        "    plt.ylabel(\"Output\")\n",
        "    plt.title(f\"{response_type} Response\")\n",
        "    plt.grid(True)\n",
        "    plt.legend()\n",
        "    plt.show()\n",
        "\n",
        "def plot_bode(system):\n",
        "    \"\"\"Plot the Bode plot of the system.\"\"\"\n",
        "    mag, phase, omega = bode(system, dB=True, plot=False)\n",
        "\n",
        "    plt.figure(figsize=(8, 5))\n",
        "    plt.semilogx(omega, 20 * np.log10(mag), label=\"Magnitude (dB)\")\n",
        "    plt.xlabel(\"Frequency (rad/s)\")\n",
        "    plt.ylabel(\"Magnitude (dB)\")\n",
        "    plt.title(\"Bode Plot: Magnitude\")\n",
        "    plt.grid(True, which=\"both\")\n",
        "    plt.legend()\n",
        "    plt.show()\n",
        "\n",
        "    plt.figure(figsize=(8, 5))\n",
        "    plt.semilogx(omega, phase * 180 / np.pi, label=\"Phase (deg)\")\n",
        "    plt.xlabel(\"Frequency (rad/s)\")\n",
        "    plt.ylabel(\"Phase (degrees)\")\n",
        "    plt.title(\"Bode Plot: Phase\")\n",
        "    plt.grid(True, which=\"both\")\n",
        "    plt.legend()\n",
        "    plt.show()\n",
        "\n",
        "# Interactive tool widgets\n",
        "numerator_input = widgets.Text(\n",
        "    value='1',\n",
        "    placeholder='e.g., 1, 5, 10',\n",
        "    description='Numerator:',\n",
        "    style={'description_width': 'initial'}\n",
        ")\n",
        "\n",
        "denominator_input = widgets.Text(\n",
        "    value='1,2',\n",
        "    placeholder='e.g., 1, 3, 2',\n",
        "    description='Denominator:',\n",
        "    style={'description_width': 'initial'}\n",
        ")\n",
        "\n",
        "kp_outer = widgets.FloatSlider(value=1.0, min=0.0, max=10.0, step=0.1, description='Outer Kp:')\n",
        "ki_outer = widgets.FloatSlider(value=0.0, min=0.0, max=10.0, step=0.1, description='Outer Ki:')\n",
        "kd_outer = widgets.FloatSlider(value=0.0, min=0.0, max=10.0, step=0.1, description='Outer Kd:')\n",
        "\n",
        "kp_inner = widgets.FloatSlider(value=1.0, min=0.0, max=10.0, step=0.1, description='Inner Kp:')\n",
        "ki_inner = widgets.FloatSlider(value=0.0, min=0.0, max=10.0, step=0.1, description='Inner Ki:')\n",
        "kd_inner = widgets.FloatSlider(value=0.0, min=0.0, max=10.0, step=0.1, description='Inner Kd:')\n",
        "\n",
        "response_type = widgets.Dropdown(\n",
        "    options=['Step', 'Impulse', 'Ramp'],\n",
        "    value='Step',\n",
        "    description='Response Type:',\n",
        "    style={'description_width': 'initial'}\n",
        ")\n",
        "\n",
        "duration_input = widgets.FloatText(value=10.0, description='Duration (s):')\n",
        "\n",
        "bode_plot_button = widgets.Checkbox(\n",
        "    value=True,\n",
        "    description='Show Bode Plot',\n",
        "    style={'description_width': 'initial'}\n",
        ")\n",
        "\n",
        "output_area = widgets.Output()\n",
        "\n",
        "# Simulation handler\n",
        "def update_plot(change):\n",
        "    with output_area:\n",
        "        clear_output(wait=True)\n",
        "        try:\n",
        "            # Parse plant transfer function\n",
        "            plant = parse_transfer_function(numerator_input.value, denominator_input.value)\n",
        "\n",
        "            # Create PID controllers\n",
        "            outer_pid = create_pid_controller(kp_outer.value, ki_outer.value, kd_outer.value)\n",
        "            inner_pid = create_pid_controller(kp_inner.value, ki_inner.value, kd_inner.value)\n",
        "\n",
        "            # Inner loop\n",
        "            inner_loop = feedback(inner_pid * plant, 1)\n",
        "\n",
        "            # Outer loop\n",
        "            cascaded_system = feedback(outer_pid * inner_loop, 1)\n",
        "\n",
        "            # Plot chosen response\n",
        "            plot_response(cascaded_system, response_type.value, duration=duration_input.value)\n",
        "\n",
        "            # Optionally show Bode plot\n",
        "            if bode_plot_button.value:\n",
        "                plot_bode(cascaded_system)\n",
        "\n",
        "        except ValueError as ve:\n",
        "            print(f\"Error: {ve}\")\n",
        "        except Exception as e:\n",
        "            print(f\"Unexpected error: {e}\")\n",
        "\n",
        "# Attach update function to sliders\n",
        "kp_outer.observe(update_plot, names='value')\n",
        "ki_outer.observe(update_plot, names='value')\n",
        "kd_outer.observe(update_plot, names='value')\n",
        "kp_inner.observe(update_plot, names='value')\n",
        "ki_inner.observe(update_plot, names='value')\n",
        "kd_inner.observe(update_plot, names='value')\n",
        "response_type.observe(update_plot, names='value')\n",
        "duration_input.observe(update_plot, names='value')\n",
        "bode_plot_button.observe(update_plot, names='value')\n",
        "\n",
        "# Display widgets\n",
        "display(widgets.VBox([\n",
        "    widgets.Label(value=\"Cascaded Control System with PID Controllers\"),\n",
        "    numerator_input,\n",
        "    denominator_input,\n",
        "    widgets.Label(value=\"Outer Loop PID Controller Parameters\"),\n",
        "    kp_outer, ki_outer, kd_outer,\n",
        "    widgets.Label(value=\"Inner Loop PID Controller Parameters\"),\n",
        "    kp_inner, ki_inner, kd_inner,\n",
        "    response_type, duration_input, bode_plot_button,\n",
        "    output_area\n",
        "]))\n",
        "\n",
        "# Initial plot\n",
        "update_plot(None)"
      ]
    }
  ],
  "metadata": {
    "colab": {
      "provenance": []
    },
    "kernelspec": {
      "display_name": "venv",
      "language": "python",
      "name": "python3"
    },
    "language_info": {
      "codemirror_mode": {
        "name": "ipython",
        "version": 3
      },
      "file_extension": ".py",
      "mimetype": "text/x-python",
      "name": "python",
      "nbconvert_exporter": "python",
      "pygments_lexer": "ipython3",
      "version": "3.12.7"
    },
    "widgets": {
      "application/vnd.jupyter.widget-state+json": {
        "2e99d8b2a2f946f6931a08a539021a53": {
          "model_module": "@jupyter-widgets/controls",
          "model_name": "TextModel",
          "model_module_version": "1.5.0",
          "state": {
            "_dom_classes": [],
            "_model_module": "@jupyter-widgets/controls",
            "_model_module_version": "1.5.0",
            "_model_name": "TextModel",
            "_view_count": null,
            "_view_module": "@jupyter-widgets/controls",
            "_view_module_version": "1.5.0",
            "_view_name": "TextView",
            "continuous_update": true,
            "description": "Numerator:",
            "description_tooltip": null,
            "disabled": false,
            "layout": "IPY_MODEL_59018ccc9ce74e32b5018ee9fd300937",
            "placeholder": "Enter coefficients separated by commas",
            "style": "IPY_MODEL_fdf5bdda965c43248380b5c84b6b7a7f",
            "value": "1, 34"
          }
        },
        "59018ccc9ce74e32b5018ee9fd300937": {
          "model_module": "@jupyter-widgets/base",
          "model_name": "LayoutModel",
          "model_module_version": "1.2.0",
          "state": {
            "_model_module": "@jupyter-widgets/base",
            "_model_module_version": "1.2.0",
            "_model_name": "LayoutModel",
            "_view_count": null,
            "_view_module": "@jupyter-widgets/base",
            "_view_module_version": "1.2.0",
            "_view_name": "LayoutView",
            "align_content": null,
            "align_items": null,
            "align_self": null,
            "border": null,
            "bottom": null,
            "display": null,
            "flex": null,
            "flex_flow": null,
            "grid_area": null,
            "grid_auto_columns": null,
            "grid_auto_flow": null,
            "grid_auto_rows": null,
            "grid_column": null,
            "grid_gap": null,
            "grid_row": null,
            "grid_template_areas": null,
            "grid_template_columns": null,
            "grid_template_rows": null,
            "height": null,
            "justify_content": null,
            "justify_items": null,
            "left": null,
            "margin": null,
            "max_height": null,
            "max_width": null,
            "min_height": null,
            "min_width": null,
            "object_fit": null,
            "object_position": null,
            "order": null,
            "overflow": null,
            "overflow_x": null,
            "overflow_y": null,
            "padding": null,
            "right": null,
            "top": null,
            "visibility": null,
            "width": null
          }
        },
        "fdf5bdda965c43248380b5c84b6b7a7f": {
          "model_module": "@jupyter-widgets/controls",
          "model_name": "DescriptionStyleModel",
          "model_module_version": "1.5.0",
          "state": {
            "_model_module": "@jupyter-widgets/controls",
            "_model_module_version": "1.5.0",
            "_model_name": "DescriptionStyleModel",
            "_view_count": null,
            "_view_module": "@jupyter-widgets/base",
            "_view_module_version": "1.2.0",
            "_view_name": "StyleView",
            "description_width": ""
          }
        },
        "2f2e6c9ca01a4d03b935b7dd4bb88f6c": {
          "model_module": "@jupyter-widgets/controls",
          "model_name": "TextModel",
          "model_module_version": "1.5.0",
          "state": {
            "_dom_classes": [],
            "_model_module": "@jupyter-widgets/controls",
            "_model_module_version": "1.5.0",
            "_model_name": "TextModel",
            "_view_count": null,
            "_view_module": "@jupyter-widgets/controls",
            "_view_module_version": "1.5.0",
            "_view_name": "TextView",
            "continuous_update": true,
            "description": "Denominator:",
            "description_tooltip": null,
            "disabled": false,
            "layout": "IPY_MODEL_d01f386c93144269a448e5228748d9fe",
            "placeholder": "Enter coefficients separated by commas",
            "style": "IPY_MODEL_fee2105a25e245419d7eed48a377fe3a",
            "value": "1, 2a"
          }
        },
        "d01f386c93144269a448e5228748d9fe": {
          "model_module": "@jupyter-widgets/base",
          "model_name": "LayoutModel",
          "model_module_version": "1.2.0",
          "state": {
            "_model_module": "@jupyter-widgets/base",
            "_model_module_version": "1.2.0",
            "_model_name": "LayoutModel",
            "_view_count": null,
            "_view_module": "@jupyter-widgets/base",
            "_view_module_version": "1.2.0",
            "_view_name": "LayoutView",
            "align_content": null,
            "align_items": null,
            "align_self": null,
            "border": null,
            "bottom": null,
            "display": null,
            "flex": null,
            "flex_flow": null,
            "grid_area": null,
            "grid_auto_columns": null,
            "grid_auto_flow": null,
            "grid_auto_rows": null,
            "grid_column": null,
            "grid_gap": null,
            "grid_row": null,
            "grid_template_areas": null,
            "grid_template_columns": null,
            "grid_template_rows": null,
            "height": null,
            "justify_content": null,
            "justify_items": null,
            "left": null,
            "margin": null,
            "max_height": null,
            "max_width": null,
            "min_height": null,
            "min_width": null,
            "object_fit": null,
            "object_position": null,
            "order": null,
            "overflow": null,
            "overflow_x": null,
            "overflow_y": null,
            "padding": null,
            "right": null,
            "top": null,
            "visibility": null,
            "width": null
          }
        },
        "fee2105a25e245419d7eed48a377fe3a": {
          "model_module": "@jupyter-widgets/controls",
          "model_name": "DescriptionStyleModel",
          "model_module_version": "1.5.0",
          "state": {
            "_model_module": "@jupyter-widgets/controls",
            "_model_module_version": "1.5.0",
            "_model_name": "DescriptionStyleModel",
            "_view_count": null,
            "_view_module": "@jupyter-widgets/base",
            "_view_module_version": "1.2.0",
            "_view_name": "StyleView",
            "description_width": ""
          }
        },
        "7bea6393ce5a431dabd46fe27a7ad1e4": {
          "model_module": "@jupyter-widgets/controls",
          "model_name": "FloatSliderModel",
          "model_module_version": "1.5.0",
          "state": {
            "_dom_classes": [],
            "_model_module": "@jupyter-widgets/controls",
            "_model_module_version": "1.5.0",
            "_model_name": "FloatSliderModel",
            "_view_count": null,
            "_view_module": "@jupyter-widgets/controls",
            "_view_module_version": "1.5.0",
            "_view_name": "FloatSliderView",
            "continuous_update": false,
            "description": "Time Delay (s):",
            "description_tooltip": null,
            "disabled": false,
            "layout": "IPY_MODEL_e196fc3dbfa34b808d8c087e13818927",
            "max": 5,
            "min": 0,
            "orientation": "horizontal",
            "readout": true,
            "readout_format": ".2f",
            "step": 0.01,
            "style": "IPY_MODEL_6a41c097b28c47ba8ce8962702f030d7",
            "value": 1.85
          }
        },
        "e196fc3dbfa34b808d8c087e13818927": {
          "model_module": "@jupyter-widgets/base",
          "model_name": "LayoutModel",
          "model_module_version": "1.2.0",
          "state": {
            "_model_module": "@jupyter-widgets/base",
            "_model_module_version": "1.2.0",
            "_model_name": "LayoutModel",
            "_view_count": null,
            "_view_module": "@jupyter-widgets/base",
            "_view_module_version": "1.2.0",
            "_view_name": "LayoutView",
            "align_content": null,
            "align_items": null,
            "align_self": null,
            "border": null,
            "bottom": null,
            "display": null,
            "flex": null,
            "flex_flow": null,
            "grid_area": null,
            "grid_auto_columns": null,
            "grid_auto_flow": null,
            "grid_auto_rows": null,
            "grid_column": null,
            "grid_gap": null,
            "grid_row": null,
            "grid_template_areas": null,
            "grid_template_columns": null,
            "grid_template_rows": null,
            "height": null,
            "justify_content": null,
            "justify_items": null,
            "left": null,
            "margin": null,
            "max_height": null,
            "max_width": null,
            "min_height": null,
            "min_width": null,
            "object_fit": null,
            "object_position": null,
            "order": null,
            "overflow": null,
            "overflow_x": null,
            "overflow_y": null,
            "padding": null,
            "right": null,
            "top": null,
            "visibility": null,
            "width": null
          }
        },
        "6a41c097b28c47ba8ce8962702f030d7": {
          "model_module": "@jupyter-widgets/controls",
          "model_name": "SliderStyleModel",
          "model_module_version": "1.5.0",
          "state": {
            "_model_module": "@jupyter-widgets/controls",
            "_model_module_version": "1.5.0",
            "_model_name": "SliderStyleModel",
            "_view_count": null,
            "_view_module": "@jupyter-widgets/base",
            "_view_module_version": "1.2.0",
            "_view_name": "StyleView",
            "description_width": "",
            "handle_color": null
          }
        },
        "da46a264783448b292c8b9c9e0764f0e": {
          "model_module": "@jupyter-widgets/controls",
          "model_name": "ButtonModel",
          "model_module_version": "1.5.0",
          "state": {
            "_dom_classes": [],
            "_model_module": "@jupyter-widgets/controls",
            "_model_module_version": "1.5.0",
            "_model_name": "ButtonModel",
            "_view_count": null,
            "_view_module": "@jupyter-widgets/controls",
            "_view_module_version": "1.5.0",
            "_view_name": "ButtonView",
            "button_style": "success",
            "description": "Generate Nyquist Plots",
            "disabled": false,
            "icon": "",
            "layout": "IPY_MODEL_1cd97bed64924f21846cb0f41ecd9547",
            "style": "IPY_MODEL_2ce0a86b1afd45139031d1884a0cf43b",
            "tooltip": "Click to generate Nyquist plots for the system"
          }
        },
        "1cd97bed64924f21846cb0f41ecd9547": {
          "model_module": "@jupyter-widgets/base",
          "model_name": "LayoutModel",
          "model_module_version": "1.2.0",
          "state": {
            "_model_module": "@jupyter-widgets/base",
            "_model_module_version": "1.2.0",
            "_model_name": "LayoutModel",
            "_view_count": null,
            "_view_module": "@jupyter-widgets/base",
            "_view_module_version": "1.2.0",
            "_view_name": "LayoutView",
            "align_content": null,
            "align_items": null,
            "align_self": null,
            "border": null,
            "bottom": null,
            "display": null,
            "flex": null,
            "flex_flow": null,
            "grid_area": null,
            "grid_auto_columns": null,
            "grid_auto_flow": null,
            "grid_auto_rows": null,
            "grid_column": null,
            "grid_gap": null,
            "grid_row": null,
            "grid_template_areas": null,
            "grid_template_columns": null,
            "grid_template_rows": null,
            "height": null,
            "justify_content": null,
            "justify_items": null,
            "left": null,
            "margin": null,
            "max_height": null,
            "max_width": null,
            "min_height": null,
            "min_width": null,
            "object_fit": null,
            "object_position": null,
            "order": null,
            "overflow": null,
            "overflow_x": null,
            "overflow_y": null,
            "padding": null,
            "right": null,
            "top": null,
            "visibility": null,
            "width": null
          }
        },
        "2ce0a86b1afd45139031d1884a0cf43b": {
          "model_module": "@jupyter-widgets/controls",
          "model_name": "ButtonStyleModel",
          "model_module_version": "1.5.0",
          "state": {
            "_model_module": "@jupyter-widgets/controls",
            "_model_module_version": "1.5.0",
            "_model_name": "ButtonStyleModel",
            "_view_count": null,
            "_view_module": "@jupyter-widgets/base",
            "_view_module_version": "1.2.0",
            "_view_name": "StyleView",
            "button_color": null,
            "font_weight": ""
          }
        },
        "3e70cefd477045829320a5e440bec48d": {
          "model_module": "@jupyter-widgets/output",
          "model_name": "OutputModel",
          "model_module_version": "1.0.0",
          "state": {
            "_dom_classes": [],
            "_model_module": "@jupyter-widgets/output",
            "_model_module_version": "1.0.0",
            "_model_name": "OutputModel",
            "_view_count": null,
            "_view_module": "@jupyter-widgets/output",
            "_view_module_version": "1.0.0",
            "_view_name": "OutputView",
            "layout": "IPY_MODEL_cbdfab6e377f40a8af32ffdf6e63d35a",
            "msg_id": "",
            "outputs": [
              {
                "output_type": "display_data",
                "data": {
                  "text/plain": "ValueError(\"Invalid input: could not convert string to float: '2a'\")"
                },
                "metadata": {}
              }
            ]
          }
        },
        "cbdfab6e377f40a8af32ffdf6e63d35a": {
          "model_module": "@jupyter-widgets/base",
          "model_name": "LayoutModel",
          "model_module_version": "1.2.0",
          "state": {
            "_model_module": "@jupyter-widgets/base",
            "_model_module_version": "1.2.0",
            "_model_name": "LayoutModel",
            "_view_count": null,
            "_view_module": "@jupyter-widgets/base",
            "_view_module_version": "1.2.0",
            "_view_name": "LayoutView",
            "align_content": null,
            "align_items": null,
            "align_self": null,
            "border": null,
            "bottom": null,
            "display": null,
            "flex": null,
            "flex_flow": null,
            "grid_area": null,
            "grid_auto_columns": null,
            "grid_auto_flow": null,
            "grid_auto_rows": null,
            "grid_column": null,
            "grid_gap": null,
            "grid_row": null,
            "grid_template_areas": null,
            "grid_template_columns": null,
            "grid_template_rows": null,
            "height": null,
            "justify_content": null,
            "justify_items": null,
            "left": null,
            "margin": null,
            "max_height": null,
            "max_width": null,
            "min_height": null,
            "min_width": null,
            "object_fit": null,
            "object_position": null,
            "order": null,
            "overflow": null,
            "overflow_x": null,
            "overflow_y": null,
            "padding": null,
            "right": null,
            "top": null,
            "visibility": null,
            "width": null
          }
        },
        "f397c424a9e24df7aad6b074616d0259": {
          "model_module": "@jupyter-widgets/controls",
          "model_name": "VBoxModel",
          "model_module_version": "1.5.0",
          "state": {
            "_dom_classes": [],
            "_model_module": "@jupyter-widgets/controls",
            "_model_module_version": "1.5.0",
            "_model_name": "VBoxModel",
            "_view_count": null,
            "_view_module": "@jupyter-widgets/controls",
            "_view_module_version": "1.5.0",
            "_view_name": "VBoxView",
            "box_style": "",
            "children": [
              "IPY_MODEL_526bab291554426c8ff1604ac1c56f3e",
              "IPY_MODEL_0b4b044473df46fd816f9dad3965d710",
              "IPY_MODEL_c5e6c65132094ecfb3cbde0189004012",
              "IPY_MODEL_1023214798784ba399e9c0c9b6ada493"
            ],
            "layout": "IPY_MODEL_1581be03f29e4577b63a65e83cb5bb82"
          }
        },
        "526bab291554426c8ff1604ac1c56f3e": {
          "model_module": "@jupyter-widgets/controls",
          "model_name": "FloatSliderModel",
          "model_module_version": "1.5.0",
          "state": {
            "_dom_classes": [],
            "_model_module": "@jupyter-widgets/controls",
            "_model_module_version": "1.5.0",
            "_model_name": "FloatSliderModel",
            "_view_count": null,
            "_view_module": "@jupyter-widgets/controls",
            "_view_module_version": "1.5.0",
            "_view_name": "FloatSliderView",
            "continuous_update": false,
            "description": "Time Delay (s):",
            "description_tooltip": null,
            "disabled": false,
            "layout": "IPY_MODEL_921885326fca45bbb2e779b81d1e5fa0",
            "max": 2,
            "min": 0.01,
            "orientation": "horizontal",
            "readout": true,
            "readout_format": ".2f",
            "step": 0.01,
            "style": "IPY_MODEL_93d81d9fafa54ba79cf04c47423a296a",
            "value": 1
          }
        },
        "0b4b044473df46fd816f9dad3965d710": {
          "model_module": "@jupyter-widgets/controls",
          "model_name": "IntSliderModel",
          "model_module_version": "1.5.0",
          "state": {
            "_dom_classes": [],
            "_model_module": "@jupyter-widgets/controls",
            "_model_module_version": "1.5.0",
            "_model_name": "IntSliderModel",
            "_view_count": null,
            "_view_module": "@jupyter-widgets/controls",
            "_view_module_version": "1.5.0",
            "_view_name": "IntSliderView",
            "continuous_update": true,
            "description": "Pade Degree:",
            "description_tooltip": null,
            "disabled": false,
            "layout": "IPY_MODEL_5d426b695bb84561be148853f6549536",
            "max": 20,
            "min": 1,
            "orientation": "horizontal",
            "readout": true,
            "readout_format": "d",
            "step": 1,
            "style": "IPY_MODEL_90ae670edd9e4b8aba745e7bf1a6caa5",
            "value": 10
          }
        },
        "c5e6c65132094ecfb3cbde0189004012": {
          "model_module": "@jupyter-widgets/controls",
          "model_name": "IntSliderModel",
          "model_module_version": "1.5.0",
          "state": {
            "_dom_classes": [],
            "_model_module": "@jupyter-widgets/controls",
            "_model_module_version": "1.5.0",
            "_model_name": "IntSliderModel",
            "_view_count": null,
            "_view_module": "@jupyter-widgets/controls",
            "_view_module_version": "1.5.0",
            "_view_name": "IntSliderView",
            "continuous_update": true,
            "description": "Taylor Degree:",
            "description_tooltip": null,
            "disabled": false,
            "layout": "IPY_MODEL_1e3c0628b1ad436d93f0d9982f300a29",
            "max": 20,
            "min": 1,
            "orientation": "horizontal",
            "readout": true,
            "readout_format": "d",
            "step": 1,
            "style": "IPY_MODEL_dffe7ced532f4ee8a35ebf8f7a285830",
            "value": 13
          }
        },
        "1023214798784ba399e9c0c9b6ada493": {
          "model_module": "@jupyter-widgets/controls",
          "model_name": "ButtonModel",
          "model_module_version": "1.5.0",
          "state": {
            "_dom_classes": [],
            "_model_module": "@jupyter-widgets/controls",
            "_model_module_version": "1.5.0",
            "_model_name": "ButtonModel",
            "_view_count": null,
            "_view_module": "@jupyter-widgets/controls",
            "_view_module_version": "1.5.0",
            "_view_name": "ButtonView",
            "button_style": "",
            "description": "Plot Bode",
            "disabled": false,
            "icon": "",
            "layout": "IPY_MODEL_e5606f48e7954b4884c3442b99aa926d",
            "style": "IPY_MODEL_0212ac6fc1ec482482263ad88f8241e4",
            "tooltip": ""
          }
        },
        "1581be03f29e4577b63a65e83cb5bb82": {
          "model_module": "@jupyter-widgets/base",
          "model_name": "LayoutModel",
          "model_module_version": "1.2.0",
          "state": {
            "_model_module": "@jupyter-widgets/base",
            "_model_module_version": "1.2.0",
            "_model_name": "LayoutModel",
            "_view_count": null,
            "_view_module": "@jupyter-widgets/base",
            "_view_module_version": "1.2.0",
            "_view_name": "LayoutView",
            "align_content": null,
            "align_items": null,
            "align_self": null,
            "border": null,
            "bottom": null,
            "display": null,
            "flex": null,
            "flex_flow": null,
            "grid_area": null,
            "grid_auto_columns": null,
            "grid_auto_flow": null,
            "grid_auto_rows": null,
            "grid_column": null,
            "grid_gap": null,
            "grid_row": null,
            "grid_template_areas": null,
            "grid_template_columns": null,
            "grid_template_rows": null,
            "height": null,
            "justify_content": null,
            "justify_items": null,
            "left": null,
            "margin": null,
            "max_height": null,
            "max_width": null,
            "min_height": null,
            "min_width": null,
            "object_fit": null,
            "object_position": null,
            "order": null,
            "overflow": null,
            "overflow_x": null,
            "overflow_y": null,
            "padding": null,
            "right": null,
            "top": null,
            "visibility": null,
            "width": null
          }
        },
        "921885326fca45bbb2e779b81d1e5fa0": {
          "model_module": "@jupyter-widgets/base",
          "model_name": "LayoutModel",
          "model_module_version": "1.2.0",
          "state": {
            "_model_module": "@jupyter-widgets/base",
            "_model_module_version": "1.2.0",
            "_model_name": "LayoutModel",
            "_view_count": null,
            "_view_module": "@jupyter-widgets/base",
            "_view_module_version": "1.2.0",
            "_view_name": "LayoutView",
            "align_content": null,
            "align_items": null,
            "align_self": null,
            "border": null,
            "bottom": null,
            "display": null,
            "flex": null,
            "flex_flow": null,
            "grid_area": null,
            "grid_auto_columns": null,
            "grid_auto_flow": null,
            "grid_auto_rows": null,
            "grid_column": null,
            "grid_gap": null,
            "grid_row": null,
            "grid_template_areas": null,
            "grid_template_columns": null,
            "grid_template_rows": null,
            "height": null,
            "justify_content": null,
            "justify_items": null,
            "left": null,
            "margin": null,
            "max_height": null,
            "max_width": null,
            "min_height": null,
            "min_width": null,
            "object_fit": null,
            "object_position": null,
            "order": null,
            "overflow": null,
            "overflow_x": null,
            "overflow_y": null,
            "padding": null,
            "right": null,
            "top": null,
            "visibility": null,
            "width": null
          }
        },
        "93d81d9fafa54ba79cf04c47423a296a": {
          "model_module": "@jupyter-widgets/controls",
          "model_name": "SliderStyleModel",
          "model_module_version": "1.5.0",
          "state": {
            "_model_module": "@jupyter-widgets/controls",
            "_model_module_version": "1.5.0",
            "_model_name": "SliderStyleModel",
            "_view_count": null,
            "_view_module": "@jupyter-widgets/base",
            "_view_module_version": "1.2.0",
            "_view_name": "StyleView",
            "description_width": "",
            "handle_color": null
          }
        },
        "5d426b695bb84561be148853f6549536": {
          "model_module": "@jupyter-widgets/base",
          "model_name": "LayoutModel",
          "model_module_version": "1.2.0",
          "state": {
            "_model_module": "@jupyter-widgets/base",
            "_model_module_version": "1.2.0",
            "_model_name": "LayoutModel",
            "_view_count": null,
            "_view_module": "@jupyter-widgets/base",
            "_view_module_version": "1.2.0",
            "_view_name": "LayoutView",
            "align_content": null,
            "align_items": null,
            "align_self": null,
            "border": null,
            "bottom": null,
            "display": null,
            "flex": null,
            "flex_flow": null,
            "grid_area": null,
            "grid_auto_columns": null,
            "grid_auto_flow": null,
            "grid_auto_rows": null,
            "grid_column": null,
            "grid_gap": null,
            "grid_row": null,
            "grid_template_areas": null,
            "grid_template_columns": null,
            "grid_template_rows": null,
            "height": null,
            "justify_content": null,
            "justify_items": null,
            "left": null,
            "margin": null,
            "max_height": null,
            "max_width": null,
            "min_height": null,
            "min_width": null,
            "object_fit": null,
            "object_position": null,
            "order": null,
            "overflow": null,
            "overflow_x": null,
            "overflow_y": null,
            "padding": null,
            "right": null,
            "top": null,
            "visibility": null,
            "width": null
          }
        },
        "90ae670edd9e4b8aba745e7bf1a6caa5": {
          "model_module": "@jupyter-widgets/controls",
          "model_name": "SliderStyleModel",
          "model_module_version": "1.5.0",
          "state": {
            "_model_module": "@jupyter-widgets/controls",
            "_model_module_version": "1.5.0",
            "_model_name": "SliderStyleModel",
            "_view_count": null,
            "_view_module": "@jupyter-widgets/base",
            "_view_module_version": "1.2.0",
            "_view_name": "StyleView",
            "description_width": "",
            "handle_color": null
          }
        },
        "1e3c0628b1ad436d93f0d9982f300a29": {
          "model_module": "@jupyter-widgets/base",
          "model_name": "LayoutModel",
          "model_module_version": "1.2.0",
          "state": {
            "_model_module": "@jupyter-widgets/base",
            "_model_module_version": "1.2.0",
            "_model_name": "LayoutModel",
            "_view_count": null,
            "_view_module": "@jupyter-widgets/base",
            "_view_module_version": "1.2.0",
            "_view_name": "LayoutView",
            "align_content": null,
            "align_items": null,
            "align_self": null,
            "border": null,
            "bottom": null,
            "display": null,
            "flex": null,
            "flex_flow": null,
            "grid_area": null,
            "grid_auto_columns": null,
            "grid_auto_flow": null,
            "grid_auto_rows": null,
            "grid_column": null,
            "grid_gap": null,
            "grid_row": null,
            "grid_template_areas": null,
            "grid_template_columns": null,
            "grid_template_rows": null,
            "height": null,
            "justify_content": null,
            "justify_items": null,
            "left": null,
            "margin": null,
            "max_height": null,
            "max_width": null,
            "min_height": null,
            "min_width": null,
            "object_fit": null,
            "object_position": null,
            "order": null,
            "overflow": null,
            "overflow_x": null,
            "overflow_y": null,
            "padding": null,
            "right": null,
            "top": null,
            "visibility": null,
            "width": null
          }
        },
        "dffe7ced532f4ee8a35ebf8f7a285830": {
          "model_module": "@jupyter-widgets/controls",
          "model_name": "SliderStyleModel",
          "model_module_version": "1.5.0",
          "state": {
            "_model_module": "@jupyter-widgets/controls",
            "_model_module_version": "1.5.0",
            "_model_name": "SliderStyleModel",
            "_view_count": null,
            "_view_module": "@jupyter-widgets/base",
            "_view_module_version": "1.2.0",
            "_view_name": "StyleView",
            "description_width": "",
            "handle_color": null
          }
        },
        "e5606f48e7954b4884c3442b99aa926d": {
          "model_module": "@jupyter-widgets/base",
          "model_name": "LayoutModel",
          "model_module_version": "1.2.0",
          "state": {
            "_model_module": "@jupyter-widgets/base",
            "_model_module_version": "1.2.0",
            "_model_name": "LayoutModel",
            "_view_count": null,
            "_view_module": "@jupyter-widgets/base",
            "_view_module_version": "1.2.0",
            "_view_name": "LayoutView",
            "align_content": null,
            "align_items": null,
            "align_self": null,
            "border": null,
            "bottom": null,
            "display": null,
            "flex": null,
            "flex_flow": null,
            "grid_area": null,
            "grid_auto_columns": null,
            "grid_auto_flow": null,
            "grid_auto_rows": null,
            "grid_column": null,
            "grid_gap": null,
            "grid_row": null,
            "grid_template_areas": null,
            "grid_template_columns": null,
            "grid_template_rows": null,
            "height": null,
            "justify_content": null,
            "justify_items": null,
            "left": null,
            "margin": null,
            "max_height": null,
            "max_width": null,
            "min_height": null,
            "min_width": null,
            "object_fit": null,
            "object_position": null,
            "order": null,
            "overflow": null,
            "overflow_x": null,
            "overflow_y": null,
            "padding": null,
            "right": null,
            "top": null,
            "visibility": null,
            "width": null
          }
        },
        "0212ac6fc1ec482482263ad88f8241e4": {
          "model_module": "@jupyter-widgets/controls",
          "model_name": "ButtonStyleModel",
          "model_module_version": "1.5.0",
          "state": {
            "_model_module": "@jupyter-widgets/controls",
            "_model_module_version": "1.5.0",
            "_model_name": "ButtonStyleModel",
            "_view_count": null,
            "_view_module": "@jupyter-widgets/base",
            "_view_module_version": "1.2.0",
            "_view_name": "StyleView",
            "button_color": null,
            "font_weight": ""
          }
        },
        "8803f268fd8b45449a15966f9a4b65a6": {
          "model_module": "@jupyter-widgets/controls",
          "model_name": "VBoxModel",
          "model_module_version": "1.5.0",
          "state": {
            "_dom_classes": [],
            "_model_module": "@jupyter-widgets/controls",
            "_model_module_version": "1.5.0",
            "_model_name": "VBoxModel",
            "_view_count": null,
            "_view_module": "@jupyter-widgets/controls",
            "_view_module_version": "1.5.0",
            "_view_name": "VBoxView",
            "box_style": "",
            "children": [
              "IPY_MODEL_526bab291554426c8ff1604ac1c56f3e",
              "IPY_MODEL_0b4b044473df46fd816f9dad3965d710",
              "IPY_MODEL_c5e6c65132094ecfb3cbde0189004012",
              "IPY_MODEL_1023214798784ba399e9c0c9b6ada493"
            ],
            "layout": "IPY_MODEL_e5ea554071e7417dbc77f1b1738895b1"
          }
        },
        "e5ea554071e7417dbc77f1b1738895b1": {
          "model_module": "@jupyter-widgets/base",
          "model_name": "LayoutModel",
          "model_module_version": "1.2.0",
          "state": {
            "_model_module": "@jupyter-widgets/base",
            "_model_module_version": "1.2.0",
            "_model_name": "LayoutModel",
            "_view_count": null,
            "_view_module": "@jupyter-widgets/base",
            "_view_module_version": "1.2.0",
            "_view_name": "LayoutView",
            "align_content": null,
            "align_items": null,
            "align_self": null,
            "border": null,
            "bottom": null,
            "display": null,
            "flex": null,
            "flex_flow": null,
            "grid_area": null,
            "grid_auto_columns": null,
            "grid_auto_flow": null,
            "grid_auto_rows": null,
            "grid_column": null,
            "grid_gap": null,
            "grid_row": null,
            "grid_template_areas": null,
            "grid_template_columns": null,
            "grid_template_rows": null,
            "height": null,
            "justify_content": null,
            "justify_items": null,
            "left": null,
            "margin": null,
            "max_height": null,
            "max_width": null,
            "min_height": null,
            "min_width": null,
            "object_fit": null,
            "object_position": null,
            "order": null,
            "overflow": null,
            "overflow_x": null,
            "overflow_y": null,
            "padding": null,
            "right": null,
            "top": null,
            "visibility": null,
            "width": null
          }
        },
        "e84f13671fde4b43a124c8234124308b": {
          "model_module": "@jupyter-widgets/controls",
          "model_name": "VBoxModel",
          "model_module_version": "1.5.0",
          "state": {
            "_dom_classes": [],
            "_model_module": "@jupyter-widgets/controls",
            "_model_module_version": "1.5.0",
            "_model_name": "VBoxModel",
            "_view_count": null,
            "_view_module": "@jupyter-widgets/controls",
            "_view_module_version": "1.5.0",
            "_view_name": "VBoxView",
            "box_style": "",
            "children": [
              "IPY_MODEL_526bab291554426c8ff1604ac1c56f3e",
              "IPY_MODEL_0b4b044473df46fd816f9dad3965d710",
              "IPY_MODEL_c5e6c65132094ecfb3cbde0189004012",
              "IPY_MODEL_1023214798784ba399e9c0c9b6ada493"
            ],
            "layout": "IPY_MODEL_e7fe19ba67584982829aac2533fc3dbe"
          }
        },
        "e7fe19ba67584982829aac2533fc3dbe": {
          "model_module": "@jupyter-widgets/base",
          "model_name": "LayoutModel",
          "model_module_version": "1.2.0",
          "state": {
            "_model_module": "@jupyter-widgets/base",
            "_model_module_version": "1.2.0",
            "_model_name": "LayoutModel",
            "_view_count": null,
            "_view_module": "@jupyter-widgets/base",
            "_view_module_version": "1.2.0",
            "_view_name": "LayoutView",
            "align_content": null,
            "align_items": null,
            "align_self": null,
            "border": null,
            "bottom": null,
            "display": null,
            "flex": null,
            "flex_flow": null,
            "grid_area": null,
            "grid_auto_columns": null,
            "grid_auto_flow": null,
            "grid_auto_rows": null,
            "grid_column": null,
            "grid_gap": null,
            "grid_row": null,
            "grid_template_areas": null,
            "grid_template_columns": null,
            "grid_template_rows": null,
            "height": null,
            "justify_content": null,
            "justify_items": null,
            "left": null,
            "margin": null,
            "max_height": null,
            "max_width": null,
            "min_height": null,
            "min_width": null,
            "object_fit": null,
            "object_position": null,
            "order": null,
            "overflow": null,
            "overflow_x": null,
            "overflow_y": null,
            "padding": null,
            "right": null,
            "top": null,
            "visibility": null,
            "width": null
          }
        },
        "e373ad4113b842a98d5fb2b8f7eb71ae": {
          "model_module": "@jupyter-widgets/controls",
          "model_name": "VBoxModel",
          "model_module_version": "1.5.0",
          "state": {
            "_dom_classes": [],
            "_model_module": "@jupyter-widgets/controls",
            "_model_module_version": "1.5.0",
            "_model_name": "VBoxModel",
            "_view_count": null,
            "_view_module": "@jupyter-widgets/controls",
            "_view_module_version": "1.5.0",
            "_view_name": "VBoxView",
            "box_style": "",
            "children": [
              "IPY_MODEL_526bab291554426c8ff1604ac1c56f3e",
              "IPY_MODEL_0b4b044473df46fd816f9dad3965d710",
              "IPY_MODEL_c5e6c65132094ecfb3cbde0189004012",
              "IPY_MODEL_1023214798784ba399e9c0c9b6ada493"
            ],
            "layout": "IPY_MODEL_91388b456be34453a11d7f165f98145e"
          }
        },
        "91388b456be34453a11d7f165f98145e": {
          "model_module": "@jupyter-widgets/base",
          "model_name": "LayoutModel",
          "model_module_version": "1.2.0",
          "state": {
            "_model_module": "@jupyter-widgets/base",
            "_model_module_version": "1.2.0",
            "_model_name": "LayoutModel",
            "_view_count": null,
            "_view_module": "@jupyter-widgets/base",
            "_view_module_version": "1.2.0",
            "_view_name": "LayoutView",
            "align_content": null,
            "align_items": null,
            "align_self": null,
            "border": null,
            "bottom": null,
            "display": null,
            "flex": null,
            "flex_flow": null,
            "grid_area": null,
            "grid_auto_columns": null,
            "grid_auto_flow": null,
            "grid_auto_rows": null,
            "grid_column": null,
            "grid_gap": null,
            "grid_row": null,
            "grid_template_areas": null,
            "grid_template_columns": null,
            "grid_template_rows": null,
            "height": null,
            "justify_content": null,
            "justify_items": null,
            "left": null,
            "margin": null,
            "max_height": null,
            "max_width": null,
            "min_height": null,
            "min_width": null,
            "object_fit": null,
            "object_position": null,
            "order": null,
            "overflow": null,
            "overflow_x": null,
            "overflow_y": null,
            "padding": null,
            "right": null,
            "top": null,
            "visibility": null,
            "width": null
          }
        }
      }
    }
  },
  "nbformat": 4,
  "nbformat_minor": 0
}