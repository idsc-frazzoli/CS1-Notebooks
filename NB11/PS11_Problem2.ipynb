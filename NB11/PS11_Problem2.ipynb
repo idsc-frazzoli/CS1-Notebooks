{
 "cells": [
  {
   "cell_type": "code",
   "execution_count": null,
   "metadata": {
    "id": "eBUe4HKCSmo2"
   },
   "outputs": [],
   "source": [
    "%pip install numpy matplotlib scipy ipywidgets control IPython sympy"
   ]
  },
  {
   "cell_type": "markdown",
   "metadata": {
    "id": "5FhPg60iTMjj"
   },
   "source": [
    "First define the quadrotor parameters\n",
    "\n",
    "\n"
   ]
  },
  {
   "cell_type": "code",
   "execution_count": null,
   "metadata": {
    "id": "CmJrxVFuTBPG"
   },
   "outputs": [],
   "source": [
    "# Quadrotor Parameters and Transfer Functions\n",
    "\n",
    "# Import required libraries\n",
    "import numpy as np\n",
    "import control as ctrl\n",
    "import matplotlib.pyplot as plt\n",
    "from control.matlab import step, margin, rlocus\n",
    "\n",
    "\n",
    "# Define quadrotor parameters\n",
    "m = 0.5  # kg - Mass of quadcopter\n",
    "ep = 10 * np.pi / 180  # radians - Dihedral angle\n",
    "g = 9.81  # m/s^2 - Gravitational acceleration\n",
    "l = 0.5  # m - Length of drone\n",
    "J = (1 / 12) * m * l**2  # kg*m^2 - Moment of inertia (cylinder)\n",
    "\n",
    "# Define transfer functions\n",
    "s = ctrl.TransferFunction.s  # Define Laplace variable 's'\n",
    "\n",
    "G_tu = (m * g * l * np.cos(ep)) / (J * s**2)  # Transfer function for torque-to-angular displacement\n",
    "G_xt = ((-m * g * l) - (np.tan(ep) * J * s**2)) / (s**2 * m * l)  # Transfer function for displacement-to-torque\n",
    "\n",
    "# Display the transfer functions\n",
    "print(\"Transfer Function G_tu (Torque-to-Angular Displacement):\")\n",
    "print(G_tu)\n",
    "\n",
    "print(\"\\nTransfer Function G_xt (Displacement-to-Torque):\")\n",
    "print(G_xt)\n"
   ]
  },
  {
   "cell_type": "markdown",
   "metadata": {
    "id": "4DXd77j5Tj1k"
   },
   "source": [
    "c) Design for C_uΘ"
   ]
  },
  {
   "cell_type": "code",
   "execution_count": null,
   "metadata": {
    "id": "eVDcs2KDTsiL"
   },
   "outputs": [],
   "source": [
    "# Plot Bode plot for G_tu\n",
    "plt.figure()\n",
    "\n",
    "# Generate the Bode plot\n",
    "ctrl.bode_plot(G_tu, dB=True, Hz=False, deg=True)\n"
   ]
  },
  {
   "cell_type": "code",
   "execution_count": null,
   "metadata": {
    "id": "JRdJooHKolgh"
   },
   "outputs": [],
   "source": [
    "# Compute margins for G_tu\n",
    "GM_tu, PM_tu, wgc_tu, wpc_tu = ctrl.margin(G_tu)\n",
    "\n",
    "# Display the results\n",
    "print(f\"Gain Margin (GM): {GM_tu} dB\")\n",
    "print(f\"Phase Margin (PM): {PM_tu} degrees\")\n",
    "print(f\"Gain Crossover Frequency (wgc): {wgc_tu} rad/s\")\n",
    "print(f\"Phase Crossover Frequency (wpc): {wpc_tu} rad/s\")\n"
   ]
  },
  {
   "cell_type": "markdown",
   "metadata": {
    "id": "n9nyZ0v3xRLC"
   },
   "source": [
    "There are many ways to go about the design that we have seen in the lecture, such as dynamic compensators (and then inferring the PID gains), or the root locus design method, pole-zero placement, ... We leave it open for you to play around with this and choose gains according to what you would deem acceptable performance.\n"
   ]
  },
  {
   "cell_type": "code",
   "execution_count": null,
   "metadata": {
    "id": "zeUADofwxdbI"
   },
   "outputs": [],
   "source": [
    "# Going by adding two zeros to attract the poles to the left (PID as two zeroes, an integrator and a fast pole). Providing this only as\n",
    "#example design (no specific performance criteria, just providing template)\n",
    "z_1 = TODO\n",
    "z_2 = TODO\n",
    "p_fast = TODO\n",
    "C_tu = (s+z_1)*(s+z_2)/(s*(s+p_fast));\n",
    "ctrl.root_locus(G_tu*C_tu)"
   ]
  },
  {
   "cell_type": "code",
   "execution_count": null,
   "metadata": {
    "id": "wyWZAI5dxm32"
   },
   "outputs": [],
   "source": [
    "k_tu = 50; # adjusted to max phase margin from bode plot\n",
    "L_tu = k_tu*G_tu*C_tu;\n",
    "# generate bode plot of loop gain with controller\n",
    "ctrl.bode(L_tu);\n"
   ]
  },
  {
   "cell_type": "code",
   "execution_count": null,
   "metadata": {
    "id": "2d0gYWmbyF_L"
   },
   "outputs": [],
   "source": [
    "# Compute margins for L_tu\n",
    "\n",
    "[GM_Ltu,PM_Ltu,wgc_Ltu,wpc_Ltu]=ctrl.margin(L_tu)\n",
    "\n",
    "# Display the results\n",
    "print(f\"Gain Margin (GM): {GM_Ltu} dB\")\n",
    "print(f\"Phase Margin (PM): {PM_Ltu} degrees\")\n",
    "print(f\"Gain Crossover Frequency (wgc): {wgc_Ltu} rad/s\")\n",
    "print(f\"Phase Crossover Frequency (wpc): {wpc_Ltu} rad/s\")"
   ]
  },
  {
   "cell_type": "code",
   "execution_count": null,
   "metadata": {
    "id": "33Vr4Ft0ycj-"
   },
   "outputs": [],
   "source": [
    "# Calculate closed-loop TF and generate step response\n",
    "T_tu = L_tu/(1+L_tu)\n",
    "\n",
    "time, response = ctrl.step_response(T_tu, T=2)\n",
    "\n",
    "# Plot the step response\n",
    "\n",
    "plt.figure()\n",
    "plt.plot(time, response)\n",
    "plt.title('Step Response of T_tu')\n",
    "plt.xlabel('Time (s)')\n",
    "plt.ylabel('Response')\n",
    "plt.xlim([0,2])\n",
    "plt.grid(True)\n",
    "plt.show()\n"
   ]
  },
  {
   "cell_type": "code",
   "execution_count": null,
   "metadata": {
    "id": "HRZDs6J00fUO"
   },
   "outputs": [],
   "source": [
    "# Gather step response info\n",
    "ctrl.step_info(response, time)"
   ]
  },
  {
   "cell_type": "markdown",
   "metadata": {
    "id": "QHTKxjCx3Wbu"
   },
   "source": [
    "d) Following similar steps as above. Again, there are multiple ways to solve this. We leave this open on purpose. Here it is important however to note that the bandwidth of the outer loop should be significantly smaller than the inner loop. A common rule of thumb is to make it 10 times slower, which means that we could/should at most consider a bandwidth of around 3 rad/s! (Since the inner loop has a bandwidth of approx 30 rad/s)"
   ]
  },
  {
   "cell_type": "code",
   "execution_count": null,
   "metadata": {
    "id": "nH0ZjSMC3aGb"
   },
   "outputs": [],
   "source": [
    "ctrl.bode(G_xt)"
   ]
  },
  {
   "cell_type": "code",
   "execution_count": null,
   "metadata": {
    "id": "6SiotaeH3zOX"
   },
   "outputs": [],
   "source": [
    "# Compute margins for G_xt\n",
    "[GM_tx,PM_tx,wgc_tx,wpc_tx]=ctrl.margin(G_xt)\n",
    "\n",
    "# Display the results\n",
    "print(f\"Gain Margin (GM): {GM_tx} dB\")\n",
    "print(f\"Phase Margin (PM): {PM_tx} degrees\")\n",
    "print(f\"Gain Crossover Frequency (wgc): {wgc_tx} rad/s\")\n",
    "print(f\"Phase Crossover Frequency (wpc): {wpc_tx} rad/s\")\n"
   ]
  },
  {
   "cell_type": "code",
   "execution_count": null,
   "metadata": {
    "id": "ZRbZc3Nw8U2D"
   },
   "outputs": [],
   "source": [
    "# define controller transfer function\n",
    "p_fast_2 = TODO\n",
    "p_slow = TODO\n",
    "z_3 = TODO\n",
    "C_xt = (s+z_3)/((s+p_slow)*(s+p_fast_2));\n",
    "ctrl.root_locus(-G_xt*C_xt);"
   ]
  },
  {
   "cell_type": "code",
   "execution_count": null,
   "metadata": {
    "id": "uZy57fwe9G4c"
   },
   "outputs": [],
   "source": [
    "# generate loop transfer function\n",
    "k_xt = TODO; # adjusted to max phase margin from bode plot and to not exceed\n",
    "L_xt = k_xt*G_xt*C_xt;\n",
    "ctrl.bode(L_xt);"
   ]
  },
  {
   "cell_type": "code",
   "execution_count": null,
   "metadata": {
    "id": "4q2VRKb29Qqz"
   },
   "outputs": [],
   "source": [
    "# compute margins for L_xt\n",
    "[GM_Lxt,PM_Lxt,wgc_Lxt,wpc_Lxt]=ctrl.margin(L_xt)\n",
    "\n",
    "# Display the results\n",
    "print(f\"Gain Margin (GM): {GM_Lxt} dB\")\n",
    "print(f\"Phase Margin (PM): {PM_Lxt} degrees\")\n",
    "print(f\"Gain Crossover Frequency (wgc): {wgc_Lxt} rad/s\")\n",
    "print(f\"Phase Crossover Frequency (wpc): {wpc_Lxt} rad/s\")"
   ]
  },
  {
   "cell_type": "code",
   "execution_count": null,
   "metadata": {
    "id": "AVs0SdjK9scP"
   },
   "outputs": [],
   "source": [
    "# Calculate closed-loop TF and generate step response\n",
    "T_xt = L_xt/(1+L_xt)\n",
    "time2, response2 = ctrl.step_response(T_xt, T=5)\n",
    "\n",
    "# Plot the step response\n",
    "\n",
    "plt.figure()\n",
    "plt.plot(time2, response2)\n",
    "plt.title('Step Response of T_xt')\n",
    "plt.xlabel('Time (s)')\n",
    "plt.ylabel('Response')\n",
    "plt.xlim([0,5])\n",
    "plt.grid(True)\n",
    "plt.show()"
   ]
  },
  {
   "cell_type": "code",
   "execution_count": null,
   "metadata": {
    "id": "UawAu_IJ9_2L"
   },
   "outputs": [],
   "source": [
    "# Gather step response info\n",
    "ctrl.step_info(response2, time2)"
   ]
  },
  {
   "cell_type": "code",
   "execution_count": null,
   "metadata": {
    "id": "pppyAbqt-ERk"
   },
   "outputs": [],
   "source": [
    "# check closed loop bandwidth\n",
    "ctrl.bode(T_xt)"
   ]
  }
 ],
 "metadata": {
  "colab": {
   "provenance": []
  },
  "kernelspec": {
   "display_name": "Python 3",
   "name": "python3"
  },
  "language_info": {
   "name": "python"
  }
 },
 "nbformat": 4,
 "nbformat_minor": 0
}
