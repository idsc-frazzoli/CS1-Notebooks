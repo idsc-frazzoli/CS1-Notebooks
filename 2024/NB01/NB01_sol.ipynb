{
 "cells": [
  {
   "cell_type": "markdown",
   "metadata": {},
   "source": [
    "# Notebook Lecture 2: Introduction to System Modeling, System B Solution\n",
    "© 2024 ETH Zurich, Mark Benazet Castells, Jonas Holinger, Felix Muller, Matteo Penlington; Institute for Dynamic Systems and Control; Prof. Emilio Frazzoli\n",
    "\n",
    "This interactive notebook covers the basics of system modeling, with a worked through example, how to compute the discretized output of a system, and a couple interactive examples to build an intuition of the subjects.\n",
    "\n",
    "Authors:\n",
    "- Jorit Geurts; jgeurts@ethz.ch\n",
    "- Shubham Gupta; shugupta@ethz.ch"
   ]
  },
  {
   "cell_type": "markdown",
   "metadata": {},
   "source": [
    "# Solution for Example from Notebook 1"
   ]
  },
  {
   "cell_type": "markdown",
   "metadata": {},
   "source": [
    "\n",
    "In the system B we have a spring where its natural state is at $x=0$ and spring constant $k$. The mass hanging on the spring is $m$ and there acts a force $F_c$ on the point mass. This force is time variant and can be controlled by us. Additionally we have a damper in the system, with damper coefficient $b$. This time we can directly measure the position of $x$\n",
    "\n",
    "#### Step 1: Defining the boundaries, inputs and outputs\n",
    "Again only the position of the mass is relevant, thus this is the only quantity to keep track of. The easiest way to model this system is to create a free body diagram of the point mass and interpret the forces (Damper Law: $F=b \\dot x$, where $b$ is a constant and $\\dot x$ is the velocity of the spring) as inputs to the system. For the output we have the position of the point mass.\n",
    "To end up in this formulation one first defines the **inputs** as a input vector $u(t)=F_c(t)$, then define the **outputs/measurements** as an output vector $y(t)=x(t)$ and lastly define the system states as **state** vector $z(t)=[x(t),\\dot x(t)]^T$.   \n",
    "\n",
    "<img src=\"img/Free_Body_Diagram_System_B.png\" width=\"400\">\n",
    "\n",
    "#### Step 2: Setup the differential equations\n",
    "Using Newtons 2nd Law for linear motion as mentioned above we get:\n",
    "$$\n",
    "\\sum F = m \\ddot x \\\\\n",
    "\\Rightarrow F_c(t) + mg - kx(t) - b\\dot x(t) = m \\ddot x(t)\n",
    "$$\n",
    "We can rewrite this and get:\n",
    "$$\n",
    "\\ddot x(t) = \\frac{1}{m}(F_x(t)+mg-kx(t)-b\\dot x(t))\n",
    "$$\n",
    "For the output we have a force measurement that is proportional to x(t)\n",
    "$$\n",
    "y(t) = x(t)\n",
    "$$ \n",
    "\n",
    "And we have them is the standard form (The first two equation for the dynamics model and the last euation is the measuement model).  \n",
    "This is one way. There is other ways as well to put the derived differential equations in the stsandard form.\n",
    "#### Step 3: Write down in standard form\n",
    "Since we have a second derivative our system is not yet in standard form. We first define our input as\n",
    "$$\n",
    "u(t) = F_c(t)\n",
    "$$\n",
    "Next we define the following states (we replace $x(t)$ in the definition of the standard from with $z(t)$ to avoid confusion):\n",
    "$$\n",
    "z(t) = \n",
    "\\begin{bmatrix}\n",
    "    z_1(t) \\\\\n",
    "    z_2(t)\n",
    "\\end{bmatrix}\n",
    "= \\begin{bmatrix}\n",
    "    x(t) \\\\\n",
    "    \\dot x(t)\n",
    "\\end{bmatrix}\n",
    "$$\n",
    "With this we get the following:\n",
    "$$\n",
    "\\dot z(t) = \n",
    "\\begin{bmatrix}\n",
    "    z_2(t) \\\\\n",
    "    \\frac{1}{m}(u(t)+mg-kz_1(t)-b\\dot z_2(t))\n",
    "\\end{bmatrix}\n",
    "$$\n",
    "And the output is:\n",
    "$$\n",
    "y(t) = z_1(t)\n",
    "$$\n"
   ]
  }
 ],
 "metadata": {
  "language_info": {
   "name": "python"
  }
 },
 "nbformat": 4,
 "nbformat_minor": 2
}
