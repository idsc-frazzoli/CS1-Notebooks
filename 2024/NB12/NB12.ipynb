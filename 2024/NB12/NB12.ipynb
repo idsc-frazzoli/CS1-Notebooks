{
 "cells": [
  {
   "cell_type": "markdown",
   "metadata": {},
   "source": [
    "# Notebook 12: Describing Function\n",
    "© 2024 ETH Zurich, Mark Benazet Castells, Jonas Holinger, Felix Muller, Matteo Penlington; Institute for Dynamic Systems and Control; Prof. Emilio Frazzoli\n",
    "\n",
    "This notebook explores non-linear gains, how to determine the absolute stability of the system, and how to use describing functions to identify the presence of potential limit cycles, and whether they are stable.\n",
    "\n",
    "Authors:\n",
    "- Mark Benazet Castells; mbenazet@ethz.ch\n",
    "- Shubham Gupta; shugupta@ethz.ch\n",
    "- Jonas Holinger; jholinger@ethz.ch\n",
    "- Felix Muller; fmuller@ethz.ch\n"
   ]
  },
  {
   "cell_type": "markdown",
   "metadata": {},
   "source": [
    "# Learning Objectives"
   ]
  },
  {
   "cell_type": "markdown",
   "metadata": {},
   "source": [
    "After completing this material, you should be able to:\n",
    "\n",
    "1. **Understand the role of nonlinearities in control systems:**\n",
    "   - Identify common static (memoryless) nonlinearities such as saturation, dead-zone, quantization, as well as non-memoryless ones such as the Schmitt trigger. \n",
    "   - Distinguish between static nonlinearities and nonlinearities with memory, such as hysteresis.\n",
    "   - Explain why linear analysis tools are insufficient for nonlinear systems and how the describing function method addresses this limitation.\n",
    "\n",
    "2. **Apply absolute stability criteria for nonlinear feedback systems:**\n",
    "   - Understand the concept of absolute stability for a system with one static nonlinearity.\n",
    "   - Use necessary and sufficient conditions to determine absolute stability.\n",
    "  \n",
    "3. **Apply the describing function method:**\n",
    "   - Derive the describing function $N(A)$ provided a system description.\n",
    "   - Approximate a nonlinear system using its describing function as an amplitude-dependent gain.\n",
    "\n",
    "4. **Analyze limit cycles in nonlinear feedback systems:**\n",
    "   - Recognize how limit cycles can arise in nonlinear feedback systems.\n",
    "   - Identify limit cycles by locating intersections of $L(j\\omega)$ with $-1/N(A)$.\n",
    "   - Predict the amplitude and frequency of limit cycles using the describing function method.\n",
    "\n",
    "5. **Assess the stability of limit cycles:**\n",
    "   - Determine the stability of limit cycles using an extension of the Nyquist stability criterion."
   ]
  },
  {
   "cell_type": "markdown",
   "metadata": {},
   "source": [
    "\n",
    "## Required Packages\n"
   ]
  },
  {
   "cell_type": "markdown",
   "metadata": {},
   "source": [
    "\n",
    "Run the following cell to import required packages:"
   ]
  },
  {
   "cell_type": "code",
   "execution_count": null,
   "metadata": {},
   "outputs": [],
   "source": [
    "%pip install numpy matplotlib scipy ipywidgets control IPython sympy\n",
    "\n",
    "import numpy as np\n",
    "import matplotlib.pyplot as plt\n",
    "from ipywidgets import FloatSlider, interact, Dropdown, Text\n",
    "import control\n",
    "import warnings\n",
    "warnings.filterwarnings('ignore')"
   ]
  },
  {
   "cell_type": "markdown",
   "metadata": {},
   "source": [
    "# Motivation"
   ]
  },
  {
   "cell_type": "markdown",
   "metadata": {},
   "source": [
    "This course has predominantly covered linear systems. However, most real-world systems are **nonlinear**. Until now, we have handled nonlinearities by **linearizing** around equilibrium points, and then since the behavior of the non-linear system near the equilibrium points can be similar to that of the linear, in such cases then design a controller for the linear system. Although this still requires testing and validation of the controller on the non-linear system, through the linear tools, one is able to understand some behaviors the non-linear system may exhibit. However, linear-systems do not capture all the behaviors that the non-linear may, such as **limit cycles**. \n",
    "\n",
    "Thus, this notebook introduces when a non-linear gain is present within a SISO single feedback system, how one can determine whether the system is (absolutely) stable, and whether limit cycles are present (and if present, whether they are stable)."
   ]
  },
  {
   "cell_type": "markdown",
   "metadata": {},
   "source": [
    "# Non-Linearities"
   ]
  },
  {
   "cell_type": "markdown",
   "metadata": {},
   "source": [
    "In effect, there are several elements of a system that could be non-linear (E.g., the plant, controller). Here we are concerned with the case where a **single non-linear feedback gain** $NL$ is present in the system. \n",
    "\n",
    "To contextualize this, consider the feedback interconnection of the system below. The plant and controller remain within the linear regime that has been explored thus far, however, the $NL$ gain represents a non-linear gain. In the following subsection examples of non-linear gains are presented. \n",
    "\n",
    "<div style=\"text-align:center;\">\n",
    "<img src=\"./img/fb_loop.png\" alt=\"Closed Loop System\" width=\"500\">\n",
    "</div>\n",
    "\n",
    "Further, in this context, when we refer to nonlinear system, we refer to a system of the above architecture (potentially using $L=PC$ interchangeably).\n",
    "\n"
   ]
  },
  {
   "cell_type": "markdown",
   "metadata": {},
   "source": [
    "\n",
    "## Examples of Non-Linear Gains\n"
   ]
  },
  {
   "cell_type": "markdown",
   "metadata": {},
   "source": [
    "Below are some of the most common types of nonlinearities, along with real-life examples for each:\n",
    "\n",
    "1. **Saturation**: When a system's output is limited to a maximum and/or minimum value.\n",
    "   - **Example**: An electric motor driving wheels (e.g., of a car) has a \"functional\" range at which it can rotate the wheels. It is unable to rotate the wheels above a certain threshold without damaging the motor itself.\n",
    "\n",
    "2. **Dead Zone**: A region where small inputs produce no output change.\n",
    "   - **Example**: A joystick in a game controller may have a small range around the neutral position where movement does not affect the game.\n",
    "\n",
    "3. **Quantization**: Continuous signals are mapped to discrete levels.\n",
    "   - **Example**: A digital thermometer rounds continuous temperature measurements to the nearest integer.\n",
    "\n",
    "4. **Hysteresis**: The output depends on the input's history (i.e., direction), not just its current value.\n",
    "   - **Example**: A thermostat for home heating switches on below one temperature but only switches off after exceeding a higher temperature.\n",
    "\n",
    "5. **Relay (Switching Nonlinearity)**: The output switches between two distinct levels.\n",
    "   - **Example**: An on-off controller for a streetlight that turns on at dusk and off at dawn.\n",
    "\n",
    "These nonlinearities often arise in practical systems and can significantly affect system behavior, making them essential to understand for control design.\n",
    "\n",
    "Further, in general it is possible to classify nonlinear gains as *static* and *dynamic*. \n",
    "> Static nonlinearities do not depend on the direction (derivative) of the input, e.g., Saturation, whilst dynamic nonlinearities do, e.g., a Relay switch with Hysteresis."
   ]
  },
  {
   "cell_type": "markdown",
   "metadata": {},
   "source": [
    "To gain an intuitive understanding of the above, in the following tool, you can visualize how different nonlinearities shape the response to a sinusoidal input. Adjust the amplitude $A$ and select a nonlinearity to observe its effect on the system's output."
   ]
  },
  {
   "cell_type": "code",
   "execution_count": null,
   "metadata": {},
   "outputs": [],
   "source": [
    "def plot_nonlinearity(nonlinearity_type='saturation', A=1.5):\n",
    "    \"\"\"\n",
    "    Plots the response of common nonlinear elements to a sinusoidal input.\n",
    "    \n",
    "    Parameters:\n",
    "    - nonlinearity_type: The type of nonlinearity ('saturation', 'dead_zone', 'quantizer', 'hysteresis', 'relay').\n",
    "    - A: Amplitude of the sinusoidal input.\n",
    "    \"\"\"\n",
    "    t = np.linspace(0, 2 * np.pi, 1000)  # Time vector\n",
    "    u = A * np.sin(t)  # Sinusoidal input\n",
    "    \n",
    "    if nonlinearity_type == 'saturation':\n",
    "        y = np.clip(u, -1, 1)  # Saturation limits the output to [-1, 1]\n",
    "    elif nonlinearity_type == 'dead_zone':\n",
    "        dead_zone_width = 0.2  # Width of the dead zone\n",
    "        y = np.where(np.abs(u) < dead_zone_width, 0, u)  # Zero output in the dead zone\n",
    "    elif nonlinearity_type == 'quantizer':\n",
    "        step_size = 0.5  # Size of quantization step\n",
    "        y = np.round(u / step_size) * step_size  # Round input to the nearest multiple of step_size\n",
    "    elif nonlinearity_type == 'hysteresis':\n",
    "        y = np.zeros_like(u)\n",
    "        state = 0  # Start at zero state\n",
    "        for i in range(1, len(u)):\n",
    "            if u[i] > 1.0:\n",
    "                state = 1\n",
    "            elif u[i] < -0.2:\n",
    "                state = -1\n",
    "            y[i] = state  # Hysteresis holds its state\n",
    "    elif nonlinearity_type == 'relay':\n",
    "        relay_threshold = 0.2\n",
    "        y = np.where(u > relay_threshold, 1, np.where(u < -relay_threshold, -1, 0))  # Relay switch\n",
    "    else:\n",
    "        y = u  # Default to no nonlinearity (identity)\n",
    "    \n",
    "    plt.figure(figsize=(8, 4))\n",
    "    plt.plot(t, u, label='Input $u(t)$', linestyle='dashed', color='blue')\n",
    "    plt.plot(t, y, label='Output $y(t)$', color='red')\n",
    "    plt.xlabel('Time (t)')\n",
    "    plt.ylabel('Amplitude')\n",
    "    plt.title(f'Nonlinearity Type: {nonlinearity_type.capitalize()} (A = {A})')\n",
    "    plt.axhline(0, color='black', linewidth=0.5)\n",
    "    plt.axvline(0, color='black', linewidth=0.5)\n",
    "    plt.legend()\n",
    "    plt.grid(True, linestyle='--', linewidth=0.5)\n",
    "    plt.show()\n",
    "\n",
    "# Interactive widget to change nonlinearity type and input amplitude\n",
    "interact(plot_nonlinearity, \n",
    "         nonlinearity_type=Dropdown(options=['saturation', 'dead_zone', 'quantizer', 'hysteresis', 'relay'], \n",
    "                                    value='saturation', \n",
    "                                    description='Nonlinearity:'),\n",
    "         A=FloatSlider(min=0.5, max=3, step=0.1, value=1.5, description='Amplitude (A)'))"
   ]
  },
  {
   "cell_type": "markdown",
   "metadata": {},
   "source": [
    "# Absolute Stability with Static Nonlinearities\n"
   ]
  },
  {
   "cell_type": "markdown",
   "metadata": {},
   "source": [
    "If a nonlinearity is present in the system, one of the first things we would like to know first is whether the system is stable. Below we introduce a necessary and sufficient condition that can be used to identify whether a system is stable.\n",
    "\n",
    "Note that, the below is valid for a system with a **static** nonlinear gain."
   ]
  },
  {
   "cell_type": "markdown",
   "metadata": {},
   "source": [
    "## Absolute Stability"
   ]
  },
  {
   "cell_type": "markdown",
   "metadata": {},
   "source": [
    "Consider the following setup. \n",
    "\n",
    "A feedback system containing:\n",
    "1. A linear system $L(s)$,\n",
    "2. A static nonlinear \"gain\" element $\\textit{NL}$: $u \\rightarrow y(u)$,\n",
    "\n",
    "The nonlinearity is characterized by:\n",
    "- $y(0) = 0$ (the nonlinearity is centered at the origin),\n",
    "- $k_1 \\leq \\frac{y(u)}{u} \\leq k_2$ for all $u \\neq 0$ (the nonlinearity is bounded).\n",
    "\n",
    "Or in other words, the nonlinearity function's graph must be contained within a sector bounded by lines of slope $k_1$ and $k_2$: $k_1 u \\leq \\textit{NL}(u) \\leq k_2 u$.\n",
    "\n",
    "<div style=\"text-align:center;\">\n",
    "<img src=\"./img/as.png\" alt=\"Necessary Condition\" width=\"300\">\n",
    "</div>\n",
    "\n",
    "> Then a system is said to be **absolutely stable** if for the **static** nonlinearity $\\textit{NL}$, $u=0$ is a global asymptotically stable equilibrium point for the closed loop system.\n",
    "\n",
    "Intuitively this can be thought of as, if the system is absolutely stable, for any initial condition of $L(s)$ and any choice of $\\textit{NL}$ (without the bounds) the output of the system will converge to $0$ as $t\\to\\infty$.\n",
    "\n",
    "In order to determine whether a system is absolutely stable, we can rely on the following necessary and sufficient conditions."
   ]
  },
  {
   "cell_type": "markdown",
   "metadata": {},
   "source": [
    "\n",
    "### Necessary Condition\n"
   ]
  },
  {
   "cell_type": "markdown",
   "metadata": {},
   "source": [
    "A necessary condition for absolute stability is that: \n",
    "> The Nyquist plot of $L(s)$ encircles the segment $\\left[\\frac{-1}{k_1}, \\frac{-1}{k_2}\\right]$ counterclockwise number of times equal to the number of unstable poles of $L(s)$, \n",
    "\n",
    "<div style=\"text-align:center;\">\n",
    "<img src=\"./img/nc.png\" alt=\"Necessary Condition\" width=\"300\">\n",
    "</div>\n"
   ]
  },
  {
   "cell_type": "markdown",
   "metadata": {},
   "source": [
    "\n",
    "### Sufficient Condition (Circle Criterion)\n"
   ]
  },
  {
   "cell_type": "markdown",
   "metadata": {},
   "source": [
    "\n",
    "A sufficient condition for absolute stability is: \n",
    "> The Nyquist plot of $L(s)$ encircles the circle with diameter $[\\frac{-1}{k_1}, \\frac{-1}{k_2}]$ counterclockwise a number of times equal to the number of unstable poles of $L(s)$.\n",
    "\n",
    "This is an extension of the Nyquist stability criterion where:\n",
    "- Instead of counting encirclements of the $-\\frac{1}{k}$ point\n",
    "- We count encirclements of a circle with diameter $[\\frac{-1}{k_1}, \\frac{-1}{k_2}]$\n",
    "\n",
    "<div style=\"text-align:center;\">\n",
    "<img src=\"./img/sc.png\" alt=\"Sufficient Condition\" width=\"300\">\n",
    "</div>\n",
    "\n"
   ]
  },
  {
   "cell_type": "markdown",
   "metadata": {},
   "source": [
    "### Limitations"
   ]
  },
  {
   "cell_type": "markdown",
   "metadata": {},
   "source": [
    "It is important to note that if the sufficient condition is not met, but the necessary condition is, (e.g., the Nyquist of $L(s)$ does not encircle the $\\left[\\frac{-1}{k_1}, \\frac{-1}{k_2}\\right]$ segment but intersects the circle with diameter $\\left[\\frac{-1}{k_1}, \\frac{-1}{k_2}\\right]$), further analysis is required to determine whether the system is stable.\n",
    "\n",
    "Intuitively this can be thought of as, there exists some value of $k$ that $NL$ could take, which may result in encirclements and an unstable closed loop.\n",
    "\n",
    "This motivates the need for more advanced analysis techniques, such as describing functions."
   ]
  },
  {
   "cell_type": "markdown",
   "metadata": {},
   "source": [
    "Below is a brief visualization where you can gain an intuitive understanding as how varying $k_1, k_2$ influences the regions of interest on the Nyquist."
   ]
  },
  {
   "cell_type": "code",
   "execution_count": null,
   "metadata": {},
   "outputs": [],
   "source": [
    "def analyze_stability(k1, k2):\n",
    "    # Clear previous plots\n",
    "    plt.close('all')\n",
    "    \n",
    "    num = [1]\n",
    "    den = [1, 1, 1]  # s^2 + s + 1\n",
    "    sys = control.TransferFunction(num, den)\n",
    "    \n",
    "    # Create frequency array for Nyquist plot\n",
    "    omega = np.logspace(-2, 2, 1000)\n",
    "    \n",
    "    # Get frequency response\n",
    "    mag, phase, omega = control.bode(sys, omega, plot=False)\n",
    "    \n",
    "    # Convert to complex numbers for Nyquist plot\n",
    "    resp = mag * np.exp(1j * phase)\n",
    "    \n",
    "    # Create figure with two subplots\n",
    "    fig, (ax1, ax2) = plt.subplots(1, 2, figsize=(15, 6))\n",
    "    \n",
    "    # Plot 1: Sector bounds\n",
    "    u = np.linspace(-5, 5, 100)\n",
    "\n",
    "    ax1.axhline(y=0, color='k', linewidth=0.5)\n",
    "    ax1.axvline(x=0, color='k', linewidth=0.5)\n",
    "\n",
    "    ax1.set_xlim([-5, 5])\n",
    "    ax1.set_ylim([-5, 5])\n",
    "\n",
    "    ax1.plot(u, k1*u, 'r--', label=f'k₁ = {k1}')\n",
    "    ax1.plot(u, k2*u, 'b--', label=f'k₂ = {k2}')\n",
    "    ax1.fill_between(u, k1*u, k2*u, alpha=0.2, color='gray')\n",
    "\n",
    "    ax1.grid(True)\n",
    "    ax1.set_xlabel('Input u')\n",
    "    ax1.set_ylabel('Output y')\n",
    "    ax1.set_title('Sector Bounds')\n",
    "    ax1.legend()\n",
    "    \n",
    "    # Plot 2: Nyquist plot with circle criterion\n",
    "    # Plot axes first\n",
    "    ax2.axhline(y=0, color='k', linewidth=0.5)\n",
    "    ax2.axvline(x=0, color='k', linewidth=0.5)\n",
    "    \n",
    "    # Calculate circle that passes through -1/k1 and -1/k2\n",
    "    p1 = complex(-1/k1, 0)\n",
    "    p2 = complex(-1/k2, 0)\n",
    "    \n",
    "    # Center of circle is on real axis halfway between points\n",
    "    center = (p1 + p2) / 2\n",
    "    radius = abs(p1 - p2) / 2\n",
    "    \n",
    "    theta = np.linspace(0, 2*np.pi, 1000)\n",
    "    circle = center + radius*np.exp(1j*theta)\n",
    "    \n",
    "    # Plot Nyquist response\n",
    "    ax2.plot(resp.real, resp.imag, 'g-', label='Nyquist Plot')\n",
    "    ax2.plot(resp.real, -resp.imag, 'g-')\n",
    "    ax2.plot(circle.real, circle.imag, 'r--', label='Sufficient Criterion')\n",
    "    ax2.fill(circle.real, circle.imag, 'r', alpha=0.2)\n",
    "    ax2.plot([p1.real, p2.real], [p1.imag, p2.imag], 'm-', linewidth=2, label='Necessary Criterion')\n",
    "    ax2.plot([-1/k1], [0], 'rx', label='-1/k₁')\n",
    "    ax2.plot([-1/k2], [0], 'bx', label='-1/k₂')\n",
    "    \n",
    "    # Add arrow to show direction\n",
    "    arrow_idx = len(resp)//4\n",
    "    ax2.arrow(resp.real[arrow_idx], resp.imag[arrow_idx],\n",
    "              (resp.real[arrow_idx+1] - resp.real[arrow_idx])*20,\n",
    "              (resp.imag[arrow_idx+1] - resp.imag[arrow_idx])*20,\n",
    "              head_width=0.05, head_length=0.1, fc='g', ec='g')\n",
    "    \n",
    "    ax2.grid(True)\n",
    "    ax2.set_xlabel('Real')\n",
    "    ax2.set_ylabel('Imaginary')\n",
    "    ax2.set_title('Nyquist Plot with Circle Criterion')\n",
    "    ax2.legend()\n",
    "    ax2.axis('equal')\n",
    "    ax2.set_xlim(-2.5, 2.5)\n",
    "    ax2.set_ylim(-2.5, 2.5)\n",
    "    \n",
    "    # Adjust layout\n",
    "    plt.tight_layout()\n",
    "    plt.show()\n",
    "\n",
    "# Create interactive widget\n",
    "interact(analyze_stability,\n",
    "        k1=FloatSlider(min=0.1, max=2.0, step=0.1, value=0.5, \n",
    "                      description='k₁:', continuous_update=False),\n",
    "        k2=FloatSlider(min=0.5, max=3.0, step=0.1, value=2.0, \n",
    "                      description='k₂:', continuous_update=False))"
   ]
  },
  {
   "cell_type": "markdown",
   "metadata": {},
   "source": [
    "# Describing Functions: Approximating Nonlinear Gains"
   ]
  },
  {
   "cell_type": "markdown",
   "metadata": {},
   "source": [
    "The **Describing Function (DF)** provides a practical solution by simplifying the nonlinear element in a feedback system into an equivalent amplitude-dependent transfer function. This approach allows us to analyze the system using familiar linear techniques while preserving essential characteristics of the nonlinear behavior. Describing function analysis primarily aims to determine whether a nonlinear system will exhibit limit cycles, and if so, to identify their amplitude, frequency and whether they are *stable*. By offering approximate yet insightful predictions, this method serves as a valuable tool for understanding and designing nonlinear feedback systems."
   ]
  },
  {
   "cell_type": "markdown",
   "metadata": {},
   "source": [
    "## General Idea Behind Describing Functions"
   ]
  },
  {
   "cell_type": "markdown",
   "metadata": {},
   "source": [
    "As previously mentioned, nonlinear systems may exhibit behaviors that are not captured with the systems and tools that have been introduced thus far. One of such behavior that is present when the nonlinear system is exposed to periodic excitation is called a **limit cycle**. Intuitively, suppose you apply a (temporary) sinusoidal input to a system with a nonlinear gain, and at one point you remove the input. Then the system will exhibit some periodic behavior. To determine whether limit cycles are present, this section introduces the corresponding approach.\n",
    "\n",
    "The Describing Function (DF) method approximates a nonlinear system as a linear one (i.e., is a form of quasi-linearization). When a sinusoidal signal $ u(t) = A \\sin(\\omega t) $ is applied to a nonlinear system, the output $ y(t) $ is generally periodic but with various harmonics. Instead of delving into the full complexity of the output, describing function analysis focuses on the **first harmonic**, $ b_1 \\sin(\\omega t) $, which often dominates in physical systems. This approximation is justified by the observation that many physical systems act as low-pass filters, attenuating higher-order harmonics and allowing the first harmonic to prevail. \n",
    "\n",
    "> The describing function is defined as the ratio of the amplitude of the first harmonic $\\left( b_1 \\right)$ to the input amplitude $\\left( A \\right)$:\n",
    "> $$\n",
    "> N(A) = \\frac{b_1}{A}.\n",
    "> $$\n",
    "\n",
    "In this context, the describing function serves as an amplitude-dependent (approximate) transfer function that encapsulates the key characteristics of the nonlinearity. By approximating the nonlinear behavior in this manner, we can employ familiar tools like Nyquist plots to analyze the feedback system and predict the occurrence of limit cycles."
   ]
  },
  {
   "cell_type": "markdown",
   "metadata": {},
   "source": [
    "## Describing Functions for Static Nonlinearities"
   ]
  },
  {
   "cell_type": "markdown",
   "metadata": {},
   "source": [
    "To grasp how describing functions operate and where they come from, consider a nonlinear system whose output $ y(t) $ is some saturated input: $y(t) = \\text{sat}\\left[A\\sin(\\omega t)\\right]$\n",
    "\n",
    "Then since the output is a period function, it can be expressed as a Fourier series:\n",
    "$$\n",
    "y(t) = \\frac{a_0}{2} + \\sum_{i=1}^{+\\infty} \\left[a_i \\cos(i\\omega t) + b_i \\sin(i\\omega t) \\right]\n",
    "$$\n",
    "Where:\n",
    "$$\n",
    "a_i = \\frac{1}{\\pi} \\int_{-\\pi}^\\pi y(t) \\cos(i\\omega t) \\text{d}(\\omega t) \\\\\n",
    "b_i = \\frac{1}{\\pi} \\int_{-\\pi}^\\pi y(t) \\sin(i\\omega t) \\text{d}(\\omega t)\n",
    "$$\n",
    "\n",
    "Since $y(t)$ is an odd function (i.e., $y(-t)=-y(t)$), $a_i=0, \\forall i \\in \\mathbb{N}$. Thus:\n",
    "$$\n",
    "y(t) = b_1 \\sin(\\omega t) + b_2 \\sin(2\\omega t) + \\dots.\n",
    "$$\n",
    "\n",
    "Then, since, if the nonlinearity is in a feedback loop (as is the case in this context), all higher-order harmonics will be attenuated -- i.e,. physical systems act as low-pass filters. Thus, the output is approximated as:\n",
    "$$\n",
    "y(t) \\approx b_1 \\sin(\\omega t).\n",
    "$$\n",
    "\n",
    "Where, $b_1$ is directly from the above Fourier series:\n",
    "$$\n",
    "b_1 = \\frac{1}{\\pi} \\int_{-\\pi}^{\\pi} y(t) \\sin(\\omega t) \\, d(\\omega t).\n",
    "$$\n",
    "\n",
    "> Thus, the describing function for an odd static nonlinearity is given by:\n",
    "> $$ N(A) = \\frac{b_1(A)}{A} = \\frac{1}{\\pi A} \\int_{-\\pi}^{\\pi} y(t) \\sin(\\omega t) \\, d(\\omega t).$$\n",
    "\n",
    "For more information on the describing function for other types of nonlinearities, see Page 54 of Gelb and Vander Velde (Chapter 2).\n",
    "\n",
    "This expression illustrates how the nonlinearity transforms the input amplitude $ A $ into the amplitude and phase of the output's first harmonic. By treating **the nonlinear element as an approximate transfer function**, the describing function enables the analysis of nonlinear feedback systems using linear control tools."
   ]
  },
  {
   "cell_type": "markdown",
   "metadata": {},
   "source": [
    "### Deriving the DF for Saturation Nonlinearity"
   ]
  },
  {
   "cell_type": "markdown",
   "metadata": {},
   "source": [
    "\n",
    "To demonstrate the derivation of describing functions, let’s examine the case of a **saturation nonlinearity**. Saturation occurs when the system's output is constrained to a maximum value $ \\pm M $, regardless of the input amplitude. This type of nonlinearity is frequently encountered in actuators and systems with restricted operational ranges.\n",
    "\n",
    "For an input signal $ u(t) = A \\sin(\\omega t) $, the output $ y(t) $ of a saturation nonlinearity is defined as:\n",
    "$$\n",
    "y(t) =\n",
    "\\begin{cases}\n",
    "M, & u(t) \\geq M, \\\\\n",
    "-M, & u(t) \\leq -M, \\\\\n",
    "u(t), & -M < u(t) < M.\n",
    "\\end{cases}\n",
    "$$\n",
    "\n",
    "The describing function focuses on the first harmonic of the output, $ b_1 \\sin(\\omega t) $. Using the Fourier formula, $ b_1 $ is determined as:\n",
    "\n",
    "$$\n",
    "\\begin{align*}\n",
    "b_1 &= \\frac{1}{\\pi} \\int_{-\\pi}^\\pi y(t)\\sin(\\omega t)\\textrm{d}t \\\\\n",
    "&= \\frac{4}{\\pi} \\int_{0}^{\\frac{\\pi}{2}} y(t)\\sin(\\omega t)\\textrm{d}t \\\\\n",
    "\\end{align*}\n",
    "$$\n",
    "\n",
    "Then, we are interested in two regimes:\n",
    "1. Where $|A| < M$, i.e., where the output amplitude is equal to the input. \n",
    "2. Where $|A| \\geq M$, i.e., the output amplitude is \"cut\".\n",
    "\n",
    "**In case 1**: $N(A)=1$, as $y(t)=u(t)$.\n",
    "\n",
    "**Then for case 2**: \n",
    "\n",
    "Let $\\varphi = \\omega t$, and consider that for $0 < \\varphi < \\varphi_1 = \\arcsin \\left(\\frac{M}{A}\\right)$, the input is \"passed through\". Then substitute $y(t)$ into $b_1$ and considering that when $|A| < M$ the input is \"passed through\":\n",
    "$$\n",
    "\\begin{align}\n",
    "b_1 &= \\frac{4}{\\pi} \\int_{0}^{\\varphi_1} A \\sin^2(\\varphi) \\textrm{d}\\varphi + \\frac{4}{\\pi} \\int_{\\varphi_1}^{\\frac{\\pi}{2}} M \\sin(\\varphi) \\textrm{d}\\varphi \\\\\n",
    "&= \\frac{4A}{\\pi} \\int_0^{\\varphi_1} \\frac{1-\\cos(2\\varphi)}{2}\\textrm{d}\\varphi + \\frac{4M}{\\pi} \\cos(\\varphi) \\\\\n",
    "&= \\frac{2A}{\\pi} \\left[\\varphi - \\frac{\\sin(2\\varphi)}{2}\\right]_0^{\\varphi_1} + \\frac{4M}{\\pi} \\cos(\\varphi) \\\\\n",
    "&= \\frac{2A}{\\pi} \\arcsin\\left(\\frac{M}{A}\\right) + \\frac{2M}{\\pi} \\sqrt{1-\\left(\\frac{M}{A}\\right)^2}\n",
    "\\end{align}\n",
    "$$\n",
    "*Note* To go from step 3 to 4 use $\\sin{2\\theta}=2\\sin{\\theta}\\cos{\\theta}$ and $\\cos{\\theta} = \\sqrt{1-\\sin^2{\\theta}}$.\n",
    "\n",
    "Thus, the describing function $ N(A) $ for the saturation nonlinearity is obtained as:\n",
    "$$\n",
    "N(A) =\n",
    "\\begin{cases}\n",
    "\\frac{2}{\\pi} \\left[ \\arcsin\\left(\\frac{M}{A}\\right) + \\frac{M}{A} \\sqrt{1 - \\left(\\frac{M}{A}\\right)^2} \\right], & A > M, \\\\\n",
    "1, & A \\leq M.\n",
    "\\end{cases}\n",
    "$$\n",
    "\n",
    "This result illustrates how the describing function varies with the input amplitude $ A $. For small amplitudes $\\left( A \\leq M \\right)$, the system behaves linearly with a gain of 1. For larger amplitudes $\\left( A > M \\right)$, the gain diminishes due to the saturation effect, reflecting the nonlinear behavior of the system.\n"
   ]
  },
  {
   "cell_type": "code",
   "execution_count": null,
   "metadata": {},
   "outputs": [],
   "source": [
    "def saturation_describing_function(A, M):\n",
    "    if A <= M:\n",
    "        return 1\n",
    "    else:\n",
    "        return (2/np.pi) * (np.arcsin(M/A) + (M/A) * np.sqrt(1 - (M/A)**2))\n",
    "\n",
    "# Example parameters\n",
    "A_values = np.linspace(0.1, 3, 300)\n",
    "M = 1.0\n",
    "N_values = [saturation_describing_function(A, M) for A in A_values]\n",
    "\n",
    "plt.plot(A_values, N_values, label='Describing Function')\n",
    "plt.axvline(x=M, color='r', linestyle='--', label='Saturation Threshold')\n",
    "plt.title('Describing Function for Saturation Nonlinearity')\n",
    "plt.xlabel('Input Amplitude A')\n",
    "plt.ylabel('N(A)')\n",
    "plt.legend()\n",
    "plt.grid(True)\n",
    "plt.show()\n"
   ]
  },
  {
   "cell_type": "markdown",
   "metadata": {},
   "source": [
    "\n",
    "## Extension to general nonlinearities\n"
   ]
  },
  {
   "cell_type": "markdown",
   "metadata": {},
   "source": [
    "Similarly, to extend to general nonlinearities, consider that the first harmonic of the output can be written as:\n",
    "$$\n",
    "y(t) \\approx c_1(A,\\omega)e^{j\\left(\\omega t + \\phi_1 (A,\\omega)\\right)}\n",
    "$$\n",
    "\n",
    "Further, since the input is complex $\\left(u(t)=Ae^{j\\omega t}\\right)$, the DF will also be complex, defined as:\n",
    "$$\n",
    "N(A,\\omega) = \\frac{c_1(A\\omega)}{A} e^{j\\phi_1 (A,\\omega)}\n",
    "$$\n",
    "\n",
    "To help concretize the above, there is a problem with a dynamic nonlinearity in the problem set.\n"
   ]
  },
  {
   "cell_type": "markdown",
   "metadata": {},
   "source": [
    "# Limit Cycles"
   ]
  },
  {
   "cell_type": "markdown",
   "metadata": {},
   "source": [
    "One of the most significant applications of describing functions is in analyzing the existence and characteristics of **limit cycles** in nonlinear feedback systems. \n",
    "\n",
    "> A limit cycle is a self-sustaining oscillation that arises when the feedback loop stabilizes at a specific amplitude and frequency. \n",
    "\n",
    "It should be noted that the presence of a limit cycle is not in itself undesired. Consider that it may be preferable to have a system oscillate at certain frequencies to minimize friction. Nevertheless, it could also be undesired, causing failure of mechanical parts or operator discomfort.\n"
   ]
  },
  {
   "cell_type": "markdown",
   "metadata": {},
   "source": [
    "\n",
    "## Identifying Limit Cycles\n"
   ]
  },
  {
   "cell_type": "markdown",
   "metadata": {},
   "source": [
    "To identify whether a limit cycle is present, we can use the describing function as an approximate transfer function of the nonlinear element. Furthermore, since, by definition a limit cycle is self-sustaining, we have that:\n",
    "$$ \n",
    "A = - A N(A) L(jw) \\quad\\text{equivalent to}\\quad \\frac{-1}{N(A)}=L(jw)\n",
    "$$\n",
    "*Note* that in the above $L(s)$ is used to denote the combined transfer function of all linear elements (e.g., plant, controller, etc...).\n",
    "\n",
    "Additionally, the above has a graphical interpretation. By plotting the Nyquist of $L(jw)$ and $\\frac{-1}{N(A)}$, the intersection of the two plots provides an indication of where limit cycles could exist.\n",
    "\n",
    "<div style=\"text-align:center;\">\n",
    "<img src=\"./img/limit_cycle.png\" alt=\"Limit Cycle Example\" width=\"200\">\n",
    "</div>\n",
    "\n",
    "If such intersections are found, they indicate the amplitude $ A $ and frequency $ \\omega $ of the potential limit cycle. \n"
   ]
  },
  {
   "cell_type": "markdown",
   "metadata": {},
   "source": [
    "## Stability of Limit Cycles"
   ]
  },
  {
   "cell_type": "markdown",
   "metadata": {},
   "source": [
    "Above it was found how to determine whether a limit cycle is present and if so at what amplitude and frequency it occurs. To do so we used the describing function. However, recall that the describing function is only an approximation, and consequentially, the limit cycle gives an indication of possible values at which the amplitude and frequency occur. Furthermore, systems are exposed to perturbations. Thus, we would like to understand whether our limit cycle is a stable limit cycle -- i.e., after pertubating the amplitude, does the amplitude of the output return to the previous value (stable), or does it continue to increase/decrease until another (potential) equilibrium state is reached (unstable). To do so we can use the below:\n",
    "\n",
    "> Use the critical point, $\\frac{-1}{N(a)}$, and apply the Nyquist criterion. \n",
    "> - If a small decrease in $A$ moves the critical point into unstable regions (where the amplitude of the oscillations tend to increase), and at the same time, small increases in $A$ move the critical point into the stable region (where the amplitude of the oscillations tend to decrease), then the limit cycle is stable. \n",
    "> - Otherwise, unstable."
   ]
  },
  {
   "cell_type": "markdown",
   "metadata": {},
   "source": [
    "In addition to predicting limit cycles, describing function analysis can be employed in the design and tuning of nonlinear controllers, ensuring robust performance despite the presence of nonlinearities. By providing a bridge between linear and nonlinear control theories, describing functions facilitate the development of effective control strategies for complex systems."
   ]
  },
  {
   "cell_type": "markdown",
   "metadata": {},
   "source": [
    "\n",
    "## General Procedure\n"
   ]
  },
  {
   "cell_type": "markdown",
   "metadata": {},
   "source": [
    "Consider a feedback system where a linear controller $ L(j\\omega) $ is in series with a saturation nonlinearity. To predict the existence of a limit cycle:\n",
    "\n",
    "1. **Determine the Describing Function $ N(A) $** for the saturation nonlinearity as derived earlier.\n",
    "2. **Plot the Nyquist Diagram** of the linear system $ L(j\\omega) $.\n",
    "3. **Identify Intersection Points** between the Nyquist plot and the curve $ -1/N(A) $.\n",
    "4. **Extract Amplitude and Frequency**: The intersection points provide the amplitude $ A $ and frequency $ \\omega $ of the potential limit cycles.\n",
    "5. **Assess Stability**: Vary the amplitude to determine whether the limit cycle is stable.\n",
    "\n",
    "This step-by-step approach illustrates how Describing Function Analysis can be practically applied to predict and evaluate limit cycles in nonlinear feedback systems.\n",
    "\n",
    "At all points it is important to note that several assumptions and approximations have been made. Consequentially, results are heuristically derived. Thus, use these techniques to gain an understanding of the system and potentially to make design decisions, but always check (either on the system itself or on a nonlinear simulation). "
   ]
  }
 ],
 "metadata": {
  "kernelspec": {
   "display_name": "cs1",
   "language": "python",
   "name": "python3"
  },
  "language_info": {
   "codemirror_mode": {
    "name": "ipython",
    "version": 3
   },
   "file_extension": ".py",
   "mimetype": "text/x-python",
   "name": "python",
   "nbconvert_exporter": "python",
   "pygments_lexer": "ipython3",
   "version": "3.12.5"
  }
 },
 "nbformat": 4,
 "nbformat_minor": 2
}
