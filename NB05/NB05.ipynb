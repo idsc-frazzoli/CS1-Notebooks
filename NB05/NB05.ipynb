{
 "cells": [
  {
   "cell_type": "markdown",
   "metadata": {},
   "source": [
    "# Control Systems 1, NB05: Poles and Zeros\n",
    "© 2024 ETH Zurich, Mark Benazet Castells, Jonas Holinger, Felix Muller, Matteo Penlington; Institute for Dynamic Systems and Control; Prof. Emilio Frazzoli\n",
    "\n",
    "This interactive notebook is designed to introduce fundamental concepts in control systems engineering. It covers various transfer function formulations, and how they can be used to graphically determine the magnitude and phase of the transfer function. Furthermore, the effects of poles and zeros on the output response are briefly covered. \n",
    "\n",
    "Authors:\n",
    "- Jonas Holinger; jholinger@ethz.ch\n",
    "- Shubham Gupta; shugupta@ethz.ch"
   ]
  },
  {
   "cell_type": "markdown",
   "metadata": {},
   "source": [
    "## Learning Objectives\n",
    "\n",
    "After completing this notebook, you should be able to:\n",
    "\n",
    "1. Recognize different ways of writing transfer functions and why.\n",
    "2. Understand how to graphically compute the steady-state response given a (stable) transfer function. \n",
    "3. Understand the effects of poles and zeros (non/minimum-phase) on the impulse/step responses. \n",
    "4. Understand the associated dangers of pole-zero cancellations. "
   ]
  },
  {
   "cell_type": "markdown",
   "metadata": {},
   "source": [
    "# Setup\n"
   ]
  },
  {
   "cell_type": "markdown",
   "metadata": {},
   "source": [
    "## Installing the required packages:"
   ]
  },
  {
   "cell_type": "code",
   "execution_count": null,
   "metadata": {},
   "outputs": [],
   "source": [
    "%pip install numpy matplotlib scipy ipywidgets control IPython sympy"
   ]
  },
  {
   "cell_type": "markdown",
   "metadata": {},
   "source": [
    "## Import the packages\n"
   ]
  },
  {
   "cell_type": "markdown",
   "metadata": {},
   "source": [
    "The following cell imports the required packages. Run it before running the rest of the notebook."
   ]
  },
  {
   "cell_type": "code",
   "execution_count": null,
   "metadata": {},
   "outputs": [],
   "source": [
    "import control as ct\n",
    "import matplotlib.pyplot as plt\n",
    "import numpy as np\n",
    "import math\n",
    "import ipywidgets as widgets\n",
    "from scipy.integrate import odeint\n",
    "from IPython.display import display, clear_output, Math\n",
    "from ipywidgets import interactive"
   ]
  },
  {
   "cell_type": "markdown",
   "metadata": {},
   "source": [
    "# Transfer Function Forms\n"
   ]
  },
  {
   "cell_type": "markdown",
   "metadata": {},
   "source": [
    "In Lecture 4 we saw that the output response of an LTI system is given by, \n",
    "$$\n",
    "    y(t) = C e^{At}x(0) + \\int_0^t C e^{A(t-\\tau)}Bu(\\tau)d\\tau\n",
    "$$\n",
    "However, in the general case, the convolution integral makes the output hard to interpret. Hence, in Lecture 5, transfer functions were introduced as another form (amongst other advantages) of representing the input-output behavior of the system. \n",
    "\n",
    "Recall that for a causal finite-dimensional LTI SISO system, the transfer function can be written as a **strictly propose rational function** with feedthrough:\n",
    "$$\n",
    "    G(s) = \\frac{N(s)}{D(s)} = \\frac{b_{n-1}s^{n-1} + b_{n-2}s^{n-2} + \\ldots + b_0}{s^n + a_{n-1}s^{n-1} + \\ldots + a_0} + d\n",
    "$$\n",
    "\n",
    "However, there are various forms to represent the same behavior that are convenient. We dedicate the rest of this section to the various transfer function forms.  "
   ]
  },
  {
   "cell_type": "markdown",
   "metadata": {},
   "source": [
    "## Partial Fraction Form\n"
   ]
  },
  {
   "cell_type": "markdown",
   "metadata": {},
   "source": [
    "Through partial fraction expansion, it is possible to express a transfer function as the sum of fractions, each with a unique denominator of $p_i$. \n",
    "$$\n",
    "  G(s) = \\frac{r_1}{s-p_1} + \\frac{r_2}{s-p_2}+ \\ldots + \\frac{r_n}{s-p_n} + r_0\n",
    "$$\n",
    "The values $r_1\\ldots r_n$ are called the **residues** and can be computed using the cover-up method (described below).\n",
    "Furthermore, as described later on, it is possible to express the response of a higher-order system as a sum of first-order systems, thus making this form convenient in such cases.\n",
    "\n"
   ]
  },
  {
   "cell_type": "markdown",
   "metadata": {},
   "source": [
    "\n",
    "### Cover-up Method\n"
   ]
  },
  {
   "cell_type": "markdown",
   "metadata": {},
   "source": [
    "The *Heaviside Cover-up Method* is an approach for quickly determining the residues of a partial-fraction expansion. It states that to calculate the residue for a pole $p_i$, \"cover-up\" the term due to that pole $(s-p_i)$ and substitute $p_i$ in the rest of the transfer function (in its rational form). \n",
    "\n",
    "Formally, for a non-repeated pole the residue is given by \n",
    "$$\n",
    "    r_i = \\lim_{s\\rightarrow p_i}(s-p_i)G(s)\n",
    "$$\n",
    "\n",
    "For a repeated pole the residue is given by:\n",
    "$$\n",
    "    r_i = \\frac{1}{(m-1)!}\\lim_{s\\rightarrow p_i}\\frac{d^{m-1}}{ds^{m-1}}((s-p_i)^mG(s))\n",
    "$$\n",
    "Where $m$ is the algebraic multiplicity of the pole."
   ]
  },
  {
   "cell_type": "markdown",
   "metadata": {},
   "source": [
    "## Root-Locus Form"
   ]
  },
  {
   "cell_type": "markdown",
   "metadata": {},
   "source": [
    "Since the numerator and denominator are polynomials, they can be factorized using their roots. Thus, the transfer function can be written as:\n",
    "$$\n",
    "    G(s) = \\frac{k_{rl}}{s^q} \\cdot\\frac{(s-z_1)(s-z_2)\\ldots(s-z_m)}{(s-p_1)(s-p_2)\\ldots(s-p_{n-q})}\n",
    "$$\n",
    "This form is used to help plot the root locus of a transfer function (introduced next week). The gain $k_{rl}$ is varied to analyze the behavior of the system - for the time being consider it to have no effect to the system (i.e., $k_{rl}=1$)."
   ]
  },
  {
   "cell_type": "markdown",
   "metadata": {},
   "source": [
    "## Bode Form\n",
    "Similar to the root-locus form, but factorizing in a slightly different manner, the rational transfer function form can also be rearranged to \n",
    "$$\n",
    "  G(s) = \\frac{k_{\\text{Bode}}}{s^q} \\cdot \\frac{(\\frac{s}{-z_1}+1)(\\frac{s}{-z_2}+1)\\ldots(\\frac{s}{-z_m}+1)}{(\\frac{s}{-p_1}+1)(\\frac{s}{-p_2}+1)\\ldots(\\frac{s}{-p_{n-q}}+1)} \n",
    "$$\n",
    "This is called the **Bode Form** of the transfer function, and will come in use in a few weeks. \n",
    "\n",
    "Given any form we can always convert to the basic rational function form by multiplying to get a common denominator.\n",
    "\n",
    "From the rational function form we can convert to *Root Locus* form by finding the roots of the numerator and denominator and factorizing the polynomials.\n",
    "\n",
    "The *Bode* form can be achieved from the *Root locus* form by dividing the numerator and denominator by their respective roots. Note that depending on the factorization, there may need to be a constant to counter the additional denominators. \n"
   ]
  },
  {
   "cell_type": "markdown",
   "metadata": {},
   "source": [
    "\n",
    "## Example\n"
   ]
  },
  {
   "cell_type": "markdown",
   "metadata": {},
   "source": [
    "Below we have provided a sample tool for you can test the conversion between the various forms. Simply enter the poles and zeros of the system, and the various output forms are supplied. \n",
    "\n",
    "**How to input imaginary numbers?**"
   ]
  },
  {
   "cell_type": "code",
   "execution_count": null,
   "metadata": {},
   "outputs": [],
   "source": [
    "import numpy as np\n",
    "import sympy as sp\n",
    "from scipy.signal import zpk2tf, residue, invres\n",
    "import ipywidgets as widgets\n",
    "from IPython.display import display, clear_output, Math, Latex\n",
    "\n",
    "def parse_complex(s):\n",
    "    \"\"\"Parse a string into a complex number, handling 'i' as 'j'.\"\"\"\n",
    "    try:\n",
    "        return complex(s.replace('i', 'j').replace(' ', ''))\n",
    "    except:\n",
    "        raise ValueError(f\"Invalid complex number: {s}\")\n",
    "\n",
    "def display_transfer_function(num, den, zeros, poles, residues, poles_res, k_res, output_area):\n",
    "    # \"\"\"Display the transfer function in various forms.\"\"\"\n",
    "    # with output_area:\n",
    "        clear_output()  # Clear previous output in the output area\n",
    "        display(option_widget)\n",
    "        s = sp.symbols('s', complex=True)\n",
    "\n",
    "        # Rational Function Form\n",
    "        num_poly = sp.Poly(num, s)\n",
    "        den_poly = sp.Poly(den, s)\n",
    "        H_s = num_poly.as_expr() / den_poly.as_expr()\n",
    "        display(Latex('**Rational Function Form:**'))\n",
    "        display(Math(r'H(s) = \\frac{%s}{%s}' % (sp.latex(num_poly.as_expr()), sp.latex(den_poly.as_expr()))))\n",
    "\n",
    "        # Factored Form\n",
    "        zeros_expr = sp.prod([s - np.round(z,2) for z in zeros])\n",
    "        poles_expr = sp.prod([s - np.round(p,2) for p in poles])\n",
    "        gain = num[0] / den[0]\n",
    "        display(Latex('**Root Locus Form:**'))\n",
    "        display(Math(r'H(s) = %s \\times \\frac{%s}{%s}' % (sp.latex(gain), sp.latex(zeros_expr), sp.latex(poles_expr))))\n",
    "\n",
    "        # # Bode Form\n",
    "        # zeros_expr = sp.prod([s/( - np.round(z))+1 for z in zeros])\n",
    "        # poles_expr = sp.prod([s /(- np.round(p))+1 for p in poles])\n",
    "        # gain = num[0] / den[0]\n",
    "        # display(Latex('**Root Locus Form:**'))\n",
    "        # display(Math(r'H(s) = %s \\times \\frac{%s}{%s}' % (sp.latex(gain), sp.latex(zeros_expr), sp.latex(poles_expr))))\n",
    "\n",
    "\n",
    "        # Partial Fraction Expansion\n",
    "        partial_frac_terms = [r'\\frac{%s}{s - (%s)}' % (sp.latex(np.round(r,2)), sp.latex(np.round(p,2))) for r, p in zip(residues, poles_res)]\n",
    "        partial_frac = ' + '.join(partial_frac_terms)\n",
    "        if k_res.size > 0:\n",
    "            k_poly = sp.Poly(k_res, s)\n",
    "            k_expr = sp.latex(k_poly.as_expr())\n",
    "            partial_frac += ' + ' + k_expr\n",
    "        display(Latex('**Partial Fraction Expansion:**'))\n",
    "        display(Math('H(s) = %s' % partial_frac))\n",
    "\n",
    "def on_option_change(change):\n",
    "    \"\"\"Update input widgets based on the selected option.\"\"\"\n",
    "    clear_output()\n",
    "    option = option_widget.value\n",
    "    output_area = widgets.Output()\n",
    "\n",
    "    if option in [1, 2]:\n",
    "        # Input widgets for zeros, poles, and gain K\n",
    "        zeros_input = widgets.Text(description='Zeros:', placeholder='Enter zeros, comma-separated')\n",
    "        poles_input = widgets.Text(description='Poles:', placeholder='Enter poles, comma-separated')\n",
    "        gain_input = widgets.Text(description='Gain K:', value='1', placeholder='Enter gain K')\n",
    "        calc_button = widgets.Button(description='Calculate Transfer Function')\n",
    "        \n",
    "        display(option_widget, zeros_input, poles_input, gain_input, calc_button, output_area)\n",
    "        \n",
    "        def calculate_transfer_function(b):\n",
    "            try:\n",
    "                zeros_list = [parse_complex(z) for z in zeros_input.value.split(',') if z.strip()]\n",
    "                poles_list = [parse_complex(p) for p in poles_input.value.split(',') if p.strip()]\n",
    "                gain = float(gain_input.value)\n",
    "                \n",
    "                zeros = np.array(zeros_list, dtype=np.complex128)\n",
    "                poles = np.array(poles_list, dtype=np.complex128)\n",
    "                num, den = zpk2tf(zeros, poles, gain)\n",
    "                residues, poles_res, k_res = residue(num, den)\n",
    "                \n",
    "                display_transfer_function(num, den, zeros, poles, residues, poles_res, k_res, output_area)\n",
    "            except Exception as e:\n",
    "                with output_area:\n",
    "                    clear_output()\n",
    "                    display(Latex(f'Error: {e}'))\n",
    "        \n",
    "        calc_button.on_click(calculate_transfer_function)\n",
    "        \n",
    "    elif option == 3:\n",
    "        # Input widgets for residues and poles\n",
    "        residues_input = widgets.Text(description='Residues:', placeholder='Enter residues, comma-separated')\n",
    "        poles_input = widgets.Text(description='Poles:', placeholder='Enter poles, comma-separated')\n",
    "        direct_term_input = widgets.Text(description='Direct Term:', placeholder='Optional, highest power first')\n",
    "        calc_button = widgets.Button(description='Calculate Transfer Function')\n",
    "        \n",
    "        display(option_widget, residues_input, poles_input, direct_term_input, calc_button, output_area)\n",
    "        \n",
    "        def calculate_transfer_function(b):\n",
    "            # try:\n",
    "                residues_list = [parse_complex(r) for r in residues_input.value.split(',') if r.strip()]\n",
    "                poles_list = [parse_complex(p) for p in poles_input.value.split(',') if p.strip()]\n",
    "                k_list = [parse_complex(k) for k in direct_term_input.value.split(',') if k.strip()] if direct_term_input.value.strip() else []\n",
    "                \n",
    "                residues = np.array(residues_list, dtype=np.complex128)\n",
    "                poles_res = np.array(poles_list, dtype=np.complex128)\n",
    "                k_res = np.array(k_list, dtype=np.complex128)\n",
    "                num, den = invres(residues, poles_res, k_res)\n",
    "                zeros = np.roots(num)\n",
    "                poles = np.roots(den)\n",
    "                \n",
    "                display_transfer_function(num, den, zeros, poles, residues, poles_res, k_res, output_area)\n",
    "            # except Exception as e:\n",
    "            #     with output_area:\n",
    "            #         clear_output()\n",
    "            #         display(Latex(f'Error: {e}'))\n",
    "        \n",
    "        calc_button.on_click(calculate_transfer_function)\n",
    "    \n",
    "    elif option == 4:\n",
    "        # Input widgets for numerator and denominator coefficients\n",
    "        num_coeffs_input = widgets.Text(description='Numerator Coeffs:', placeholder='Enter coeffs, comma-separated')\n",
    "        den_coeffs_input = widgets.Text(description='Denominator Coeffs:', placeholder='Enter coeffs, comma-separated')\n",
    "        calc_button = widgets.Button(description='Calculate Transfer Function')\n",
    "        \n",
    "        display(option_widget, num_coeffs_input, den_coeffs_input, calc_button, output_area)\n",
    "        \n",
    "        def calculate_transfer_function(b):\n",
    "            try:\n",
    "                num_coeffs_list = [parse_complex(c) for c in num_coeffs_input.value.split(',') if c.strip()]\n",
    "                den_coeffs_list = [parse_complex(c) for c in den_coeffs_input.value.split(',') if c.strip()]\n",
    "                \n",
    "                num = np.array(num_coeffs_list, dtype=np.complex128)\n",
    "                den = np.array(den_coeffs_list, dtype=np.complex128)\n",
    "                \n",
    "                zeros = np.roots(num)\n",
    "                poles = np.roots(den)\n",
    "                \n",
    "                residues, poles_res, k_res = residue(num, den)\n",
    "                \n",
    "                display_transfer_function(num, den, zeros, poles, residues, poles_res, k_res, output_area)\n",
    "            except Exception as e:\n",
    "                with output_area:\n",
    "                    clear_output()\n",
    "                    display(Latex(f'Error: {e}'))\n",
    "        \n",
    "        calc_button.on_click(calculate_transfer_function)\n",
    "        \n",
    "    else:\n",
    "        display(Latex('Invalid option selected.'))\n",
    "\n",
    "option_widget = widgets.Dropdown(\n",
    "    options=[\n",
    "        ('Enter zeros and poles (Root Locus Form)', 1),\n",
    "        ('Enter zeros and poles (Bode Form)', 2),\n",
    "        ('Enter residues and poles (Partial Fraction Expansion)', 3),\n",
    "        ('Enter numerator and denominator coefficients (Rational Function Form)', 4)\n",
    "    ],\n",
    "    value=1,\n",
    "    description='Input Type:'\n",
    ")\n",
    "\n",
    "option_widget.observe(on_option_change, names='value')\n",
    "display(option_widget)\n",
    "on_option_change(None)  # Initialize with the default option\n"
   ]
  },
  {
   "cell_type": "markdown",
   "metadata": {},
   "source": [
    "# Determining the Steady-State Response Graphically"
   ]
  },
  {
   "cell_type": "markdown",
   "metadata": {},
   "source": [
    "In the previous lecture, we saw that the output response of an asymptotically stable system is given by the response of the steady-state. **TODO: Add link to NB04.ipynb**\n",
    "\n",
    "However, computing this analytically is not a necessarily easy/insightful calculation. Consequentially, below we present approaches to determining the steady-state output response for a unit step and sinusoidal input. "
   ]
  },
  {
   "cell_type": "markdown",
   "metadata": {},
   "source": [
    "\n",
    "## Response to a unit step\n"
   ]
  },
  {
   "cell_type": "markdown",
   "metadata": {},
   "source": [
    "\n",
    "Suppose the following unit step input is applied to an asymptotically stable LTI system. $u(t) = e^{0t} = 1$\n",
    "\n",
    "*Note* that it's a unit step input since $s=0$ results in $u(t) = 1, \\forall t\\geq0$\n",
    "\n",
    "To determine the steady-state output, we use the following **Final Value Theorem**:\n",
    "$$\n",
    "\\lim_{t\\to +\\infty} y_{ss}(t) = \\lim_{s\\to0}sY(s) = \\lim_{s\\to0}sG(s)U(s) = \\lim_{s\\to0}sG(s)\\frac{1}{s} = \\lim_{s\\to0}G(s)\n",
    "$$\n"
   ]
  },
  {
   "cell_type": "markdown",
   "metadata": {},
   "source": [
    "## Response to a sinusoidal input\n"
   ]
  },
  {
   "cell_type": "markdown",
   "metadata": {},
   "source": [
    "**Recall** that the output response of a sinusoidal input is also a sinusoidal, but with magnitude $\\left| G(s) \\right|$ and phase $\\angle G(s)$ -- i.e., if we have a transfer function $G(s)$ and apply an exponential input with $s=j$, such that $u(t)=\\sin(t)$, then the steady state output is: $$ y_{ss}(t) = \\left| G(j)\\right| \\sin \\left(t+\\angle G(j)\\right) $$\n",
    "\n",
    "Consequentially, the aim to readily determine the magnitude and phase of any transfer function. One way of doing this is through a graphical approach, by plotting the poles, zeros and input on the *s-plane*, and determining the appropriate vectors.\n",
    "\n",
    "Consider the following arbitrary transfer function in root-locus form: \n",
    "$$\n",
    "    G(s) = k \\cdot \\frac{(s-z_1)(s-z_2)\\ldots(s-z_m)}{(s-p_1)(s-p_2)\\ldots(s-p_{n})}\n",
    "$$\n",
    "\n",
    "> Then the magnitude of $G(s)$ is given by:\n",
    "> $$\n",
    ">     \\left| G(s) \\right| = k \\cdot \\frac{|s-z_1|\\cdot |s-z_2|\\ldots |s-z_m|}{ |s-p_1| \\cdot |s-p_2|\\ldots |s-p_{n}|}\n",
    "> $$\n",
    "> Where $|\\cdot|$ denotes the length of the vector from $p$ (or $z$) to $s$ respectively. \n",
    "\n",
    "> Similarly, the phase of $G(s)$ is given by:\n",
    "> $$\n",
    ">     \\angle G(s) = \\left[\\angle k +  \\angle (s-z_1) + \\angle (s-z_2) + \\dots + \\angle (s-z_m) \\right] - \\left[ \\angle (s-p_1) + \\angle (s-p_2) + \\dots + \\angle (s-p_n) \\right] \n",
    "> $$\n",
    "> Where $\\angle (\\cdot)$ is the angle formed by the vector from $p$ (or $z$) to $s$ with respect to the real axis respectively.\n",
    "\n",
    "*Note* that by distance from $p$ or $z$ to $s$, $s=jw$ is defined by the input. If the input is $u(t) = \\sin (-t)$ then $s=-j$. If the input is $u(t) = \\sin (3t)$, then $s=3j$, if $u(t) = \\cos (3t)$, then $s=3j$ also but the output response will consist of a $\\cos$ instead of a $\\sin$."
   ]
  },
  {
   "cell_type": "markdown",
   "metadata": {},
   "source": [
    "### Example\n"
   ]
  },
  {
   "cell_type": "markdown",
   "metadata": {},
   "source": [
    "Consider that we wish to determine the steady-state output for the following transfer function $G(s)$ and input $u(t)$:\n",
    "$$\n",
    "\\begin{align}\n",
    "G(s) &= 3 \\cdot \\frac{s + 3}{(s + 2 - j)(s + 2 + j)} \\\\\n",
    "u(t) &= \\sin(3t)\n",
    "\\end{align}\n",
    "$$\n",
    "\n",
    "In this case $s=3j$, since $\\omega = 3$ in the input. \n"
   ]
  },
  {
   "cell_type": "markdown",
   "metadata": {},
   "source": [
    "#### Plotting the poles and zeros"
   ]
  },
  {
   "cell_type": "markdown",
   "metadata": {},
   "source": [
    "The first step is to plot the zeros and poles on the *s-plane*. \n",
    "\n",
    "The transfer function is already provided in root-locus form, from which the poles and zeros can be directly inferred:\n",
    "- $z_1 = -3$\n",
    "- $p_{1,2} = -2 \\pm j$\n",
    "\n",
    "We then plot the poles and zeros. Note that the convention is that poles are presented by *crosses*, and zeros by *circles*.\n",
    "\n",
    "<img src=\"media/pole_zero_plot_with_input.png\" width=\"300\"/>\n"
   ]
  },
  {
   "cell_type": "markdown",
   "metadata": {},
   "source": [
    "#### Determining the Magnitude $ \\left| G(s) \\right| $"
   ]
  },
  {
   "cell_type": "markdown",
   "metadata": {},
   "source": [
    "Using the previously mentioned approach we note that:\n",
    "- Denoting the magnitude of the vector from $z_1$ to $s$: $\\left | s - z_1 \\right| = \\left | s + 3 \\right| = \\sqrt{3^2+3^2} = 3\\sqrt{2}$. \n",
    "- Denoting the magnitude of the vector from $p_1$ to $s$: $\\left | s - p_1 \\right| = \\left | s + 2 + j \\right| = \\sqrt{2^2 + 4^2} = 2\\sqrt{5}$.\n",
    "- Denoting the magnitude of the vector from $p_2$ to $s$: $\\left | s - p_2 \\right| = \\left | s + 2 - j \\right| = \\sqrt{2^2 + 2^2} = 2\\sqrt{2}$.\n",
    "\n",
    "Hence:\n",
    "$$\n",
    "    \\left| G(3j) \\right| = 3 \\cdot \\frac{3\\sqrt{2}}{2\\sqrt{5}\\cdot2\\sqrt{2}} = \\frac{9\\sqrt{2}}{4\\sqrt{10}}\n",
    "$$\n",
    "\n",
    "Below you can see that see the graphical visualization of the magnitude of the pole $(s + 2 + j)$ to the input $u(t)= \\sin(3t)$\n",
    "\n",
    "<img src=\"media/pole_zero_plot_with_input_magn.png\" width=\"300\"/>\n"
   ]
  },
  {
   "cell_type": "markdown",
   "metadata": {},
   "source": [
    "#### Determining the Phase $ \\angle G(s) $"
   ]
  },
  {
   "cell_type": "markdown",
   "metadata": {},
   "source": [
    "The definition of phase or argument of a complex number $z$ is $\\theta = \\tan^{-1}\\left(\\frac{b}{a}\\right)$.\n",
    "\n",
    "Using the previously mentioned approach, we note that:\n",
    "- The angle between $z_1$ and $s$: $\\angle (s-z_1) = \\angle (s + 3) = \\arctan \\frac{3}{3} = 45 ^\\circ$\n",
    "- The angle between $p_1$ and $s$: $\\angle (s-p_1) = \\angle (s + 2 + j) = \\arctan \\frac{4}{2} \\approx 63.43^\\circ$\n",
    "- The angle between $p_2$ and $s$: $\\angle (s-p_2) = \\angle (s + 2 - j) = \\arctan \\frac{2}{2} \\approx 45^\\circ$\n",
    "- The angle due to $k$: $\\angle 3 = 0^\\circ$\n",
    "\n",
    "Hence:\n",
    "$$\n",
    "    G(s) \\approx 0^\\circ + 45^\\circ - 63.43^\\circ - 45^\\circ \\approx - 63.43^\\circ\n",
    "$$\n",
    "\n",
    "Below you can see that see the graphical visualization of the magnitude of the pole $(s + 2 - j)$ to the input $u(t)=\\sin(3t)$\n",
    "\n",
    "<img src=\"media/pole_zero_plot_with_input_phase.png\" width=\"300\"/>"
   ]
  },
  {
   "cell_type": "markdown",
   "metadata": {},
   "source": [
    "\n",
    "##### Quadrants of the Complex Plane\n"
   ]
  },
  {
   "cell_type": "markdown",
   "metadata": {},
   "source": [
    "It is important to note that one need to be careful when computing the angle using a calculator/program, since the value of $\\arctan\\left(\\cdot\\right)$ alone does not account for the quadrant in which the complex number could lie in. In your calculator/computer the function ``atan2`` corrects for this. However, for calculating the phase by hand, recall the following cases:\n",
    "\n",
    "1. **Quadrant I**: $a > 0,b > 0$\n",
    "   - $\\theta = \\arctan\\left(\\frac{b}{a}\\right)$\n",
    "2. **Quadrant II**: $a < 0,b > 0$ \n",
    "   - $\\theta = \\arctan\\left(\\frac{b}{a}\\right) + 180^\\circ $\n",
    "3. **Quadrant III**: $a < 0,b < 0$\n",
    "   - $\\theta = \\arctan\\left(\\frac{b}{a}\\right) - 180^\\circ $\n",
    "4. **Quadrant IV**: $a > 0, \\, b < 0$\n",
    "   - $\\theta = \\arctan\\left(\\frac{b}{a}\\right)$\n",
    "\n",
    "<img src=\"media/complex_quadrants.png\" width=\"300\"/>\n"
   ]
  },
  {
   "cell_type": "markdown",
   "metadata": {},
   "source": [
    "#### Putting things together"
   ]
  },
  {
   "cell_type": "markdown",
   "metadata": {},
   "source": [
    "From last lecture, we know that the steady-state output response of $u(t) = \\sin(3t)$ is: $$y_{ss}(t) = \\left| G(s) \\right| \\sin(3t + \\angle G(s))$$\n",
    "\n",
    "Now that we have determined the expressions for both $\\left| G(s) \\right|$ and $\\angle G(s)$, the steady state output is described by:\n",
    "$$y_{ss}(t) = \\frac{3\\sqrt{2}}{4\\sqrt{10}} \\sin(3t - 63.43^\\circ)$$\n"
   ]
  },
  {
   "cell_type": "markdown",
   "metadata": {},
   "source": [
    "### Superposition\n"
   ]
  },
  {
   "cell_type": "markdown",
   "metadata": {},
   "source": [
    "Note that the properties of superposition still apply. Consequentially, the steady-state output to an input $u(t)=5u_1(t) + 4u_2(t) = 5\\sin(3t)+4\\cos(5t)$ is: \n",
    "$$\n",
    "\\begin{align}\n",
    "y_{ss} &= 5\\cdot y_{ss,1} + 4\\cdot y_{ss,2} \\\\ \n",
    "&= 5\\left(\\left| G(3j) \\right| \\sin(3t+\\angle G(3j))\\right) + 4(\\left| G(5j) \\right| \\cos(5t+\\angle G(5j)))\n",
    "\\end{align}\n",
    "$$\n"
   ]
  },
  {
   "cell_type": "markdown",
   "metadata": {},
   "source": [
    "\n",
    "### Visualisation\n"
   ]
  },
  {
   "cell_type": "markdown",
   "metadata": {},
   "source": [
    "\n",
    "In the following interactive example you can input a transfer function and a frequency $\\omega$ and get the magnitude, phase and a graph of the response out of it. To input your own transfer function, use the following format : [7,2,3,5] = $7s^3*2s^2*3s*5$ and click update. Try calculating the phase and magnitude by hand and then check if it matches the result. You need to click the button to update the graph."
   ]
  },
  {
   "cell_type": "code",
   "execution_count": null,
   "metadata": {},
   "outputs": [],
   "source": [
    "G = None\n",
    "\n",
    "def plot_response_mp(omega):\n",
    "    global G\n",
    "    # Time vector\n",
    "    t = np.linspace(0, 10, 1000)\n",
    "    \n",
    "    u = np.sin(omega * t)\n",
    "    \n",
    "    t_out, y_out = ct.forced_response(G, T=t, U=u)\n",
    "\n",
    "    plt.figure(figsize=(12, 6))\n",
    "    \n",
    "    plt.plot(t, u, label=r'$u(t) = \\sin(\\omega t)$ (Input)', color='blue', linestyle='--')\n",
    "    \n",
    "    plt.plot(t_out, y_out, label='y(t) (Steady-State Output)', color='orange')\n",
    "    \n",
    "    plt.title(f'Steady State Response to Sinusoidal Input')\n",
    "    plt.xlabel('Time (s)')\n",
    "    plt.ylabel('Amplitude')\n",
    "    plt.legend(loc='best')\n",
    "    plt.grid(True)\n",
    "    plt.show()\n",
    "\n",
    "\n",
    "def calculate_magnitude_phase(omega):\n",
    "    global G\n",
    "    s = 1j * omega\n",
    "    G_s = G(s)\n",
    "    magnitude = abs(G_s)\n",
    "    phase = np.angle(G_s, deg=True)\n",
    "    return magnitude, phase\n",
    "\n",
    "def update_transfer_function(numerator_input, denominator_input):\n",
    "    global G\n",
    "\n",
    "    try:\n",
    "        numerator = [float(n) for n in numerator_input.split(',')]\n",
    "        denominator = [float(d) for d in denominator_input.split(',')]\n",
    "        \n",
    "        G = ct.TransferFunction(numerator, denominator)\n",
    "        \n",
    "        # Check stability\n",
    "        poles = ct.poles(G)\n",
    "        is_stable = all(np.real(pole) < 0 for pole in poles)\n",
    "        if not is_stable:\n",
    "            print(f\"Your system is unstable, try changing the poles\")\n",
    "            return\n",
    "        \n",
    "        # Display the transfer function, magnitude, and phase\n",
    "        magnitude, phase = calculate_magnitude_phase(omega_slider.value)\n",
    "        clear_output(wait=True)\n",
    "        display(ui)\n",
    "        \n",
    "        print(f\"{G}\")\n",
    "        print(f\"Magnitude at ω = {omega_slider.value}: |G(jω)| = {magnitude:.2f}\")\n",
    "        print(f\"Phase at ω = {omega_slider.value}: ∠G(jω) = {phase:.2f} degrees\\n\")\n",
    "        plot_response_mp(omega_slider.value)\n",
    "\n",
    "    except ValueError:\n",
    "        print(\"Please enter valid numbers separated by commas.\")\n",
    "\n",
    "numerator_input = widgets.Text(\n",
    "    value='3,9',  \n",
    "    description='Numerator:',\n",
    ")\n",
    "\n",
    "denominator_input = widgets.Text(\n",
    "    value='1,4,5', \n",
    "    description='Denominator:',\n",
    ")\n",
    "\n",
    "update_button = widgets.Button(description=\"Update\", layout=widgets.Layout(margin='0 auto', width='auto')) \n",
    "update_button.on_click(lambda b: update_transfer_function(numerator_input.value, denominator_input.value))\n",
    "\n",
    "omega_slider = widgets.FloatSlider(\n",
    "    value=3.0,  \n",
    "    min=0.1,    \n",
    "    max=10.0,   \n",
    "    step=0.1,   \n",
    "    description='ω:',\n",
    "    continuous_update=True  \n",
    ")\n",
    "left_column = widgets.VBox([numerator_input, denominator_input])\n",
    "right_column = widgets.VBox([omega_slider, update_button])\n",
    "\n",
    "ui = widgets.HBox([left_column, right_column])\n",
    "\n",
    "interactive_plot = interactive(\n",
    "    plot_response_mp, \n",
    "    omega=omega_slider,\n",
    "\n",
    ")\n",
    "\n",
    "display(ui)\n",
    "\n",
    "\n",
    "update_transfer_function(numerator_input.value, denominator_input.value)\n"
   ]
  },
  {
   "cell_type": "markdown",
   "metadata": {},
   "source": [
    "# Effects of Poles and Zeros\n"
   ]
  },
  {
   "cell_type": "markdown",
   "metadata": {},
   "source": [
    "Part of the advantage of using transfer functions to represent the input-output behavior of the system, is that we can analyze the behavior of the system with controllers. Furthermore, since we have some flexibility over how to design controllers such that the control objective is achieved, it is important to understand how the effects of poles and zeros (that are affected by the controller) effect the transient behavior of the system.  \n",
    "\n",
    "In order to understand the effect of poles and zeros on transient behavior, we apply:\n",
    "- A unit impulse input to understand the effect of poles. \n",
    "- A unit step input to understand the effect of zeros."
   ]
  },
  {
   "cell_type": "markdown",
   "metadata": {},
   "source": [
    "### Unit Impulse Input\n"
   ]
  },
  {
   "cell_type": "markdown",
   "metadata": {},
   "source": [
    "The unit impulse input $u(t)=\\zeta(t)$, is defined as:\n",
    "$$\n",
    "\\zeta(t) =\n",
    "\\begin{cases}\n",
    "\\infty & \\text{if } t = 0 \\\\\n",
    "0 & \\text{if } t \\neq 0\n",
    "\\end{cases}\n",
    "$$\n",
    "with the property:\n",
    "$$\n",
    "\\int_{-\\infty}^{\\infty} \\zeta(t) \\, dt = 1\n",
    "$$"
   ]
  },
  {
   "cell_type": "markdown",
   "metadata": {},
   "source": [
    "\n",
    "### Impulse Response\n"
   ]
  },
  {
   "cell_type": "markdown",
   "metadata": {},
   "source": [
    "\n",
    "In the lecture we derived,that the impulse response corresponds to an inital condition response with $x(0)=B$.\n",
    "For a more intuitive understanding we can consider the output of a general (asymptotically stable) LTI-system is $Y(s)=G(s)U(s)$. Furthermore, recall that the Laplace-Transformation of the unit impulse is 1 (i.e., $U(s)=1$), hence, $Y(s)=G(s)$ -- which corresponds to the initial condition response of our system.\n",
    "\n",
    "Moreover, consider the following transfer function of a scalar first-order system ($A=a, B=b, C=c, D=0$):\n",
    "$$G(s) = \\frac{r}{s-a}  $$\n",
    " \n",
    "The response to a unit impulse has the form $y(t)=re^{at}$.\n",
    "\n",
    "If we have a higher order system, assuming no repeated poles, we can express $G(s)$ in the partial fraction form:\n",
    "$$ G(s)=\\frac{r_{1}}{s-p_{1}}+\\frac{r_{2}}{s-p_{2}}+...+\\frac{r_{n}}{s-p_{n}}$$\n",
    "Then, due to linearity, then the impulse response is:\n",
    "$$y(t)=r_{1}e^{p_1t}+r_{2}e^{p_2t}+..+r_{n}e^{p_nt}$$\n",
    "\n",
    "Thus, the effect of poles is directly visible in the output response (and discussed in the previous lectures). "
   ]
  },
  {
   "cell_type": "markdown",
   "metadata": {},
   "source": [
    "\n",
    "#### Visualisation\n"
   ]
  },
  {
   "cell_type": "markdown",
   "metadata": {},
   "source": [
    "Try adding diffferent poles with different resiudes $r_i$. Notice that $p_n$ can be a complex number. A complex pole has the form $p_i=\\sigma_i+j\\omega_i$ and oscillates at the frequency $\\omega_i$. Complex poles \"will automatically be input as complex conjugate pairs. Notice how the reponse changes, when changing $r_i$. You can see the effect of each added pole to the total response is dependent on $r_i$.\n"
   ]
  },
  {
   "cell_type": "code",
   "execution_count": null,
   "metadata": {},
   "outputs": [],
   "source": [
    "poles = []\n",
    "residues = []\n",
    "\n",
    "def update_response_poles():\n",
    "    clear_output(wait=True)\n",
    "\n",
    "    # Time vector\n",
    "    t = np.linspace(0, 10, 1000)\n",
    "    \n",
    "    y_total = np.zeros_like(t, dtype=np.complex128)\n",
    "    \n",
    "    # A set to track plotted poles (to avoid plotting conjugates twice)\n",
    "    plotted_poles = set()\n",
    "    \n",
    "    for pole, residue in zip(poles, residues):\n",
    "        y_total += residue * np.exp(pole * t)\n",
    "\n",
    "    \n",
    "    plt.figure(figsize=(12, 6))\n",
    "    plt.plot(t, y_total.real, label='Total Response', color='orange', linewidth=2)\n",
    "    plt.title('Impulse Response of the System')\n",
    "    plt.xlabel('Time (s)')\n",
    "    plt.ylabel('Amplitude')\n",
    "    plt.legend()\n",
    "    plt.grid(True)\n",
    "\n",
    "    for pole, residue in zip(poles, residues):\n",
    "        # Skip if we've already plotted the conjugate\n",
    "        if pole in plotted_poles:\n",
    "            continue\n",
    "        \n",
    "        # Calculate response for this pole\n",
    "        y_pole = residue * np.exp(pole * t)\n",
    "\n",
    "        if np.imag(pole) != 0:\n",
    "            label = f'Response for r: {residue} and Pole at: {np.real(pole)} ± {abs(np.imag(pole))}j'\n",
    "            plt.plot(t, y_pole.real, linestyle='--', label=label)\n",
    "            plotted_poles.add(pole)\n",
    "            plotted_poles.add(np.conj(pole))\n",
    "        else:\n",
    "            label = f'Response for r: {residue} and Pole at: {np.real(pole)}'\n",
    "            plt.plot(t, y_pole.real, linestyle='--', label=label)\n",
    "            plotted_poles.add(pole)\n",
    "        \n",
    "        #print(f\"Pole: {pole}, Residue: {residue}\")\n",
    "\n",
    "    plt.legend()\n",
    "    display(ui)\n",
    "    plt.show()\n",
    "\n",
    "def add_pole_residue(pole_input, residue_input):\n",
    "    try:\n",
    "        pole = complex(pole_input)\n",
    "        residue = float(residue_input)  \n",
    "        poles.append(pole)\n",
    "        residues.append(residue)\n",
    "        \n",
    "        if np.imag(pole) != 0:\n",
    "            poles.append(np.conj(pole))\n",
    "            residues.append(residue) \n",
    "    \n",
    "        update_response_poles()\n",
    "    except ValueError:\n",
    "        print(\"Please enter a valid number for both the pole and the residue.\")\n",
    "\n",
    "pole_input = widgets.Text(\n",
    "    description='',\n",
    "    placeholder='Enter a pole (e.g., -1, -2+1j)',\n",
    "    layout=widgets.Layout(margin='0 auto', width='auto')\n",
    ")\n",
    "residue_input = widgets.Text(\n",
    "    description='',\n",
    "    placeholder='Enter a residue (e.g., 1, -0.5)',\n",
    "    layout=widgets.Layout(margin='0 auto', width='auto')\n",
    ")\n",
    "\n",
    "add_button = widgets.Button(description=\"Update\", layout=widgets.Layout(margin='0 auto', width='auto'))\n",
    "add_button.on_click(lambda b: add_pole_residue(pole_input.value, residue_input.value))\n",
    "\n",
    "ui = widgets.VBox([pole_input, residue_input, add_button])\n",
    "\n",
    "display(ui)\n",
    "\n",
    "update_response_poles()\n"
   ]
  },
  {
   "cell_type": "markdown",
   "metadata": {},
   "source": [
    "### Unit Step Input"
   ]
  },
  {
   "cell_type": "markdown",
   "metadata": {},
   "source": [
    "The unit step function, $u(t)$, is defined as:\n",
    "$$\n",
    "u(t) =\n",
    "\\begin{cases}\n",
    "0 & \\text{if } t < 0 \\\\\n",
    "1 & \\text{if } t \\geq 0\n",
    "\\end{cases}\n",
    "$$\n",
    "which corresponds to the input $u(t)=e^{0t}, \\forall t\\geq0$."
   ]
  },
  {
   "cell_type": "markdown",
   "metadata": {},
   "source": [
    "\n",
    "#### Unit step Response\n"
   ]
  },
  {
   "cell_type": "markdown",
   "metadata": {},
   "source": [
    "We already know that the response to the unit step is <br><br> $$y_{\\text{step}}(t) = \\int_{0}^{t} C e^{A(t - \\tau)} B \\, d\\tau = -C A^{-1} B + C A^{-1} e^{A t} B$$<br>\n",
    "For a first order system, the response can be calculated as follows:<br> <br>$$y_{step}=y_{ss}(t)(1-e^{at})$$ with $y_{ss}=G(0)=CA^{-1}B$.<br>\n",
    "\n",
    "\n",
    "The step response is the steady-state response minus a scaled impulse response\n"
   ]
  },
  {
   "cell_type": "markdown",
   "metadata": {},
   "source": [
    "\n",
    "#### Visualization\n"
   ]
  },
  {
   "cell_type": "markdown",
   "metadata": {},
   "source": [
    "\n",
    "Below, you can input your system as a transfer function and observe the difference between the unit step response and the impulse response. \n",
    "\n",
    "\n"
   ]
  },
  {
   "cell_type": "code",
   "execution_count": null,
   "metadata": {},
   "outputs": [],
   "source": [
    "\n",
    "def plot_responses_step_impulse(numerator, denominator):\n",
    "    system = ct.TransferFunction(numerator, denominator)\n",
    "    print(\"Transfer Function:\")\n",
    "    print(system)\n",
    "    t = np.linspace(0, 10, 500)\n",
    "    \n",
    "    t_step, y_step = ct.step_response(system, t)\n",
    "    \n",
    "\n",
    "    t_impulse, y_impulse = ct.impulse_response(system, t)\n",
    "    \n",
    "    plt.figure(figsize=(10, 6))\n",
    "    plt.plot(t_step, y_step, label='Step Response', color='b')\n",
    "    plt.plot(t_impulse, y_impulse, label='Impulse Response', color='r')\n",
    "    plt.title('Step and Impulse Response')\n",
    "    plt.xlabel('Time')\n",
    "    plt.ylabel('Amplitude')\n",
    "    plt.legend()\n",
    "    plt.grid(True)\n",
    "    plt.show()\n",
    "\n",
    "numerator_input = widgets.Text(value='[1]', description='Numerator:')\n",
    "denominator_input = widgets.Text(value='[1, 2, 1]', description='Denominator:')\n",
    "\n",
    "def update_plot(numerator_str, denominator_str):\n",
    "    try:\n",
    "        numerator = eval(numerator_str)\n",
    "        denominator = eval(denominator_str)\n",
    "        plot_responses_step_impulse(numerator, denominator)\n",
    "    except Exception as e:\n",
    "        clear_output()\n",
    "        display(widgets.HTML(f\"<b>Error:</b> {e}\"))\n",
    "\n",
    "interactive_plot = interactive(update_plot, numerator_str=numerator_input, denominator_str=denominator_input)\n",
    "\n",
    "display(interactive_plot)\n"
   ]
  },
  {
   "cell_type": "markdown",
   "metadata": {},
   "source": [
    "### Effect of zeros on the response\n"
   ]
  },
  {
   "cell_type": "markdown",
   "metadata": {},
   "source": [
    "\n",
    "While poles $p_i$ determine the terms exponents in the response of a system, zeros $z_i$ influence the residues and, hence, the amplitude of these terms. The zeros of a system modify the magnitudes of the residues $r_i$ associated with each pole. "
   ]
  },
  {
   "cell_type": "markdown",
   "metadata": {},
   "source": [
    "\n",
    "#### Pole-Zero Cancellation\n"
   ]
  },
  {
   "cell_type": "markdown",
   "metadata": {},
   "source": [
    "Adding a zero near a pole can reduce the effect of the pole. When a zero matches a pole exactly, the effective residue $r_i$ is zero. This means that the pole has no impact on the systems output response, it can neither be observed or controlled -- this will be explored in more detail in Control Systems II. Nevertheless, this can cause problems if the cancelled out pole is unstable -- Consider the following example.   \n",
    "\n",
    "Suppose you have an LTI system with the following realization: \n",
    "$$ A=\\begin{bmatrix} 0 & 1 \\\\ 2 & 3 \\end{bmatrix} B=\\begin{bmatrix} 0 \\\\ 1 \\end{bmatrix} C = \\begin{bmatrix} 2 & -1 \\end{bmatrix} D =0$$ \n",
    "\n",
    "The eigenvalues of the A matrix are $\\lambda_1=4, \\lambda_2 = -1$. Since $\\text{Re}(\\lambda_1) > 0$, the system is unstable. \n",
    "\n",
    "However, if you calculate the transfer function and perform a pole-zero cancellation, one could come to the conclusion that the system is stable (i.e., the simplified form of $G(s)$ contains only one stable pole). \n",
    "$$G(s) = \\frac{2(s - 4)}{(s - 4)(s + 1)} = \\frac{2}{s + 1}$$\n",
    "\n",
    "Thus, it is important to note that pole-Zero cancellation of unstable poles should be avoided since it can lead to unpredictable behaviour and mask unstable dynamics in a system."
   ]
  },
  {
   "cell_type": "markdown",
   "metadata": {},
   "source": [
    "#### Zeros as derivative action\n"
   ]
  },
  {
   "cell_type": "markdown",
   "metadata": {},
   "source": [
    "Zeros in a transfer function can behave similar to a differentiator.\n",
    "\n",
    "If we multiply a transfer function $\\tilde{G}(s)$ with a zero, we get $G(s) = (\\frac{s}{-z} + 1) \\tilde{G}(s)$. After expanding it, one can see that the component $\\frac{s}{-z} \\tilde{G}(s)$ introduces a term similar to the differentiator $G(s) \\cdot s$ (Seen in Lecture 5) -- i.e., the output is also affected by the rate of change of the input. Intuitively this induces anticipatory effect on the system response. "
   ]
  },
  {
   "cell_type": "markdown",
   "metadata": {},
   "source": [
    "\n",
    "#### Minimum-Phase vs Non-Minimum-Phase System\n"
   ]
  },
  {
   "cell_type": "markdown",
   "metadata": {},
   "source": [
    "As we learned, zeros introduce a derivative effect to our system. If at least one zero lies in the right half of the complex plane the derivative action is negative -- i.e., results in counterintuitive behaviors. While the stability is preserved, the output can move in the wrong direction initially. Non-Minimum-Phase system are difficult to control and should be avoided if possible."
   ]
  },
  {
   "cell_type": "markdown",
   "metadata": {},
   "source": [
    "#### Visualization\n"
   ]
  },
  {
   "cell_type": "markdown",
   "metadata": {},
   "source": [
    "We have plotted the step response and pole-zero map for a first-order system with transfer function:\n",
    "$$\n",
    "    G(s) = \\frac{s-z}{s-p}\n",
    "$$\n",
    "\n",
    "Try:\n",
    "- Keeping $\\text{Re}(p) <0, \\text{Im}(p)=0$:\n",
    "  - What happens to the output response when $z > 0$? What happens for larger values of $z$?\n",
    "  - What happens to the output response when $z < 0$? What happens for smaller (more negative) values of $z$?\n",
    "- Keep $\\text{Re}(p) <0$, and change $\\text{Im}(p)>0$:\n",
    "  - How has the complex pole changed the output response?\n",
    "  - What happens to the output response as the imaginary component increases?\n",
    "  - What happens to the output response for when $z<0$ and $z>0$, is the behavior exhibited the same as above?\n",
    "- Change $\\text{Re}(p) > 0$, with any imaginary component and $z$.\n",
    "  - The system is unstable. What happens to the output behavior for $z>0$?\n"
   ]
  },
  {
   "cell_type": "code",
   "execution_count": null,
   "metadata": {},
   "outputs": [],
   "source": [
    "def plot_system_pz(real_zero, real_pole, imag_pole):\n",
    "\n",
    "    if real_zero == 0:\n",
    "        numerator = [1]  \n",
    "    else:\n",
    "        adjusted_zero = real_zero\n",
    "        numerator = [-1 * (1 / adjusted_zero), 1]  \n",
    "\n",
    "    pole1 = complex(real_pole, imag_pole)  \n",
    "    pole2 = complex(real_pole, -imag_pole) \n",
    "\n",
    "    denominator = [1, -2 * np.real(pole1), np.abs(pole1)**2]  \n",
    "    system = ct.TransferFunction(numerator, denominator)\n",
    "\n",
    "    t = np.linspace(0, 10, 100)\n",
    "\n",
    "    t, y = ct.step_response(system, T=t)\n",
    "    plt.figure(figsize=(12, 6))\n",
    "\n",
    "    plt.subplot(1, 2, 1)\n",
    "    plt.plot(t, y)\n",
    "    plt.title('Step Response of the System')\n",
    "    plt.xlabel('Time (s)')\n",
    "    plt.ylabel('Response')\n",
    "    plt.grid()\n",
    "    plt.xlim(0, 4)\n",
    "    plt.ylim(min(y) - 0.1, max(y) + 0.1)\n",
    "\n",
    "    plt.subplot(1, 2, 2)\n",
    "    if real_zero != 0:\n",
    "        plt.scatter(adjusted_zero, 0, color='blue', marker='o', label='Zero')  # Display zero as negative\n",
    "    else:\n",
    "        plt.scatter(0, 0, color='blue', marker='o', label='Zero at Origin')  # Indicate zero at origin\n",
    "\n",
    "    plt.scatter(np.real(pole1), np.imag(pole1), color='red', marker='x', label='Pole 1')\n",
    "    plt.scatter(np.real(pole2), np.imag(pole2), color='green', marker='x', label='Pole 2 (Conjugate)')\n",
    "    \n",
    "    plt.axhline(0, color='black', lw=0.5, ls='--')\n",
    "    plt.axvline(0, color='black', lw=0.5, ls='--')\n",
    "    plt.title('Pole-Zero Map')\n",
    "    plt.xlabel('Real')\n",
    "    plt.ylabel('Imaginary')\n",
    "    plt.grid()\n",
    "    plt.xlim(-5, 5)\n",
    "    plt.ylim(-5, 5)\n",
    "    plt.legend()\n",
    "\n",
    "    plt.tight_layout()\n",
    "    plt.show()\n",
    "\n",
    "real_zero_slider = widgets.FloatSlider(value=0.0, min=-5.0, max=5.0, step=0.1, description='Real Zero:')\n",
    "real_pole_slider = widgets.FloatSlider(value=-3.0, min=-5.0, max=1.0, step=0.1, description='Real Pole:')\n",
    "imag_pole_slider = widgets.FloatSlider(value=2.3, min=0,max=5.0, step=0.1, description='Img Pole:')\n",
    "\n",
    "interactive_plot = widgets.interactive(plot_system_pz,\n",
    "                                       real_zero=real_zero_slider,\n",
    "                                       real_pole=real_pole_slider,\n",
    "                                       imag_pole=imag_pole_slider)\n",
    "\n",
    "display(interactive_plot)\n"
   ]
  },
  {
   "cell_type": "markdown",
   "metadata": {},
   "source": [
    "# Response Of a Spring Mass Damper System\n"
   ]
  },
  {
   "cell_type": "markdown",
   "metadata": {},
   "source": [
    "This is an accompanying example with the Problem Set. \n",
    "\n",
    "<!-- ![Spring Damper System](media/spring_mass.jpg) -->\n",
    "<img src=\"media/spring_mass.jpg\" width=\"500\"/>\n",
    "\n",
    "\n",
    "\n",
    "The spring mass damper system is a classic linear system used in systems theory. The equations for the same can be given by:\n",
    "\n",
    "$$\n",
    "    \\dot{x}(t) = \\begin{bmatrix} \\dot{x_1} \\\\ \\dot{x_2} \\end{bmatrix} = \\begin{bmatrix} x_2 \\\\ -\\omega_0^2\\cdot x_1(t) - 2\\zeta\\omega_0 \\cdot x_2(t) + \\omega_0^2 \\cdot u(t)\\end{bmatrix}\n",
    "$$\n",
    "with the initial condition $x_1(0) = x_2(0) = 0$ and $\\zeta,\\omega_0\\in \\mathbb{R}_{\\geq 0}$\n",
    "and the output of the system is \n",
    "$$ y(t) = x_1(t)$$\n",
    "\n",
    "Although the derivation of the transfer function is left as an exercise in the associated problem set, for completeness, it is provided below:\n",
    "$$\n",
    "    G(s) = \\frac{\\omega_0^2}{s^2 + 2\\zeta\\omega_0 s+ \\omega_0^2}\n",
    "$$\n",
    "\n",
    "The above formulation is referred to as the transfer function of a second order system. It will be introduced more thoroughly in Lecture 8. Nevertheless, to help build an intuitive understanding of how parameters of the system may affect the poles (and consequentially the output reponse), try answering the below questions using the sliders on the plot:\n",
    "\n",
    "* When does the system output behaviour change? For what values of $\\zeta$ does the system behave in a specific manner.\n",
    "* Does $\\omega$ value change system behaviour? If so, in what does it do so?"
   ]
  },
  {
   "cell_type": "code",
   "execution_count": null,
   "metadata": {},
   "outputs": [],
   "source": [
    "import numpy as np\n",
    "import matplotlib.pyplot as plt\n",
    "import control as ctrl\n",
    "from ipywidgets import FloatSlider, interactive, HBox, VBox, Label\n",
    "from IPython.display import display, clear_output\n",
    "\n",
    "# Define time vector for the response\n",
    "t = np.linspace(0, 10, 1000)  # Time from 0 to 10 seconds\n",
    "\n",
    "\n",
    "def plot_responses(zeta, omega_0):\n",
    "    clear_output(wait=True)  # Clears the previous output to update the plot\n",
    "\n",
    "    num = [omega_0**2]  # Numerator remains the same: 2*(s + 1)\n",
    "    den = np.poly1d([1, 2*zeta*omega_0, omega_0**2])  # Denominator is based on poles\n",
    "    # print(\"Characterstic Polynomial:\"+ str(den))\n",
    "    system = ctrl.TransferFunction(num, den.c)\n",
    "\n",
    "    # # Compute impulse response\n",
    "    # t_impulse, y_impulse = ctrl.impulse_response(system, T=t)\n",
    "    \n",
    "    # Compute step response\n",
    "    t_step, y_step = ctrl.step_response(system, T=t)\n",
    "\n",
    "    # Plot impulse response\n",
    "    plt.figure(figsize=(18, 6))\n",
    "\n",
    "    # # Impulse Response\n",
    "    # plt.subplot(1, 3, 1)\n",
    "    # plt.plot(t_impulse, y_impulse)\n",
    "    # plt.title('Impulse Response')\n",
    "    # plt.xlabel('Time (s)')\n",
    "    # plt.ylabel('Response')\n",
    "    # plt.grid()\n",
    "\n",
    "    # Step Response\n",
    "    plt.subplot(1, 3, 2)\n",
    "    plt.plot(t_step, y_step, color='orange')\n",
    "    plt.title('Step Response')\n",
    "    plt.xlabel('Time (s)')\n",
    "    plt.ylabel('Response')\n",
    "    plt.grid()\n",
    "\n",
    "    # # Pole-Zero Plot\n",
    "    # plt.subplot(1, 3, 3)\n",
    "    # current_poles = ctrl.pole(system)\n",
    "    # current_zeros = ctrl.zero(system)\n",
    "    # plt.scatter(np.real(current_zeros), np.imag(current_zeros), marker='o', label='Zeros', color='blue', s=100)\n",
    "    # plt.scatter(np.real(current_poles), np.imag(current_poles), marker='x', label='Poles', color='red', s=100)\n",
    "    # plt.axhline(0, color='black', lw=0.5, ls='--')\n",
    "    # plt.axvline(0, color='black', lw=0.5, ls='--')\n",
    "    # plt.xlim([-3, 3])\n",
    "    # plt.ylim([-3, 3])\n",
    "    # plt.title('Pole-Zero Plot')\n",
    "    # plt.xlabel('Real Part')\n",
    "    # plt.ylabel('Imaginary Part')\n",
    "    # plt.grid()\n",
    "    # plt.legend()\n",
    "\n",
    "    # Display the plots\n",
    "    plt.tight_layout()\n",
    "    # plt.savefig('example_plot.png')\n",
    "\n",
    "    plt.show()\n",
    "\n",
    "# Define sliders for real and imaginary parts\n",
    "zeta_slider = FloatSlider(value=1, min=0, max=3, step=0.1, description='$\\zeta$')\n",
    "omega_slider = FloatSlider(value=1, min=0, max=3, step=0.1, description='$\\omega_0$')\n",
    "\n",
    "# Create an interactive UI\n",
    "out = interactive(plot_responses, zeta = zeta_slider, omega_0 = omega_slider)\n",
    "\n",
    "# Display the sliders and the interactive plot\n",
    "display(out)\n"
   ]
  }
 ],
 "metadata": {
  "language_info": {
   "name": "python"
  }
 },
 "nbformat": 4,
 "nbformat_minor": 4
}
