{
  "cells": [
    {
      "cell_type": "markdown",
      "metadata": {
        "id": "wWlZWoFI2OB-"
      },
      "source": [
        "# Control Systems 1, NB05: Poles and Zeros\n",
        "© 2024 ETH Zurich, Mark Benazet Castells, Jonas Holinger, Felix Muller, Matteo Penlington; Institute for Dynamic Systems and Control; Prof. Emilio Frazzoli\n",
        "\n",
        "This interactive notebook is designed to introduce fundamental concepts in control systems engineering. It covers various transfer function formulations, and how they can be used to graphically determine the magnitude and phase of the transfer function. Furthermore, the effects of poles and zeros on the output response are briefly covered.\n",
        "\n",
        "Authors:\n",
        "- Jonas Holinger; jholinger@ethz.ch\n",
        "- Shubham Gupta; shugupta@ethz.ch"
      ]
    },
    {
      "cell_type": "markdown",
      "metadata": {
        "id": "zTi6n0pp2OB_"
      },
      "source": [
        "## Learning Objectives\n",
        "\n",
        "After completing this notebook, you should be able to:\n",
        "\n",
        "1. Recognize different ways of writing transfer functions and why.\n",
        "2. Understand how to graphically compute the steady-state response given a (stable) transfer function.\n",
        "3. Understand the effects of poles and zeros (non/minimum-phase) on the impulse/step responses.\n",
        "4. Understand the associated dangers of pole-zero cancellations."
      ]
    },
    {
      "cell_type": "markdown",
      "metadata": {
        "id": "StTZo8py2OB_"
      },
      "source": [
        "# Setup\n"
      ]
    },
    {
      "cell_type": "markdown",
      "metadata": {
        "id": "F4QNgG9v2OCA"
      },
      "source": [
        "## Installing the required packages:"
      ]
    },
    {
      "cell_type": "code",
      "execution_count": null,
      "metadata": {
        "colab": {
          "base_uri": "https://localhost:8080/"
        },
        "id": "V6sJWfQX2OCA",
        "outputId": "191987c4-1a70-4cb4-b60f-f1a2a2581975"
      },
      "outputs": [],
      "source": [
        "%pip install numpy matplotlib scipy ipywidgets control IPython sympy"
      ]
    },
    {
      "cell_type": "markdown",
      "metadata": {
        "id": "-QZRcptC2OCA"
      },
      "source": [
        "## Import the packages\n"
      ]
    },
    {
      "cell_type": "markdown",
      "metadata": {
        "id": "oA7XZ_l02OCB"
      },
      "source": [
        "The following cell imports the required packages. Run it before running the rest of the notebook."
      ]
    },
    {
      "cell_type": "code",
      "execution_count": 1,
      "metadata": {
        "id": "PS9MlkQc2OCB"
      },
      "outputs": [],
      "source": [
        "import numpy as np\n",
        "import sympy as sp\n",
        "import control as ct\n",
        "import matplotlib.pyplot as plt\n",
        "import numpy as np\n",
        "import math\n",
        "import ipywidgets as widgets\n",
        "from scipy.integrate import odeint\n",
        "from scipy.signal import zpk2tf, residue, invres\n",
        "from IPython.display import display, clear_output, Math, Latex\n",
        "from ipywidgets import interactive"
      ]
    },
    {
      "cell_type": "markdown",
      "metadata": {
        "id": "UznPfeVA2OCB"
      },
      "source": [
        "# Transfer Function Forms\n"
      ]
    },
    {
      "cell_type": "markdown",
      "metadata": {
        "id": "DMcXCpHL2OCB"
      },
      "source": [
        "In Lecture 4 we saw that the output response of an LTI system is given by,\n",
        "$$\n",
        "    y(t) = C e^{At}x(0) + \\int_0^t C e^{A(t-\\tau)}Bu(\\tau)d\\tau\n",
        "$$\n",
        "However, in the general case, the convolution integral makes the output hard to interpret. Hence, in Lecture 5, transfer functions were introduced as another form (amongst other advantages) of representing the input-output behavior of the system.\n",
        "\n",
        "Recall that for a causal finite-dimensional LTI SISO system, the transfer function can be written as a **strictly proper rational function** with feedthrough:\n",
        "$$\n",
        "    G(s) = \\frac{N(s)}{D(s)} = \\frac{b_{n-1}s^{n-1} + b_{n-2}s^{n-2} + \\ldots + b_0}{s^n + a_{n-1}s^{n-1} + \\ldots + a_0} + d\n",
        "$$\n",
        "\n",
        "However, there are various forms to represent the same behavior that are convenient. We dedicate the rest of this section to the various transfer function forms.  "
      ]
    },
    {
      "cell_type": "markdown",
      "metadata": {
        "id": "e4v_e9tN2OCB"
      },
      "source": [
        "## Partial Fraction Form\n"
      ]
    },
    {
      "cell_type": "markdown",
      "metadata": {
        "id": "Nf3K9t9X2OCC"
      },
      "source": [
        "Through partial fraction expansion, it is possible to express a transfer function as the sum of fractions, each with a unique denominator with pole $p_i$.\n",
        "$$\n",
        "  G(s) = \\frac{r_1}{s-p_1} + \\frac{r_2}{s-p_2}+ \\ldots + \\frac{r_n}{s-p_n} + r_0\n",
        "$$\n",
        "The values $r_1\\ldots r_n$ are called the **residues** and can be computed using the cover-up method (described below).\n",
        "Furthermore, as described later on, it is possible to express the response of a higher-order system as a sum of first-order systems, thus making this form convenient in such cases.\n",
        "\n"
      ]
    },
    {
      "cell_type": "markdown",
      "metadata": {
        "id": "dDGN04cj2OCC"
      },
      "source": [
        "\n",
        "### Cover-up Method\n"
      ]
    },
    {
      "cell_type": "markdown",
      "metadata": {
        "id": "Hi4_-rSD2OCC"
      },
      "source": [
        "The *Heaviside Cover-up Method* is an approach for quickly determining the residues of a partial-fraction expansion. It states that to calculate the residue for a pole $p_i$, \"cover-up\" the term due to that pole $(s-p_i)$ and substitute $p_i$ in the rest of the transfer function (in its rational form).\n",
        "\n",
        "Formally, for a non-repeated pole the residue is given by\n",
        "$$\n",
        "    r_i = \\lim_{s\\rightarrow p_i}(s-p_i)G(s)\n",
        "$$\n",
        "\n",
        "For a repeated pole the residue is given by:\n",
        "$$\n",
        "    r_i = \\frac{1}{(m-1)!}\\lim_{s\\rightarrow p_i}\\frac{d^{m-1}}{ds^{m-1}}((s-p_i)^mG(s))\n",
        "$$\n",
        "Where $m$ is the algebraic multiplicity of the pole."
      ]
    },
    {
      "cell_type": "markdown",
      "metadata": {
        "id": "bNoGXlf42OCC"
      },
      "source": [
        "## Root-Locus Form"
      ]
    },
    {
      "cell_type": "markdown",
      "metadata": {
        "id": "GbKExukR2OCC"
      },
      "source": [
        "Since the numerator and denominator are polynomials, they can be factorized using their roots. Thus, the transfer function can be written as:\n",
        "$$\n",
        "    G(s) = \\frac{k_{rl}}{s^q} \\cdot\\frac{(s-z_1)(s-z_2)\\ldots(s-z_m)}{(s-p_1)(s-p_2)\\ldots(s-p_{n-q})}\n",
        "$$\n",
        "This form is used to help plot the root locus of a transfer function (introduced next week). The gain $k_{rl}$ is varied to analyze the behavior of the system - for the time being consider it to have no effect to the system (i.e., $k_{rl}=1$)."
      ]
    },
    {
      "cell_type": "markdown",
      "metadata": {
        "id": "vEnmgOut2OCC"
      },
      "source": [
        "## Bode Form\n",
        "Similar to the root-locus form, but factorizing in a slightly different manner, the rational transfer function form can also be rearranged to\n",
        "$$\n",
        "  G(s) = \\frac{k_{\\text{Bode}}}{s^q} \\cdot \\frac{(\\frac{s}{-z_1}+1)(\\frac{s}{-z_2}+1)\\ldots(\\frac{s}{-z_m}+1)}{(\\frac{s}{-p_1}+1)(\\frac{s}{-p_2}+1)\\ldots(\\frac{s}{-p_{n-q}}+1)}\n",
        "$$\n",
        "This is called the **Bode Form** of the transfer function, and will come in use in a few weeks."
      ]
    },
    {
      "cell_type": "markdown",
      "metadata": {
        "id": "WKFFIGHm2OCC"
      },
      "source": [
        "\n",
        "## Example\n"
      ]
    },
    {
      "cell_type": "markdown",
      "metadata": {
        "id": "fOH250Ji2OCD"
      },
      "source": [
        "Given any form we can always convert to the basic rational function form by multiplying to get a common denominator.\n",
        "\n",
        "From the rational function form we can convert to *Root Locus* form by finding the roots of the numerator and denominator and factorizing the polynomials.\n",
        "\n",
        "The *Bode* form can be achieved from the *Root locus* form by dividing the numerator and denominator by their respective roots.\n",
        "\n",
        "Below we have provided a sample tool for you can test the conversion between the various forms. Feel free to enter a transfer function and see the corresponding outputs. A few input examples are presented below:\n",
        "- Poles and Zeros: \n",
        "  - Zeros: $0,-1$\n",
        "  - Poles: $-2, -3-j, -3+j$\n",
        "- Residues and Poles:\n",
        "  - Residues: $1, +2.5j, -2.5j$\n",
        "  - Poles: $-2, -3+j, -3-j$\n",
        "- Rational Function Form:\n",
        "  - Numerator: $1, 1$\n",
        "  - Denominator: $1, 8, 22, 20$"
      ]
    },
    {
      "cell_type": "code",
      "execution_count": null,
      "metadata": {
        "colab": {
          "base_uri": "https://localhost:8080/",
          "height": 222,
          "referenced_widgets": [
            "ba2d710ac5a24677bf4f6b9dea127df9",
            "30246024db2941acb8c6c6cc62e12168",
            "85c0eb51bb304c98ac2ed8f6026d2c41",
            "60a2dabc03f74923bc5de9d8114feb3e",
            "c8416d00f0fd44aa94be9e3f17f645ac",
            "72d340e502ff472f898ddddf3b084851",
            "41c29b773df44140999a27e792c97b37",
            "03fe41fa18f044d28a609ceaf10ca3c2",
            "7d9c6a5a286b46249dcaa4045cd3e484",
            "7d3df109427d405ba7fad1bcbaaa9660",
            "7507b61e78d64d07adab12c0b596d728",
            "1bfbfdf9d317420d84f8d3c1b66bf5a3",
            "eabacad51f1243c19b9a3c6e0f4bf3ad",
            "53164294dc7749e5a8932445f2257f33",
            "dff6f56317364db9a3b0f90520489335",
            "4ed312093c2043a0882b6800e1d1e83c",
            "181349623bd04aa4afdd95727ff69601"
          ]
        },
        "id": "Sp6C-pl62OCD",
        "outputId": "414d0795-47d8-4a9a-96f0-684dda2fa5d2",
        "scrolled": true
      },
      "outputs": [],
      "source": [
        "def parse_complex(s):\n",
        "    \"\"\"Parse a string into a complex number, handling 'i' as 'j'.\"\"\"\n",
        "    try:\n",
        "        return complex(s.replace('i', 'j').replace(' ', ''))\n",
        "    except:\n",
        "        raise ValueError(f\"Invalid complex number: {s}\")\n",
        "\n",
        "def display_transfer_function(num, den, zeros, poles, residues, poles_res, k_res, output_area):\n",
        "    # \"\"\"Display the transfer function in various forms.\"\"\"\n",
        "    # with output_area:\n",
        "        clear_output()  # Clear previous output in the output area\n",
        "        display(option_widget)\n",
        "        s = sp.symbols('s', complex=True)\n",
        "\n",
        "        # Rational Function Form\n",
        "        num_poly = sp.Poly(num, s)\n",
        "        den_poly = sp.Poly(den, s)\n",
        "        display(Latex('**Rational Function Form:**'))\n",
        "        display(Math(r'H(s) = \\frac{%s}{%s}' % (sp.latex(num_poly.as_expr()), sp.latex(den_poly.as_expr()))))\n",
        "\n",
        "        # Root Locus Form\n",
        "        zeros_expr = sp.prod([s - np.round(z,2) for z in zeros])\n",
        "        poles_expr = sp.prod([s - np.round(p,2) for p in poles])\n",
        "        gain = num[0] / den[0]\n",
        "        display(Latex('**Root Locus Form:**'))\n",
        "        display(Math(r'H(s) = %s \\times \\frac{%s}{%s}' % (sp.latex(gain), sp.latex(zeros_expr), sp.latex(poles_expr))))\n",
        "\n",
        "        # Partial Fraction Expansion\n",
        "        partial_frac_terms = [r'\\frac{%s}{s - (%s)}' % (sp.latex(np.round(r,2)), sp.latex(np.round(p,2))) for r, p in zip(residues, poles_res)]\n",
        "        partial_frac = ' + '.join(partial_frac_terms)\n",
        "        if k_res.size > 0:\n",
        "            k_poly = sp.Poly(k_res, s)\n",
        "            k_expr = sp.latex(k_poly.as_expr())\n",
        "            partial_frac += ' + ' + k_expr\n",
        "        display(Latex('**Partial Fraction Expansion:**'))\n",
        "        display(Math('H(s) = %s' % partial_frac))\n",
        "\n",
        "def on_option_change(change):\n",
        "    \"\"\"Update input widgets based on the selected option.\"\"\"\n",
        "    clear_output()\n",
        "    option = option_widget.value\n",
        "    output_area = widgets.Output()\n",
        "\n",
        "    if option == 1:\n",
        "        # Input widgets for zeros, poles, and gain K\n",
        "        zeros_input = widgets.Text(description='Zeros:', placeholder='Enter zeros, comma-separated')\n",
        "        poles_input = widgets.Text(description='Poles:', placeholder='Enter poles, comma-separated')\n",
        "        gain_input = widgets.Text(description='Gain K:', value='1', placeholder='Enter gain K')\n",
        "        calc_button = widgets.Button(description='Calculate Transfer Function')\n",
        "\n",
        "        display(option_widget, zeros_input, poles_input, gain_input, calc_button, output_area)\n",
        "\n",
        "        def calculate_transfer_function(b):\n",
        "            try:\n",
        "                zeros_list = [parse_complex(z) for z in zeros_input.value.split(',') if z.strip()]\n",
        "                poles_list = [parse_complex(p) for p in poles_input.value.split(',') if p.strip()]\n",
        "                gain = float(gain_input.value)\n",
        "\n",
        "                zeros = np.array(zeros_list, dtype=np.complex128)\n",
        "                poles = np.array(poles_list, dtype=np.complex128)\n",
        "                num, den = zpk2tf(zeros, poles, gain)\n",
        "                residues, poles_res, k_res = residue(num, den)\n",
        "\n",
        "                display_transfer_function(num, den, zeros, poles, residues, poles_res, k_res, output_area)\n",
        "            except Exception as e:\n",
        "                with output_area:\n",
        "                    clear_output()\n",
        "                    display(Latex(f'Error: {e}'))\n",
        "\n",
        "        calc_button.on_click(calculate_transfer_function)\n",
        "\n",
        "    elif option == 2:\n",
        "        # Input widgets for residues and poles\n",
        "        residues_input = widgets.Text(description='Residues:', placeholder='Enter residues, comma-separated')\n",
        "        poles_input = widgets.Text(description='Poles:', placeholder='Enter poles, comma-separated')\n",
        "        direct_term_input = widgets.Text(description='Direct Term:', placeholder='Optional, highest power first')\n",
        "        calc_button = widgets.Button(description='Calculate Transfer Function')\n",
        "\n",
        "        display(option_widget, residues_input, poles_input, direct_term_input, calc_button, output_area)\n",
        "\n",
        "        def calculate_transfer_function(b):\n",
        "            # try:\n",
        "                residues_list = [parse_complex(r) for r in residues_input.value.split(',') if r.strip()]\n",
        "                poles_list = [parse_complex(p) for p in poles_input.value.split(',') if p.strip()]\n",
        "                k_list = [parse_complex(k) for k in direct_term_input.value.split(',') if k.strip()] if direct_term_input.value.strip() else []\n",
        "\n",
        "                residues = np.array(residues_list, dtype=np.complex128)\n",
        "                poles_res = np.array(poles_list, dtype=np.complex128)\n",
        "                k_res = np.array(k_list, dtype=np.complex128)\n",
        "                num, den = invres(residues, poles_res, k_res)\n",
        "                zeros = np.roots(num)\n",
        "                poles = np.roots(den)\n",
        "\n",
        "                display_transfer_function(num, den, zeros, poles, residues, poles_res, k_res, output_area)\n",
        "            # except Exception as e:\n",
        "            #     with output_area:\n",
        "            #         clear_output()\n",
        "            #         display(Latex(f'Error: {e}'))\n",
        "\n",
        "        calc_button.on_click(calculate_transfer_function)\n",
        "\n",
        "    elif option == 3:\n",
        "        # Input widgets for numerator and denominator coefficients\n",
        "        num_coeffs_input = widgets.Text(description='Numerator Coeffs:', placeholder='Enter coeffs, comma-separated')\n",
        "        den_coeffs_input = widgets.Text(description='Denominator Coeffs:', placeholder='Enter coeffs, comma-separated')\n",
        "        calc_button = widgets.Button(description='Calculate Transfer Function')\n",
        "\n",
        "        display(option_widget, num_coeffs_input, den_coeffs_input, calc_button, output_area)\n",
        "\n",
        "        def calculate_transfer_function(b):\n",
        "            try:\n",
        "                num_coeffs_list = [parse_complex(c) for c in num_coeffs_input.value.split(',') if c.strip()]\n",
        "                den_coeffs_list = [parse_complex(c) for c in den_coeffs_input.value.split(',') if c.strip()]\n",
        "\n",
        "                num = np.array(num_coeffs_list, dtype=np.complex128)\n",
        "                den = np.array(den_coeffs_list, dtype=np.complex128)\n",
        "\n",
        "                zeros = np.roots(num)\n",
        "                poles = np.roots(den)\n",
        "\n",
        "                residues, poles_res, k_res = residue(num, den)\n",
        "\n",
        "                display_transfer_function(num, den, zeros, poles, residues, poles_res, k_res, output_area)\n",
        "            except Exception as e:\n",
        "                with output_area:\n",
        "                    clear_output()\n",
        "                    display(Latex(f'Error: {e}'))\n",
        "\n",
        "        calc_button.on_click(calculate_transfer_function)\n",
        "\n",
        "    else:\n",
        "        display(Latex('Invalid option selected.'))\n",
        "\n",
        "option_widget = widgets.Dropdown(\n",
        "    options=[\n",
        "        ('Enter zeros and poles', 1),\n",
        "        ('Enter residues and poles (Partial Fraction Expansion)', 2),\n",
        "        ('Enter numerator and denominator coefficients (Rational Function Form)', 3)\n",
        "    ],\n",
        "    value=1,\n",
        "    description='Input Type:'\n",
        ")\n",
        "\n",
        "option_widget.observe(on_option_change, names='value')\n",
        "display(option_widget)\n",
        "on_option_change(None)  # Initialize with the default option\n"
      ]
    },
    {
      "cell_type": "markdown",
      "metadata": {
        "id": "I0ktksup2OCD"
      },
      "source": [
        "# Determining the Steady-State Response Graphically"
      ]
    },
    {
      "cell_type": "markdown",
      "metadata": {
        "id": "hb_wuyZ92OCD"
      },
      "source": [
        "In the previous lecture, we saw that the output response of an asymptotically stable system is given by the response of the steady-state.\n",
        "\n",
        "However, computing this analytically is not a necessarily easy/insightful calculation. Consequentially, below we present approaches for  determining the steady-state output response."
      ]
    },
    {
      "cell_type": "markdown",
      "metadata": {
        "id": "vWKgbeZo2OCD"
      },
      "source": [
        "\n",
        "## Response to a unit step\n"
      ]
    },
    {
      "cell_type": "markdown",
      "metadata": {
        "id": "uqxqKTSY2OCE"
      },
      "source": [
        "\n",
        "Suppose the following unit step input is applied to an asymptotically stable LTI system. $u(t) = e^{0t} = 1$\n",
        "\n",
        "*Note* that it's a unit step input since $s=0$ results in $u(t) = 1, \\forall t\\geq0$\n",
        "\n",
        "To determine the steady-state output, we use the following **Final Value Theorem**:\n",
        "$$\n",
        "\\lim_{t\\to +\\infty} y_{ss}(t) = \\lim_{s\\to0}sY(s) = \\lim_{s\\to0}sG(s)U(s) = \\lim_{s\\to0}sG(s)\\frac{1}{s} = \\lim_{s\\to0}G(s)\n",
        "$$\n"
      ]
    },
    {
      "cell_type": "markdown",
      "metadata": {
        "id": "TZ9U758A2OCE"
      },
      "source": [
        "## Response to a sinusoidal input\n"
      ]
    },
    {
      "cell_type": "markdown",
      "metadata": {
        "id": "bGEtnl732OCE"
      },
      "source": [
        "**Recall** that the output response of a sinusoidal input is also a sinusoidal, but with magnitude $\\left| G(s) \\right|$ and phase $\\angle G(s)$ -- i.e., if we have a transfer function $G(s)$ and apply an exponential input with $s=j$, such that $u(t)=\\sin(t)$, then the steady state output is: $$ y_{ss}(t) = \\left| G(j)\\right| \\sin \\left(t+\\angle G(j)\\right) $$\n",
        "\n",
        "Consequentially, the aim is to readily determine the magnitude and phase of any transfer function. One way of doing this is through a graphical approach, by plotting the poles, zeros and input on the *s-plane*, and determining the appropriate vectors.\n",
        "\n",
        "Consider the following arbitrary transfer function in root-locus form:\n",
        "$$\n",
        "    G(s) = k \\cdot \\frac{(s-z_1)(s-z_2)\\ldots(s-z_m)}{(s-p_1)(s-p_2)\\ldots(s-p_{n})}\n",
        "$$\n",
        "\n",
        "> Then the magnitude of $G(s)$ is given by:\n",
        "> $$\n",
        ">     \\left| G(s) \\right| = k \\cdot \\frac{|s-z_1|\\cdot |s-z_2|\\ldots |s-z_m|}{ |s-p_1| \\cdot |s-p_2|\\ldots |s-p_{n}|}\n",
        "> $$\n",
        "> Where $|\\cdot|$ denotes the length of the vector from $p$ (or $z$) to $s$ respectively.\n",
        "\n",
        "> Similarly, the phase of $G(s)$ is given by:\n",
        "> $$\n",
        ">     \\angle G(s) = \\left[\\angle k +  \\angle (s-z_1) + \\angle (s-z_2) + \\dots + \\angle (s-z_m) \\right] - \\left[ \\angle (s-p_1) + \\angle (s-p_2) + \\dots + \\angle (s-p_n) \\right]\n",
        "> $$\n",
        "> Where $\\angle (\\cdot)$ is the angle formed by the vector from $p$ (or $z$) to $s$ with respect to the real axis.\n",
        "\n",
        "*Note* that the value of $s$ is defined by the input. If the input is $u(t) = \\sin (-t)$ then $s=-j$. If the input is $u(t) = \\sin (3t)$, then $s=3j$, if $u(t) = \\cos (3t)$, then $s=3j$ also but the output response will consist of a $\\cos$ instead of a $\\sin$."
      ]
    },
    {
      "cell_type": "markdown",
      "metadata": {
        "id": "5eX8KkVR2OCE"
      },
      "source": [
        "### Example\n"
      ]
    },
    {
      "cell_type": "markdown",
      "metadata": {
        "id": "33VtLwpe2OCE"
      },
      "source": [
        "Consider that we wish to determine the steady-state output for the following transfer function $G(s)$ and input $u(t)$:\n",
        "$$\n",
        "\\begin{align}\n",
        "G(s) &= 3 \\cdot \\frac{s + 3}{(s + 2 - j)(s + 2 + j)} \\\\\n",
        "u(t) &= \\sin(3t)\n",
        "\\end{align}\n",
        "$$\n",
        "\n",
        "In this case $s=3j$, since $\\omega = 3$ in the input.\n"
      ]
    },
    {
      "cell_type": "markdown",
      "metadata": {
        "id": "zZ3xI7pr2OCE"
      },
      "source": [
        "#### Plotting the poles and zeros"
      ]
    },
    {
      "cell_type": "markdown",
      "metadata": {
        "id": "SlDFKAhN2OCE"
      },
      "source": [
        "The first step is to plot the zeros and poles on the *s-plane*.\n",
        "\n",
        "The transfer function is already provided in root-locus form, from which the poles and zeros can be directly inferred:\n",
        "- $z_1 = -3$\n",
        "- $p_{1,2} = -2 \\pm j$\n",
        "\n",
        "We then plot the poles and zeros. Note that the convention is that poles are presented by *crosses*, and zeros by *circles*.\n",
        "\n",
        "<img src=\"media/pole_zero_plot_with_input.png\" width=\"300\"/>\n"
      ]
    },
    {
      "cell_type": "markdown",
      "metadata": {
        "id": "XDY_bZTr2OCF"
      },
      "source": [
        "#### Determining the Magnitude $ \\left| G(s) \\right| $"
      ]
    },
    {
      "cell_type": "markdown",
      "metadata": {
        "id": "EROYGxW62OCF"
      },
      "source": [
        "Using the previously mentioned approach we note that:\n",
        "- Denoting the magnitude of the vector from $z_1$ to $s$: $\\left | s - z_1 \\right| = \\left | s + 3 \\right| = \\sqrt{3^2+3^2} = 3\\sqrt{2}$.\n",
        "- Denoting the magnitude of the vector from $p_1$ to $s$: $\\left | s - p_1 \\right| = \\left | s + 2 + j \\right| = \\sqrt{2^2 + 4^2} = 2\\sqrt{5}$.\n",
        "- Denoting the magnitude of the vector from $p_2$ to $s$: $\\left | s - p_2 \\right| = \\left | s + 2 - j \\right| = \\sqrt{2^2 + 2^2} = 2\\sqrt{2}$.\n",
        "\n",
        "Hence:\n",
        "$$\n",
        "    \\left| G(3j) \\right| = 3 \\cdot \\frac{3\\sqrt{2}}{2\\sqrt{5}\\cdot2\\sqrt{2}} = \\frac{9\\sqrt{2}}{4\\sqrt{10}}\n",
        "$$\n",
        "\n",
        "Below you can see that see the graphical visualization of the magnitude of the pole $(s + 2 + j)$ to the input $u(t)= \\sin(3t)$\n",
        "\n",
        "<img src=\"media/pole_zero_plot_with_input_magn.png\" width=\"300\"/>\n"
      ]
    },
    {
      "cell_type": "markdown",
      "metadata": {
        "id": "ty6gAadK2OCF"
      },
      "source": [
        "#### Determining the Phase $ \\angle G(s) $"
      ]
    },
    {
      "cell_type": "markdown",
      "metadata": {
        "id": "dmjnUAS52OCF"
      },
      "source": [
        "Using the previously mentioned approach, we note that:\n",
        "- The angle between $z_1$ and $s$: $\\angle (s-z_1) = \\angle (s + 3) = \\arctan \\frac{3}{3} = 45 ^\\circ$\n",
        "- The angle between $p_1$ and $s$: $\\angle (s-p_1) = \\angle (s + 2 + j) = \\arctan \\frac{4}{2} \\approx 63.43^\\circ$\n",
        "- The angle between $p_2$ and $s$: $\\angle (s-p_2) = \\angle (s + 2 - j) = \\arctan \\frac{2}{2} \\approx 45^\\circ$\n",
        "- The angle due to $k$: $\\angle 3 = 0^\\circ$\n",
        "\n",
        "Hence:\n",
        "$$\n",
        "    G(s) \\approx 0^\\circ + 45^\\circ - 63.43^\\circ - 45^\\circ \\approx - 63.43^\\circ\n",
        "$$\n",
        "\n",
        "Below you can see that see the graphical visualization of the magnitude of the pole $(s + 2 - j)$ to the input $u(t)=\\sin(3t)$\n",
        "\n",
        "<img src=\"media/pole_zero_plot_with_input_phase.png\" width=\"300\"/>"
      ]
    },
    {
      "cell_type": "markdown",
      "metadata": {
        "id": "6mxJ40By2OCF"
      },
      "source": [
        "\n",
        "##### Quadrants of the Complex Plane\n"
      ]
    },
    {
      "cell_type": "markdown",
      "metadata": {
        "id": "VB4eVVG72OCF"
      },
      "source": [
        "It is important to note that one need to be careful when computing the angle using a calculator/program, since the value of $\\arctan\\left(\\cdot\\right)$ alone does not account for the quadrant in which the complex number could lie in. In your calculator/computer the function ``atan2`` corrects for this. However, for calculating the phase by hand, recall the following cases:\n",
        "\n",
        "1. **Quadrant I**: $a > 0,b > 0$\n",
        "   - $\\theta = \\arctan\\left(\\frac{b}{a}\\right)$\n",
        "2. **Quadrant II**: $a < 0,b > 0$\n",
        "   - $\\theta = \\arctan\\left(\\frac{b}{a}\\right) + 180^\\circ $\n",
        "3. **Quadrant III**: $a < 0,b < 0$\n",
        "   - $\\theta = \\arctan\\left(\\frac{b}{a}\\right) - 180^\\circ $\n",
        "4. **Quadrant IV**: $a > 0, \\, b < 0$\n",
        "   - $\\theta = \\arctan\\left(\\frac{b}{a}\\right)$\n",
        "\n",
        "<img src=\"media/complex_quadrants.png\" width=\"300\"/>\n"
      ]
    },
    {
      "cell_type": "markdown",
      "metadata": {
        "id": "yTfT-61d2OCF"
      },
      "source": [
        "#### Putting things together"
      ]
    },
    {
      "cell_type": "markdown",
      "metadata": {
        "id": "nnWbPlyF2OCG"
      },
      "source": [
        "From last lecture, we know that the steady-state output response of $u(t) = \\sin(3t)$ is: $$y_{ss}(t) = \\left| G(s) \\right| \\sin(3t + \\angle G(s))$$\n",
        "\n",
        "Now that we have determined the expressions for both $\\left| G(s) \\right|$ and $\\angle G(s)$, the steady state output is described by:\n",
        "$$y_{ss}(t) = \\frac{3\\sqrt{2}}{4\\sqrt{10}} \\sin(3t - 63.43^\\circ)$$\n"
      ]
    },
    {
      "cell_type": "markdown",
      "metadata": {
        "id": "sbVCHae_2OCG"
      },
      "source": [
        "### Superposition\n"
      ]
    },
    {
      "cell_type": "markdown",
      "metadata": {
        "id": "y5EIr2FJ2OCJ"
      },
      "source": [
        "Note that the properties of superposition still apply. Consequentially, the steady-state output to an input $u(t)=5u_1(t) + 4u_2(t) = 5\\sin(3t)+4\\cos(5t)$ is:\n",
        "$$\n",
        "\\begin{align}\n",
        "y_{ss} &= 5\\cdot y_{ss,1} + 4\\cdot y_{ss,2} \\\\\n",
        "&= 5\\left(\\left| G(3j) \\right| \\sin(3t+\\angle G(3j))\\right) + 4(\\left| G(5j) \\right| \\cos(5t+\\angle G(5j)))\n",
        "\\end{align}\n",
        "$$\n"
      ]
    },
    {
      "cell_type": "markdown",
      "metadata": {
        "id": "tw0PRjTa2OCK"
      },
      "source": [
        "\n",
        "### Visualisation\n"
      ]
    },
    {
      "cell_type": "markdown",
      "metadata": {
        "id": "KReLhiMf2OCK"
      },
      "source": [
        "\n",
        "In the following interactive example you can input a transfer function and a frequency $\\omega$ and get the magnitude, phase and a graph of the response out of it. To input your own transfer function, for both the denominator and numerator, use the following format : [7,2,3,5] = $7s^3+2s^2+3s+5$ and click update. Try calculating the phase and magnitude by hand and then check if it matches the result. You need to click the button to update the graph.\n",
        "\n",
        "Note that the output is the total response. "
      ]
    },
    {
      "cell_type": "code",
      "execution_count": null,
      "metadata": {
        "colab": {
          "base_uri": "https://localhost:8080/",
          "height": 836,
          "referenced_widgets": [
            "ca5cf6bee03d4c7e9e9b3940d9e0ec0a",
            "e37b7f44f113472c8c1dbc6350c4ffc4",
            "0ec61c2ffdf04181a3898cc25d162467",
            "886688f0af37479581486271fb09f35f",
            "56afdb967ffe496ebb7a33687fcf0c73",
            "8e96e9c797844c33959e7253c230d55e",
            "da6ba439d5e34f8ebdc472d19d9eec09",
            "498036c676b341db829f3c8b97adb024",
            "4d26aa4b45704e0f9a546ee0242d7ab1",
            "be6c21f3801e492aa05c4b96c4e71835",
            "7db2ded12c3e4098816e3915214adefd",
            "d810ce1c890f4e4d9032c5e2f7cd882a",
            "ad70c18d92ec4d52896610b58c874a0c",
            "7d11f19f9551415ab85192a771c9576e",
            "88a81a5e328c4653a58a05acfcb3997c",
            "de607113fa394d82b8c49ee15c3a08be",
            "27a6a1092ec5428ba118c778dc77ecd9",
            "d2d051374b1a47698758389bdd912fca"
          ]
        },
        "id": "ApgrB1tg2OCK",
        "outputId": "78823e27-0582-49c2-b66a-356b897772d4"
      },
      "outputs": [],
      "source": [
        "G = None\n",
        "\n",
        "def plot_response_mp(omega):\n",
        "    global G\n",
        "    # Time vector\n",
        "    t = np.linspace(0, 10, 1000)\n",
        "\n",
        "    u = np.sin(omega * t)\n",
        "\n",
        "    t_out, y_out = ct.forced_response(G, T=t, U=u)\n",
        "\n",
        "    plt.figure(figsize=(12, 6))\n",
        "\n",
        "    plt.plot(t, u, label=r'$u(t) = \\sin(\\omega t)$ (Input)', color='blue', linestyle='--')\n",
        "\n",
        "    plt.plot(t_out, y_out, label='y(t) (Steady-State Output)', color='orange')\n",
        "\n",
        "    plt.title(f'Steady State Response to Sinusoidal Input')\n",
        "    plt.xlabel('Time (s)')\n",
        "    plt.ylabel('Amplitude')\n",
        "    plt.legend(loc='best')\n",
        "    plt.grid(True)\n",
        "    plt.show()\n",
        "\n",
        "\n",
        "def calculate_magnitude_phase(omega):\n",
        "    global G\n",
        "    s = 1j * omega\n",
        "    G_s = G(s)\n",
        "    magnitude = abs(G_s)\n",
        "    phase = np.angle(G_s, deg=True)\n",
        "    return magnitude, phase\n",
        "\n",
        "def update_transfer_function(numerator_input, denominator_input):\n",
        "    global G\n",
        "\n",
        "    try:\n",
        "        numerator = [float(n) for n in numerator_input.split(',')]\n",
        "        denominator = [float(d) for d in denominator_input.split(',')]\n",
        "\n",
        "        G = ct.TransferFunction(numerator, denominator)\n",
        "\n",
        "        # Check stability\n",
        "        poles = ct.poles(G)\n",
        "        is_stable = all(np.real(pole) < 0 for pole in poles)\n",
        "        if not is_stable:\n",
        "            print(f\"Your system is unstable, try changing the poles\")\n",
        "            return\n",
        "\n",
        "        # Display the transfer function, magnitude, and phase\n",
        "        magnitude, phase = calculate_magnitude_phase(omega_slider.value)\n",
        "        clear_output(wait=True)\n",
        "        display(ui)\n",
        "\n",
        "        print(f\"{G}\")\n",
        "        print(f\"Magnitude at ω = {omega_slider.value}: |G(jω)| = {magnitude:.2f}\")\n",
        "        print(f\"Phase at ω = {omega_slider.value}: ∠G(jω) = {phase:.2f} degrees\\n\")\n",
        "        plot_response_mp(omega_slider.value)\n",
        "\n",
        "    except ValueError:\n",
        "        print(\"Please enter valid numbers separated by commas.\")\n",
        "\n",
        "numerator_input = widgets.Text(\n",
        "    value='3,9',\n",
        "    description='Numerator:',\n",
        ")\n",
        "\n",
        "denominator_input = widgets.Text(\n",
        "    value='1,4,5',\n",
        "    description='Denominator:',\n",
        ")\n",
        "\n",
        "update_button = widgets.Button(description=\"Update\", layout=widgets.Layout(margin='0 auto', width='auto'))\n",
        "update_button.on_click(lambda b: update_transfer_function(numerator_input.value, denominator_input.value))\n",
        "\n",
        "omega_slider = widgets.FloatSlider(\n",
        "    value=3.0,\n",
        "    min=0.1,\n",
        "    max=10.0,\n",
        "    step=0.1,\n",
        "    description='ω:',\n",
        "    continuous_update=True\n",
        ")\n",
        "left_column = widgets.VBox([numerator_input, denominator_input])\n",
        "right_column = widgets.VBox([omega_slider, update_button])\n",
        "\n",
        "ui = widgets.HBox([left_column, right_column])\n",
        "\n",
        "interactive_plot = interactive(\n",
        "    plot_response_mp,\n",
        "    omega=omega_slider,\n",
        "\n",
        ")\n",
        "\n",
        "display(ui)\n",
        "\n",
        "\n",
        "update_transfer_function(numerator_input.value, denominator_input.value)\n"
      ]
    },
    {
      "cell_type": "markdown",
      "metadata": {
        "id": "MiGZP4Qb2OCK"
      },
      "source": [
        "# Effects of Poles and Zeros\n"
      ]
    },
    {
      "cell_type": "markdown",
      "metadata": {
        "id": "Vu_NKvMn2OCL"
      },
      "source": [
        "Part of the advantage of using transfer functions to represent the input-output behavior of the system, is that we can readily analyze the behavior of the whole system (with controllers and other elements). Furthermore, since we have some flexibility over how to design the system, and consequentially some of the systems' poles and zeros, it is important to understand the effects of poles and zeros on the output response of the system.  \n",
        "\n",
        "In order to understand the effect of poles and zeros on transient behavior, we apply:\n",
        "- A unit impulse input to understand the effect of poles.\n",
        "- A unit step input to understand the effect of zeros."
      ]
    },
    {
      "cell_type": "markdown",
      "metadata": {
        "id": "9sA7OZdY2OCL"
      },
      "source": [
        "### Unit Impulse Input\n"
      ]
    },
    {
      "cell_type": "markdown",
      "metadata": {
        "id": "X2aJW1YG2OCL"
      },
      "source": [
        "The unit impulse input $u(t)=\\zeta(t)$, is defined as:\n",
        "$$\n",
        "\\zeta(t) =\n",
        "\\begin{cases}\n",
        "\\infty & \\text{if } t = 0 \\\\\n",
        "0 & \\text{if } t \\neq 0\n",
        "\\end{cases}\n",
        "$$\n",
        "with the property:\n",
        "$$\n",
        "\\int_{-\\infty}^{\\infty} \\zeta(t) \\, dt = 1\n",
        "$$"
      ]
    },
    {
      "cell_type": "markdown",
      "metadata": {
        "id": "vSYjfNxz2OCL"
      },
      "source": [
        "\n",
        "### Impulse Response\n"
      ]
    },
    {
      "cell_type": "markdown",
      "metadata": {
        "id": "mjP1hYIu2OCL"
      },
      "source": [
        "In the lecture we saw that the impulse response corresponds to an initial condition response with $x(0)=B$.\n",
        "For a more intuitive understanding we can consider the output of a general (asymptotically stable) LTI-system is $Y(s)=G(s)U(s)$. Furthermore, recall that the Laplace-Transformation of the unit impulse is 1 (i.e., $U(s)=1$), hence, $Y(s)=G(s)$ -- which corresponds to the initial condition response of our system.\n",
        "\n",
        "Consider the following transfer function of a scalar first-order system ($A=a, B=b, C=c, D=0$):\n",
        "$$G(s) = \\frac{r}{s-a}  $$\n",
        "\n",
        "The response to a unit impulse has the form $y(t)=re^{at}$.\n",
        "\n",
        "If we have a higher order system, assuming no repeated poles, we can express $G(s)$ in the partial fraction form:\n",
        "$$ G(s)=\\frac{r_{1}}{s-p_{1}}+\\frac{r_{2}}{s-p_{2}}+...+\\frac{r_{n}}{s-p_{n}}$$\n",
        "Then, due to linearity, then the impulse response is:\n",
        "$$y(t)=r_{1}e^{p_1t}+r_{2}e^{p_2t}+..+r_{n}e^{p_nt}$$\n",
        "\n",
        "Thus, the effect of poles is directly visible in the output response (and discussed in the previous lectures)."
      ]
    },
    {
      "cell_type": "markdown",
      "metadata": {
        "id": "knaOeSjx2OCL"
      },
      "source": [
        "\n",
        "#### Visualisation\n"
      ]
    },
    {
      "cell_type": "markdown",
      "metadata": {
        "id": "XHgKQt7a2OCM"
      },
      "source": [
        "We provide below a visualization tool to plot the unit impulse response given a transfer function in partial fraction expansion form. \n",
        "\n",
        "To input multiple poles with distinct residues, enter a pole along with its residue, and click \"Update\", then enter another pole and residue, and click \"Update\" to add it to the plot. \n",
        "\n",
        "Try adding different poles with different resides $r_i$. Notice that $p_n$ can be a complex number. A complex pole has the form $p_i=\\sigma_i+j\\omega_i$ and oscillates at the frequency $\\omega_i$. Complex poles can be inserted in the form $4+3j$ without any brackets and will automatically be input as complex conjugate pairs. Notice how the response changes, when changing $r_i$. You can see the effect of each added pole to the total response is dependent on $r_i$."
      ]
    },
    {
      "cell_type": "code",
      "execution_count": null,
      "metadata": {
        "colab": {
          "base_uri": "https://localhost:8080/",
          "height": 648,
          "referenced_widgets": [
            "8f00530e2e2e43048524f1981c131950",
            "06f2d07096664a4c943f01c8fc6f8369",
            "01fd0576c5c7479780b1ef9d2e61c9ca",
            "d401364956cb40fd8938f053217c70bf",
            "c4d4d78b0fb34364a8c52d5cf829743e",
            "e90eee4a615d4f4b92f772c41d757d6d",
            "4788b4a292d24e6787d74451fd064496",
            "84c46fe32a5d4d7486b63111c9b80b13",
            "831b53a70b7d4f399f259ac9d80b3c0f",
            "27479d64c0a64eb8a59c11294418bb98",
            "40ca800467074454b355b52640e1c315"
          ]
        },
        "id": "O05phK1h2OCM",
        "outputId": "6dcede11-8656-4228-dfce-339ab8372df4"
      },
      "outputs": [],
      "source": [
        "poles = []\n",
        "residues = []\n",
        "\n",
        "def update_response_poles():\n",
        "    clear_output(wait=True)\n",
        "\n",
        "    # Time vector\n",
        "    t = np.linspace(0, 10, 1000)\n",
        "\n",
        "    y_total = np.zeros_like(t, dtype=np.complex128)\n",
        "\n",
        "    # A set to track plotted poles (to avoid plotting conjugates twice)\n",
        "    plotted_poles = set()\n",
        "\n",
        "    for pole, residue in zip(poles, residues):\n",
        "        y_total += residue * np.exp(pole * t)\n",
        "\n",
        "\n",
        "    plt.figure(figsize=(12, 6))\n",
        "    plt.plot(t, y_total.real, label='Total Response', color='orange', linewidth=2)\n",
        "    plt.title('Impulse Response of the System')\n",
        "    plt.xlabel('Time (s)')\n",
        "    plt.ylabel('Amplitude')\n",
        "    plt.legend()\n",
        "    plt.grid(True)\n",
        "\n",
        "    for pole, residue in zip(poles, residues):\n",
        "        # Skip if we've already plotted the conjugate\n",
        "        if pole in plotted_poles:\n",
        "            continue\n",
        "\n",
        "        # Calculate response for this pole\n",
        "        y_pole = residue * np.exp(pole * t)\n",
        "\n",
        "        if np.imag(pole) != 0:\n",
        "            label = f'Response for r: {residue} and Pole at: {np.real(pole)} ± {abs(np.imag(pole))}j'\n",
        "            plt.plot(t, y_pole.real, linestyle='--', label=label)\n",
        "            plotted_poles.add(pole)\n",
        "            plotted_poles.add(np.conj(pole))\n",
        "        else:\n",
        "            label = f'Response for r: {residue} and Pole at: {np.real(pole)}'\n",
        "            plt.plot(t, y_pole.real, linestyle='--', label=label)\n",
        "            plotted_poles.add(pole)\n",
        "\n",
        "    plt.legend()\n",
        "    display(ui)\n",
        "    plt.show()\n",
        "\n",
        "def add_pole_residue(pole_input, residue_input):\n",
        "    try:\n",
        "        pole = complex(pole_input)\n",
        "        residue = float(residue_input)\n",
        "        poles.append(pole)\n",
        "        residues.append(residue)\n",
        "\n",
        "        if np.imag(pole) != 0:\n",
        "            poles.append(np.conj(pole))\n",
        "            residues.append(residue)\n",
        "\n",
        "        update_response_poles()\n",
        "    except ValueError:\n",
        "        print(\"Please enter a valid number for both the pole and the residue.\")\n",
        "\n",
        "pole_input = widgets.Text(\n",
        "    description='',\n",
        "    placeholder='Enter a pole (e.g., -1, -2+1j)',\n",
        "    layout=widgets.Layout(margin='0 auto', width='auto')\n",
        ")\n",
        "residue_input = widgets.Text(\n",
        "    description='',\n",
        "    placeholder='Enter a residue (e.g., 1, -0.5)',\n",
        "    layout=widgets.Layout(margin='0 auto', width='auto')\n",
        ")\n",
        "\n",
        "add_button = widgets.Button(description=\"Update\", layout=widgets.Layout(margin='0 auto', width='auto'))\n",
        "add_button.on_click(lambda b: add_pole_residue(pole_input.value, residue_input.value))\n",
        "\n",
        "ui = widgets.VBox([pole_input, residue_input, add_button])\n",
        "\n",
        "display(ui)\n",
        "\n",
        "update_response_poles()"
      ]
    },
    {
      "cell_type": "markdown",
      "metadata": {
        "id": "d2boVrjM2OCM"
      },
      "source": [
        "### Unit Step Input"
      ]
    },
    {
      "cell_type": "markdown",
      "metadata": {
        "id": "66UcagKq2OCM"
      },
      "source": [
        "The unit step function, $u(t)$, is defined as:\n",
        "$$\n",
        "u(t) =\n",
        "\\begin{cases}\n",
        "0 & \\text{if } t < 0 \\\\\n",
        "1 & \\text{if } t \\geq 0\n",
        "\\end{cases}\n",
        "$$\n",
        "which corresponds to the input $u(t)=e^{0t} = 1, \\forall t\\geq0$."
      ]
    },
    {
      "cell_type": "markdown",
      "metadata": {
        "id": "KOsCas1c2OCM"
      },
      "source": [
        "\n",
        "#### Unit step Response\n"
      ]
    },
    {
      "cell_type": "markdown",
      "metadata": {
        "id": "L0sQ-syG2OCM"
      },
      "source": [
        "We already know that the response to the unit step is <br><br> $$y_{\\text{step}}(t) = \\int_{0}^{t} C e^{A(t - \\tau)} B \\, d\\tau = -C A^{-1} B + C A^{-1} e^{A t} B$$<br>\n",
        "For a first order system, the response can be calculated as follows:<br> <br>$$y_{step}=y_{ss}(t)(1-e^{at})$$ with $y_{ss}=G(0)=CA^{-1}B$.<br>\n",
        "\n",
        "\n",
        "The step response is the steady-state response minus a scaled impulse response.\n"
      ]
    },
    {
      "cell_type": "markdown",
      "metadata": {
        "id": "jcg6Ahdn2OCN"
      },
      "source": [
        "\n",
        "#### Visualization\n"
      ]
    },
    {
      "cell_type": "markdown",
      "metadata": {
        "id": "0Gm6760h2OCN"
      },
      "source": [
        "\n",
        "Below, you can input your system as a transfer function and observe the difference between the unit step response and the impulse response.\n",
        "\n",
        "\n"
      ]
    },
    {
      "cell_type": "code",
      "execution_count": null,
      "metadata": {
        "colab": {
          "base_uri": "https://localhost:8080/",
          "height": 802,
          "referenced_widgets": [
            "a341a28f4d0244f68b8bdf83886cb717",
            "294c909485874d42a76d5cb4984e6b29",
            "b0a19ac634964cb8aed9adb28dabfb28",
            "2977dbf3276348a0a3d1fe3486127362",
            "012e1586bbdc4aee8dc32653db039369",
            "2bec1556a61f463f84d876d3a6d93efb",
            "c557469cd9ba416897e6adedba40644b",
            "17e1734d99b9419fbbcbc27e510dc31e",
            "2050226d1dae42af853c5ebbb78941fa",
            "cc24611d6c184824a28a7d8b71af448f"
          ]
        },
        "id": "c0I2RssD2OCN",
        "outputId": "08e761be-e7be-4d7b-8674-18d8f5d9eab8"
      },
      "outputs": [],
      "source": [
        "\n",
        "def plot_responses_step_impulse(numerator, denominator):\n",
        "    system = ct.TransferFunction(numerator, denominator)\n",
        "    print(\"Transfer Function:\")\n",
        "    print(system)\n",
        "    t = np.linspace(0, 10, 500)\n",
        "\n",
        "    t_step, y_step = ct.step_response(system, t)\n",
        "\n",
        "\n",
        "    t_impulse, y_impulse = ct.impulse_response(system, t)\n",
        "\n",
        "    plt.figure(figsize=(10, 6))\n",
        "    plt.plot(t_step, y_step, label='Step Response', color='b')\n",
        "    plt.plot(t_impulse, y_impulse, label='Impulse Response', color='r')\n",
        "    plt.title('Step and Impulse Response')\n",
        "    plt.xlabel('Time')\n",
        "    plt.ylabel('Amplitude')\n",
        "    plt.legend()\n",
        "    plt.grid(True)\n",
        "    plt.show()\n",
        "\n",
        "numerator_input = widgets.Text(value='[1]', description='Numerator:')\n",
        "denominator_input = widgets.Text(value='[1, 2, 1]', description='Denominator:')\n",
        "\n",
        "def update_plot(numerator_str, denominator_str):\n",
        "    try:\n",
        "        numerator = eval(numerator_str)\n",
        "        denominator = eval(denominator_str)\n",
        "        plot_responses_step_impulse(numerator, denominator)\n",
        "    except Exception as e:\n",
        "        clear_output()\n",
        "        display(widgets.HTML(f\"<b>Error:</b> {e}\"))\n",
        "\n",
        "interactive_plot = interactive(update_plot, numerator_str=numerator_input, denominator_str=denominator_input)\n",
        "\n",
        "display(interactive_plot)\n"
      ]
    },
    {
      "cell_type": "markdown",
      "metadata": {
        "id": "B1VqGh9r2OCN"
      },
      "source": [
        "### Effect of zeros on the response\n"
      ]
    },
    {
      "cell_type": "markdown",
      "metadata": {
        "id": "ADIGLLZA2OCN"
      },
      "source": [
        "While poles $p_i$ determine the exponent terms in the response of a system, zeros $z_i$ influence the residues and, hence, the amplitude of these terms. The zeros of a system modify the magnitudes of the residues $r_i$ associated with each pole."
      ]
    },
    {
      "cell_type": "markdown",
      "metadata": {
        "id": "wWgsy6QD2OCN"
      },
      "source": [
        "\n",
        "#### Pole-Zero Cancellation\n"
      ]
    },
    {
      "cell_type": "markdown",
      "metadata": {
        "id": "-cN8moJL2OCO"
      },
      "source": [
        "Adding a zero near a pole can reduce the effect of the pole. When a zero matches a pole exactly, the effective residue $r_i$ is zero. This means that the pole has no impact on the systems output response, it can neither be observed or controlled -- this will be explored in more detail in Control Systems II. Nevertheless, this can cause problems if the cancelled out pole is unstable -- Consider the following example.   \n",
        "\n",
        "Suppose you have an LTI system with the following realization:\n",
        "$$ A=\\begin{bmatrix} 0 & 1 \\\\ 2 & 3 \\end{bmatrix} B=\\begin{bmatrix} 0 \\\\ 1 \\end{bmatrix} C = \\begin{bmatrix} 2 & -1 \\end{bmatrix} D =0$$\n",
        "\n",
        "The eigenvalues of the A matrix are $\\lambda_1=4, \\lambda_2 = -1$. Since $\\text{Re}(\\lambda_1) > 0$, the system is unstable.\n",
        "\n",
        "However, if you calculate the transfer function and perform a pole-zero cancellation, one could come to the conclusion that the system is stable (i.e., the simplified form of $G(s)$ contains only one stable pole).\n",
        "$$G(s) = \\frac{2(s - 4)}{(s - 4)(s + 1)} = \\frac{2}{s + 1}$$\n",
        "\n",
        "Thus, it is important to note that notationally, pole-Zero cancellation of unstable poles should be avoided since it can lead to masking the unstable dynamics in a system."
      ]
    },
    {
      "cell_type": "markdown",
      "metadata": {
        "id": "Laf2b7ay2OCO"
      },
      "source": [
        "#### Zeros as derivative action\n"
      ]
    },
    {
      "cell_type": "markdown",
      "metadata": {
        "id": "8D3KMD212OCO"
      },
      "source": [
        "Zeros in a transfer function can behave similarly to a differentiator.\n",
        "\n",
        "If we multiply a transfer function $\\tilde{G}(s)$ with a zero, we get $G(s) = (\\frac{s}{-z} + 1) \\tilde{G}(s)$. After expanding it, one can see that the component $\\frac{s}{-z} \\tilde{G}(s)$ introduces a term similar to the differentiator $G(s) \\cdot s$ (Seen in Lecture 5) -- i.e., the output is also affected by the rate of change of the input. Intuitively this induces anticipatory effect on the system response."
      ]
    },
    {
      "cell_type": "markdown",
      "metadata": {
        "id": "BuKh0FvN2OCO"
      },
      "source": [
        "\n",
        "#### Minimum-Phase vs Non-Minimum-Phase System\n"
      ]
    },
    {
      "cell_type": "markdown",
      "metadata": {
        "id": "aoSlAUJY2OCO"
      },
      "source": [
        "As we learned, zeros introduce a derivative effect to our system. If at least one zero lies in the right half of the complex plane the derivative action is negative -- i.e., results in counterintuitive behaviors. While the stability is preserved, the output can move in the wrong direction initially. Non-Minimum-Phase system are difficult to control and should be avoided if possible."
      ]
    },
    {
      "cell_type": "markdown",
      "metadata": {
        "id": "2O-Jku-22OCO"
      },
      "source": [
        "#### Visualization\n"
      ]
    },
    {
      "cell_type": "markdown",
      "metadata": {
        "id": "6Eqp0taY2OCO"
      },
      "source": [
        "We have plotted the step response and pole-zero map for a first-order system with transfer function:\n",
        "$$\n",
        "    G(s) = \\frac{s-z}{s-p}\n",
        "$$\n",
        "\n",
        "Try:\n",
        "- Set $\\text{Re}(p) = -3, \\text{Im}(p)=0$:\n",
        "  - What happens to the output response when $z > 0$? What happens for larger values of $z$?\n",
        "  - What happens to the output response when $z < 0$? What happens for smaller (more negative) values of $z$?\n",
        "- Set $\\text{Re}(p) = -1, z=0$, and change $\\text{Im}(p)>0$:\n",
        "  - How does the complex pole changed the output response?\n",
        "  - What happens to the output response as the imaginary component increases?\n",
        "  - What happens to the output response for when $z<0$ and $z>0$, is the behavior exhibited the same as above?\n",
        "- Change $\\text{Re}(p) > 0$, with any imaginary component and $z$.\n",
        "  - The system is unstable. What happens to the output behavior for $z>0$?\n"
      ]
    },
    {
      "cell_type": "code",
      "execution_count": null,
      "metadata": {
        "colab": {
          "base_uri": "https://localhost:8080/",
          "height": 683,
          "referenced_widgets": [
            "c8521823a13b42a7ab1082f69c185700",
            "8a80b0e8f47442d5b8272590b365280e",
            "11195a91377f46848d8c86d22709c239",
            "12480966737143fa8b7e47bafb0e6598",
            "8ba8e9cf71be43168714eb91a41b0d1b",
            "2ad42883957c449bada1931fe32ebee2",
            "2b03760801884de4b5b9e0cfe5ada225",
            "a6809d4dbb674cd08118b295c250a12d",
            "7d3c05b3780743ce9c20b0b54e8174e7",
            "5fcbb947a89c4913a252aed8e6e146cd",
            "e86f50b8071a4e17afec9d58e1e4ab02",
            "aadcb3dc2b4c42dd836e523b54d97286",
            "e4e8fcd9cfab4358a0eb8b3fb40641f1"
          ]
        },
        "id": "leJ8oEil2OCP",
        "outputId": "88810836-cd4c-499d-892c-20340cce84cf"
      },
      "outputs": [],
      "source": [
        "def plot_system_pz(real_zero, real_pole, imag_pole):\n",
        "\n",
        "    if real_zero == 0:\n",
        "        numerator = [1]\n",
        "    else:\n",
        "        adjusted_zero = real_zero\n",
        "        numerator = [-1 * (1 / adjusted_zero), 1]\n",
        "\n",
        "    pole1 = complex(real_pole, imag_pole)\n",
        "    pole2 = complex(real_pole, -imag_pole)\n",
        "\n",
        "    denominator = [1, -2 * np.real(pole1), np.abs(pole1)**2]\n",
        "    system = ct.TransferFunction(numerator, denominator)\n",
        "\n",
        "    t = np.linspace(0, 4, 100)\n",
        "\n",
        "    t, y = ct.step_response(system, T=t)\n",
        "    plt.figure(figsize=(12, 6))\n",
        "\n",
        "    plt.subplot(1, 2, 1)\n",
        "    plt.plot(t, y)\n",
        "    plt.title('Step Response of the System')\n",
        "    plt.xlabel('Time (s)')\n",
        "    plt.ylabel('Response')\n",
        "    plt.grid()\n",
        "    plt.xlim(0, 4)\n",
        "    plt.ylim(min(y) - 0.1, max(y) + 0.1)\n",
        "\n",
        "    plt.subplot(1, 2, 2)\n",
        "    if real_zero != 0:\n",
        "        plt.scatter(adjusted_zero, 0, color='blue', marker='o', facecolors='none', label='Zero')  # Display zero as negative\n",
        "    else:\n",
        "        plt.scatter(0, 0, color='blue', marker='o', facecolors='none', label='Zero at Origin')  # Indicate zero at origin\n",
        "\n",
        "    plt.scatter(np.real(pole1), np.imag(pole1), color='red', marker='x', label='Pole 1')\n",
        "    plt.scatter(np.real(pole2), np.imag(pole2), color='green', marker='x', label='Pole 2 (Conjugate)')\n",
        "\n",
        "    plt.axhline(0, color='black', lw=0.5, ls='--')\n",
        "    plt.axvline(0, color='black', lw=0.5, ls='--')\n",
        "    plt.title('Pole-Zero Map')\n",
        "    plt.xlabel('Real')\n",
        "    plt.ylabel('Imaginary')\n",
        "    plt.grid()\n",
        "    plt.xlim(-5, 5)\n",
        "    plt.ylim(-5, 5)\n",
        "    plt.legend()\n",
        "\n",
        "    plt.tight_layout()\n",
        "    plt.show()\n",
        "\n",
        "real_zero_slider = widgets.FloatSlider(value=0.0, min=-5.0, max=5.0, step=0.1, description='Real Zero:')\n",
        "real_pole_slider = widgets.FloatSlider(value=-1.0, min=-5.0, max=1.0, step=0.1, description='Real Pole:')\n",
        "imag_pole_slider = widgets.FloatSlider(value=0.0, min=0,max=5.0, step=0.1, description='Img Pole:')\n",
        "\n",
        "interactive_plot = widgets.interactive(plot_system_pz,\n",
        "                                       real_zero=real_zero_slider,\n",
        "                                       real_pole=real_pole_slider,\n",
        "                                       imag_pole=imag_pole_slider)\n",
        "\n",
        "display(interactive_plot)\n"
      ]
    },
    {
      "cell_type": "markdown",
      "metadata": {
        "id": "zNV-9NjI2OCP"
      },
      "source": [
        "# Response Of a Spring Mass Damper System\n"
      ]
    },
    {
      "cell_type": "markdown",
      "metadata": {
        "id": "3nLz1oYu2OCP"
      },
      "source": [
        "This is an accompanying example with the Problem Set.\n",
        "\n",
        "<img src=\"media/spring_mass.jpg\" width=\"500\"/>\n",
        "\n",
        "Consider the above spring mass damper system. The governing equations in standard form are given by:\n",
        "\n",
        "$$\n",
        "    \\dot{x}(t) = \\begin{bmatrix} \\dot{x_1} \\\\ \\dot{x_2} \\end{bmatrix} = \\begin{bmatrix} x_2 \\\\ u(t) - 2\\zeta\\omega_0 \\cdot x_2(t) -\\omega_0^2\\cdot x_1(t)\\end{bmatrix}\n",
        "$$\n",
        "With the initial condition $x_1(0) = x_2(0) = 0$ and $\\zeta,\\omega_0\\in \\mathbb{R}_{\\geq 0}$.\n",
        "\n",
        "The output of the system is\n",
        "$$ y(t) = x_1(t)$$\n",
        "\n",
        "Although the derivation of the transfer function is left as an exercise in the associated problem set, for completeness, it is provided below:\n",
        "$$\n",
        "    G(s) = \\frac{\\omega_0^2}{s^2 + 2\\zeta\\omega_0 s+ \\omega_0^2}\n",
        "$$\n",
        "\n",
        "The above formulation is referred to as the transfer function of a second order system. The notion of a second order system will be introduced more thoroughly in Lecture 8. Nevertheless, to help build an intuitive understanding of how parameters of a system may affect the poles (and consequentially the output reponse), try answering the below questions using the sliders and the plotted response:\n",
        "\n",
        "* As $\\zeta$ varies, the behavour of the output response changes. Can you find a three ranges for values of $\\zeta$ that represent the behaviour visualized in the output response?\n",
        "* Does $\\omega$ value change system behaviour? If so, in what does it do so?"
      ]
    },
    {
      "cell_type": "code",
      "execution_count": null,
      "metadata": {
        "colab": {
          "base_uri": "https://localhost:8080/",
          "height": 671,
          "referenced_widgets": [
            "975209057e264227a3e260cfad8f37a3",
            "80cd652086fd4a30a9b41d432047d135",
            "3e53ba4f40b7436da048af0338ecb8a3",
            "6732ec0d975243df93692044d3af6808",
            "4982dd610c624f909d4c783b225a6c19",
            "0ea30318cd7d4e9ab9bd79c427a6a27a",
            "4188780713bd4e2192cd761e145705bc",
            "88e2e5a8e14a4f8b84af2075afaef5bb",
            "6ad53db7c30e4a3f8128c95508e40d9d",
            "1c8bb94b4a4b419fb6a4ef05cac162f2"
          ]
        },
        "id": "h_VsyYHi2OCP",
        "outputId": "4bfa7ff6-4e7d-4472-bdca-e996c58e92e3"
      },
      "outputs": [],
      "source": [
        "import numpy as np\n",
        "import matplotlib.pyplot as plt\n",
        "import control as ctrl\n",
        "from ipywidgets import FloatSlider, interactive, HBox, VBox, Label\n",
        "from IPython.display import display, clear_output\n",
        "\n",
        "# Define time vector for the response\n",
        "t = np.linspace(0, 10, 1000)  # Time from 0 to 10 seconds\n",
        "\n",
        "def plot_responses(zeta, omega_0):\n",
        "    clear_output(wait=True)  # Clears the previous output to update the plot\n",
        "\n",
        "    num = [omega_0**2]  # Numerator remains the same: 2*(s + 1)\n",
        "    den = np.poly1d([1, 2*zeta*omega_0, omega_0**2])  # Denominator is based on poles\n",
        "\n",
        "    system = ctrl.TransferFunction(num, den.c)\n",
        "\n",
        "    # Compute step response\n",
        "    t_step, y_step = ctrl.step_response(system, T=t)\n",
        "\n",
        "    # Plot impulse response\n",
        "    plt.figure(figsize=(18, 6))\n",
        "\n",
        "    # Step Response\n",
        "    plt.subplot(1, 3, 2)\n",
        "    plt.plot(t_step, y_step, color='orange')\n",
        "    plt.title('Step Response')\n",
        "    plt.xlabel('Time (s)')\n",
        "    plt.ylabel('Response')\n",
        "    plt.grid()\n",
        "\n",
        "    # Display the plots\n",
        "    plt.tight_layout()\n",
        "\n",
        "    plt.show()\n",
        "\n",
        "# Define sliders for real and imaginary parts\n",
        "zeta_slider = FloatSlider(value=1, min=0, max=3, step=0.1, description='ζ')\n",
        "omega_slider = FloatSlider(value=1, min=0, max=3, step=0.1, description='ω₀')\n",
        "\n",
        "# Create an interactive UI\n",
        "out = interactive(plot_responses, zeta = zeta_slider, omega_0 = omega_slider)\n",
        "\n",
        "# Display the sliders and the interactive plot\n",
        "display(out)\n"
      ]
    }
  ],
  "metadata": {
    "colab": {
      "provenance": []
    },
    "kernelspec": {
      "display_name": "Python 3 (ipykernel)",
      "language": "python",
      "name": "python3"
    },
    "language_info": {
      "codemirror_mode": {
        "name": "ipython",
        "version": 3
      },
      "file_extension": ".py",
      "mimetype": "text/x-python",
      "name": "python",
      "nbconvert_exporter": "python",
      "pygments_lexer": "ipython3",
      "version": "3.13.0"
    },
    "widgets": {
      "application/vnd.jupyter.widget-state+json": {
        "012e1586bbdc4aee8dc32653db039369": {
          "model_module": "@jupyter-widgets/base",
          "model_module_version": "1.2.0",
          "model_name": "LayoutModel",
          "state": {
            "_model_module": "@jupyter-widgets/base",
            "_model_module_version": "1.2.0",
            "_model_name": "LayoutModel",
            "_view_count": null,
            "_view_module": "@jupyter-widgets/base",
            "_view_module_version": "1.2.0",
            "_view_name": "LayoutView",
            "align_content": null,
            "align_items": null,
            "align_self": null,
            "border": null,
            "bottom": null,
            "display": null,
            "flex": null,
            "flex_flow": null,
            "grid_area": null,
            "grid_auto_columns": null,
            "grid_auto_flow": null,
            "grid_auto_rows": null,
            "grid_column": null,
            "grid_gap": null,
            "grid_row": null,
            "grid_template_areas": null,
            "grid_template_columns": null,
            "grid_template_rows": null,
            "height": null,
            "justify_content": null,
            "justify_items": null,
            "left": null,
            "margin": null,
            "max_height": null,
            "max_width": null,
            "min_height": null,
            "min_width": null,
            "object_fit": null,
            "object_position": null,
            "order": null,
            "overflow": null,
            "overflow_x": null,
            "overflow_y": null,
            "padding": null,
            "right": null,
            "top": null,
            "visibility": null,
            "width": null
          }
        },
        "01fd0576c5c7479780b1ef9d2e61c9ca": {
          "model_module": "@jupyter-widgets/controls",
          "model_module_version": "1.5.0",
          "model_name": "TextModel",
          "state": {
            "_dom_classes": [],
            "_model_module": "@jupyter-widgets/controls",
            "_model_module_version": "1.5.0",
            "_model_name": "TextModel",
            "_view_count": null,
            "_view_module": "@jupyter-widgets/controls",
            "_view_module_version": "1.5.0",
            "_view_name": "TextView",
            "continuous_update": true,
            "description": "",
            "description_tooltip": null,
            "disabled": false,
            "layout": "IPY_MODEL_84c46fe32a5d4d7486b63111c9b80b13",
            "placeholder": "Enter a residue (e.g., 1, -0.5)",
            "style": "IPY_MODEL_831b53a70b7d4f399f259ac9d80b3c0f",
            "value": ""
          }
        },
        "03fe41fa18f044d28a609ceaf10ca3c2": {
          "model_module": "@jupyter-widgets/base",
          "model_module_version": "1.2.0",
          "model_name": "LayoutModel",
          "state": {
            "_model_module": "@jupyter-widgets/base",
            "_model_module_version": "1.2.0",
            "_model_name": "LayoutModel",
            "_view_count": null,
            "_view_module": "@jupyter-widgets/base",
            "_view_module_version": "1.2.0",
            "_view_name": "LayoutView",
            "align_content": null,
            "align_items": null,
            "align_self": null,
            "border": null,
            "bottom": null,
            "display": null,
            "flex": null,
            "flex_flow": null,
            "grid_area": null,
            "grid_auto_columns": null,
            "grid_auto_flow": null,
            "grid_auto_rows": null,
            "grid_column": null,
            "grid_gap": null,
            "grid_row": null,
            "grid_template_areas": null,
            "grid_template_columns": null,
            "grid_template_rows": null,
            "height": null,
            "justify_content": null,
            "justify_items": null,
            "left": null,
            "margin": null,
            "max_height": null,
            "max_width": null,
            "min_height": null,
            "min_width": null,
            "object_fit": null,
            "object_position": null,
            "order": null,
            "overflow": null,
            "overflow_x": null,
            "overflow_y": null,
            "padding": null,
            "right": null,
            "top": null,
            "visibility": null,
            "width": null
          }
        },
        "06f2d07096664a4c943f01c8fc6f8369": {
          "model_module": "@jupyter-widgets/controls",
          "model_module_version": "1.5.0",
          "model_name": "TextModel",
          "state": {
            "_dom_classes": [],
            "_model_module": "@jupyter-widgets/controls",
            "_model_module_version": "1.5.0",
            "_model_name": "TextModel",
            "_view_count": null,
            "_view_module": "@jupyter-widgets/controls",
            "_view_module_version": "1.5.0",
            "_view_name": "TextView",
            "continuous_update": true,
            "description": "",
            "description_tooltip": null,
            "disabled": false,
            "layout": "IPY_MODEL_e90eee4a615d4f4b92f772c41d757d6d",
            "placeholder": "Enter a pole (e.g., -1, -2+1j)",
            "style": "IPY_MODEL_4788b4a292d24e6787d74451fd064496",
            "value": ""
          }
        },
        "0ea30318cd7d4e9ab9bd79c427a6a27a": {
          "model_module": "@jupyter-widgets/base",
          "model_module_version": "1.2.0",
          "model_name": "LayoutModel",
          "state": {
            "_model_module": "@jupyter-widgets/base",
            "_model_module_version": "1.2.0",
            "_model_name": "LayoutModel",
            "_view_count": null,
            "_view_module": "@jupyter-widgets/base",
            "_view_module_version": "1.2.0",
            "_view_name": "LayoutView",
            "align_content": null,
            "align_items": null,
            "align_self": null,
            "border": null,
            "bottom": null,
            "display": null,
            "flex": null,
            "flex_flow": null,
            "grid_area": null,
            "grid_auto_columns": null,
            "grid_auto_flow": null,
            "grid_auto_rows": null,
            "grid_column": null,
            "grid_gap": null,
            "grid_row": null,
            "grid_template_areas": null,
            "grid_template_columns": null,
            "grid_template_rows": null,
            "height": null,
            "justify_content": null,
            "justify_items": null,
            "left": null,
            "margin": null,
            "max_height": null,
            "max_width": null,
            "min_height": null,
            "min_width": null,
            "object_fit": null,
            "object_position": null,
            "order": null,
            "overflow": null,
            "overflow_x": null,
            "overflow_y": null,
            "padding": null,
            "right": null,
            "top": null,
            "visibility": null,
            "width": null
          }
        },
        "0ec61c2ffdf04181a3898cc25d162467": {
          "model_module": "@jupyter-widgets/controls",
          "model_module_version": "1.5.0",
          "model_name": "VBoxModel",
          "state": {
            "_dom_classes": [],
            "_model_module": "@jupyter-widgets/controls",
            "_model_module_version": "1.5.0",
            "_model_name": "VBoxModel",
            "_view_count": null,
            "_view_module": "@jupyter-widgets/controls",
            "_view_module_version": "1.5.0",
            "_view_name": "VBoxView",
            "box_style": "",
            "children": [
              "IPY_MODEL_498036c676b341db829f3c8b97adb024",
              "IPY_MODEL_4d26aa4b45704e0f9a546ee0242d7ab1"
            ],
            "layout": "IPY_MODEL_be6c21f3801e492aa05c4b96c4e71835"
          }
        },
        "11195a91377f46848d8c86d22709c239": {
          "model_module": "@jupyter-widgets/controls",
          "model_module_version": "1.5.0",
          "model_name": "FloatSliderModel",
          "state": {
            "_dom_classes": [],
            "_model_module": "@jupyter-widgets/controls",
            "_model_module_version": "1.5.0",
            "_model_name": "FloatSliderModel",
            "_view_count": null,
            "_view_module": "@jupyter-widgets/controls",
            "_view_module_version": "1.5.0",
            "_view_name": "FloatSliderView",
            "continuous_update": true,
            "description": "Real Pole:",
            "description_tooltip": null,
            "disabled": false,
            "layout": "IPY_MODEL_7d3c05b3780743ce9c20b0b54e8174e7",
            "max": 1,
            "min": -5,
            "orientation": "horizontal",
            "readout": true,
            "readout_format": ".2f",
            "step": 0.1,
            "style": "IPY_MODEL_5fcbb947a89c4913a252aed8e6e146cd",
            "value": 0.9
          }
        },
        "12480966737143fa8b7e47bafb0e6598": {
          "model_module": "@jupyter-widgets/controls",
          "model_module_version": "1.5.0",
          "model_name": "FloatSliderModel",
          "state": {
            "_dom_classes": [],
            "_model_module": "@jupyter-widgets/controls",
            "_model_module_version": "1.5.0",
            "_model_name": "FloatSliderModel",
            "_view_count": null,
            "_view_module": "@jupyter-widgets/controls",
            "_view_module_version": "1.5.0",
            "_view_name": "FloatSliderView",
            "continuous_update": true,
            "description": "Img Pole:",
            "description_tooltip": null,
            "disabled": false,
            "layout": "IPY_MODEL_e86f50b8071a4e17afec9d58e1e4ab02",
            "max": 5,
            "min": 0,
            "orientation": "horizontal",
            "readout": true,
            "readout_format": ".2f",
            "step": 0.1,
            "style": "IPY_MODEL_aadcb3dc2b4c42dd836e523b54d97286",
            "value": 3.3
          }
        },
        "17e1734d99b9419fbbcbc27e510dc31e": {
          "model_module": "@jupyter-widgets/base",
          "model_module_version": "1.2.0",
          "model_name": "LayoutModel",
          "state": {
            "_model_module": "@jupyter-widgets/base",
            "_model_module_version": "1.2.0",
            "_model_name": "LayoutModel",
            "_view_count": null,
            "_view_module": "@jupyter-widgets/base",
            "_view_module_version": "1.2.0",
            "_view_name": "LayoutView",
            "align_content": null,
            "align_items": null,
            "align_self": null,
            "border": null,
            "bottom": null,
            "display": null,
            "flex": null,
            "flex_flow": null,
            "grid_area": null,
            "grid_auto_columns": null,
            "grid_auto_flow": null,
            "grid_auto_rows": null,
            "grid_column": null,
            "grid_gap": null,
            "grid_row": null,
            "grid_template_areas": null,
            "grid_template_columns": null,
            "grid_template_rows": null,
            "height": null,
            "justify_content": null,
            "justify_items": null,
            "left": null,
            "margin": null,
            "max_height": null,
            "max_width": null,
            "min_height": null,
            "min_width": null,
            "object_fit": null,
            "object_position": null,
            "order": null,
            "overflow": null,
            "overflow_x": null,
            "overflow_y": null,
            "padding": null,
            "right": null,
            "top": null,
            "visibility": null,
            "width": null
          }
        },
        "181349623bd04aa4afdd95727ff69601": {
          "model_module": "@jupyter-widgets/base",
          "model_module_version": "1.2.0",
          "model_name": "LayoutModel",
          "state": {
            "_model_module": "@jupyter-widgets/base",
            "_model_module_version": "1.2.0",
            "_model_name": "LayoutModel",
            "_view_count": null,
            "_view_module": "@jupyter-widgets/base",
            "_view_module_version": "1.2.0",
            "_view_name": "LayoutView",
            "align_content": null,
            "align_items": null,
            "align_self": null,
            "border": null,
            "bottom": null,
            "display": null,
            "flex": null,
            "flex_flow": null,
            "grid_area": null,
            "grid_auto_columns": null,
            "grid_auto_flow": null,
            "grid_auto_rows": null,
            "grid_column": null,
            "grid_gap": null,
            "grid_row": null,
            "grid_template_areas": null,
            "grid_template_columns": null,
            "grid_template_rows": null,
            "height": null,
            "justify_content": null,
            "justify_items": null,
            "left": null,
            "margin": null,
            "max_height": null,
            "max_width": null,
            "min_height": null,
            "min_width": null,
            "object_fit": null,
            "object_position": null,
            "order": null,
            "overflow": null,
            "overflow_x": null,
            "overflow_y": null,
            "padding": null,
            "right": null,
            "top": null,
            "visibility": null,
            "width": null
          }
        },
        "1bfbfdf9d317420d84f8d3c1b66bf5a3": {
          "model_module": "@jupyter-widgets/controls",
          "model_module_version": "1.5.0",
          "model_name": "DescriptionStyleModel",
          "state": {
            "_model_module": "@jupyter-widgets/controls",
            "_model_module_version": "1.5.0",
            "_model_name": "DescriptionStyleModel",
            "_view_count": null,
            "_view_module": "@jupyter-widgets/base",
            "_view_module_version": "1.2.0",
            "_view_name": "StyleView",
            "description_width": ""
          }
        },
        "1c8bb94b4a4b419fb6a4ef05cac162f2": {
          "model_module": "@jupyter-widgets/base",
          "model_module_version": "1.2.0",
          "model_name": "LayoutModel",
          "state": {
            "_model_module": "@jupyter-widgets/base",
            "_model_module_version": "1.2.0",
            "_model_name": "LayoutModel",
            "_view_count": null,
            "_view_module": "@jupyter-widgets/base",
            "_view_module_version": "1.2.0",
            "_view_name": "LayoutView",
            "align_content": null,
            "align_items": null,
            "align_self": null,
            "border": null,
            "bottom": null,
            "display": null,
            "flex": null,
            "flex_flow": null,
            "grid_area": null,
            "grid_auto_columns": null,
            "grid_auto_flow": null,
            "grid_auto_rows": null,
            "grid_column": null,
            "grid_gap": null,
            "grid_row": null,
            "grid_template_areas": null,
            "grid_template_columns": null,
            "grid_template_rows": null,
            "height": null,
            "justify_content": null,
            "justify_items": null,
            "left": null,
            "margin": null,
            "max_height": null,
            "max_width": null,
            "min_height": null,
            "min_width": null,
            "object_fit": null,
            "object_position": null,
            "order": null,
            "overflow": null,
            "overflow_x": null,
            "overflow_y": null,
            "padding": null,
            "right": null,
            "top": null,
            "visibility": null,
            "width": null
          }
        },
        "2050226d1dae42af853c5ebbb78941fa": {
          "model_module": "@jupyter-widgets/controls",
          "model_module_version": "1.5.0",
          "model_name": "DescriptionStyleModel",
          "state": {
            "_model_module": "@jupyter-widgets/controls",
            "_model_module_version": "1.5.0",
            "_model_name": "DescriptionStyleModel",
            "_view_count": null,
            "_view_module": "@jupyter-widgets/base",
            "_view_module_version": "1.2.0",
            "_view_name": "StyleView",
            "description_width": ""
          }
        },
        "27479d64c0a64eb8a59c11294418bb98": {
          "model_module": "@jupyter-widgets/base",
          "model_module_version": "1.2.0",
          "model_name": "LayoutModel",
          "state": {
            "_model_module": "@jupyter-widgets/base",
            "_model_module_version": "1.2.0",
            "_model_name": "LayoutModel",
            "_view_count": null,
            "_view_module": "@jupyter-widgets/base",
            "_view_module_version": "1.2.0",
            "_view_name": "LayoutView",
            "align_content": null,
            "align_items": null,
            "align_self": null,
            "border": null,
            "bottom": null,
            "display": null,
            "flex": null,
            "flex_flow": null,
            "grid_area": null,
            "grid_auto_columns": null,
            "grid_auto_flow": null,
            "grid_auto_rows": null,
            "grid_column": null,
            "grid_gap": null,
            "grid_row": null,
            "grid_template_areas": null,
            "grid_template_columns": null,
            "grid_template_rows": null,
            "height": null,
            "justify_content": null,
            "justify_items": null,
            "left": null,
            "margin": "0 auto",
            "max_height": null,
            "max_width": null,
            "min_height": null,
            "min_width": null,
            "object_fit": null,
            "object_position": null,
            "order": null,
            "overflow": null,
            "overflow_x": null,
            "overflow_y": null,
            "padding": null,
            "right": null,
            "top": null,
            "visibility": null,
            "width": "auto"
          }
        },
        "27a6a1092ec5428ba118c778dc77ecd9": {
          "model_module": "@jupyter-widgets/base",
          "model_module_version": "1.2.0",
          "model_name": "LayoutModel",
          "state": {
            "_model_module": "@jupyter-widgets/base",
            "_model_module_version": "1.2.0",
            "_model_name": "LayoutModel",
            "_view_count": null,
            "_view_module": "@jupyter-widgets/base",
            "_view_module_version": "1.2.0",
            "_view_name": "LayoutView",
            "align_content": null,
            "align_items": null,
            "align_self": null,
            "border": null,
            "bottom": null,
            "display": null,
            "flex": null,
            "flex_flow": null,
            "grid_area": null,
            "grid_auto_columns": null,
            "grid_auto_flow": null,
            "grid_auto_rows": null,
            "grid_column": null,
            "grid_gap": null,
            "grid_row": null,
            "grid_template_areas": null,
            "grid_template_columns": null,
            "grid_template_rows": null,
            "height": null,
            "justify_content": null,
            "justify_items": null,
            "left": null,
            "margin": "0 auto",
            "max_height": null,
            "max_width": null,
            "min_height": null,
            "min_width": null,
            "object_fit": null,
            "object_position": null,
            "order": null,
            "overflow": null,
            "overflow_x": null,
            "overflow_y": null,
            "padding": null,
            "right": null,
            "top": null,
            "visibility": null,
            "width": "auto"
          }
        },
        "294c909485874d42a76d5cb4984e6b29": {
          "model_module": "@jupyter-widgets/controls",
          "model_module_version": "1.5.0",
          "model_name": "TextModel",
          "state": {
            "_dom_classes": [],
            "_model_module": "@jupyter-widgets/controls",
            "_model_module_version": "1.5.0",
            "_model_name": "TextModel",
            "_view_count": null,
            "_view_module": "@jupyter-widgets/controls",
            "_view_module_version": "1.5.0",
            "_view_name": "TextView",
            "continuous_update": true,
            "description": "Numerator:",
            "description_tooltip": null,
            "disabled": false,
            "layout": "IPY_MODEL_2bec1556a61f463f84d876d3a6d93efb",
            "placeholder": "​",
            "style": "IPY_MODEL_c557469cd9ba416897e6adedba40644b",
            "value": "[1]"
          }
        },
        "2977dbf3276348a0a3d1fe3486127362": {
          "model_module": "@jupyter-widgets/output",
          "model_module_version": "1.0.0",
          "model_name": "OutputModel",
          "state": {
            "_dom_classes": [],
            "_model_module": "@jupyter-widgets/output",
            "_model_module_version": "1.0.0",
            "_model_name": "OutputModel",
            "_view_count": null,
            "_view_module": "@jupyter-widgets/output",
            "_view_module_version": "1.0.0",
            "_view_name": "OutputView",
            "layout": "IPY_MODEL_cc24611d6c184824a28a7d8b71af448f",
            "msg_id": "",
            "outputs": [
              {
                "name": "stdout",
                "output_type": "stream",
                "text": [
                  "Transfer Function:\n",
                  "<TransferFunction>: sys[41]\n",
                  "Inputs (1): ['u[0]']\n",
                  "Outputs (1): ['y[0]']\n",
                  "\n",
                  "\n",
                  "      1\n",
                  "-------------\n",
                  "s^2 + 2 s + 1\n",
                  "\n"
                ]
              },
              {
                "data": {
                  "image/png": "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\n",
                  "text/plain": "<Figure size 1000x600 with 1 Axes>"
                },
                "metadata": {},
                "output_type": "display_data"
              }
            ]
          }
        },
        "2ad42883957c449bada1931fe32ebee2": {
          "model_module": "@jupyter-widgets/base",
          "model_module_version": "1.2.0",
          "model_name": "LayoutModel",
          "state": {
            "_model_module": "@jupyter-widgets/base",
            "_model_module_version": "1.2.0",
            "_model_name": "LayoutModel",
            "_view_count": null,
            "_view_module": "@jupyter-widgets/base",
            "_view_module_version": "1.2.0",
            "_view_name": "LayoutView",
            "align_content": null,
            "align_items": null,
            "align_self": null,
            "border": null,
            "bottom": null,
            "display": null,
            "flex": null,
            "flex_flow": null,
            "grid_area": null,
            "grid_auto_columns": null,
            "grid_auto_flow": null,
            "grid_auto_rows": null,
            "grid_column": null,
            "grid_gap": null,
            "grid_row": null,
            "grid_template_areas": null,
            "grid_template_columns": null,
            "grid_template_rows": null,
            "height": null,
            "justify_content": null,
            "justify_items": null,
            "left": null,
            "margin": null,
            "max_height": null,
            "max_width": null,
            "min_height": null,
            "min_width": null,
            "object_fit": null,
            "object_position": null,
            "order": null,
            "overflow": null,
            "overflow_x": null,
            "overflow_y": null,
            "padding": null,
            "right": null,
            "top": null,
            "visibility": null,
            "width": null
          }
        },
        "2b03760801884de4b5b9e0cfe5ada225": {
          "model_module": "@jupyter-widgets/base",
          "model_module_version": "1.2.0",
          "model_name": "LayoutModel",
          "state": {
            "_model_module": "@jupyter-widgets/base",
            "_model_module_version": "1.2.0",
            "_model_name": "LayoutModel",
            "_view_count": null,
            "_view_module": "@jupyter-widgets/base",
            "_view_module_version": "1.2.0",
            "_view_name": "LayoutView",
            "align_content": null,
            "align_items": null,
            "align_self": null,
            "border": null,
            "bottom": null,
            "display": null,
            "flex": null,
            "flex_flow": null,
            "grid_area": null,
            "grid_auto_columns": null,
            "grid_auto_flow": null,
            "grid_auto_rows": null,
            "grid_column": null,
            "grid_gap": null,
            "grid_row": null,
            "grid_template_areas": null,
            "grid_template_columns": null,
            "grid_template_rows": null,
            "height": null,
            "justify_content": null,
            "justify_items": null,
            "left": null,
            "margin": null,
            "max_height": null,
            "max_width": null,
            "min_height": null,
            "min_width": null,
            "object_fit": null,
            "object_position": null,
            "order": null,
            "overflow": null,
            "overflow_x": null,
            "overflow_y": null,
            "padding": null,
            "right": null,
            "top": null,
            "visibility": null,
            "width": null
          }
        },
        "2bec1556a61f463f84d876d3a6d93efb": {
          "model_module": "@jupyter-widgets/base",
          "model_module_version": "1.2.0",
          "model_name": "LayoutModel",
          "state": {
            "_model_module": "@jupyter-widgets/base",
            "_model_module_version": "1.2.0",
            "_model_name": "LayoutModel",
            "_view_count": null,
            "_view_module": "@jupyter-widgets/base",
            "_view_module_version": "1.2.0",
            "_view_name": "LayoutView",
            "align_content": null,
            "align_items": null,
            "align_self": null,
            "border": null,
            "bottom": null,
            "display": null,
            "flex": null,
            "flex_flow": null,
            "grid_area": null,
            "grid_auto_columns": null,
            "grid_auto_flow": null,
            "grid_auto_rows": null,
            "grid_column": null,
            "grid_gap": null,
            "grid_row": null,
            "grid_template_areas": null,
            "grid_template_columns": null,
            "grid_template_rows": null,
            "height": null,
            "justify_content": null,
            "justify_items": null,
            "left": null,
            "margin": null,
            "max_height": null,
            "max_width": null,
            "min_height": null,
            "min_width": null,
            "object_fit": null,
            "object_position": null,
            "order": null,
            "overflow": null,
            "overflow_x": null,
            "overflow_y": null,
            "padding": null,
            "right": null,
            "top": null,
            "visibility": null,
            "width": null
          }
        },
        "30246024db2941acb8c6c6cc62e12168": {
          "model_module": "@jupyter-widgets/base",
          "model_module_version": "1.2.0",
          "model_name": "LayoutModel",
          "state": {
            "_model_module": "@jupyter-widgets/base",
            "_model_module_version": "1.2.0",
            "_model_name": "LayoutModel",
            "_view_count": null,
            "_view_module": "@jupyter-widgets/base",
            "_view_module_version": "1.2.0",
            "_view_name": "LayoutView",
            "align_content": null,
            "align_items": null,
            "align_self": null,
            "border": null,
            "bottom": null,
            "display": null,
            "flex": null,
            "flex_flow": null,
            "grid_area": null,
            "grid_auto_columns": null,
            "grid_auto_flow": null,
            "grid_auto_rows": null,
            "grid_column": null,
            "grid_gap": null,
            "grid_row": null,
            "grid_template_areas": null,
            "grid_template_columns": null,
            "grid_template_rows": null,
            "height": null,
            "justify_content": null,
            "justify_items": null,
            "left": null,
            "margin": null,
            "max_height": null,
            "max_width": null,
            "min_height": null,
            "min_width": null,
            "object_fit": null,
            "object_position": null,
            "order": null,
            "overflow": null,
            "overflow_x": null,
            "overflow_y": null,
            "padding": null,
            "right": null,
            "top": null,
            "visibility": null,
            "width": null
          }
        },
        "3e53ba4f40b7436da048af0338ecb8a3": {
          "model_module": "@jupyter-widgets/controls",
          "model_module_version": "1.5.0",
          "model_name": "FloatSliderModel",
          "state": {
            "_dom_classes": [],
            "_model_module": "@jupyter-widgets/controls",
            "_model_module_version": "1.5.0",
            "_model_name": "FloatSliderModel",
            "_view_count": null,
            "_view_module": "@jupyter-widgets/controls",
            "_view_module_version": "1.5.0",
            "_view_name": "FloatSliderView",
            "continuous_update": true,
            "description": "$\\omega_0$",
            "description_tooltip": null,
            "disabled": false,
            "layout": "IPY_MODEL_88e2e5a8e14a4f8b84af2075afaef5bb",
            "max": 3,
            "min": 0,
            "orientation": "horizontal",
            "readout": true,
            "readout_format": ".2f",
            "step": 0.1,
            "style": "IPY_MODEL_6ad53db7c30e4a3f8128c95508e40d9d",
            "value": 1
          }
        },
        "40ca800467074454b355b52640e1c315": {
          "model_module": "@jupyter-widgets/controls",
          "model_module_version": "1.5.0",
          "model_name": "ButtonStyleModel",
          "state": {
            "_model_module": "@jupyter-widgets/controls",
            "_model_module_version": "1.5.0",
            "_model_name": "ButtonStyleModel",
            "_view_count": null,
            "_view_module": "@jupyter-widgets/base",
            "_view_module_version": "1.2.0",
            "_view_name": "StyleView",
            "button_color": null,
            "font_weight": ""
          }
        },
        "4188780713bd4e2192cd761e145705bc": {
          "model_module": "@jupyter-widgets/controls",
          "model_module_version": "1.5.0",
          "model_name": "SliderStyleModel",
          "state": {
            "_model_module": "@jupyter-widgets/controls",
            "_model_module_version": "1.5.0",
            "_model_name": "SliderStyleModel",
            "_view_count": null,
            "_view_module": "@jupyter-widgets/base",
            "_view_module_version": "1.2.0",
            "_view_name": "StyleView",
            "description_width": "",
            "handle_color": null
          }
        },
        "41c29b773df44140999a27e792c97b37": {
          "model_module": "@jupyter-widgets/controls",
          "model_module_version": "1.5.0",
          "model_name": "TextModel",
          "state": {
            "_dom_classes": [],
            "_model_module": "@jupyter-widgets/controls",
            "_model_module_version": "1.5.0",
            "_model_name": "TextModel",
            "_view_count": null,
            "_view_module": "@jupyter-widgets/controls",
            "_view_module_version": "1.5.0",
            "_view_name": "TextView",
            "continuous_update": true,
            "description": "Poles:",
            "description_tooltip": null,
            "disabled": false,
            "layout": "IPY_MODEL_03fe41fa18f044d28a609ceaf10ca3c2",
            "placeholder": "Enter poles, comma-separated",
            "style": "IPY_MODEL_7d9c6a5a286b46249dcaa4045cd3e484",
            "value": "-3"
          }
        },
        "4788b4a292d24e6787d74451fd064496": {
          "model_module": "@jupyter-widgets/controls",
          "model_module_version": "1.5.0",
          "model_name": "DescriptionStyleModel",
          "state": {
            "_model_module": "@jupyter-widgets/controls",
            "_model_module_version": "1.5.0",
            "_model_name": "DescriptionStyleModel",
            "_view_count": null,
            "_view_module": "@jupyter-widgets/base",
            "_view_module_version": "1.2.0",
            "_view_name": "StyleView",
            "description_width": ""
          }
        },
        "498036c676b341db829f3c8b97adb024": {
          "model_module": "@jupyter-widgets/controls",
          "model_module_version": "1.5.0",
          "model_name": "FloatSliderModel",
          "state": {
            "_dom_classes": [],
            "_model_module": "@jupyter-widgets/controls",
            "_model_module_version": "1.5.0",
            "_model_name": "FloatSliderModel",
            "_view_count": null,
            "_view_module": "@jupyter-widgets/controls",
            "_view_module_version": "1.5.0",
            "_view_name": "FloatSliderView",
            "continuous_update": true,
            "description": "ω:",
            "description_tooltip": null,
            "disabled": false,
            "layout": "IPY_MODEL_88a81a5e328c4653a58a05acfcb3997c",
            "max": 10,
            "min": 0.1,
            "orientation": "horizontal",
            "readout": true,
            "readout_format": ".2f",
            "step": 0.1,
            "style": "IPY_MODEL_de607113fa394d82b8c49ee15c3a08be",
            "value": 8.4
          }
        },
        "4982dd610c624f909d4c783b225a6c19": {
          "model_module": "@jupyter-widgets/base",
          "model_module_version": "1.2.0",
          "model_name": "LayoutModel",
          "state": {
            "_model_module": "@jupyter-widgets/base",
            "_model_module_version": "1.2.0",
            "_model_name": "LayoutModel",
            "_view_count": null,
            "_view_module": "@jupyter-widgets/base",
            "_view_module_version": "1.2.0",
            "_view_name": "LayoutView",
            "align_content": null,
            "align_items": null,
            "align_self": null,
            "border": null,
            "bottom": null,
            "display": null,
            "flex": null,
            "flex_flow": null,
            "grid_area": null,
            "grid_auto_columns": null,
            "grid_auto_flow": null,
            "grid_auto_rows": null,
            "grid_column": null,
            "grid_gap": null,
            "grid_row": null,
            "grid_template_areas": null,
            "grid_template_columns": null,
            "grid_template_rows": null,
            "height": null,
            "justify_content": null,
            "justify_items": null,
            "left": null,
            "margin": null,
            "max_height": null,
            "max_width": null,
            "min_height": null,
            "min_width": null,
            "object_fit": null,
            "object_position": null,
            "order": null,
            "overflow": null,
            "overflow_x": null,
            "overflow_y": null,
            "padding": null,
            "right": null,
            "top": null,
            "visibility": null,
            "width": null
          }
        },
        "4d26aa4b45704e0f9a546ee0242d7ab1": {
          "model_module": "@jupyter-widgets/controls",
          "model_module_version": "1.5.0",
          "model_name": "ButtonModel",
          "state": {
            "_dom_classes": [],
            "_model_module": "@jupyter-widgets/controls",
            "_model_module_version": "1.5.0",
            "_model_name": "ButtonModel",
            "_view_count": null,
            "_view_module": "@jupyter-widgets/controls",
            "_view_module_version": "1.5.0",
            "_view_name": "ButtonView",
            "button_style": "",
            "description": "Update",
            "disabled": false,
            "icon": "",
            "layout": "IPY_MODEL_27a6a1092ec5428ba118c778dc77ecd9",
            "style": "IPY_MODEL_d2d051374b1a47698758389bdd912fca",
            "tooltip": ""
          }
        },
        "4ed312093c2043a0882b6800e1d1e83c": {
          "model_module": "@jupyter-widgets/output",
          "model_module_version": "1.0.0",
          "model_name": "OutputModel",
          "state": {
            "_dom_classes": [],
            "_model_module": "@jupyter-widgets/output",
            "_model_module_version": "1.0.0",
            "_model_name": "OutputModel",
            "_view_count": null,
            "_view_module": "@jupyter-widgets/output",
            "_view_module_version": "1.0.0",
            "_view_name": "OutputView",
            "layout": "IPY_MODEL_181349623bd04aa4afdd95727ff69601",
            "msg_id": "",
            "outputs": []
          }
        },
        "53164294dc7749e5a8932445f2257f33": {
          "model_module": "@jupyter-widgets/base",
          "model_module_version": "1.2.0",
          "model_name": "LayoutModel",
          "state": {
            "_model_module": "@jupyter-widgets/base",
            "_model_module_version": "1.2.0",
            "_model_name": "LayoutModel",
            "_view_count": null,
            "_view_module": "@jupyter-widgets/base",
            "_view_module_version": "1.2.0",
            "_view_name": "LayoutView",
            "align_content": null,
            "align_items": null,
            "align_self": null,
            "border": null,
            "bottom": null,
            "display": null,
            "flex": null,
            "flex_flow": null,
            "grid_area": null,
            "grid_auto_columns": null,
            "grid_auto_flow": null,
            "grid_auto_rows": null,
            "grid_column": null,
            "grid_gap": null,
            "grid_row": null,
            "grid_template_areas": null,
            "grid_template_columns": null,
            "grid_template_rows": null,
            "height": null,
            "justify_content": null,
            "justify_items": null,
            "left": null,
            "margin": null,
            "max_height": null,
            "max_width": null,
            "min_height": null,
            "min_width": null,
            "object_fit": null,
            "object_position": null,
            "order": null,
            "overflow": null,
            "overflow_x": null,
            "overflow_y": null,
            "padding": null,
            "right": null,
            "top": null,
            "visibility": null,
            "width": null
          }
        },
        "56afdb967ffe496ebb7a33687fcf0c73": {
          "model_module": "@jupyter-widgets/controls",
          "model_module_version": "1.5.0",
          "model_name": "TextModel",
          "state": {
            "_dom_classes": [],
            "_model_module": "@jupyter-widgets/controls",
            "_model_module_version": "1.5.0",
            "_model_name": "TextModel",
            "_view_count": null,
            "_view_module": "@jupyter-widgets/controls",
            "_view_module_version": "1.5.0",
            "_view_name": "TextView",
            "continuous_update": true,
            "description": "Numerator:",
            "description_tooltip": null,
            "disabled": false,
            "layout": "IPY_MODEL_7db2ded12c3e4098816e3915214adefd",
            "placeholder": "​",
            "style": "IPY_MODEL_d810ce1c890f4e4d9032c5e2f7cd882a",
            "value": "3,9"
          }
        },
        "5fcbb947a89c4913a252aed8e6e146cd": {
          "model_module": "@jupyter-widgets/controls",
          "model_module_version": "1.5.0",
          "model_name": "SliderStyleModel",
          "state": {
            "_model_module": "@jupyter-widgets/controls",
            "_model_module_version": "1.5.0",
            "_model_name": "SliderStyleModel",
            "_view_count": null,
            "_view_module": "@jupyter-widgets/base",
            "_view_module_version": "1.2.0",
            "_view_name": "StyleView",
            "description_width": "",
            "handle_color": null
          }
        },
        "60a2dabc03f74923bc5de9d8114feb3e": {
          "model_module": "@jupyter-widgets/controls",
          "model_module_version": "1.5.0",
          "model_name": "TextModel",
          "state": {
            "_dom_classes": [],
            "_model_module": "@jupyter-widgets/controls",
            "_model_module_version": "1.5.0",
            "_model_name": "TextModel",
            "_view_count": null,
            "_view_module": "@jupyter-widgets/controls",
            "_view_module_version": "1.5.0",
            "_view_name": "TextView",
            "continuous_update": true,
            "description": "Zeros:",
            "description_tooltip": null,
            "disabled": false,
            "layout": "IPY_MODEL_c8416d00f0fd44aa94be9e3f17f645ac",
            "placeholder": "Enter zeros, comma-separated",
            "style": "IPY_MODEL_72d340e502ff472f898ddddf3b084851",
            "value": "3"
          }
        },
        "6732ec0d975243df93692044d3af6808": {
          "model_module": "@jupyter-widgets/output",
          "model_module_version": "1.0.0",
          "model_name": "OutputModel",
          "state": {
            "_dom_classes": [],
            "_model_module": "@jupyter-widgets/output",
            "_model_module_version": "1.0.0",
            "_model_name": "OutputModel",
            "_view_count": null,
            "_view_module": "@jupyter-widgets/output",
            "_view_module_version": "1.0.0",
            "_view_name": "OutputView",
            "layout": "IPY_MODEL_1c8bb94b4a4b419fb6a4ef05cac162f2",
            "msg_id": "",
            "outputs": [
              {
                "data": {
                  "image/png": "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\n",
                  "text/plain": "<Figure size 1800x600 with 1 Axes>"
                },
                "metadata": {},
                "output_type": "display_data"
              }
            ]
          }
        },
        "6ad53db7c30e4a3f8128c95508e40d9d": {
          "model_module": "@jupyter-widgets/controls",
          "model_module_version": "1.5.0",
          "model_name": "SliderStyleModel",
          "state": {
            "_model_module": "@jupyter-widgets/controls",
            "_model_module_version": "1.5.0",
            "_model_name": "SliderStyleModel",
            "_view_count": null,
            "_view_module": "@jupyter-widgets/base",
            "_view_module_version": "1.2.0",
            "_view_name": "StyleView",
            "description_width": "",
            "handle_color": null
          }
        },
        "72d340e502ff472f898ddddf3b084851": {
          "model_module": "@jupyter-widgets/controls",
          "model_module_version": "1.5.0",
          "model_name": "DescriptionStyleModel",
          "state": {
            "_model_module": "@jupyter-widgets/controls",
            "_model_module_version": "1.5.0",
            "_model_name": "DescriptionStyleModel",
            "_view_count": null,
            "_view_module": "@jupyter-widgets/base",
            "_view_module_version": "1.2.0",
            "_view_name": "StyleView",
            "description_width": ""
          }
        },
        "7507b61e78d64d07adab12c0b596d728": {
          "model_module": "@jupyter-widgets/base",
          "model_module_version": "1.2.0",
          "model_name": "LayoutModel",
          "state": {
            "_model_module": "@jupyter-widgets/base",
            "_model_module_version": "1.2.0",
            "_model_name": "LayoutModel",
            "_view_count": null,
            "_view_module": "@jupyter-widgets/base",
            "_view_module_version": "1.2.0",
            "_view_name": "LayoutView",
            "align_content": null,
            "align_items": null,
            "align_self": null,
            "border": null,
            "bottom": null,
            "display": null,
            "flex": null,
            "flex_flow": null,
            "grid_area": null,
            "grid_auto_columns": null,
            "grid_auto_flow": null,
            "grid_auto_rows": null,
            "grid_column": null,
            "grid_gap": null,
            "grid_row": null,
            "grid_template_areas": null,
            "grid_template_columns": null,
            "grid_template_rows": null,
            "height": null,
            "justify_content": null,
            "justify_items": null,
            "left": null,
            "margin": null,
            "max_height": null,
            "max_width": null,
            "min_height": null,
            "min_width": null,
            "object_fit": null,
            "object_position": null,
            "order": null,
            "overflow": null,
            "overflow_x": null,
            "overflow_y": null,
            "padding": null,
            "right": null,
            "top": null,
            "visibility": null,
            "width": null
          }
        },
        "7d11f19f9551415ab85192a771c9576e": {
          "model_module": "@jupyter-widgets/controls",
          "model_module_version": "1.5.0",
          "model_name": "DescriptionStyleModel",
          "state": {
            "_model_module": "@jupyter-widgets/controls",
            "_model_module_version": "1.5.0",
            "_model_name": "DescriptionStyleModel",
            "_view_count": null,
            "_view_module": "@jupyter-widgets/base",
            "_view_module_version": "1.2.0",
            "_view_name": "StyleView",
            "description_width": ""
          }
        },
        "7d3c05b3780743ce9c20b0b54e8174e7": {
          "model_module": "@jupyter-widgets/base",
          "model_module_version": "1.2.0",
          "model_name": "LayoutModel",
          "state": {
            "_model_module": "@jupyter-widgets/base",
            "_model_module_version": "1.2.0",
            "_model_name": "LayoutModel",
            "_view_count": null,
            "_view_module": "@jupyter-widgets/base",
            "_view_module_version": "1.2.0",
            "_view_name": "LayoutView",
            "align_content": null,
            "align_items": null,
            "align_self": null,
            "border": null,
            "bottom": null,
            "display": null,
            "flex": null,
            "flex_flow": null,
            "grid_area": null,
            "grid_auto_columns": null,
            "grid_auto_flow": null,
            "grid_auto_rows": null,
            "grid_column": null,
            "grid_gap": null,
            "grid_row": null,
            "grid_template_areas": null,
            "grid_template_columns": null,
            "grid_template_rows": null,
            "height": null,
            "justify_content": null,
            "justify_items": null,
            "left": null,
            "margin": null,
            "max_height": null,
            "max_width": null,
            "min_height": null,
            "min_width": null,
            "object_fit": null,
            "object_position": null,
            "order": null,
            "overflow": null,
            "overflow_x": null,
            "overflow_y": null,
            "padding": null,
            "right": null,
            "top": null,
            "visibility": null,
            "width": null
          }
        },
        "7d3df109427d405ba7fad1bcbaaa9660": {
          "model_module": "@jupyter-widgets/controls",
          "model_module_version": "1.5.0",
          "model_name": "TextModel",
          "state": {
            "_dom_classes": [],
            "_model_module": "@jupyter-widgets/controls",
            "_model_module_version": "1.5.0",
            "_model_name": "TextModel",
            "_view_count": null,
            "_view_module": "@jupyter-widgets/controls",
            "_view_module_version": "1.5.0",
            "_view_name": "TextView",
            "continuous_update": true,
            "description": "Gain K:",
            "description_tooltip": null,
            "disabled": false,
            "layout": "IPY_MODEL_7507b61e78d64d07adab12c0b596d728",
            "placeholder": "Enter gain K",
            "style": "IPY_MODEL_1bfbfdf9d317420d84f8d3c1b66bf5a3",
            "value": "1"
          }
        },
        "7d9c6a5a286b46249dcaa4045cd3e484": {
          "model_module": "@jupyter-widgets/controls",
          "model_module_version": "1.5.0",
          "model_name": "DescriptionStyleModel",
          "state": {
            "_model_module": "@jupyter-widgets/controls",
            "_model_module_version": "1.5.0",
            "_model_name": "DescriptionStyleModel",
            "_view_count": null,
            "_view_module": "@jupyter-widgets/base",
            "_view_module_version": "1.2.0",
            "_view_name": "StyleView",
            "description_width": ""
          }
        },
        "7db2ded12c3e4098816e3915214adefd": {
          "model_module": "@jupyter-widgets/base",
          "model_module_version": "1.2.0",
          "model_name": "LayoutModel",
          "state": {
            "_model_module": "@jupyter-widgets/base",
            "_model_module_version": "1.2.0",
            "_model_name": "LayoutModel",
            "_view_count": null,
            "_view_module": "@jupyter-widgets/base",
            "_view_module_version": "1.2.0",
            "_view_name": "LayoutView",
            "align_content": null,
            "align_items": null,
            "align_self": null,
            "border": null,
            "bottom": null,
            "display": null,
            "flex": null,
            "flex_flow": null,
            "grid_area": null,
            "grid_auto_columns": null,
            "grid_auto_flow": null,
            "grid_auto_rows": null,
            "grid_column": null,
            "grid_gap": null,
            "grid_row": null,
            "grid_template_areas": null,
            "grid_template_columns": null,
            "grid_template_rows": null,
            "height": null,
            "justify_content": null,
            "justify_items": null,
            "left": null,
            "margin": null,
            "max_height": null,
            "max_width": null,
            "min_height": null,
            "min_width": null,
            "object_fit": null,
            "object_position": null,
            "order": null,
            "overflow": null,
            "overflow_x": null,
            "overflow_y": null,
            "padding": null,
            "right": null,
            "top": null,
            "visibility": null,
            "width": null
          }
        },
        "80cd652086fd4a30a9b41d432047d135": {
          "model_module": "@jupyter-widgets/controls",
          "model_module_version": "1.5.0",
          "model_name": "FloatSliderModel",
          "state": {
            "_dom_classes": [],
            "_model_module": "@jupyter-widgets/controls",
            "_model_module_version": "1.5.0",
            "_model_name": "FloatSliderModel",
            "_view_count": null,
            "_view_module": "@jupyter-widgets/controls",
            "_view_module_version": "1.5.0",
            "_view_name": "FloatSliderView",
            "continuous_update": true,
            "description": "$\\zeta$",
            "description_tooltip": null,
            "disabled": false,
            "layout": "IPY_MODEL_0ea30318cd7d4e9ab9bd79c427a6a27a",
            "max": 3,
            "min": 0,
            "orientation": "horizontal",
            "readout": true,
            "readout_format": ".2f",
            "step": 0.1,
            "style": "IPY_MODEL_4188780713bd4e2192cd761e145705bc",
            "value": 2.3
          }
        },
        "831b53a70b7d4f399f259ac9d80b3c0f": {
          "model_module": "@jupyter-widgets/controls",
          "model_module_version": "1.5.0",
          "model_name": "DescriptionStyleModel",
          "state": {
            "_model_module": "@jupyter-widgets/controls",
            "_model_module_version": "1.5.0",
            "_model_name": "DescriptionStyleModel",
            "_view_count": null,
            "_view_module": "@jupyter-widgets/base",
            "_view_module_version": "1.2.0",
            "_view_name": "StyleView",
            "description_width": ""
          }
        },
        "84c46fe32a5d4d7486b63111c9b80b13": {
          "model_module": "@jupyter-widgets/base",
          "model_module_version": "1.2.0",
          "model_name": "LayoutModel",
          "state": {
            "_model_module": "@jupyter-widgets/base",
            "_model_module_version": "1.2.0",
            "_model_name": "LayoutModel",
            "_view_count": null,
            "_view_module": "@jupyter-widgets/base",
            "_view_module_version": "1.2.0",
            "_view_name": "LayoutView",
            "align_content": null,
            "align_items": null,
            "align_self": null,
            "border": null,
            "bottom": null,
            "display": null,
            "flex": null,
            "flex_flow": null,
            "grid_area": null,
            "grid_auto_columns": null,
            "grid_auto_flow": null,
            "grid_auto_rows": null,
            "grid_column": null,
            "grid_gap": null,
            "grid_row": null,
            "grid_template_areas": null,
            "grid_template_columns": null,
            "grid_template_rows": null,
            "height": null,
            "justify_content": null,
            "justify_items": null,
            "left": null,
            "margin": "0 auto",
            "max_height": null,
            "max_width": null,
            "min_height": null,
            "min_width": null,
            "object_fit": null,
            "object_position": null,
            "order": null,
            "overflow": null,
            "overflow_x": null,
            "overflow_y": null,
            "padding": null,
            "right": null,
            "top": null,
            "visibility": null,
            "width": "auto"
          }
        },
        "85c0eb51bb304c98ac2ed8f6026d2c41": {
          "model_module": "@jupyter-widgets/controls",
          "model_module_version": "1.5.0",
          "model_name": "DescriptionStyleModel",
          "state": {
            "_model_module": "@jupyter-widgets/controls",
            "_model_module_version": "1.5.0",
            "_model_name": "DescriptionStyleModel",
            "_view_count": null,
            "_view_module": "@jupyter-widgets/base",
            "_view_module_version": "1.2.0",
            "_view_name": "StyleView",
            "description_width": ""
          }
        },
        "886688f0af37479581486271fb09f35f": {
          "model_module": "@jupyter-widgets/base",
          "model_module_version": "1.2.0",
          "model_name": "LayoutModel",
          "state": {
            "_model_module": "@jupyter-widgets/base",
            "_model_module_version": "1.2.0",
            "_model_name": "LayoutModel",
            "_view_count": null,
            "_view_module": "@jupyter-widgets/base",
            "_view_module_version": "1.2.0",
            "_view_name": "LayoutView",
            "align_content": null,
            "align_items": null,
            "align_self": null,
            "border": null,
            "bottom": null,
            "display": null,
            "flex": null,
            "flex_flow": null,
            "grid_area": null,
            "grid_auto_columns": null,
            "grid_auto_flow": null,
            "grid_auto_rows": null,
            "grid_column": null,
            "grid_gap": null,
            "grid_row": null,
            "grid_template_areas": null,
            "grid_template_columns": null,
            "grid_template_rows": null,
            "height": null,
            "justify_content": null,
            "justify_items": null,
            "left": null,
            "margin": null,
            "max_height": null,
            "max_width": null,
            "min_height": null,
            "min_width": null,
            "object_fit": null,
            "object_position": null,
            "order": null,
            "overflow": null,
            "overflow_x": null,
            "overflow_y": null,
            "padding": null,
            "right": null,
            "top": null,
            "visibility": null,
            "width": null
          }
        },
        "88a81a5e328c4653a58a05acfcb3997c": {
          "model_module": "@jupyter-widgets/base",
          "model_module_version": "1.2.0",
          "model_name": "LayoutModel",
          "state": {
            "_model_module": "@jupyter-widgets/base",
            "_model_module_version": "1.2.0",
            "_model_name": "LayoutModel",
            "_view_count": null,
            "_view_module": "@jupyter-widgets/base",
            "_view_module_version": "1.2.0",
            "_view_name": "LayoutView",
            "align_content": null,
            "align_items": null,
            "align_self": null,
            "border": null,
            "bottom": null,
            "display": null,
            "flex": null,
            "flex_flow": null,
            "grid_area": null,
            "grid_auto_columns": null,
            "grid_auto_flow": null,
            "grid_auto_rows": null,
            "grid_column": null,
            "grid_gap": null,
            "grid_row": null,
            "grid_template_areas": null,
            "grid_template_columns": null,
            "grid_template_rows": null,
            "height": null,
            "justify_content": null,
            "justify_items": null,
            "left": null,
            "margin": null,
            "max_height": null,
            "max_width": null,
            "min_height": null,
            "min_width": null,
            "object_fit": null,
            "object_position": null,
            "order": null,
            "overflow": null,
            "overflow_x": null,
            "overflow_y": null,
            "padding": null,
            "right": null,
            "top": null,
            "visibility": null,
            "width": null
          }
        },
        "88e2e5a8e14a4f8b84af2075afaef5bb": {
          "model_module": "@jupyter-widgets/base",
          "model_module_version": "1.2.0",
          "model_name": "LayoutModel",
          "state": {
            "_model_module": "@jupyter-widgets/base",
            "_model_module_version": "1.2.0",
            "_model_name": "LayoutModel",
            "_view_count": null,
            "_view_module": "@jupyter-widgets/base",
            "_view_module_version": "1.2.0",
            "_view_name": "LayoutView",
            "align_content": null,
            "align_items": null,
            "align_self": null,
            "border": null,
            "bottom": null,
            "display": null,
            "flex": null,
            "flex_flow": null,
            "grid_area": null,
            "grid_auto_columns": null,
            "grid_auto_flow": null,
            "grid_auto_rows": null,
            "grid_column": null,
            "grid_gap": null,
            "grid_row": null,
            "grid_template_areas": null,
            "grid_template_columns": null,
            "grid_template_rows": null,
            "height": null,
            "justify_content": null,
            "justify_items": null,
            "left": null,
            "margin": null,
            "max_height": null,
            "max_width": null,
            "min_height": null,
            "min_width": null,
            "object_fit": null,
            "object_position": null,
            "order": null,
            "overflow": null,
            "overflow_x": null,
            "overflow_y": null,
            "padding": null,
            "right": null,
            "top": null,
            "visibility": null,
            "width": null
          }
        },
        "8a80b0e8f47442d5b8272590b365280e": {
          "model_module": "@jupyter-widgets/controls",
          "model_module_version": "1.5.0",
          "model_name": "FloatSliderModel",
          "state": {
            "_dom_classes": [],
            "_model_module": "@jupyter-widgets/controls",
            "_model_module_version": "1.5.0",
            "_model_name": "FloatSliderModel",
            "_view_count": null,
            "_view_module": "@jupyter-widgets/controls",
            "_view_module_version": "1.5.0",
            "_view_name": "FloatSliderView",
            "continuous_update": true,
            "description": "Real Zero:",
            "description_tooltip": null,
            "disabled": false,
            "layout": "IPY_MODEL_2b03760801884de4b5b9e0cfe5ada225",
            "max": 5,
            "min": -5,
            "orientation": "horizontal",
            "readout": true,
            "readout_format": ".2f",
            "step": 0.1,
            "style": "IPY_MODEL_a6809d4dbb674cd08118b295c250a12d",
            "value": 0.7
          }
        },
        "8ba8e9cf71be43168714eb91a41b0d1b": {
          "model_module": "@jupyter-widgets/output",
          "model_module_version": "1.0.0",
          "model_name": "OutputModel",
          "state": {
            "_dom_classes": [],
            "_model_module": "@jupyter-widgets/output",
            "_model_module_version": "1.0.0",
            "_model_name": "OutputModel",
            "_view_count": null,
            "_view_module": "@jupyter-widgets/output",
            "_view_module_version": "1.0.0",
            "_view_name": "OutputView",
            "layout": "IPY_MODEL_e4e8fcd9cfab4358a0eb8b3fb40641f1",
            "msg_id": "",
            "outputs": [
              {
                "data": {
                  "image/png": "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\n",
                  "text/plain": "<Figure size 1200x600 with 2 Axes>"
                },
                "metadata": {},
                "output_type": "display_data"
              }
            ]
          }
        },
        "8e96e9c797844c33959e7253c230d55e": {
          "model_module": "@jupyter-widgets/controls",
          "model_module_version": "1.5.0",
          "model_name": "TextModel",
          "state": {
            "_dom_classes": [],
            "_model_module": "@jupyter-widgets/controls",
            "_model_module_version": "1.5.0",
            "_model_name": "TextModel",
            "_view_count": null,
            "_view_module": "@jupyter-widgets/controls",
            "_view_module_version": "1.5.0",
            "_view_name": "TextView",
            "continuous_update": true,
            "description": "Denominator:",
            "description_tooltip": null,
            "disabled": false,
            "layout": "IPY_MODEL_ad70c18d92ec4d52896610b58c874a0c",
            "placeholder": "​",
            "style": "IPY_MODEL_7d11f19f9551415ab85192a771c9576e",
            "value": "1,4,5"
          }
        },
        "8f00530e2e2e43048524f1981c131950": {
          "model_module": "@jupyter-widgets/controls",
          "model_module_version": "1.5.0",
          "model_name": "VBoxModel",
          "state": {
            "_dom_classes": [],
            "_model_module": "@jupyter-widgets/controls",
            "_model_module_version": "1.5.0",
            "_model_name": "VBoxModel",
            "_view_count": null,
            "_view_module": "@jupyter-widgets/controls",
            "_view_module_version": "1.5.0",
            "_view_name": "VBoxView",
            "box_style": "",
            "children": [
              "IPY_MODEL_06f2d07096664a4c943f01c8fc6f8369",
              "IPY_MODEL_01fd0576c5c7479780b1ef9d2e61c9ca",
              "IPY_MODEL_d401364956cb40fd8938f053217c70bf"
            ],
            "layout": "IPY_MODEL_c4d4d78b0fb34364a8c52d5cf829743e"
          }
        },
        "975209057e264227a3e260cfad8f37a3": {
          "model_module": "@jupyter-widgets/controls",
          "model_module_version": "1.5.0",
          "model_name": "VBoxModel",
          "state": {
            "_dom_classes": [
              "widget-interact"
            ],
            "_model_module": "@jupyter-widgets/controls",
            "_model_module_version": "1.5.0",
            "_model_name": "VBoxModel",
            "_view_count": null,
            "_view_module": "@jupyter-widgets/controls",
            "_view_module_version": "1.5.0",
            "_view_name": "VBoxView",
            "box_style": "",
            "children": [
              "IPY_MODEL_80cd652086fd4a30a9b41d432047d135",
              "IPY_MODEL_3e53ba4f40b7436da048af0338ecb8a3",
              "IPY_MODEL_6732ec0d975243df93692044d3af6808"
            ],
            "layout": "IPY_MODEL_4982dd610c624f909d4c783b225a6c19"
          }
        },
        "a341a28f4d0244f68b8bdf83886cb717": {
          "model_module": "@jupyter-widgets/controls",
          "model_module_version": "1.5.0",
          "model_name": "VBoxModel",
          "state": {
            "_dom_classes": [
              "widget-interact"
            ],
            "_model_module": "@jupyter-widgets/controls",
            "_model_module_version": "1.5.0",
            "_model_name": "VBoxModel",
            "_view_count": null,
            "_view_module": "@jupyter-widgets/controls",
            "_view_module_version": "1.5.0",
            "_view_name": "VBoxView",
            "box_style": "",
            "children": [
              "IPY_MODEL_294c909485874d42a76d5cb4984e6b29",
              "IPY_MODEL_b0a19ac634964cb8aed9adb28dabfb28",
              "IPY_MODEL_2977dbf3276348a0a3d1fe3486127362"
            ],
            "layout": "IPY_MODEL_012e1586bbdc4aee8dc32653db039369"
          }
        },
        "a6809d4dbb674cd08118b295c250a12d": {
          "model_module": "@jupyter-widgets/controls",
          "model_module_version": "1.5.0",
          "model_name": "SliderStyleModel",
          "state": {
            "_model_module": "@jupyter-widgets/controls",
            "_model_module_version": "1.5.0",
            "_model_name": "SliderStyleModel",
            "_view_count": null,
            "_view_module": "@jupyter-widgets/base",
            "_view_module_version": "1.2.0",
            "_view_name": "StyleView",
            "description_width": "",
            "handle_color": null
          }
        },
        "aadcb3dc2b4c42dd836e523b54d97286": {
          "model_module": "@jupyter-widgets/controls",
          "model_module_version": "1.5.0",
          "model_name": "SliderStyleModel",
          "state": {
            "_model_module": "@jupyter-widgets/controls",
            "_model_module_version": "1.5.0",
            "_model_name": "SliderStyleModel",
            "_view_count": null,
            "_view_module": "@jupyter-widgets/base",
            "_view_module_version": "1.2.0",
            "_view_name": "StyleView",
            "description_width": "",
            "handle_color": null
          }
        },
        "ad70c18d92ec4d52896610b58c874a0c": {
          "model_module": "@jupyter-widgets/base",
          "model_module_version": "1.2.0",
          "model_name": "LayoutModel",
          "state": {
            "_model_module": "@jupyter-widgets/base",
            "_model_module_version": "1.2.0",
            "_model_name": "LayoutModel",
            "_view_count": null,
            "_view_module": "@jupyter-widgets/base",
            "_view_module_version": "1.2.0",
            "_view_name": "LayoutView",
            "align_content": null,
            "align_items": null,
            "align_self": null,
            "border": null,
            "bottom": null,
            "display": null,
            "flex": null,
            "flex_flow": null,
            "grid_area": null,
            "grid_auto_columns": null,
            "grid_auto_flow": null,
            "grid_auto_rows": null,
            "grid_column": null,
            "grid_gap": null,
            "grid_row": null,
            "grid_template_areas": null,
            "grid_template_columns": null,
            "grid_template_rows": null,
            "height": null,
            "justify_content": null,
            "justify_items": null,
            "left": null,
            "margin": null,
            "max_height": null,
            "max_width": null,
            "min_height": null,
            "min_width": null,
            "object_fit": null,
            "object_position": null,
            "order": null,
            "overflow": null,
            "overflow_x": null,
            "overflow_y": null,
            "padding": null,
            "right": null,
            "top": null,
            "visibility": null,
            "width": null
          }
        },
        "b0a19ac634964cb8aed9adb28dabfb28": {
          "model_module": "@jupyter-widgets/controls",
          "model_module_version": "1.5.0",
          "model_name": "TextModel",
          "state": {
            "_dom_classes": [],
            "_model_module": "@jupyter-widgets/controls",
            "_model_module_version": "1.5.0",
            "_model_name": "TextModel",
            "_view_count": null,
            "_view_module": "@jupyter-widgets/controls",
            "_view_module_version": "1.5.0",
            "_view_name": "TextView",
            "continuous_update": true,
            "description": "Denominator:",
            "description_tooltip": null,
            "disabled": false,
            "layout": "IPY_MODEL_17e1734d99b9419fbbcbc27e510dc31e",
            "placeholder": "​",
            "style": "IPY_MODEL_2050226d1dae42af853c5ebbb78941fa",
            "value": "[1, 2, 1]"
          }
        },
        "ba2d710ac5a24677bf4f6b9dea127df9": {
          "model_module": "@jupyter-widgets/controls",
          "model_module_version": "1.5.0",
          "model_name": "DropdownModel",
          "state": {
            "_dom_classes": [],
            "_model_module": "@jupyter-widgets/controls",
            "_model_module_version": "1.5.0",
            "_model_name": "DropdownModel",
            "_options_labels": [
              "Enter zeros and poles (Root Locus Form)",
              "Enter zeros and poles (Bode Form)",
              "Enter residues and poles (Partial Fraction Expansion)",
              "Enter numerator and denominator coefficients (Rational Function Form)"
            ],
            "_view_count": null,
            "_view_module": "@jupyter-widgets/controls",
            "_view_module_version": "1.5.0",
            "_view_name": "DropdownView",
            "description": "Input Type:",
            "description_tooltip": null,
            "disabled": false,
            "index": 0,
            "layout": "IPY_MODEL_30246024db2941acb8c6c6cc62e12168",
            "style": "IPY_MODEL_85c0eb51bb304c98ac2ed8f6026d2c41"
          }
        },
        "be6c21f3801e492aa05c4b96c4e71835": {
          "model_module": "@jupyter-widgets/base",
          "model_module_version": "1.2.0",
          "model_name": "LayoutModel",
          "state": {
            "_model_module": "@jupyter-widgets/base",
            "_model_module_version": "1.2.0",
            "_model_name": "LayoutModel",
            "_view_count": null,
            "_view_module": "@jupyter-widgets/base",
            "_view_module_version": "1.2.0",
            "_view_name": "LayoutView",
            "align_content": null,
            "align_items": null,
            "align_self": null,
            "border": null,
            "bottom": null,
            "display": null,
            "flex": null,
            "flex_flow": null,
            "grid_area": null,
            "grid_auto_columns": null,
            "grid_auto_flow": null,
            "grid_auto_rows": null,
            "grid_column": null,
            "grid_gap": null,
            "grid_row": null,
            "grid_template_areas": null,
            "grid_template_columns": null,
            "grid_template_rows": null,
            "height": null,
            "justify_content": null,
            "justify_items": null,
            "left": null,
            "margin": null,
            "max_height": null,
            "max_width": null,
            "min_height": null,
            "min_width": null,
            "object_fit": null,
            "object_position": null,
            "order": null,
            "overflow": null,
            "overflow_x": null,
            "overflow_y": null,
            "padding": null,
            "right": null,
            "top": null,
            "visibility": null,
            "width": null
          }
        },
        "c4d4d78b0fb34364a8c52d5cf829743e": {
          "model_module": "@jupyter-widgets/base",
          "model_module_version": "1.2.0",
          "model_name": "LayoutModel",
          "state": {
            "_model_module": "@jupyter-widgets/base",
            "_model_module_version": "1.2.0",
            "_model_name": "LayoutModel",
            "_view_count": null,
            "_view_module": "@jupyter-widgets/base",
            "_view_module_version": "1.2.0",
            "_view_name": "LayoutView",
            "align_content": null,
            "align_items": null,
            "align_self": null,
            "border": null,
            "bottom": null,
            "display": null,
            "flex": null,
            "flex_flow": null,
            "grid_area": null,
            "grid_auto_columns": null,
            "grid_auto_flow": null,
            "grid_auto_rows": null,
            "grid_column": null,
            "grid_gap": null,
            "grid_row": null,
            "grid_template_areas": null,
            "grid_template_columns": null,
            "grid_template_rows": null,
            "height": null,
            "justify_content": null,
            "justify_items": null,
            "left": null,
            "margin": null,
            "max_height": null,
            "max_width": null,
            "min_height": null,
            "min_width": null,
            "object_fit": null,
            "object_position": null,
            "order": null,
            "overflow": null,
            "overflow_x": null,
            "overflow_y": null,
            "padding": null,
            "right": null,
            "top": null,
            "visibility": null,
            "width": null
          }
        },
        "c557469cd9ba416897e6adedba40644b": {
          "model_module": "@jupyter-widgets/controls",
          "model_module_version": "1.5.0",
          "model_name": "DescriptionStyleModel",
          "state": {
            "_model_module": "@jupyter-widgets/controls",
            "_model_module_version": "1.5.0",
            "_model_name": "DescriptionStyleModel",
            "_view_count": null,
            "_view_module": "@jupyter-widgets/base",
            "_view_module_version": "1.2.0",
            "_view_name": "StyleView",
            "description_width": ""
          }
        },
        "c8416d00f0fd44aa94be9e3f17f645ac": {
          "model_module": "@jupyter-widgets/base",
          "model_module_version": "1.2.0",
          "model_name": "LayoutModel",
          "state": {
            "_model_module": "@jupyter-widgets/base",
            "_model_module_version": "1.2.0",
            "_model_name": "LayoutModel",
            "_view_count": null,
            "_view_module": "@jupyter-widgets/base",
            "_view_module_version": "1.2.0",
            "_view_name": "LayoutView",
            "align_content": null,
            "align_items": null,
            "align_self": null,
            "border": null,
            "bottom": null,
            "display": null,
            "flex": null,
            "flex_flow": null,
            "grid_area": null,
            "grid_auto_columns": null,
            "grid_auto_flow": null,
            "grid_auto_rows": null,
            "grid_column": null,
            "grid_gap": null,
            "grid_row": null,
            "grid_template_areas": null,
            "grid_template_columns": null,
            "grid_template_rows": null,
            "height": null,
            "justify_content": null,
            "justify_items": null,
            "left": null,
            "margin": null,
            "max_height": null,
            "max_width": null,
            "min_height": null,
            "min_width": null,
            "object_fit": null,
            "object_position": null,
            "order": null,
            "overflow": null,
            "overflow_x": null,
            "overflow_y": null,
            "padding": null,
            "right": null,
            "top": null,
            "visibility": null,
            "width": null
          }
        },
        "c8521823a13b42a7ab1082f69c185700": {
          "model_module": "@jupyter-widgets/controls",
          "model_module_version": "1.5.0",
          "model_name": "VBoxModel",
          "state": {
            "_dom_classes": [
              "widget-interact"
            ],
            "_model_module": "@jupyter-widgets/controls",
            "_model_module_version": "1.5.0",
            "_model_name": "VBoxModel",
            "_view_count": null,
            "_view_module": "@jupyter-widgets/controls",
            "_view_module_version": "1.5.0",
            "_view_name": "VBoxView",
            "box_style": "",
            "children": [
              "IPY_MODEL_8a80b0e8f47442d5b8272590b365280e",
              "IPY_MODEL_11195a91377f46848d8c86d22709c239",
              "IPY_MODEL_12480966737143fa8b7e47bafb0e6598",
              "IPY_MODEL_8ba8e9cf71be43168714eb91a41b0d1b"
            ],
            "layout": "IPY_MODEL_2ad42883957c449bada1931fe32ebee2"
          }
        },
        "ca5cf6bee03d4c7e9e9b3940d9e0ec0a": {
          "model_module": "@jupyter-widgets/controls",
          "model_module_version": "1.5.0",
          "model_name": "HBoxModel",
          "state": {
            "_dom_classes": [],
            "_model_module": "@jupyter-widgets/controls",
            "_model_module_version": "1.5.0",
            "_model_name": "HBoxModel",
            "_view_count": null,
            "_view_module": "@jupyter-widgets/controls",
            "_view_module_version": "1.5.0",
            "_view_name": "HBoxView",
            "box_style": "",
            "children": [
              "IPY_MODEL_e37b7f44f113472c8c1dbc6350c4ffc4",
              "IPY_MODEL_0ec61c2ffdf04181a3898cc25d162467"
            ],
            "layout": "IPY_MODEL_886688f0af37479581486271fb09f35f"
          }
        },
        "cc24611d6c184824a28a7d8b71af448f": {
          "model_module": "@jupyter-widgets/base",
          "model_module_version": "1.2.0",
          "model_name": "LayoutModel",
          "state": {
            "_model_module": "@jupyter-widgets/base",
            "_model_module_version": "1.2.0",
            "_model_name": "LayoutModel",
            "_view_count": null,
            "_view_module": "@jupyter-widgets/base",
            "_view_module_version": "1.2.0",
            "_view_name": "LayoutView",
            "align_content": null,
            "align_items": null,
            "align_self": null,
            "border": null,
            "bottom": null,
            "display": null,
            "flex": null,
            "flex_flow": null,
            "grid_area": null,
            "grid_auto_columns": null,
            "grid_auto_flow": null,
            "grid_auto_rows": null,
            "grid_column": null,
            "grid_gap": null,
            "grid_row": null,
            "grid_template_areas": null,
            "grid_template_columns": null,
            "grid_template_rows": null,
            "height": null,
            "justify_content": null,
            "justify_items": null,
            "left": null,
            "margin": null,
            "max_height": null,
            "max_width": null,
            "min_height": null,
            "min_width": null,
            "object_fit": null,
            "object_position": null,
            "order": null,
            "overflow": null,
            "overflow_x": null,
            "overflow_y": null,
            "padding": null,
            "right": null,
            "top": null,
            "visibility": null,
            "width": null
          }
        },
        "d2d051374b1a47698758389bdd912fca": {
          "model_module": "@jupyter-widgets/controls",
          "model_module_version": "1.5.0",
          "model_name": "ButtonStyleModel",
          "state": {
            "_model_module": "@jupyter-widgets/controls",
            "_model_module_version": "1.5.0",
            "_model_name": "ButtonStyleModel",
            "_view_count": null,
            "_view_module": "@jupyter-widgets/base",
            "_view_module_version": "1.2.0",
            "_view_name": "StyleView",
            "button_color": null,
            "font_weight": ""
          }
        },
        "d401364956cb40fd8938f053217c70bf": {
          "model_module": "@jupyter-widgets/controls",
          "model_module_version": "1.5.0",
          "model_name": "ButtonModel",
          "state": {
            "_dom_classes": [],
            "_model_module": "@jupyter-widgets/controls",
            "_model_module_version": "1.5.0",
            "_model_name": "ButtonModel",
            "_view_count": null,
            "_view_module": "@jupyter-widgets/controls",
            "_view_module_version": "1.5.0",
            "_view_name": "ButtonView",
            "button_style": "",
            "description": "Update",
            "disabled": false,
            "icon": "",
            "layout": "IPY_MODEL_27479d64c0a64eb8a59c11294418bb98",
            "style": "IPY_MODEL_40ca800467074454b355b52640e1c315",
            "tooltip": ""
          }
        },
        "d810ce1c890f4e4d9032c5e2f7cd882a": {
          "model_module": "@jupyter-widgets/controls",
          "model_module_version": "1.5.0",
          "model_name": "DescriptionStyleModel",
          "state": {
            "_model_module": "@jupyter-widgets/controls",
            "_model_module_version": "1.5.0",
            "_model_name": "DescriptionStyleModel",
            "_view_count": null,
            "_view_module": "@jupyter-widgets/base",
            "_view_module_version": "1.2.0",
            "_view_name": "StyleView",
            "description_width": ""
          }
        },
        "da6ba439d5e34f8ebdc472d19d9eec09": {
          "model_module": "@jupyter-widgets/base",
          "model_module_version": "1.2.0",
          "model_name": "LayoutModel",
          "state": {
            "_model_module": "@jupyter-widgets/base",
            "_model_module_version": "1.2.0",
            "_model_name": "LayoutModel",
            "_view_count": null,
            "_view_module": "@jupyter-widgets/base",
            "_view_module_version": "1.2.0",
            "_view_name": "LayoutView",
            "align_content": null,
            "align_items": null,
            "align_self": null,
            "border": null,
            "bottom": null,
            "display": null,
            "flex": null,
            "flex_flow": null,
            "grid_area": null,
            "grid_auto_columns": null,
            "grid_auto_flow": null,
            "grid_auto_rows": null,
            "grid_column": null,
            "grid_gap": null,
            "grid_row": null,
            "grid_template_areas": null,
            "grid_template_columns": null,
            "grid_template_rows": null,
            "height": null,
            "justify_content": null,
            "justify_items": null,
            "left": null,
            "margin": null,
            "max_height": null,
            "max_width": null,
            "min_height": null,
            "min_width": null,
            "object_fit": null,
            "object_position": null,
            "order": null,
            "overflow": null,
            "overflow_x": null,
            "overflow_y": null,
            "padding": null,
            "right": null,
            "top": null,
            "visibility": null,
            "width": null
          }
        },
        "de607113fa394d82b8c49ee15c3a08be": {
          "model_module": "@jupyter-widgets/controls",
          "model_module_version": "1.5.0",
          "model_name": "SliderStyleModel",
          "state": {
            "_model_module": "@jupyter-widgets/controls",
            "_model_module_version": "1.5.0",
            "_model_name": "SliderStyleModel",
            "_view_count": null,
            "_view_module": "@jupyter-widgets/base",
            "_view_module_version": "1.2.0",
            "_view_name": "StyleView",
            "description_width": "",
            "handle_color": null
          }
        },
        "dff6f56317364db9a3b0f90520489335": {
          "model_module": "@jupyter-widgets/controls",
          "model_module_version": "1.5.0",
          "model_name": "ButtonStyleModel",
          "state": {
            "_model_module": "@jupyter-widgets/controls",
            "_model_module_version": "1.5.0",
            "_model_name": "ButtonStyleModel",
            "_view_count": null,
            "_view_module": "@jupyter-widgets/base",
            "_view_module_version": "1.2.0",
            "_view_name": "StyleView",
            "button_color": null,
            "font_weight": ""
          }
        },
        "e37b7f44f113472c8c1dbc6350c4ffc4": {
          "model_module": "@jupyter-widgets/controls",
          "model_module_version": "1.5.0",
          "model_name": "VBoxModel",
          "state": {
            "_dom_classes": [],
            "_model_module": "@jupyter-widgets/controls",
            "_model_module_version": "1.5.0",
            "_model_name": "VBoxModel",
            "_view_count": null,
            "_view_module": "@jupyter-widgets/controls",
            "_view_module_version": "1.5.0",
            "_view_name": "VBoxView",
            "box_style": "",
            "children": [
              "IPY_MODEL_56afdb967ffe496ebb7a33687fcf0c73",
              "IPY_MODEL_8e96e9c797844c33959e7253c230d55e"
            ],
            "layout": "IPY_MODEL_da6ba439d5e34f8ebdc472d19d9eec09"
          }
        },
        "e4e8fcd9cfab4358a0eb8b3fb40641f1": {
          "model_module": "@jupyter-widgets/base",
          "model_module_version": "1.2.0",
          "model_name": "LayoutModel",
          "state": {
            "_model_module": "@jupyter-widgets/base",
            "_model_module_version": "1.2.0",
            "_model_name": "LayoutModel",
            "_view_count": null,
            "_view_module": "@jupyter-widgets/base",
            "_view_module_version": "1.2.0",
            "_view_name": "LayoutView",
            "align_content": null,
            "align_items": null,
            "align_self": null,
            "border": null,
            "bottom": null,
            "display": null,
            "flex": null,
            "flex_flow": null,
            "grid_area": null,
            "grid_auto_columns": null,
            "grid_auto_flow": null,
            "grid_auto_rows": null,
            "grid_column": null,
            "grid_gap": null,
            "grid_row": null,
            "grid_template_areas": null,
            "grid_template_columns": null,
            "grid_template_rows": null,
            "height": null,
            "justify_content": null,
            "justify_items": null,
            "left": null,
            "margin": null,
            "max_height": null,
            "max_width": null,
            "min_height": null,
            "min_width": null,
            "object_fit": null,
            "object_position": null,
            "order": null,
            "overflow": null,
            "overflow_x": null,
            "overflow_y": null,
            "padding": null,
            "right": null,
            "top": null,
            "visibility": null,
            "width": null
          }
        },
        "e86f50b8071a4e17afec9d58e1e4ab02": {
          "model_module": "@jupyter-widgets/base",
          "model_module_version": "1.2.0",
          "model_name": "LayoutModel",
          "state": {
            "_model_module": "@jupyter-widgets/base",
            "_model_module_version": "1.2.0",
            "_model_name": "LayoutModel",
            "_view_count": null,
            "_view_module": "@jupyter-widgets/base",
            "_view_module_version": "1.2.0",
            "_view_name": "LayoutView",
            "align_content": null,
            "align_items": null,
            "align_self": null,
            "border": null,
            "bottom": null,
            "display": null,
            "flex": null,
            "flex_flow": null,
            "grid_area": null,
            "grid_auto_columns": null,
            "grid_auto_flow": null,
            "grid_auto_rows": null,
            "grid_column": null,
            "grid_gap": null,
            "grid_row": null,
            "grid_template_areas": null,
            "grid_template_columns": null,
            "grid_template_rows": null,
            "height": null,
            "justify_content": null,
            "justify_items": null,
            "left": null,
            "margin": null,
            "max_height": null,
            "max_width": null,
            "min_height": null,
            "min_width": null,
            "object_fit": null,
            "object_position": null,
            "order": null,
            "overflow": null,
            "overflow_x": null,
            "overflow_y": null,
            "padding": null,
            "right": null,
            "top": null,
            "visibility": null,
            "width": null
          }
        },
        "e90eee4a615d4f4b92f772c41d757d6d": {
          "model_module": "@jupyter-widgets/base",
          "model_module_version": "1.2.0",
          "model_name": "LayoutModel",
          "state": {
            "_model_module": "@jupyter-widgets/base",
            "_model_module_version": "1.2.0",
            "_model_name": "LayoutModel",
            "_view_count": null,
            "_view_module": "@jupyter-widgets/base",
            "_view_module_version": "1.2.0",
            "_view_name": "LayoutView",
            "align_content": null,
            "align_items": null,
            "align_self": null,
            "border": null,
            "bottom": null,
            "display": null,
            "flex": null,
            "flex_flow": null,
            "grid_area": null,
            "grid_auto_columns": null,
            "grid_auto_flow": null,
            "grid_auto_rows": null,
            "grid_column": null,
            "grid_gap": null,
            "grid_row": null,
            "grid_template_areas": null,
            "grid_template_columns": null,
            "grid_template_rows": null,
            "height": null,
            "justify_content": null,
            "justify_items": null,
            "left": null,
            "margin": "0 auto",
            "max_height": null,
            "max_width": null,
            "min_height": null,
            "min_width": null,
            "object_fit": null,
            "object_position": null,
            "order": null,
            "overflow": null,
            "overflow_x": null,
            "overflow_y": null,
            "padding": null,
            "right": null,
            "top": null,
            "visibility": null,
            "width": "auto"
          }
        },
        "eabacad51f1243c19b9a3c6e0f4bf3ad": {
          "model_module": "@jupyter-widgets/controls",
          "model_module_version": "1.5.0",
          "model_name": "ButtonModel",
          "state": {
            "_dom_classes": [],
            "_model_module": "@jupyter-widgets/controls",
            "_model_module_version": "1.5.0",
            "_model_name": "ButtonModel",
            "_view_count": null,
            "_view_module": "@jupyter-widgets/controls",
            "_view_module_version": "1.5.0",
            "_view_name": "ButtonView",
            "button_style": "",
            "description": "Calculate Transfer Function",
            "disabled": false,
            "icon": "",
            "layout": "IPY_MODEL_53164294dc7749e5a8932445f2257f33",
            "style": "IPY_MODEL_dff6f56317364db9a3b0f90520489335",
            "tooltip": ""
          }
        }
      }
    }
  },
  "nbformat": 4,
  "nbformat_minor": 0
}
