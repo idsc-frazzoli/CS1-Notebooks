{
 "cells": [
  {
   "cell_type": "markdown",
   "metadata": {},
   "source": [
    "# Notebook Lecture 7: Feedback and the Root Locus Method\n",
    "© 2024 ETH Zurich, Mark Benazet Castells, Jonas Holinger, Felix Muller, Matteo Penlington; Institute for Dynamic Systems and Control; Prof. Emilio Frazzoli\n",
    "\n",
    "This interactive notebook introduces the concept of feedback control and presents a first method for feedback control analysis with the Root Locus method.\n",
    "\n",
    "Authors:\n",
    "- Felix Muller; fmuller@ethz.ch\n",
    "- Mark Benazet Castells; mbenazet@ethz.ch"
   ]
  }
 ],
 "metadata": {
  "language_info": {
   "name": "python"
  }
 },
 "nbformat": 4,
 "nbformat_minor": 2
}
