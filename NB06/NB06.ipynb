{
 "cells": [
  {
   "cell_type": "markdown",
   "metadata": {},
   "source": [
    "# Notebook Lecture 7: Feedback and the Root Locus Method\n",
    "© 2024 ETH Zurich, Mark Benazet Castells, Jonas Holinger, Felix Muller, Matteo Penlington; Institute for Dynamic Systems and Control; Prof. Emilio Frazzoli\n",
    "\n",
    "This interactive notebook introduces the concept of feedback control and presents a first method for feedback control analysis with the Root Locus method.\n",
    "\n",
    "Authors:\n",
    "- Felix Muller; fmuller@ethz.ch\n",
    "- Mark Benazet Castells; mbenazet@ethz.ch"
   ]
  },
  {
   "cell_type": "markdown",
   "metadata": {},
   "source": [
    "## Learning Objectives\n",
    "\n"
   ]
  },
  {
   "cell_type": "markdown",
   "metadata": {},
   "source": [
    "### Import the packages:\n",
    "\n",
    "The following cell imports the required packages. Run it before running the rest of the notebook."
   ]
  },
  {
   "cell_type": "code",
   "execution_count": null,
   "metadata": {},
   "outputs": [],
   "source": [
    "import numpy as np\n",
    "import matplotlib.pyplot as plt\n",
    "from control import tf, rlocus, poles, feedback\n",
    "import ipywidgets as widgets\n",
    "from ipywidgets import interact\n",
    "import warnings"
   ]
  },
  {
   "cell_type": "markdown",
   "metadata": {},
   "source": [
    "## Root Locus Method\n",
    "\n",
    "The Root Locus method is a graphical technique in control theory to analyze and design control systems. \n",
    "It helps in determining how the poles of the closed-loop system vary as the gain (or another system parameter) is varied. This is important to determine if the system is stable or meets our design criteria.\n",
    "\n",
    "We will now plot the Root Locus in two different ways.\n",
    "\n",
    "In the first plot, you can enter an open loop transfer function and then change the gain k and see how that changes the poles and zeros."
   ]
  },
  {
   "cell_type": "code",
   "execution_count": null,
   "metadata": {},
   "outputs": [],
   "source": [
    "# Global variable to store the last transfer function\n",
    "previous_num = ''\n",
    "previous_den = ''\n",
    "pole_trajectories = []\n",
    "\n",
    "# Function to compute poles for a given K and open-loop transfer function\n",
    "def plot_poles_with_K(K, num_str, den_str):\n",
    "    global previous_num, previous_den, pole_trajectories\n",
    "\n",
    "    # Check if the transfer function has changed\n",
    "    if num_str != previous_num or den_str != previous_den:\n",
    "        pole_trajectories = []  # Reset the pole trajectory\n",
    "        previous_num = num_str  # Update the stored numerator\n",
    "        previous_den = den_str  # Update the stored denominator\n",
    "\n",
    "    # Convert string input to lists of floats\n",
    "    num = [float(n) for n in num_str.split()]\n",
    "    den = [float(d) for d in den_str.split()]\n",
    "    \n",
    "    # Create the open-loop transfer function\n",
    "    sys = tf(num, den)\n",
    "    \n",
    "    # Closed-loop transfer function for negative feedback\n",
    "    closed_loop_sys = feedback(K * sys, 1)\n",
    "    \n",
    "    # Get poles of the closed-loop system\n",
    "    poles = closed_loop_sys.poles()\n",
    "    \n",
    "    # Append the current poles to the trajectory list\n",
    "    pole_trajectories.append(poles)\n",
    "    \n",
    "    # Plot the poles\n",
    "    plt.figure()\n",
    "    plt.axhline(0, color='black', lw=1)\n",
    "    plt.axvline(0, color='black', lw=1)\n",
    "    \n",
    "    # Plot all previous poles to form the \"trajectory\"\n",
    "    for previous_poles in pole_trajectories:\n",
    "        plt.scatter(np.real(previous_poles), np.imag(previous_poles), color='blue', alpha=0.5)\n",
    "    \n",
    "    # Plot the current poles in red\n",
    "    plt.scatter(np.real(poles), np.imag(poles), color='red', zorder=5, label=f'K = {K}')\n",
    "    \n",
    "    plt.grid(True)\n",
    "    plt.title(f'Poles for K = {K}')\n",
    "    plt.xlabel('Real Part')\n",
    "    plt.ylabel('Imaginary Part')\n",
    "    plt.xlim([-5, 5])\n",
    "    plt.ylim([-5, 5])\n",
    "    plt.legend()\n",
    "    plt.show()\n",
    "\n",
    "# Interactive function for students to input open-loop transfer function and vary K\n",
    "def interact_with_poles():\n",
    "    global pole_trajectories\n",
    "    pole_trajectories = []  # Initialize the trajectory\n",
    "    \n",
    "    # Input boxes for open-loop transfer function numerator and denominator\n",
    "    num_box = widgets.Text(value='1', description='Numerator:', placeholder='Enter numerator coefficients (space-separated)')\n",
    "    den_box = widgets.Text(value='1 2 1', description='Denominator:', placeholder='Enter denominator coefficients (space-separated)')\n",
    "    \n",
    "    # Slider to vary K\n",
    "    K_slider = widgets.FloatSlider(min=0, max=1000, step=0.1, value=1, description='Gain (K):')\n",
    "    \n",
    "    # Combine input boxes and slider in a vertical layout\n",
    "    ui = widgets.VBox([num_box, den_box, K_slider])\n",
    "    \n",
    "    # Connect the input and output with the plot function\n",
    "    out = widgets.interactive_output(plot_poles_with_K, {\n",
    "        'K': K_slider,\n",
    "        'num_str': num_box,\n",
    "        'den_str': den_box\n",
    "    })\n",
    "    \n",
    "    # Display the UI and output\n",
    "    display(ui, out)\n",
    "\n",
    "# Call the interactive function\n",
    "interact_with_poles()"
   ]
  },
  {
   "cell_type": "markdown",
   "metadata": {},
   "source": [
    "If you do this for every k, you will have drawn the root locus. To show that, you can now enter the same transfer function and use the Root Locus function built-in in the Controls library. You will see that every point you plotted above lies on the Root Locus."
   ]
  },
  {
   "cell_type": "code",
   "execution_count": null,
   "metadata": {},
   "outputs": [],
   "source": [
    "# Function to plot the root locus for the given transfer function\n",
    "def plot_root_locus(num_str, den_str):\n",
    "    # Suppress warnings for this function\n",
    "    warnings.filterwarnings(\"ignore\")\n",
    "\n",
    "    # Convert string input to lists of floats\n",
    "    num = [float(n) for n in num_str.split()]\n",
    "    den = [float(d) for d in den_str.split()]\n",
    "    \n",
    "    # Create the open-loop transfer function\n",
    "    sys = tf(num, den)\n",
    "    \n",
    "    # Plot the root locus\n",
    "    plt.figure()\n",
    "    rlocus(sys, plot=True)\n",
    "    plt.title('Root Locus Plot')\n",
    "    plt.xlabel('Real Part')\n",
    "    plt.ylabel('Imaginary Part')\n",
    "    plt.grid(False)\n",
    "    plt.xlim([-5, 5])\n",
    "    plt.ylim([-5, 5])\n",
    "    plt.show()\n",
    "\n",
    "# Interactive function for students to input transfer function and plot the root locus\n",
    "def interact_with_root_locus():\n",
    "    # Input boxes for open-loop transfer function numerator and denominator\n",
    "    num_box = widgets.Text(value='1', description='Numerator:', placeholder='Enter numerator coefficients (space-separated)')\n",
    "    den_box = widgets.Text(value='1 2 1', description='Denominator:', placeholder='Enter denominator coefficients (space-separated)')\n",
    "    \n",
    "    # Combine input boxes in a vertical layout\n",
    "    ui = widgets.VBox([num_box, den_box])\n",
    "    \n",
    "    # Connect the input and output with the plot function\n",
    "    out = widgets.interactive_output(plot_root_locus, {\n",
    "        'num_str': num_box,\n",
    "        'den_str': den_box\n",
    "    })\n",
    "    \n",
    "    # Display the UI and output\n",
    "    display(ui, out)\n",
    "\n",
    "# Call the function to plot root locus\n",
    "interact_with_root_locus()"
   ]
  }
 ],
 "metadata": {
  "kernelspec": {
   "display_name": "CS1_TA",
   "language": "python",
   "name": "python3"
  },
  "language_info": {
   "codemirror_mode": {
    "name": "ipython",
    "version": 3
   },
   "file_extension": ".py",
   "mimetype": "text/x-python",
   "name": "python",
   "nbconvert_exporter": "python",
   "pygments_lexer": "ipython3",
   "version": "3.11.9"
  }
 },
 "nbformat": 4,
 "nbformat_minor": 2
}
