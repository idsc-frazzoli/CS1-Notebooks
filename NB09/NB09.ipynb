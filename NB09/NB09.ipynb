{
 "cells": [
  {
   "cell_type": "markdown",
   "metadata": {},
   "source": [
    "# Control Systems 1, NB09: The Nyquist Condition\n",
    "© 2024 ETH Zurich, Mark Benazet Castells, Jonas Holinger, Felix Muller, Matteo Penlington; Institute for Dynamic Systems and Control; Prof. Emilio Frazzoli\n",
    "\n",
    "This interactive notebook is designed to introduce fundamental concepts in control systems engineering. It covers various transfer function formulations, and how they can be used to graphically determine the magnitude and phase of the transfer function. Furthermore, the effects of poles and zeros on the output response are briefly covered.\n",
    "\n",
    "Authors:\n",
    "- Jonas Holinger; jholinger@ethz.ch\n",
    "- Shubham Gupta; shugupta@ethz.ch"
   ]
  },
  {
   "cell_type": "markdown",
   "metadata": {},
   "source": [
    "## Learning Objectives\n",
    "\n",
    "After completing this notebook, you should be able to:\n"
   ]
  },
  {
   "cell_type": "markdown",
   "metadata": {},
   "source": [
    "# Setup\n"
   ]
  },
  {
   "cell_type": "markdown",
   "metadata": {},
   "source": [
    "## Installing the required packages:"
   ]
  },
  {
   "cell_type": "code",
   "execution_count": null,
   "metadata": {},
   "outputs": [],
   "source": [
    "%pip install numpy matplotlib scipy ipywidgets control IPython sympy"
   ]
  },
  {
   "cell_type": "markdown",
   "metadata": {},
   "source": [
    "## Import the packages\n"
   ]
  },
  {
   "cell_type": "markdown",
   "metadata": {},
   "source": [
    "The following cell imports the required packages. Run it before running the rest of the notebook."
   ]
  },
  {
   "cell_type": "code",
   "execution_count": null,
   "metadata": {},
   "outputs": [],
   "source": [
    "import numpy as np\n",
    "import sympy as sp\n",
    "import control as ct\n",
    "import matplotlib.pyplot as plt\n",
    "import numpy as np\n",
    "import math\n",
    "import ipywidgets as widgets\n",
    "from scipy.integrate import odeint\n",
    "from scipy.signal import zpk2tf, residue, invres\n",
    "from IPython.display import display, clear_output, Math, Latex\n",
    "from ipywidgets import interactive"
   ]
  },
  {
   "cell_type": "markdown",
   "metadata": {},
   "source": [
    "# Introduction to Nyquist Stability Criterion\n",
    "In this section, we'll explore fundamental concepts in control systems that help us determine the stability of a closed-loop system by analyzing its open-loop transfer function.\n",
    "\n",
    "We'll start by understanding the **Principle of the Argument**, then learn about the **Nyquist Plot**, and finally delve into the **Nyquist Stability Criterion** itself.\n",
    "\n",
    "\n",
    "## Principle of Variation of the Argument\n",
    "\n",
    "\n",
    "The **Principle of the Argument** is a concept from complex analysis that relates the number of zeros and poles of a complex function inside a closed contour to the net change in the argument (angle) of the function along that contour.\n",
    "\n",
    "### Mathematical Explanation\n",
    "\n",
    "For a complex function \\( F(s) \\), where \\( s \\) is a complex variable, the principle states:\n",
    "\n",
    "\\[\n",
    "N = Z - P\n",
    "\\]\n",
    "\n",
    "- **\\( N \\)**: Net number of times the function's plot encircles the origin (counter-clockwise direction counted as positive) as \\( s \\) traverses the contour.\n",
    "- **\\( Z \\)**: Number of zeros of \\( F(s) \\) inside the contour.\n",
    "- **\\( P \\)**: Number of poles of \\( F(s) \\) inside the contour.\n",
    "\n",
    "### Intuitive Understanding\n",
    "\n",
    "Imagine walking along a path in the complex plane, tracing the function \\( F(s) \\) as \\( s \\) moves along a closed contour. The principle tells us that the total number of times you wind around the origin (counting direction) equals the number of zeros minus the number of poles inside the path.\n",
    "\n",
    "\n",
    "## Nyquist Plot\n",
    "\n",
    "\n",
    "A **Nyquist Plot** is a graphical representation of a complex transfer function \\( L(s) \\) when \\( s = j\\omega \\), where \\( \\omega \\) ranges from \\(-\\infty\\) to \\( \\infty \\). It maps the frequency response of the open-loop system onto the complex plane.\n",
    "\n",
    "### How to Construct a Nyquist Plot\n",
    "\n",
    "1. **Determine \\( L(j\\omega) \\)**: Substitute \\( s = j\\omega \\) into the open-loop transfer function \\( L(s) \\).\n",
    "2. **Calculate Magnitude and Phase**: For each frequency \\( \\omega \\), compute the magnitude \\( |L(j\\omega)| \\) and phase angle \\( \\angle L(j\\omega) \\).\n",
    "3. **Plot on Complex Plane**: Plot the complex numbers \\( L(j\\omega) \\) on the real-imaginary plane as \\( \\omega \\) varies from \\(-\\infty\\) to \\( \\infty \\).\n",
    "\n",
    "### Key Features\n",
    "\n",
    "- **Symmetry**: For systems with real coefficients, the Nyquist plot is symmetrical about the real axis.\n",
    "- **Encirclements**: The way the plot encircles the critical point \\(-1 + j0\\) is crucial for stability analysis.\n",
    "- **Mapping Frequency**: Low frequencies start near the origin, while high frequencies extend outward.\n",
    "\n",
    "### Visual Interpretation\n",
    "\n",
    "The Nyquist plot provides a visual means to assess how the system's gain and phase shift affect stability. By observing how the plot wraps around the critical point, we can infer the system's tendency to oscillate or remain stable.\n",
    "\n",
    "\n",
    "## Nyquist Stability Criterion\n",
    "\n",
    "### Purpose\n",
    "\n",
    "The **Nyquist Stability Criterion** allows us to determine the stability of a closed-loop control system by examining its open-loop transfer function \\( L(s) \\) without explicitly calculating the closed-loop poles.\n",
    "\n",
    "### The Criterion Explained\n",
    "\n",
    "Given:\n",
    "\n",
    "- **\\( P \\)**: Number of poles of \\( L(s) \\) in the right-half of the complex plane (unstable poles).\n",
    "- **\\( N \\)**: Net number of clockwise encirclements of the critical point \\(-1 + j0\\) by the Nyquist plot of \\( L(j\\omega) \\).\n",
    "- **\\( Z \\)**: Number of zeros of \\( 1 + L(s) \\) in the right-half plane (closed-loop poles in the RHP).\n",
    "\n",
    "The Nyquist Stability Criterion states:\n",
    "\n",
    "\\[\n",
    "Z = N + P\n",
    "\\]\n",
    "\n",
    "**Interpretation:**\n",
    "\n",
    "- If \\( Z = 0 \\), all closed-loop poles are in the left-half plane (stable system).\n",
    "- A positive \\( Z \\) indicates the number of unstable poles in the closed-loop system.\n",
    "\n",
    "### Applying the Criterion Step-by-Step\n",
    "\n",
    "1. **Identify \\( P \\)**: Count the number of RHP poles of the open-loop transfer function \\( L(s) \\).\n",
    "2. **Plot Nyquist Diagram**: Create the Nyquist plot for \\( L(j\\omega) \\).\n",
    "3. **Determine \\( N \\)**: Count the net number of clockwise encirclements of \\(-1 + j0\\).\n",
    "   - Clockwise encirclement: \\( N > 0 \\).\n",
    "   - Counter-clockwise encirclement: \\( N < 0 \\).\n",
    "4. **Compute \\( Z \\)**: Use \\( Z = N + P \\).\n",
    "5. **Assess Stability**: If \\( Z = 0 \\), the system is stable.\n",
    "\n",
    "### Important Considerations\n",
    "\n",
    "- **Contour Selection**: The Nyquist contour must encircle the entire right-half s-plane.\n",
    "- **Poles on Imaginary Axis**: If \\( L(s) \\) has poles on the imaginary axis, modifications to the criterion are needed.\n",
    "- **Infinite Frequencies**: The plot includes behavior at both \\( \\omega = 0 \\) and \\( \\omega = \\infty \\).\n",
    "\n",
    "### Example Illustration\n",
    "\n",
    "Suppose \\( L(s) \\) has one RHP pole (\\( P = 1 \\)).\n",
    "\n",
    "- **Case 1**: Nyquist plot encircles \\(-1 + j0\\) once clockwise (\\( N = 1 \\)).\n",
    "  - \\( Z = N + P = 1 + 1 = 2 \\).\n",
    "  - The closed-loop system has two RHP poles (\\( Z = 2 \\)) → **Unstable**.\n",
    "  \n",
    "- **Case 2**: Nyquist plot does not encircle \\(-1 + j0\\) (\\( N = 0 \\)).\n",
    "  - \\( Z = N + P = 0 + 1 = 1 \\).\n",
    "  - The closed-loop system has one RHP pole (\\( Z = 1 \\)) → **Unstable**.\n",
    "  \n",
    "- **Case 3**: Nyquist plot encircles \\(-1 + j0\\) once counter-clockwise (\\( N = -1 \\)).\n",
    "  - \\( Z = N + P = -1 + 1 = 0 \\).\n",
    "  - The closed-loop system has no RHP poles (\\( Z = 0 \\)) → **Stable**."
   ]
  },
  {
   "cell_type": "code",
   "execution_count": null,
   "metadata": {},
   "outputs": [],
   "source": [
    "import numpy as np\n",
    "import matplotlib.pyplot as plt\n",
    "import control\n",
    "\n",
    "# Define the open-loop transfer function L(s)\n",
    "# Example: L(s) = 2(s + 5)(s - 0.1) / [s(s + 1)(s + 10)]\n",
    "numerator = [2, 9.8, -1]  # 2*(s + 5)*(s - 0.1) = 2s^2 + 9.8s - 1\n",
    "denominator = [1, 11, 10, 0]  # s(s + 1)(s + 10) = s^3 + 11s^2 + 10s\n",
    "\n",
    "L = control.TransferFunction(numerator, denominator)\n",
    "\n",
    "# Plot Nyquist diagram\n",
    "control.nyquist(L, Plot=True)\n",
    "plt.title('Nyquist Plot of L(s)')\n",
    "plt.show()"
   ]
  },
  {
   "cell_type": "markdown",
   "metadata": {},
   "source": []
  },
  {
   "cell_type": "code",
   "execution_count": 8,
   "metadata": {},
   "outputs": [
    {
     "data": {
      "application/vnd.jupyter.widget-view+json": {
       "model_id": "6e5033c2ce254569a672ed5067c66210",
       "version_major": 2,
       "version_minor": 0
      },
      "text/plain": [
       "Text(value='', description='Numerator:', placeholder='Enter a list of coefficients separated by commas, highes…"
      ]
     },
     "metadata": {},
     "output_type": "display_data"
    },
    {
     "data": {
      "application/vnd.jupyter.widget-view+json": {
       "model_id": "29f04c74a55a4c92ac01d68ab5c7b513",
       "version_major": 2,
       "version_minor": 0
      },
      "text/plain": [
       "Text(value='', description='Denominator:', placeholder='Enter a list of coefficients separated by commas, high…"
      ]
     },
     "metadata": {},
     "output_type": "display_data"
    },
    {
     "data": {
      "application/vnd.jupyter.widget-view+json": {
       "model_id": "043a5948350f4f38aa804cb536130918",
       "version_major": 2,
       "version_minor": 0
      },
      "text/plain": [
       "Button(button_style='success', description='Generate Nyquist Plot', style=ButtonStyle(), tooltip='Click to gen…"
      ]
     },
     "metadata": {},
     "output_type": "display_data"
    },
    {
     "data": {
      "application/vnd.jupyter.widget-view+json": {
       "model_id": "fb109fdf5cd54c08a81435c3985804f8",
       "version_major": 2,
       "version_minor": 0
      },
      "text/plain": [
       "Output()"
      ]
     },
     "metadata": {},
     "output_type": "display_data"
    }
   ],
   "source": [
    "import numpy as np\n",
    "import matplotlib.pyplot as plt\n",
    "import ipywidgets as widgets\n",
    "from IPython.display import display, clear_output, Markdown\n",
    "import control\n",
    "\n",
    "def parse_coefficients(coeff_str):\n",
    "    \"\"\"\n",
    "    Parse a string of coefficients separated by commas into a list of floats.\n",
    "    \"\"\"\n",
    "    try:\n",
    "        coeffs = [float(c.strip()) for c in coeff_str.split(',') if c.strip()]\n",
    "        if not coeffs:\n",
    "            raise ValueError(\"Coefficient list cannot be empty.\")\n",
    "        return coeffs\n",
    "    except ValueError as e:\n",
    "        raise ValueError(f\"Invalid input: {e}\")\n",
    "\n",
    "def generate_nyquist_and_poles(b, c):\n",
    "    \"\"\"\n",
    "    Generate Nyquist plot for L(s) and display poles of closed-loop transfer function T(s).\n",
    "    \"\"\"\n",
    "    with output:\n",
    "        clear_output(wait=True)\n",
    "        try:\n",
    "            # Parse numerator and denominator coefficients\n",
    "            num = parse_coefficients(b)\n",
    "            den = parse_coefficients(c)\n",
    "            \n",
    "            # Create open-loop transfer function L(s)\n",
    "            L = control.TransferFunction(num, den)\n",
    "            \n",
    "            # Generate Nyquist plot\n",
    "            plt.figure(figsize=(8,6))\n",
    "            control.nyquist_plot(L)\n",
    "            # plt.title('Nyquist Plot of L(s)')\n",
    "            plt.show()\n",
    "            \n",
    "            # Compute closed-loop transfer function T(s) = L(s) / (1 + L(s))\n",
    "            T = control.feedback(L, 1)\n",
    "            \n",
    "            # Get poles of closed-loop transfer function\n",
    "            poles = control.pole(T)\n",
    "            \n",
    "            # # Display closed-loop poles\n",
    "            # display(Markdown(\"**Closed-Loop Poles (\\( T(s) \\)):**\"))\n",
    "            # for idx, pole in enumerate(poles, 1):\n",
    "            #     display(Markdown(f\"- Pole {idx}: {pole:.4f}\"))\n",
    "            \n",
    "        except ValueError as ve:\n",
    "            display(Markdown(f\"**Error:** {ve}\"))\n",
    "        except Exception as e:\n",
    "            display(Markdown(f\"**An unexpected error occurred:** {e}\"))\n",
    "\n",
    "# Input widgets for numerator and denominator coefficients\n",
    "numerator_input = widgets.Text(\n",
    "    value='',\n",
    "    placeholder='Enter a list of coefficients separated by commas, highest order first',\n",
    "    description='Numerator:',\n",
    "    disabled=False\n",
    ")\n",
    "\n",
    "denominator_input = widgets.Text(\n",
    "    value='',\n",
    "    placeholder='Enter a list of coefficients separated by commas, highest order first',\n",
    "    description='Denominator:',\n",
    "    disabled=False\n",
    ")\n",
    "\n",
    "# Button to generate Nyquist plot and poles\n",
    "generate_button = widgets.Button(\n",
    "    description='Generate Nyquist Plot',\n",
    "    button_style='success',\n",
    "    tooltip='Click to generate Nyquist plot and compute closed-loop poles',\n",
    "    # icon='check'\n",
    ")\n",
    "\n",
    "# Output area\n",
    "output = widgets.Output()\n",
    "\n",
    "# Event handler for button click\n",
    "def on_button_click(b):\n",
    "    generate_nyquist_and_poles(numerator_input.value, denominator_input.value)\n",
    "\n",
    "generate_button.on_click(on_button_click)\n",
    "\n",
    "# Display the widgets\n",
    "display(numerator_input, denominator_input, generate_button, output)\n",
    "\n"
   ]
  }
 ],
 "metadata": {
  "kernelspec": {
   "display_name": ".venv",
   "language": "python",
   "name": "python3"
  },
  "language_info": {
   "codemirror_mode": {
    "name": "ipython",
    "version": 3
   },
   "file_extension": ".py",
   "mimetype": "text/x-python",
   "name": "python",
   "nbconvert_exporter": "python",
   "pygments_lexer": "ipython3",
   "version": "3.10.11"
  }
 },
 "nbformat": 4,
 "nbformat_minor": 2
}
