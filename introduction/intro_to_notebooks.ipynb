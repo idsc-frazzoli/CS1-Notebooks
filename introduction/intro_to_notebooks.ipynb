{
 "cells": [
  {
   "attachments": {},
   "cell_type": "markdown",
   "metadata": {},
   "source": [
    "# Introduction to Notebooks\n",
    "\n",
    "© 2024 ETH Zurich, Matteo Penlington, Felix Muller & Mark Benazet Castells ; Institute for Dynamic Systems and Control; Prof. Emilio Frazzoli\n",
    "\n",
    "Jupyter notebooks are an interactive web-based computing platform. In essence, a Jupyter notebook contains both text-based narrative (through markdown or raw cells) and code cells. The text-based cells provide context for what is run in the code cell. Although notebooks support a wide range of programming languages, within this course, we will use solely Python 3. \n",
    "\n",
    "This notebook provides an introduction to using python in notebooks along with some capabilities of notebooks."
   ]
  },
  {
   "attachments": {},
   "cell_type": "markdown",
   "metadata": {},
   "source": [
    "# Running Python\n",
    "\n",
    "Any python code can be run inside a code block. If the code produces an output, this will be visible immediately under the code block.\n",
    "\n",
    "For example:"
   ]
  },
  {
   "cell_type": "code",
   "execution_count": null,
   "metadata": {},
   "outputs": [],
   "source": [
    "print('hello world') # prints hello world to the console right under this code block"
   ]
  },
  {
   "attachments": {},
   "cell_type": "markdown",
   "metadata": {},
   "source": [
    "As with python, as long as variables have been defined and run in a previous block, they can be referenced in future blocks. Let's define the variable *var*:"
   ]
  },
  {
   "cell_type": "code",
   "execution_count": null,
   "metadata": {},
   "outputs": [],
   "source": [
    "var = 5 # assigns the value 5 to the variable var"
   ]
  },
  {
   "attachments": {},
   "cell_type": "markdown",
   "metadata": {},
   "source": [
    "Then the variable *var* is accessible in a later block (presuming the block defining the variable has been run):"
   ]
  },
  {
   "cell_type": "code",
   "execution_count": null,
   "metadata": {},
   "outputs": [],
   "source": [
    "print(f'value of var: {var}') # prints the value of var to the console"
   ]
  },
  {
   "attachments": {},
   "cell_type": "markdown",
   "metadata": {},
   "source": [
    "However, if the variable has not been defined, then it is not accessible:"
   ]
  },
  {
   "cell_type": "code",
   "execution_count": null,
   "metadata": {},
   "outputs": [],
   "source": [
    "print(f'value of var: {foo}') # raises an error because bar is not defined"
   ]
  },
  {
   "attachments": {},
   "cell_type": "markdown",
   "metadata": {},
   "source": [
    "# Interactive Visualisations\n",
    "One of the principal uses for the notebooks in this course, will be to provide interactive visualisations alongside narrated text. For now, we are using the `ipywidgets` library, but we might use additional libraries later in the semester.\n",
    "\n",
    "For example, for the following, consider the function:\n",
    "$$\n",
    "f(x) = \\sin(x+b) \\tag{1}\n",
    "$$\n",
    "\n",
    "### Sliders\n",
    "If we wish to analyse the effect of varying $b$, we could do so by plotting $f(x)$ with a slider for $b$. First load the generic libraries, functions and variables:"
   ]
  },
  {
   "cell_type": "code",
   "execution_count": null,
   "metadata": {},
   "outputs": [],
   "source": [
    "# import generic libraries\n",
    "import numpy as np\n",
    "import matplotlib.pyplot as plt\n",
    "import ipywidgets as widgets\n",
    "from IPython.display import display, clear_output, Image\n",
    "\n",
    "# Define the function f(x) = sin(x + b)\n",
    "def f(x, b):\n",
    "    return np.sin(x + b)\n",
    "\n",
    "# Define the x values\n",
    "x = np.linspace(-2 * np.pi, 2 * np.pi, 500)"
   ]
  },
  {
   "attachments": {},
   "cell_type": "markdown",
   "metadata": {},
   "source": [
    "Add the slider and visualise"
   ]
  },
  {
   "cell_type": "code",
   "execution_count": null,
   "metadata": {},
   "outputs": [],
   "source": [
    "# Initialize a display object\n",
    "output = widgets.Output()\n",
    "\n",
    "# Function to update the plot and title\n",
    "def update_plot(b):\n",
    "    with output:\n",
    "        clear_output(wait=True)  # Clear the previous output\n",
    "        plt.figure()  # Create a new figure\n",
    "        plt.plot(x, f(x, b))\n",
    "        plt.title(f'Plot of f(x) = sin(x + {b:.2f})')\n",
    "        plt.xlabel('x')\n",
    "        plt.ylabel('y')\n",
    "        plt.grid(True)\n",
    "        plt.show()\n",
    "\n",
    "# Create a slider for b\n",
    "b_slider = widgets.FloatSlider(value=0, min=-2*np.pi, max=2*np.pi, step=0.1, description=\"b\")\n",
    "\n",
    "# Link the slider to the update_plot function using interactive_output\n",
    "widgets.interactive(update_plot, b = b_slider)\n",
    "\n",
    "# Display the slider and the plot\n",
    "display(b_slider, output)"
   ]
  },
  {
   "attachments": {},
   "cell_type": "markdown",
   "metadata": {},
   "source": [
    "Suppose we want to compare two functions, $f(x)$ and $g(x)$ where \n",
    "$$ g(x) = \\cos(x+b) \\tag{2} $$ \n",
    "We could do so by first defining $g(x)$:"
   ]
  },
  {
   "cell_type": "code",
   "execution_count": null,
   "metadata": {},
   "outputs": [],
   "source": [
    "# define g(x)\n",
    "def g(x, b):\n",
    "    return np.cos(x + b)"
   ]
  },
  {
   "attachments": {},
   "cell_type": "markdown",
   "metadata": {},
   "source": [
    "Then adding $g(x)$ and $f(x)$ to the slider. "
   ]
  },
  {
   "cell_type": "code",
   "execution_count": null,
   "metadata": {},
   "outputs": [],
   "source": [
    "# Initialize a display object\n",
    "output = widgets.Output()\n",
    "\n",
    "# Function to update the plot and title\n",
    "def update_plot(b):\n",
    "    with output:\n",
    "        clear_output(wait=True)  # Clear the previous output\n",
    "        plt.figure(figsize=(10, 6))  # Create a new figure with a specified size\n",
    "        plt.plot(x, f(x, b), label=f'f(x) = sin(x + {b:.2f})', color='blue')\n",
    "        plt.plot(x, g(x, b), label=f'g(x) = cos(x + {b:.2f})', color='red')\n",
    "        plt.title(f'Comparison of f(x) and g(x) with b = {b:.2f}')\n",
    "        plt.xlabel('x')\n",
    "        plt.ylabel('y')\n",
    "        plt.legend()\n",
    "        plt.grid(True)  # Optional: add a grid for better readability\n",
    "        plt.show()\n",
    "\n",
    "# Create a slider for b\n",
    "b_slider = widgets.FloatSlider(value=0, min=-2*np.pi, max=2*np.pi, step=0.1, description=\"b\")\n",
    "\n",
    "# Link the slider to the update_plot function using interactive_output\n",
    "widgets.interactive_output(update_plot, {'b': b_slider})\n",
    "\n",
    "# Display the slider and the plot\n",
    "display(b_slider, output)"
   ]
  },
  {
   "attachments": {},
   "cell_type": "markdown",
   "metadata": {},
   "source": [
    "### Dropdown menus\n",
    "Suppose if instead we wanted to select which of the following functions to visualise, we could use dropdown menus.\n",
    "$$\n",
    "f_1(x) = \\sin(x) \\tag{3} \n",
    "$$ \n",
    "$$\n",
    "g_1(x) = \\cos(x) \\tag{4} \n",
    "$$ \n",
    "$$\n",
    "h_1(x) = \\tan(x) \\tag{5} \n",
    "$$\n"
   ]
  },
  {
   "cell_type": "code",
   "execution_count": null,
   "metadata": {},
   "outputs": [],
   "source": [
    "def update_plot(function_name):\n",
    "    # Clear the previous output to avoid overlapping plots\n",
    "    # clear_output(wait=True)\n",
    "    # Plot based on the selected function\n",
    "    if function_name == 'Sine':\n",
    "        plt.plot(x, np.sin(x), label='sin(x)')\n",
    "    elif function_name == 'Cosine':\n",
    "        plt.plot(x, np.cos(x), label='cos(x)')\n",
    "    elif function_name == 'Tangent':\n",
    "        plt.plot(x, np.tan(x), label='tan(x)')\n",
    "    \n",
    "    # Set plot title and labels\n",
    "    plt.title(f'{function_name} Function')\n",
    "    plt.xlabel('X')\n",
    "    plt.ylabel('Y')\n",
    "    \n",
    "    # Add a legend to the plot\n",
    "    plt.legend()\n",
    "    \n",
    "    # Display the updated plot\n",
    "    plt.show()\n",
    "\n",
    "# Create a dropdown menu for selecting the function\n",
    "function_dropdown = widgets.Dropdown(\n",
    "    options=['Sine', 'Cosine', 'Tangent'],\n",
    "    value='Sine',\n",
    "    description='Function:'\n",
    ")\n",
    "\n",
    "# Link the dropdown menu to the update_plot function\n",
    "widgets.interactive(update_plot, function_name=function_dropdown)"
   ]
  },
  {
   "attachments": {},
   "cell_type": "markdown",
   "metadata": {},
   "source": [
    "### Checkboxes and Sliders\n",
    "Suppose instead, we would like to select which of the functions in Eq. (1)-(2) to visualise simultaneously, whilst interactively visualising how they vary with $b$, we could use checkboxes and a slider to do so:"
   ]
  },
  {
   "cell_type": "code",
   "execution_count": null,
   "metadata": {},
   "outputs": [],
   "source": [
    "# define tan(x + b) for completeness\n",
    "def h(x, b):\n",
    "    return np.tan(x + b)"
   ]
  },
  {
   "cell_type": "code",
   "execution_count": null,
   "metadata": {},
   "outputs": [],
   "source": [
    "# Initialize a display object\n",
    "output = widgets.Output()\n",
    "\n",
    "# Function to update the plot and title\n",
    "def update_plot(show_sin, show_cos, show_tan, b):\n",
    "    with output:\n",
    "        clear_output(wait=True)  # Clear the previous output\n",
    "        plt.figure(figsize=(10, 6))  # Create a new figure with a specified size\n",
    "        \n",
    "        if show_sin:\n",
    "            plt.plot(x, f(x, b), label='f(x) = sin(x)', color='blue')\n",
    "        \n",
    "        if show_cos:\n",
    "            plt.plot(x, g(x, b), label=f'g(x) = cos(x + {b:.2f})', color='red')\n",
    "        \n",
    "        if show_tan:\n",
    "            plt.plot(x, h(x, b), label=f'h(x) = tan(x + {b:.2f})', color='green')\n",
    "        \n",
    "        plt.title('Comparison of Selected Functions')\n",
    "        plt.xlabel('x')\n",
    "        plt.ylabel('y')\n",
    "        if show_sin or show_cos or show_tan: # avoids legend error if none of the functions are selected\n",
    "            plt.legend()\n",
    "        plt.grid(True)  # add a grid for better readability\n",
    "        plt.ylim(-10, 10)  # limit y-axis to avoid extreme values in tan(x + b)\n",
    "        plt.show()\n",
    "\n",
    "# Create checkboxes for each function\n",
    "show_sin_checkbox = widgets.Checkbox(value=True, description='Show sin(x)')\n",
    "show_cos_checkbox = widgets.Checkbox(value=True, description='Show cos(x + b)')\n",
    "show_tan_checkbox = widgets.Checkbox(value=False, description='Show tan(x + b)')\n",
    "\n",
    "# Create a slider for b\n",
    "b_slider = widgets.FloatSlider(value=0, min=-2*np.pi, max=2*np.pi, step=0.1, description=\"b\")\n",
    "\n",
    "# Arrange checkboxes in a vertical box\n",
    "checkboxes_box = widgets.VBox([show_sin_checkbox, show_cos_checkbox, show_tan_checkbox])\n",
    "\n",
    "# Arrange the checkboxes box and slider in a horizontal box\n",
    "controls_box = widgets.HBox([checkboxes_box, b_slider])\n",
    "\n",
    "# Link the widgets to the update_plot function\n",
    "widgets.interactive_output(update_plot, {\n",
    "    'show_sin': show_sin_checkbox,\n",
    "    'show_cos': show_cos_checkbox,\n",
    "    'show_tan': show_tan_checkbox,\n",
    "    'b': b_slider\n",
    "})\n",
    "\n",
    "# Display the controls and the plot\n",
    "display(controls_box, output)"
   ]
  },
  {
   "attachments": {},
   "cell_type": "markdown",
   "metadata": {},
   "source": [
    "### Other\n",
    "There are other options such as radio buttons, text boxes, etc... that can be integrated into interactive plots using the same manner as above, see [ipyWidget list](https://ipywidgets.readthedocs.io/en/latest/examples/Widget%20List.html)"
   ]
  },
  {
   "attachments": {},
   "cell_type": "markdown",
   "metadata": {},
   "source": [
    "## Animations\n",
    "\n",
    "Another visualisation option could be to produce animations illustrating a desired behaviour. Let's create an animation of Eq. (1) whilst varying $b$:\n",
    "\n",
    "**NOTE**: it may take a while to load before illustrating the animation. "
   ]
  },
  {
   "cell_type": "code",
   "execution_count": null,
   "metadata": {},
   "outputs": [],
   "source": [
    "# load additional libraries\n",
    "from matplotlib.animation import FuncAnimation, PillowWriter\n",
    "import tempfile\n",
    "\n",
    "# Initialize the plot\n",
    "fig, ax = plt.subplots()\n",
    "line, = ax.plot(x, f(x, 0))\n",
    "ax.set_xlabel('x')\n",
    "ax.set_ylabel('y')\n",
    "title = ax.set_title('Plot of f(x) = sin(x + 0.00)')\n",
    "\n",
    "# Function to update the plot\n",
    "def update_plot(b):\n",
    "    line.set_ydata(f(x, b))  # Update the y data of the plot\n",
    "    title.set_text(f'Plot of f(x) = sin(x + {b:.2f})')  # Update the title\n",
    "    return line, title\n",
    "\n",
    "# Desired range and step size for the slider\n",
    "min_b = -2 * np.pi\n",
    "max_b = 2 * np.pi\n",
    "step_size = 0.1\n",
    "\n",
    "# Create FuncAnimation object\n",
    "anim = FuncAnimation(\n",
    "    fig, update_plot, frames=np.arange(min_b, max_b, step_size), interval=100, blit=True\n",
    ")\n",
    "\n",
    "# Function to display the animation\n",
    "def display_animation(anim):\n",
    "    with tempfile.NamedTemporaryFile(delete=False, suffix='.gif') as tmpfile:\n",
    "        temp_path = tmpfile.name\n",
    "    writer = PillowWriter(fps=10)\n",
    "    anim.save(temp_path, writer=writer)\n",
    "    \n",
    "    return Image(filename=temp_path)\n",
    "\n",
    "# Display the animation as a GIF\n",
    "display(display_animation(anim))\n",
    "\n",
    "plt.close(fig)"
   ]
  }
 ],
 "metadata": {
  "kernelspec": {
   "display_name": "venv",
   "language": "python",
   "name": "python3"
  },
  "language_info": {
   "codemirror_mode": {
    "name": "ipython",
    "version": 3
   },
   "file_extension": ".py",
   "mimetype": "text/x-python",
   "name": "python",
   "nbconvert_exporter": "python",
   "pygments_lexer": "ipython3",
   "version": "3.12.5"
  }
 },
 "nbformat": 4,
 "nbformat_minor": 4
}
