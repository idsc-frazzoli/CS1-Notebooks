{
 "cells": [
  {
   "cell_type": "markdown",
   "metadata": {},
   "source": [
    "# Control Systems 1, NB02: Introduction to System Classification and Linearization\n",
    "© 2024 ETH Zurich, Mark Benazet Castells, Jonas Holinger, Felix Muller, Matteo Penlington; Institute for Dynamic Systems and Control; Prof. Emilio Frazzoli\n",
    "\n",
    "\n",
    "This interactive notebook is designed to introduce fundamental concepts in control systems engineering. It covers the basics of system classification, and linearization.\n",
    "\n",
    "Authors:\n",
    "- Mark Benazet Castells; mbenazet@ethz.ch\n",
    "- Felix Muller; fmuller@ethz.ch"
   ]
  },
  {
   "cell_type": "markdown",
   "metadata": {},
   "source": [
    "## Learning Objectives\n",
    "\n",
    "After completing this notebook, you should be able to:\n",
    "\n",
    "1. Classify systems as static / dynamic, causal/non-causal, time-invariant/time-varying, linear/nonlinear.\n",
    "2. Understand the notion of equilibrium points.\n",
    "3. Write the model of an LTI system with A, B, C, D matrices.\n",
    "4. Approximate a non-linear system with a linear one about an equilibrium point."
   ]
  },
  {
   "cell_type": "markdown",
   "metadata": {},
   "source": [
    "# Setup\n"
   ]
  },
  {
   "cell_type": "markdown",
   "metadata": {},
   "source": [
    "## Installing the required packages:\n"
   ]
  },
  {
   "cell_type": "markdown",
   "metadata": {},
   "source": [
    "The following packages are required to run this notebook. If you haven't installed them yet, you can do so by running the following cell."
   ]
  },
  {
   "cell_type": "code",
   "execution_count": null,
   "metadata": {},
   "outputs": [],
   "source": [
    "%pip install numpy matplotlib scipy ipywidgets"
   ]
  },
  {
   "cell_type": "markdown",
   "metadata": {},
   "source": [
    "## Import the packages:\n",
    "The following cell imports the required packages. Run it before running the rest of the notebook."
   ]
  },
  {
   "cell_type": "code",
   "execution_count": 2,
   "metadata": {},
   "outputs": [],
   "source": [
    "import numpy as np\n",
    "import matplotlib.pyplot as plt\n",
    "from scipy.integrate import odeint\n",
    "from ipywidgets import interactive, widgets, FloatSlider, Dropdown\n",
    "from IPython.display import display, clear_output"
   ]
  },
  {
   "cell_type": "markdown",
   "metadata": {},
   "source": [
    "# 1. Input-Output Models\n"
   ]
  },
  {
   "cell_type": "markdown",
   "metadata": {},
   "source": [
    "In NB01 we saw that an input-output model is a map Σ from an input signal u(t) to an output signal y(t):\n",
    "\n",
    "$$y = \\Sigma u$$\n",
    "\n",
    "or more explicitly:\n",
    "\n",
    "$$y(t) = (\\Sigma u)(t), \\quad \\forall t \\in T$$\n",
    "\n",
    "This can be represented by a block diagram:"
   ]
  },
  {
   "cell_type": "markdown",
   "metadata": {},
   "source": [
    "<div style=\"text-align:center;\">\n",
    "    <img src=\"./img/block_dgm.png\" alt=\"Block Diagram\" width=\"500\">\n",
    "</div>"
   ]
  },
  {
   "cell_type": "markdown",
   "metadata": {},
   "source": [
    "Depending on how Σ affects u, it is possible to classify the system in different ways:\n",
    "- Linear vs. Nonlinear\n",
    "- Causal vs. Non-causal\n",
    "- Static (memoryless) vs. Dynamic\n",
    "- Time-invariant vs. Time-varying\n",
    "\n",
    "It is important to note, as we will see through the course, that certain tools are analysis techniques are required/useful on certain system types. In general, in this course we focus on **Linear Time-invariant (LTI)** Systems."
   ]
  },
  {
   "cell_type": "markdown",
   "metadata": {},
   "source": [
    "# 2. Classification of Systems\n"
   ]
  },
  {
   "cell_type": "markdown",
   "metadata": {},
   "source": [
    "## 1. Linear vs. Nonlinear Systems\n"
   ]
  },
  {
   "cell_type": "markdown",
   "metadata": {},
   "source": [
    "\n",
    "A system is linear if it satisfies the superposition principle (i.e., is additive and homogenous):\n",
    "\n",
    "$$\\Sigma(a u_1 + b u_2) = a(\\Sigma u_1) + b(\\Sigma u_2) = a y(u_1) + b y(u_2)$$\n",
    "\n",
    "Where $\\Sigma$ represents the system, $u = a u_1 + b u_2$ are control input signals, $y = a y_1 + b y_2$ are output signals, and a and b are scalars.\n",
    "\n",
    "> As a core competency, given a system, you should be able to determine whether it is linear or non-linear. In general, the process is to determine whether the above superposition principle holds. \n",
    "\n",
    "The below example illustrates the general process:"
   ]
  },
  {
   "cell_type": "markdown",
   "metadata": {},
   "source": [
    "### Example 1 - linear"
   ]
  },
  {
   "cell_type": "markdown",
   "metadata": {},
   "source": [
    "Consider the system $y=3u$. To prove whether it is linear or non-linear:\n",
    "\n",
    "**Step 1**: Let $u = a u_1 + b u_2$\n",
    "\n",
    "**Step 2**: Substitute the above into $y$: $\\quad y = 3 (a u_1 + b u_2)$\n",
    "\n",
    "**Step 3**: Simplify the above to determine whether the superposition principle holds: \n",
    "\\begin{align*}\n",
    "y =& 3 a u_1 + 3 b u_2 + 4 \\\\\n",
    "  =& a (3u_1) + b(3u_2) \\\\\n",
    "  =& a (y_1) + b (y_2)\n",
    "\\end{align*}\n",
    "Since the superposition principle holds, $y=3u$ is linear. "
   ]
  },
  {
   "cell_type": "markdown",
   "metadata": {},
   "source": [
    "### Example 2 - Non-linear\n",
    "\n",
    "Consider the system $y = u^2$. To prove whether it is linear or non-linear:\n",
    "\n",
    "**Step 1**: Let $u = a u_1 + b u_2$\n",
    "\n",
    "**Step 2**: Substitute the above into $y$: $\\quad y = (a u_1 + b u_2)^2$\n",
    "\n",
    "**Step 3**: Simplify the above to determine whether the superposition principle holds: \n",
    "\\begin{align*}\n",
    "y &= (a u_1 + b u_2)^2 \\\\\n",
    "    &= a^2 u_1^2 + 2 a b u_1 u_2 + b^2 u_2^2 \\\\\n",
    "    &\\neq a (u_1^2) + b (u_2^2)\n",
    "\\end{align*}\n",
    "\n",
    "Since the superposition principle does not hold, $y = u^2$ is non-linear."
   ]
  },
  {
   "cell_type": "markdown",
   "metadata": {},
   "source": [
    "### Practical examples"
   ]
  },
  {
   "cell_type": "markdown",
   "metadata": {},
   "source": [
    "The above examples may seem a bit abstract, so to help contextualize the origin of such equations (e.g., $y=ku, k\\in\\mathbb{R}_{\\geq0}$), consider the below examples of practical systems:\n",
    "\n",
    "A **simple electrical circuit** with a resistor is a linear system:\n",
    "- The relationship between voltage (V) and current (I) follows Ohm's Law: $V = IR$.\n",
    "- Combining two current sources, results in a voltage that is the sum of both current sources.\n",
    "\n",
    "Furthermore, in the previous lecture we learned how to derive the governing differential equations of a system. In this case, it is possible to show that a system is linear by either:\n",
    "1. Solving the differential equation analytically such that it is in the form $y = ...$, and using the steps illustrated above. \n",
    "2. Demonstrating that an input $\\tilde{u} = au_1 + bu_2$ results in an output $\\tilde{y} = ay_1 + by_2$.  \n",
    "\n",
    "An example using option 2 is presented in the problem sheet (PS02)."
   ]
  },
  {
   "cell_type": "markdown",
   "metadata": {},
   "source": [
    "### Interactive Examples"
   ]
  },
  {
   "cell_type": "markdown",
   "metadata": {},
   "source": [
    "\n",
    "Use the interactive plot below to check this property for different systems:\n",
    "\n",
    "- Linear system: $y = u$\n",
    "- Nonlinear system: $y = u^2$\n",
    "- Nonlinear system: $y = \\sin(u)$\n",
    "- Nonlinear + Linear system: $y = \\sin(u) + u$\n",
    "\n",
    "Parameters:\n",
    "- $a, b$: Scalars for the superposition principle\n",
    "\n",
    "Adjust the parameters and observe:\n",
    "- If the solid and dashed lines overlap for all inputs, the system is linear.\n",
    "- If they diverge, the system is nonlinear.\n",
    "- Is there a region of attraction around some values of $u$, where the non-linear and linear systems have similar outputs $y$?"
   ]
  },
  {
   "cell_type": "code",
   "execution_count": null,
   "metadata": {},
   "outputs": [],
   "source": [
    "system_types = {\n",
    "    'Linear: y = u': lambda u: u,\n",
    "    'Nonlinear: y = u²': lambda u: u**2,\n",
    "    'Nonlinear: y = sin(u)': np.sin,\n",
    "    'Nonlinear + Linear: y = sin(u) + u': lambda u: np.sin(u) + u\n",
    "}\n",
    "\n",
    "def system_response(system_type, u):\n",
    "    return system_types[system_type](u)\n",
    "\n",
    "def check_linearity(system_type, a, b):\n",
    "    u1 = np.linspace(-2, 2, 200)\n",
    "    u2 = np.linspace(-2, 2, 200)\n",
    "    \n",
    "    # Individual responses\n",
    "    y1 = system_response(system_type, u1)\n",
    "    y2 = system_response(system_type, u2)\n",
    "    \n",
    "    # Linearity check\n",
    "    y_sum = system_response(system_type, a*u1 + b*u2)\n",
    "    y_individual_sum = a*y1 + b*y2\n",
    "    \n",
    "    fig, ax = plt.subplots()\n",
    "    \n",
    "    # Linearity plot with LaTeX labels\n",
    "    ax.plot(u1, y_sum, label=r'$\\Sigma(au_1 + bu_2)$')\n",
    "    ax.plot(u1, y_individual_sum, label=r'$a\\Sigma(u_1) + b\\Sigma(u_2)$', linestyle='--')\n",
    "    ax.set_title('Linearity Check')\n",
    "    ax.set_xlabel('Input, $u$')\n",
    "    ax.set_ylabel('Output, $y$')\n",
    "    ax.legend()\n",
    "    ax.grid(True)\n",
    "    \n",
    "    plt.tight_layout()\n",
    "    plt.show()\n",
    "\n",
    "# Create the interactive widgets\n",
    "system_dropdown = Dropdown(\n",
    "    options=list(system_types.keys()),\n",
    "    value=list(system_types.keys())[0], \n",
    "    description='System'\n",
    ")\n",
    "a_slider = FloatSlider(min=-2, max=2, step=0.1, value=1)\n",
    "b_slider = FloatSlider(min=-2, max=2, step=0.1, value=1)\n",
    "\n",
    "# Create interactive plot\n",
    "interactive_plot = interactive(check_linearity, system_type=system_dropdown, a=a_slider, b=b_slider)\n",
    "\n",
    "# dipslay the widgets and plot\n",
    "display(interactive_plot)"
   ]
  },
  {
   "cell_type": "markdown",
   "metadata": {},
   "source": [
    "## 2. Causal vs Non-Causal Systems\n"
   ]
  },
  {
   "cell_type": "markdown",
   "metadata": {},
   "source": [
    "\n",
    "1. **Causal System**: A system where the output at any time $t$ depends only on the values of the input on ($-\\infty, t$]. \n",
    "   In other words, the system doesn't respond to future inputs.\n",
    "\n",
    "2. **Non-Causal System**: A system where the output at time $t$ can depend on future inputs (after time $t$). \n",
    "   Such systems are not physically realizable in \"the real world\" as it would depend on future information.\n",
    "\n",
    "\n",
    "A **thermostat** in your home is a causal system:\n",
    "- It responds to current and past temperature readings.\n",
    "- When the temperature drops below a set point, it turns on the heater.\n",
    "- The thermostat's actions are based solely on present and past inputs, never on future temperatures.\n",
    "\n",
    "While true non-causal systems don't exist in real-time physical world, we can find examples in data processing:\n",
    "\n",
    "A **video editing software** applying a blur effect to an entire video clip is effectively non-causal:\n",
    "- When blurring a frame at time t, it uses information from frames before and after t.\n",
    "- This process \"knows\" about future frames, making it non-causal from the perspective of real-time video processing."
   ]
  },
  {
   "cell_type": "markdown",
   "metadata": {},
   "source": [
    "## 3. Static vs. Dynamic\n"
   ]
  },
  {
   "cell_type": "markdown",
   "metadata": {},
   "source": [
    "\n",
    "1. **Static System**: A system where the output at time $t$ depends only on the input at time $t$.\n",
    "   In other words, the system has no memory of past inputs.\n",
    "\n",
    "2. **Dynamic System**: A system where the output at time $t$ depends on the input at time $t$ and past inputs.\n",
    "\n",
    "A good example of a static system is a **volume knob on a speaker**. The volume level is always controlled by the current position of the knob, without any consideration of previous settings. No matter how much the knob was turned earlier, the current volume depends only on the knob's current position.\n",
    "\n",
    "An example of a dynamic system is the **longitudinal speed of a car**. A specific depression of the gas pedal does not correspond to one specific speed, because the car's speed depends on both how much the gas pedal is currently pressed and how it has been pressed over time. Other factors such as inertia and friction also contribute, meaning the speed evolves dynamically based on the system's history."
   ]
  },
  {
   "cell_type": "markdown",
   "metadata": {},
   "source": [
    "## 4. Time-Invariant vs. Time-Varying\n"
   ]
  },
  {
   "cell_type": "markdown",
   "metadata": {},
   "source": [
    "\n",
    "1. **Time-Invariant System**: A system where the input-output relationship does not change over time.\n",
    "   In other words, the system's properties do not change with time.\n",
    "\n",
    "2. **Time-Varying System**: A system where the input-output relationship changes over time.\n",
    "\n",
    "Imagine a perfect actuator in a control system:\n",
    "\n",
    "1. Ideal Motor: \n",
    "   This actuator consistently produces the same output for a given input, regardless of when the input is applied. It's like a brand-new, high-quality motor that responds identically today, tomorrow, or a year from now.\n",
    "\n",
    "2. Aging Motor:\n",
    "   In reality, actuators may degrade over time due to wear and tear. An aging motor might produce less output for the same input as time passes. This change in behavior over time characterizes a time-varying system.\n",
    "\n",
    "<div style=\"text-align:center;\">\n",
    "    <img src=\"./img/actuator_decay.png\" alt=\"Block Diagram\" width=\"400\">\n",
    "</div>\n",
    "\n",
    "> Given a system, you must be able to determine whether it is time-invariant or time-varying. "
   ]
  },
  {
   "cell_type": "markdown",
   "metadata": {},
   "source": [
    "### Example"
   ]
  },
  {
   "cell_type": "markdown",
   "metadata": {},
   "source": [
    "To help understand the notation and general process, consider the simple system below:\n",
    "\n",
    "$$ y(t) = t \\cdot u(t) $$\n",
    "\n",
    "Then, the two time shifted operations are:\n",
    "\n",
    "$$\n",
    "\\begin{align*}\n",
    "\\left(\\sigma_\\tau \\Sigma_u \\right) \\quad=\\quad& y(t-\\tau) &=\\quad& (t-\\tau) u(t-\\tau) \\\\\n",
    "\\left(\\Sigma \\sigma_\\tau u\\right)(t) \\quad=\\quad& \\left(\\Sigma \\tilde{u}\\right)(t) &=\\quad& t u(t-\\tau)  \n",
    "\\end{align*}\n",
    "$$\n",
    "\n",
    "By noting that $(t-\\tau) u(t-\\tau) \\neq t u(t-\\tau)$, it is concludes that the system $y$ is time-varying. "
   ]
  },
  {
   "cell_type": "markdown",
   "metadata": {},
   "source": [
    "# 3. State-Space Models"
   ]
  },
  {
   "cell_type": "markdown",
   "metadata": {},
   "source": [
    "In the previous notebook, NB01, the following general state-space representation of a system was introduced.  \n",
    "\n",
    "$$\n",
    "\\begin{align*}\n",
    "\\dot{x}(t) &= f(t, x(t), u(t)) \\\\\n",
    "y(t) &= g(t, x(t), u(t)) \\\\\n",
    "\\end{align*}\n",
    "$$\n",
    "\n",
    "Where:\n",
    "- $x(t)$ is the state of the system.\n",
    "- $u(t)$ is the control input.\n",
    "- $y(t)$ is the output.\n",
    "\n",
    "However, in this course, we will study only (finite-dimenional) Linear Time-Invariant (LTI) systems. These systems are linear and time-invariant, which means they satisfy the superposition principle and their properties do not change over time. Furthermore, although they are a restrictive class of system (i.e., most systems are not naturally LTI -- consider the problems from PS01), many systems can be approximated well by LTI models. Thus, the control methods taught in this course, albeit work mostly with LTI systems, are very powerful, and indeed more advanced and complex control system approaches are based on the principles covered in this course. \n",
    "\n",
    "Nevertheless, since we consider LTI systems, the equivalent (*linearized*) state-space model is described by:\n",
    "$$\n",
    "\\begin{align*}\n",
    "\\dot{x}(t) = Ax(t) + Bu(t) \\\\\n",
    "y(t) = Cx(t) + Du(t) \\\\\n",
    "\\end{align*}\n",
    "$$\n",
    "\n",
    "Where:\n",
    "- $A, B, C, D$ are matrices that define the system.\n",
    "\n",
    "Although, most systems are not LTI, but many systems can be approximated very well by LTI models. On the [graph above](#1-linear-vs-nonlinear-systems), you can see that $\\Sigma(a u_1 + b u_2)$ and $a\\Sigma(u_1) + b\\Sigma(u_2)$ are very similar in certain regions to the nonlinear systems, mainly around the origin. Thus, to transform a non-linear system to its linear equivalent, we **linearize** the system about these points to get the $A, B, C, D$ matrices.\n",
    "\n",
    "These points, where a linearization is a faithful representation of the non-linear system, are called **equilibrium points**. For a general nonlinear state-space model, the equilibrium point $(x_e, u_e)$ is defined when:\n",
    "\n",
    "$$f(x_e, u_e) = 0$$\n",
    "\n",
    "> In general, given a system, you are expected to be able to compute a systems equilibrium points. Note that it is possible for a system to have multiple equilibrium points."
   ]
  },
  {
   "cell_type": "markdown",
   "metadata": {},
   "source": [
    "## 4. Linearization of a Nonlinear System\n"
   ]
  },
  {
   "cell_type": "markdown",
   "metadata": {},
   "source": [
    "\n",
    "In general, a nonlinear system can be approximated by a linear model through a Taylor series expansion around its equilibrium point. The linearization process, in its most basic form, follows this structure:\n",
    "\n",
    "### Given:\n",
    "$$\n",
    "\\begin{cases}\n",
    "\\dot{x}(t) = f(x(t), u(t)) \\\\\n",
    "y(t) = g(x(t), u(t))\n",
    "\\end{cases}\n",
    "$$\n",
    "\n",
    "### Wanted:\n",
    "$$\n",
    "\\begin{cases}\n",
    "\\dot{x}(t) = A x(t) + B u(t) \\\\\n",
    "y(t) = C x(t) + D u(t)\n",
    "\\end{cases}\n",
    "$$\n",
    "\n",
    "### Equilibrium point: \n",
    "Find the equilibrium points of the system.\n",
    "$$(x_e, u_e)$$\n",
    "\n",
    "### Linearization:\n",
    "To compute the corresponding matrices $A, B, C, D$ about an equilibrium point, compute the respective jacobians, using the relevant equilibrium point, as defined below:\n",
    "\n",
    "$$\n",
    "\\begin{align*}\n",
    "A &= \\begin{bmatrix}\n",
    "\\frac{\\partial f_1}{\\partial x_1} & \\cdots & \\frac{\\partial f_1}{\\partial x_n} \\\\\n",
    "\\vdots & \\ddots & \\vdots \\\\\n",
    "\\frac{\\partial f_n}{\\partial x_1} & \\cdots & \\frac{\\partial f_n}{\\partial x_n}\n",
    "\\end{bmatrix}_{x_e, u_e}\n",
    "\\quad\n",
    "&B& = \\begin{bmatrix}\n",
    "\\frac{\\partial f_1}{\\partial u_1} \\\\\n",
    "\\vdots \\\\\n",
    "\\frac{\\partial f_n}{\\partial u_1}\n",
    "\\end{bmatrix}_{x_e, u_e} \\\\\n",
    "\n",
    "C &= \\begin{bmatrix}\n",
    "\\frac{\\partial g_1}{\\partial x_1} & \\cdots & \\frac{\\partial g_1}{\\partial x_n} \n",
    "\\end{bmatrix}_{x_e, u_e}\n",
    "\n",
    "\\quad\n",
    "&D& = \\begin{bmatrix}\n",
    "\\frac{\\partial g_1}{\\partial u_1}\n",
    "\\end{bmatrix}_{x_e, u_e}\n",
    "\\end{align*}\n",
    "\n",
    "$$\n",
    "*Note:* Since in this course we deal with SISO systems, the B and D matrices have 1 column. \n",
    "\n",
    "It is important to note that in the linearised state-space form in the resulting linear system, $x(t)$, $u(t)$ and $y(t)$ are not the original modeling coordinates, but rather represent the deviations from the equilibrium point.\n",
    "\n",
    "To help concretise the above procedure, we provide a walkthrough example below. "
   ]
  },
  {
   "cell_type": "markdown",
   "metadata": {},
   "source": [
    "### Example:"
   ]
  },
  {
   "cell_type": "markdown",
   "metadata": {},
   "source": [
    "We now explore the linearization of an example nonlinear system around an equilibrium point. This system is not a practical control example, but facilitates showing the effect of linearization visually. The system wish to analyze is the below, where $x$ is the state:\n",
    "\n",
    "$$\n",
    "\\begin{align*}\n",
    "\\dot x &=& f(x) &= \\sin(x)  \\\\ \n",
    "y &=& g(x) &= x\n",
    "\\end{align*}\n",
    "$$\n",
    "\n",
    "First find the equilibrium points: $f(x)=0 \\implies x_e = k\\pi, k\\in\\mathbb{Z}_+$. \n",
    "For simplicity, let's pick the equilibrium point $x_e = \\pi$ as the $x_e$ of interest.\n",
    "\n",
    "Since there are no inputs, the two linearized matrices to compute are $A$ and $C$ by taking the corresponding derivatives:\n",
    "$$\n",
    "\\begin{align*}\n",
    "A &= \\frac{d f(x)}{dx}\\mid_{x=x_e} = \\cos(x_e) = -1 \\\\\n",
    "C &= \\frac{d g(x)}{dx}\\mid_{x=x_e} = 1 \n",
    "\\end{align*}\n",
    "$$\n",
    "\n",
    "Thus, the linear approximation of the system near $x_e = \\pi$ is:\n",
    "\n",
    "$$\n",
    "\\dot x = -1 \\cdot (x-\\pi) \\\\\n",
    "y = 1 (x - \\pi)\n",
    "$$"
   ]
  },
  {
   "cell_type": "markdown",
   "metadata": {},
   "source": [
    "#### Visualization"
   ]
  },
  {
   "cell_type": "markdown",
   "metadata": {},
   "source": [
    "In the visualization, we plot the value $\\dot x$, for a given $x_e$, comparing both the non-linear and linear representations -- note that the x-axis represents the delta to $x_e$  ($\\delta x_e$). \n",
    "\n",
    "Note the following behaviors on the plot:\n",
    "- When $x_e = k\\pi$, zoom in: Only the region near the linearization point is visible, and within this domain, the linear function is a faithful representation of the non-linear system.\n",
    "- When $x_e = k\\pi$, zoom out: Within the new domain, the linear system is no longer a faithful representation of the non-linear, even though we are still at the equilibrium point. \n",
    "- When $x_e \\neq k\\pi$: As you linearize about a point further away from $k\\pi$, the region in which the linear system faithfully represents the non-linear one decreases. \n",
    "> This highlights that:\n",
    "> 1. Linearizing a system only returns faithful representations of a non-linear system when linearizing about equilibrium points.\n",
    "> 2. Linearizing a system only returns faithful representations of a non-linear system when operating near equilibrium points.   "
   ]
  },
  {
   "cell_type": "code",
   "execution_count": null,
   "metadata": {},
   "outputs": [],
   "source": [
    "# Define the nonlinear system f(x) = sin(x)\n",
    "def nonlinear_function(x):\n",
    "    return np.sin(x)\n",
    "\n",
    "# Calculate the linear approximation around the equilibrium point\n",
    "def linear_approximation(x, x_e):\n",
    "    slope = np.cos(x_e)\n",
    "    return slope * (x - x_e) + np.sin(x_e)\n",
    "\n",
    "# Plot the nonlinear system and its linearization\n",
    "def plot_system(ax, zoom, x_e):\n",
    "    # Invert zoom level for better visualization\n",
    "    zoom = 1/zoom\n",
    "\n",
    "    # Generate x values based on zoom level\n",
    "    x_vals = np.linspace(x_e - zoom, x_e + zoom, 400)\n",
    "    \n",
    "    # Nonlinear system output\n",
    "    y_nonlinear = nonlinear_function(x_vals)\n",
    "    \n",
    "    # Linear approximation at equilibrium point x0\n",
    "    y_linear = linear_approximation(x_vals, x_e)\n",
    "    \n",
    "    # Plot the results on the provided axis\n",
    "    ax.plot(x_vals, y_nonlinear, label=r'Nonlinear System: $f(x) = \\sin(x)$', color='blue')\n",
    "    ax.plot(x_vals, y_linear, label=rf'Linearised system: $f(x) = -1 (x-\\pi)$', linestyle='--', color='red')\n",
    "    \n",
    "    # Highlight the equilibrium point\n",
    "    ax.scatter(x_e, nonlinear_function(x_e), color='black', zorder=5)\n",
    "    ax.text(x_e + 0.1, np.sin(x_e), f'Linearization Point ({x_e:.2f}, {np.sin(x_e):.2f})', fontsize=10)\n",
    "    \n",
    "    # Set plot details\n",
    "    ax.set_title(rf'Nonlinear System when Linearized about $x_e$ = {x_e:.2f}')\n",
    "    ax.set_xlabel(r'$\\delta x_e$')\n",
    "    ax.set_ylabel(r'f(x)')\n",
    "    ax.legend()\n",
    "    ax.grid(True)\n",
    "    \n",
    "    # Adjust x and y limits to keep linearization point in the middle\n",
    "    ax.set_xlim(x_e - zoom, x_e + zoom)\n",
    "    y_center = nonlinear_function(x_e)\n",
    "    ax.set_ylim(y_center - zoom, y_center + zoom)\n",
    "\n",
    "# Combined function to plot both subplots\n",
    "def interactive_analysis(x_e, zoom):\n",
    "    fig, ax = plt.subplots(figsize=(6, 4))  # Specify a size if needed\n",
    "\n",
    "    # Plot the nonlinear system with linearization on the first subplot\n",
    "    plot_system(ax, zoom, x_e)\n",
    "\n",
    "    plt.tight_layout()\n",
    "    plt.show()\n",
    "\n",
    "# Create interactive widgets\n",
    "interactive_plot = interactive(\n",
    "    interactive_analysis, \n",
    "    x_e=FloatSlider(min=-np.pi, max=np.pi, step=0.01, value=0, description='xₑ'),\n",
    "    zoom=FloatSlider(min=0.1, max=4.0, step=0.1, value=2.0, description='Zoom:')\n",
    ")\n",
    "\n",
    "display(interactive_plot)"
   ]
  },
  {
   "cell_type": "markdown",
   "metadata": {},
   "source": [
    "# 4. Interactive Example"
   ]
  },
  {
   "cell_type": "markdown",
   "metadata": {},
   "source": [
    "In this example we illustrate the effects of linearizing a non-linear system.\n",
    "\n",
    "We consider a pendulum that is mounted to a wall and connected to a horizontal spring as shown below.\n",
    "Let $l$ be the length of the pendulum, $J$ its moment of inertia, $m$ its mass, and let $\\lambda$ represent the damping constant of the pendulum acting at the pivot (damped rotation due to friction).\n",
    "\n",
    "Further, let $k$ represent the spring constant of the spring, and denote by $a$ the distance to the pivot of the point that connects the spring and the pendulum. Assume the spring to be initially relaxed at $\\varphi =0$.\n",
    "The system is actuated by an external force $F(t)$ which acts at a right angle to the pendulum.\n",
    "There is a sensor measuring the angle $\\varphi$ which we assume to be limited to $\\varphi(t)\\in\\left(-\\frac{\\pi}{2},\\frac{\\pi}{2}\\right)$.\n",
    "\n",
    "<div style=\"text-align:center;\">\n",
    "    <img src=\"./img/pendel.png\" alt=\"Block Diagram\" width=\"400\">\n",
    "</div>\n",
    "\n",
    "Note that for completeness below we include the system dynamics, the non-linear state-space representation, and the linearized representation. However, we also provide these as a practical pen-and-paper example in the Problem Sheet (Exercise 5). "
   ]
  },
  {
   "cell_type": "markdown",
   "metadata": {},
   "source": [
    "## System Dynamics\n"
   ]
  },
  {
   "cell_type": "markdown",
   "metadata": {},
   "source": [
    "\n",
    "The differential equation governing the dynamics of the above described system is assumed to be given by\n",
    "\n",
    "$$J  \\cdot\\ddot{\\varphi}(t) = -mgl \\sin \\varphi(t) - \\frac{a^2 k}{2} \\sin 2\\varphi(t) - \\lambda \\dot{\\varphi}(t) + l F(t).$$\n",
    "\n",
    "Further, let the system parameters be\n",
    "$$\n",
    "\\begin{array}{rcl}\n",
    "\\begin{array}{rcl}\n",
    "l &=& 1\\text{ m}  & m &=& 1\\text{ kg} \\\\[0.2em]\n",
    "g &=& 10\\text{ m/s}^2  & a &=& 0.5\\text{ m} \\\\[0.2em]\n",
    "k &=& 10\\text{ N/m} & \\lambda &=& 3\\text{ Nms/rad} \\\\[0.2em]\n",
    "J &=& 1\\text{ Nms}^2/\\text{rad} & &\n",
    "\\end{array}\n",
    "\\end{array}\n",
    "$$\n",
    "\n",
    "The initial conditions at $t=0$ are assumed to be such that pendulum is at angle $\\varphi=0$ with angular velocity $\\dot \\varphi =0$."
   ]
  },
  {
   "cell_type": "markdown",
   "metadata": {},
   "source": [
    "## Nonlinear System Representation\n"
   ]
  },
  {
   "cell_type": "markdown",
   "metadata": {},
   "source": [
    "Choosing the state vector $x(t) = \\begin{bmatrix} x_1(t) \\\\ x_2(t) \\end{bmatrix} = \\begin{bmatrix} \\varphi(t) \\\\ \\dot \\varphi(t) \\end{bmatrix}$, the input vector $u(t) = F(t)$, and the output vector $y(t) = \\varphi(t)$, the system can be represented in state-space form as follows:\n",
    "\n",
    "$$\n",
    "\\begin{array}{rcl}\n",
    "\\dot{x}(t) &=& f(x(t),u(t))\\\\\n",
    "y(t) &=& g(x(t),u(t))\n",
    "\\end{array}\n",
    "$$\n",
    "\n",
    "For our specific case, this becomes:\n",
    "\n",
    "$$\n",
    "\\begin{array}{rcl}\n",
    "\\dot{x}(t) &=& \\begin{bmatrix} x_2(t) \\\\ \\frac{-mgl \\sin x_1(t) - \\frac{a^2 k}{2} \\sin 2x_1(t) - \\lambda  x_2(t) + l u(t)}{J} \\end{bmatrix}\\\\\n",
    "y(t) &=& x_1(t)\n",
    "\\end{array}\n",
    "$$"
   ]
  },
  {
   "cell_type": "markdown",
   "metadata": {},
   "source": [
    "## Linearizing the System\n"
   ]
  },
  {
   "cell_type": "markdown",
   "metadata": {},
   "source": [
    "The system is nonlinear, but we can linearize it around an equilibrium point. In this case, we will linearize it around the equilibrium point $\\varphi = 0$, $\\dot \\varphi = 0$ and $F(t) = 0$.\n",
    "\n",
    "The linearized system is given by:\n",
    "\n",
    "$$\n",
    "\\begin{array}{rcl}\n",
    "\\dot{x}(t) &=& \\begin{bmatrix} 0 & 1 \\\\ -\\frac{l \\cdot m \\cdot g + a^2 \\cdot k}{J} & -\\frac{\\lambda}{J} \\end{bmatrix} x(t) + \\begin{bmatrix} 0 \\\\ \\frac{l}{J} \\end{bmatrix} u(t) \\\\[0.5em]\n",
    "y(t) &=& \\begin{bmatrix} 1 & 0 \\end{bmatrix} x(t)\n",
    "\\end{array}\n",
    "$$\n",
    "\n"
   ]
  },
  {
   "cell_type": "markdown",
   "metadata": {},
   "source": [
    "\n",
    "## Interactive Task\n"
   ]
  },
  {
   "cell_type": "markdown",
   "metadata": {},
   "source": [
    "Below we simulate the pendulum system with the following control signal:\n",
    "$$\n",
    "F(t) = \\begin{cases} 0  \\qquad  0\\leq t<10\\\\ F_1 \\quad 10 \\leq  t < 10 \\\\ F_2 \\qquad 15 \\leq t \\end{cases}\n",
    "$$\n",
    "\n",
    "The control input $F(t)$ jumps from $0 N$ to $F_1 = 0.1 N$ at $10$ seconds, then to $F_2 = 1 N$ at $15$ seconds. \n",
    "\n",
    "Both the linearized and non-linear system are plotted over $20$ seconds. \n",
    "- Try increasing $F_1$ keeping $F_2 = 1N$, what do you notice about the two responses?\n",
    "- Try increasing $F_2$, what do you notice about the two responses? What could be a cause of this? *Hint:* Consider the equilibrium points used in the linearization. \n",
    "\n",
    "We have some additional sliders that are attributes of the problem, feel free to play around with them and see how the output behaviours change."
   ]
  },
  {
   "cell_type": "code",
   "execution_count": null,
   "metadata": {},
   "outputs": [],
   "source": [
    "# System parameters\n",
    "l = 1.0  # m\n",
    "m = 1.0  # kg\n",
    "g = 10.0  # m/s^2\n",
    "a = 0.5  # m\n",
    "k = 10.0  # N/m\n",
    "lambda_ = 3.0  # Nms/rad\n",
    "J = 1.0  # Nms^2/rad\n",
    "\n",
    "# Control input F(t)\n",
    "def F(t, F1, F2, t1, t2):\n",
    "    if t < t1:\n",
    "        return 0\n",
    "    elif t < t2:\n",
    "        return F1\n",
    "    else:\n",
    "        return F2\n",
    "\n",
    "# Nonlinear system dynamics\n",
    "def nonlinear_system(x, t, F1, F2, t1, t2):\n",
    "    phi, phi_dot = x\n",
    "    F_t = F(t, F1, F2, t1, t2)\n",
    "    phi_ddot = (-l * m * g * np.sin(phi) - 0.5 * a**2 * k * np.sin(2*phi) - lambda_ * phi_dot + l * F_t) / J\n",
    "    return [phi_dot, phi_ddot]\n",
    "\n",
    "# Linear system dynamics\n",
    "def linear_system(x, t, F1, F2, t1, t2):\n",
    "    phi, phi_dot = x\n",
    "    F_t = F(t, F1, F2, t1, t2)\n",
    "    phi_ddot = (-l * m * g * phi - a**2 * k * phi - lambda_ * phi_dot + l * F_t) / J\n",
    "    return [phi_dot, phi_ddot]\n",
    "\n",
    "# Simulation and plotting function\n",
    "def simulate_and_plot(F1, F2, t1, t2, phi0, phi_dot0):\n",
    "    with output:\n",
    "        clear_output(wait=True)  # Clear the previous output\n",
    "        # Time array\n",
    "        t = np.linspace(0, 20, 1000)\n",
    "\n",
    "        # Initial conditions\n",
    "        x0 = [phi0, phi_dot0]\n",
    "\n",
    "        # Solve ODEs\n",
    "        nonlinear_solution = odeint(nonlinear_system, x0, t, args=(F1, F2, t1, t2))\n",
    "        linear_solution = odeint(linear_system, x0, t, args=(F1, F2, t1, t2))\n",
    "\n",
    "        # Extract phi and phi_dot\n",
    "        nonlinear_phi = nonlinear_solution[:, 0]\n",
    "        linear_phi = linear_solution[:, 0]\n",
    "\n",
    "        # Calculate F(t) for plotting\n",
    "        F_t = np.array([F(ti, F1, F2, t1, t2) for ti in t])\n",
    "\n",
    "        # Plotting\n",
    "        fig, (ax1, ax2) = plt.subplots(1, 2, figsize=(16, 6))\n",
    "        fig.suptitle('Pendulum System Simulation: Nonlinear vs Linear', fontsize=16, y=1.05)\n",
    "\n",
    "        # Plot phi\n",
    "        ax1.plot(t, nonlinear_phi, label='Nonlinear')\n",
    "        ax1.plot(t, linear_phi, label='Linear', linestyle='--')\n",
    "        ax1.set_xlabel(r'Time (s)')\n",
    "        ax1.set_ylabel(r'Angle (rad)')\n",
    "        ax1.set_title(r'Pendulum Angle ($\\varphi$)')\n",
    "        ax1.grid(True)\n",
    "        ax1.legend()\n",
    "\n",
    "        # Plot F(t)\n",
    "        ax2.plot(t, F_t)\n",
    "        ax2.set_xlabel('Time (s)')\n",
    "        ax2.set_ylabel('Force (N)')\n",
    "        ax2.set_title(r'Control Input $F(t)$')\n",
    "        ax2.grid(True)\n",
    "\n",
    "        plt.tight_layout()\n",
    "        plt.subplots_adjust(top=0.85, wspace=0.3)\n",
    "        plt.show()\n",
    "\n",
    "# Initialize a display object\n",
    "output = widgets.Output()\n",
    "\n",
    "\n",
    "# Create widgets\n",
    "F1_slider = widgets.FloatSlider(value=0.1, min=0, max=1, step=0.1, description='F₁:')\n",
    "F2_slider = widgets.FloatSlider(value=1, min=0, max=10, step=0.1, description='F₂:')\n",
    "t1_slider = widgets.FloatSlider(value=10, min=0, max=20, step=0.1, description='t₁:')\n",
    "t2_slider = widgets.FloatSlider(value=15, min=0, max=20, step=0.1, description='t₂:')\n",
    "phi0_slider = widgets.FloatSlider(value=0.0, min=-np.pi/2, max=np.pi/2, step=0.01, description='ϕ₀:')\n",
    "phi_dot0_slider = widgets.FloatSlider(value=0.0, min=-5, max=5, step=0.01, description='dϕ₀/dt:')\n",
    "\n",
    "# Arrange sliders in columns\n",
    "column1 = widgets.VBox([F1_slider, F2_slider])\n",
    "column2 = widgets.VBox([t1_slider, t2_slider])\n",
    "column3 = widgets.VBox([phi0_slider, phi_dot0_slider])\n",
    "\n",
    "# Combine columns into a row\n",
    "slider_layout = widgets.HBox([column1, column2, column3])\n",
    "\n",
    "# Create interactive output\n",
    "widgets.interactive_output(simulate_and_plot, {\n",
    "    'F1': F1_slider,\n",
    "    'F2': F2_slider,\n",
    "    't1': t1_slider,\n",
    "    't2': t2_slider,\n",
    "    'phi0': phi0_slider,\n",
    "    'phi_dot0': phi_dot0_slider\n",
    "})\n",
    "\n",
    "# Display the sliders and interactive plot\n",
    "display(slider_layout, output)"
   ]
  }
 ],
 "metadata": {
  "kernelspec": {
   "display_name": "cs1",
   "language": "python",
   "name": "python3"
  },
  "language_info": {
   "codemirror_mode": {
    "name": "ipython",
    "version": 3
   },
   "file_extension": ".py",
   "mimetype": "text/x-python",
   "name": "python",
   "nbconvert_exporter": "python",
   "pygments_lexer": "ipython3",
   "version": "3.12.5"
  }
 },
 "nbformat": 4,
 "nbformat_minor": 2
}
