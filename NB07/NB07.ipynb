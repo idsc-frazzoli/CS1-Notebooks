{
 "cells": [
  {
   "cell_type": "markdown",
   "metadata": {
    "id": "cka1nE-GBRLr"
   },
   "source": [
    "# Control Systems 1, NB07: Time-Domain specifications and PID\n",
    "\n",
    "© 2024 ETH Zurich, Mark Benazet Castells, Jonas Holinger, Felix Muller, Matteo Penlington; Institute for Dynamic Systems and Control; Prof. Emilio Frazzoli\n",
    "\n",
    "This interactive notebook is designed to introduce fundamental concepts in control systems engineering. It covers the steady-state error, different Time-Domain Specifications for first and second order systems. It also features how to approximate higher order system using Dominant pole approximation. Furthermore, it introduces the PID-controller.\n",
    "\n",
    "Authors:\n",
    "- Jonas Holinger; jholinger@ethz.ch\n",
    "- Shubham Gupta; shugupta@ethz.ch"
   ]
  },
  {
   "cell_type": "markdown",
   "metadata": {
    "id": "2DZvzqS5BUqo"
   },
   "source": [
    "# Learning Objectives\n"
   ]
  },
  {
   "cell_type": "markdown",
   "metadata": {},
   "source": [
    "After completing this notebook, you should be able to:\n",
    "\n",
    "1. Determine the steady-state error of a system.\n",
    "2. Understand different time-domain specifications for first and second order system.\n",
    "3. Understand how to design the system such that the specifications are met.\n",
    "4. Understand how to approximate higher order systems using dominant pole approximation\n",
    "5. Have a basic understanding of PID-Controllers."
   ]
  },
  {
   "cell_type": "code",
   "execution_count": null,
   "metadata": {},
   "outputs": [],
   "source": [
    "%pip install numpy matplotlib scipy ipywidgets control IPython sympy"
   ]
  },
  {
   "cell_type": "code",
   "execution_count": null,
   "metadata": {},
   "outputs": [],
   "source": [
    "import control as ct\n",
    "import matplotlib.pyplot as plt\n",
    "import numpy as np\n",
    "import math\n",
    "import ipywidgets as widgets\n",
    "from scipy.integrate import odeint\n",
    "from IPython.display import display, clear_output, Math\n",
    "from ipywidgets import interactive, FloatSlider, VBox, ToggleButton, FloatSlider\n",
    "from scipy import signal\n"
   ]
  },
  {
   "cell_type": "markdown",
   "metadata": {
    "id": "MHqSpQm6CW_A"
   },
   "source": [
    "# Steady State Error"
   ]
  },
  {
   "cell_type": "markdown",
   "metadata": {
    "id": "YwLnevIqC082"
   },
   "source": [
    "\n",
    "The steady-state error is the difference between the system reference signal $r(t)$ and the closed-loop output $y(t)$ as $ \\displaystyle \\lim_{t \\to \\infty}$.\n",
    "\n",
    "Applying the final value theorem, we know that we can calculate the steady-state error with:\n",
    "<br><br>\n",
    "$$ e_{ss}=  \\displaystyle \\lim_{t \\to \\infty } e(t) =  \\displaystyle \\lim_{s \\to 0} s \\cdot E(s) $$\n",
    "### Example\n",
    "We have an open-loop transfer function $C(s)P(s)$ with an integrator, and there is a pole at $s=0$. Let’s define the open-loop transfer function $C(s)P(s)$ as\n",
    "$$ L(s) = \\frac{K_{Bode}}{s(s+2)} $$<br>\n",
    "where $K$ is our system's Bode gain, the $s$ term represents the system's integrator (making our system a **Type 1** system), and $(s+2)$ is an additional stable pole.\n",
    "\n",
    "The input to the system is a first-order ramp ($q=1$) $r(t) = t$. This input corresponds in the frequency domain to:\n",
    "$$ R(s) = \\frac{1}{s^2} $$\n",
    "\n",
    "To calculate the error signal $E(s)$, we use the sensitivity function, which is known from previous lectures. The sensitivity function maps the reference input $r$ to the error $e$:\n",
    "$$ S(s) = \\frac{1}{1+P(s)C(s)} = \\frac{1}{1+L(s)} $$\n",
    "\n",
    "We can multiply the sensitivity function $S$ with our input $R(s)$ and apply the final value theorem to get our steady-state error:\n",
    "$$ e_{ss} = \\displaystyle \\lim_{s \\to 0} s \\cdot E(s) = \\displaystyle \\lim_{s \\to 0} s \\cdot R(s) \\cdot \\frac{1}{1+L(S)} = \\displaystyle \\lim_{s \\to 0} s \\cdot \\frac{\\frac{1}{s^2}}{1+\\frac{K}{s(s+2)}} $$\n",
    "\n",
    "The steady-state error we get after applying the limit is\n",
    "$$ e_{ss} = \\frac{2}{K} $$\n",
    "which corresponds to the inverse of our Bode gain $K_{Bode}$. If the system is stable and $q=0$, the Bode gain corresponds to the steady-state gain for a unit step input and is called the DC gain.\n",
    "\n",
    "If we now add a second integrator to our system, $C(s) = s^2$ making it a **Type 2** system and calculate our steady-state error again:\n",
    "$$ e_{ss} = \\displaystyle \\lim_{s \\to 0} s \\cdot \\frac{\\frac{1}{s^2}}{1+\\frac{K}{s^2(s+2)}} $$\n",
    "we see that our steady-state error is exactly zero.\n",
    "\n",
    "### Conclusion\n",
    "To achieve a steady-state error of zero, you need to have one more integrator than the order of your ramp input. To achieve a small steady-state error, you can increase the Bode gain. To avoid calculating the steady-state error each time, you can use the following table:\n",
    "\n",
    "\n",
    "\n",
    "\n",
    "| $ e_{ss} $ | $ q = 0 $                   | $ q = 1 $            | $ q = 2 $            |\n",
    "|-------------|-----------------------------|----------------------|----------------------|\n",
    "| Type 0      | $ \\frac{1}{1 + K_{\\text{Bode}}} $ | $ \\infty $           | $ \\infty $           |\n",
    "| Type 1      | $ 0 $                        | $ \\frac{1}{K_{\\text{Bode}}} $ | $ \\infty $           |\n",
    "| Type 2      | $ 0 $                        | $ 0 $                | $ \\frac{1}{K_{\\text{Bode}}} $ |\n",
    "\n",
    "### Visualization\n",
    "Try different combinations of system types and input ramps and observe whether you have a steady-state error or not.\n"
   ]
  },
  {
   "cell_type": "code",
   "execution_count": null,
   "metadata": {},
   "outputs": [],
   "source": [
    "def simulate_system(system_type, input_type):\n",
    "\n",
    "    t = np.linspace(0, 125, 1000)\n",
    "\n",
    "    #P(s) = 1 / (s + 10)\n",
    "    P = ct.TransferFunction([1], [1, 10])\n",
    "\n",
    "    if system_type == \"Type 0\":\n",
    "        C = ct.TransferFunction([5], [1])\n",
    "    elif system_type == \"Type 1\":\n",
    "        C = ct.TransferFunction([1], [1, 0])\n",
    "    elif system_type == \"Type 2\":\n",
    "        C = ct.TransferFunction([1], [1, 0, 0])\n",
    "\n",
    "\n",
    "\n",
    "    open_loop_system = C * P\n",
    "    closed_loop_system = ct.feedback(open_loop_system)\n",
    "\n",
    "    if input_type == \"Unit Ramp\" and system_type == \"Type 2\":\n",
    "        t = np.linspace(0, 1500, 1000)\n",
    "\n",
    "    elif input_type == \"Unit Parabola\" and system_type == \"Type 2\":\n",
    "        t = np.linspace(0, 300, 1000)\n",
    "\n",
    "\n",
    "    if input_type == \"Unit Step\":\n",
    "        input_signal = np.ones_like(t)\n",
    "    elif input_type == \"Unit Ramp\":\n",
    "        input_signal = t\n",
    "    elif input_type == \"Unit Parabola\":\n",
    "        input_signal = 0.5 * t**2\n",
    "\n",
    "\n",
    "    t_out, y_out = ct.forced_response(closed_loop_system, T=t, U=input_signal)\n",
    "\n",
    "    plt.figure(figsize=(12, 6))\n",
    "    plt.plot(t, input_signal, 'r--', label='Input Signal', linewidth=2)\n",
    "    plt.plot(t_out, y_out, 'b-', label='Output Response ', linewidth=2)\n",
    "\n",
    "\n",
    "\n",
    "    plt.title(f'Input and Output of {system_type} System to {input_type} ')\n",
    "    plt.xlabel('Time (s)')\n",
    "    plt.ylabel('Amplitude')\n",
    "    plt.grid()\n",
    "    plt.legend()\n",
    "    plt.tight_layout()\n",
    "    plt.show()\n",
    "\n",
    "\n",
    "\n",
    "system_type_dropdown = widgets.Dropdown(\n",
    "    options=[\"Type 0\", \"Type 1\", \"Type 2\"],\n",
    "    value=\"Type 0\",\n",
    "    description='System Type:',\n",
    ")\n",
    "\n",
    "input_type_dropdown = widgets.Dropdown(\n",
    "    options=[\"Unit Step\", \"Unit Ramp\", \"Unit Parabola\"],\n",
    "    value=\"Unit Step\",\n",
    "    description='Input Type:',\n",
    ")\n",
    "\n",
    "\n",
    "\n",
    "interactive_plot = interactive(simulate_system,\n",
    "                               system_type=system_type_dropdown,\n",
    "                               input_type=input_type_dropdown)\n",
    "display(interactive_plot)\n"
   ]
  },
  {
   "cell_type": "markdown",
   "metadata": {
    "id": "o6BzXmRbCwFm"
   },
   "source": [
    "# Time Domain Specifications"
   ]
  },
  {
   "cell_type": "markdown",
   "metadata": {
    "id": "WrEUiNDwC0bq"
   },
   "source": [
    "## First-Order systems\n",
    "\n",
    "In both the time domain and the frequency domain, we can analyze a system's response. In the time domain, we typically separate the response into two stages: the transient stage and the steady-state stage. Now we want to examine different behaviors in our time domain.\n",
    "\n",
    "Let’s consider a stable first-order system: <br>$$G(s)=\\frac{K}{τs+1}$$<br>\n",
    "For an inital condition of $x(0)=0$, the solution is given by: $$y(t)=K-e^{\\frac{-t}{\\tau}}$$.\n",
    "\n",
    "We are interested in the following time-domain specifications for a stable first-order system:\n",
    "\n",
    "\n",
    "**DC gain**\n",
    "<br>\n",
    "The Steady-state or DC gain **$y_{ss}$** is a measure of how much the systems output responds to an input after the transients effects have died out.\n",
    "In our first order system the DC gain corresponds to K.\n",
    "\n",
    "**Time constant**\n",
    "<br>\n",
    "The time constant **$\\tau$** measures the speed of the system's response.\n",
    " It is defined as the time required for the system's unit step response to reach approximately 63% of its final value.\n",
    "\n",
    "**Settling time**\n",
    "<br>\n",
    "The settling time **$T_d$** is the time it takes for the output to remain within $d\\%$ of the final value. The settling time time can be approximated using the time constant $τ$ using the formula $$T_d=τ \\cdot log(100/d)$$ For $5\\%$ the approximation is $T_d=3\\tau$\n"
   ]
  },
  {
   "cell_type": "code",
   "execution_count": null,
   "metadata": {},
   "outputs": [],
   "source": [
    "def plot_first_order_system(K=3, tau=2):\n",
    "\n",
    "    sys = ct.TransferFunction([K], [tau, 1])\n",
    "\n",
    "    t = np.linspace(0, 10 * tau, 1000)\n",
    "\n",
    "    t, y = ct.step_response(sys, T=t)\n",
    "\n",
    "    tau_time = tau\n",
    "    yss = K\n",
    "    settling_time = -np.log(0.05) * tau\n",
    "\n",
    "    y_tau = K * (1 - np.exp(-tau_time / tau))\n",
    "    y_settling = K * (1 - np.exp(-settling_time / tau))\n",
    "\n",
    "    plt.figure(figsize=(10, 6))\n",
    "\n",
    "    plt.plot(t, y, label=\"Step Response\", color=\"blue\")\n",
    "\n",
    "    plt.plot(t, np.ones_like(t), label=\"Step Input\", color=\"orange\", linestyle='--')\n",
    "\n",
    "    plt.axhline(yss, color=\"red\", linestyle=\"--\")\n",
    "\n",
    "    plt.plot([tau_time, tau_time], [0, y_tau], color=\"green\", linestyle=\"--\")\n",
    "    plt.plot([settling_time, settling_time], [0, y_settling], color=\"purple\", linestyle=\"--\")\n",
    "\n",
    "    plt.text(tau_time, 0, f\"τ    \", color=\"green\", ha=\"center\", va=\"bottom\", fontsize=10, fontweight=\"bold\")\n",
    "    plt.text(settling_time, 0, f\"Settling Time    \", color=\"purple\", ha=\"center\", va=\"bottom\", fontsize=10, fontweight=\"bold\")\n",
    "\n",
    "    plt.text(0, yss, f\"DC Gain\", color=\"red\", ha=\"left\", va=\"bottom\", fontsize=10, fontweight=\"bold\")\n",
    "\n",
    "    plt.xlabel(\"Time (s)\")\n",
    "    plt.ylabel(\"Response\")\n",
    "    plt.title(f\"Step Response of First-Order System: G(s) = {K}/({tau}s + 1)\")\n",
    "    plt.legend(loc=\"best\")\n",
    "    plt.grid(True)\n",
    "    plt.ylim(0, 1.2 * yss)\n",
    "    plt.show()\n",
    "\n",
    "K_slider = widgets.FloatSlider(value=1, min=0.1, max=10, step=0.1, description=\"K:\")\n",
    "tau_slider = widgets.FloatSlider(value=1, min=0.1, max=10, step=0.1, description=\"τ:\")\n",
    "\n",
    "interactive_plot = interactive(plot_first_order_system, K=K_slider, tau=tau_slider)\n",
    "display(interactive_plot)\n"
   ]
  },
  {
   "cell_type": "markdown",
   "metadata": {
    "id": "1p_e10KSC_f8"
   },
   "source": [
    "## Second-Order system\n",
    "\n",
    "For a second-order system in the form:\n",
    "$$G(s) = \\frac{\\omega_n^2}{s^2 + 2 \\zeta \\omega_n s + \\omega_n^2}\n",
    "\\quad \\Longleftrightarrow \\quad\n",
    "\\begin{cases}\n",
    "    \\dot{x} = \\begin{bmatrix} 0 & 1 \\\\ -\\omega_n^2 & -2 \\zeta \\omega_n \\end{bmatrix} x + \\begin{bmatrix} 0 \\\\ \\omega_n^2 \\end{bmatrix} u \\\\\n",
    "    y = x\n",
    "\\end{cases}\n",
    "$$\n",
    "We get the solution by imposing our zero initial condition and solving the algebra:\n",
    "\n",
    "$$y(t) = 1 - \\frac{1}{\\cos \\varphi} e^{\\sigma t} \\cos(\\omega t + \\varphi), \\quad t \\geq 0.$$\n",
    "\n",
    "with $ϕ=arctan(\\frac{σ}{ω})$\n",
    "\n",
    "$\\omega_n$ denotes the natural frequency of our system, sometimes also called the eigenfrequency. The natural frequency is defined as $\\omega_n^2=\\sigma^2+\\omega^2$ and can be calculated from the pole of the system $s=\\sigma+j\\omega$.\n",
    "\n",
    "The damping factor $\\zeta = \\frac{\\sigma}{\\omega_n}$ can be used to categorize our system into the following cases:\n",
    "\n",
    "* $ζ<0$, underdamped\n",
    "* $ζ=0$, critically damped\n",
    "* $ζ>0$, overdamped\n",
    "\n",
    "We can see that the location of the pole in our system determines the natural frequency, the damping ratio, and the time-domain specifications.\n"
   ]
  },
  {
   "cell_type": "code",
   "execution_count": null,
   "metadata": {},
   "outputs": [],
   "source": [
    "def plot_damping_responses(omega_n):\n",
    "    damping_ratios = {\n",
    "        \"Underdamped (ζ < 1)\": 0.5,\n",
    "        \"Critically Damped (ζ = 1)\": 1.0,\n",
    "        \"Overdamped (ζ > 1)\": 1.5\n",
    "    }\n",
    "\n",
    "    t = np.linspace(0, 10, 500)\n",
    "\n",
    "    plt.figure(figsize=(12, 8))\n",
    "\n",
    "    for label, zeta in damping_ratios.items():\n",
    "        num = [omega_n**2]\n",
    "        den = [1, 2*zeta*omega_n, omega_n**2]\n",
    "        system = signal.TransferFunction(num, den)\n",
    "\n",
    "        t, response = signal.step(system, T=t)\n",
    "\n",
    "        plt.plot(t, response, label=label)\n",
    "\n",
    "    plt.title('Step Responses of Second Order Systems')\n",
    "    plt.xlabel('Time [s]')\n",
    "    plt.ylabel('Response')\n",
    "    plt.axhline(1, color='gray', linestyle='--', linewidth=0.8)\n",
    "    plt.grid(True)\n",
    "    plt.legend()\n",
    "    plt.show()\n",
    "\n",
    "omega_n_slider = FloatSlider(value=1.0, min=0.1, max=10.0, step=0.1, description='ωₙ')\n",
    "\n",
    "interactive_plot = interactive(plot_damping_responses, omega_n=omega_n_slider)\n",
    "\n",
    "display(interactive_plot)\n"
   ]
  },
  {
   "cell_type": "markdown",
   "metadata": {
    "id": "CbhNngjGs9FG"
   },
   "source": [
    "### Time-Domain Specifications for a second order system\n",
    "\n",
    "\n",
    "**Steady-state Gain**\n",
    "\n",
    "The Steady-state Gain remains the same with that for the first order system.\n",
    "The time constant $\\tau$ can be calculated using the formula:<br><br>  $$τ=\\frac{1}{{|\\sigma|}}$$.\n",
    "\n",
    "**Settling Time**\n",
    "\n",
    "The settling time $$T_d= \\tau\\cdot log(\\frac{100}{d})$$<br> is also the same as in the first order system.\n",
    " For an overdamped system, where the poles are real and distinct, the settling time $T_d$ should be calculated using the pole with the largest time constant $\\tau$. This pole represents the slowest decay rate, which dominates the system's response.\n",
    "\n",
    "\n",
    "**Time to peak**\n",
    "\n",
    "The time to peak is the duration it takes for the system response to reach its maximum value after a unit step input. For underdamped systems, it is given by:\n",
    "$$T_p=\\frac{\\pi}{\\omega}$$\n",
    "\n",
    "**Hint:**\n",
    "To calculate $\\omega$ given natural frequency $w_n$ and damping coefficent $\\zeta$ use  formula: $\\omega=\\omega_n\\sqrt{1-\\zeta^2}$\n",
    "\n",
    "\n",
    "**Peak Overshoot Ratio**\n",
    "\n",
    "The peak overshoot ratio is the maximum amount, by which the response exceeds the steady-state value. It can be expressed as:<br><br> $$M_p=e^{\\frac{\\sigma\\pi}{\\omega}}$$ <br> Alternatively, it can be related to the damping ratio $\\zeta$ using: $\\zeta^2=\\frac{(lnM_p)^2}{\\pi^2+(lnM_p)^2}$\n",
    "\n",
    "**Rise Time**\n",
    "\n",
    "The rise time is defined as the time required for the response to rise from 0% to 100% of the steady-state value.\n",
    "\n",
    "$T_{100\\%}=\\frac{\\frac{\\pi}{2}-\\phi}{\\omega}\\approx \\frac{\\pi}{2\\omega_n}$\n",
    "\n",
    "#### Visualisation\n",
    "You can adjust the damping ratio and the natural frequency of the systems with the sliders. By pressing the buttons, you can display the different time-domain specifications. Observe how they change when you adjust the system's parameters."
   ]
  },
  {
   "cell_type": "code",
   "execution_count": null,
   "metadata": {},
   "outputs": [],
   "source": [
    "def plot_step_response(omega_n, zeta, show_time_to_peak, show_peak_overshoot, show_rise_time, show_settling_time, show_time_constant):\n",
    "\n",
    "    num = [omega_n**2]\n",
    "    den = [1, 2*zeta*omega_n, omega_n**2]\n",
    "    system = signal.TransferFunction(num, den)\n",
    "\n",
    "\n",
    "    t = np.linspace(0, 20, 500)\n",
    "    t, response = signal.step(system, T=t)\n",
    "\n",
    "    # Time to Peak\n",
    "    Tp = np.pi / (omega_n * np.sqrt(1 - zeta**2)) if zeta < 1 else np.nan\n",
    "\n",
    "    # Peak Overshoot Ratio\n",
    "    OS = np.exp(-zeta * np.pi / np.sqrt(1 - zeta**2)) * 100 if zeta < 1 else np.nan\n",
    "\n",
    "    # Rise Time\n",
    "    Tr = (1.8 / omega_n) if zeta < 0.69 else (np.nan if zeta > 1 else np.nan)\n",
    "\n",
    "    # Settling Time\n",
    "    Ts = 4 / (zeta * omega_n) if zeta > 0 else np.nan\n",
    "\n",
    "    # Time Constant\n",
    "    tau = 1 / (zeta * omega_n) if zeta > 0 else np.nan\n",
    "\n",
    "    plt.figure(figsize=(20, 6))\n",
    "\n",
    "    plt.subplot(1, 2, 1)\n",
    "    plt.plot(t, response, label='Step Response')\n",
    "\n",
    "    if show_time_to_peak and not np.isnan(Tp):\n",
    "        plt.text(Tp, 0, f'Tp  ', color='red', fontsize=10, ha='right')\n",
    "        plt.plot([Tp, Tp], [0, response[np.where(t >= Tp)[0][0]]], color='r', linestyle='--')\n",
    "\n",
    "    if show_peak_overshoot:\n",
    "        plt.text(Tp, response.max(), f'OS', color='red', fontsize=10, ha='center', va='bottom')\n",
    "\n",
    "    if show_rise_time and not np.isnan(Tr):\n",
    "        plt.text(Tr,0, f'T100%   ', color='green', fontsize=10, ha='right')\n",
    "        plt.plot([Tr, Tr], [0, response[np.where(t >= Tr)[0][0]]], color='g', linestyle='--')\n",
    "\n",
    "    if show_settling_time and not np.isnan(Ts):\n",
    "        plt.text(Ts, 0, f'Td ', color='magenta', fontsize=10, ha='right')\n",
    "        plt.plot([Ts, Ts], [0, response[np.where(t >= Ts)[0][0]]], color='m', linestyle='--')\n",
    "\n",
    "    if show_time_constant and not np.isnan(tau):\n",
    "        plt.text(tau, 0, f'τ ', color='cyan', fontsize=10, ha='right')\n",
    "        plt.plot([tau, tau], [0, response[np.where(t >= tau)[0][0]]], color='c', linestyle='--')\n",
    "\n",
    "    plt.title('Step Response of Second Order System')\n",
    "    plt.xlabel('Time [s]')\n",
    "    plt.ylabel('Response')\n",
    "    plt.legend()\n",
    "    plt.grid(True)\n",
    "    plt.ylim(0, 1.1 * response.max())\n",
    "\n",
    "    poles = np.roots(den)\n",
    "\n",
    "    # Pole Plot\n",
    "    plt.subplot(1, 2, 2)\n",
    "    plt.scatter(np.real(poles), np.imag(poles), color='blue', marker='x')\n",
    "    plt.axhline(0, color='gray', linestyle='--', linewidth=0.5)\n",
    "    plt.axvline(0, color='gray', linestyle='--', linewidth=0.5)\n",
    "    plt.title('Poles of the System')\n",
    "    plt.xlabel('Real Part')\n",
    "    plt.ylabel('Imaginary Part')\n",
    "    plt.grid(True)\n",
    "\n",
    "    plt.tight_layout()\n",
    "    plt.show()\n",
    "\n",
    "omega_n_slider = FloatSlider(value=1.0, min=0.1, max=10.0, step=0.1, description='ωₙ')\n",
    "zeta_slider = FloatSlider(value=0.5, min=0.0, max=2.0, step=0.1, description='ζ')\n",
    "\n",
    "show_time_to_peak_btn = ToggleButton(value=False, description='Time to Peak', button_style='info')\n",
    "show_peak_overshoot_btn = ToggleButton(value=False, description='Peak Overshoot', button_style='info')\n",
    "show_rise_time_btn = ToggleButton(value=False, description='Rise Time (T100%)', button_style='info')\n",
    "show_settling_time_btn = ToggleButton(value=False, description='Settling Time', button_style='info')\n",
    "show_time_constant_btn = ToggleButton(value=False, description='Time Constant', button_style='info')\n",
    "\n",
    "interactive_plot = interactive(\n",
    "    plot_step_response,\n",
    "    omega_n=omega_n_slider,\n",
    "    zeta=zeta_slider,\n",
    "    show_time_to_peak=show_time_to_peak_btn,\n",
    "    show_peak_overshoot=show_peak_overshoot_btn,\n",
    "    show_rise_time=show_rise_time_btn,\n",
    "    show_settling_time=show_settling_time_btn,\n",
    "    show_time_constant=show_time_constant_btn\n",
    ")\n",
    "\n",
    "display(interactive_plot)\n"
   ]
  },
  {
   "cell_type": "markdown",
   "metadata": {
    "id": "ONMQ32Oy7shg"
   },
   "source": [
    "### Constraints on Time-Domain Specifications\n",
    "\n",
    "Imposing constraints on time-domain specifications restricts the permissible locations of system poles. For detailed derivations and formulas, refer to Problem Set 07.\n",
    "\n",
    "**Settling Time**\n",
    "\n",
    "Limiting the settling time $T_s$ constrains how far poles can be from the imaginary axis in the left-hand plane. A shorter settling time requires poles to be further to the left, indicating faster decay of the response.\n",
    "\n",
    "**Peak Overshoot Ratio**\n",
    "\n",
    "Restricting the peak overshoot ratio $M_p$ imposes a limit on the damping coefficient $\\zeta$. Poles must lie within a cone defined by the angle $\\theta = \\arcsin(\\zeta)$. A smaller overshoot requires a larger damping ratio, resulting in a narrower cone and poles closer to the real axis.\n",
    "\n",
    "**Rise Time**\n",
    "\n",
    "Limiting the rise time $T_{90}$ dictates a minimum natural frequency $\\omega_n$ for the system. Since $\\omega_n = \\sqrt{\\sigma^2 + \\omega^2}$, the poles must lie outside a circle with radius $\\omega_n$. A faster rise time necessitates a higher natural frequency, pushing the poles further away from the origin.\n",
    "\n",
    "### Visualisation\n",
    "Try calculating the different restrictions yourself and verify them against the plot. To satisfy the constraints, the pole must lie within the blue cone, outside the yellow circle, and to the left of the red line."
   ]
  },
  {
   "cell_type": "code",
   "execution_count": null,
   "metadata": {},
   "outputs": [],
   "source": [
    "def plot_pole_cone(max_overshoot, T_90, T_s):\n",
    "\n",
    "    zeta = -np.log(max_overshoot / 100) / np.sqrt(np.pi**2 + (np.log(max_overshoot / 100))**2)\n",
    "\n",
    "    theta = np.arcsin(zeta)\n",
    "\n",
    "    cone_angle = theta\n",
    "    cone_slope = 1 / np.tan(cone_angle)\n",
    "\n",
    "    real_parts = np.linspace(-200, 0, 400)\n",
    "\n",
    "    imag_upper = cone_slope * (-real_parts)\n",
    "    imag_lower = -imag_upper\n",
    "\n",
    "    omega_n = (0.14 + 0.4 * zeta) * (2 * np.pi / T_90)\n",
    "\n",
    "    sigma = -np.log(0.02) / T_s\n",
    "\n",
    "    plt.figure(figsize=(10, 10))\n",
    "\n",
    "    plt.fill_between(real_parts, imag_upper, imag_lower, color='lightblue', alpha=0.5, label=f'θ = {theta* (180 / 3.14):.2f}°')\n",
    "\n",
    "    circle = plt.Circle((0, 0), omega_n, color='orange', fill=False, linestyle='--', label=f'ω_n >= {omega_n:.2f}')\n",
    "    plt.gca().add_artist(circle)\n",
    "\n",
    "    plt.axvline(x=-sigma, color='red', linestyle='--', label=f'σ <= -{sigma:.2f}')\n",
    "\n",
    "    # Draw the axes\n",
    "    plt.axhline(0, color='black', lw=0.5, ls='--')\n",
    "    plt.axvline(0, color='black', lw=0.5, ls='--')\n",
    "\n",
    "    plt.title(f'Permissible Pole Locations  (Max Overshoot = {max_overshoot}%, T90 = {T_90}s, Ts = {T_s}s)')\n",
    "    plt.xlim(-70, 70)\n",
    "    plt.ylim(-70,70 )\n",
    "    plt.xlabel('Real Part')\n",
    "    plt.ylabel('Imaginary Part')\n",
    "    plt.grid()\n",
    "    plt.legend()\n",
    "\n",
    "    plt.show()\n",
    "\n",
    "max_overshoot_slider = widgets.FloatSlider(value=10, min=0, max=100, step=1, description='Max Overshoot (%)')\n",
    "\n",
    "T_90_slider = widgets.FloatSlider(value=0.05, min=0.01, max=1, step=0.01, description='Rise Time T90 (s)')\n",
    "\n",
    "T_s_slider = widgets.FloatSlider(value=0.1, min=0.01, max=5, step=0.01, description='Settling Time Ts (s)')\n",
    "\n",
    "interactive_plot = widgets.interactive(plot_pole_cone,\n",
    "                                       max_overshoot=max_overshoot_slider,\n",
    "                                       T_90=T_90_slider,\n",
    "                                       T_s=T_s_slider)\n",
    "display(interactive_plot)\n"
   ]
  },
  {
   "cell_type": "markdown",
   "metadata": {},
   "source": [
    "# Dominant Poles\n",
    "\n",
    "Systems higher than 2 dimesions are often not so easy to analyse as it is. Hence one needs to find ways to ease ou the analysis. A common trick to this in all of engineering is using approximations. If one can approximate a system behavioour with another simpler system, while still ebing able to capture *most* of the subtleties, then it is a good approximation.\n",
    "\n",
    "For higher order systems, we do try to approximate the system as a *second-order* or sometimes, even a *first order* system. To understnad how this is done, lets take a look at the partial fraction form of th transfer function.\n",
    "\n",
    "$$\n",
    "G(s) = \\frac{r_1}{s-p_1} + \\frac{r_2}{s-p_2} + \\frac{r_3}{s-p_3} + \\frac{r_4}{s-p_4} + \\ldots\\quad \\Leftrightarrow \n",
    "\\quad g(t) = r_1 e^{p_1t} + r_2 e^{p_2t} + r_3 e^{p_3t} + r_4 e^{p_4t} + \\ldots\n",
    "$$\n",
    "\n",
    "On observing this form closely one can see that the system response should be governed by the terms which have larger values of poles (if the system is stable, poles closer to zero), and with larger residues. Reponse of terms with smaller or more negative poles die out faster than the ones with larger pole values and hence it can be ignored. One top if that, smaller residues mean that its contribution to the final response is very small (since residues are multiplier in the response).\n",
    "\n",
    "Hence only a few **Dominant Poles** contribute majorly to the response and we can approximate the system  behaviour using them, hence then name **Dominant Pole approximation**.\n",
    "\n",
    "Dominant poles for a stable system are\n",
    "* The poles with the least negative real part (or largest real part)\n",
    "* Except in the case if that pole also has a very small residue. The reson for smaller residues is typically due to a nearby zero represses the response.\n",
    "\n",
    "\n",
    "\n"
   ]
  },
  {
   "cell_type": "markdown",
   "metadata": {},
   "source": [
    "Below, you can run the code and then enter the transfer function you want to evaluate (you can choose nay form you want to enter), and specify the number of poles you want to approximate it to and you can visualise the behaviour of the actual system and the approximate system."
   ]
  },
  {
   "cell_type": "code",
   "execution_count": null,
   "metadata": {},
   "outputs": [
    {
     "data": {
      "application/vnd.jupyter.widget-view+json": {
       "model_id": "d5ee59f05aca42a1a7a71f0b0d2d9edc",
       "version_major": 2,
       "version_minor": 0
      }
     },
     "metadata": {},
     "output_type": "display_data"
    },
    {
     "data": {
      "application/vnd.jupyter.widget-view+json": {
       "model_id": "199ac217999542d8a0a5a8786697a886",
       "version_major": 2,
       "version_minor": 0
      },
      "text/plain": [
       "Text(value='', description='Zeros:', placeholder='Enter zeros, comma-separated')"
      ]
     },
     "metadata": {},
     "output_type": "display_data"
    },
    {
     "data": {
      "application/vnd.jupyter.widget-view+json": {
       "model_id": "f8e9cfd2b1ac42368326ccf62a826336",
       "version_major": 2,
       "version_minor": 0
      },
      "text/plain": [
       "Text(value='', description='Poles:', placeholder='Enter poles, comma-separated')"
      ]
     },
     "metadata": {},
     "output_type": "display_data"
    },
    {
     "data": {
      "application/vnd.jupyter.widget-view+json": {
       "model_id": "a46b05326beb479484f9efdaf5b90637",
       "version_major": 2,
       "version_minor": 0
      },
      "text/plain": [
       "Text(value='1', description='Gain K:', placeholder='Enter gain K')"
      ]
     },
     "metadata": {},
     "output_type": "display_data"
    },
    {
     "data": {
      "application/vnd.jupyter.widget-view+json": {
       "model_id": "bec626944769487c8d9b20661fcef6da",
       "version_major": 2,
       "version_minor": 0
      },
      "text/plain": [
       "BoundedIntText(value=1, description='Dominant Poles:', max=10, min=1)"
      ]
     },
     "metadata": {},
     "output_type": "display_data"
    },
    {
     "data": {
      "application/vnd.jupyter.widget-view+json": {
       "model_id": "044ce63f57af4d80acaec52ee29e4d47",
       "version_major": 2,
       "version_minor": 0
      },
      "text/plain": [
       "Select(description='Response Comparison:', index=1, options=('Impulse Response', 'Step Response', 'Bode Plot')…"
      ]
     },
     "metadata": {},
     "output_type": "display_data"
    },
    {
     "data": {
      "application/vnd.jupyter.widget-view+json": {
       "model_id": "0a61897e88d04fb584d5df85fe35f562",
       "version_major": 2,
       "version_minor": 0
      },
      "text/plain": [
       "Button(description='Calculate Transfer Function', style=ButtonStyle())"
      ]
     },
     "metadata": {},
     "output_type": "display_data"
    },
    {
     "data": {
      "application/vnd.jupyter.widget-view+json": {
       "model_id": "5a5ec62e6ab240a9ab8e5ceeb29d7045",
       "version_major": 2,
       "version_minor": 0
      },
      "text/plain": [
       "Output()"
      ]
     },
     "metadata": {},
     "output_type": "display_data"
    }
   ],
   "source": [
    "import numpy as np\n",
    "import sympy as sp\n",
    "from scipy.signal import zpk2tf, residue, TransferFunction, bode, step, impulse\n",
    "import ipywidgets as widgets\n",
    "from IPython.display import display, clear_output, Math, Latex\n",
    "import matplotlib.pyplot as plt\n",
    "\n",
    "def parse_complex(s):\n",
    "    \"\"\"Parse a string into a complex number, handling 'i' as 'j'.\"\"\"\n",
    "    try:\n",
    "        return complex(s.replace('i', 'j').replace(' ', ''))\n",
    "    except:\n",
    "        raise ValueError(f\"Invalid complex number: {s}\")\n",
    "\n",
    "def dominant_pole_approximation(num, den, num_poles):\n",
    "    \"\"\"Perform dominant pole approximation by retaining specified number of poles.\"\"\"\n",
    "    # Find poles and zeros\n",
    "    zeros = np.roots(num)\n",
    "    poles = np.roots(den)\n",
    "\n",
    "    # Sort poles by their real parts (smallest real part indicates dominant poles)\n",
    "    poles_sorted = poles[np.argsort(np.abs(np.real(poles)))]\n",
    "    dominant_poles = poles_sorted[:num_poles]\n",
    "\n",
    "    # Reconstruct the approximated denominator polynomial\n",
    "    den_approx = np.poly(dominant_poles)\n",
    "\n",
    "    # For zeros, we'll keep all zeros for now (you might adjust this based on your approximation needs)\n",
    "    num_approx = num.copy()\n",
    "\n",
    "    # Adjust the gain to match the DC gain (or another frequency if desired)\n",
    "    # Compute DC gain of original system\n",
    "    w0 = 0  # DC frequency\n",
    "    _, mag_orig, _ = bode(TransferFunction(num, den), [w0])\n",
    "    _, mag_approx, _ = bode(TransferFunction(num_approx, den_approx), [w0])\n",
    "\n",
    "    # Adjust the numerator to match the DC gain\n",
    "    gain_adjustment = 10**((mag_orig[0] - mag_approx[0])/20)\n",
    "    num_approx = gain_adjustment * num_approx\n",
    "\n",
    "    return num_approx, den_approx\n",
    "\n",
    "def display_transfer_function(num, den, zeros, poles, residues, poles_res, k_res, num_approx=None, den_approx=None, plot_type='Bode Plot', output_area=None):\n",
    "    \"\"\"Display the transfer function in various forms and plot the selected response.\"\"\"\n",
    "    with output_area:\n",
    "        clear_output()  # Clear previous output in the output area\n",
    "        s = sp.symbols('s', complex=True)\n",
    "\n",
    "        # Original Transfer Function\n",
    "        display(Latex(r'### Original Transfer Function'))\n",
    "        # Rational Function Form\n",
    "        num_poly = sp.Poly(num, s)\n",
    "        den_poly = sp.Poly(den, s)\n",
    "        H_s = num_poly.as_expr() / den_poly.as_expr()\n",
    "        display(Latex('**Rational Function Form:**'))\n",
    "        display(Math(r'H(s) = \\frac{%s}{%s}' % (sp.latex(num_poly.as_expr()), sp.latex(den_poly.as_expr()))))\n",
    "\n",
    "        # Factored Form\n",
    "        zeros_expr = sp.Mul(*[s - z for z in zeros])\n",
    "        poles_expr = sp.Mul(*[s - p for p in poles])\n",
    "        gain = num[0] / den[0]\n",
    "        display(Latex('**Factored Form:**'))\n",
    "        display(Math(r'H(s) = %s \\times \\frac{%s}{%s}' % (sp.latex(gain), sp.latex(zeros_expr), sp.latex(poles_expr))))\n",
    "\n",
    "        # Partial Fraction Expansion\n",
    "        partial_frac_terms = [r'\\frac{%s}{s - (%s)}' % (sp.latex(r), sp.latex(p)) for r, p in zip(residues, poles_res)]\n",
    "        partial_frac = ' + '.join(partial_frac_terms)\n",
    "        if k_res.size > 0:\n",
    "            k_poly = sp.Poly(k_res, s)\n",
    "            k_expr = sp.latex(k_poly.as_expr())\n",
    "            partial_frac += ' + ' + k_expr\n",
    "        # display(Latex('**Partial Fraction Expansion:**'))\n",
    "        # display(Math('H(s) = %s' % partial_frac))\n",
    "\n",
    "        display(Latex(r'**Partial Fraction Expansion:**'))\n",
    "        display(Math(r'H(s) = %s' % partial_frac))\n",
    "\n",
    "\n",
    "        # Plotting\n",
    "        display(Latex(f'**{plot_type}:**'))\n",
    "        # Create a TransferFunction object\n",
    "        system = TransferFunction(num, den)\n",
    "\n",
    "        if num_approx is not None and den_approx is not None:\n",
    "            # Create TransferFunction object for approximated system\n",
    "            system_approx = TransferFunction(num_approx, den_approx)\n",
    "\n",
    "        if plot_type == 'Bode Plot':\n",
    "            # Bode Plot\n",
    "            w = np.logspace(-2, 2, 1000)\n",
    "            w, mag, phase = bode(system, w=w)\n",
    "\n",
    "            # Plotting\n",
    "            fig, (ax_mag, ax_phase) = plt.subplots(2, 1, figsize=(10, 8))\n",
    "\n",
    "            # Magnitude plot\n",
    "            ax_mag.semilogx(w, mag, label='Original')  # Bode magnitude plot\n",
    "            ax_mag.set_title('Bode Plot')\n",
    "            ax_mag.set_ylabel('Magnitude (dB)')\n",
    "            ax_mag.grid(True, which='both', linestyle='--')\n",
    "\n",
    "            # Phase plot\n",
    "            ax_phase.semilogx(w, phase, label='Original')  # Bode phase plot\n",
    "            ax_phase.set_xlabel('Frequency (rad/s)')\n",
    "            ax_phase.set_ylabel('Phase (degrees)')\n",
    "            ax_phase.grid(True, which='both', linestyle='--')\n",
    "\n",
    "            if num_approx is not None and den_approx is not None:\n",
    "                # Bode Plot of Approximated Function\n",
    "                w_approx, mag_approx, phase_approx = bode(system_approx, w=w)\n",
    "\n",
    "                # Plot the approximated magnitude and phase\n",
    "                ax_mag.semilogx(w_approx, mag_approx, label='Approximated')\n",
    "                ax_phase.semilogx(w_approx, phase_approx, label='Approximated')\n",
    "\n",
    "                ax_mag.legend()\n",
    "                ax_phase.legend()\n",
    "\n",
    "            plt.tight_layout()\n",
    "            plt.show()\n",
    "\n",
    "        elif plot_type == 'Impulse Response':\n",
    "            # Impulse Response\n",
    "            t, y = impulse(system)\n",
    "            fig, ax = plt.subplots(figsize=(10, 6))\n",
    "            ax.plot(t, y, label='Original')\n",
    "            ax.set_title('Impulse Response')\n",
    "            ax.set_xlabel('Time (s)')\n",
    "            ax.set_ylabel('Amplitude')\n",
    "            ax.grid(True)\n",
    "\n",
    "            if num_approx is not None and den_approx is not None:\n",
    "                t_approx, y_approx = impulse(system_approx, T=t)\n",
    "                ax.plot(t_approx, y_approx, label='Approximated')\n",
    "\n",
    "            ax.legend()\n",
    "            plt.show()\n",
    "\n",
    "        elif plot_type == 'Step Response':\n",
    "            # Step Response\n",
    "            t, y = step(system)\n",
    "            fig, ax = plt.subplots(figsize=(10, 6))\n",
    "            ax.plot(t, y, label='Original')\n",
    "            ax.set_title('Step Response')\n",
    "            ax.set_xlabel('Time (s)')\n",
    "            ax.set_ylabel('Amplitude')\n",
    "            ax.grid(True)\n",
    "\n",
    "            if num_approx is not None and den_approx is not None:\n",
    "                t_approx, y_approx = step(system_approx, T=t)\n",
    "                ax.plot(t_approx, y_approx, label='Approximated')\n",
    "\n",
    "            ax.legend()\n",
    "            plt.show()\n",
    "\n",
    "def on_option_change(change):\n",
    "    \"\"\"Update input widgets based on the selected option.\"\"\"\n",
    "    clear_output()\n",
    "    option = option_widget.value\n",
    "    output_area = widgets.Output()\n",
    "\n",
    "    # Input widget for number of dominant poles\n",
    "    num_poles_input = widgets.BoundedIntText(\n",
    "        value=1,\n",
    "        min=1,\n",
    "        max=10,\n",
    "        step=1,\n",
    "        description='Dominant Poles:',\n",
    "        disabled=False\n",
    "    )\n",
    "\n",
    "    # Plot type selection\n",
    "    plot_type_widget = widgets.Select(\n",
    "        options=['Impulse Response', 'Step Response', 'Bode Plot'],\n",
    "        value='Step Response',\n",
    "        description='Response Comparison:',\n",
    "        disabled=False\n",
    "    )\n",
    "\n",
    "    if option in [1, 2]:\n",
    "        # Input widgets for zeros, poles, and gain K\n",
    "        zeros_input = widgets.Text(description='Zeros:', placeholder='Enter zeros, comma-separated')\n",
    "        poles_input = widgets.Text(description='Poles:', placeholder='Enter poles, comma-separated')\n",
    "        gain_input = widgets.Text(description='Gain K:', value='1', placeholder='Enter gain K')\n",
    "        calc_button = widgets.Button(description='Calculate Transfer Function')\n",
    "        \n",
    "        display(option_widget, zeros_input, poles_input, gain_input, num_poles_input, plot_type_widget, calc_button, output_area)\n",
    "        \n",
    "        def calculate_transfer_function(b):\n",
    "            try:\n",
    "                zeros_list = [parse_complex(z) for z in zeros_input.value.split(',') if z.strip()]\n",
    "                poles_list = [parse_complex(p) for p in poles_input.value.split(',') if p.strip()]\n",
    "                gain = float(gain_input.value)\n",
    "                num_poles = num_poles_input.value\n",
    "                plot_type = plot_type_widget.value\n",
    "                \n",
    "                zeros = np.array(zeros_list, dtype=np.complex128)\n",
    "                poles = np.array(poles_list, dtype=np.complex128)\n",
    "                num, den = zpk2tf(zeros, poles, gain)\n",
    "                residues, poles_res, k_res = residue(num, den)\n",
    "                \n",
    "                # Perform dominant pole approximation\n",
    "                num_approx, den_approx = dominant_pole_approximation(num, den, num_poles)\n",
    "                \n",
    "                display_transfer_function(num, den, zeros, poles, residues, poles_res, k_res, num_approx, den_approx, plot_type, output_area)\n",
    "            except Exception as e:\n",
    "                with output_area:\n",
    "                    clear_output()\n",
    "                    display(Latex(f'Error: {e}'))\n",
    "        \n",
    "        calc_button.on_click(calculate_transfer_function)\n",
    "        \n",
    "    elif option == 3:\n",
    "        # Input widgets for residues and poles\n",
    "        residues_input = widgets.Text(description='Residues:', placeholder='Enter residues, comma-separated')\n",
    "        poles_input = widgets.Text(description='Poles:', placeholder='Enter poles, comma-separated')\n",
    "        direct_term_input = widgets.Text(description='Direct Term:', placeholder='Optional, highest power first')\n",
    "        calc_button = widgets.Button(description='Calculate Transfer Function')\n",
    "        \n",
    "        display(option_widget, residues_input, poles_input, direct_term_input, num_poles_input, plot_type_widget, calc_button, output_area)\n",
    "        \n",
    "        def calculate_transfer_function(b):\n",
    "            try:\n",
    "                residues_list = [parse_complex(r) for r in residues_input.value.split(',') if r.strip()]\n",
    "                poles_list = [parse_complex(p) for p in poles_input.value.split(',') if p.strip()]\n",
    "                k_list = [parse_complex(k) for k in direct_term_input.value.split(',') if k.strip()] if direct_term_input.value.strip() else []\n",
    "                num_poles = num_poles_input.value\n",
    "                plot_type = plot_type_widget.value\n",
    "                \n",
    "                residues = np.array(residues_list, dtype=np.complex128)\n",
    "                poles_res = np.array(poles_list, dtype=np.complex128)\n",
    "                k_res = np.array(k_list, dtype=np.complex128)\n",
    "                num, den = residue(residues, poles_res, k_res)\n",
    "                zeros = np.roots(num)\n",
    "                poles = np.roots(den)\n",
    "                \n",
    "                # Perform dominant pole approximation\n",
    "                num_approx, den_approx = dominant_pole_approximation(num, den, num_poles)\n",
    "                \n",
    "                display_transfer_function(num, den, zeros, poles, residues, poles_res, k_res, num_approx, den_approx, plot_type, output_area)\n",
    "            except Exception as e:\n",
    "                with output_area:\n",
    "                    clear_output()\n",
    "                    display(Latex(f'Error: {e}'))\n",
    "        \n",
    "        calc_button.on_click(calculate_transfer_function)\n",
    "    \n",
    "    elif option == 4:\n",
    "        # Input widgets for numerator and denominator coefficients\n",
    "        num_coeffs_input = widgets.Text(description='Numerator Coeffs:', placeholder='Enter coeffs, comma-separated')\n",
    "        den_coeffs_input = widgets.Text(description='Denominator Coeffs:', placeholder='Enter coeffs, comma-separated')\n",
    "        calc_button = widgets.Button(description='Calculate Transfer Function')\n",
    "        \n",
    "        display(option_widget, num_coeffs_input, den_coeffs_input, num_poles_input, plot_type_widget, calc_button, output_area)\n",
    "        \n",
    "        def calculate_transfer_function(b):\n",
    "            try:\n",
    "                num_coeffs_list = [parse_complex(c) for c in num_coeffs_input.value.split(',') if c.strip()]\n",
    "                den_coeffs_list = [parse_complex(c) for c in den_coeffs_input.value.split(',') if c.strip()]\n",
    "                num_poles = num_poles_input.value\n",
    "                plot_type = plot_type_widget.value\n",
    "                \n",
    "                num = np.array(num_coeffs_list, dtype=np.complex128)\n",
    "                den = np.array(den_coeffs_list, dtype=np.complex128)\n",
    "                \n",
    "                zeros = np.roots(num)\n",
    "                poles = np.roots(den)\n",
    "                \n",
    "                residues, poles_res, k_res = residue(num, den)\n",
    "                \n",
    "                # Perform dominant pole approximation\n",
    "                num_approx, den_approx = dominant_pole_approximation(num, den, num_poles)\n",
    "                \n",
    "                display_transfer_function(num, den, zeros, poles, residues, poles_res, k_res, num_approx, den_approx, plot_type, output_area)\n",
    "            except Exception as e:\n",
    "                with output_area:\n",
    "                    clear_output()\n",
    "                    display(Latex(f'Error: {e}'))\n",
    "        \n",
    "        calc_button.on_click(calculate_transfer_function)\n",
    "        \n",
    "    else:\n",
    "        display(Latex('Invalid option selected.'))\n",
    "\n",
    "option_widget = widgets.Dropdown(\n",
    "    options=[\n",
    "        ('Enter zeros and poles (Option 1)', 1),\n",
    "        ('Enter zeros and poles (Option 2)', 2),\n",
    "        ('Enter residues and poles (Option 3)', 3),\n",
    "        ('Enter numerator and denominator coefficients (Option 4)', 4)\n",
    "    ],\n",
    "    value=1,\n",
    "    description='Input Type:'\n",
    ")\n",
    "\n",
    "option_widget.observe(on_option_change, names='value')\n",
    "display(option_widget)\n",
    "on_option_change(None)  # Initialize with the default option\n"
   ]
  },
  {
   "cell_type": "markdown",
   "metadata": {},
   "source": [
    "# PID Control\n",
    "\n",
    "**PID control** or *Propotional-Integral-Derivative* control is a very common type of control used ina large variety of use cases. It is perhaps the most commonly used control algorithm. "
   ]
  },
  {
   "cell_type": "code",
   "execution_count": 35,
   "metadata": {},
   "outputs": [
    {
     "data": {
      "application/vnd.jupyter.widget-view+json": {
       "model_id": "33b60fe8f66e4e3ea8753026b22847ce",
       "version_major": 2,
       "version_minor": 0
      },
      "text/plain": [
       "Text(value='', description='Plant Numerator:', placeholder='Enter coeffs, highest power first')"
      ]
     },
     "metadata": {},
     "output_type": "display_data"
    },
    {
     "data": {
      "application/vnd.jupyter.widget-view+json": {
       "model_id": "bc308093f44b49c697132c231f9f2725",
       "version_major": 2,
       "version_minor": 0
      },
      "text/plain": [
       "Text(value='', description='Plant Denominator:', placeholder='Enter coeffs, highest power first')"
      ]
     },
     "metadata": {},
     "output_type": "display_data"
    },
    {
     "data": {
      "text/latex": [
       "**Select Controller Terms:**"
      ],
      "text/plain": [
       "<IPython.core.display.Latex object>"
      ]
     },
     "metadata": {},
     "output_type": "display_data"
    },
    {
     "data": {
      "application/vnd.jupyter.widget-view+json": {
       "model_id": "838a8df5c7e74f18897596ba6fd1b706",
       "version_major": 2,
       "version_minor": 0
      },
      "text/plain": [
       "Checkbox(value=True, description='Proportional (Kp)')"
      ]
     },
     "metadata": {},
     "output_type": "display_data"
    },
    {
     "data": {
      "application/vnd.jupyter.widget-view+json": {
       "model_id": "d45c13d91acb48f8b433355ffcd01007",
       "version_major": 2,
       "version_minor": 0
      },
      "text/plain": [
       "Text(value='1', description='Kp:', placeholder='Enter Kp value')"
      ]
     },
     "metadata": {},
     "output_type": "display_data"
    },
    {
     "data": {
      "application/vnd.jupyter.widget-view+json": {
       "model_id": "a5c5f1082f6043fd9efe52ca8fc14a82",
       "version_major": 2,
       "version_minor": 0
      },
      "text/plain": [
       "Checkbox(value=False, description='Integral (Ki)')"
      ]
     },
     "metadata": {},
     "output_type": "display_data"
    },
    {
     "data": {
      "application/vnd.jupyter.widget-view+json": {
       "model_id": "67e3a30b7ead4dea81da1502b0ec4ba9",
       "version_major": 2,
       "version_minor": 0
      },
      "text/plain": [
       "Text(value='0', description='Ki:', placeholder='Enter Ki value')"
      ]
     },
     "metadata": {},
     "output_type": "display_data"
    },
    {
     "data": {
      "application/vnd.jupyter.widget-view+json": {
       "model_id": "7b433e4698464c5580ec3687fb7687bf",
       "version_major": 2,
       "version_minor": 0
      },
      "text/plain": [
       "Checkbox(value=False, description='Derivative (Kd)')"
      ]
     },
     "metadata": {},
     "output_type": "display_data"
    },
    {
     "data": {
      "application/vnd.jupyter.widget-view+json": {
       "model_id": "c67c406fb6714836aedce0bfbc88f53c",
       "version_major": 2,
       "version_minor": 0
      },
      "text/plain": [
       "Text(value='0', description='Kd:', placeholder='Enter Kd value')"
      ]
     },
     "metadata": {},
     "output_type": "display_data"
    },
    {
     "data": {
      "application/vnd.jupyter.widget-view+json": {
       "model_id": "53bb17d442d24f6c98fef12fe6a67916",
       "version_major": 2,
       "version_minor": 0
      },
      "text/plain": [
       "Button(button_style='success', description='Calculate', style=ButtonStyle())"
      ]
     },
     "metadata": {},
     "output_type": "display_data"
    },
    {
     "data": {
      "application/vnd.jupyter.widget-view+json": {
       "model_id": "cdac0653b1ab4bbdb7c62a88987c3877",
       "version_major": 2,
       "version_minor": 0
      },
      "text/plain": [
       "Output()"
      ]
     },
     "metadata": {},
     "output_type": "display_data"
    }
   ],
   "source": [
    "import numpy as np\n",
    "import sympy as sp\n",
    "from scipy.signal import TransferFunction\n",
    "import control  # Import the control library\n",
    "import ipywidgets as widgets\n",
    "from IPython.display import display, clear_output, Math, Latex\n",
    "import matplotlib.pyplot as plt\n",
    "\n",
    "def parse_coefficients(s):\n",
    "    \"\"\"Parse a string of coefficients into a list of floats.\"\"\"\n",
    "    try:\n",
    "        return [float(c) for c in s.replace(' ', '').split(',') if c.strip()]\n",
    "    except:\n",
    "        raise ValueError(f\"Invalid coefficient: {s}\")\n",
    "\n",
    "def create_pid_controller(kp, ki, kd, s):\n",
    "    \"\"\"Create the transfer function of a PID controller.\"\"\"\n",
    "    pid = kp + ki / s + kd * s\n",
    "    pid_num, pid_den = sp.fraction(pid)\n",
    "    pid_num = sp.Poly(pid_num, s).all_coeffs()\n",
    "    pid_den = sp.Poly(pid_den, s).all_coeffs()\n",
    "    pid_num = [float(coef) for coef in pid_num]\n",
    "    pid_den = [float(coef) for coef in pid_den]\n",
    "    return pid_num, pid_den\n",
    "\n",
    "def display_closed_loop_tf(plant_num, plant_den, controller_num, controller_den, output_area):\n",
    "    \"\"\"Compute and display the closed-loop transfer function and root locus plot.\"\"\"\n",
    "    with output_area:\n",
    "        clear_output()  # Clear previous output in the output area\n",
    "        s = sp.symbols('s')\n",
    "\n",
    "        # Open-loop transfer function L(s) = G(s) * C(s)\n",
    "        open_loop_num = np.polymul(plant_num, controller_num)\n",
    "        open_loop_den = np.polymul(plant_den, controller_den)\n",
    "\n",
    "        # Closed-loop transfer function T(s) = L(s) / (1 + L(s))\n",
    "        # Numerator: N(s) = G(s) * C(s)\n",
    "        # Denominator: D(s) = G(s) * C(s) + 1\n",
    "        # Compute the closed-loop numerator and denominator\n",
    "        closed_loop_num = open_loop_num\n",
    "        closed_loop_den = np.polyadd(open_loop_den, open_loop_num)  # Denominator is OL_den + OL_num\n",
    "\n",
    "        # Display the closed-loop transfer function\n",
    "        num_poly = sp.Poly(closed_loop_num, s)\n",
    "        den_poly = sp.Poly(closed_loop_den, s)\n",
    "        display(Latex('**Closed-Loop Transfer Function T(s):**'))\n",
    "        display(Math(r'T(s) = \\frac{%s}{%s}' % (sp.latex(num_poly.as_expr()), sp.latex(den_poly.as_expr()))))\n",
    "\n",
    "        # Find and display the poles of the closed-loop system\n",
    "        poles = np.roots(closed_loop_den)\n",
    "        display(Latex('**Poles of the Closed-Loop System:**'))\n",
    "        for idx, pole in enumerate(poles, 1):\n",
    "            display(Math(r'p_%d = %s' % (idx, sp.latex(pole))))\n",
    "        \n",
    "        # Root Locus Plot\n",
    "        display(Latex('**Root Locus Plot:**'))\n",
    "        # Create TransferFunction objects for root locus using the control library\n",
    "        sys_open_loop = control.TransferFunction(open_loop_num, open_loop_den)\n",
    "        \n",
    "        # Plot root locus\n",
    "        fig, ax = plt.subplots(figsize=(8, 6))\n",
    "        control.root_locus(sys_open_loop, ax=ax)\n",
    "        ax.set_title('Root Locus Plot')\n",
    "        ax.set_xlabel('Real Axis')\n",
    "        ax.set_ylabel('Imaginary Axis')\n",
    "        ax.grid(True, which='both')\n",
    "        plt.show()\n",
    "\n",
    "def on_calculate_button_click(b):\n",
    "    try:\n",
    "        # Parse the plant transfer function coefficients\n",
    "        plant_num_coeffs = parse_coefficients(plant_num_input.value)\n",
    "        plant_den_coeffs = parse_coefficients(plant_den_input.value)\n",
    "        plant_num = np.array(plant_num_coeffs, dtype=float)\n",
    "        plant_den = np.array(plant_den_coeffs, dtype=float)\n",
    "        \n",
    "        # Create symbolic variable s\n",
    "        s = sp.symbols('s')\n",
    "        \n",
    "        # Initialize controller gains\n",
    "        kp = float(kp_input.value) if kp_checkbox.value else 0\n",
    "        ki = float(ki_input.value) if ki_checkbox.value else 0\n",
    "        kd = float(kd_input.value) if kd_checkbox.value else 0\n",
    "        \n",
    "        # Check if at least one controller gain is non-zero\n",
    "        if kp == 0 and ki == 0 and kd == 0:\n",
    "            raise ValueError(\"At least one controller gain must be non-zero.\")\n",
    "        \n",
    "        # Create the PID controller transfer function\n",
    "        controller_num, controller_den = create_pid_controller(kp, ki, kd, s)\n",
    "        \n",
    "        # Display results\n",
    "        display_closed_loop_tf(plant_num, plant_den, controller_num, controller_den, output_area)\n",
    "        \n",
    "    except Exception as e:\n",
    "        with output_area:\n",
    "            clear_output()\n",
    "            display(Latex(f'Error: {e}'))\n",
    "\n",
    "# Input widgets\n",
    "plant_num_input = widgets.Text(\n",
    "    description='Plant Numerator:',\n",
    "    placeholder='Enter coeffs, highest power first'\n",
    ")\n",
    "plant_den_input = widgets.Text(\n",
    "    description='Plant Denominator:',\n",
    "    placeholder='Enter coeffs, highest power first'\n",
    ")\n",
    "\n",
    "# Controller selection checkboxes\n",
    "kp_checkbox = widgets.Checkbox(\n",
    "    value=True,\n",
    "    description='Proportional (Kp)',\n",
    "    disabled=False\n",
    ")\n",
    "ki_checkbox = widgets.Checkbox(\n",
    "    value=False,\n",
    "    description='Integral (Ki)',\n",
    "    disabled=False\n",
    ")\n",
    "kd_checkbox = widgets.Checkbox(\n",
    "    value=False,\n",
    "    description='Derivative (Kd)',\n",
    "    disabled=False\n",
    ")\n",
    "\n",
    "# Controller gain inputs\n",
    "kp_input = widgets.Text(\n",
    "    description='Kp:',\n",
    "    value='1',\n",
    "    placeholder='Enter Kp value'\n",
    ")\n",
    "ki_input = widgets.Text(\n",
    "    description='Ki:',\n",
    "    value='0',\n",
    "    placeholder='Enter Ki value'\n",
    ")\n",
    "kd_input = widgets.Text(\n",
    "    description='Kd:',\n",
    "    value='0',\n",
    "    placeholder='Enter Kd value'\n",
    ")\n",
    "\n",
    "# Button to calculate\n",
    "calculate_button = widgets.Button(\n",
    "    description='Calculate',\n",
    "    button_style='success'\n",
    ")\n",
    "\n",
    "# Output area\n",
    "output_area = widgets.Output()\n",
    "\n",
    "# Event handler for calculate button\n",
    "calculate_button.on_click(on_calculate_button_click)\n",
    "\n",
    "# Display the widgets\n",
    "display(plant_num_input, plant_den_input)\n",
    "display(Latex('**Select Controller Terms:**'))\n",
    "display(kp_checkbox, kp_input)\n",
    "display(ki_checkbox, ki_input)\n",
    "display(kd_checkbox, kd_input)\n",
    "display(calculate_button)\n",
    "display(output_area)\n"
   ]
  },
  {
   "cell_type": "markdown",
   "metadata": {},
   "source": [
    "## PS07 Problems\n",
    "\n",
    "The tool below has been modified to be used for Problem 3, 4 from the problem set."
   ]
  },
  {
   "cell_type": "code",
   "execution_count": null,
   "metadata": {},
   "outputs": [
    {
     "data": {
      "application/vnd.jupyter.widget-view+json": {
       "model_id": "519445576a1842c89800ee76e0674786",
       "version_major": 2,
       "version_minor": 0
      },
      "text/plain": [
       "Text(value='10', description='Plant ωₙ:')"
      ]
     },
     "metadata": {},
     "output_type": "display_data"
    },
    {
     "data": {
      "application/vnd.jupyter.widget-view+json": {
       "model_id": "7409b87ee2c945cb8e661bd677193115",
       "version_major": 2,
       "version_minor": 0
      },
      "text/plain": [
       "Text(value='1', description='Plant ζ:')"
      ]
     },
     "metadata": {},
     "output_type": "display_data"
    },
    {
     "data": {
      "text/latex": [
       "**Select Controller Terms:**"
      ],
      "text/plain": [
       "<IPython.core.display.Latex object>"
      ]
     },
     "metadata": {},
     "output_type": "display_data"
    },
    {
     "data": {
      "application/vnd.jupyter.widget-view+json": {
       "model_id": "7f036af89eb84e2ca812cbc0293f783a",
       "version_major": 2,
       "version_minor": 0
      },
      "text/plain": [
       "Checkbox(value=True, description='Proportional (Kp)')"
      ]
     },
     "metadata": {},
     "output_type": "display_data"
    },
    {
     "data": {
      "application/vnd.jupyter.widget-view+json": {
       "model_id": "ca2da0e192f645cfbf9ea7662cf475c2",
       "version_major": 2,
       "version_minor": 0
      },
      "text/plain": [
       "Text(value='1', description='Kp:', placeholder='Enter Kp value')"
      ]
     },
     "metadata": {},
     "output_type": "display_data"
    },
    {
     "data": {
      "application/vnd.jupyter.widget-view+json": {
       "model_id": "d5daeec584ae4c9aa95f592f2e298a72",
       "version_major": 2,
       "version_minor": 0
      },
      "text/plain": [
       "Checkbox(value=False, description='Integral (Ki)')"
      ]
     },
     "metadata": {},
     "output_type": "display_data"
    },
    {
     "data": {
      "application/vnd.jupyter.widget-view+json": {
       "model_id": "fd6566ec2ba24fd3b6a1f1ec59668a1b",
       "version_major": 2,
       "version_minor": 0
      },
      "text/plain": [
       "Text(value='0', description='Ki:', placeholder='Enter Ki value')"
      ]
     },
     "metadata": {},
     "output_type": "display_data"
    },
    {
     "data": {
      "application/vnd.jupyter.widget-view+json": {
       "model_id": "2dce9fd4077640e99bac1f961fcdfb50",
       "version_major": 2,
       "version_minor": 0
      },
      "text/plain": [
       "Checkbox(value=False, description='Derivative (Kd)')"
      ]
     },
     "metadata": {},
     "output_type": "display_data"
    },
    {
     "data": {
      "application/vnd.jupyter.widget-view+json": {
       "model_id": "d06c2cd7b1e34cb38202be45ec648ccb",
       "version_major": 2,
       "version_minor": 0
      },
      "text/plain": [
       "Text(value='0', description='Kd:', placeholder='Enter Kd value')"
      ]
     },
     "metadata": {},
     "output_type": "display_data"
    },
    {
     "data": {
      "application/vnd.jupyter.widget-view+json": {
       "model_id": "23f401e608f549818659c3babad57dac",
       "version_major": 2,
       "version_minor": 0
      },
      "text/plain": [
       "Button(button_style='success', description='Calculate', style=ButtonStyle())"
      ]
     },
     "metadata": {},
     "output_type": "display_data"
    },
    {
     "data": {
      "application/vnd.jupyter.widget-view+json": {
       "model_id": "10ba86656f164596a06cc9ab86565869",
       "version_major": 2,
       "version_minor": 0
      },
      "text/plain": [
       "Output()"
      ]
     },
     "metadata": {},
     "output_type": "display_data"
    },
    {
     "data": {
      "text/latex": [
       "**Closed-Loop Transfer Function T(s):**"
      ],
      "text/plain": [
       "<IPython.core.display.Latex object>"
      ]
     },
     "metadata": {},
     "output_type": "display_data"
    },
    {
     "data": {
      "text/latex": [
       "$\\displaystyle T(s) = \\frac{100.0}{1.0 s^{2} + 20.0 s + 200.0}$"
      ],
      "text/plain": [
       "<IPython.core.display.Math object>"
      ]
     },
     "metadata": {},
     "output_type": "display_data"
    },
    {
     "data": {
      "text/latex": [
       "**Poles of the Closed-Loop System:**"
      ],
      "text/plain": [
       "<IPython.core.display.Latex object>"
      ]
     },
     "metadata": {},
     "output_type": "display_data"
    },
    {
     "data": {
      "text/latex": [
       "$\\displaystyle p_1 = \\mathtt{\\text{(-10.000000000000002+10j)}}$"
      ],
      "text/plain": [
       "<IPython.core.display.Math object>"
      ]
     },
     "metadata": {},
     "output_type": "display_data"
    },
    {
     "data": {
      "text/latex": [
       "$\\displaystyle p_2 = \\mathtt{\\text{(-10.000000000000002-10j)}}$"
      ],
      "text/plain": [
       "<IPython.core.display.Math object>"
      ]
     },
     "metadata": {},
     "output_type": "display_data"
    },
    {
     "data": {
      "text/latex": [
       "**Root Locus Plot:**"
      ],
      "text/plain": [
       "<IPython.core.display.Latex object>"
      ]
     },
     "metadata": {},
     "output_type": "display_data"
    },
    {
     "data": {
      "image/png": "[encoded data removed]",
      "text/plain": [
       "<Figure size 2000x600 with 2 Axes>"
      ]
     },
     "metadata": {},
     "output_type": "display_data"
    }
   ],
   "source": [
    "import numpy as np\n",
    "import sympy as sp\n",
    "from scipy.signal import TransferFunction\n",
    "import control  # Import the control library\n",
    "import ipywidgets as widgets\n",
    "from IPython.display import display, clear_output, Math, Latex\n",
    "import matplotlib.pyplot as plt\n",
    "\n",
    "# def parse_coefficients(s):\n",
    "#     \"\"\"Parse a string of coefficients into a list of floats.\"\"\"\n",
    "#     try:\n",
    "#         return [float(c) for c in s.replace(' ', '').split(',') if c.strip()]\n",
    "#     except:\n",
    "#         raise ValueError(f\"Invalid coefficient: {s}\")\n",
    "\n",
    "def create_pid_controller(kp, ki, kd, s):\n",
    "    \"\"\"Create the transfer function of a PID controller.\"\"\"\n",
    "    pid = kp + ki / s + kd * s\n",
    "    pid_num, pid_den = sp.fraction(pid)\n",
    "    pid_num = sp.Poly(pid_num, s).all_coeffs()\n",
    "    pid_den = sp.Poly(pid_den, s).all_coeffs()\n",
    "    pid_num = [float(coef) for coef in pid_num]\n",
    "    pid_den = [float(coef) for coef in pid_den]\n",
    "    return pid_num, pid_den\n",
    "\n",
    "def display_closed_loop_tf(plant_num, plant_den, controller_num, controller_den, output_area):\n",
    "        \"\"\"Compute and display the closed-loop transfer function and root locus plot.\"\"\"\n",
    "    # with output_area:\n",
    "        clear_output()  # Clear previous output in the output area\n",
    "        display(plant_omega_input, plant_zeta_input)\n",
    "        display(Latex('**Select Controller Terms:**'))\n",
    "        display(kp_checkbox, kp_input)\n",
    "        display(ki_checkbox, ki_input)\n",
    "        display(kd_checkbox, kd_input)\n",
    "        display(calculate_button)\n",
    "        display(output_area)\n",
    "\n",
    "\n",
    "        s = sp.symbols('s')\n",
    "\n",
    "        # Open-loop transfer function L(s) = G(s) * C(s)\n",
    "        open_loop_num = np.polymul(plant_num, controller_num)\n",
    "        open_loop_den = np.polymul(plant_den, controller_den)\n",
    "\n",
    "        # Closed-loop transfer function T(s) = L(s) / (1 + L(s))\n",
    "        # Numerator: N(s) = G(s) * C(s)\n",
    "        # Denominator: D(s) = G(s) * C(s) + 1\n",
    "        # Compute the closed-loop numerator and denominator\n",
    "        closed_loop_num = open_loop_num\n",
    "        closed_loop_den = np.polyadd(open_loop_den, open_loop_num)  # Denominator is OL_den + OL_num\n",
    "\n",
    "        # Display the closed-loop transfer function\n",
    "        num_poly = sp.Poly(closed_loop_num, s)\n",
    "        den_poly = sp.Poly(closed_loop_den, s)\n",
    "        display(Latex('**Closed-Loop Transfer Function T(s):**'))\n",
    "        display(Math(r'T(s) = \\frac{%s}{%s}' % (sp.latex(num_poly.as_expr()), sp.latex(den_poly.as_expr()))))\n",
    "\n",
    "        # Find and display the poles of the closed-loop system\n",
    "        poles = np.roots(closed_loop_den)\n",
    "        display(Latex('**Poles of the Closed-Loop System:**'))\n",
    "        for idx, pole in enumerate(poles, 1):\n",
    "            display(Math(r'p_%d = %s' % (idx, sp.latex(pole))))\n",
    "        \n",
    "        # Root Locus Plot\n",
    "        display(Latex('**Root Locus Plot:**'))\n",
    "        # Create TransferFunction objects for root locus using the control library\n",
    "        sys_open_loop = control.TransferFunction(open_loop_num, open_loop_den)\n",
    "        \n",
    "\n",
    "\n",
    "        t, response_open, response_closed, S_open, S_closed = step_response(plant_num, plant_den, controller_num, controller_den)\n",
    "\n",
    "\n",
    "        # Plot root locus\n",
    "        fig, (ax1, ax2) = plt.subplots(nrows=1, ncols=2, figsize=(20, 6))\n",
    "        control.root_locus(sys_open_loop, ax=ax1)\n",
    "        ax1.set_title('Root Locus Plot')\n",
    "        ax1.set_xlabel('Real Axis')\n",
    "        ax1.set_ylabel('Imaginary Axis')\n",
    "        ax1.grid(True, which='both')\n",
    "        \n",
    "\n",
    "        ax2.plot(t, response_open, label='Step Response for the open system')\n",
    "        # plt.hold()\n",
    "        ax2.plot(t, response_closed, label='Step Response for the closed system')\n",
    "\n",
    "        ax2.set_title('Step Response of Second Order System')\n",
    "        ax2.set_xlabel('Time [s]')\n",
    "        ax2.set_ylabel('Response')\n",
    "        ax2.legend()\n",
    "        ax2.grid(True)\n",
    "    # plt.grid(True)\n",
    "        ax2.set_ylim(0, 1.1 * max(response_open.max(), response_closed.max()))\n",
    "\n",
    "        Tp = S_closed['PeakTime']\n",
    "        Tr = S_closed['RiseTime']\n",
    "        Ts = S_closed['SettlingTime']\n",
    "        # tau = S_closed['SettlingTime']\n",
    "        \n",
    "\n",
    "\n",
    "        # if show_time_to_peak and not np.isnan(Tp):\n",
    "        ax2.text(Tp, 0, f'Tp  ', color='red', fontsize=10, ha='right')\n",
    "        ax2.plot([Tp, Tp], [0, response_closed[np.where(t >= Tp)[0][0]]], color='r', linestyle='--')\n",
    "\n",
    "\n",
    "        ax2.text(Tp, response_closed.max(), f'OS', color='red', fontsize=10, ha='center', va='bottom')\n",
    "\n",
    "    # if show_rise_time and not np.isnan(Tr):\n",
    "        ax2.text(Tr,0, f'T100%   ', color='green', fontsize=10, ha='right')\n",
    "        ax2.plot([Tr, Tr], [0, response_closed[np.where(t >= Tr)[0][0]]], color='g', linestyle='--')\n",
    "\n",
    "    # if show_settling_time and not np.isnan(Ts):\n",
    "        ax2.text(Ts, 0, f'Td ', color='magenta', fontsize=10, ha='right')\n",
    "        ax2.plot([Ts, Ts], [0, response_closed[np.where(t >= Ts)[0][0]]], color='m', linestyle='--')\n",
    "\n",
    "    # # if show_time_constant and not np.isnan(tau):\n",
    "    #     ax2.text(tau, 0, f'τ ', color='cyan', fontsize=10, ha='right')\n",
    "    #     ax2.plot([tau, tau], [0, response_closed[np.where(t >= tau)[0][0]]], color='c', linestyle='--')\n",
    "\n",
    "\n",
    "\n",
    "        plt.show()\n",
    "\n",
    "\n",
    "\n",
    "def step_response(plant_num, plant_den, controller_num, controller_den):\n",
    "\n",
    "    # Open-loop transfer function L(s) = G(s) * C(s)\n",
    "    open_loop_num = plant_num\n",
    "    open_loop_den = plant_den\n",
    "\n",
    "    # Closed-loop transfer function T(s) = L(s) / (1 + L(s))\n",
    "    # Numerator: N(s) = G(s) * C(s)\n",
    "    # Denominator: D(s) = G(s) * C(s) + 1\n",
    "    # Compute the closed-loop numerator and denominator\n",
    "    closed_loop_num = np.polymul(plant_num, controller_num)\n",
    "    closed_loop_den = np.polyadd(np.polymul(plant_den, controller_den), np.polymul(plant_num, controller_num))  # Denominator is OL_den + OL_num\n",
    "\n",
    "    system_open = control.TransferFunction(open_loop_num, open_loop_den)\n",
    "    system_closed = control.TransferFunction(closed_loop_num, closed_loop_den)\n",
    "    \n",
    "\n",
    "    \n",
    "    t = np.linspace(0, 20, 500)\n",
    "    t, response_open = control.step_response(system_open, T=t)\n",
    "    t, response_closed = control.step_response(system_closed, T=t)\n",
    "\n",
    "    S_open = control.step_info(system_open)\n",
    "    S_closed = control.step_info(system_closed)\n",
    "\n",
    "\n",
    "    return t, response_open, response_closed, S_open, S_closed\n",
    "\n",
    "\n",
    "def on_calculate_button_click(b):\n",
    "    try:\n",
    "        # Parse the plant transfer function coefficients\n",
    "        try:\n",
    "            plant_omega = float(plant_omega_input.value)\n",
    "            plant_zeta = float(plant_zeta_input.value)\n",
    "        except:\n",
    "            raise ValueError('Invalid plant coefficients')\n",
    "        \n",
    "        plant_num = np.array([plant_omega**2], dtype=float)\n",
    "        plant_den = np.array([1, 2*plant_omega*plant_zeta, plant_omega**2], dtype=float)\n",
    "        \n",
    "        # Create symbolic variable s\n",
    "        s = sp.symbols('s')\n",
    "        \n",
    "        # Initialize controller gains\n",
    "        kp = float(kp_input.value) if kp_checkbox.value else 0\n",
    "        ki = float(ki_input.value) if ki_checkbox.value else 0\n",
    "        kd = float(kd_input.value) if kd_checkbox.value else 0\n",
    "        \n",
    "        # # Check if at least one controller gain is non-zero\n",
    "        # if kp == 0 and ki == 0 and kd == 0:\n",
    "        #     raise ValueError(\"At least one controller gain must be non-zero.\")\n",
    "        \n",
    "        # Create the PID controller transfer function\n",
    "        controller_num, controller_den = create_pid_controller(kp, ki, kd, s)\n",
    "        \n",
    "        # Display results\n",
    "        display_closed_loop_tf(plant_num, plant_den, controller_num, controller_den, output_area)\n",
    "        \n",
    "    except Exception as e:\n",
    "        with output_area:\n",
    "            clear_output()\n",
    "            display(Latex(f'Error: {e}'))\n",
    "\n",
    "# Input widgets\n",
    "plant_zeta_input = widgets.Text(\n",
    "    description='Plant ζ:',\n",
    "    \n",
    "    # placeholder\n",
    ")\n",
    "plant_omega_input = widgets.Text(\n",
    "    description='Plant ωₙ:',\n",
    "    # placeholder='Enter coeffs, highest power first'\n",
    ")\n",
    "\n",
    "\n",
    "# Controller selection checkboxes\n",
    "kp_checkbox = widgets.Checkbox(\n",
    "    value=True,\n",
    "    description='Proportional (Kp)',\n",
    "    disabled=False\n",
    ")\n",
    "ki_checkbox = widgets.Checkbox(\n",
    "    value=False,\n",
    "    description='Integral (Ki)',\n",
    "    disabled=False\n",
    ")\n",
    "kd_checkbox = widgets.Checkbox(\n",
    "    value=False,\n",
    "    description='Derivative (Kd)',\n",
    "    disabled=False\n",
    ")\n",
    "\n",
    "# Controller gain inputs\n",
    "kp_input = widgets.Text(\n",
    "    description='Kp:',\n",
    "    value='1',\n",
    "    placeholder='Enter Kp value'\n",
    ")\n",
    "ki_input = widgets.Text(\n",
    "    description='Ki:',\n",
    "    value='0',\n",
    "    placeholder='Enter Ki value'\n",
    ")\n",
    "kd_input = widgets.Text(\n",
    "    description='Kd:',\n",
    "    value='0',\n",
    "    placeholder='Enter Kd value'\n",
    ")\n",
    "\n",
    "# Button to calculate\n",
    "calculate_button = widgets.Button(\n",
    "    description='Calculate',\n",
    "    button_style='success'\n",
    ")\n",
    "\n",
    "# Output area\n",
    "output_area = widgets.Output()\n",
    "\n",
    "# Event handler for calculate button\n",
    "calculate_button.on_click(on_calculate_button_click)\n",
    "\n",
    "# Display the widgets\n",
    "display(plant_omega_input, plant_zeta_input)\n",
    "display(Latex('**Select Controller Terms:**'))\n",
    "display(kp_checkbox, kp_input)\n",
    "display(ki_checkbox, ki_input)\n",
    "display(kd_checkbox, kd_input)\n",
    "display(calculate_button)\n",
    "display(output_area)\n"
   ]
  }
 ],
 "metadata": {
  "language_info": {
   "name": "python"
  }
 },
 "nbformat": 4,
 "nbformat_minor": 0
}
