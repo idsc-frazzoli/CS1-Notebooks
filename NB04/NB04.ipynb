{
 "cells": [
  {
   "cell_type": "markdown",
   "metadata": {},
   "source": [
    "# Notebook Lecture 5: Transfer Functions\n",
    "© 2024 ETH Zurich, Mark Benazet Castells, Jonas Holinger, Felix Muller, Matteo Penlington; Institute for Dynamic Systems and Control; Prof. Emilio Frazzoli\n",
    "\n",
    "This interactive notebook covers the basics of response to exponential inputs, transfer functions, conversions between state-space models and transfer functions, and connections to Laplace transforms. \n",
    "\n",
    "Authors:\n",
    "- Felix Muller; fmuller@ethz.ch\n",
    "- Mark Benazet Castells; mbenazet@ethz.ch\n"
   ]
  },
  {
   "cell_type": "markdown",
   "metadata": {},
   "source": [
    "\n",
    "## Learning Objectives\n"
   ]
  },
  {
   "cell_type": "markdown",
   "metadata": {},
   "source": [
    "\n",
    "In previous lectures, we've seen that this course addresses the control of dynamical systems. Two key course objectives are to understand how to analyze and synthesize systems to achieve specific goals. To do this effectively, we need to understand various ways of representing and analyzing dynamical systems mathematically.\n",
    "In this notebook, we delve deeper into some fundamental concepts and techniques used in control systems analysis. We'll explore system responses and different system representations.\n",
    "After completing this notebook, you should be able to:\n",
    "\n",
    "- Understand and analyze a system's response to elementary inputs.\n",
    "- Interpret and work with transfer functions.\n",
    "- Convert between state-space models and transfer functions.\n",
    "- Appreciate the role of Laplace transforms in control systems analysis and how they relate to system behavior."
   ]
  },
  {
   "cell_type": "markdown",
   "metadata": {},
   "source": [
    "\n",
    "### Import the packages:\n"
   ]
  },
  {
   "cell_type": "markdown",
   "metadata": {},
   "source": [
    "\n",
    "The following cell imports the required packages. Run it before running the rest of the notebook.\n"
   ]
  },
  {
   "cell_type": "code",
   "execution_count": 51,
   "metadata": {},
   "outputs": [],
   "source": [
    "import numpy as np\n",
    "import matplotlib.pyplot as plt\n",
    "from scipy import signal\n",
    "from ipywidgets import interactive, FloatSlider\n",
    "import ipywidgets as widgets\n",
    "from IPython.display import display, clear_output\n",
    "from scipy.fft import fft, fftfreq\n",
    "from mpl_toolkits.mplot3d import Axes3D\n",
    "from ipywidgets import interactive, FloatSlider"
   ]
  },
  {
   "cell_type": "markdown",
   "metadata": {},
   "source": [
    "# Motivation\n"
   ]
  },
  {
   "cell_type": "markdown",
   "metadata": {},
   "source": [
    "In Lecture 4, we observed that analyzing the time response of a Linear Time-Invariant (LTI) system can be quite challenging. Recall that the time time response is given by:\n",
    "\n",
    "$$y(t) = Ce^{At}x(0) + \\int_{0}^{t} C e^{A(t-\\tau)}Bu(\\tau)d\\tau + Du(t)$$\n",
    "\n",
    "This formula provides a complete characterization of the output response of an LTI system. However, the convolution integral makes it difficult to analyze the system's behavior if provided with complex inputs.\n",
    "\n",
    "This raises the question: how can we effectively analyze the response of a system to more complex inputs?\n",
    "\n",
    "To address this challenge, we will study the response of LTI systems to elementary inputs such as exponential and sinusoidal inputs. These inputs are particularly easy to analyze because the input has the same form as the output and are very rich, meaning they can be used to describe any other input through linear combinations.\n"
   ]
  },
  {
   "cell_type": "markdown",
   "metadata": {},
   "source": [
    "# 1. Response to Elementary Inputs\n"
   ]
  },
  {
   "cell_type": "markdown",
   "metadata": {},
   "source": [
    "\n",
    "In this section, we will study the response of an LTI system to elementary inputs -- first the exponential and then sinusoidal. \n",
    "\n",
    "> Throughout the section, it is important to keep in mind that the section is motivated by the fact that any input can be written as a linear combination of elementary inputs. Thus, the introduced concepts and behaviors are generalizable to any input.  "
   ]
  },
  {
   "cell_type": "markdown",
   "metadata": {},
   "source": [
    "## 1.1 Definition of Elementary Inputs\n"
   ]
  },
  {
   "cell_type": "markdown",
   "metadata": {},
   "source": [
    "Exponential inputs are a particularly interesting because it is an eigenfunction of the system. This means that the output of the system will be a scaled version of the input.\n",
    "\n",
    "An elementary input is defined as:\n",
    "\n",
    "$$u(t) = e^{st}$$\n",
    "\n",
    "where $s \\in \\mathbb{C}$ is a complex number.\n",
    "\n",
    "### Special Cases:\n",
    "\n",
    "1. **Real Exponential**: If $s$ is real, then $u(t) = e^{st}$ is a simple exponential function.\n",
    "\n",
    "2. **Sinusoidal**: If $s = j\\omega$ is purely imaginary, then $u(t) = e^{j\\omega t}$ represents a sinusoidal signal:\n",
    "   \n",
    "   $$u(t) + u^*(t) = e^{j\\omega t} + e^{-j\\omega t} = 2\\cos(\\omega t)$$\n",
    "\n",
    "3. **Exponentially Modulated Sinusoid**: If $s = \\sigma + j\\omega$, then:\n",
    "   \n",
    "   $$u(t) + u^*(t) = e^{\\sigma t}e^{j\\omega t} + e^{\\sigma t}e^{-j\\omega t} = 2e^{\\sigma t}\\cos(\\omega t)$$\n",
    "\n",
    "   This represents a sinusoid with exponentially changing amplitude."
   ]
  },
  {
   "cell_type": "markdown",
   "metadata": {},
   "source": [
    "## 1.2 System Response to Exponential Inputs"
   ]
  },
  {
   "cell_type": "markdown",
   "metadata": {},
   "source": [
    "\n",
    "For an LTI system described by the LTI state-space model:\n",
    "\n",
    "\\begin{align}\n",
    "\\dot{x}(t) &= Ax(t) + Bu(t) \\\\\n",
    "y(t) &= Cx(t) + Du(t)\n",
    "\\end{align}\n",
    "\n",
    "The response to an exponential input $u(t) = e^{st}$ is given by:\n",
    "\n",
    "$$y(t) = Ce^{At}x(0) + C\\int_0^t e^{A(t-\\tau)}Be^{s\\tau} d\\tau + De^{st}$$\n",
    "\n",
    "This can be simplified to:\n",
    "\n",
    "$$y(t) = \\underbrace{Ce^{At}\\left(x(0) - (sI - A)^{-1}B\\right)}_{\\text{Transient Response } \\rightarrow 0 \\text{ (if as. stable)}} + \\underbrace{\\left(C(sI - A)^{-1}B + D\\right)e^{st}}_{\\text{Steady-State Response}}$$\n",
    "\n",
    "<small><small>\n",
    "See Lecture 5 page 7 for the derivation, also left as a task in the problem sheet. \n",
    "</small></small>\n",
    "\n",
    "For an asymptotically stable system, the transient response will converge to zero as $t \\to \\infty$. \n",
    "\n",
    "The steady-state response can be re-written as:\n",
    "\n",
    "$$y_{ss}(t) = G(s)e^{st}$$\n",
    "\n",
    "where $G(s) = C(sI - A)^{-1}B + D$."
   ]
  },
  {
   "cell_type": "markdown",
   "metadata": {},
   "source": [
    "### Example: First-Order System\n"
   ]
  },
  {
   "cell_type": "markdown",
   "metadata": {},
   "source": [
    "Consider the following RC circuit, where $R$ is the resistance and $C$ capacitance of the system: \n",
    "<p align=\"center\">\n",
    "   <img src=\"img/RC.jpg\" width=\"400\">\n",
    "</p>\n",
    "\n",
    "Suppose we wish to visualize the behavior of the system against inputs that are:\n",
    "1. Real exponential. \n",
    "2. Sinusoidal.\n",
    "3. Exponentially modulated sinusoids. \n",
    "\n",
    "For completeness, we provide the steps to solve for the steady-state response by determining $G(s)$. The results can be readily extended to determine the analytical transient response. "
   ]
  },
  {
   "cell_type": "markdown",
   "metadata": {},
   "source": [
    "\n",
    "#### Deriving G(s)\n"
   ]
  },
  {
   "cell_type": "markdown",
   "metadata": {},
   "source": [
    "1) First, let's define our RC circuit:\n",
    "   - $R$ is the resistance\n",
    "   - $C$ is the capacitance\n",
    "   - $v_c(t)$ is the voltage across the capacitor (our output)\n",
    "   - $v_i(t)$ is the input voltage\n",
    "\n",
    "2) Using Kirchhoff's laws, we can write the differential equation for the circuit:\n",
    "\n",
    "   $$R C \\frac{dv_c(t)}{dt} + v_c(t) = v_i(t)$$\n",
    "\n",
    "3) Now, let's define our state variable. In this case, we choose the capacitor voltage:\n",
    "\n",
    "   $$x(t) = v_c(t)$$\n",
    "\n",
    "4) We can rewrite our differential equation in terms of x(t):\n",
    "\n",
    "   $$R C \\frac{dx(t)}{dt} + x(t) = v_i(t)$$\n",
    "\n",
    "5) Rearranging this into standard state space form:\n",
    "\n",
    "   $$\\frac{dx(t)}{dt} = -\\frac{1}{RC}x(t) + \\frac{1}{RC}v_i(t)$$\n",
    "\n",
    "6) Our output equation is simply:\n",
    "\n",
    "   $$y(t) = x(t)$$\n",
    "\n",
    "7) Now we have our state space representation:\n",
    "\n",
    "   $$\\frac{dx(t)}{dt} = -\\frac{1}{RC}x(t) + \\frac{1}{RC}v_i(t)$$\n",
    "   $$y(t) = x(t)$$\n",
    "\n",
    "   In standard form:\n",
    "   $$\\dot{x} = Ax + Bu$$\n",
    "   $$y = Cx + Du$$\n",
    "\n",
    "   Where:\n",
    "   $$A = -\\frac{1}{RC}, \\quad B = \\frac{1}{RC}, \\quad C = 1, \\quad D = 0$$\n",
    "\n",
    "8) To get the transfer function, we use the formula:\n",
    "\n",
    "   $$G(s) = C(sI - A)^{-1}B + D$$\n",
    "\n",
    "9) Let's calculate:\n",
    "\n",
    "   $$(sI - A) = (s + \\frac{1}{RC})$$\n",
    "\n",
    "   $$(sI - A)^{-1} = \\frac{1}{s + \\frac{1}{RC}}$$\n",
    "\n",
    "10) Substituting into our transfer function formula:\n",
    "\n",
    "   $$G(s) = 1 \\cdot \\frac{1}{s + \\frac{1}{RC}} \\cdot \\frac{1}{RC} + 0$$\n",
    "\n",
    "11) Simplifying:\n",
    "\n",
    "   $$G(s) = \\frac{1}{RCs + 1}$$\n",
    "\n",
    "12) Let $\\tau = RC$ define the time constant, then we get the standard form of a first-order system transfer function:\n",
    "\n",
    "   $$G(s) = \\frac{1}{\\tau s + 1}$$"
   ]
  },
  {
   "cell_type": "markdown",
   "metadata": {},
   "source": [
    "#### Interactive Example\n",
    "\n"
   ]
  },
  {
   "cell_type": "markdown",
   "metadata": {},
   "source": [
    "Let's investigate the response of this system to an exponential input.\n",
    "- Try changing $\\sigma$ and $\\omega$ such that you visualize the effects of the three types of inputs are present. What do you notice about the output behavior? Does this mimic the inputs?\n",
    "- Try changing the time constant $\\tau = RC$. What effect on the system output does this have?\n",
    "\n",
    "\n",
    "One thing to note is that the steady state output eventually becomes the system output (as the transient output converges to zero). This **occurs in asymptotically stable systems** where the transient response decays over time, leaving only the steady-state response. The steady-state response is directly influenced by the input and $G(s)$.\n",
    "\n",
    "The steady state response follows the same form as the input, but it is scaled by the transfer function of the system. "
   ]
  },
  {
   "cell_type": "code",
   "execution_count": null,
   "metadata": {},
   "outputs": [],
   "source": [
    "def plot_first_order_response(tau, sigma, omega, t_max):\n",
    "    with output:\n",
    "        clear_output(wait=True)  # Clear the previous output\n",
    "\n",
    "        t = np.linspace(0, t_max, 1000)\n",
    "        s = sigma + 1j * omega\n",
    "        \n",
    "        # System transfer function\n",
    "        sys = signal.TransferFunction([1], [tau, 1])\n",
    "        \n",
    "        # Input signal (real part of the complex exponential)\n",
    "        u = np.exp(sigma * t) * np.cos(omega * t)\n",
    "        \n",
    "        # Compute system response\n",
    "        _, y, _ = signal.lsim(sys, U=u, T=t)\n",
    "        \n",
    "        # Compute steady-state response\n",
    "        G_s = 1 / (tau * s + 1)\n",
    "        gain = np.abs(G_s)\n",
    "        phase = np.angle(G_s)\n",
    "        y_ss = gain * np.exp(sigma * t) * np.cos(omega * t + phase)\n",
    "\n",
    "        # Compute the transient response\n",
    "        y_transient = y - y_ss\n",
    "        \n",
    "        # Plotting\n",
    "        plt.figure()\n",
    "        plt.plot(t, u, label='Input')\n",
    "        plt.plot(t, y, label='System Output')\n",
    "        plt.plot(t, y_ss, '--', label='Steady-State Output')\n",
    "        plt.plot(t, y_transient, '--', label='Transient Output')\n",
    "        plt.title(f'First-Order System Response (τ = {tau:.2f})')\n",
    "        plt.xlabel('Time')\n",
    "        plt.ylabel(r'$y(t)$ / $u(t)$')\n",
    "        plt.legend(loc='center left', bbox_to_anchor=(1, 0.4))  # Legend outside the plot on the right\n",
    "        plt.grid(True)\n",
    "        plt.show()\n",
    "\n",
    "# Initialize a display object\n",
    "output = widgets.Output()\n",
    "\n",
    "tau_widget = widgets.FloatSlider(min=0.1, max=5, step=0.1, value=1, description='τ:')\n",
    "sigma_widget = widgets.FloatSlider(min=-2, max=0, step=0.1, value=0, description='σ:')\n",
    "omega_widget = widgets.FloatSlider(min=-5, max=5, step=0.1, value=1, description='ω:')\n",
    "t_max_widget = widgets.FloatSlider(min=1, max=20, step=1, value=10, description='t_max:')\n",
    "\n",
    "column1 = widgets.VBox([sigma_widget, omega_widget])\n",
    "column2 = widgets.VBox([tau_widget, t_max_widget])\n",
    "slider_layout = widgets.HBox([column1, column2])\n",
    "\n",
    "widgets.interactive_output(plot_first_order_response, \n",
    "                           {'tau': tau_widget,\n",
    "                            'sigma': sigma_widget,\n",
    "                            'omega': omega_widget,\n",
    "                            't_max': t_max_widget})\n",
    "\n",
    "display(slider_layout, output)\n"
   ]
  },
  {
   "cell_type": "markdown",
   "metadata": {},
   "source": [
    "## 1.3 System Response to Sinusoidal Inputs\n"
   ]
  },
  {
   "cell_type": "markdown",
   "metadata": {},
   "source": [
    "Sinusoidal inputs are particularly interesting in the study of Linear Time-Invariant (LTI) systems due to a fundamental property: the output of an LTI system to a sinusoidal input is also sinusoidal, with the same frequency as the input, but potentially different amplitude and phase. This property is crucial in understanding frequency response and forms the basis for many control system analysis techniques.\n",
    "\n",
    "Consider a sinusoidal input of the form:\n",
    "\n",
    "$$u(t) = e^{j\\omega} + e^{-j\\omega} = 2\\cos{\\omega t}$$\n",
    "\n",
    "For an LTI system with function $G(s)$, the output $y(t)$ can be expressed as:\n",
    "\n",
    "$$y(t) = G(j\\omega)e^{j\\omega t} + G(-j\\omega)e^{-j\\omega t}$$\n",
    "Using Euler's formula and the properties of complex conjugates, we can simplify this to:\n",
    "\n",
    "$$y(t) = |G(j\\omega)|\\cos(\\omega t + \\angle G(j\\omega))$$\n",
    "\n",
    "Where:\n",
    "- $|G(j\\omega)|$ is the **magnitude** of the transfer function at frequency $\\omega$\n",
    "- $\\angle G(j\\omega)$ is the **phase** angle of the transfer function at frequency $\\omega$\n",
    "\n",
    "> You will see in more detail next week how to compute the phase and magnitude of $G(s)$."
   ]
  },
  {
   "cell_type": "markdown",
   "metadata": {},
   "source": [
    "\n",
    "### Revisiting the RC Example\n"
   ]
  },
  {
   "cell_type": "markdown",
   "metadata": {},
   "source": [
    "Recall, for our first-order RC system:\n",
    "\n",
    "$$G(s) = \\frac{1}{\\tau s + 1}$$\n",
    "\n",
    "To find the response, we substitute $s$ with $j\\omega$:\n",
    "\n",
    "$$G(j\\omega) = \\frac{1}{\\tau j\\omega + 1}$$\n",
    "\n",
    "Magnitude:\n",
    "   \n",
    "$$\n",
    "\\begin{align}\n",
    "|G(j\\omega)| &= \\left|\\frac{1}{\\tau j\\omega + 1}\\right| \\\\\n",
    "&= \\left| \\frac{1}{\\tau j\\omega + 1} \\cdot \\frac{1-\\tau j\\omega}{1-\\tau j\\omega}\\right| \\\\\n",
    "&= \\left| \\frac{1 - \\tau j\\omega}{1 + \\left(\\tau\\omega\\right)^2} \\right| \\\\\n",
    "&= \\sqrt{ \\left(\\frac{1}{1 + \\left(\\tau\\omega\\right)^2}\\right)^2 + \\left(\\frac{- \\tau \\omega}{1 + \\left(\\tau\\omega\\right)^2} \\right)^2}\n",
    "\\end{align}$$\n",
    "\n",
    "Phase:\n",
    "   \n",
    "$$\\angle G(j\\omega) = \\arctan \\left(\\frac{\\frac{-\\tau\\omega}{1 + \\left(\\tau\\omega\\right)^2}}{\\frac{1}{1 + \\left(\\tau\\omega\\right)^2}}\\right)$$\n",
    "\n",
    "> You will see in more detail next week how to compute the phase and magnitude of $G(s)$.\n",
    "\n",
    "Then we know all the terms for the steady-state time respose: $$y_{ss}(t) = |G(j\\omega)|\\cos(\\omega t + \\angle G(j\\omega))$$\n"
   ]
  },
  {
   "cell_type": "markdown",
   "metadata": {},
   "source": [
    "#### Interactive Example"
   ]
  },
  {
   "cell_type": "markdown",
   "metadata": {},
   "source": [
    "\n",
    "- Try increasing/decreasing the frequency, what do you notice about gain and phase of the output response? *Hint: Check the Gain and Phase Text Box* \n",
    "- What do you notice about the total vs steady state response. Does this align with your intuition?\n",
    "\n",
    "(answers below the output)"
   ]
  },
  {
   "cell_type": "code",
   "execution_count": null,
   "metadata": {},
   "outputs": [],
   "source": [
    "def plot_lti_response(omega, tau):\n",
    "    # Define the first-order LTI system\n",
    "    num = [1]\n",
    "    den = [tau, 1] \n",
    "    sys = signal.TransferFunction(num, den)\n",
    "\n",
    "    # Generate input and output\n",
    "    t = np.linspace(0, 10*tau, 1000)  # Adjust time range based on tau\n",
    "    u = np.cos(omega * t)\n",
    "    _, y, _ = signal.lsim(sys, u, t)\n",
    "\n",
    "    # Calculate the theoretical gain and phase shift\n",
    "    w, mag, phase = signal.bode(sys, w=[omega])\n",
    "    gain = 10**(mag[0]/20)\n",
    "    phase_shift = np.deg2rad(phase[0])\n",
    "\n",
    "    # Plot\n",
    "    plt.figure()\n",
    "    plt.plot(t, u, label='Input', alpha=0.7)\n",
    "    plt.plot(t, y, label='Total Response', alpha=0.7)\n",
    "    plt.plot(t, gain * np.cos(omega * t + phase_shift), '--', label='Steady-State Response', alpha=0.7)\n",
    "    plt.title(f'First-Order RC System Response (ω = {omega:.2f} rad/s, τ = {tau:.2f} s)')\n",
    "    plt.xlabel('Time (s)')\n",
    "    plt.ylabel(r'$y(t)$ / $u(t)$')\n",
    "    plt.legend(loc='center left', bbox_to_anchor=(1, 0.4))  # Legend outside the plot on the right\n",
    "    plt.grid(True)\n",
    "\n",
    "    # Display gain and phase information\n",
    "    plt.text(1.1, 0.8, f'Gain: {gain:.2f}\\nPhase Shift: {np.rad2deg(phase_shift):.2f}°',\n",
    "             transform=plt.gca().transAxes, verticalalignment='top',\n",
    "             bbox=dict(boxstyle='round', facecolor='white', alpha=0.7))\n",
    "    plt.show()\n",
    "\n",
    "# Create an interactive widget\n",
    "interactive_plot = interactive(plot_lti_response,\n",
    "                               omega=FloatSlider(min=0.0, max=15, step=0.01, value=1,\n",
    "                                                 description='Frequency (rad/s)'),\n",
    "                               tau=FloatSlider(min=0.1, max=5, step=0.1, value=1,\n",
    "                                               description='Time Constant τ (s)'))\n",
    "\n",
    "# Display the interactive plot\n",
    "display(interactive_plot)"
   ]
  },
  {
   "cell_type": "markdown",
   "metadata": {},
   "source": [
    "Later on we will see that the below behaviors help describe the frequency response of the system. Nevertheless, it is interesting to note the link to the time response.\n",
    "**Magnitude (Gain)**:\n",
    "- At low frequencies $\\left(\\omega << \\frac{1}{\\tau}\\right)$, $|G(j\\omega)| ≈ 1$. \n",
    "- At high frequencies $\\left(\\omega >> \\frac{1}{\\tau}\\right)$, $|G(j\\omega)| ≈ \\frac{1}{\\tau\\omega})$.\n",
    "\n",
    "**Phase**:\n",
    "- At low frequencies, the phase shift is close to 0°\n",
    "- At high frequencies, the phase shift approaches -90°\n",
    "- At ω = 1/τ, the phase shift is -45°\n",
    "\n",
    "Yes the output aligns with what we have previously seen. For an asymptotically stable system, which this is, the transient response tends to zero, and thus, after some time, the steady-state output is the total response of the system. "
   ]
  },
  {
   "cell_type": "markdown",
   "metadata": {},
   "source": [
    "\n",
    "# 2. The Transfer Function\n"
   ]
  },
  {
   "cell_type": "markdown",
   "metadata": {},
   "source": [
    "In the previous section we often relied on $G(s)$ to represent the behavior of the (asymptotically stable) system. In fact, $G(s)$ is known as the transfer function, and is defined as follows:\n",
    "\n",
    "> A transfer function is a function $G: s \\to G(s)$ that transforms inputs into steady-state outputs. More formally, it is the ratio of the Laplace Transforms of the output over the input. \n",
    "\n",
    "We will, through the following lectures, learn that the transfer function is a fundamental representation that allows us to readily apply control synthesis and analysis tools. Nevertheless, in this lecture we focus on how to determine it. For completeness, we briefly cover how to determine the transfer function from a state-space model (and how to determine the state-space from a transfer function) below."
   ]
  },
  {
   "cell_type": "markdown",
   "metadata": {},
   "source": [
    "### From State-Space to Transfer function\n"
   ]
  },
  {
   "cell_type": "markdown",
   "metadata": {},
   "source": [
    "As we will later see, when analyzing or synthesizing a system, it is useful and convenient to have the transfer function of the system. Thus, here, provided with a state-space LTI model, we briefly introduce how to determine the transfer function.\n",
    "\n",
    "Given an LTI model:\n",
    "\\begin{align}\n",
    "\\dot{x}(t) &= Ax(t) + Bu(t) \\\\\n",
    "y(t) &= Cx(t) + Du(t)\n",
    "\\end{align}\n",
    "\n",
    "We can determine $G(s)$ by either:\n",
    "\n",
    "1. Using the aforementioned $G(s) = C(sI - A)^{-1}B + D$. (Such as in Example 1 above)\n",
    "2. Taking the Laplace Transform of the LTI system, and then rearranging it such that $\\frac{Y(s)}{U(s)} = G(s)$\n",
    "\n",
    "In fact, by taking the Laplace Transform of the LTI system, it can be derived that $G(s) = C(sI - A)^{-1}B + D$ (spoiler: it's a task in the problem sheet), and thus for LTI systems both approaches are equivalent, where the latter is more generic. "
   ]
  },
  {
   "cell_type": "markdown",
   "metadata": {},
   "source": [
    "\n",
    "### From Transfer Function to State-Space\n"
   ]
  },
  {
   "cell_type": "markdown",
   "metadata": {},
   "source": [
    "We are often interested in the minimum realization of a system -- I.e., the smallest order of the system that captures the same input-output behavior. This form has several advantages, relying on the fact that it is often preferable to remove unnecessary information when possible.\n",
    "\n",
    "Provided with a transfer function, it is then possible to determine the minimum realization of the state-space model in the controllable canonical form using the below relationship.  \n",
    "\n",
    "$$G(s) = \\frac{b_{n-1}s^{n-1} + b_{n-2}s^{n-2}+\\dots+b_0}{s^n + a_{n-1}s^{n-1}+\\dots+a_0} + d $$\n",
    "\n",
    "$$\n",
    "\\begin{align}\n",
    "A &= \\begin{bmatrix} 0 & 1 & 0 & \\dots & 0 \\\\\n",
    "0 & 0 & 1 & \\dots & 0 \\\\\n",
    "\\vdots & \\vdots  & \\vdots &\\ddots & \\vdots \\\\\n",
    "0 & 0 & 0 & & 1\\\\\n",
    "-a_0 & -a_1 & -a_2 & \\dots & -a_{n-1}\n",
    "\\end{bmatrix}, \\quad \n",
    "&B& = \\begin{bmatrix} 0 \\\\ 0 \\\\ \\vdots \\\\ 0 \\\\ 1\\end{bmatrix} \\\\\n",
    "C &= \\begin{bmatrix} b_0 & b_1 & \\dots & & b_{n-1} \\end{bmatrix}, \\quad \n",
    "&D& = [d]\n",
    "\\end{align}\n",
    "$$\n",
    "\n",
    "Furthermore, in the special case that the transfer function is written as a partial fraction expansion, the realization of the system is as follows:\n",
    "\n",
    "$$\n",
    "G(s) = \\frac{p_1}{s-\\lambda_1} + \\frac{p_2}{s-\\lambda_2} + \\dots + \\frac{p_n}{s-\\lambda_n} + d\n",
    "$$\n",
    "\n",
    "$$\n",
    "\\begin{align}\n",
    "A &= \\begin{bmatrix}\n",
    "\\lambda_1 & & \\\\\n",
    "& \\ddots & \\\\\n",
    "& & \\lambda_n\n",
    "\\end{bmatrix}, \\quad \n",
    "& B & = \\begin{bmatrix} \\sqrt{p_1} \\\\ \\vdots \\\\ \\sqrt{p_n} \\end{bmatrix} \\\\\n",
    "C &= \\begin{bmatrix} \\sqrt{p_1} & \\dots & \\sqrt{p_n} \\end{bmatrix}, \\quad\n",
    "&D& = d\n",
    "\\end{align}\n",
    "$$"
   ]
  },
  {
   "cell_type": "markdown",
   "metadata": {},
   "source": [
    "# 3. The Laplace Transform\n"
   ]
  },
  {
   "cell_type": "markdown",
   "metadata": {},
   "source": [
    "It was previously mentioned that it is possible to express any input $u(t)$ as a sum of complex exponentials. To do so, we can perform a Laplace Transform of the inputs. This section is dedicated towards contextualizing what the Laplace Transform is, and why it is useful. \n",
    "\n",
    "The Laplace transform lets us change information in the time domain to information in the frequency domain. Think back to the previous examples, and the corresponding transfer function $G(s)$, it is written as a function of $s=\\sigma + jw$, and not of $t$. Hence, we can use the Laplace transform as a mapping between the time and frequency domain.\n",
    "\n",
    "It is often advantageous to work in the frequency domain, since differential equations in the time domain often have simpler representations in the frequency domain. Furthermore, working in the frequency domain has some additional advantages with regard to system analysis and control synthesis (as we will see in the following lectures). \n",
    "\n",
    " \n",
    "To provide some intuition to contextualize the Laplace Transform, think that the Laplace Transform is a Generalized Fourier Transform. Below we hope to provide an intuitive understanding behind what it means to take the Laplace Transform. Nevertheless, a good introduction is also provided by the following video (note that there are many videos of this medium, so feel free to find one that suits you best):\n",
    "- [The Laplace Transform - A Graphical Approach](https://youtu.be/ZGPtPkTft8g?si=tRpQIwrByDUBDq8Q) - Watch until 08:00, after that we have not covered the relevant information. "
   ]
  },
  {
   "cell_type": "markdown",
   "metadata": {},
   "source": [
    "## Fourier Transform\n"
   ]
  },
  {
   "cell_type": "markdown",
   "metadata": {},
   "source": [
    "Any continuous signal in the time domain can be represented as a sum of sinusoids.\n",
    "\n",
    "The Fourier Transform converts a time-domain signal into its frequency components. This is particularly useful for analyzing periodic signals or any signal with oscillatory components. The Fourier transform is defined as:\n",
    "\n",
    "$$\n",
    "\\mathcal{F}[u(t)] = F(\\omega) = \\int_{-\\infty}^{\\infty} u(t) e^{-j\\omega t} dt\n",
    "$$\n",
    "\n",
    "The Fourier transform is essentially multiplying our function with a sine and cosine function at every frequency $\\left(u(t) e^{-j\\omega t}\\right)$ and then adds up the area under the resulting function through integration. If $u(t)$ contains an oscillatory frequency, the multiplication at that frequency will be non-zero.\n",
    "\n",
    "In simpler terms, the Fourier Transform decomposes a function in terms of pure sine and cosine functions. \n",
    "\n",
    "Let's visualize this with the following example.\n"
   ]
  },
  {
   "cell_type": "markdown",
   "metadata": {},
   "source": [
    "### Interactive Example"
   ]
  },
  {
   "cell_type": "markdown",
   "metadata": {},
   "source": [
    "Suppose that we have a sinusoidal input:\n",
    "- If it consists of only a single frequency and non-zero amplitude, then the Fourier transform plot consists of a peak at that frequency.\n",
    "- Try adding another frequency to the signal by making the Amplitude 2 non-zero. Note that in the left plot, we now get two peaks representing the two oscillatory frequencies in the signal. Note that the magnitude of the signals differ. This just indicate which of the two signals is more prevalent. \n",
    "- Try adding the third non-zero amplitude. Note that, similar to before, now we have another peak at that Frequency 3, and that the amplitude of the signals is analogous to the amplitudes of the individual components."
   ]
  },
  {
   "cell_type": "code",
   "execution_count": null,
   "metadata": {},
   "outputs": [],
   "source": [
    "def plot_fourier_transform(frequency1, amplitude1, \n",
    "                           frequency2, amplitude2, \n",
    "                           frequency3, amplitude3):\n",
    "    with output:\n",
    "        clear_output(wait=True)  # Clear the previous output   \n",
    "        # Time settings\n",
    "        t = np.linspace(0, 1, 1000, endpoint=False)  # time from 0 to 1 second\n",
    "        \n",
    "        # Create a signal composed of three sine waves with different frequencies and amplitudes\n",
    "        signal = amplitude1 * np.sin(2 * np.pi * frequency1 * t) + \\\n",
    "                amplitude2 * np.sin(2 * np.pi * frequency2 * t) + \\\n",
    "                amplitude3 * np.sin(2 * np.pi * frequency3 * t)\n",
    "\n",
    "        # Perform the Fourier Transform\n",
    "        signal_fft = fft(signal)\n",
    "        frequencies = fftfreq(t.size, t[1] - t[0])\n",
    "\n",
    "        # Limit the frequencies to only positive values (up to Nyquist frequency)\n",
    "        pos_frequencies = frequencies[:t.size // 2]\n",
    "        pos_signal_fft = np.abs(signal_fft[:t.size // 2])  # Magnitude of the Fourier Transform\n",
    "\n",
    "        # Plot the original signal (time domain)\n",
    "        plt.figure(figsize=(12, 6))\n",
    "\n",
    "        plt.subplot(1, 2, 1)\n",
    "        plt.plot(t, signal)\n",
    "        plt.title('Time Domain Signal')\n",
    "        plt.xlabel('Time [s]')\n",
    "        plt.ylabel('Amplitude')\n",
    "\n",
    "        # Plot the Fourier Transform (frequency domain - magnitude)\n",
    "        plt.subplot(1, 2, 2)\n",
    "        plt.stem(pos_frequencies, pos_signal_fft, 'b', markerfmt=\" \", basefmt=\"-b\")\n",
    "        plt.title('Magnitude of Fourier Transform')\n",
    "        plt.xlabel('Frequency [Hz]')\n",
    "        plt.ylabel('Magnitude')\n",
    "        plt.xlim(0, 100)  # Limit x-axis to show a reasonable range of frequencies\n",
    "\n",
    "        plt.tight_layout()\n",
    "        plt.show()\n",
    "\n",
    "outputs = widgets.Output()\n",
    "\n",
    "frequency_1_slider = widgets.FloatSlider(min=1, max=99, step=1, value=5, description='Freq 1 [Hz]')\n",
    "amplitude_1_slider = widgets.FloatSlider(min=0.1, max=5, step=0.1, value=1, description='Amplitude 1')\n",
    "frequency_2_slider = widgets.FloatSlider(min=1, max=99, step=1, value=10, description='Freq 2 [Hz]')\n",
    "amplitude_2_slider = widgets.FloatSlider(min=0.0, max=5, step=0.1, value=0, description='Amplitude 2')\n",
    "frequency_3_slider = widgets.FloatSlider(min=1, max=99, step=1, value=50, description='Freq 3 [Hz]')\n",
    "amplitude_3_slider = widgets.FloatSlider(min=0.0, max=5, step=0.1, value=0, description='Amplitude 3')\n",
    "\n",
    "column1 = widgets.VBox([frequency_1_slider, amplitude_1_slider])\n",
    "column2 = widgets.VBox([frequency_2_slider, amplitude_2_slider])\n",
    "column3 = widgets.VBox([frequency_3_slider, amplitude_3_slider])\n",
    "slider_layout = widgets.HBox([column1, column2, column3])\n",
    "\n",
    "\n",
    "# Create interactive sliders for frequency and amplitude\n",
    "widgets.interactive_output(plot_fourier_transform, {\n",
    "                            \"frequency1\": frequency_1_slider,\n",
    "                            \"amplitude1\": amplitude_1_slider,\n",
    "                            \"frequency2\": frequency_2_slider,\n",
    "                            \"amplitude2\": amplitude_2_slider,\n",
    "                            \"frequency3\": frequency_3_slider,\n",
    "                            \"amplitude3\": amplitude_3_slider\n",
    "                            })\n",
    "display(slider_layout, output)"
   ]
  },
  {
   "cell_type": "markdown",
   "metadata": {},
   "source": [
    "## The Laplace Bit"
   ]
  },
  {
   "cell_type": "markdown",
   "metadata": {},
   "source": [
    "As you can see, the Fourier transform shows us which frequencies are present in our function, and at what magnitude they are present.\n",
    "\n",
    "However, the problem with the Fourier transform is that it can only be used for a restrictive group of functions, namely functions composed of pure sinusoids. We are often dealing with functions that also incorporate an exponential term $e^{\\sigma t}$ - Think of the time-response of an LTI system with complex eigenvalues from the Lecture 4. This is where the Laplace transform comes in.\n",
    "\n",
    "The Laplace transform of a signal $u$ is defined as:\n",
    "$$\\mathcal{L}[u] = U(s) = \\int_0^\\infty u(t) e^{-st} dt$$\n",
    "\n",
    "And the inverse Laplace transform is defined as:\n",
    "$$\\mathcal{L}^{-1}[U] = u(t) = \\frac{1}{2\\pi j} \\lim_{\\omega \\to \\infty} \\int_{\\sigma - j\\omega}^{\\sigma + j\\omega} U(s) e^{s t} ds$$\n",
    "\n",
    "The function in the Laplace transform is multiplied with $e^{-st} = e^{-\\sigma t}e^{-j\\omega t}$, instead of just $e^{-j\\omega t}$ in the Fourier transform. This allows us to also capture the exponential information in our function and transform the whole function into the frequency domain.\n",
    "\n",
    "This can be plotted analogously to the Fourier transform, with the difference that we add a third dimension to represent $\\sigma$ -- i.e., the Fourier transform is the slice of the 3D Laplace plot. "
   ]
  },
  {
   "cell_type": "markdown",
   "metadata": {},
   "source": [
    "\n",
    "### Interactive plot\n"
   ]
  },
  {
   "cell_type": "markdown",
   "metadata": {},
   "source": [
    "Suppose we wish to take the Laplace Transform of the signal: $u(t) = e^{-\\alpha t} \\sin(\\omega t)$. \n",
    "The corresponding transform when plotted in 3D is visualized. \n",
    "Try changing the values of $\\omega$ and $\\alpha$, what behaviors do you note in the 3D plot? In the following weeks, we will connect how we can use such behaviors to analyze and synthesize a system. "
   ]
  },
  {
   "cell_type": "code",
   "execution_count": null,
   "metadata": {},
   "outputs": [],
   "source": [
    "# Define the signal: exponential decay combined with a sinusoidal component\n",
    "def signal(t, alpha, omega_signal):\n",
    "    return np.exp(-alpha * t) * np.sin(omega_signal * t)\n",
    "\n",
    "# Define the Laplace Transform magnitude function for a decaying sinusoidal signal\n",
    "def laplace_transform_magnitude(sigma, omega_s, alpha, omega_signal):\n",
    "    # s = sigma + j*omega_s (complex)\n",
    "    s = sigma + 1j * omega_s\n",
    "    # Laplace transform of e^(-alpha*t) * sin(omega_signal * t) is:\n",
    "    U_s = omega_signal / ((s + alpha)**2 + omega_signal**2)\n",
    "\n",
    "    return np.abs(U_s)\n",
    "\n",
    "# Function to create the time-domain plot and 3D Laplace transform plot with sliders\n",
    "def plot_laplace_transform_and_time_domain(alpha, omega_signal):\n",
    "    # Time settings\n",
    "    t = np.linspace(0, 5, 1000)  # Time range from 0 to 5 seconds\n",
    "    \n",
    "    # Generate the time-domain signal\n",
    "    signal_time_domain = signal(t, alpha, omega_signal)\n",
    "    \n",
    "    # Generate the grid for sigma (real part) and omega (imaginary part)\n",
    "    sigma = np.linspace(-10, 10, 100)  # Range for real part (decay)\n",
    "    omega_s = np.linspace(0, 10, 100)  # Range for imaginary part (frequency)\n",
    "    sigma, omega_s = np.meshgrid(sigma, omega_s)\n",
    "\n",
    "    # Compute the magnitude of the Laplace transform over the grid\n",
    "    magnitude = laplace_transform_magnitude(sigma, omega_s, alpha, omega_signal)\n",
    "\n",
    "    # Create the subplot figure with 1 row and 2 columns\n",
    "    fig = plt.figure(figsize=(14, 5))\n",
    "\n",
    "    # Plot the time-domain signal on the left\n",
    "    ax1 = fig.add_subplot(121)\n",
    "    ax1.plot(t, signal_time_domain)\n",
    "    ax1.set_title('Time Domain Signal', fontsize=14)\n",
    "    ax1.set_xlabel('Time [s]', fontsize=12)\n",
    "    ax1.set_ylabel('Amplitude', fontsize=12)\n",
    "    ax1.grid(True)\n",
    "\n",
    "    # Plot the 3D Laplace transform on the right\n",
    "    ax2 = fig.add_subplot(122, projection='3d')\n",
    "    surf = ax2.plot_surface(sigma, omega_s, magnitude, cmap='coolwarm', edgecolor='none')\n",
    "\n",
    "    ax2.set_title(r'Laplace Transform Magnitude for $u(t) = e^{-\\alpha t} \\sin(\\omega t)$', fontsize=14)\n",
    "    ax2.set_xlabel(r'Real Part $\\sigma$', fontsize=12)\n",
    "    ax2.set_ylabel(r'Imaginary Part $\\omega$', fontsize=12)\n",
    "    ax2.set_zlabel(r'Magnitude $|U(s)|$', fontsize=12)\n",
    "\n",
    "    plt.show()\n",
    "\n",
    "# Create interactive sliders for alpha (decay) and omega (frequency)\n",
    "interactive_plot = interactive(plot_laplace_transform_and_time_domain, \n",
    "                               alpha=FloatSlider(min=-10, max=10, step=0.1, value=0, description='Decay Rate α'),\n",
    "                               omega_signal=FloatSlider(min=0, max=10, step=0.5, value=5, description='Frequency ω')\n",
    "                              )\n",
    "\n",
    "# Display the interactive plot\n",
    "display(interactive_plot)"
   ]
  }
 ],
 "metadata": {
  "kernelspec": {
   "display_name": "cs1",
   "language": "python",
   "name": "python3"
  },
  "language_info": {
   "codemirror_mode": {
    "name": "ipython",
    "version": 3
   },
   "file_extension": ".py",
   "mimetype": "text/x-python",
   "name": "python",
   "nbconvert_exporter": "python",
   "pygments_lexer": "ipython3",
   "version": "3.12.5"
  }
 },
 "nbformat": 4,
 "nbformat_minor": 2
}
