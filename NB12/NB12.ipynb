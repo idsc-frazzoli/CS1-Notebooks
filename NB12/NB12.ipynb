{
 "cells": [
  {
   "cell_type": "markdown",
   "metadata": {},
   "source": [
    "# Notebook 12: Describing Function\n",
    "© 2024 ETH Zurich, Mark Benazet Castells, Jonas Holinger, Felix Muller, Matteo Penlington; Institute for Dynamic Systems and Control; Prof. Emilio Frazzoli\n",
    "\n",
    "This interactive notebook explores ...\n",
    "\n",
    "Authors:\n",
    "- Felix Muller; fmuller@ethz.ch\n",
    "- Mark Benazet Castells; mbenazet@ethz.ch\n"
   ]
  },
  {
   "cell_type": "markdown",
   "metadata": {},
   "source": [
    "# Learning Objectives"
   ]
  },
  {
   "cell_type": "markdown",
   "metadata": {},
   "source": [
    "After completing this material, you should be able to:\n",
    "\n",
    "1. **Understand the role of nonlinearities in control systems:**\n",
    "   - Identify common static (memoryless) nonlinearities such as saturation, dead-zone, quantization, and Schmitt trigger. \n",
    "   - Distinguish between static nonlinearities and nonlinearities with memory, such as hysteresis.\n",
    "   - Explain why linear analysis tools are insufficient for nonlinear systems and how the describing function method addresses this limitation.\n",
    "\n",
    "2. **Apply the describing function method:**\n",
    "   - Define the describing function \\(N(A)\\) for a nonlinear system.\n",
    "   - Derive the describing function for common nonlinearities, such as saturation and Schmitt triggers.\n",
    "   - Approximate a nonlinear system using its describing function as an amplitude-dependent gain.\n",
    "\n",
    "3. **Analyze limit cycles in nonlinear feedback systems:**\n",
    "   - Recognize how limit cycles can arise in nonlinear feedback systems.\n",
    "   - Identify limit cycles by locating intersections of the polar plot of \\(L(j\\omega)\\) with \\(-1/N(A)\\).\n",
    "   - Predict the amplitude and frequency of limit cycles using the describing function method.\n",
    "\n",
    "4. **Assess the stability of limit cycles:**\n",
    "   - Determine the stability of limit cycles using an extension of the Nyquist stability criterion.\n",
    "   - Identify whether perturbations in amplitude grow or decay, and explain how this determines the stability of a limit cycle.\n",
    "\n",
    "5. **Apply absolute stability criteria for nonlinear feedback systems:**\n",
    "   - Understand the concept of absolute stability for a system with one nonlinearity.\n",
    "   - Use necessary and sufficient conditions for absolute stability, including the circle criterion.\n",
    "   - Analyze absolute stability using Nyquist plots and encirclements of sectors and circles."
   ]
  },
  {
   "cell_type": "markdown",
   "metadata": {},
   "source": [
    "\n",
    "## Required Packages\n"
   ]
  },
  {
   "cell_type": "markdown",
   "metadata": {},
   "source": [
    "\n",
    "Run the following cell to import required packages:"
   ]
  },
  {
   "cell_type": "code",
   "execution_count": null,
   "metadata": {},
   "outputs": [],
   "source": [
    "%pip install numpy matplotlib scipy ipywidgets control IPython sympy\n",
    "\n",
    "import numpy as np\n",
    "import matplotlib.pyplot as plt\n",
    "from ipywidgets import widgets, interactive_output, FloatSlider, HBox, VBox, Checkbox, interact, Dropdown\n",
    "from IPython.display import display, clear_output, HTML\n",
    "from scipy import signal\n",
    "import control\n",
    "import warnings"
   ]
  },
  {
   "cell_type": "markdown",
   "metadata": {},
   "source": [
    "# Motivation"
   ]
  },
  {
   "cell_type": "markdown",
   "metadata": {},
   "source": [
    "Most real-world systems are **nonlinear**, meaning they do not follow the principle of superposition. Until now, we have handled nonlinearities by **linearizing** around equilibrium points, but this approach fails to capture important global behaviors like **limit cycles**.\n",
    "\n",
    "To address this, we introduce the concept of **describing functions**, which approximate nonlinear elements as **amplitude-dependent gains**. This method allows us to predict the existence of **limit cycles**, analyze their stability, and check for **absolute stability** in feedback systems. By the end of this lecture, you will be able to apply describing functions to analyze and understand nonlinear control systems."
   ]
  },
  {
   "cell_type": "markdown",
   "metadata": {},
   "source": [
    "## Common Nonlinearities\n",
    "\n",
    "Nonlinear elements are present in many real-world control systems. Below are some of the most common types of nonlinearities, along with real-life examples for each:\n",
    "\n",
    "1. **Saturation**: When a system's output is limited to a maximum or minimum value.\n",
    "   - **Example**: The throttle of a car can only open between 0% and 100%, regardless of the driver's input.\n",
    "\n",
    "2. **Dead Zone**: A region where small inputs produce no output change.\n",
    "   - **Example**: A joystick in a game controller may have a small range around the neutral position where movement does not affect the game.\n",
    "\n",
    "3. **Quantization**: Continuous signals are mapped to discrete levels.\n",
    "   - **Example**: A digital thermometer rounds continuous temperature measurements to the nearest integer.\n",
    "\n",
    "4. **Hysteresis**: The output depends on the input's history, not just its current value.\n",
    "   - **Example**: A thermostat for home heating switches on below one temperature but only switches off after exceeding a higher temperature.\n",
    "\n",
    "5. **Relay (Switching Nonlinearity)**: The output switches between two distinct levels.\n",
    "   - **Example**: An on-off controller for a streetlight that turns on at dusk and off at dawn.\n",
    "\n",
    "These nonlinearities often arise in practical systems and can significantly affect system behavior, making them essential to understand for control design.\n"
   ]
  },
  {
   "cell_type": "markdown",
   "metadata": {},
   "source": [
    "In the following plot, you can see how different nonlinearities shape the response to a sinusoidal input. Adjust the amplitude \\(A\\) and select a nonlinearity to observe its effect on the system's output."
   ]
  },
  {
   "cell_type": "code",
   "execution_count": null,
   "metadata": {},
   "outputs": [],
   "source": [
    "def plot_nonlinearity(nonlinearity_type='saturation', A=1.5):\n",
    "    \"\"\"\n",
    "    Plots the response of common nonlinear elements to a sinusoidal input.\n",
    "    \n",
    "    Parameters:\n",
    "    - nonlinearity_type: The type of nonlinearity ('saturation', 'dead_zone', 'quantizer', 'hysteresis', 'relay').\n",
    "    - A: Amplitude of the sinusoidal input.\n",
    "    \"\"\"\n",
    "    t = np.linspace(0, 2 * np.pi, 1000)  # Time vector\n",
    "    u = A * np.sin(t)  # Sinusoidal input\n",
    "    \n",
    "    if nonlinearity_type == 'saturation':\n",
    "        y = np.clip(u, -1, 1)  # Saturation limits the output to [-1, 1]\n",
    "    elif nonlinearity_type == 'dead_zone':\n",
    "        dead_zone_width = 0.2  # Width of the dead zone\n",
    "        y = np.where(np.abs(u) < dead_zone_width, 0, u)  # Zero output in the dead zone\n",
    "    elif nonlinearity_type == 'quantizer':\n",
    "        step_size = 0.5  # Size of quantization step\n",
    "        y = np.round(u / step_size) * step_size  # Round input to the nearest multiple of step_size\n",
    "    elif nonlinearity_type == 'hysteresis':\n",
    "        y = np.zeros_like(u)\n",
    "        state = 0  # Start at zero state\n",
    "        for i in range(1, len(u)):\n",
    "            if u[i] > 0.2:\n",
    "                state = 1\n",
    "            elif u[i] < -0.2:\n",
    "                state = -1\n",
    "            y[i] = state  # Hysteresis holds its state\n",
    "    elif nonlinearity_type == 'relay':\n",
    "        relay_threshold = 0.2\n",
    "        y = np.where(u > relay_threshold, 1, np.where(u < -relay_threshold, -1, 0))  # Relay switch\n",
    "    else:\n",
    "        y = u  # Default to no nonlinearity (identity)\n",
    "    \n",
    "    plt.figure(figsize=(8, 4))\n",
    "    plt.plot(t, u, label='Input $u(t)$', linestyle='dashed', color='blue')\n",
    "    plt.plot(t, y, label='Output $y(t)$', color='red')\n",
    "    plt.xlabel('Time (t)')\n",
    "    plt.ylabel('Amplitude')\n",
    "    plt.title(f'Nonlinearity Type: {nonlinearity_type.capitalize()} (A = {A})')\n",
    "    plt.axhline(0, color='black', linewidth=0.5)\n",
    "    plt.axvline(0, color='black', linewidth=0.5)\n",
    "    plt.legend()\n",
    "    plt.grid(True, linestyle='--', linewidth=0.5)\n",
    "    plt.show()\n",
    "\n",
    "# Interactive widget to change nonlinearity type and input amplitude\n",
    "interact(plot_nonlinearity, \n",
    "         nonlinearity_type=Dropdown(options=['saturation', 'dead_zone', 'quantizer', 'hysteresis', 'relay'], \n",
    "                                    value='saturation', \n",
    "                                    description='Nonlinearity:'),\n",
    "         A=FloatSlider(min=0.5, max=3, step=0.1, value=1.5, description='Amplitude (A)'))"
   ]
  }
 ],
 "metadata": {
  "kernelspec": {
   "display_name": "CS1_TA",
   "language": "python",
   "name": "python3"
  },
  "language_info": {
   "codemirror_mode": {
    "name": "ipython",
    "version": 3
   },
   "file_extension": ".py",
   "mimetype": "text/x-python",
   "name": "python",
   "nbconvert_exporter": "python",
   "pygments_lexer": "ipython3",
   "version": "3.11.9"
  }
 },
 "nbformat": 4,
 "nbformat_minor": 2
}
